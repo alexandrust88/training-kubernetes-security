{
 "cells": [
  {
   "cell_type": "markdown",
   "metadata": {},
   "source": [
    "**This notebook is covered by the following [license](License.ipynb)  This note must not be removed**"
   ]
  },
  {
   "cell_type": "markdown",
   "metadata": {},
   "source": [
    "# Installing a restricted account\n",
    "\n",
    "# __WARNING__\n",
    "\n",
    "It is extremely easy to create a \n",
    "\n",
    "see [Jeff Geeling: Everyone might be cluster admin your kubernetes cluster](https://www.jeffgeerling.com/blog/2020/everyone-might-be-cluster-admin-your-kubernetes-cluster)\n",
    "\n",
    "\n",
    "Following [Armory Spinnaker Installation](https://docs.armory.io/spinnaker-install-admin-guides/manual-service-account/)"
   ]
  },
  {
   "cell_type": "code",
   "execution_count": 1,
   "metadata": {},
   "outputs": [],
   "source": [
    "SOURCENAMESPACE=my-namespace\n",
    "TARGETNAMESPACE=$SOURCENAMESPACE\n",
    "SERVICEACCOUNT=my-serviceaccount\n",
    "ROLE=my-role\n",
    "ROLEBINDING=my-rolebinding"
   ]
  },
  {
   "cell_type": "code",
   "execution_count": 2,
   "metadata": {},
   "outputs": [
    {
     "name": "stdout",
     "output_type": "stream",
     "text": [
      "namespace/my-namespace created\n"
     ]
    }
   ],
   "source": [
    "kubectl create namespace $TARGETNAMESPACE"
   ]
  },
  {
   "cell_type": "code",
   "execution_count": 3,
   "metadata": {},
   "outputs": [
    {
     "name": "stdout",
     "output_type": "stream",
     "text": [
      "serviceaccount/my-serviceaccount created\n"
     ]
    }
   ],
   "source": [
    "kubectl create serviceaccount --namespace=$SOURCENAMESPACE $SERVICEACCOUNT"
   ]
  },
  {
   "cell_type": "code",
   "execution_count": 4,
   "metadata": {},
   "outputs": [
    {
     "name": "stdout",
     "output_type": "stream",
     "text": [
      "NAME                SECRETS   AGE\n",
      "default             1         8s\n",
      "my-serviceaccount   1         3s\n"
     ]
    }
   ],
   "source": [
    "kubectl get  serviceaccount --namespace=$SOURCENAMESPACE"
   ]
  },
  {
   "cell_type": "markdown",
   "metadata": {},
   "source": [
    "## Create ClusterAdmin Binding\n",
    "\n",
    "Creating a **ClusterRoleBinding** to the **ClusterRole** named **cluster-admin** is dangerous. \n",
    "\n",
    "Effectively the serviceaccount becomes allmighty\n",
    "\n",
    "**It it essential to have different accounts, otherwise the cannot be removed later**\n",
    "\n"
   ]
  },
  {
   "cell_type": "markdown",
   "metadata": {},
   "source": [
    "**don't**\n",
    "```yaml\n",
    "kubectl delete -f - <<EOF\n",
    "apiVersion: rbac.authorization.k8s.io/v1beta1\n",
    "kind: ClusterRoleBinding\n",
    "metadata:\n",
    "  name: my-admin\n",
    "roleRef:\n",
    "  apiGroup: rbac.authorization.k8s.io\n",
    "  kind: ClusterRole\n",
    "  name: cluster-admin\n",
    "subjects:\n",
    "- kind: ServiceAccount\n",
    "  name: $SERVICEACCOUNT\n",
    "  namespace: $SOURCENAMESPACE\n",
    "```"
   ]
  },
  {
   "cell_type": "markdown",
   "metadata": {},
   "source": [
    "## Namespace restricted roles\n",
    "\n",
    "Try to use only roles with **RoleBindings** to a certain namespace. The **Role** and their **rules** can be changed later.\n",
    "\n",
    "[Kubernetes RBAC](https://kubernetes.io/docs/reference/access-authn-authz/rbac/)"
   ]
  },
  {
   "cell_type": "code",
   "execution_count": 5,
   "metadata": {},
   "outputs": [
    {
     "name": "stdout",
     "output_type": "stream",
     "text": [
      "role.rbac.authorization.k8s.io/my-role created\n",
      "rolebinding.rbac.authorization.k8s.io/my-rolebinding created\n"
     ]
    }
   ],
   "source": [
    "kubectl create -f - <<EOF\n",
    "---\n",
    "apiVersion: rbac.authorization.k8s.io/v1\n",
    "kind: Role\n",
    "metadata:\n",
    "  name: ${ROLE}\n",
    "  namespace: ${TARGETNAMESPACE} # Should be namespace you are granting access to\n",
    "rules:\n",
    "- apiGroups: [\"*\"]\n",
    "  resources: [\"*\"]\n",
    "  verbs: [\"*\"]\n",
    "---\n",
    "apiVersion: rbac.authorization.k8s.io/v1\n",
    "kind: RoleBinding\n",
    "metadata:\n",
    "  name: ${ROLEBINDING}\n",
    "  namespace: $TARGETNAMESPACE # Should be namespace you are granting access to\n",
    "roleRef:\n",
    "  apiGroup: rbac.authorization.k8s.io\n",
    "  kind: Role\n",
    "  name: ${ROLE} # Should match name of Role\n",
    "subjects:\n",
    "- namespace: ${SOURCENAMESPACE} # Should match namespace where SA lives\n",
    "  kind: ServiceAccount\n",
    "  name: ${SERVICEACCOUNT} # Should match service account name, above\n",
    "EOF"
   ]
  },
  {
   "cell_type": "markdown",
   "metadata": {},
   "source": [
    "Please edit to your needs\n"
   ]
  },
  {
   "cell_type": "code",
   "execution_count": 6,
   "metadata": {},
   "outputs": [
    {
     "name": "stdout",
     "output_type": "stream",
     "text": [
      "apiVersion: v1\n",
      "clusters:\n",
      "- cluster:\n",
      "    certificate-authority: /var/lib/minikube/certs/ca.crt\n",
      "    server: https://localhost:8443\n",
      "  name: \"minikube\"\n",
      "contexts:\n",
      "- context:\n",
      "    cluster: \"minikube\"\n",
      "    user: \"minikube\"\n",
      "  name: \"minikube\"\n",
      "current-context: \"minikube\"\n",
      "kind: Config\n",
      "preferences: {}\n",
      "users:\n",
      "- name: \"minikube\"\n",
      "  user:\n",
      "    client-certificate: /var/lib/minikube/certs/apiserver.crt\n",
      "    client-key: /var/lib/minikube/certs/apiserver.key\n"
     ]
    }
   ],
   "source": [
    "# fix kube config\n",
    "sed -i 's/\\\"\\\"/\\\"minikube\\\"/' /root/.kube/config\n",
    "cat /root/.kube/config"
   ]
  },
  {
   "cell_type": "code",
   "execution_count": 7,
   "metadata": {},
   "outputs": [
    {
     "name": "stdout",
     "output_type": "stream",
     "text": [
      "minikube\n"
     ]
    }
   ],
   "source": [
    "CONTEXT=$(kubectl config current-context)\n",
    "echo $CONTEXT\n",
    "NAMESPACE=$SOURCENAMESPACE\n",
    "\n",
    "NEW_CONTEXT=my-context\n",
    "KUBECONFIG=my-kubeconfig"
   ]
  },
  {
   "cell_type": "code",
   "execution_count": 8,
   "metadata": {},
   "outputs": [],
   "source": [
    "SECRET=$(kubectl get serviceaccount ${SERVICEACCOUNT} \\\n",
    "  --context ${CONTEXT} \\\n",
    "  --namespace ${NAMESPACE} \\\n",
    "  -o jsonpath='{.secrets[0].name}')\n",
    "TOKEN_DATA=$(kubectl get secret ${SECRET} \\\n",
    "  --context ${CONTEXT} \\\n",
    "  --namespace ${NAMESPACE} \\\n",
    "  -o jsonpath='{.data.token}')\n",
    "\n",
    "TOKEN=$(echo ${TOKEN_DATA} | base64 --decode)\n",
    "\n"
   ]
  },
  {
   "cell_type": "code",
   "execution_count": 9,
   "metadata": {},
   "outputs": [
    {
     "name": "stdout",
     "output_type": "stream",
     "text": [
      "ZXlKaGJHY2lPaUpTVXpJMU5pSXNJbXRwWkNJNkluazJRalJYYzJKVFRGVlVibE4zWTAweloyUldOWFpsZGtaRmJFUkxOV1IzTUdaaGVVOUZXWEpyZUdzaWZRLmV5SnBjM01pT2lKcmRXSmxjbTVsZEdWekwzTmxjblpwWTJWaFkyTnZkVzUwSWl3aWEzVmlaWEp1WlhSbGN5NXBieTl6WlhKMmFXTmxZV05qYjNWdWRDOXVZVzFsYzNCaFkyVWlPaUp0ZVMxdVlXMWxjM0JoWTJVaUxDSnJkV0psY201bGRHVnpMbWx2TDNObGNuWnBZMlZoWTJOdmRXNTBMM05sWTNKbGRDNXVZVzFsSWpvaWJYa3RjMlZ5ZG1salpXRmpZMjkxYm5RdGRHOXJaVzR0T1RjNGNHY2lMQ0pyZFdKbGNtNWxkR1Z6TG1sdkwzTmxjblpwWTJWaFkyTnZkVzUwTDNObGNuWnBZMlV0WVdOamIzVnVkQzV1WVcxbElqb2liWGt0YzJWeWRtbGpaV0ZqWTI5MWJuUWlMQ0pyZFdKbGNtNWxkR1Z6TG1sdkwzTmxjblpwWTJWaFkyTnZkVzUwTDNObGNuWnBZMlV0WVdOamIzVnVkQzUxYVdRaU9pSXdZamN4Wm1ReVppMHlaVGxoTFRSbU5UTXRPVGd4TVMwellXUXpORFEyWkdKaE1qUWlMQ0p6ZFdJaU9pSnplWE4wWlcwNmMyVnlkbWxqWldGalkyOTFiblE2YlhrdGJtRnRaWE53WVdObE9tMTVMWE5sY25acFkyVmhZMk52ZFc1MEluMC5PZlFkZ2VXWHozNGNUS0ktR25pR25LZ01hS0I4V2tPRW1teWdfOG5TN2RkeWVQOVBZbEhUY3dCVUFRUmVNWllWejRqVlk5NVhnS2RoczhuYVdObDdWZ3R4bmh4WGpZMnhJV1pPYmVTTlJ0OXZjMGZTcDFwNmJjY2tVaTZnVlVmZ0R2amg5LVdPUDRDQktOR2JkQUVma1VFY0M0ZVFIRkRLbnhrWFB2RGlfZFlXbVJDNkk3cVJaeGI1Wk9RSFl3X0Jyd3YzQXVyeGFHZU52UUJPZFZWUzdCR3BZTFFDNE1aMlB5bVJ0THJ4Zkhlb0RTMEN1akc1ZUpyMHVnSWFrWlllYTNsb3V5dDBQdlhkc2YwMkpXSVdFN0RSejZMVUdhTllGY3JXSFYxcWR1QUF5c1BNZ3NiN2w0R3dMdmN6X0FYUUJEQ0s0cHdfU1kzSWdlNmVSVEh6ZEE=\n"
     ]
    }
   ],
   "source": [
    "echo $TOKEN_DATA"
   ]
  },
  {
   "cell_type": "markdown",
   "metadata": {},
   "source": [
    "## **Create a dedicated kubeconfig**\n",
    "\n",
    "Starting with a full copy"
   ]
  },
  {
   "cell_type": "code",
   "execution_count": 10,
   "metadata": {},
   "outputs": [
    {
     "name": "stdout",
     "output_type": "stream",
     "text": [
      "my-kubeconfig\n"
     ]
    }
   ],
   "source": [
    "echo $KUBECONFIG"
   ]
  },
  {
   "cell_type": "code",
   "execution_count": 11,
   "metadata": {},
   "outputs": [],
   "source": [
    "\n",
    "kubectl config view --raw > ${KUBECONFIG}.full.tmp"
   ]
  },
  {
   "cell_type": "markdown",
   "metadata": {},
   "source": [
    "Switch working context to correct context"
   ]
  },
  {
   "cell_type": "code",
   "execution_count": 12,
   "metadata": {},
   "outputs": [
    {
     "name": "stdout",
     "output_type": "stream",
     "text": [
      "Switched to context \"minikube\".\n"
     ]
    }
   ],
   "source": [
    "kubectl --kubeconfig ${KUBECONFIG}.full.tmp config use-context ${CONTEXT}"
   ]
  },
  {
   "cell_type": "markdown",
   "metadata": {},
   "source": [
    "Minify and flatten the config"
   ]
  },
  {
   "cell_type": "code",
   "execution_count": 13,
   "metadata": {},
   "outputs": [],
   "source": [
    "kubectl --kubeconfig ${KUBECONFIG}.full.tmp \\\n",
    "  config view --flatten --minify > ${KUBECONFIG}.tmp"
   ]
  },
  {
   "cell_type": "code",
   "execution_count": 14,
   "metadata": {},
   "outputs": [
    {
     "name": "stdout",
     "output_type": "stream",
     "text": [
      "apiVersion: v1\n",
      "clusters:\n",
      "- cluster:\n",
      "    certificate-authority-data: LS0tLS1CRUdJTiBDRVJUSUZJQ0FURS0tLS0tCk1JSURCakNDQWU2Z0F3SUJBZ0lCQVRBTkJna3Foa2lHOXcwQkFRc0ZBREFWTVJNd0VRWURWUVFERXdwdGFXNXAKYTNWaVpVTkJNQjRYRFRJeE1ERXhNekV4TVRjME9Gb1hEVE14TURFeE1qRXhNVGMwT0Zvd0ZURVRNQkVHQTFVRQpBeE1LYldsdWFXdDFZbVZEUVRDQ0FTSXdEUVlKS29aSWh2Y05BUUVCQlFBRGdnRVBBRENDQVFvQ2dnRUJBS0x0CkVtakcrN0FGb1hsNGRUSWFweDJIVVdoM0p1ODBmWDB0ZGNGZVFEQ3JUYzRkTVgrcW83R3Y4d3VYWmhGdWtMSjIKU1FLSXF6S0ZOM0NPbWtPV2FUTGFraWtkWnBHdmZicmlFR2Rxd3R6a1JvYm1UMEZvMndXWkl2ZjE2UFFnZlhGcApjRG5vbXBnVWVhempkK3BQc3RQbWJ6SlBTUy8zMU9iYXNMaVhLMnhrU2l2MUxKQ2hFcHdMYUtPVFc5UXV2R2RkCmt0R2ZmTEI5NFJGSWtXQzhLOHAyZHBCd0hNMlMzcVdOeitmRDhXK3kycllCRDlLTG5xSC81Qkk4T01TTlhtWisKVHZpb3QrSm40MEZzb1NGek9KdWlHeTBvZERFS0NOejAvN1V2Tm14UUZNbFVHN0lWSjgyWGNseDVIM0RaMFFGdwpSY1Z2NFFpSmFONGRSWC9yT3ZVQ0F3RUFBYU5oTUY4d0RnWURWUjBQQVFIL0JBUURBZ0trTUIwR0ExVWRKUVFXCk1CUUdDQ3NHQVFVRkJ3TUNCZ2dyQmdFRkJRY0RBVEFQQmdOVkhSTUJBZjhFQlRBREFRSC9NQjBHQTFVZERnUVcKQkJScytybmhjN25nVCtjQkV4S0xvMzMvc3B5N2V6QU5CZ2txaGtpRzl3MEJBUXNGQUFPQ0FRRUFRUk5tM2pqYQpJNVpQYVJpdHFHdDFzcVJTMEFqUVpMNUpoK0RIMXAyMG1acWhMTVZkVjFpR2xVZkVib3c5cFVxaHhGQ2ExejBFClczakswRDRSMk5BUVVpVlYyVXBLYmJUY2szV0JWSU1ZcGNTZ3hIM1g2V2FnUG1iZ1VHczFWRlFUZGp6aWh1TkYKV3VsM3gzU1c4T0x0RjA3MnErRXVlLzZ5M0pOZ2ZQL0QwSlRTNXg4QndCeUlXK1ZRY0ZhMkZ0UDJmZ016dENDRApPNTQ4ajlKWEJLS3RaUVI5byt2QjBza1VtN3VpUUdYTElwdmZ1WWY4TjBCeGZGbnBjTDErN21sYlRiSk5YM2htCk40NjZvUUhtcjRmSGRFMjROVEFSU2JnUkdhYWxXUjhZbFdrSzg1czQ4U0dUWmVUZzUvSnFQWmd6MmZRNnhvenQKSFFqbWtpK0JJOTZYWHc9PQotLS0tLUVORCBDRVJUSUZJQ0FURS0tLS0tCg==\n",
      "    server: https://localhost:8443\n",
      "  name: minikube\n",
      "contexts:\n",
      "- context:\n",
      "    cluster: minikube\n",
      "    user: minikube\n",
      "  name: minikube\n",
      "current-context: minikube\n",
      "kind: Config\n",
      "preferences: {}\n",
      "users:\n",
      "- name: minikube\n",
      "  user:\n",
      "    client-certificate-data: LS0tLS1CRUdJTiBDRVJUSUZJQ0FURS0tLS0tCk1JSUQzRENDQXNTZ0F3SUJBZ0lCQWpBTkJna3Foa2lHOXcwQkFRc0ZBREFWTVJNd0VRWURWUVFERXdwdGFXNXAKYTNWaVpVTkJNQjRYRFRJeE1ERXlOekV3TURBeE1Wb1hEVEl5TURFeU9ERXdNREF4TVZvd0xERVhNQlVHQTFVRQpDaE1PYzNsemRHVnRPbTFoYzNSbGNuTXhFVEFQQmdOVkJBTVRDRzFwYm1scmRXSmxNSUlCSWpBTkJna3Foa2lHCjl3MEJBUUVGQUFPQ0FROEFNSUlCQ2dLQ0FRRUEweHZUczRRbDZVN0JSeVFRNjRON3doZUhsTVVjQjg3N2Rnd3MKYjVBUkJhdEtPRkJ0OFlUUjk5aUNLVlRWVlBlUytkQjFvT01EVzRFcFFPMWlvNnY1ZXhxVVVhaVNTU1NxdHNqRQpqd0MzWWFNTzU1ajJzUnF1cXNmQ1VEMjNUZ2s0d1lNU1ltUTJPbStjaW1KRHZIZ3hDRldySnVoWVI3dWdVVkVVClgyYjFBbkUyNjk5cG82czFIWExHT2pqbFZiYldzVk4xVGljK1VEektsbkJ3K2pONmc0cTBvcWJqZEVTVERkSFEKMVlCUjhuUHR6Z3I0RDNOcTJzZ0p5bjRhcXptSWxDU3lRckxqa0ZrOFhOYWpLWU5BMEtFdzVoNU96RGlFUkxSYQpSSjdjSUo4M0QyelhFbzlFSUVsUFNVRWMwM0NOMmNaKzltRjJmOE41ZVBZeXA0eHJHd0lEQVFBQm80SUJIakNDCkFSb3dEZ1lEVlIwUEFRSC9CQVFEQWdXZ01CMEdBMVVkSlFRV01CUUdDQ3NHQVFVRkJ3TUJCZ2dyQmdFRkJRY0QKQWpBTUJnTlZIUk1CQWY4RUFqQUFNQjhHQTFVZEl3UVlNQmFBRkd6NnVlRnp1ZUJQNXdFVEVvdWpmZit5bkx0NwpNSUc1QmdOVkhSRUVnYkV3Z2E2Q0NtMXBibWxyZFdKbFEwR0NIMk52Ym5SeWIyd3RjR3hoYm1VdWJXbHVhV3QxClltVXVhVzUwWlhKdVlXeUNKR3QxWW1WeWJtVjBaWE11WkdWbVlYVnNkQzV6ZG1NdVkyeDFjM1JsY2k1c2IyTmgKYklJV2EzVmlaWEp1WlhSbGN5NWtaV1poZFd4MExuTjJZNElTYTNWaVpYSnVaWFJsY3k1a1pXWmhkV3gwZ2dwcgpkV0psY201bGRHVnpnZ2xzYjJOaGJHaHZjM1NIQk1Db01RS0hCQXBnQUFHSEJIOEFBQUdIQkFvQUFBRXdEUVlKCktvWklodmNOQVFFTEJRQURnZ0VCQUFreG04cjFmUXYyVkpVNFFjZi82MXlRbDkzU09Jdy9CUGxqVURQMW9uZ1EKQ2h0c3Zyamp6MFVOUEtDcWZBSFB0aE8yditUdHIyU3BBYmtWRDlKWllBUzNVMWJMUFdZSVVXRlhoL1BzczZaUApKYUtlcG9NVFFZa3RHdkZLa2djcTY1MkFQclpVYkZlRFI2T1VJR1RkM05PTzdXQ29VRnUySWJWMUMxSnpGNmhOCjBQSzZ5THpJR0ZqK3BjaTd0NzhJdkJST2FkYkJEN1cvMCt3YmRpenU3UDdRRkxLVEFadU5kSzhEalBUZm05SXMKK3dXdk9rdnJ4amdVNC9GT3lQU0hESHdhcHpWczN4RjFIU0svR1VQNzhrd05TeVJRa1psaVFEYXpCNmdSNCtwcApSU09HbUVRVGtQZGdzTnpYejdWWmxDeVBWOHkyRVMyWTJQblJJekVSTXdRPQotLS0tLUVORCBDRVJUSUZJQ0FURS0tLS0tCg==\n",
      "    client-key-data: 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\n"
     ]
    }
   ],
   "source": [
    "cat ${KUBECONFIG}.tmp"
   ]
  },
  {
   "cell_type": "markdown",
   "metadata": {},
   "source": [
    "Rename context"
   ]
  },
  {
   "cell_type": "code",
   "execution_count": 15,
   "metadata": {},
   "outputs": [
    {
     "name": "stdout",
     "output_type": "stream",
     "text": [
      "Context \"minikube\" renamed to \"my-context\".\n"
     ]
    }
   ],
   "source": [
    "kubectl config --kubeconfig ${KUBECONFIG}.tmp \\\n",
    "  rename-context ${CONTEXT} ${NEW_CONTEXT}"
   ]
  },
  {
   "cell_type": "markdown",
   "metadata": {},
   "source": [
    "Set the user credentials for the user created\n"
   ]
  },
  {
   "cell_type": "code",
   "execution_count": 16,
   "metadata": {},
   "outputs": [
    {
     "name": "stdout",
     "output_type": "stream",
     "text": [
      "User \"minikube-my-namespace-token-user\" set.\n"
     ]
    }
   ],
   "source": [
    "kubectl config --kubeconfig ${KUBECONFIG}.tmp \\\n",
    "  set-credentials ${CONTEXT}-${NAMESPACE}-token-user \\\n",
    "  --token ${TOKEN}"
   ]
  },
  {
   "cell_type": "markdown",
   "metadata": {},
   "source": [
    "Set context to use token user"
   ]
  },
  {
   "cell_type": "code",
   "execution_count": 17,
   "metadata": {},
   "outputs": [
    {
     "name": "stdout",
     "output_type": "stream",
     "text": [
      "Context \"my-context\" modified.\n"
     ]
    }
   ],
   "source": [
    "kubectl config --kubeconfig ${KUBECONFIG}.tmp \\\n",
    "  set-context ${NEW_CONTEXT} --user ${CONTEXT}-${NAMESPACE}-token-user"
   ]
  },
  {
   "cell_type": "markdown",
   "metadata": {},
   "source": [
    "Set context to correct namespace"
   ]
  },
  {
   "cell_type": "code",
   "execution_count": 18,
   "metadata": {},
   "outputs": [
    {
     "name": "stdout",
     "output_type": "stream",
     "text": [
      "Context \"my-context\" modified.\n"
     ]
    }
   ],
   "source": [
    "kubectl config --kubeconfig ${KUBECONFIG}.tmp \\\n",
    "  set-context ${NEW_CONTEXT} --namespace ${NAMESPACE}"
   ]
  },
  {
   "cell_type": "markdown",
   "metadata": {},
   "source": [
    "Flatten/minify kubeconfig\n"
   ]
  },
  {
   "cell_type": "code",
   "execution_count": 19,
   "metadata": {},
   "outputs": [],
   "source": [
    "kubectl config --kubeconfig ${KUBECONFIG}.tmp \\\n",
    "  view --flatten --minify > ${KUBECONFIG}"
   ]
  },
  {
   "cell_type": "markdown",
   "metadata": {},
   "source": [
    "cleanup"
   ]
  },
  {
   "cell_type": "code",
   "execution_count": 20,
   "metadata": {},
   "outputs": [],
   "source": [
    "rm ${KUBECONFIG}.full.tmp\n",
    "rm ${KUBECONFIG}.tmp"
   ]
  },
  {
   "cell_type": "code",
   "execution_count": 21,
   "metadata": {},
   "outputs": [
    {
     "name": "stdout",
     "output_type": "stream",
     "text": [
      "No resources found in my-namespace namespace.\n"
     ]
    }
   ],
   "source": [
    "kubectl --kubeconfig ${KUBECONFIG} get pods"
   ]
  },
  {
   "cell_type": "code",
   "execution_count": 22,
   "metadata": {},
   "outputs": [
    {
     "name": "stdout",
     "output_type": "stream",
     "text": [
      "Error from server (Forbidden): pods is forbidden: User \"system:serviceaccount:my-namespace:my-serviceaccount\" cannot list resource \"pods\" in API group \"\" at the cluster scope\n"
     ]
    },
    {
     "ename": "",
     "evalue": "1",
     "output_type": "error",
     "traceback": []
    }
   ],
   "source": [
    "kubectl --kubeconfig ${KUBECONFIG} get pods -A"
   ]
  },
  {
   "cell_type": "code",
   "execution_count": 23,
   "metadata": {},
   "outputs": [
    {
     "name": "stdout",
     "output_type": "stream",
     "text": [
      "apiVersion: v1\n",
      "clusters:\n",
      "- cluster:\n",
      "    certificate-authority-data: LS0tLS1CRUdJTiBDRVJUSUZJQ0FURS0tLS0tCk1JSURCakNDQWU2Z0F3SUJBZ0lCQVRBTkJna3Foa2lHOXcwQkFRc0ZBREFWTVJNd0VRWURWUVFERXdwdGFXNXAKYTNWaVpVTkJNQjRYRFRJeE1ERXhNekV4TVRjME9Gb1hEVE14TURFeE1qRXhNVGMwT0Zvd0ZURVRNQkVHQTFVRQpBeE1LYldsdWFXdDFZbVZEUVRDQ0FTSXdEUVlKS29aSWh2Y05BUUVCQlFBRGdnRVBBRENDQVFvQ2dnRUJBS0x0CkVtakcrN0FGb1hsNGRUSWFweDJIVVdoM0p1ODBmWDB0ZGNGZVFEQ3JUYzRkTVgrcW83R3Y4d3VYWmhGdWtMSjIKU1FLSXF6S0ZOM0NPbWtPV2FUTGFraWtkWnBHdmZicmlFR2Rxd3R6a1JvYm1UMEZvMndXWkl2ZjE2UFFnZlhGcApjRG5vbXBnVWVhempkK3BQc3RQbWJ6SlBTUy8zMU9iYXNMaVhLMnhrU2l2MUxKQ2hFcHdMYUtPVFc5UXV2R2RkCmt0R2ZmTEI5NFJGSWtXQzhLOHAyZHBCd0hNMlMzcVdOeitmRDhXK3kycllCRDlLTG5xSC81Qkk4T01TTlhtWisKVHZpb3QrSm40MEZzb1NGek9KdWlHeTBvZERFS0NOejAvN1V2Tm14UUZNbFVHN0lWSjgyWGNseDVIM0RaMFFGdwpSY1Z2NFFpSmFONGRSWC9yT3ZVQ0F3RUFBYU5oTUY4d0RnWURWUjBQQVFIL0JBUURBZ0trTUIwR0ExVWRKUVFXCk1CUUdDQ3NHQVFVRkJ3TUNCZ2dyQmdFRkJRY0RBVEFQQmdOVkhSTUJBZjhFQlRBREFRSC9NQjBHQTFVZERnUVcKQkJScytybmhjN25nVCtjQkV4S0xvMzMvc3B5N2V6QU5CZ2txaGtpRzl3MEJBUXNGQUFPQ0FRRUFRUk5tM2pqYQpJNVpQYVJpdHFHdDFzcVJTMEFqUVpMNUpoK0RIMXAyMG1acWhMTVZkVjFpR2xVZkVib3c5cFVxaHhGQ2ExejBFClczakswRDRSMk5BUVVpVlYyVXBLYmJUY2szV0JWSU1ZcGNTZ3hIM1g2V2FnUG1iZ1VHczFWRlFUZGp6aWh1TkYKV3VsM3gzU1c4T0x0RjA3MnErRXVlLzZ5M0pOZ2ZQL0QwSlRTNXg4QndCeUlXK1ZRY0ZhMkZ0UDJmZ016dENDRApPNTQ4ajlKWEJLS3RaUVI5byt2QjBza1VtN3VpUUdYTElwdmZ1WWY4TjBCeGZGbnBjTDErN21sYlRiSk5YM2htCk40NjZvUUhtcjRmSGRFMjROVEFSU2JnUkdhYWxXUjhZbFdrSzg1czQ4U0dUWmVUZzUvSnFQWmd6MmZRNnhvenQKSFFqbWtpK0JJOTZYWHc9PQotLS0tLUVORCBDRVJUSUZJQ0FURS0tLS0tCg==\n",
      "    server: https://localhost:8443\n",
      "  name: minikube\n",
      "contexts:\n",
      "- context:\n",
      "    cluster: minikube\n",
      "    namespace: my-namespace\n",
      "    user: minikube-my-namespace-token-user\n",
      "  name: my-context\n",
      "current-context: my-context\n",
      "kind: Config\n",
      "preferences: {}\n",
      "users:\n",
      "- name: minikube-my-namespace-token-user\n",
      "  user:\n",
      "    token: eyJhbGciOiJSUzI1NiIsImtpZCI6Ink2QjRXc2JTTFVUblN3Y00zZ2RWNXZldkZFbERLNWR3MGZheU9FWXJreGsifQ.eyJpc3MiOiJrdWJlcm5ldGVzL3NlcnZpY2VhY2NvdW50Iiwia3ViZXJuZXRlcy5pby9zZXJ2aWNlYWNjb3VudC9uYW1lc3BhY2UiOiJteS1uYW1lc3BhY2UiLCJrdWJlcm5ldGVzLmlvL3NlcnZpY2VhY2NvdW50L3NlY3JldC5uYW1lIjoibXktc2VydmljZWFjY291bnQtdG9rZW4tOTc4cGciLCJrdWJlcm5ldGVzLmlvL3NlcnZpY2VhY2NvdW50L3NlcnZpY2UtYWNjb3VudC5uYW1lIjoibXktc2VydmljZWFjY291bnQiLCJrdWJlcm5ldGVzLmlvL3NlcnZpY2VhY2NvdW50L3NlcnZpY2UtYWNjb3VudC51aWQiOiIwYjcxZmQyZi0yZTlhLTRmNTMtOTgxMS0zYWQzNDQ2ZGJhMjQiLCJzdWIiOiJzeXN0ZW06c2VydmljZWFjY291bnQ6bXktbmFtZXNwYWNlOm15LXNlcnZpY2VhY2NvdW50In0.OfQdgeWXz34cTKI-GniGnKgMaKB8WkOEmmyg_8nS7ddyeP9PYlHTcwBUAQReMZYVz4jVY95XgKdhs8naWNl7VgtxnhxXjY2xIWZObeSNRt9vc0fSp1p6bcckUi6gVUfgDvjh9-WOP4CBKNGbdAEfkUEcC4eQHFDKnxkXPvDi_dYWmRC6I7qRZxb5ZOQHYw_Brwv3AurxaGeNvQBOdVVS7BGpYLQC4MZ2PymRtLrxfHeoDS0CujG5eJr0ugIakZYea3louyt0PvXdsf02JWIWE7DRz6LUGaNYFcrWHV1qduAAysPMgsb7l4GwLvcz_AXQBDCK4pw_SY3Ige6eRTHzdA\n"
     ]
    }
   ],
   "source": [
    "cat ${KUBECONFIG}"
   ]
  },
  {
   "cell_type": "code",
   "execution_count": 24,
   "metadata": {},
   "outputs": [
    {
     "name": "stdout",
     "output_type": "stream",
     "text": [
      "No resources found in my-namespace namespace.\n"
     ]
    }
   ],
   "source": [
    "kubectl --kubeconfig ${KUBECONFIG} get pods "
   ]
  },
  {
   "cell_type": "code",
   "execution_count": 25,
   "metadata": {},
   "outputs": [
    {
     "name": "stdout",
     "output_type": "stream",
     "text": [
      "pod/nginx2 created\n"
     ]
    }
   ],
   "source": [
    "kubectl --kubeconfig ${KUBECONFIG}  run nginx2 --image=nginx --port=80"
   ]
  },
  {
   "cell_type": "code",
   "execution_count": 27,
   "metadata": {},
   "outputs": [
    {
     "name": "stdout",
     "output_type": "stream",
     "text": [
      "NAMESPACE      NAME                                          READY   STATUS    RESTARTS   AGE\n",
      "default        nginx-deployment-6799fc88d8-cthtm             1/1     Running   0          34m\n",
      "default        nginx-hostnetwork-deployment-db7654df-88wgs   1/1     Running   0          56m\n",
      "default        nginx-other-deployment-6799fc88d8-27zdq       1/1     Running   0          46m\n",
      "default        nginx-strict-747fbd9b9b-6bc5m                 1/1     Running   0          40m\n",
      "kube-system    coredns-74ff55c5b-hh6tc                       1/1     Running   0          3h47m\n",
      "kube-system    etcd-minikube                                 1/1     Running   0          3h47m\n",
      "kube-system    kube-controller-manager-minikube              1/1     Running   0          3h47m\n",
      "kube-system    kube-proxy-djvpf                              1/1     Running   0          3h47m\n",
      "kube-system    kube-scheduler-minikube                       1/1     Running   0          3h47m\n",
      "kube-system    storage-provisioner                           1/1     Running   2          3h47m\n",
      "my-namespace   nginx2                                        1/1     Running   0          18s\n"
     ]
    }
   ],
   "source": [
    "kubectl get pods -A"
   ]
  },
  {
   "cell_type": "code",
   "execution_count": 28,
   "metadata": {},
   "outputs": [
    {
     "name": "stdout",
     "output_type": "stream",
     "text": [
      "NAME     READY   STATUS    RESTARTS   AGE\n",
      "nginx2   1/1     Running   0          36s\n"
     ]
    }
   ],
   "source": [
    "kubectl --kubeconfig ${KUBECONFIG} get pods"
   ]
  },
  {
   "cell_type": "code",
   "execution_count": 29,
   "metadata": {},
   "outputs": [
    {
     "name": "stdout",
     "output_type": "stream",
     "text": [
      "NAME                            TYPE                                  DATA   AGE\n",
      "default-token-z9qrq             kubernetes.io/service-account-token   3      23m\n",
      "my-serviceaccount-token-978pg   kubernetes.io/service-account-token   3      23m\n"
     ]
    }
   ],
   "source": [
    "kubectl --kubeconfig ${KUBECONFIG} get secrets"
   ]
  },
  {
   "cell_type": "code",
   "execution_count": 30,
   "metadata": {},
   "outputs": [
    {
     "name": "stdout",
     "output_type": "stream",
     "text": [
      "Error from server (Forbidden): deployments.apps is forbidden: User \"system:serviceaccount:my-namespace:my-serviceaccount\" cannot list resource \"deployments\" in API group \"apps\" in the namespace \"default\"\n"
     ]
    },
    {
     "ename": "",
     "evalue": "1",
     "output_type": "error",
     "traceback": []
    }
   ],
   "source": [
    "kubectl --kubeconfig ${KUBECONFIG} --namespace default get deployment"
   ]
  },
  {
   "cell_type": "code",
   "execution_count": 31,
   "metadata": {},
   "outputs": [
    {
     "name": "stdout",
     "output_type": "stream",
     "text": [
      "Error from server (Forbidden): pods is forbidden: User \"system:serviceaccount:my-namespace:my-serviceaccount\" cannot create resource \"pods\" in API group \"\" in the namespace \"default\"\n"
     ]
    },
    {
     "ename": "",
     "evalue": "1",
     "output_type": "error",
     "traceback": []
    }
   ],
   "source": [
    "kubectl --kubeconfig ${KUBECONFIG}  --namespace default run nginx2 --image=nginx --port=80 "
   ]
  },
  {
   "cell_type": "code",
   "execution_count": 32,
   "metadata": {},
   "outputs": [
    {
     "name": "stdout",
     "output_type": "stream",
     "text": [
      "apiVersion: v1\n",
      "clusters:\n",
      "- cluster:\n",
      "    certificate-authority-data: LS0tLS1CRUdJTiBDRVJUSUZJQ0FURS0tLS0tCk1JSURCakNDQWU2Z0F3SUJBZ0lCQVRBTkJna3Foa2lHOXcwQkFRc0ZBREFWTVJNd0VRWURWUVFERXdwdGFXNXAKYTNWaVpVTkJNQjRYRFRJeE1ERXhNekV4TVRjME9Gb1hEVE14TURFeE1qRXhNVGMwT0Zvd0ZURVRNQkVHQTFVRQpBeE1LYldsdWFXdDFZbVZEUVRDQ0FTSXdEUVlKS29aSWh2Y05BUUVCQlFBRGdnRVBBRENDQVFvQ2dnRUJBS0x0CkVtakcrN0FGb1hsNGRUSWFweDJIVVdoM0p1ODBmWDB0ZGNGZVFEQ3JUYzRkTVgrcW83R3Y4d3VYWmhGdWtMSjIKU1FLSXF6S0ZOM0NPbWtPV2FUTGFraWtkWnBHdmZicmlFR2Rxd3R6a1JvYm1UMEZvMndXWkl2ZjE2UFFnZlhGcApjRG5vbXBnVWVhempkK3BQc3RQbWJ6SlBTUy8zMU9iYXNMaVhLMnhrU2l2MUxKQ2hFcHdMYUtPVFc5UXV2R2RkCmt0R2ZmTEI5NFJGSWtXQzhLOHAyZHBCd0hNMlMzcVdOeitmRDhXK3kycllCRDlLTG5xSC81Qkk4T01TTlhtWisKVHZpb3QrSm40MEZzb1NGek9KdWlHeTBvZERFS0NOejAvN1V2Tm14UUZNbFVHN0lWSjgyWGNseDVIM0RaMFFGdwpSY1Z2NFFpSmFONGRSWC9yT3ZVQ0F3RUFBYU5oTUY4d0RnWURWUjBQQVFIL0JBUURBZ0trTUIwR0ExVWRKUVFXCk1CUUdDQ3NHQVFVRkJ3TUNCZ2dyQmdFRkJRY0RBVEFQQmdOVkhSTUJBZjhFQlRBREFRSC9NQjBHQTFVZERnUVcKQkJScytybmhjN25nVCtjQkV4S0xvMzMvc3B5N2V6QU5CZ2txaGtpRzl3MEJBUXNGQUFPQ0FRRUFRUk5tM2pqYQpJNVpQYVJpdHFHdDFzcVJTMEFqUVpMNUpoK0RIMXAyMG1acWhMTVZkVjFpR2xVZkVib3c5cFVxaHhGQ2ExejBFClczakswRDRSMk5BUVVpVlYyVXBLYmJUY2szV0JWSU1ZcGNTZ3hIM1g2V2FnUG1iZ1VHczFWRlFUZGp6aWh1TkYKV3VsM3gzU1c4T0x0RjA3MnErRXVlLzZ5M0pOZ2ZQL0QwSlRTNXg4QndCeUlXK1ZRY0ZhMkZ0UDJmZ016dENDRApPNTQ4ajlKWEJLS3RaUVI5byt2QjBza1VtN3VpUUdYTElwdmZ1WWY4TjBCeGZGbnBjTDErN21sYlRiSk5YM2htCk40NjZvUUhtcjRmSGRFMjROVEFSU2JnUkdhYWxXUjhZbFdrSzg1czQ4U0dUWmVUZzUvSnFQWmd6MmZRNnhvenQKSFFqbWtpK0JJOTZYWHc9PQotLS0tLUVORCBDRVJUSUZJQ0FURS0tLS0tCg==\n",
      "    server: https://localhost:8443\n",
      "  name: minikube\n",
      "contexts:\n",
      "- context:\n",
      "    cluster: minikube\n",
      "    namespace: my-namespace\n",
      "    user: minikube-my-namespace-token-user\n",
      "  name: my-context\n",
      "current-context: my-context\n",
      "kind: Config\n",
      "preferences: {}\n",
      "users:\n",
      "- name: minikube-my-namespace-token-user\n",
      "  user:\n",
      "    token: eyJhbGciOiJSUzI1NiIsImtpZCI6Ink2QjRXc2JTTFVUblN3Y00zZ2RWNXZldkZFbERLNWR3MGZheU9FWXJreGsifQ.eyJpc3MiOiJrdWJlcm5ldGVzL3NlcnZpY2VhY2NvdW50Iiwia3ViZXJuZXRlcy5pby9zZXJ2aWNlYWNjb3VudC9uYW1lc3BhY2UiOiJteS1uYW1lc3BhY2UiLCJrdWJlcm5ldGVzLmlvL3NlcnZpY2VhY2NvdW50L3NlY3JldC5uYW1lIjoibXktc2VydmljZWFjY291bnQtdG9rZW4tOTc4cGciLCJrdWJlcm5ldGVzLmlvL3NlcnZpY2VhY2NvdW50L3NlcnZpY2UtYWNjb3VudC5uYW1lIjoibXktc2VydmljZWFjY291bnQiLCJrdWJlcm5ldGVzLmlvL3NlcnZpY2VhY2NvdW50L3NlcnZpY2UtYWNjb3VudC51aWQiOiIwYjcxZmQyZi0yZTlhLTRmNTMtOTgxMS0zYWQzNDQ2ZGJhMjQiLCJzdWIiOiJzeXN0ZW06c2VydmljZWFjY291bnQ6bXktbmFtZXNwYWNlOm15LXNlcnZpY2VhY2NvdW50In0.OfQdgeWXz34cTKI-GniGnKgMaKB8WkOEmmyg_8nS7ddyeP9PYlHTcwBUAQReMZYVz4jVY95XgKdhs8naWNl7VgtxnhxXjY2xIWZObeSNRt9vc0fSp1p6bcckUi6gVUfgDvjh9-WOP4CBKNGbdAEfkUEcC4eQHFDKnxkXPvDi_dYWmRC6I7qRZxb5ZOQHYw_Brwv3AurxaGeNvQBOdVVS7BGpYLQC4MZ2PymRtLrxfHeoDS0CujG5eJr0ugIakZYea3louyt0PvXdsf02JWIWE7DRz6LUGaNYFcrWHV1qduAAysPMgsb7l4GwLvcz_AXQBDCK4pw_SY3Ige6eRTHzdA\n"
     ]
    }
   ],
   "source": [
    "cat  ${KUBECONFIG} "
   ]
  },
  {
   "cell_type": "code",
   "execution_count": 33,
   "metadata": {},
   "outputs": [
    {
     "name": "stdout",
     "output_type": "stream",
     "text": [
      "Name:                default\n",
      "Namespace:           my-namespace\n",
      "Labels:              <none>\n",
      "Annotations:         <none>\n",
      "Image pull secrets:  <none>\n",
      "Mountable secrets:   default-token-z9qrq\n",
      "Tokens:              default-token-z9qrq\n",
      "Events:              <none>\n",
      "\n",
      "\n",
      "Name:                my-serviceaccount\n",
      "Namespace:           my-namespace\n",
      "Labels:              <none>\n",
      "Annotations:         <none>\n",
      "Image pull secrets:  <none>\n",
      "Mountable secrets:   my-serviceaccount-token-978pg\n",
      "Tokens:              my-serviceaccount-token-978pg\n",
      "Events:              <none>\n"
     ]
    }
   ],
   "source": [
    "kubectl describe serviceaccount -n  my-namespace"
   ]
  },
  {
   "cell_type": "code",
   "execution_count": 36,
   "metadata": {},
   "outputs": [
    {
     "name": "stdout",
     "output_type": "stream",
     "text": [
      "no\n"
     ]
    },
    {
     "ename": "",
     "evalue": "1",
     "output_type": "error",
     "traceback": []
    }
   ],
   "source": [
    "kubectl --kubeconfig ${KUBECONFIG}  auth can-i get pod --namespace default"
   ]
  },
  {
   "cell_type": "code",
   "execution_count": 37,
   "metadata": {},
   "outputs": [
    {
     "name": "stdout",
     "output_type": "stream",
     "text": [
      "\n",
      "To further debug and diagnose cluster problems, use 'kubectl cluster-info dump'.\n",
      "Error from server (Forbidden): services is forbidden: User \"system:serviceaccount:my-namespace:my-serviceaccount\" cannot list resource \"services\" in API group \"\" in the namespace \"kube-system\"\n"
     ]
    },
    {
     "ename": "",
     "evalue": "1",
     "output_type": "error",
     "traceback": []
    }
   ],
   "source": [
    "kubectl  --kubeconfig ${KUBECONFIG} cluster-info"
   ]
  },
  {
   "cell_type": "code",
   "execution_count": 38,
   "metadata": {},
   "outputs": [
    {
     "name": "stdout",
     "output_type": "stream",
     "text": [
      "\u001b[0;32mKubernetes control plane\u001b[0m is running at \u001b[0;33mhttps://localhost:8443\u001b[0m\n",
      "\u001b[0;32mKubeDNS\u001b[0m is running at \u001b[0;33mhttps://localhost:8443/api/v1/namespaces/kube-system/services/kube-dns:dns/proxy\u001b[0m\n",
      "\n",
      "To further debug and diagnose cluster problems, use 'kubectl cluster-info dump'.\n"
     ]
    }
   ],
   "source": [
    "kubectl  cluster-info"
   ]
  },
  {
   "cell_type": "code",
   "execution_count": 40,
   "metadata": {},
   "outputs": [
    {
     "name": "stdout",
     "output_type": "stream",
     "text": [
      "\n",
      "To further debug and diagnose cluster problems, use 'kubectl cluster-info dump'.\n",
      "Error from server (Forbidden): services is forbidden: User \"system:serviceaccount:my-namespace:my-serviceaccount\" cannot list resource \"services\" in API group \"\" in the namespace \"kube-system\"\n"
     ]
    },
    {
     "ename": "",
     "evalue": "1",
     "output_type": "error",
     "traceback": []
    }
   ],
   "source": [
    "kubectl  --kubeconfig ${KUBECONFIG} cluster-info"
   ]
  },
  {
   "cell_type": "markdown",
   "metadata": {},
   "source": [
    "# Graphical View"
   ]
  },
  {
   "cell_type": "code",
   "execution_count": 40,
   "metadata": {},
   "outputs": [],
   "source": [
    "go get github.com/team-soteria/rback"
   ]
  },
  {
   "cell_type": "code",
   "execution_count": 41,
   "metadata": {},
   "outputs": [],
   "source": [
    "kubectl get sa,roles,clusterroles,clusterrolebindings --all-namespaces -o json |\\\n",
    "rback  -ignore-prefixes none > minikube.dot"
   ]
  },
  {
   "cell_type": "code",
   "execution_count": 42,
   "metadata": {
    "collapsed": true,
    "jupyter": {
     "outputs_hidden": true
    }
   },
   "outputs": [
    {
     "name": "stdout",
     "output_type": "stream",
     "text": [
      "Reading package lists... Done\n",
      "Building dependency tree       \n",
      "Reading state information... Done\n",
      "The following additional packages will be installed:\n",
      "  fontconfig fontconfig-config fonts-dejavu-core fonts-liberation libann0\n",
      "  libcairo2 libcdt5 libcgraph6 libdatrie1 libfontconfig1 libfreetype6\n",
      "  libfribidi0 libgd3 libgraphite2-3 libgts-0.7-5 libgts-bin libgvc6 libgvpr2\n",
      "  libharfbuzz0b libice6 libjbig0 libjpeg-turbo8 libjpeg8 liblab-gamut1\n",
      "  libpango-1.0-0 libpangocairo-1.0-0 libpangoft2-1.0-0 libpathplan4\n",
      "  libpixman-1-0 libpng16-16 libsm6 libthai-data libthai0 libtiff5 libwebp6\n",
      "  libx11-6 libx11-data libxau6 libxaw7 libxcb-render0 libxcb-shm0 libxcb1\n",
      "  libxdmcp6 libxext6 libxmu6 libxpm4 libxrender1 libxt6 x11-common\n",
      "Suggested packages:\n",
      "  gsfonts graphviz-doc libgd-tools\n",
      "The following NEW packages will be installed:\n",
      "  fontconfig fontconfig-config fonts-dejavu-core fonts-liberation graphviz\n",
      "  libann0 libcairo2 libcdt5 libcgraph6 libdatrie1 libfontconfig1 libfreetype6\n",
      "  libfribidi0 libgd3 libgraphite2-3 libgts-0.7-5 libgts-bin libgvc6 libgvpr2\n",
      "  libharfbuzz0b libice6 libjbig0 libjpeg-turbo8 libjpeg8 liblab-gamut1\n",
      "  libpango-1.0-0 libpangocairo-1.0-0 libpangoft2-1.0-0 libpathplan4\n",
      "  libpixman-1-0 libpng16-16 libsm6 libthai-data libthai0 libtiff5 libwebp6\n",
      "  libx11-6 libx11-data libxau6 libxaw7 libxcb-render0 libxcb-shm0 libxcb1\n",
      "  libxdmcp6 libxext6 libxmu6 libxpm4 libxrender1 libxt6 x11-common\n",
      "0 upgraded, 50 newly installed, 0 to remove and 0 not upgraded.\n",
      "Need to get 8189 kB of archives.\n",
      "After this operation, 28.8 MB of additional disk space will be used.\n",
      "Get:1 http://archive.ubuntu.com/ubuntu focal/main amd64 libfribidi0 amd64 1.0.8-2 [23.8 kB]\n",
      "Get:2 http://archive.ubuntu.com/ubuntu focal/main amd64 libpng16-16 amd64 1.6.37-2 [179 kB]\n",
      "Get:3 http://archive.ubuntu.com/ubuntu focal/main amd64 libxau6 amd64 1:1.0.9-0ubuntu1 [7488 B]\n",
      "Get:4 http://archive.ubuntu.com/ubuntu focal/main amd64 libxdmcp6 amd64 1:1.1.3-0ubuntu1 [10.6 kB]\n",
      "Get:5 http://archive.ubuntu.com/ubuntu focal/main amd64 libxcb1 amd64 1.14-2 [44.7 kB]\n",
      "Get:6 http://archive.ubuntu.com/ubuntu focal-updates/main amd64 libx11-data all 2:1.6.9-2ubuntu1.1 [113 kB]\n",
      "Get:7 http://archive.ubuntu.com/ubuntu focal-updates/main amd64 libx11-6 amd64 2:1.6.9-2ubuntu1.1 [574 kB]\n",
      "Get:8 http://archive.ubuntu.com/ubuntu focal/main amd64 libxext6 amd64 2:1.3.4-0ubuntu1 [29.1 kB]\n",
      "Get:9 http://archive.ubuntu.com/ubuntu focal-updates/main amd64 libfreetype6 amd64 2.10.1-2ubuntu0.1 [341 kB]\n",
      "Get:10 http://archive.ubuntu.com/ubuntu focal/main amd64 fonts-dejavu-core all 2.37-1 [1041 kB]\n",
      "Get:11 http://archive.ubuntu.com/ubuntu focal/main amd64 fonts-liberation all 1:1.07.4-11 [822 kB]\n",
      "Get:12 http://archive.ubuntu.com/ubuntu focal/main amd64 fontconfig-config all 2.13.1-2ubuntu3 [28.8 kB]\n",
      "Get:13 http://archive.ubuntu.com/ubuntu focal/main amd64 libfontconfig1 amd64 2.13.1-2ubuntu3 [114 kB]\n",
      "Get:14 http://archive.ubuntu.com/ubuntu focal/main amd64 fontconfig amd64 2.13.1-2ubuntu3 [171 kB]\n",
      "Get:15 http://archive.ubuntu.com/ubuntu focal/universe amd64 libann0 amd64 1.1.2+doc-7build1 [26.0 kB]\n",
      "Get:16 http://archive.ubuntu.com/ubuntu focal/universe amd64 libcdt5 amd64 2.42.2-3build2 [18.7 kB]\n",
      "Get:17 http://archive.ubuntu.com/ubuntu focal/universe amd64 libcgraph6 amd64 2.42.2-3build2 [41.3 kB]\n",
      "Get:18 http://archive.ubuntu.com/ubuntu focal-updates/main amd64 libjpeg-turbo8 amd64 2.0.3-0ubuntu1.20.04.1 [117 kB]\n",
      "Get:19 http://archive.ubuntu.com/ubuntu focal/main amd64 libjpeg8 amd64 8c-2ubuntu8 [2194 B]\n",
      "Get:20 http://archive.ubuntu.com/ubuntu focal/main amd64 libjbig0 amd64 2.1-3.1build1 [26.7 kB]\n",
      "Get:21 http://archive.ubuntu.com/ubuntu focal/main amd64 libwebp6 amd64 0.6.1-2 [185 kB]\n",
      "Get:22 http://archive.ubuntu.com/ubuntu focal/main amd64 libtiff5 amd64 4.1.0+git191117-2build1 [161 kB]\n",
      "Get:23 http://archive.ubuntu.com/ubuntu focal/main amd64 libxpm4 amd64 1:3.5.12-1 [34.0 kB]\n",
      "Get:24 http://archive.ubuntu.com/ubuntu focal/main amd64 libgd3 amd64 2.2.5-5.2ubuntu2 [118 kB]\n",
      "Get:25 http://archive.ubuntu.com/ubuntu focal/universe amd64 libgts-0.7-5 amd64 0.7.6+darcs121130-4 [150 kB]\n",
      "Get:26 http://archive.ubuntu.com/ubuntu focal/main amd64 libpixman-1-0 amd64 0.38.4-0ubuntu1 [227 kB]\n",
      "Get:27 http://archive.ubuntu.com/ubuntu focal/main amd64 libxcb-render0 amd64 1.14-2 [14.8 kB]\n",
      "Get:28 http://archive.ubuntu.com/ubuntu focal/main amd64 libxcb-shm0 amd64 1.14-2 [5584 B]\n",
      "Get:29 http://archive.ubuntu.com/ubuntu focal/main amd64 libxrender1 amd64 1:0.9.10-1 [18.7 kB]\n",
      "Get:30 http://archive.ubuntu.com/ubuntu focal/main amd64 libcairo2 amd64 1.16.0-4ubuntu1 [583 kB]\n",
      "Get:31 http://archive.ubuntu.com/ubuntu focal/main amd64 libgraphite2-3 amd64 1.3.13-11build1 [73.5 kB]\n",
      "Get:32 http://archive.ubuntu.com/ubuntu focal/main amd64 libharfbuzz0b amd64 2.6.4-1ubuntu4 [391 kB]\n",
      "Get:33 http://archive.ubuntu.com/ubuntu focal/main amd64 libthai-data all 0.1.28-3 [134 kB]\n",
      "Get:34 http://archive.ubuntu.com/ubuntu focal/main amd64 libdatrie1 amd64 0.2.12-3 [18.7 kB]\n",
      "Get:35 http://archive.ubuntu.com/ubuntu focal/main amd64 libthai0 amd64 0.1.28-3 [18.1 kB]\n",
      "Get:36 http://archive.ubuntu.com/ubuntu focal/main amd64 libpango-1.0-0 amd64 1.44.7-2ubuntu4 [162 kB]\n",
      "Get:37 http://archive.ubuntu.com/ubuntu focal/main amd64 libpangoft2-1.0-0 amd64 1.44.7-2ubuntu4 [34.9 kB]\n",
      "Get:38 http://archive.ubuntu.com/ubuntu focal/main amd64 libpangocairo-1.0-0 amd64 1.44.7-2ubuntu4 [24.8 kB]\n",
      "Get:39 http://archive.ubuntu.com/ubuntu focal/universe amd64 libpathplan4 amd64 2.42.2-3build2 [21.9 kB]\n",
      "Get:40 http://archive.ubuntu.com/ubuntu focal/universe amd64 libgvc6 amd64 2.42.2-3build2 [647 kB]\n",
      "Get:41 http://archive.ubuntu.com/ubuntu focal/universe amd64 libgvpr2 amd64 2.42.2-3build2 [167 kB]\n",
      "Get:42 http://archive.ubuntu.com/ubuntu focal/universe amd64 liblab-gamut1 amd64 2.42.2-3build2 [177 kB]\n",
      "Get:43 http://archive.ubuntu.com/ubuntu focal/main amd64 x11-common all 1:7.7+19ubuntu14 [22.3 kB]\n",
      "Get:44 http://archive.ubuntu.com/ubuntu focal/main amd64 libice6 amd64 2:1.0.10-0ubuntu1 [41.0 kB]\n",
      "Get:45 http://archive.ubuntu.com/ubuntu focal/main amd64 libsm6 amd64 2:1.2.3-1 [16.1 kB]\n",
      "Get:46 http://archive.ubuntu.com/ubuntu focal/main amd64 libxt6 amd64 1:1.1.5-1 [160 kB]\n",
      "Get:47 http://archive.ubuntu.com/ubuntu focal/main amd64 libxmu6 amd64 2:1.1.3-0ubuntu1 [45.8 kB]\n",
      "Get:48 http://archive.ubuntu.com/ubuntu focal/main amd64 libxaw7 amd64 2:1.0.13-1 [173 kB]\n",
      "Get:49 http://archive.ubuntu.com/ubuntu focal/universe amd64 graphviz amd64 2.42.2-3build2 [590 kB]\n",
      "Get:50 http://archive.ubuntu.com/ubuntu focal/universe amd64 libgts-bin amd64 0.7.6+darcs121130-4 [41.3 kB]\n",
      "Fetched 8189 kB in 1s (9385 kB/s) \u001b[0m\u001b[33m\n",
      "perl: warning: Setting locale failed.\n",
      "perl: warning: Please check that your locale settings:\n",
      "\tLANGUAGE = \"en.UTF-8\",\n",
      "\tLC_ALL = (unset),\n",
      "\tLC_CTYPE = \"C.UTF-8\",\n",
      "\tLANG = \"en.UTF-8\"\n",
      "    are supported and installed on your system.\n",
      "perl: warning: Falling back to the standard locale (\"C\").\n",
      "debconf: delaying package configuration, since apt-utils is not installed\n",
      "\n",
      "\u001b7\u001b[0;23r\u001b8\u001b[1ASelecting previously unselected package libfribidi0:amd64.\n",
      "(Reading database ... 22901 files and directories currently installed.)\n",
      "Preparing to unpack .../00-libfribidi0_1.0.8-2_amd64.deb ...\n",
      "\u001b7\u001b[24;0f\u001b[42m\u001b[30mProgress: [  0%]\u001b[49m\u001b[39m [..........................................................] \u001b8Unpacking libfribidi0:amd64 (1.0.8-2) ...\n",
      "Selecting previously unselected package libpng16-16:amd64.\n",
      "Preparing to unpack .../01-libpng16-16_1.6.37-2_amd64.deb ...\n",
      "\u001b7\u001b[24;0f\u001b[42m\u001b[30mProgress: [  1%]\u001b[49m\u001b[39m [..........................................................] \u001b8Unpacking libpng16-16:amd64 (1.6.37-2) ...\n",
      "Selecting previously unselected package libxau6:amd64.\n",
      "Preparing to unpack .../02-libxau6_1%3a1.0.9-0ubuntu1_amd64.deb ...\n",
      "\u001b7\u001b[24;0f\u001b[42m\u001b[30mProgress: [  2%]\u001b[49m\u001b[39m [#.........................................................] \u001b8Unpacking libxau6:amd64 (1:1.0.9-0ubuntu1) ...\n",
      "Selecting previously unselected package libxdmcp6:amd64.\n",
      "Preparing to unpack .../03-libxdmcp6_1%3a1.1.3-0ubuntu1_amd64.deb ...\n",
      "\u001b7\u001b[24;0f\u001b[42m\u001b[30mProgress: [  3%]\u001b[49m\u001b[39m [##........................................................] \u001b8Unpacking libxdmcp6:amd64 (1:1.1.3-0ubuntu1) ...\n",
      "Selecting previously unselected package libxcb1:amd64.\n",
      "Preparing to unpack .../04-libxcb1_1.14-2_amd64.deb ...\n",
      "\u001b7\u001b[24;0f\u001b[42m\u001b[30mProgress: [  4%]\u001b[49m\u001b[39m [##........................................................] \u001b8Unpacking libxcb1:amd64 (1.14-2) ...\n",
      "Selecting previously unselected package libx11-data.\n",
      "Preparing to unpack .../05-libx11-data_2%3a1.6.9-2ubuntu1.1_all.deb ...\n",
      "\u001b7\u001b[24;0f\u001b[42m\u001b[30mProgress: [  5%]\u001b[49m\u001b[39m [###.......................................................] \u001b8Unpacking libx11-data (2:1.6.9-2ubuntu1.1) ...\n",
      "Selecting previously unselected package libx11-6:amd64.\n",
      "Preparing to unpack .../06-libx11-6_2%3a1.6.9-2ubuntu1.1_amd64.deb ...\n",
      "\u001b7\u001b[24;0f\u001b[42m\u001b[30mProgress: [  6%]\u001b[49m\u001b[39m [###.......................................................] \u001b8Unpacking libx11-6:amd64 (2:1.6.9-2ubuntu1.1) ...\n",
      "Selecting previously unselected package libxext6:amd64.\n",
      "Preparing to unpack .../07-libxext6_2%3a1.3.4-0ubuntu1_amd64.deb ...\n",
      "\u001b7\u001b[24;0f\u001b[42m\u001b[30mProgress: [  7%]\u001b[49m\u001b[39m [####......................................................] \u001b8Unpacking libxext6:amd64 (2:1.3.4-0ubuntu1) ...\n",
      "Selecting previously unselected package libfreetype6:amd64.\n",
      "Preparing to unpack .../08-libfreetype6_2.10.1-2ubuntu0.1_amd64.deb ...\n",
      "\u001b7\u001b[24;0f\u001b[42m\u001b[30mProgress: [  8%]\u001b[49m\u001b[39m [####......................................................] \u001b8Unpacking libfreetype6:amd64 (2.10.1-2ubuntu0.1) ...\n",
      "Selecting previously unselected package fonts-dejavu-core.\n",
      "Preparing to unpack .../09-fonts-dejavu-core_2.37-1_all.deb ...\n",
      "\u001b7\u001b[24;0f\u001b[42m\u001b[30mProgress: [  9%]\u001b[49m\u001b[39m [#####.....................................................] \u001b8Unpacking fonts-dejavu-core (2.37-1) ...\n",
      "Selecting previously unselected package fonts-liberation.\n",
      "Preparing to unpack .../10-fonts-liberation_1%3a1.07.4-11_all.deb ...\n",
      "\u001b7\u001b[24;0f\u001b[42m\u001b[30mProgress: [ 10%]\u001b[49m\u001b[39m [######....................................................] \u001b8Unpacking fonts-liberation (1:1.07.4-11) ...\n",
      "Selecting previously unselected package fontconfig-config.\n",
      "Preparing to unpack .../11-fontconfig-config_2.13.1-2ubuntu3_all.deb ...\n",
      "\u001b7\u001b[24;0f\u001b[42m\u001b[30mProgress: [ 11%]\u001b[49m\u001b[39m [######....................................................] \u001b8Unpacking fontconfig-config (2.13.1-2ubuntu3) ...\n",
      "Selecting previously unselected package libfontconfig1:amd64.\n",
      "Preparing to unpack .../12-libfontconfig1_2.13.1-2ubuntu3_amd64.deb ...\n",
      "\u001b7\u001b[24;0f\u001b[42m\u001b[30mProgress: [ 12%]\u001b[49m\u001b[39m [#######...................................................] \u001b8Unpacking libfontconfig1:amd64 (2.13.1-2ubuntu3) ...\n",
      "Selecting previously unselected package fontconfig.\n",
      "Preparing to unpack .../13-fontconfig_2.13.1-2ubuntu3_amd64.deb ...\n",
      "\u001b7\u001b[24;0f\u001b[42m\u001b[30mProgress: [ 13%]\u001b[49m\u001b[39m [#######...................................................] \u001b8Unpacking fontconfig (2.13.1-2ubuntu3) ...\n",
      "Selecting previously unselected package libann0.\n",
      "Preparing to unpack .../14-libann0_1.1.2+doc-7build1_amd64.deb ...\n",
      "\u001b7\u001b[24;0f\u001b[42m\u001b[30mProgress: [ 14%]\u001b[49m\u001b[39m [########..................................................] \u001b8Unpacking libann0 (1.1.2+doc-7build1) ...\n",
      "Selecting previously unselected package libcdt5:amd64.\n",
      "Preparing to unpack .../15-libcdt5_2.42.2-3build2_amd64.deb ...\n",
      "\u001b7\u001b[24;0f\u001b[42m\u001b[30mProgress: [ 15%]\u001b[49m\u001b[39m [########..................................................] \u001b8Unpacking libcdt5:amd64 (2.42.2-3build2) ...\n",
      "Selecting previously unselected package libcgraph6:amd64.\n",
      "Preparing to unpack .../16-libcgraph6_2.42.2-3build2_amd64.deb ...\n",
      "\u001b7\u001b[24;0f\u001b[42m\u001b[30mProgress: [ 16%]\u001b[49m\u001b[39m [#########.................................................] \u001b8Unpacking libcgraph6:amd64 (2.42.2-3build2) ...\n",
      "Selecting previously unselected package libjpeg-turbo8:amd64.\n",
      "Preparing to unpack .../17-libjpeg-turbo8_2.0.3-0ubuntu1.20.04.1_amd64.deb ...\n",
      "\u001b7\u001b[24;0f\u001b[42m\u001b[30mProgress: [ 17%]\u001b[49m\u001b[39m [##########................................................] \u001b8Unpacking libjpeg-turbo8:amd64 (2.0.3-0ubuntu1.20.04.1) ...\n",
      "Selecting previously unselected package libjpeg8:amd64.\n",
      "Preparing to unpack .../18-libjpeg8_8c-2ubuntu8_amd64.deb ...\n",
      "\u001b7\u001b[24;0f\u001b[42m\u001b[30mProgress: [ 18%]\u001b[49m\u001b[39m [##########................................................] \u001b8Unpacking libjpeg8:amd64 (8c-2ubuntu8) ...\n",
      "Selecting previously unselected package libjbig0:amd64.\n",
      "Preparing to unpack .../19-libjbig0_2.1-3.1build1_amd64.deb ...\n",
      "\u001b7\u001b[24;0f\u001b[42m\u001b[30mProgress: [ 19%]\u001b[49m\u001b[39m [###########...............................................] \u001b8Unpacking libjbig0:amd64 (2.1-3.1build1) ...\n",
      "Selecting previously unselected package libwebp6:amd64.\n",
      "Preparing to unpack .../20-libwebp6_0.6.1-2_amd64.deb ...\n",
      "\u001b7\u001b[24;0f\u001b[42m\u001b[30mProgress: [ 20%]\u001b[49m\u001b[39m [###########...............................................] \u001b8Unpacking libwebp6:amd64 (0.6.1-2) ...\n",
      "Selecting previously unselected package libtiff5:amd64.\n",
      "Preparing to unpack .../21-libtiff5_4.1.0+git191117-2build1_amd64.deb ...\n",
      "\u001b7\u001b[24;0f\u001b[42m\u001b[30mProgress: [ 21%]\u001b[49m\u001b[39m [############..............................................] \u001b8Unpacking libtiff5:amd64 (4.1.0+git191117-2build1) ...\n",
      "Selecting previously unselected package libxpm4:amd64.\n",
      "Preparing to unpack .../22-libxpm4_1%3a3.5.12-1_amd64.deb ...\n",
      "\u001b7\u001b[24;0f\u001b[42m\u001b[30mProgress: [ 22%]\u001b[49m\u001b[39m [############..............................................] \u001b8Unpacking libxpm4:amd64 (1:3.5.12-1) ...\n",
      "Selecting previously unselected package libgd3:amd64.\n",
      "Preparing to unpack .../23-libgd3_2.2.5-5.2ubuntu2_amd64.deb ...\n",
      "\u001b7\u001b[24;0f\u001b[42m\u001b[30mProgress: [ 23%]\u001b[49m\u001b[39m [#############.............................................] \u001b8Unpacking libgd3:amd64 (2.2.5-5.2ubuntu2) ...\n",
      "Selecting previously unselected package libgts-0.7-5:amd64.\n",
      "Preparing to unpack .../24-libgts-0.7-5_0.7.6+darcs121130-4_amd64.deb ...\n",
      "\u001b7\u001b[24;0f\u001b[42m\u001b[30mProgress: [ 24%]\u001b[49m\u001b[39m [##############............................................] \u001b8Unpacking libgts-0.7-5:amd64 (0.7.6+darcs121130-4) ...\n",
      "Selecting previously unselected package libpixman-1-0:amd64.\n",
      "Preparing to unpack .../25-libpixman-1-0_0.38.4-0ubuntu1_amd64.deb ...\n",
      "\u001b7\u001b[24;0f\u001b[42m\u001b[30mProgress: [ 25%]\u001b[49m\u001b[39m [##############............................................] \u001b8Unpacking libpixman-1-0:amd64 (0.38.4-0ubuntu1) ...\n",
      "Selecting previously unselected package libxcb-render0:amd64.\n",
      "Preparing to unpack .../26-libxcb-render0_1.14-2_amd64.deb ...\n",
      "\u001b7\u001b[24;0f\u001b[42m\u001b[30mProgress: [ 26%]\u001b[49m\u001b[39m [###############...........................................] \u001b8Unpacking libxcb-render0:amd64 (1.14-2) ...\n",
      "Selecting previously unselected package libxcb-shm0:amd64.\n",
      "Preparing to unpack .../27-libxcb-shm0_1.14-2_amd64.deb ...\n",
      "\u001b7\u001b[24;0f\u001b[42m\u001b[30mProgress: [ 27%]\u001b[49m\u001b[39m [###############...........................................] \u001b8Unpacking libxcb-shm0:amd64 (1.14-2) ...\n",
      "Selecting previously unselected package libxrender1:amd64.\n",
      "Preparing to unpack .../28-libxrender1_1%3a0.9.10-1_amd64.deb ...\n",
      "\u001b7\u001b[24;0f\u001b[42m\u001b[30mProgress: [ 28%]\u001b[49m\u001b[39m [################..........................................] \u001b8Unpacking libxrender1:amd64 (1:0.9.10-1) ...\n",
      "Selecting previously unselected package libcairo2:amd64.\n",
      "Preparing to unpack .../29-libcairo2_1.16.0-4ubuntu1_amd64.deb ...\n",
      "\u001b7\u001b[24;0f\u001b[42m\u001b[30mProgress: [ 29%]\u001b[49m\u001b[39m [#################.........................................] \u001b8Unpacking libcairo2:amd64 (1.16.0-4ubuntu1) ...\n",
      "Selecting previously unselected package libgraphite2-3:amd64.\n",
      "Preparing to unpack .../30-libgraphite2-3_1.3.13-11build1_amd64.deb ...\n",
      "\u001b7\u001b[24;0f\u001b[42m\u001b[30mProgress: [ 30%]\u001b[49m\u001b[39m [#################.........................................] \u001b8Unpacking libgraphite2-3:amd64 (1.3.13-11build1) ...\n",
      "Selecting previously unselected package libharfbuzz0b:amd64.\n",
      "Preparing to unpack .../31-libharfbuzz0b_2.6.4-1ubuntu4_amd64.deb ...\n",
      "\u001b7\u001b[24;0f\u001b[42m\u001b[30mProgress: [ 31%]\u001b[49m\u001b[39m [##################........................................] \u001b8Unpacking libharfbuzz0b:amd64 (2.6.4-1ubuntu4) ...\n",
      "Selecting previously unselected package libthai-data.\n",
      "Preparing to unpack .../32-libthai-data_0.1.28-3_all.deb ...\n",
      "\u001b7\u001b[24;0f\u001b[42m\u001b[30mProgress: [ 32%]\u001b[49m\u001b[39m [##################........................................] \u001b8Unpacking libthai-data (0.1.28-3) ...\n",
      "Selecting previously unselected package libdatrie1:amd64.\n",
      "Preparing to unpack .../33-libdatrie1_0.2.12-3_amd64.deb ...\n",
      "Unpacking libdatrie1:amd64 (0.2.12-3) ...\n",
      "\u001b7\u001b[24;0f\u001b[42m\u001b[30mProgress: [ 33%]\u001b[49m\u001b[39m [###################.......................................] \u001b8Selecting previously unselected package libthai0:amd64.\n",
      "Preparing to unpack .../34-libthai0_0.1.28-3_amd64.deb ...\n",
      "\u001b7\u001b[24;0f\u001b[42m\u001b[30mProgress: [ 34%]\u001b[49m\u001b[39m [###################.......................................] \u001b8Unpacking libthai0:amd64 (0.1.28-3) ...\n",
      "Selecting previously unselected package libpango-1.0-0:amd64.\n",
      "Preparing to unpack .../35-libpango-1.0-0_1.44.7-2ubuntu4_amd64.deb ...\n",
      "\u001b7\u001b[24;0f\u001b[42m\u001b[30mProgress: [ 35%]\u001b[49m\u001b[39m [####################......................................] \u001b8Unpacking libpango-1.0-0:amd64 (1.44.7-2ubuntu4) ...\n",
      "Selecting previously unselected package libpangoft2-1.0-0:amd64.\n",
      "Preparing to unpack .../36-libpangoft2-1.0-0_1.44.7-2ubuntu4_amd64.deb ...\n",
      "\u001b7\u001b[24;0f\u001b[42m\u001b[30mProgress: [ 36%]\u001b[49m\u001b[39m [#####################.....................................] \u001b8Unpacking libpangoft2-1.0-0:amd64 (1.44.7-2ubuntu4) ...\n",
      "Selecting previously unselected package libpangocairo-1.0-0:amd64.\n",
      "Preparing to unpack .../37-libpangocairo-1.0-0_1.44.7-2ubuntu4_amd64.deb ...\n",
      "\u001b7\u001b[24;0f\u001b[42m\u001b[30mProgress: [ 37%]\u001b[49m\u001b[39m [#####################.....................................] \u001b8Unpacking libpangocairo-1.0-0:amd64 (1.44.7-2ubuntu4) ...\n",
      "Selecting previously unselected package libpathplan4:amd64.\n",
      "Preparing to unpack .../38-libpathplan4_2.42.2-3build2_amd64.deb ...\n",
      "\u001b7\u001b[24;0f\u001b[42m\u001b[30mProgress: [ 38%]\u001b[49m\u001b[39m [######################....................................] \u001b8Unpacking libpathplan4:amd64 (2.42.2-3build2) ...\n",
      "Selecting previously unselected package libgvc6.\n",
      "Preparing to unpack .../39-libgvc6_2.42.2-3build2_amd64.deb ...\n",
      "\u001b7\u001b[24;0f\u001b[42m\u001b[30mProgress: [ 39%]\u001b[49m\u001b[39m [######################....................................] \u001b8Unpacking libgvc6 (2.42.2-3build2) ...\n",
      "Selecting previously unselected package libgvpr2:amd64.\n",
      "Preparing to unpack .../40-libgvpr2_2.42.2-3build2_amd64.deb ...\n",
      "\u001b7\u001b[24;0f\u001b[42m\u001b[30mProgress: [ 40%]\u001b[49m\u001b[39m [#######################...................................] \u001b8Unpacking libgvpr2:amd64 (2.42.2-3build2) ...\n",
      "Selecting previously unselected package liblab-gamut1:amd64.\n",
      "Preparing to unpack .../41-liblab-gamut1_2.42.2-3build2_amd64.deb ...\n",
      "\u001b7\u001b[24;0f\u001b[42m\u001b[30mProgress: [ 41%]\u001b[49m\u001b[39m [#######################...................................] \u001b8Unpacking liblab-gamut1:amd64 (2.42.2-3build2) ...\n",
      "Selecting previously unselected package x11-common.\n",
      "Preparing to unpack .../42-x11-common_1%3a7.7+19ubuntu14_all.deb ...\n",
      "\u001b7\u001b[24;0f\u001b[42m\u001b[30mProgress: [ 42%]\u001b[49m\u001b[39m [########################..................................] \u001b8\u001b[1mdpkg-query:\u001b[0m no packages found matching nux-tools\n",
      "Unpacking x11-common (1:7.7+19ubuntu14) ...\n",
      "Selecting previously unselected package libice6:amd64.\n",
      "Preparing to unpack .../43-libice6_2%3a1.0.10-0ubuntu1_amd64.deb ...\n",
      "\u001b7\u001b[24;0f\u001b[42m\u001b[30mProgress: [ 43%]\u001b[49m\u001b[39m [#########################.................................] \u001b8Unpacking libice6:amd64 (2:1.0.10-0ubuntu1) ...\n",
      "Selecting previously unselected package libsm6:amd64.\n",
      "Preparing to unpack .../44-libsm6_2%3a1.2.3-1_amd64.deb ...\n",
      "\u001b7\u001b[24;0f\u001b[42m\u001b[30mProgress: [ 44%]\u001b[49m\u001b[39m [#########################.................................] \u001b8Unpacking libsm6:amd64 (2:1.2.3-1) ...\n",
      "Selecting previously unselected package libxt6:amd64.\n",
      "Preparing to unpack .../45-libxt6_1%3a1.1.5-1_amd64.deb ...\n",
      "\u001b7\u001b[24;0f\u001b[42m\u001b[30mProgress: [ 45%]\u001b[49m\u001b[39m [##########################................................] \u001b8Unpacking libxt6:amd64 (1:1.1.5-1) ...\n",
      "Selecting previously unselected package libxmu6:amd64.\n",
      "Preparing to unpack .../46-libxmu6_2%3a1.1.3-0ubuntu1_amd64.deb ...\n",
      "\u001b7\u001b[24;0f\u001b[42m\u001b[30mProgress: [ 46%]\u001b[49m\u001b[39m [##########################................................] \u001b8Unpacking libxmu6:amd64 (2:1.1.3-0ubuntu1) ...\n",
      "Selecting previously unselected package libxaw7:amd64.\n",
      "Preparing to unpack .../47-libxaw7_2%3a1.0.13-1_amd64.deb ...\n",
      "\u001b7\u001b[24;0f\u001b[42m\u001b[30mProgress: [ 47%]\u001b[49m\u001b[39m [###########################...............................] \u001b8Unpacking libxaw7:amd64 (2:1.0.13-1) ...\n",
      "Selecting previously unselected package graphviz.\n",
      "Preparing to unpack .../48-graphviz_2.42.2-3build2_amd64.deb ...\n",
      "\u001b7\u001b[24;0f\u001b[42m\u001b[30mProgress: [ 48%]\u001b[49m\u001b[39m [###########################...............................] \u001b8Unpacking graphviz (2.42.2-3build2) ...\n",
      "Selecting previously unselected package libgts-bin.\n",
      "Preparing to unpack .../49-libgts-bin_0.7.6+darcs121130-4_amd64.deb ...\n",
      "\u001b7\u001b[24;0f\u001b[42m\u001b[30mProgress: [ 49%]\u001b[49m\u001b[39m [############################..............................] \u001b8Unpacking libgts-bin (0.7.6+darcs121130-4) ...\n",
      "Setting up libgraphite2-3:amd64 (1.3.13-11build1) ...\n",
      "\u001b7\u001b[24;0f\u001b[42m\u001b[30mProgress: [ 50%]\u001b[49m\u001b[39m [#############################.............................] \u001b8Setting up libpixman-1-0:amd64 (0.38.4-0ubuntu1) ...\n",
      "\u001b7\u001b[24;0f\u001b[42m\u001b[30mProgress: [ 51%]\u001b[49m\u001b[39m [#############################.............................] \u001b8Setting up libxau6:amd64 (1:1.0.9-0ubuntu1) ...\n",
      "\u001b7\u001b[24;0f\u001b[42m\u001b[30mProgress: [ 52%]\u001b[49m\u001b[39m [##############################............................] \u001b8Setting up libxdmcp6:amd64 (1:1.1.3-0ubuntu1) ...\n",
      "\u001b7\u001b[24;0f\u001b[42m\u001b[30mProgress: [ 53%]\u001b[49m\u001b[39m [##############################............................] \u001b8Setting up libxcb1:amd64 (1.14-2) ...\n",
      "\u001b7\u001b[24;0f\u001b[42m\u001b[30mProgress: [ 54%]\u001b[49m\u001b[39m [###############################...........................] \u001b8Setting up libdatrie1:amd64 (0.2.12-3) ...\n",
      "\u001b7\u001b[24;0f\u001b[42m\u001b[30mProgress: [ 55%]\u001b[49m\u001b[39m [################################..........................] \u001b8Setting up libxcb-render0:amd64 (1.14-2) ...\n",
      "\u001b7\u001b[24;0f\u001b[42m\u001b[30mProgress: [ 56%]\u001b[49m\u001b[39m [################################..........................] \u001b8Setting up liblab-gamut1:amd64 (2.42.2-3build2) ...\n",
      "\u001b7\u001b[24;0f\u001b[42m\u001b[30mProgress: [ 57%]\u001b[49m\u001b[39m [#################################.........................] \u001b8Setting up x11-common (1:7.7+19ubuntu14) ...\n",
      "\u001b7\u001b[24;0f\u001b[42m\u001b[30mProgress: [ 58%]\u001b[49m\u001b[39m [#################################.........................] \u001b8debconf: unable to initialize frontend: Dialog\n",
      "debconf: (TERM is not set, so the dialog frontend is not usable.)\n",
      "debconf: falling back to frontend: Readline\n",
      "update-rc.d: warning: start and stop actions are no longer supported; falling back to defaults\n",
      "invoke-rc.d: policy-rc.d denied execution of start.\n",
      "Setting up libxcb-shm0:amd64 (1.14-2) ...\n",
      "\u001b7\u001b[24;0f\u001b[42m\u001b[30mProgress: [ 59%]\u001b[49m\u001b[39m [##################################........................] \u001b8Setting up libjbig0:amd64 (2.1-3.1build1) ...\n",
      "\u001b7\u001b[24;0f\u001b[42m\u001b[30mProgress: [ 60%]\u001b[49m\u001b[39m [##################################........................] \u001b8Setting up libgts-0.7-5:amd64 (0.7.6+darcs121130-4) ...\n",
      "\u001b7\u001b[24;0f\u001b[42m\u001b[30mProgress: [ 61%]\u001b[49m\u001b[39m [###################################.......................] \u001b8Setting up libx11-data (2:1.6.9-2ubuntu1.1) ...\n",
      "\u001b7\u001b[24;0f\u001b[42m\u001b[30mProgress: [ 62%]\u001b[49m\u001b[39m [####################################......................] \u001b8Setting up libpathplan4:amd64 (2.42.2-3build2) ...\n",
      "\u001b7\u001b[24;0f\u001b[42m\u001b[30mProgress: [ 63%]\u001b[49m\u001b[39m [####################################......................] \u001b8Setting up libann0 (1.1.2+doc-7build1) ...\n",
      "\u001b7\u001b[24;0f\u001b[42m\u001b[30mProgress: [ 64%]\u001b[49m\u001b[39m [#####################################.....................] \u001b8Setting up libfribidi0:amd64 (1.0.8-2) ...\n",
      "\u001b7\u001b[24;0f\u001b[42m\u001b[30mProgress: [ 65%]\u001b[49m\u001b[39m [#####################################.....................] \u001b8Setting up libpng16-16:amd64 (1.6.37-2) ...\n",
      "\u001b7\u001b[24;0f\u001b[42m\u001b[30mProgress: [ 66%]\u001b[49m\u001b[39m [######################################....................] \u001b8Setting up libwebp6:amd64 (0.6.1-2) ...\n",
      "\u001b7\u001b[24;0f\u001b[42m\u001b[30mProgress: [ 67%]\u001b[49m\u001b[39m [######################################....................] \u001b8Setting up fonts-dejavu-core (2.37-1) ...\n",
      "\u001b7\u001b[24;0f\u001b[42m\u001b[30mProgress: [ 68%]\u001b[49m\u001b[39m [#######################################...................] \u001b8Setting up libjpeg-turbo8:amd64 (2.0.3-0ubuntu1.20.04.1) ...\n",
      "\u001b7\u001b[24;0f\u001b[42m\u001b[30mProgress: [ 69%]\u001b[49m\u001b[39m [########################################..................] \u001b8Setting up fonts-liberation (1:1.07.4-11) ...\n",
      "\u001b7\u001b[24;0f\u001b[42m\u001b[30mProgress: [ 70%]\u001b[49m\u001b[39m [########################################..................] \u001b8Setting up libx11-6:amd64 (2:1.6.9-2ubuntu1.1) ...\n",
      "\u001b7\u001b[24;0f\u001b[42m\u001b[30mProgress: [ 71%]\u001b[49m\u001b[39m [#########################################.................] \u001b8Setting up libthai-data (0.1.28-3) ...\n",
      "\u001b7\u001b[24;0f\u001b[42m\u001b[30mProgress: [ 72%]\u001b[49m\u001b[39m [#########################################.................] \u001b8Setting up libcdt5:amd64 (2.42.2-3build2) ...\n",
      "\u001b7\u001b[24;0f\u001b[42m\u001b[30mProgress: [ 73%]\u001b[49m\u001b[39m [##########################################................] \u001b8Setting up libcgraph6:amd64 (2.42.2-3build2) ...\n",
      "\u001b7\u001b[24;0f\u001b[42m\u001b[30mProgress: [ 74%]\u001b[49m\u001b[39m [##########################################................] \u001b8Setting up libjpeg8:amd64 (8c-2ubuntu8) ...\n",
      "\u001b7\u001b[24;0f\u001b[42m\u001b[30mProgress: [ 75%]\u001b[49m\u001b[39m [###########################################...............] \u001b8Setting up libgts-bin (0.7.6+darcs121130-4) ...\n",
      "\u001b7\u001b[24;0f\u001b[42m\u001b[30mProgress: [ 76%]\u001b[49m\u001b[39m [############################################..............] \u001b8Setting up libice6:amd64 (2:1.0.10-0ubuntu1) ...\n",
      "\u001b7\u001b[24;0f\u001b[42m\u001b[30mProgress: [ 77%]\u001b[49m\u001b[39m [############################################..............] \u001b8Setting up libxpm4:amd64 (1:3.5.12-1) ...\n",
      "\u001b7\u001b[24;0f\u001b[42m\u001b[30mProgress: [ 78%]\u001b[49m\u001b[39m [#############################################.............] \u001b8Setting up libxrender1:amd64 (1:0.9.10-1) ...\n",
      "\u001b7\u001b[24;0f\u001b[42m\u001b[30mProgress: [ 79%]\u001b[49m\u001b[39m [#############################################.............] \u001b8Setting up fontconfig-config (2.13.1-2ubuntu3) ...\n",
      "\u001b7\u001b[24;0f\u001b[42m\u001b[30mProgress: [ 80%]\u001b[49m\u001b[39m [##############################################............] \u001b8Setting up libxext6:amd64 (2:1.3.4-0ubuntu1) ...\n",
      "\u001b7\u001b[24;0f\u001b[42m\u001b[30mProgress: [ 81%]\u001b[49m\u001b[39m [###############################################...........] \u001b8Setting up libthai0:amd64 (0.1.28-3) ...\n",
      "\u001b7\u001b[24;0f\u001b[42m\u001b[30mProgress: [ 82%]\u001b[49m\u001b[39m [###############################################...........] \u001b8Setting up libfreetype6:amd64 (2.10.1-2ubuntu0.1) ...\n",
      "\u001b7\u001b[24;0f\u001b[42m\u001b[30mProgress: [ 83%]\u001b[49m\u001b[39m [################################################..........] \u001b8Setting up libgvpr2:amd64 (2.42.2-3build2) ...\n",
      "\u001b7\u001b[24;0f\u001b[42m\u001b[30mProgress: [ 84%]\u001b[49m\u001b[39m [################################################..........] \u001b8Setting up libharfbuzz0b:amd64 (2.6.4-1ubuntu4) ...\n",
      "\u001b7\u001b[24;0f\u001b[42m\u001b[30mProgress: [ 85%]\u001b[49m\u001b[39m [#################################################.........] \u001b8Setting up libtiff5:amd64 (4.1.0+git191117-2build1) ...\n",
      "\u001b7\u001b[24;0f\u001b[42m\u001b[30mProgress: [ 86%]\u001b[49m\u001b[39m [#################################################.........] \u001b8Setting up libfontconfig1:amd64 (2.13.1-2ubuntu3) ...\n",
      "\u001b7\u001b[24;0f\u001b[42m\u001b[30mProgress: [ 87%]\u001b[49m\u001b[39m [##################################################........] \u001b8Setting up libsm6:amd64 (2:1.2.3-1) ...\n",
      "\u001b7\u001b[24;0f\u001b[42m\u001b[30mProgress: [ 88%]\u001b[49m\u001b[39m [###################################################.......] \u001b8Setting up fontconfig (2.13.1-2ubuntu3) ...\n",
      "\u001b7\u001b[24;0f\u001b[42m\u001b[30mProgress: [ 89%]\u001b[49m\u001b[39m [###################################################.......] \u001b8Regenerating fonts cache... done.\n",
      "Setting up libpango-1.0-0:amd64 (1.44.7-2ubuntu4) ...\n",
      "\u001b7\u001b[24;0f\u001b[42m\u001b[30mProgress: [ 90%]\u001b[49m\u001b[39m [####################################################......] \u001b8Setting up libcairo2:amd64 (1.16.0-4ubuntu1) ...\n",
      "\u001b7\u001b[24;0f\u001b[42m\u001b[30mProgress: [ 91%]\u001b[49m\u001b[39m [####################################################......] \u001b8Setting up libgd3:amd64 (2.2.5-5.2ubuntu2) ...\n",
      "\u001b7\u001b[24;0f\u001b[42m\u001b[30mProgress: [ 92%]\u001b[49m\u001b[39m [#####################################################.....] \u001b8Setting up libxt6:amd64 (1:1.1.5-1) ...\n",
      "\u001b7\u001b[24;0f\u001b[42m\u001b[30mProgress: [ 93%]\u001b[49m\u001b[39m [#####################################################.....] \u001b8Setting up libpangoft2-1.0-0:amd64 (1.44.7-2ubuntu4) ...\n",
      "\u001b7\u001b[24;0f\u001b[42m\u001b[30mProgress: [ 94%]\u001b[49m\u001b[39m [######################################################....] \u001b8Setting up libpangocairo-1.0-0:amd64 (1.44.7-2ubuntu4) ...\n",
      "\u001b7\u001b[24;0f\u001b[42m\u001b[30mProgress: [ 95%]\u001b[49m\u001b[39m [#######################################################...] \u001b8Setting up libxmu6:amd64 (2:1.1.3-0ubuntu1) ...\n",
      "\u001b7\u001b[24;0f\u001b[42m\u001b[30mProgress: [ 96%]\u001b[49m\u001b[39m [#######################################################...] \u001b8Setting up libxaw7:amd64 (2:1.0.13-1) ...\n",
      "\u001b7\u001b[24;0f\u001b[42m\u001b[30mProgress: [ 97%]\u001b[49m\u001b[39m [########################################################..] \u001b8Setting up libgvc6 (2.42.2-3build2) ...\n",
      "\u001b7\u001b[24;0f\u001b[42m\u001b[30mProgress: [ 98%]\u001b[49m\u001b[39m [########################################################..] \u001b8Setting up graphviz (2.42.2-3build2) ...\n",
      "\u001b7\u001b[24;0f\u001b[42m\u001b[30mProgress: [ 99%]\u001b[49m\u001b[39m [#########################################################.] \u001b8Processing triggers for systemd (245.4-4ubuntu3.4) ...\n",
      "Processing triggers for libc-bin (2.31-0ubuntu9.1) ...\n",
      "\n",
      "\u001b7\u001b[0;24r\u001b8\u001b[1A\u001b[J"
     ]
    }
   ],
   "source": [
    "apt install graphviz -y"
   ]
  },
  {
   "cell_type": "code",
   "execution_count": 43,
   "metadata": {},
   "outputs": [],
   "source": [
    "dot -Tpng -Grankdir=LR minikube.dot -o minikube.png"
   ]
  },
  {
   "cell_type": "markdown",
   "metadata": {},
   "source": [
    "![Minikube](minikube.png)"
   ]
  },
  {
   "cell_type": "code",
   "execution_count": 47,
   "metadata": {},
   "outputs": [
    {
     "name": "stdout",
     "output_type": "stream",
     "text": [
      "Resources                                       Non-Resource URLs                     Resource Names   Verbs\n",
      "*.*                                             []                                    []               [*]\n",
      "selfsubjectaccessreviews.authorization.k8s.io   []                                    []               [create]\n",
      "selfsubjectrulesreviews.authorization.k8s.io    []                                    []               [create]\n",
      "                                                [/.well-known/openid-configuration]   []               [get]\n",
      "                                                [/api/*]                              []               [get]\n",
      "                                                [/api]                                []               [get]\n",
      "                                                [/apis/*]                             []               [get]\n",
      "                                                [/apis]                               []               [get]\n",
      "                                                [/healthz]                            []               [get]\n",
      "                                                [/healthz]                            []               [get]\n",
      "                                                [/livez]                              []               [get]\n",
      "                                                [/livez]                              []               [get]\n",
      "                                                [/openapi/*]                          []               [get]\n",
      "                                                [/openapi]                            []               [get]\n",
      "                                                [/openid/v1/jwks]                     []               [get]\n",
      "                                                [/readyz]                             []               [get]\n",
      "                                                [/readyz]                             []               [get]\n",
      "                                                [/version/]                           []               [get]\n",
      "                                                [/version/]                           []               [get]\n",
      "                                                [/version]                            []               [get]\n",
      "                                                [/version]                            []               [get]\n"
     ]
    }
   ],
   "source": [
    "kubectl --kubeconfig ${KUBECONFIG}  auth can-i --list"
   ]
  },
  {
   "cell_type": "code",
   "execution_count": 44,
   "metadata": {
    "collapsed": true,
    "jupyter": {
     "outputs_hidden": true
    }
   },
   "outputs": [
    {
     "name": "stdout",
     "output_type": "stream",
     "text": [
      "  rolebindings.rbac.authorization.k8s.io          []                 []              [\u001b[01;31m\u001b[Kcreate\u001b[m\u001b[K delete deletecollection get list patch update watch]\n",
      "  roles.rbac.authorization.k8s.io                 []                 []              [\u001b[01;31m\u001b[Kcreate\u001b[m\u001b[K delete deletecollection get list patch update watch]\n",
      "  configmaps                                      []                 []              [\u001b[01;31m\u001b[Kcreate\u001b[m\u001b[K delete deletecollection patch update get list watch]\n",
      "  endpoints                                       []                 []              [\u001b[01;31m\u001b[Kcreate\u001b[m\u001b[K delete deletecollection patch update get list watch]\n",
      "  persistentvolumeclaims                          []                 []              [\u001b[01;31m\u001b[Kcreate\u001b[m\u001b[K delete deletecollection patch update get list watch]\n",
      "  pods                                            []                 []              [\u001b[01;31m\u001b[Kcreate\u001b[m\u001b[K delete deletecollection patch update get list watch]\n",
      "  replicationcontrollers/scale                    []                 []              [\u001b[01;31m\u001b[Kcreate\u001b[m\u001b[K delete deletecollection patch update get list watch]\n",
      "  replicationcontrollers                          []                 []              [\u001b[01;31m\u001b[Kcreate\u001b[m\u001b[K delete deletecollection patch update get list watch]\n",
      "  services                                        []                 []              [\u001b[01;31m\u001b[Kcreate\u001b[m\u001b[K delete deletecollection patch update get list watch]\n",
      "  daemonsets.apps                                 []                 []              [\u001b[01;31m\u001b[Kcreate\u001b[m\u001b[K delete deletecollection patch update get list watch]\n",
      "  deployments.apps/scale                          []                 []              [\u001b[01;31m\u001b[Kcreate\u001b[m\u001b[K delete deletecollection patch update get list watch]\n",
      "  deployments.apps                                []                 []              [\u001b[01;31m\u001b[Kcreate\u001b[m\u001b[K delete deletecollection patch update get list watch]\n",
      "  replicasets.apps/scale                          []                 []              [\u001b[01;31m\u001b[Kcreate\u001b[m\u001b[K delete deletecollection patch update get list watch]\n",
      "  replicasets.apps                                []                 []              [\u001b[01;31m\u001b[Kcreate\u001b[m\u001b[K delete deletecollection patch update get list watch]\n",
      "  statefulsets.apps/scale                         []                 []              [\u001b[01;31m\u001b[Kcreate\u001b[m\u001b[K delete deletecollection patch update get list watch]\n",
      "  statefulsets.apps                               []                 []              [\u001b[01;31m\u001b[Kcreate\u001b[m\u001b[K delete deletecollection patch update get list watch]\n",
      "  horizontalpodautoscalers.autoscaling            []                 []              [\u001b[01;31m\u001b[Kcreate\u001b[m\u001b[K delete deletecollection patch update get list watch]\n",
      "  cronjobs.batch                                  []                 []              [\u001b[01;31m\u001b[Kcreate\u001b[m\u001b[K delete deletecollection patch update get list watch]\n",
      "  jobs.batch                                      []                 []              [\u001b[01;31m\u001b[Kcreate\u001b[m\u001b[K delete deletecollection patch update get list watch]\n",
      "  daemonsets.extensions                           []                 []              [\u001b[01;31m\u001b[Kcreate\u001b[m\u001b[K delete deletecollection patch update get list watch]\n",
      "  deployments.extensions/scale                    []                 []              [\u001b[01;31m\u001b[Kcreate\u001b[m\u001b[K delete deletecollection patch update get list watch]\n",
      "  deployments.extensions                          []                 []              [\u001b[01;31m\u001b[Kcreate\u001b[m\u001b[K delete deletecollection patch update get list watch]\n",
      "  ingresses.extensions                            []                 []              [\u001b[01;31m\u001b[Kcreate\u001b[m\u001b[K delete deletecollection patch update get list watch]\n",
      "  networkpolicies.extensions                      []                 []              [\u001b[01;31m\u001b[Kcreate\u001b[m\u001b[K delete deletecollection patch update get list watch]\n",
      "  replicasets.extensions/scale                    []                 []              [\u001b[01;31m\u001b[Kcreate\u001b[m\u001b[K delete deletecollection patch update get list watch]\n",
      "  replicasets.extensions                          []                 []              [\u001b[01;31m\u001b[Kcreate\u001b[m\u001b[K delete deletecollection patch update get list watch]\n",
      "  replicationcontrollers.extensions/scale         []                 []              [\u001b[01;31m\u001b[Kcreate\u001b[m\u001b[K delete deletecollection patch update get list watch]\n",
      "  ingresses.networking.k8s.io                     []                 []              [\u001b[01;31m\u001b[Kcreate\u001b[m\u001b[K delete deletecollection patch update get list watch]\n",
      "  networkpolicies.networking.k8s.io               []                 []              [\u001b[01;31m\u001b[Kcreate\u001b[m\u001b[K delete deletecollection patch update get list watch]\n",
      "  poddisruptionbudgets.policy                     []                 []              [\u001b[01;31m\u001b[Kcreate\u001b[m\u001b[K delete deletecollection patch update get list watch]\n",
      "  deployments.apps/rollback                       []                 []              [\u001b[01;31m\u001b[Kcreate\u001b[m\u001b[K delete deletecollection patch update]\n",
      "  deployments.extensions/rollback                 []                 []              [\u001b[01;31m\u001b[Kcreate\u001b[m\u001b[K delete deletecollection patch update]\n",
      "  localsubjectaccessreviews.authorization.k8s.io  []                 []              [\u001b[01;31m\u001b[Kcreate\u001b[m\u001b[K]\n",
      "  pods/attach                                     []                 []              [get list watch \u001b[01;31m\u001b[Kcreate\u001b[m\u001b[K delete deletecollection patch update]\n",
      "  pods/exec                                       []                 []              [get list watch \u001b[01;31m\u001b[Kcreate\u001b[m\u001b[K delete deletecollection patch update]\n",
      "  pods/portforward                                []                 []              [get list watch \u001b[01;31m\u001b[Kcreate\u001b[m\u001b[K delete deletecollection patch update]\n",
      "  pods/proxy                                      []                 []              [get list watch \u001b[01;31m\u001b[Kcreate\u001b[m\u001b[K delete deletecollection patch update]\n",
      "  secrets                                         []                 []              [get list watch \u001b[01;31m\u001b[Kcreate\u001b[m\u001b[K delete deletecollection patch update]\n",
      "  services/proxy                                  []                 []              [get list watch \u001b[01;31m\u001b[Kcreate\u001b[m\u001b[K delete deletecollection patch update]\n",
      "  serviceaccounts                                 []                 []              [impersonate \u001b[01;31m\u001b[Kcreate\u001b[m\u001b[K delete deletecollection patch update get list watch]\n",
      "  configmaps                                   []                 []              [\u001b[01;31m\u001b[Kcreate\u001b[m\u001b[K delete deletecollection patch update get list watch]\n",
      "  endpoints                                    []                 []              [\u001b[01;31m\u001b[Kcreate\u001b[m\u001b[K delete deletecollection patch update get list watch]\n",
      "  persistentvolumeclaims                       []                 []              [\u001b[01;31m\u001b[Kcreate\u001b[m\u001b[K delete deletecollection patch update get list watch]\n",
      "  pods                                         []                 []              [\u001b[01;31m\u001b[Kcreate\u001b[m\u001b[K delete deletecollection patch update get list watch]\n",
      "  replicationcontrollers/scale                 []                 []              [\u001b[01;31m\u001b[Kcreate\u001b[m\u001b[K delete deletecollection patch update get list watch]\n",
      "  replicationcontrollers                       []                 []              [\u001b[01;31m\u001b[Kcreate\u001b[m\u001b[K delete deletecollection patch update get list watch]\n",
      "  services                                     []                 []              [\u001b[01;31m\u001b[Kcreate\u001b[m\u001b[K delete deletecollection patch update get list watch]\n",
      "  daemonsets.apps                              []                 []              [\u001b[01;31m\u001b[Kcreate\u001b[m\u001b[K delete deletecollection patch update get list watch]\n",
      "  deployments.apps/scale                       []                 []              [\u001b[01;31m\u001b[Kcreate\u001b[m\u001b[K delete deletecollection patch update get list watch]\n",
      "  deployments.apps                             []                 []              [\u001b[01;31m\u001b[Kcreate\u001b[m\u001b[K delete deletecollection patch update get list watch]\n",
      "  replicasets.apps/scale                       []                 []              [\u001b[01;31m\u001b[Kcreate\u001b[m\u001b[K delete deletecollection patch update get list watch]\n",
      "  replicasets.apps                             []                 []              [\u001b[01;31m\u001b[Kcreate\u001b[m\u001b[K delete deletecollection patch update get list watch]\n",
      "  statefulsets.apps/scale                      []                 []              [\u001b[01;31m\u001b[Kcreate\u001b[m\u001b[K delete deletecollection patch update get list watch]\n",
      "  statefulsets.apps                            []                 []              [\u001b[01;31m\u001b[Kcreate\u001b[m\u001b[K delete deletecollection patch update get list watch]\n",
      "  horizontalpodautoscalers.autoscaling         []                 []              [\u001b[01;31m\u001b[Kcreate\u001b[m\u001b[K delete deletecollection patch update get list watch]\n",
      "  cronjobs.batch                               []                 []              [\u001b[01;31m\u001b[Kcreate\u001b[m\u001b[K delete deletecollection patch update get list watch]\n",
      "  jobs.batch                                   []                 []              [\u001b[01;31m\u001b[Kcreate\u001b[m\u001b[K delete deletecollection patch update get list watch]\n",
      "  daemonsets.extensions                        []                 []              [\u001b[01;31m\u001b[Kcreate\u001b[m\u001b[K delete deletecollection patch update get list watch]\n",
      "  deployments.extensions/scale                 []                 []              [\u001b[01;31m\u001b[Kcreate\u001b[m\u001b[K delete deletecollection patch update get list watch]\n",
      "  deployments.extensions                       []                 []              [\u001b[01;31m\u001b[Kcreate\u001b[m\u001b[K delete deletecollection patch update get list watch]\n",
      "  ingresses.extensions                         []                 []              [\u001b[01;31m\u001b[Kcreate\u001b[m\u001b[K delete deletecollection patch update get list watch]\n",
      "  networkpolicies.extensions                   []                 []              [\u001b[01;31m\u001b[Kcreate\u001b[m\u001b[K delete deletecollection patch update get list watch]\n",
      "  replicasets.extensions/scale                 []                 []              [\u001b[01;31m\u001b[Kcreate\u001b[m\u001b[K delete deletecollection patch update get list watch]\n",
      "  replicasets.extensions                       []                 []              [\u001b[01;31m\u001b[Kcreate\u001b[m\u001b[K delete deletecollection patch update get list watch]\n",
      "  replicationcontrollers.extensions/scale      []                 []              [\u001b[01;31m\u001b[Kcreate\u001b[m\u001b[K delete deletecollection patch update get list watch]\n",
      "  ingresses.networking.k8s.io                  []                 []              [\u001b[01;31m\u001b[Kcreate\u001b[m\u001b[K delete deletecollection patch update get list watch]\n",
      "  networkpolicies.networking.k8s.io            []                 []              [\u001b[01;31m\u001b[Kcreate\u001b[m\u001b[K delete deletecollection patch update get list watch]\n",
      "  poddisruptionbudgets.policy                  []                 []              [\u001b[01;31m\u001b[Kcreate\u001b[m\u001b[K delete deletecollection patch update get list watch]\n",
      "  deployments.apps/rollback                    []                 []              [\u001b[01;31m\u001b[Kcreate\u001b[m\u001b[K delete deletecollection patch update]\n",
      "  deployments.extensions/rollback              []                 []              [\u001b[01;31m\u001b[Kcreate\u001b[m\u001b[K delete deletecollection patch update]\n",
      "  pods/attach                                  []                 []              [get list watch \u001b[01;31m\u001b[Kcreate\u001b[m\u001b[K delete deletecollection patch update]\n",
      "  pods/exec                                    []                 []              [get list watch \u001b[01;31m\u001b[Kcreate\u001b[m\u001b[K delete deletecollection patch update]\n",
      "  pods/portforward                             []                 []              [get list watch \u001b[01;31m\u001b[Kcreate\u001b[m\u001b[K delete deletecollection patch update]\n",
      "  pods/proxy                                   []                 []              [get list watch \u001b[01;31m\u001b[Kcreate\u001b[m\u001b[K delete deletecollection patch update]\n",
      "  secrets                                      []                 []              [get list watch \u001b[01;31m\u001b[Kcreate\u001b[m\u001b[K delete deletecollection patch update]\n",
      "  services/proxy                               []                 []              [get list watch \u001b[01;31m\u001b[Kcreate\u001b[m\u001b[K delete deletecollection patch update]\n",
      "  serviceaccounts                              []                 []              [impersonate \u001b[01;31m\u001b[Kcreate\u001b[m\u001b[K delete deletecollection patch update get list watch]\n",
      "  rolebindings.rbac.authorization.k8s.io          []                 []              [\u001b[01;31m\u001b[Kcreate\u001b[m\u001b[K delete deletecollection get list patch update watch]\n",
      "  roles.rbac.authorization.k8s.io                 []                 []              [\u001b[01;31m\u001b[Kcreate\u001b[m\u001b[K delete deletecollection get list patch update watch]\n",
      "  localsubjectaccessreviews.authorization.k8s.io  []                 []              [\u001b[01;31m\u001b[Kcreate\u001b[m\u001b[K]\n",
      "  configmaps                               []                 []              [\u001b[01;31m\u001b[Kcreate\u001b[m\u001b[K delete deletecollection patch update]\n",
      "  endpoints                                []                 []              [\u001b[01;31m\u001b[Kcreate\u001b[m\u001b[K delete deletecollection patch update]\n",
      "  persistentvolumeclaims                   []                 []              [\u001b[01;31m\u001b[Kcreate\u001b[m\u001b[K delete deletecollection patch update]\n",
      "  pods                                     []                 []              [\u001b[01;31m\u001b[Kcreate\u001b[m\u001b[K delete deletecollection patch update]\n",
      "  replicationcontrollers/scale             []                 []              [\u001b[01;31m\u001b[Kcreate\u001b[m\u001b[K delete deletecollection patch update]\n",
      "  replicationcontrollers                   []                 []              [\u001b[01;31m\u001b[Kcreate\u001b[m\u001b[K delete deletecollection patch update]\n",
      "  services                                 []                 []              [\u001b[01;31m\u001b[Kcreate\u001b[m\u001b[K delete deletecollection patch update]\n",
      "  daemonsets.apps                          []                 []              [\u001b[01;31m\u001b[Kcreate\u001b[m\u001b[K delete deletecollection patch update]\n",
      "  deployments.apps/rollback                []                 []              [\u001b[01;31m\u001b[Kcreate\u001b[m\u001b[K delete deletecollection patch update]\n",
      "  deployments.apps/scale                   []                 []              [\u001b[01;31m\u001b[Kcreate\u001b[m\u001b[K delete deletecollection patch update]\n",
      "  deployments.apps                         []                 []              [\u001b[01;31m\u001b[Kcreate\u001b[m\u001b[K delete deletecollection patch update]\n",
      "  replicasets.apps/scale                   []                 []              [\u001b[01;31m\u001b[Kcreate\u001b[m\u001b[K delete deletecollection patch update]\n",
      "  replicasets.apps                         []                 []              [\u001b[01;31m\u001b[Kcreate\u001b[m\u001b[K delete deletecollection patch update]\n",
      "  statefulsets.apps/scale                  []                 []              [\u001b[01;31m\u001b[Kcreate\u001b[m\u001b[K delete deletecollection patch update]\n",
      "  statefulsets.apps                        []                 []              [\u001b[01;31m\u001b[Kcreate\u001b[m\u001b[K delete deletecollection patch update]\n",
      "  horizontalpodautoscalers.autoscaling     []                 []              [\u001b[01;31m\u001b[Kcreate\u001b[m\u001b[K delete deletecollection patch update]\n",
      "  cronjobs.batch                           []                 []              [\u001b[01;31m\u001b[Kcreate\u001b[m\u001b[K delete deletecollection patch update]\n",
      "  jobs.batch                               []                 []              [\u001b[01;31m\u001b[Kcreate\u001b[m\u001b[K delete deletecollection patch update]\n",
      "  daemonsets.extensions                    []                 []              [\u001b[01;31m\u001b[Kcreate\u001b[m\u001b[K delete deletecollection patch update]\n",
      "  deployments.extensions/rollback          []                 []              [\u001b[01;31m\u001b[Kcreate\u001b[m\u001b[K delete deletecollection patch update]\n",
      "  deployments.extensions/scale             []                 []              [\u001b[01;31m\u001b[Kcreate\u001b[m\u001b[K delete deletecollection patch update]\n",
      "  deployments.extensions                   []                 []              [\u001b[01;31m\u001b[Kcreate\u001b[m\u001b[K delete deletecollection patch update]\n",
      "  ingresses.extensions                     []                 []              [\u001b[01;31m\u001b[Kcreate\u001b[m\u001b[K delete deletecollection patch update]\n",
      "  networkpolicies.extensions               []                 []              [\u001b[01;31m\u001b[Kcreate\u001b[m\u001b[K delete deletecollection patch update]\n",
      "  replicasets.extensions/scale             []                 []              [\u001b[01;31m\u001b[Kcreate\u001b[m\u001b[K delete deletecollection patch update]\n",
      "  replicasets.extensions                   []                 []              [\u001b[01;31m\u001b[Kcreate\u001b[m\u001b[K delete deletecollection patch update]\n",
      "  replicationcontrollers.extensions/scale  []                 []              [\u001b[01;31m\u001b[Kcreate\u001b[m\u001b[K delete deletecollection patch update]\n",
      "  ingresses.networking.k8s.io              []                 []              [\u001b[01;31m\u001b[Kcreate\u001b[m\u001b[K delete deletecollection patch update]\n",
      "  networkpolicies.networking.k8s.io        []                 []              [\u001b[01;31m\u001b[Kcreate\u001b[m\u001b[K delete deletecollection patch update]\n",
      "  poddisruptionbudgets.policy              []                 []              [\u001b[01;31m\u001b[Kcreate\u001b[m\u001b[K delete deletecollection patch update]\n",
      "  pods/attach                              []                 []              [get list watch \u001b[01;31m\u001b[Kcreate\u001b[m\u001b[K delete deletecollection patch update]\n",
      "  pods/exec                                []                 []              [get list watch \u001b[01;31m\u001b[Kcreate\u001b[m\u001b[K delete deletecollection patch update]\n",
      "  pods/portforward                         []                 []              [get list watch \u001b[01;31m\u001b[Kcreate\u001b[m\u001b[K delete deletecollection patch update]\n",
      "  pods/proxy                               []                 []              [get list watch \u001b[01;31m\u001b[Kcreate\u001b[m\u001b[K delete deletecollection patch update]\n",
      "  secrets                                  []                 []              [get list watch \u001b[01;31m\u001b[Kcreate\u001b[m\u001b[K delete deletecollection patch update]\n",
      "  services/proxy                           []                 []              [get list watch \u001b[01;31m\u001b[Kcreate\u001b[m\u001b[K delete deletecollection patch update]\n",
      "  serviceaccounts                          []                 []              [impersonate \u001b[01;31m\u001b[Kcreate\u001b[m\u001b[K delete deletecollection patch update]\n",
      "  tokenreviews.authentication.k8s.io         []                 []              [\u001b[01;31m\u001b[Kcreate\u001b[m\u001b[K]\n",
      "  subjectaccessreviews.authorization.k8s.io  []                 []              [\u001b[01;31m\u001b[Kcreate\u001b[m\u001b[K]\n",
      "  selfsubjectaccessreviews.authorization.k8s.io  []                 []              [\u001b[01;31m\u001b[Kcreate\u001b[m\u001b[K]\n",
      "  selfsubjectrulesreviews.authorization.k8s.io   []                 []              [\u001b[01;31m\u001b[Kcreate\u001b[m\u001b[K]\n",
      "  certificatesigningrequests.certificates.k8s.io/nodeclient  []                 []              [\u001b[01;31m\u001b[Kcreate\u001b[m\u001b[K]\n",
      "  certificatesigningrequests.certificates.k8s.io/selfnodeclient  []                 []              [\u001b[01;31m\u001b[Kcreate\u001b[m\u001b[K]\n",
      "  volumeattachments.storage.k8s.io  []                 []              [\u001b[01;31m\u001b[Kcreate\u001b[m\u001b[K delete get list watch]\n",
      "  events                            []                 []              [\u001b[01;31m\u001b[Kcreate\u001b[m\u001b[K patch update]\n",
      "  events.events.k8s.io              []                 []              [\u001b[01;31m\u001b[Kcreate\u001b[m\u001b[K patch update]\n",
      "  events                                                   []                 []                                             [\u001b[01;31m\u001b[Kcreate\u001b[m\u001b[K patch update]\n",
      "  events.events.k8s.io                                     []                 []                                             [\u001b[01;31m\u001b[Kcreate\u001b[m\u001b[K patch update]\n",
      "  subjectaccessreviews.authorization.k8s.io                []                 []                                             [\u001b[01;31m\u001b[Kcreate\u001b[m\u001b[K]\n",
      "  jobs.batch                 []                 []              [\u001b[01;31m\u001b[Kcreate\u001b[m\u001b[K delete get list patch update watch]\n",
      "  events                     []                 []              [\u001b[01;31m\u001b[Kcreate\u001b[m\u001b[K patch update]\n",
      "  events.events.k8s.io       []                 []              [\u001b[01;31m\u001b[Kcreate\u001b[m\u001b[K patch update]\n",
      "  controllerrevisions.apps          []                 []              [\u001b[01;31m\u001b[Kcreate\u001b[m\u001b[K delete get list patch update watch]\n",
      "  pods                              []                 []              [\u001b[01;31m\u001b[Kcreate\u001b[m\u001b[K delete list patch watch]\n",
      "  events                            []                 []              [\u001b[01;31m\u001b[Kcreate\u001b[m\u001b[K patch update]\n",
      "  events.events.k8s.io              []                 []              [\u001b[01;31m\u001b[Kcreate\u001b[m\u001b[K patch update]\n",
      "  pods/binding                      []                 []              [\u001b[01;31m\u001b[Kcreate\u001b[m\u001b[K]\n",
      "  replicasets.apps                   []                 []              [\u001b[01;31m\u001b[Kcreate\u001b[m\u001b[K delete get list patch update watch]\n",
      "  replicasets.extensions             []                 []              [\u001b[01;31m\u001b[Kcreate\u001b[m\u001b[K delete get list patch update watch]\n",
      "  events                             []                 []              [\u001b[01;31m\u001b[Kcreate\u001b[m\u001b[K patch update]\n",
      "  events.events.k8s.io               []                 []              [\u001b[01;31m\u001b[Kcreate\u001b[m\u001b[K patch update]\n",
      "  events                              []                 []              [\u001b[01;31m\u001b[Kcreate\u001b[m\u001b[K patch update]\n",
      "  events.events.k8s.io                []                 []              [\u001b[01;31m\u001b[Kcreate\u001b[m\u001b[K patch update]\n",
      "  endpoints             []                 []              [\u001b[01;31m\u001b[Kcreate\u001b[m\u001b[K delete get list update]\n",
      "  events                []                 []              [\u001b[01;31m\u001b[Kcreate\u001b[m\u001b[K patch update]\n",
      "  events.events.k8s.io  []                 []              [\u001b[01;31m\u001b[Kcreate\u001b[m\u001b[K patch update]\n",
      "  endpoints/restricted  []                 []              [\u001b[01;31m\u001b[Kcreate\u001b[m\u001b[K]\n",
      "  endpointslices.discovery.k8s.io  []                 []              [\u001b[01;31m\u001b[Kcreate\u001b[m\u001b[K delete get list update]\n",
      "  events                           []                 []              [\u001b[01;31m\u001b[Kcreate\u001b[m\u001b[K patch update]\n",
      "  events.events.k8s.io             []                 []              [\u001b[01;31m\u001b[Kcreate\u001b[m\u001b[K patch update]\n",
      "  endpointslices.discovery.k8s.io  []                 []              [\u001b[01;31m\u001b[Kcreate\u001b[m\u001b[K delete get list update]\n",
      "  events                           []                 []              [\u001b[01;31m\u001b[Kcreate\u001b[m\u001b[K patch update]\n",
      "  events.events.k8s.io             []                 []              [\u001b[01;31m\u001b[Kcreate\u001b[m\u001b[K patch update]\n",
      "  events                         []                 []              [\u001b[01;31m\u001b[Kcreate\u001b[m\u001b[K patch update]\n",
      "  events.events.k8s.io           []                 []              [\u001b[01;31m\u001b[Kcreate\u001b[m\u001b[K patch update]\n",
      "  events                []                 []              [\u001b[01;31m\u001b[Kcreate\u001b[m\u001b[K patch update]\n",
      "  events.events.k8s.io  []                 []              [\u001b[01;31m\u001b[Kcreate\u001b[m\u001b[K patch update]\n",
      "  events                                       []                 []                 [\u001b[01;31m\u001b[Kcreate\u001b[m\u001b[K patch update]\n",
      "  events.events.k8s.io                         []                 []                 [\u001b[01;31m\u001b[Kcreate\u001b[m\u001b[K patch update]\n",
      "  pods                   []                 []              [\u001b[01;31m\u001b[Kcreate\u001b[m\u001b[K delete list patch watch]\n",
      "  events                 []                 []              [\u001b[01;31m\u001b[Kcreate\u001b[m\u001b[K patch update]\n",
      "  events.events.k8s.io   []                 []              [\u001b[01;31m\u001b[Kcreate\u001b[m\u001b[K patch update]\n",
      "  events                []                 []              [\u001b[01;31m\u001b[Kcreate\u001b[m\u001b[K patch update]\n",
      "  events.events.k8s.io  []                 []              [\u001b[01;31m\u001b[Kcreate\u001b[m\u001b[K patch update]\n",
      "  persistentvolumes              []                 []              [\u001b[01;31m\u001b[Kcreate\u001b[m\u001b[K delete get list update watch]\n",
      "  pods                           []                 []              [\u001b[01;31m\u001b[Kcreate\u001b[m\u001b[K delete get list watch]\n",
      "  endpoints                      []                 []              [\u001b[01;31m\u001b[Kcreate\u001b[m\u001b[K delete get update]\n",
      "  services                       []                 []              [\u001b[01;31m\u001b[Kcreate\u001b[m\u001b[K delete get]\n",
      "  events.events.k8s.io           []                 []              [\u001b[01;31m\u001b[Kcreate\u001b[m\u001b[K patch update]\n",
      "  events                         []                 []              [watch \u001b[01;31m\u001b[Kcreate\u001b[m\u001b[K patch update]\n",
      "  events                []                 []              [\u001b[01;31m\u001b[Kcreate\u001b[m\u001b[K patch update]\n",
      "  events.events.k8s.io  []                 []              [\u001b[01;31m\u001b[Kcreate\u001b[m\u001b[K patch update]\n",
      "  events                  []                 []              [\u001b[01;31m\u001b[Kcreate\u001b[m\u001b[K patch update]\n",
      "  events.events.k8s.io    []                 []              [\u001b[01;31m\u001b[Kcreate\u001b[m\u001b[K patch update]\n",
      "  pods                               []                 []              [\u001b[01;31m\u001b[Kcreate\u001b[m\u001b[K delete list patch watch]\n",
      "  events                             []                 []              [\u001b[01;31m\u001b[Kcreate\u001b[m\u001b[K patch update]\n",
      "  events.events.k8s.io               []                 []              [\u001b[01;31m\u001b[Kcreate\u001b[m\u001b[K patch update]\n",
      "  pods                               []                 []              [\u001b[01;31m\u001b[Kcreate\u001b[m\u001b[K delete list patch watch]\n",
      "  events                             []                 []              [\u001b[01;31m\u001b[Kcreate\u001b[m\u001b[K patch update]\n",
      "  events.events.k8s.io               []                 []              [\u001b[01;31m\u001b[Kcreate\u001b[m\u001b[K patch update]\n",
      "  events                 []                 []              [\u001b[01;31m\u001b[Kcreate\u001b[m\u001b[K patch update]\n",
      "  events.events.k8s.io   []                 []              [\u001b[01;31m\u001b[Kcreate\u001b[m\u001b[K patch update]\n",
      "  events                []                 []              [\u001b[01;31m\u001b[Kcreate\u001b[m\u001b[K patch update]\n",
      "  events.events.k8s.io  []                 []              [\u001b[01;31m\u001b[Kcreate\u001b[m\u001b[K patch update]\n",
      "  configmaps            []                 []              [\u001b[01;31m\u001b[Kcreate\u001b[m\u001b[K update]\n",
      "  events                []                 []              [\u001b[01;31m\u001b[Kcreate\u001b[m\u001b[K patch update]\n",
      "  events.events.k8s.io  []                 []              [\u001b[01;31m\u001b[Kcreate\u001b[m\u001b[K patch update]\n",
      "  events                []                 []              [\u001b[01;31m\u001b[Kcreate\u001b[m\u001b[K patch update]\n",
      "  events.events.k8s.io  []                 []              [\u001b[01;31m\u001b[Kcreate\u001b[m\u001b[K patch update]\n",
      "  serviceaccounts       []                 []              [\u001b[01;31m\u001b[Kcreate\u001b[m\u001b[K]\n",
      "  events                []                 []              [\u001b[01;31m\u001b[Kcreate\u001b[m\u001b[K patch update]\n",
      "  events.events.k8s.io  []                 []              [\u001b[01;31m\u001b[Kcreate\u001b[m\u001b[K patch update]\n",
      "  controllerrevisions.apps      []                 []              [\u001b[01;31m\u001b[Kcreate\u001b[m\u001b[K delete get list patch update watch]\n",
      "  persistentvolumeclaims        []                 []              [\u001b[01;31m\u001b[Kcreate\u001b[m\u001b[K get]\n",
      "  events                        []                 []              [\u001b[01;31m\u001b[Kcreate\u001b[m\u001b[K patch update]\n",
      "  events.events.k8s.io          []                 []              [\u001b[01;31m\u001b[Kcreate\u001b[m\u001b[K patch update]\n",
      "  pods                          []                 []              [list watch \u001b[01;31m\u001b[Kcreate\u001b[m\u001b[K delete get patch update]\n",
      "  events                []                 []              [\u001b[01;31m\u001b[Kcreate\u001b[m\u001b[K patch update]\n",
      "  events.events.k8s.io  []                 []              [\u001b[01;31m\u001b[Kcreate\u001b[m\u001b[K patch update]\n",
      "  secrets                                    []                 []                         [\u001b[01;31m\u001b[Kcreate\u001b[m\u001b[K delete get update]\n",
      "  serviceaccounts                            []                 []                         [\u001b[01;31m\u001b[Kcreate\u001b[m\u001b[K get update]\n",
      "  events                                     []                 []                         [\u001b[01;31m\u001b[Kcreate\u001b[m\u001b[K patch update]\n",
      "  events.events.k8s.io                       []                 []                         [\u001b[01;31m\u001b[Kcreate\u001b[m\u001b[K patch update]\n",
      "  endpoints                                  []                 []                         [\u001b[01;31m\u001b[Kcreate\u001b[m\u001b[K]\n",
      "  serviceaccounts/token                      []                 []                         [\u001b[01;31m\u001b[Kcreate\u001b[m\u001b[K]\n",
      "  tokenreviews.authentication.k8s.io         []                 []                         [\u001b[01;31m\u001b[Kcreate\u001b[m\u001b[K]\n",
      "  subjectaccessreviews.authorization.k8s.io  []                 []                         [\u001b[01;31m\u001b[Kcreate\u001b[m\u001b[K]\n",
      "  leases.coordination.k8s.io                 []                 []                         [\u001b[01;31m\u001b[Kcreate\u001b[m\u001b[K]\n",
      "  events                                     []                 []                [\u001b[01;31m\u001b[Kcreate\u001b[m\u001b[K patch update]\n",
      "  events.events.k8s.io                       []                 []                [\u001b[01;31m\u001b[Kcreate\u001b[m\u001b[K patch update]\n",
      "  bindings                                   []                 []                [\u001b[01;31m\u001b[Kcreate\u001b[m\u001b[K]\n",
      "  endpoints                                  []                 []                [\u001b[01;31m\u001b[Kcreate\u001b[m\u001b[K]\n",
      "  pods/binding                               []                 []                [\u001b[01;31m\u001b[Kcreate\u001b[m\u001b[K]\n",
      "  tokenreviews.authentication.k8s.io         []                 []                [\u001b[01;31m\u001b[Kcreate\u001b[m\u001b[K]\n",
      "  subjectaccessreviews.authorization.k8s.io  []                 []                [\u001b[01;31m\u001b[Kcreate\u001b[m\u001b[K]\n",
      "  leases.coordination.k8s.io                 []                 []                [\u001b[01;31m\u001b[Kcreate\u001b[m\u001b[K]\n",
      "  leases.coordination.k8s.io                      []                 []              [\u001b[01;31m\u001b[Kcreate\u001b[m\u001b[K delete get patch update]\n",
      "  csinodes.storage.k8s.io                         []                 []              [\u001b[01;31m\u001b[Kcreate\u001b[m\u001b[K delete get patch update]\n",
      "  nodes                                           []                 []              [\u001b[01;31m\u001b[Kcreate\u001b[m\u001b[K get list watch patch update]\n",
      "  certificatesigningrequests.certificates.k8s.io  []                 []              [\u001b[01;31m\u001b[Kcreate\u001b[m\u001b[K get list watch]\n",
      "  events                                          []                 []              [\u001b[01;31m\u001b[Kcreate\u001b[m\u001b[K patch update]\n",
      "  pods/eviction                                   []                 []              [\u001b[01;31m\u001b[Kcreate\u001b[m\u001b[K]\n",
      "  serviceaccounts/token                           []                 []              [\u001b[01;31m\u001b[Kcreate\u001b[m\u001b[K]\n",
      "  tokenreviews.authentication.k8s.io              []                 []              [\u001b[01;31m\u001b[Kcreate\u001b[m\u001b[K]\n",
      "  localsubjectaccessreviews.authorization.k8s.io  []                 []              [\u001b[01;31m\u001b[Kcreate\u001b[m\u001b[K]\n",
      "  subjectaccessreviews.authorization.k8s.io       []                 []              [\u001b[01;31m\u001b[Kcreate\u001b[m\u001b[K]\n",
      "  pods                                            []                 []              [get list watch \u001b[01;31m\u001b[Kcreate\u001b[m\u001b[K delete]\n",
      "  certificatesigningrequests.certificates.k8s.io  []                 []              [\u001b[01;31m\u001b[Kcreate\u001b[m\u001b[K get list watch]\n",
      "  events                []                 []              [\u001b[01;31m\u001b[Kcreate\u001b[m\u001b[K patch update]\n",
      "  events.events.k8s.io  []                 []              [\u001b[01;31m\u001b[Kcreate\u001b[m\u001b[K patch update]\n",
      "  events                           []                 []              [\u001b[01;31m\u001b[Kcreate\u001b[m\u001b[K patch update]\n",
      "  events.events.k8s.io             []                 []              [\u001b[01;31m\u001b[Kcreate\u001b[m\u001b[K patch update]\n",
      "  persistentvolumes              []                 []              [\u001b[01;31m\u001b[Kcreate\u001b[m\u001b[K delete get list watch]\n",
      "  events.events.k8s.io           []                 []              [\u001b[01;31m\u001b[Kcreate\u001b[m\u001b[K patch update]\n",
      "  events                         []                 []              [watch \u001b[01;31m\u001b[Kcreate\u001b[m\u001b[K patch update]\n"
     ]
    }
   ],
   "source": [
    "kubectl describe clusterrole.rbac  | grep --color=always -E '(create)'\n"
   ]
  },
  {
   "cell_type": "code",
   "execution_count": 54,
   "metadata": {},
   "outputs": [],
   "source": [
    "kubectl get sa,roles,clusterroles,clusterrolebindings -n my-namespace -o json | \\\n",
    "rback vis --include-namespaces=my-namespace --outformat dot > my-namespace-rbac.dot\n"
   ]
  },
  {
   "cell_type": "code",
   "execution_count": 55,
   "metadata": {},
   "outputs": [],
   "source": [
    "dot -Tpng -Grankdir=LR  my-namespace-rbac.dot -o  my-namespace-rbac.png"
   ]
  },
  {
   "cell_type": "markdown",
   "metadata": {},
   "source": [
    "![ my-namespace-rbac.png](my-namespace-rbac.png)"
   ]
  },
  {
   "cell_type": "code",
   "execution_count": null,
   "metadata": {
    "collapsed": true,
    "jupyter": {
     "outputs_hidden": true
    }
   },
   "outputs": [],
   "source": [
    "kubectl auth can-i --list "
   ]
  },
  {
   "cell_type": "code",
   "execution_count": 56,
   "metadata": {},
   "outputs": [],
   "source": [
    "kubectl get sa,roles,clusterroles,clusterrolebindings  -o json | \\\n",
    "rback vis --include-namespaces=my-namespace --outformat dot > defaut-rbac.dot"
   ]
  },
  {
   "cell_type": "code",
   "execution_count": 58,
   "metadata": {},
   "outputs": [],
   "source": [
    "dot -Tpng -Grankdir=LR  defaut-rbac.dot -o  default-rbac.png"
   ]
  },
  {
   "cell_type": "code",
   "execution_count": 1,
   "metadata": {},
   "outputs": [
    {
     "name": "stdout",
     "output_type": "stream",
     "text": [
      "\u001b[0m\u001b[01;35mopenshift-rules.png\u001b[0m  \u001b[01;35mrules.png\u001b[0m\n"
     ]
    }
   ],
   "source": [
    "ls *png"
   ]
  },
  {
   "cell_type": "code",
   "execution_count": 18,
   "metadata": {
    "collapsed": true,
    "jupyter": {
     "outputs_hidden": true
    }
   },
   "outputs": [
    {
     "name": "stdout",
     "output_type": "stream",
     "text": [
      "apiVersion: v1\n",
      "items:\n",
      "- apiVersion: v1\n",
      "  kind: ServiceAccount\n",
      "  metadata:\n",
      "    creationTimestamp: \"2020-06-05T18:52:04Z\"\n",
      "    name: default\n",
      "    namespace: my-namespace\n",
      "    resourceVersion: \"460\"\n",
      "    selfLink: /api/v1/namespaces/my-namespace/serviceaccounts/default\n",
      "    uid: 155da729-f38a-4829-a88a-3f09d6e61b11\n",
      "  secrets:\n",
      "  - name: default-token-nchg4\n",
      "- apiVersion: v1\n",
      "  kind: ServiceAccount\n",
      "  metadata:\n",
      "    creationTimestamp: \"2020-06-05T18:52:05Z\"\n",
      "    name: my-serviceaccount\n",
      "    namespace: my-namespace\n",
      "    resourceVersion: \"467\"\n",
      "    selfLink: /api/v1/namespaces/my-namespace/serviceaccounts/my-serviceaccount\n",
      "    uid: 305d8346-c5a6-4fff-a6dd-4e30dccc9116\n",
      "  secrets:\n",
      "  - name: my-serviceaccount-token-hm2cs\n",
      "kind: List\n",
      "metadata:\n",
      "  resourceVersion: \"\"\n",
      "  selfLink: \"\"\n"
     ]
    }
   ],
   "source": [
    "kubectl  -n my-namespace get sa -o yaml"
   ]
  },
  {
   "cell_type": "code",
   "execution_count": 12,
   "metadata": {},
   "outputs": [
    {
     "name": "stdout",
     "output_type": "stream",
     "text": [
      "\n"
     ]
    }
   ],
   "source": [
    "echo $KUBECONFIG"
   ]
  },
  {
   "cell_type": "code",
   "execution_count": 20,
   "metadata": {
    "collapsed": true,
    "jupyter": {
     "outputs_hidden": true
    }
   },
   "outputs": [
    {
     "name": "stdout",
     "output_type": "stream",
     "text": [
      "apiVersion: v1\n",
      "items:\n",
      "- apiVersion: rbac.authorization.k8s.io/v1\n",
      "  kind: RoleBinding\n",
      "  metadata:\n",
      "    creationTimestamp: \"2020-06-05T18:51:43Z\"\n",
      "    name: kubeadm:bootstrap-signer-clusterinfo\n",
      "    namespace: kube-public\n",
      "    resourceVersion: \"190\"\n",
      "    selfLink: /apis/rbac.authorization.k8s.io/v1/namespaces/kube-public/rolebindings/kubeadm:bootstrap-signer-clusterinfo\n",
      "    uid: 3fb8a795-5408-4dd8-950c-1ae04f09195a\n",
      "  roleRef:\n",
      "    apiGroup: rbac.authorization.k8s.io\n",
      "    kind: Role\n",
      "    name: kubeadm:bootstrap-signer-clusterinfo\n",
      "  subjects:\n",
      "  - apiGroup: rbac.authorization.k8s.io\n",
      "    kind: User\n",
      "    name: system:anonymous\n",
      "- apiVersion: rbac.authorization.k8s.io/v1\n",
      "  kind: RoleBinding\n",
      "  metadata:\n",
      "    annotations:\n",
      "      rbac.authorization.kubernetes.io/autoupdate: \"true\"\n",
      "    creationTimestamp: \"2020-06-05T18:51:42Z\"\n",
      "    labels:\n",
      "      kubernetes.io/bootstrapping: rbac-defaults\n",
      "    name: system:controller:bootstrap-signer\n",
      "    namespace: kube-public\n",
      "    resourceVersion: \"138\"\n",
      "    selfLink: /apis/rbac.authorization.k8s.io/v1/namespaces/kube-public/rolebindings/system:controller:bootstrap-signer\n",
      "    uid: 341f980c-79b3-41b7-be7b-89605e5adc12\n",
      "  roleRef:\n",
      "    apiGroup: rbac.authorization.k8s.io\n",
      "    kind: Role\n",
      "    name: system:controller:bootstrap-signer\n",
      "  subjects:\n",
      "  - kind: ServiceAccount\n",
      "    name: bootstrap-signer\n",
      "    namespace: kube-system\n",
      "- apiVersion: rbac.authorization.k8s.io/v1\n",
      "  kind: RoleBinding\n",
      "  metadata:\n",
      "    creationTimestamp: \"2020-06-05T18:51:44Z\"\n",
      "    name: kube-proxy\n",
      "    namespace: kube-system\n",
      "    resourceVersion: \"222\"\n",
      "    selfLink: /apis/rbac.authorization.k8s.io/v1/namespaces/kube-system/rolebindings/kube-proxy\n",
      "    uid: 369dbd49-64d4-42d5-97b0-84f06475cb3a\n",
      "  roleRef:\n",
      "    apiGroup: rbac.authorization.k8s.io\n",
      "    kind: Role\n",
      "    name: kube-proxy\n",
      "  subjects:\n",
      "  - apiGroup: rbac.authorization.k8s.io\n",
      "    kind: Group\n",
      "    name: system:bootstrappers:kubeadm:default-node-token\n",
      "- apiVersion: rbac.authorization.k8s.io/v1\n",
      "  kind: RoleBinding\n",
      "  metadata:\n",
      "    creationTimestamp: \"2020-06-05T18:51:42Z\"\n",
      "    name: kubeadm:kubelet-config-1.17\n",
      "    namespace: kube-system\n",
      "    resourceVersion: \"161\"\n",
      "    selfLink: /apis/rbac.authorization.k8s.io/v1/namespaces/kube-system/rolebindings/kubeadm:kubelet-config-1.17\n",
      "    uid: 3f5ea107-e986-46f3-abbe-85a80abf9550\n",
      "  roleRef:\n",
      "    apiGroup: rbac.authorization.k8s.io\n",
      "    kind: Role\n",
      "    name: kubeadm:kubelet-config-1.17\n",
      "  subjects:\n",
      "  - apiGroup: rbac.authorization.k8s.io\n",
      "    kind: Group\n",
      "    name: system:nodes\n",
      "  - apiGroup: rbac.authorization.k8s.io\n",
      "    kind: Group\n",
      "    name: system:bootstrappers:kubeadm:default-node-token\n",
      "- apiVersion: rbac.authorization.k8s.io/v1\n",
      "  kind: RoleBinding\n",
      "  metadata:\n",
      "    creationTimestamp: \"2020-06-05T18:51:42Z\"\n",
      "    name: kubeadm:nodes-kubeadm-config\n",
      "    namespace: kube-system\n",
      "    resourceVersion: \"158\"\n",
      "    selfLink: /apis/rbac.authorization.k8s.io/v1/namespaces/kube-system/rolebindings/kubeadm:nodes-kubeadm-config\n",
      "    uid: 9b8d568d-a7ca-4cb1-8ae6-3d495ca8dd7b\n",
      "  roleRef:\n",
      "    apiGroup: rbac.authorization.k8s.io\n",
      "    kind: Role\n",
      "    name: kubeadm:nodes-kubeadm-config\n",
      "  subjects:\n",
      "  - apiGroup: rbac.authorization.k8s.io\n",
      "    kind: Group\n",
      "    name: system:bootstrappers:kubeadm:default-node-token\n",
      "  - apiGroup: rbac.authorization.k8s.io\n",
      "    kind: Group\n",
      "    name: system:nodes\n",
      "- apiVersion: rbac.authorization.k8s.io/v1\n",
      "  kind: RoleBinding\n",
      "  metadata:\n",
      "    annotations:\n",
      "      rbac.authorization.kubernetes.io/autoupdate: \"true\"\n",
      "    creationTimestamp: \"2020-06-05T18:51:42Z\"\n",
      "    labels:\n",
      "      kubernetes.io/bootstrapping: rbac-defaults\n",
      "    name: system::extension-apiserver-authentication-reader\n",
      "    namespace: kube-system\n",
      "    resourceVersion: \"139\"\n",
      "    selfLink: /apis/rbac.authorization.k8s.io/v1/namespaces/kube-system/rolebindings/system::extension-apiserver-authentication-reader\n",
      "    uid: 3c8f0026-979a-441f-a10f-09f6dd681a93\n",
      "  roleRef:\n",
      "    apiGroup: rbac.authorization.k8s.io\n",
      "    kind: Role\n",
      "    name: extension-apiserver-authentication-reader\n",
      "  subjects:\n",
      "  - apiGroup: rbac.authorization.k8s.io\n",
      "    kind: User\n",
      "    name: system:kube-controller-manager\n",
      "  - apiGroup: rbac.authorization.k8s.io\n",
      "    kind: User\n",
      "    name: system:kube-scheduler\n",
      "- apiVersion: rbac.authorization.k8s.io/v1\n",
      "  kind: RoleBinding\n",
      "  metadata:\n",
      "    annotations:\n",
      "      rbac.authorization.kubernetes.io/autoupdate: \"true\"\n",
      "    creationTimestamp: \"2020-06-05T18:51:42Z\"\n",
      "    labels:\n",
      "      kubernetes.io/bootstrapping: rbac-defaults\n",
      "    name: system::leader-locking-kube-controller-manager\n",
      "    namespace: kube-system\n",
      "    resourceVersion: \"140\"\n",
      "    selfLink: /apis/rbac.authorization.k8s.io/v1/namespaces/kube-system/rolebindings/system::leader-locking-kube-controller-manager\n",
      "    uid: 82ad8786-f565-437f-bb6c-c69002aca0ee\n",
      "  roleRef:\n",
      "    apiGroup: rbac.authorization.k8s.io\n",
      "    kind: Role\n",
      "    name: system::leader-locking-kube-controller-manager\n",
      "  subjects:\n",
      "  - apiGroup: rbac.authorization.k8s.io\n",
      "    kind: User\n",
      "    name: system:kube-controller-manager\n",
      "  - kind: ServiceAccount\n",
      "    name: kube-controller-manager\n",
      "    namespace: kube-system\n",
      "- apiVersion: rbac.authorization.k8s.io/v1\n",
      "  kind: RoleBinding\n",
      "  metadata:\n",
      "    annotations:\n",
      "      rbac.authorization.kubernetes.io/autoupdate: \"true\"\n",
      "    creationTimestamp: \"2020-06-05T18:51:42Z\"\n",
      "    labels:\n",
      "      kubernetes.io/bootstrapping: rbac-defaults\n",
      "    name: system::leader-locking-kube-scheduler\n",
      "    namespace: kube-system\n",
      "    resourceVersion: \"141\"\n",
      "    selfLink: /apis/rbac.authorization.k8s.io/v1/namespaces/kube-system/rolebindings/system::leader-locking-kube-scheduler\n",
      "    uid: 0870fa45-953e-4d92-89dc-82720bb6e44b\n",
      "  roleRef:\n",
      "    apiGroup: rbac.authorization.k8s.io\n",
      "    kind: Role\n",
      "    name: system::leader-locking-kube-scheduler\n",
      "  subjects:\n",
      "  - apiGroup: rbac.authorization.k8s.io\n",
      "    kind: User\n",
      "    name: system:kube-scheduler\n",
      "  - kind: ServiceAccount\n",
      "    name: kube-scheduler\n",
      "    namespace: kube-system\n",
      "- apiVersion: rbac.authorization.k8s.io/v1\n",
      "  kind: RoleBinding\n",
      "  metadata:\n",
      "    annotations:\n",
      "      rbac.authorization.kubernetes.io/autoupdate: \"true\"\n",
      "    creationTimestamp: \"2020-06-05T18:51:42Z\"\n",
      "    labels:\n",
      "      kubernetes.io/bootstrapping: rbac-defaults\n",
      "    name: system:controller:bootstrap-signer\n",
      "    namespace: kube-system\n",
      "    resourceVersion: \"142\"\n",
      "    selfLink: /apis/rbac.authorization.k8s.io/v1/namespaces/kube-system/rolebindings/system:controller:bootstrap-signer\n",
      "    uid: 135ab365-46c9-49f2-84bf-67bb58677bb6\n",
      "  roleRef:\n",
      "    apiGroup: rbac.authorization.k8s.io\n",
      "    kind: Role\n",
      "    name: system:controller:bootstrap-signer\n",
      "  subjects:\n",
      "  - kind: ServiceAccount\n",
      "    name: bootstrap-signer\n",
      "    namespace: kube-system\n",
      "- apiVersion: rbac.authorization.k8s.io/v1\n",
      "  kind: RoleBinding\n",
      "  metadata:\n",
      "    annotations:\n",
      "      rbac.authorization.kubernetes.io/autoupdate: \"true\"\n",
      "    creationTimestamp: \"2020-06-05T18:51:42Z\"\n",
      "    labels:\n",
      "      kubernetes.io/bootstrapping: rbac-defaults\n",
      "    name: system:controller:cloud-provider\n",
      "    namespace: kube-system\n",
      "    resourceVersion: \"143\"\n",
      "    selfLink: /apis/rbac.authorization.k8s.io/v1/namespaces/kube-system/rolebindings/system:controller:cloud-provider\n",
      "    uid: 435bae2c-1905-4d3f-9d16-852c261499be\n",
      "  roleRef:\n",
      "    apiGroup: rbac.authorization.k8s.io\n",
      "    kind: Role\n",
      "    name: system:controller:cloud-provider\n",
      "  subjects:\n",
      "  - kind: ServiceAccount\n",
      "    name: cloud-provider\n",
      "    namespace: kube-system\n",
      "- apiVersion: rbac.authorization.k8s.io/v1\n",
      "  kind: RoleBinding\n",
      "  metadata:\n",
      "    annotations:\n",
      "      rbac.authorization.kubernetes.io/autoupdate: \"true\"\n",
      "    creationTimestamp: \"2020-06-05T18:51:42Z\"\n",
      "    labels:\n",
      "      kubernetes.io/bootstrapping: rbac-defaults\n",
      "    name: system:controller:token-cleaner\n",
      "    namespace: kube-system\n",
      "    resourceVersion: \"144\"\n",
      "    selfLink: /apis/rbac.authorization.k8s.io/v1/namespaces/kube-system/rolebindings/system:controller:token-cleaner\n",
      "    uid: 0ee75793-d1fc-40ba-bb34-119b8897c2ee\n",
      "  roleRef:\n",
      "    apiGroup: rbac.authorization.k8s.io\n",
      "    kind: Role\n",
      "    name: system:controller:token-cleaner\n",
      "  subjects:\n",
      "  - kind: ServiceAccount\n",
      "    name: token-cleaner\n",
      "    namespace: kube-system\n",
      "- apiVersion: rbac.authorization.k8s.io/v1\n",
      "  kind: RoleBinding\n",
      "  metadata:\n",
      "    creationTimestamp: \"2020-06-05T18:52:15Z\"\n",
      "    name: my-rolebinding\n",
      "    namespace: my-namespace\n",
      "    resourceVersion: \"493\"\n",
      "    selfLink: /apis/rbac.authorization.k8s.io/v1/namespaces/my-namespace/rolebindings/my-rolebinding\n",
      "    uid: 56235e1c-fd3e-4d2e-bafa-f77896202737\n",
      "  roleRef:\n",
      "    apiGroup: rbac.authorization.k8s.io\n",
      "    kind: Role\n",
      "    name: my-role\n",
      "  subjects:\n",
      "  - kind: ServiceAccount\n",
      "    name: my-serviceaccount\n",
      "    namespace: my-namespace\n",
      "kind: List\n",
      "metadata:\n",
      "  resourceVersion: \"\"\n",
      "  selfLink: \"\"\n"
     ]
    }
   ],
   "source": [
    "kubectl get rolebinding -A -o yaml"
   ]
  },
  {
   "cell_type": "code",
   "execution_count": 65,
   "metadata": {},
   "outputs": [
    {
     "name": "stdout",
     "output_type": "stream",
     "text": [
      "minikube\n"
     ]
    }
   ],
   "source": [
    "# cleanup\n",
    "#rm minikube.dot minikube.png my-namespace-rbac.dot my-namespace-rbac.png my-kubeconfig\n",
    "kubectl config current-context"
   ]
  },
  {
   "cell_type": "code",
   "execution_count": null,
   "metadata": {},
   "outputs": [
    {
     "name": "stdout",
     "output_type": "stream",
     "text": [
      "github.com/thomasfricke/rbac-tool (download)\n",
      "github.com/alcideio/rbac-tool (download)\n",
      "get \"k8s.io/api/rbac/v1\": found meta tag get.metaImport{Prefix:\"k8s.io/api\", VCS:\"git\", RepoRoot:\"https://github.com/kubernetes/api\"} at //k8s.io/api/rbac/v1?go-get=1\n",
      "get \"k8s.io/api/rbac/v1\": verifying non-authoritative meta tag\n",
      "k8s.io/api (download)\n",
      "github.com/gogo/protobuf (download)\n",
      "get \"k8s.io/apimachinery/pkg/apis/meta/v1\": found meta tag get.metaImport{Prefix:\"k8s.io/apimachinery\", VCS:\"git\", RepoRoot:\"https://github.com/kubernetes/apimachinery\"} at //k8s.io/apimachinery/pkg/apis/meta/v1?go-get=1\n",
      "get \"k8s.io/apimachinery/pkg/apis/meta/v1\": verifying non-authoritative meta tag\n",
      "k8s.io/apimachinery (download)\n",
      "github.com/google/gofuzz (download)\n",
      "get \"gopkg.in/inf.v0\": found meta tag get.metaImport{Prefix:\"gopkg.in/inf.v0\", VCS:\"git\", RepoRoot:\"https://gopkg.in/inf.v0\"} at //gopkg.in/inf.v0?go-get=1\n",
      "gopkg.in/inf.v0 (download)\n",
      "get \"k8s.io/apimachinery/pkg/util/sets\": found meta tag get.metaImport{Prefix:\"k8s.io/apimachinery\", VCS:\"git\", RepoRoot:\"https://github.com/kubernetes/apimachinery\"} at //k8s.io/apimachinery/pkg/util/sets?go-get=1\n",
      "get \"k8s.io/apimachinery/pkg/util/sets\": verifying non-authoritative meta tag\n",
      "get \"k8s.io/apimachinery/pkg/util/errors\": found meta tag get.metaImport{Prefix:\"k8s.io/apimachinery\", VCS:\"git\", RepoRoot:\"https://github.com/kubernetes/apimachinery\"} at //k8s.io/apimachinery/pkg/util/errors?go-get=1\n",
      "get \"k8s.io/apimachinery/pkg/util/errors\": verifying non-authoritative meta tag\n",
      "get \"k8s.io/klog/v2\": found meta tag get.metaImport{Prefix:\"k8s.io/klog\", VCS:\"git\", RepoRoot:\"https://github.com/kubernetes/klog\"} at //k8s.io/klog/v2?go-get=1\n",
      "get \"k8s.io/klog/v2\": verifying non-authoritative meta tag\n",
      "k8s.io/klog (download)\n",
      "/root/go/src/github.com/thomasfricke/rbac-tool/main.go:7:2: cannot find package \"k8s.io/klog\" in any of:\n",
      "\t/usr/local/go/src/k8s.io/klog (from $GOROOT)\n",
      "\t/root/go/src/k8s.io/klog (from $GOPATH)\n",
      "get \"k8s.io/apimachinery/pkg/runtime\": found meta tag get.metaImport{Prefix:\"k8s.io/apimachinery\", VCS:\"git\", RepoRoot:\"https://github.com/kubernetes/apimachinery\"} at //k8s.io/apimachinery/pkg/runtime?go-get=1\n",
      "get \"k8s.io/apimachinery/pkg/runtime\": verifying non-authoritative meta tag\n",
      "get \"k8s.io/apimachinery/pkg/runtime/schema\": found meta tag get.metaImport{Prefix:\"k8s.io/apimachinery\", VCS:\"git\", RepoRoot:\"https://github.com/kubernetes/apimachinery\"} at //k8s.io/apimachinery/pkg/runtime/schema?go-get=1\n",
      "get \"k8s.io/apimachinery/pkg/runtime/schema\": verifying non-authoritative meta tag\n",
      "get \"k8s.io/klog\": found meta tag get.metaImport{Prefix:\"k8s.io/klog\", VCS:\"git\", RepoRoot:\"https://github.com/kubernetes/klog\"} at //k8s.io/klog?go-get=1\n",
      "github.com/go-logr/logr (download)\n",
      "get \"sigs.k8s.io/structured-merge-diff/v4/value\": found meta tag get.metaImport{Prefix:\"sigs.k8s.io/structured-merge-diff\", VCS:\"git\", RepoRoot:\"https://github.com/kubernetes-sigs/structured-merge-diff\"} at //sigs.k8s.io/structured-merge-diff/v4/value?go-get=1\n",
      "get \"sigs.k8s.io/structured-merge-diff/v4/value\": verifying non-authoritative meta tag\n",
      "sigs.k8s.io/structured-merge-diff (download)\n",
      "get \"golang.org/x/net/http2\": found meta tag get.metaImport{Prefix:\"golang.org/x/net\", VCS:\"git\", RepoRoot:\"https://go.googlesource.com/net\"} at //golang.org/x/net/http2?go-get=1\n",
      "get \"golang.org/x/net/http2\": verifying non-authoritative meta tag\n",
      "golang.org/x/net (download)\n",
      "get \"golang.org/x/text/secure/bidirule\": found meta tag get.metaImport{Prefix:\"golang.org/x/text\", VCS:\"git\", RepoRoot:\"https://go.googlesource.com/text\"} at //golang.org/x/text/secure/bidirule?go-get=1\n",
      "get \"golang.org/x/text/secure/bidirule\": verifying non-authoritative meta tag\n",
      "golang.org/x/text (download)\n",
      "get \"golang.org/x/text/unicode/bidi\": found meta tag get.metaImport{Prefix:\"golang.org/x/text\", VCS:\"git\", RepoRoot:\"https://go.googlesource.com/text\"} at //golang.org/x/text/unicode/bidi?go-get=1\n",
      "get \"golang.org/x/text/unicode/bidi\": verifying non-authoritative meta tag\n",
      "get \"golang.org/x/text/unicode/norm\": found meta tag get.metaImport{Prefix:\"golang.org/x/text\", VCS:\"git\", RepoRoot:\"https://go.googlesource.com/text\"} at //golang.org/x/text/unicode/norm?go-get=1\n",
      "get \"golang.org/x/text/unicode/norm\": verifying non-authoritative meta tag\n",
      "get \"k8s.io/apimachinery/pkg/apis/meta/v1/unstructured\": found meta tag get.metaImport{Prefix:\"k8s.io/apimachinery\", VCS:\"git\", RepoRoot:\"https://github.com/kubernetes/apimachinery\"} at //k8s.io/apimachinery/pkg/apis/meta/v1/unstructured?go-get=1\n",
      "get \"k8s.io/apimachinery/pkg/apis/meta/v1/unstructured\": verifying non-authoritative meta tag\n",
      "get \"k8s.io/apimachinery/pkg/runtime/serializer\": found meta tag get.metaImport{Prefix:\"k8s.io/apimachinery\", VCS:\"git\", RepoRoot:\"https://github.com/kubernetes/apimachinery\"} at //k8s.io/apimachinery/pkg/runtime/serializer?go-get=1\n",
      "get \"k8s.io/apimachinery/pkg/runtime/serializer\": verifying non-authoritative meta tag\n",
      "get \"k8s.io/apimachinery/pkg/runtime/serializer/json\": found meta tag get.metaImport{Prefix:\"k8s.io/apimachinery\", VCS:\"git\", RepoRoot:\"https://github.com/kubernetes/apimachinery\"} at //k8s.io/apimachinery/pkg/runtime/serializer/json?go-get=1\n",
      "get \"k8s.io/apimachinery/pkg/runtime/serializer/json\": verifying non-authoritative meta tag\n",
      "github.com/json-iterator/go (download)\n",
      "github.com/modern-go/concurrent (download)\n",
      "github.com/modern-go/reflect2 (download)\n",
      "get \"k8s.io/apimachinery/pkg/util/yaml\": found meta tag get.metaImport{Prefix:\"k8s.io/apimachinery\", VCS:\"git\", RepoRoot:\"https://github.com/kubernetes/apimachinery\"} at //k8s.io/apimachinery/pkg/util/yaml?go-get=1\n",
      "get \"k8s.io/apimachinery/pkg/util/yaml\": verifying non-authoritative meta tag\n",
      "get \"sigs.k8s.io/yaml\": found meta tag get.metaImport{Prefix:\"sigs.k8s.io/yaml\", VCS:\"git\", RepoRoot:\"https://github.com/kubernetes-sigs/yaml\"} at //sigs.k8s.io/yaml?go-get=1\n",
      "sigs.k8s.io/yaml (download)\n",
      "get \"k8s.io/apiserver/pkg/apis/audit\": found meta tag get.metaImport{Prefix:\"k8s.io/apiserver\", VCS:\"git\", RepoRoot:\"https://github.com/kubernetes/apiserver\"} at //k8s.io/apiserver/pkg/apis/audit?go-get=1\n",
      "get \"k8s.io/apiserver/pkg/apis/audit\": verifying non-authoritative meta tag\n",
      "k8s.io/apiserver (download)\n",
      "get \"k8s.io/apiserver/pkg/apis/audit/v1\": found meta tag get.metaImport{Prefix:\"k8s.io/apiserver\", VCS:\"git\", RepoRoot:\"https://github.com/kubernetes/apiserver\"} at //k8s.io/apiserver/pkg/apis/audit/v1?go-get=1\n",
      "get \"k8s.io/apiserver/pkg/apis/audit/v1\": verifying non-authoritative meta tag\n",
      "get \"k8s.io/apiserver/pkg/apis/audit/v1alpha1\": found meta tag get.metaImport{Prefix:\"k8s.io/apiserver\", VCS:\"git\", RepoRoot:\"https://github.com/kubernetes/apiserver\"} at //k8s.io/apiserver/pkg/apis/audit/v1alpha1?go-get=1\n",
      "get \"k8s.io/apiserver/pkg/apis/audit/v1alpha1\": verifying non-authoritative meta tag\n",
      "get \"k8s.io/apiserver/pkg/apis/audit/v1beta1\": found meta tag get.metaImport{Prefix:\"k8s.io/apiserver\", VCS:\"git\", RepoRoot:\"https://github.com/kubernetes/apiserver\"} at //k8s.io/apiserver/pkg/apis/audit/v1beta1?go-get=1\n",
      "get \"k8s.io/apiserver/pkg/apis/audit/v1beta1\": verifying non-authoritative meta tag\n",
      "get \"k8s.io/apiserver/pkg/authentication/serviceaccount\": found meta tag get.metaImport{Prefix:\"k8s.io/apiserver\", VCS:\"git\", RepoRoot:\"https://github.com/kubernetes/apiserver\"} at //k8s.io/apiserver/pkg/authentication/serviceaccount?go-get=1\n",
      "get \"k8s.io/apiserver/pkg/authentication/serviceaccount\": verifying non-authoritative meta tag\n",
      "get \"k8s.io/api/core/v1\": found meta tag get.metaImport{Prefix:\"k8s.io/api\", VCS:\"git\", RepoRoot:\"https://github.com/kubernetes/api\"} at //k8s.io/api/core/v1?go-get=1\n",
      "get \"k8s.io/api/core/v1\": verifying non-authoritative meta tag\n",
      "get \"k8s.io/apiserver/pkg/authentication/user\": found meta tag get.metaImport{Prefix:\"k8s.io/apiserver\", VCS:\"git\", RepoRoot:\"https://github.com/kubernetes/apiserver\"} at //k8s.io/apiserver/pkg/authentication/user?go-get=1\n",
      "get \"k8s.io/apiserver/pkg/authentication/user\": verifying non-authoritative meta tag\n",
      "get \"k8s.io/client-go/kubernetes/typed/core/v1\": found meta tag get.metaImport{Prefix:\"k8s.io/client-go\", VCS:\"git\", RepoRoot:\"https://github.com/kubernetes/client-go\"} at //k8s.io/client-go/kubernetes/typed/core/v1?go-get=1\n",
      "get \"k8s.io/client-go/kubernetes/typed/core/v1\": verifying non-authoritative meta tag\n",
      "k8s.io/client-go (download)\n",
      "get \"k8s.io/api/policy/v1beta1\": found meta tag get.metaImport{Prefix:\"k8s.io/api\", VCS:\"git\", RepoRoot:\"https://github.com/kubernetes/api\"} at //k8s.io/api/policy/v1beta1?go-get=1\n",
      "get \"k8s.io/api/policy/v1beta1\": verifying non-authoritative meta tag\n",
      "get \"k8s.io/client-go/kubernetes/scheme\": found meta tag get.metaImport{Prefix:\"k8s.io/client-go\", VCS:\"git\", RepoRoot:\"https://github.com/kubernetes/client-go\"} at //k8s.io/client-go/kubernetes/scheme?go-get=1\n",
      "get \"k8s.io/client-go/kubernetes/scheme\": verifying non-authoritative meta tag\n",
      "get \"k8s.io/client-go/rest\": found meta tag get.metaImport{Prefix:\"k8s.io/client-go\", VCS:\"git\", RepoRoot:\"https://github.com/kubernetes/client-go\"} at //k8s.io/client-go/rest?go-get=1\n",
      "get \"k8s.io/client-go/rest\": verifying non-authoritative meta tag\n",
      "get \"k8s.io/apimachinery/pkg/version\": found meta tag get.metaImport{Prefix:\"k8s.io/apimachinery\", VCS:\"git\", RepoRoot:\"https://github.com/kubernetes/apimachinery\"} at //k8s.io/apimachinery/pkg/version?go-get=1\n",
      "get \"k8s.io/apimachinery/pkg/version\": verifying non-authoritative meta tag\n",
      "get \"k8s.io/client-go/plugin/pkg/client/auth/exec\": found meta tag get.metaImport{Prefix:\"k8s.io/client-go\", VCS:\"git\", RepoRoot:\"https://github.com/kubernetes/client-go\"} at //k8s.io/client-go/plugin/pkg/client/auth/exec?go-get=1\n",
      "get \"k8s.io/client-go/plugin/pkg/client/auth/exec\": verifying non-authoritative meta tag\n",
      "github.com/davecgh/go-spew (download)\n",
      "get \"golang.org/x/crypto/ssh/terminal\": found meta tag get.metaImport{Prefix:\"golang.org/x/crypto\", VCS:\"git\", RepoRoot:\"https://go.googlesource.com/crypto\"} at //golang.org/x/crypto/ssh/terminal?go-get=1\n",
      "get \"golang.org/x/crypto/ssh/terminal\": verifying non-authoritative meta tag\n",
      "golang.org/x/crypto (download)\n",
      "get \"golang.org/x/term\": found meta tag get.metaImport{Prefix:\"golang.org/x/term\", VCS:\"git\", RepoRoot:\"https://go.googlesource.com/term\"} at //golang.org/x/term?go-get=1\n",
      "golang.org/x/term (download)\n",
      "get \"golang.org/x/sys/unix\": found meta tag get.metaImport{Prefix:\"golang.org/x/sys\", VCS:\"git\", RepoRoot:\"https://go.googlesource.com/sys\"} at //golang.org/x/sys/unix?go-get=1\n",
      "get \"golang.org/x/sys/unix\": verifying non-authoritative meta tag\n",
      "golang.org/x/sys (download)\n",
      "get \"golang.org/x/oauth2\": found meta tag get.metaImport{Prefix:\"golang.org/x/oauth2\", VCS:\"git\", RepoRoot:\"https://go.googlesource.com/oauth2\"} at //golang.org/x/oauth2?go-get=1\n",
      "golang.org/x/oauth2 (download)\n",
      "get \"golang.org/x/time/rate\": found meta tag get.metaImport{Prefix:\"golang.org/x/time\", VCS:\"git\", RepoRoot:\"https://go.googlesource.com/time\"} at //golang.org/x/time/rate?go-get=1\n",
      "get \"golang.org/x/time/rate\": verifying non-authoritative meta tag\n",
      "golang.org/x/time (download)\n",
      "get \"k8s.io/utils/integer\": found meta tag get.metaImport{Prefix:\"k8s.io/utils\", VCS:\"git\", RepoRoot:\"https://github.com/kubernetes/utils\"} at //k8s.io/utils/integer?go-get=1\n",
      "get \"k8s.io/utils/integer\": verifying non-authoritative meta tag\n",
      "k8s.io/utils (download)\n",
      "get \"k8s.io/apiserver/pkg/authorization/authorizer\": found meta tag get.metaImport{Prefix:\"k8s.io/apiserver\", VCS:\"git\", RepoRoot:\"https://github.com/kubernetes/apiserver\"} at //k8s.io/apiserver/pkg/authorization/authorizer?go-get=1\n",
      "get \"k8s.io/apiserver/pkg/authorization/authorizer\": verifying non-authoritative meta tag\n",
      "get \"k8s.io/kubernetes/pkg/apis/rbac/v1\": found meta tag get.metaImport{Prefix:\"k8s.io/kubernetes\", VCS:\"git\", RepoRoot:\"https://github.com/kubernetes/kubernetes\"} at //k8s.io/kubernetes/pkg/apis/rbac/v1?go-get=1\n",
      "get \"k8s.io/kubernetes/pkg/apis/rbac/v1\": verifying non-authoritative meta tag\n",
      "k8s.io/kubernetes (download)\n",
      "get \"k8s.io/kubernetes/pkg/registry/rbac/validation\": found meta tag get.metaImport{Prefix:\"k8s.io/kubernetes\", VCS:\"git\", RepoRoot:\"https://github.com/kubernetes/kubernetes\"} at //k8s.io/kubernetes/pkg/registry/rbac/validation?go-get=1\n",
      "get \"k8s.io/kubernetes/pkg/registry/rbac/validation\": verifying non-authoritative meta tag\n",
      "get \"k8s.io/kubernetes/plugin/pkg/auth/authorizer/rbac\": found meta tag get.metaImport{Prefix:\"k8s.io/kubernetes\", VCS:\"git\", RepoRoot:\"https://github.com/kubernetes/kubernetes\"} at //k8s.io/kubernetes/plugin/pkg/auth/authorizer/rbac?go-get=1\n",
      "get \"k8s.io/kubernetes/plugin/pkg/auth/authorizer/rbac\": verifying non-authoritative meta tag\n",
      "github.com/rs/zerolog (download)\n",
      "get \"k8s.io/client-go/kubernetes\": found meta tag get.metaImport{Prefix:\"k8s.io/client-go\", VCS:\"git\", RepoRoot:\"https://github.com/kubernetes/client-go\"} at //k8s.io/client-go/kubernetes?go-get=1\n",
      "get \"k8s.io/client-go/kubernetes\": verifying non-authoritative meta tag\n",
      "github.com/golang/protobuf (download)\n"
     ]
    }
   ],
   "source": [
    "go get -v github.com/thomasfricke/rbac-tool"
   ]
  },
  {
   "cell_type": "code",
   "execution_count": null,
   "metadata": {},
   "outputs": [],
   "source": []
  }
 ],
 "metadata": {
  "kernelspec": {
   "display_name": "Bash",
   "language": "bash",
   "name": "bash"
  },
  "language_info": {
   "codemirror_mode": "shell",
   "file_extension": ".sh",
   "mimetype": "text/x-sh",
   "name": "bash"
  }
 },
 "nbformat": 4,
 "nbformat_minor": 4
}
