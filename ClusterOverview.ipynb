{
 "cells": [
  {
   "cell_type": "markdown",
   "id": "7cf71b50",
   "metadata": {},
   "source": [
    "**This notebook is covered by the following [license](License.ipynb)  This note must not be removed**"
   ]
  },
  {
   "cell_type": "markdown",
   "id": "9382391f",
   "metadata": {},
   "source": [
    "## Cluster Overview"
   ]
  },
  {
   "cell_type": "markdown",
   "id": "8aaeafbd",
   "metadata": {},
   "source": [
    "Outside the notebook type `minikube dashboard`"
   ]
  },
  {
   "cell_type": "code",
   "execution_count": 1,
   "id": "1e1c6e68",
   "metadata": {},
   "outputs": [
    {
     "name": "stdout",
     "output_type": "stream",
     "text": [
      "NAMESPACE     NAME                                   READY   STATUS    RESTARTS   AGE\n",
      "default       pod/nginx-6799fc88d8-nzbj2             1/1     Running   0          40m\n",
      "kube-system   pod/coredns-78fcd69978-jtj8x           1/1     Running   0          72m\n",
      "kube-system   pod/etcd-minikube                      1/1     Running   0          72m\n",
      "kube-system   pod/kube-apiserver-minikube            1/1     Running   0          72m\n",
      "kube-system   pod/kube-controller-manager-minikube   1/1     Running   0          72m\n",
      "kube-system   pod/kube-proxy-7zcnf                   1/1     Running   0          72m\n",
      "kube-system   pod/kube-scheduler-minikube            1/1     Running   0          72m\n",
      "kube-system   pod/storage-provisioner                1/1     Running   0          72m\n",
      "\n",
      "NAMESPACE     NAME                 TYPE        CLUSTER-IP   EXTERNAL-IP   PORT(S)                  AGE\n",
      "default       service/kubernetes   ClusterIP   10.96.0.1    <none>        443/TCP                  72m\n",
      "kube-system   service/kube-dns     ClusterIP   10.96.0.10   <none>        53/UDP,53/TCP,9153/TCP   72m\n",
      "\n",
      "NAMESPACE     NAME                        DESIRED   CURRENT   READY   UP-TO-DATE   AVAILABLE   NODE SELECTOR            AGE\n",
      "kube-system   daemonset.apps/kube-proxy   1         1         1       1            1           kubernetes.io/os=linux   72m\n",
      "\n",
      "NAMESPACE     NAME                      READY   UP-TO-DATE   AVAILABLE   AGE\n",
      "default       deployment.apps/nginx     1/1     1            1           40m\n",
      "kube-system   deployment.apps/coredns   1/1     1            1           72m\n",
      "\n",
      "NAMESPACE     NAME                                 DESIRED   CURRENT   READY   AGE\n",
      "default       replicaset.apps/nginx-6799fc88d8     1         1         1       40m\n",
      "kube-system   replicaset.apps/coredns-78fcd69978   1         1         1       72m\n"
     ]
    }
   ],
   "source": [
    "kubectl get all -A"
   ]
  },
  {
   "cell_type": "code",
   "execution_count": 2,
   "id": "9bf6c151",
   "metadata": {},
   "outputs": [
    {
     "name": "stdout",
     "output_type": "stream",
     "text": [
      "NAMESPACE   LAST SEEN   TYPE     REASON              OBJECT                        MESSAGE\n",
      "default     41m         Normal   Scheduled           pod/nginx-6799fc88d8-nzbj2    Successfully assigned default/nginx-6799fc88d8-nzbj2 to minikube\n",
      "default     41m         Normal   Pulling             pod/nginx-6799fc88d8-nzbj2    Pulling image \"nginx\"\n",
      "default     40m         Normal   Pulled              pod/nginx-6799fc88d8-nzbj2    Successfully pulled image \"nginx\" in 14.698736808s\n",
      "default     40m         Normal   Created             pod/nginx-6799fc88d8-nzbj2    Created container nginx\n",
      "default     40m         Normal   Started             pod/nginx-6799fc88d8-nzbj2    Started container nginx\n",
      "default     41m         Normal   SuccessfulCreate    replicaset/nginx-6799fc88d8   Created pod: nginx-6799fc88d8-nzbj2\n",
      "default     41m         Normal   ScalingReplicaSet   deployment/nginx              Scaled up replica set nginx-6799fc88d8 to 1\n"
     ]
    }
   ],
   "source": [
    "kubectl get events -n default"
   ]
  },
  {
   "cell_type": "code",
   "execution_count": 4,
   "id": "878f7495",
   "metadata": {},
   "outputs": [
    {
     "name": "stdout",
     "output_type": "stream",
     "text": [
      "Name:         nginx-6799fc88d8-nzbj2\n",
      "Namespace:    default\n",
      "Priority:     0\n",
      "Node:         minikube/192.168.49.2\n",
      "Start Time:   Tue, 30 Nov 2021 09:36:27 +0000\n",
      "Labels:       app=nginx\n",
      "              pod-template-hash=6799fc88d8\n",
      "Annotations:  <none>\n",
      "Status:       Running\n",
      "IP:           172.17.0.3\n",
      "IPs:\n",
      "  IP:           172.17.0.3\n",
      "Controlled By:  ReplicaSet/nginx-6799fc88d8\n",
      "Containers:\n",
      "  nginx:\n",
      "    Container ID:   docker://ea714724541c0e86d1de0a178e7173f34c95ac6ed8a5a66d2591970d5c3c7ec3\n",
      "    Image:          nginx\n",
      "    Image ID:       docker-pullable://nginx@sha256:097c3a0913d7e3a5b01b6c685a60c03632fc7a2b50bc8e35bcaa3691d788226e\n",
      "    Port:           <none>\n",
      "    Host Port:      <none>\n",
      "    State:          Running\n",
      "      Started:      Tue, 30 Nov 2021 09:36:43 +0000\n",
      "    Ready:          True\n",
      "    Restart Count:  0\n",
      "    Environment:    <none>\n",
      "    Mounts:\n",
      "      /var/run/secrets/kubernetes.io/serviceaccount from kube-api-access-gg8kp (ro)\n",
      "Conditions:\n",
      "  Type              Status\n",
      "  Initialized       True \n",
      "  Ready             True \n",
      "  ContainersReady   True \n",
      "  PodScheduled      True \n",
      "Volumes:\n",
      "  kube-api-access-gg8kp:\n",
      "    Type:                    Projected (a volume that contains injected data from multiple sources)\n",
      "    TokenExpirationSeconds:  3607\n",
      "    ConfigMapName:           kube-root-ca.crt\n",
      "    ConfigMapOptional:       <nil>\n",
      "    DownwardAPI:             true\n",
      "QoS Class:                   BestEffort\n",
      "Node-Selectors:              <none>\n",
      "Tolerations:                 node.kubernetes.io/not-ready:NoExecute op=Exists for 300s\n",
      "                             node.kubernetes.io/unreachable:NoExecute op=Exists for 300s\n",
      "Events:\n",
      "  Type    Reason     Age   From               Message\n",
      "  ----    ------     ----  ----               -------\n",
      "  Normal  Scheduled  41m   default-scheduler  Successfully assigned default/nginx-6799fc88d8-nzbj2 to minikube\n",
      "  Normal  Pulling    41m   kubelet            Pulling image \"nginx\"\n",
      "  Normal  Pulled     41m   kubelet            Successfully pulled image \"nginx\" in 14.698736808s\n",
      "  Normal  Created    41m   kubelet            Created container nginx\n",
      "  Normal  Started    41m   kubelet            Started container nginx\n"
     ]
    }
   ],
   "source": [
    "kubectl describe pod "
   ]
  },
  {
   "cell_type": "code",
   "execution_count": null,
   "id": "16717d72",
   "metadata": {},
   "outputs": [],
   "source": [
    "kubectl describe pods"
   ]
  },
  {
   "cell_type": "code",
   "execution_count": 5,
   "id": "f75f0f39",
   "metadata": {},
   "outputs": [
    {
     "name": "stdout",
     "output_type": "stream",
     "text": [
      "nginx-6799fc88d8-nzbj2 coredns-78fcd69978-jtj8x etcd-minikube kube-apiserver-minikube kube-controller-manager-minikube kube-proxy-7zcnf kube-scheduler-minikube storage-provisioner"
     ]
    }
   ],
   "source": [
    "kubectl get pods -A -o jsonpath='{.items[*].metadata.name}'"
   ]
  },
  {
   "cell_type": "markdown",
   "id": "8959c429",
   "metadata": {},
   "source": [
    "More examples https://kubernetes.io/docs/reference/kubectl/jsonpath/"
   ]
  },
  {
   "cell_type": "code",
   "execution_count": 6,
   "id": "84c0b735",
   "metadata": {
    "collapsed": true,
    "jupyter": {
     "outputs_hidden": true
    },
    "tags": []
   },
   "outputs": [
    {
     "name": "stdout",
     "output_type": "stream",
     "text": [
      "\u001b[1;39m{\n",
      "  \u001b[0m\u001b[34;1m\"apiVersion\"\u001b[0m\u001b[1;39m: \u001b[0m\u001b[0;32m\"v1\"\u001b[0m\u001b[1;39m,\n",
      "  \u001b[0m\u001b[34;1m\"items\"\u001b[0m\u001b[1;39m: \u001b[0m\u001b[1;39m[\n",
      "    \u001b[1;39m{\n",
      "      \u001b[0m\u001b[34;1m\"apiVersion\"\u001b[0m\u001b[1;39m: \u001b[0m\u001b[0;32m\"v1\"\u001b[0m\u001b[1;39m,\n",
      "      \u001b[0m\u001b[34;1m\"kind\"\u001b[0m\u001b[1;39m: \u001b[0m\u001b[0;32m\"Pod\"\u001b[0m\u001b[1;39m,\n",
      "      \u001b[0m\u001b[34;1m\"metadata\"\u001b[0m\u001b[1;39m: \u001b[0m\u001b[1;39m{\n",
      "        \u001b[0m\u001b[34;1m\"creationTimestamp\"\u001b[0m\u001b[1;39m: \u001b[0m\u001b[0;32m\"2021-11-30T09:36:27Z\"\u001b[0m\u001b[1;39m,\n",
      "        \u001b[0m\u001b[34;1m\"generateName\"\u001b[0m\u001b[1;39m: \u001b[0m\u001b[0;32m\"nginx-6799fc88d8-\"\u001b[0m\u001b[1;39m,\n",
      "        \u001b[0m\u001b[34;1m\"labels\"\u001b[0m\u001b[1;39m: \u001b[0m\u001b[1;39m{\n",
      "          \u001b[0m\u001b[34;1m\"app\"\u001b[0m\u001b[1;39m: \u001b[0m\u001b[0;32m\"nginx\"\u001b[0m\u001b[1;39m,\n",
      "          \u001b[0m\u001b[34;1m\"pod-template-hash\"\u001b[0m\u001b[1;39m: \u001b[0m\u001b[0;32m\"6799fc88d8\"\u001b[0m\u001b[1;39m\n",
      "        \u001b[1;39m}\u001b[0m\u001b[1;39m,\n",
      "        \u001b[0m\u001b[34;1m\"name\"\u001b[0m\u001b[1;39m: \u001b[0m\u001b[0;32m\"nginx-6799fc88d8-nzbj2\"\u001b[0m\u001b[1;39m,\n",
      "        \u001b[0m\u001b[34;1m\"namespace\"\u001b[0m\u001b[1;39m: \u001b[0m\u001b[0;32m\"default\"\u001b[0m\u001b[1;39m,\n",
      "        \u001b[0m\u001b[34;1m\"ownerReferences\"\u001b[0m\u001b[1;39m: \u001b[0m\u001b[1;39m[\n",
      "          \u001b[1;39m{\n",
      "            \u001b[0m\u001b[34;1m\"apiVersion\"\u001b[0m\u001b[1;39m: \u001b[0m\u001b[0;32m\"apps/v1\"\u001b[0m\u001b[1;39m,\n",
      "            \u001b[0m\u001b[34;1m\"blockOwnerDeletion\"\u001b[0m\u001b[1;39m: \u001b[0m\u001b[0;39mtrue\u001b[0m\u001b[1;39m,\n",
      "            \u001b[0m\u001b[34;1m\"controller\"\u001b[0m\u001b[1;39m: \u001b[0m\u001b[0;39mtrue\u001b[0m\u001b[1;39m,\n",
      "            \u001b[0m\u001b[34;1m\"kind\"\u001b[0m\u001b[1;39m: \u001b[0m\u001b[0;32m\"ReplicaSet\"\u001b[0m\u001b[1;39m,\n",
      "            \u001b[0m\u001b[34;1m\"name\"\u001b[0m\u001b[1;39m: \u001b[0m\u001b[0;32m\"nginx-6799fc88d8\"\u001b[0m\u001b[1;39m,\n",
      "            \u001b[0m\u001b[34;1m\"uid\"\u001b[0m\u001b[1;39m: \u001b[0m\u001b[0;32m\"b19a9b3a-dc80-4258-b7b3-af70e33f16f2\"\u001b[0m\u001b[1;39m\n",
      "          \u001b[1;39m}\u001b[0m\u001b[1;39m\n",
      "        \u001b[1;39m]\u001b[0m\u001b[1;39m,\n",
      "        \u001b[0m\u001b[34;1m\"resourceVersion\"\u001b[0m\u001b[1;39m: \u001b[0m\u001b[0;32m\"1810\"\u001b[0m\u001b[1;39m,\n",
      "        \u001b[0m\u001b[34;1m\"uid\"\u001b[0m\u001b[1;39m: \u001b[0m\u001b[0;32m\"2c126dba-6a37-46be-b550-d0e0d8a30bf9\"\u001b[0m\u001b[1;39m\n",
      "      \u001b[1;39m}\u001b[0m\u001b[1;39m,\n",
      "      \u001b[0m\u001b[34;1m\"spec\"\u001b[0m\u001b[1;39m: \u001b[0m\u001b[1;39m{\n",
      "        \u001b[0m\u001b[34;1m\"containers\"\u001b[0m\u001b[1;39m: \u001b[0m\u001b[1;39m[\n",
      "          \u001b[1;39m{\n",
      "            \u001b[0m\u001b[34;1m\"image\"\u001b[0m\u001b[1;39m: \u001b[0m\u001b[0;32m\"nginx\"\u001b[0m\u001b[1;39m,\n",
      "            \u001b[0m\u001b[34;1m\"imagePullPolicy\"\u001b[0m\u001b[1;39m: \u001b[0m\u001b[0;32m\"Always\"\u001b[0m\u001b[1;39m,\n",
      "            \u001b[0m\u001b[34;1m\"name\"\u001b[0m\u001b[1;39m: \u001b[0m\u001b[0;32m\"nginx\"\u001b[0m\u001b[1;39m,\n",
      "            \u001b[0m\u001b[34;1m\"resources\"\u001b[0m\u001b[1;39m: \u001b[0m\u001b[1;39m{}\u001b[0m\u001b[1;39m,\n",
      "            \u001b[0m\u001b[34;1m\"terminationMessagePath\"\u001b[0m\u001b[1;39m: \u001b[0m\u001b[0;32m\"/dev/termination-log\"\u001b[0m\u001b[1;39m,\n",
      "            \u001b[0m\u001b[34;1m\"terminationMessagePolicy\"\u001b[0m\u001b[1;39m: \u001b[0m\u001b[0;32m\"File\"\u001b[0m\u001b[1;39m,\n",
      "            \u001b[0m\u001b[34;1m\"volumeMounts\"\u001b[0m\u001b[1;39m: \u001b[0m\u001b[1;39m[\n",
      "              \u001b[1;39m{\n",
      "                \u001b[0m\u001b[34;1m\"mountPath\"\u001b[0m\u001b[1;39m: \u001b[0m\u001b[0;32m\"/var/run/secrets/kubernetes.io/serviceaccount\"\u001b[0m\u001b[1;39m,\n",
      "                \u001b[0m\u001b[34;1m\"name\"\u001b[0m\u001b[1;39m: \u001b[0m\u001b[0;32m\"kube-api-access-gg8kp\"\u001b[0m\u001b[1;39m,\n",
      "                \u001b[0m\u001b[34;1m\"readOnly\"\u001b[0m\u001b[1;39m: \u001b[0m\u001b[0;39mtrue\u001b[0m\u001b[1;39m\n",
      "              \u001b[1;39m}\u001b[0m\u001b[1;39m\n",
      "            \u001b[1;39m]\u001b[0m\u001b[1;39m\n",
      "          \u001b[1;39m}\u001b[0m\u001b[1;39m\n",
      "        \u001b[1;39m]\u001b[0m\u001b[1;39m,\n",
      "        \u001b[0m\u001b[34;1m\"dnsPolicy\"\u001b[0m\u001b[1;39m: \u001b[0m\u001b[0;32m\"ClusterFirst\"\u001b[0m\u001b[1;39m,\n",
      "        \u001b[0m\u001b[34;1m\"enableServiceLinks\"\u001b[0m\u001b[1;39m: \u001b[0m\u001b[0;39mtrue\u001b[0m\u001b[1;39m,\n",
      "        \u001b[0m\u001b[34;1m\"nodeName\"\u001b[0m\u001b[1;39m: \u001b[0m\u001b[0;32m\"minikube\"\u001b[0m\u001b[1;39m,\n",
      "        \u001b[0m\u001b[34;1m\"preemptionPolicy\"\u001b[0m\u001b[1;39m: \u001b[0m\u001b[0;32m\"PreemptLowerPriority\"\u001b[0m\u001b[1;39m,\n",
      "        \u001b[0m\u001b[34;1m\"priority\"\u001b[0m\u001b[1;39m: \u001b[0m\u001b[0;39m0\u001b[0m\u001b[1;39m,\n",
      "        \u001b[0m\u001b[34;1m\"restartPolicy\"\u001b[0m\u001b[1;39m: \u001b[0m\u001b[0;32m\"Always\"\u001b[0m\u001b[1;39m,\n",
      "        \u001b[0m\u001b[34;1m\"schedulerName\"\u001b[0m\u001b[1;39m: \u001b[0m\u001b[0;32m\"default-scheduler\"\u001b[0m\u001b[1;39m,\n",
      "        \u001b[0m\u001b[34;1m\"securityContext\"\u001b[0m\u001b[1;39m: \u001b[0m\u001b[1;39m{}\u001b[0m\u001b[1;39m,\n",
      "        \u001b[0m\u001b[34;1m\"serviceAccount\"\u001b[0m\u001b[1;39m: \u001b[0m\u001b[0;32m\"default\"\u001b[0m\u001b[1;39m,\n",
      "        \u001b[0m\u001b[34;1m\"serviceAccountName\"\u001b[0m\u001b[1;39m: \u001b[0m\u001b[0;32m\"default\"\u001b[0m\u001b[1;39m,\n",
      "        \u001b[0m\u001b[34;1m\"terminationGracePeriodSeconds\"\u001b[0m\u001b[1;39m: \u001b[0m\u001b[0;39m30\u001b[0m\u001b[1;39m,\n",
      "        \u001b[0m\u001b[34;1m\"tolerations\"\u001b[0m\u001b[1;39m: \u001b[0m\u001b[1;39m[\n",
      "          \u001b[1;39m{\n",
      "            \u001b[0m\u001b[34;1m\"effect\"\u001b[0m\u001b[1;39m: \u001b[0m\u001b[0;32m\"NoExecute\"\u001b[0m\u001b[1;39m,\n",
      "            \u001b[0m\u001b[34;1m\"key\"\u001b[0m\u001b[1;39m: \u001b[0m\u001b[0;32m\"node.kubernetes.io/not-ready\"\u001b[0m\u001b[1;39m,\n",
      "            \u001b[0m\u001b[34;1m\"operator\"\u001b[0m\u001b[1;39m: \u001b[0m\u001b[0;32m\"Exists\"\u001b[0m\u001b[1;39m,\n",
      "            \u001b[0m\u001b[34;1m\"tolerationSeconds\"\u001b[0m\u001b[1;39m: \u001b[0m\u001b[0;39m300\u001b[0m\u001b[1;39m\n",
      "          \u001b[1;39m}\u001b[0m\u001b[1;39m,\n",
      "          \u001b[1;39m{\n",
      "            \u001b[0m\u001b[34;1m\"effect\"\u001b[0m\u001b[1;39m: \u001b[0m\u001b[0;32m\"NoExecute\"\u001b[0m\u001b[1;39m,\n",
      "            \u001b[0m\u001b[34;1m\"key\"\u001b[0m\u001b[1;39m: \u001b[0m\u001b[0;32m\"node.kubernetes.io/unreachable\"\u001b[0m\u001b[1;39m,\n",
      "            \u001b[0m\u001b[34;1m\"operator\"\u001b[0m\u001b[1;39m: \u001b[0m\u001b[0;32m\"Exists\"\u001b[0m\u001b[1;39m,\n",
      "            \u001b[0m\u001b[34;1m\"tolerationSeconds\"\u001b[0m\u001b[1;39m: \u001b[0m\u001b[0;39m300\u001b[0m\u001b[1;39m\n",
      "          \u001b[1;39m}\u001b[0m\u001b[1;39m\n",
      "        \u001b[1;39m]\u001b[0m\u001b[1;39m,\n",
      "        \u001b[0m\u001b[34;1m\"volumes\"\u001b[0m\u001b[1;39m: \u001b[0m\u001b[1;39m[\n",
      "          \u001b[1;39m{\n",
      "            \u001b[0m\u001b[34;1m\"name\"\u001b[0m\u001b[1;39m: \u001b[0m\u001b[0;32m\"kube-api-access-gg8kp\"\u001b[0m\u001b[1;39m,\n",
      "            \u001b[0m\u001b[34;1m\"projected\"\u001b[0m\u001b[1;39m: \u001b[0m\u001b[1;39m{\n",
      "              \u001b[0m\u001b[34;1m\"defaultMode\"\u001b[0m\u001b[1;39m: \u001b[0m\u001b[0;39m420\u001b[0m\u001b[1;39m,\n",
      "              \u001b[0m\u001b[34;1m\"sources\"\u001b[0m\u001b[1;39m: \u001b[0m\u001b[1;39m[\n",
      "                \u001b[1;39m{\n",
      "                  \u001b[0m\u001b[34;1m\"serviceAccountToken\"\u001b[0m\u001b[1;39m: \u001b[0m\u001b[1;39m{\n",
      "                    \u001b[0m\u001b[34;1m\"expirationSeconds\"\u001b[0m\u001b[1;39m: \u001b[0m\u001b[0;39m3607\u001b[0m\u001b[1;39m,\n",
      "                    \u001b[0m\u001b[34;1m\"path\"\u001b[0m\u001b[1;39m: \u001b[0m\u001b[0;32m\"token\"\u001b[0m\u001b[1;39m\n",
      "                  \u001b[1;39m}\u001b[0m\u001b[1;39m\n",
      "                \u001b[1;39m}\u001b[0m\u001b[1;39m,\n",
      "                \u001b[1;39m{\n",
      "                  \u001b[0m\u001b[34;1m\"configMap\"\u001b[0m\u001b[1;39m: \u001b[0m\u001b[1;39m{\n",
      "                    \u001b[0m\u001b[34;1m\"items\"\u001b[0m\u001b[1;39m: \u001b[0m\u001b[1;39m[\n",
      "                      \u001b[1;39m{\n",
      "                        \u001b[0m\u001b[34;1m\"key\"\u001b[0m\u001b[1;39m: \u001b[0m\u001b[0;32m\"ca.crt\"\u001b[0m\u001b[1;39m,\n",
      "                        \u001b[0m\u001b[34;1m\"path\"\u001b[0m\u001b[1;39m: \u001b[0m\u001b[0;32m\"ca.crt\"\u001b[0m\u001b[1;39m\n",
      "                      \u001b[1;39m}\u001b[0m\u001b[1;39m\n",
      "                    \u001b[1;39m]\u001b[0m\u001b[1;39m,\n",
      "                    \u001b[0m\u001b[34;1m\"name\"\u001b[0m\u001b[1;39m: \u001b[0m\u001b[0;32m\"kube-root-ca.crt\"\u001b[0m\u001b[1;39m\n",
      "                  \u001b[1;39m}\u001b[0m\u001b[1;39m\n",
      "                \u001b[1;39m}\u001b[0m\u001b[1;39m,\n",
      "                \u001b[1;39m{\n",
      "                  \u001b[0m\u001b[34;1m\"downwardAPI\"\u001b[0m\u001b[1;39m: \u001b[0m\u001b[1;39m{\n",
      "                    \u001b[0m\u001b[34;1m\"items\"\u001b[0m\u001b[1;39m: \u001b[0m\u001b[1;39m[\n",
      "                      \u001b[1;39m{\n",
      "                        \u001b[0m\u001b[34;1m\"fieldRef\"\u001b[0m\u001b[1;39m: \u001b[0m\u001b[1;39m{\n",
      "                          \u001b[0m\u001b[34;1m\"apiVersion\"\u001b[0m\u001b[1;39m: \u001b[0m\u001b[0;32m\"v1\"\u001b[0m\u001b[1;39m,\n",
      "                          \u001b[0m\u001b[34;1m\"fieldPath\"\u001b[0m\u001b[1;39m: \u001b[0m\u001b[0;32m\"metadata.namespace\"\u001b[0m\u001b[1;39m\n",
      "                        \u001b[1;39m}\u001b[0m\u001b[1;39m,\n",
      "                        \u001b[0m\u001b[34;1m\"path\"\u001b[0m\u001b[1;39m: \u001b[0m\u001b[0;32m\"namespace\"\u001b[0m\u001b[1;39m\n",
      "                      \u001b[1;39m}\u001b[0m\u001b[1;39m\n",
      "                    \u001b[1;39m]\u001b[0m\u001b[1;39m\n",
      "                  \u001b[1;39m}\u001b[0m\u001b[1;39m\n",
      "                \u001b[1;39m}\u001b[0m\u001b[1;39m\n",
      "              \u001b[1;39m]\u001b[0m\u001b[1;39m\n",
      "            \u001b[1;39m}\u001b[0m\u001b[1;39m\n",
      "          \u001b[1;39m}\u001b[0m\u001b[1;39m\n",
      "        \u001b[1;39m]\u001b[0m\u001b[1;39m\n",
      "      \u001b[1;39m}\u001b[0m\u001b[1;39m,\n",
      "      \u001b[0m\u001b[34;1m\"status\"\u001b[0m\u001b[1;39m: \u001b[0m\u001b[1;39m{\n",
      "        \u001b[0m\u001b[34;1m\"conditions\"\u001b[0m\u001b[1;39m: \u001b[0m\u001b[1;39m[\n",
      "          \u001b[1;39m{\n",
      "            \u001b[0m\u001b[34;1m\"lastProbeTime\"\u001b[0m\u001b[1;39m: \u001b[0m\u001b[1;30mnull\u001b[0m\u001b[1;39m,\n",
      "            \u001b[0m\u001b[34;1m\"lastTransitionTime\"\u001b[0m\u001b[1;39m: \u001b[0m\u001b[0;32m\"2021-11-30T09:36:27Z\"\u001b[0m\u001b[1;39m,\n",
      "            \u001b[0m\u001b[34;1m\"status\"\u001b[0m\u001b[1;39m: \u001b[0m\u001b[0;32m\"True\"\u001b[0m\u001b[1;39m,\n",
      "            \u001b[0m\u001b[34;1m\"type\"\u001b[0m\u001b[1;39m: \u001b[0m\u001b[0;32m\"Initialized\"\u001b[0m\u001b[1;39m\n",
      "          \u001b[1;39m}\u001b[0m\u001b[1;39m,\n",
      "          \u001b[1;39m{\n",
      "            \u001b[0m\u001b[34;1m\"lastProbeTime\"\u001b[0m\u001b[1;39m: \u001b[0m\u001b[1;30mnull\u001b[0m\u001b[1;39m,\n",
      "            \u001b[0m\u001b[34;1m\"lastTransitionTime\"\u001b[0m\u001b[1;39m: \u001b[0m\u001b[0;32m\"2021-11-30T09:36:43Z\"\u001b[0m\u001b[1;39m,\n",
      "            \u001b[0m\u001b[34;1m\"status\"\u001b[0m\u001b[1;39m: \u001b[0m\u001b[0;32m\"True\"\u001b[0m\u001b[1;39m,\n",
      "            \u001b[0m\u001b[34;1m\"type\"\u001b[0m\u001b[1;39m: \u001b[0m\u001b[0;32m\"Ready\"\u001b[0m\u001b[1;39m\n",
      "          \u001b[1;39m}\u001b[0m\u001b[1;39m,\n",
      "          \u001b[1;39m{\n",
      "            \u001b[0m\u001b[34;1m\"lastProbeTime\"\u001b[0m\u001b[1;39m: \u001b[0m\u001b[1;30mnull\u001b[0m\u001b[1;39m,\n",
      "            \u001b[0m\u001b[34;1m\"lastTransitionTime\"\u001b[0m\u001b[1;39m: \u001b[0m\u001b[0;32m\"2021-11-30T09:36:43Z\"\u001b[0m\u001b[1;39m,\n",
      "            \u001b[0m\u001b[34;1m\"status\"\u001b[0m\u001b[1;39m: \u001b[0m\u001b[0;32m\"True\"\u001b[0m\u001b[1;39m,\n",
      "            \u001b[0m\u001b[34;1m\"type\"\u001b[0m\u001b[1;39m: \u001b[0m\u001b[0;32m\"ContainersReady\"\u001b[0m\u001b[1;39m\n",
      "          \u001b[1;39m}\u001b[0m\u001b[1;39m,\n",
      "          \u001b[1;39m{\n",
      "            \u001b[0m\u001b[34;1m\"lastProbeTime\"\u001b[0m\u001b[1;39m: \u001b[0m\u001b[1;30mnull\u001b[0m\u001b[1;39m,\n",
      "            \u001b[0m\u001b[34;1m\"lastTransitionTime\"\u001b[0m\u001b[1;39m: \u001b[0m\u001b[0;32m\"2021-11-30T09:36:27Z\"\u001b[0m\u001b[1;39m,\n",
      "            \u001b[0m\u001b[34;1m\"status\"\u001b[0m\u001b[1;39m: \u001b[0m\u001b[0;32m\"True\"\u001b[0m\u001b[1;39m,\n",
      "            \u001b[0m\u001b[34;1m\"type\"\u001b[0m\u001b[1;39m: \u001b[0m\u001b[0;32m\"PodScheduled\"\u001b[0m\u001b[1;39m\n",
      "          \u001b[1;39m}\u001b[0m\u001b[1;39m\n",
      "        \u001b[1;39m]\u001b[0m\u001b[1;39m,\n",
      "        \u001b[0m\u001b[34;1m\"containerStatuses\"\u001b[0m\u001b[1;39m: \u001b[0m\u001b[1;39m[\n",
      "          \u001b[1;39m{\n",
      "            \u001b[0m\u001b[34;1m\"containerID\"\u001b[0m\u001b[1;39m: \u001b[0m\u001b[0;32m\"docker://ea714724541c0e86d1de0a178e7173f34c95ac6ed8a5a66d2591970d5c3c7ec3\"\u001b[0m\u001b[1;39m,\n",
      "            \u001b[0m\u001b[34;1m\"image\"\u001b[0m\u001b[1;39m: \u001b[0m\u001b[0;32m\"nginx:latest\"\u001b[0m\u001b[1;39m,\n",
      "            \u001b[0m\u001b[34;1m\"imageID\"\u001b[0m\u001b[1;39m: \u001b[0m\u001b[0;32m\"docker-pullable://nginx@sha256:097c3a0913d7e3a5b01b6c685a60c03632fc7a2b50bc8e35bcaa3691d788226e\"\u001b[0m\u001b[1;39m,\n",
      "            \u001b[0m\u001b[34;1m\"lastState\"\u001b[0m\u001b[1;39m: \u001b[0m\u001b[1;39m{}\u001b[0m\u001b[1;39m,\n",
      "            \u001b[0m\u001b[34;1m\"name\"\u001b[0m\u001b[1;39m: \u001b[0m\u001b[0;32m\"nginx\"\u001b[0m\u001b[1;39m,\n",
      "            \u001b[0m\u001b[34;1m\"ready\"\u001b[0m\u001b[1;39m: \u001b[0m\u001b[0;39mtrue\u001b[0m\u001b[1;39m,\n",
      "            \u001b[0m\u001b[34;1m\"restartCount\"\u001b[0m\u001b[1;39m: \u001b[0m\u001b[0;39m0\u001b[0m\u001b[1;39m,\n",
      "            \u001b[0m\u001b[34;1m\"started\"\u001b[0m\u001b[1;39m: \u001b[0m\u001b[0;39mtrue\u001b[0m\u001b[1;39m,\n",
      "            \u001b[0m\u001b[34;1m\"state\"\u001b[0m\u001b[1;39m: \u001b[0m\u001b[1;39m{\n",
      "              \u001b[0m\u001b[34;1m\"running\"\u001b[0m\u001b[1;39m: \u001b[0m\u001b[1;39m{\n",
      "                \u001b[0m\u001b[34;1m\"startedAt\"\u001b[0m\u001b[1;39m: \u001b[0m\u001b[0;32m\"2021-11-30T09:36:43Z\"\u001b[0m\u001b[1;39m\n",
      "              \u001b[1;39m}\u001b[0m\u001b[1;39m\n",
      "            \u001b[1;39m}\u001b[0m\u001b[1;39m\n",
      "          \u001b[1;39m}\u001b[0m\u001b[1;39m\n",
      "        \u001b[1;39m]\u001b[0m\u001b[1;39m,\n",
      "        \u001b[0m\u001b[34;1m\"hostIP\"\u001b[0m\u001b[1;39m: \u001b[0m\u001b[0;32m\"192.168.49.2\"\u001b[0m\u001b[1;39m,\n",
      "        \u001b[0m\u001b[34;1m\"phase\"\u001b[0m\u001b[1;39m: \u001b[0m\u001b[0;32m\"Running\"\u001b[0m\u001b[1;39m,\n",
      "        \u001b[0m\u001b[34;1m\"podIP\"\u001b[0m\u001b[1;39m: \u001b[0m\u001b[0;32m\"172.17.0.3\"\u001b[0m\u001b[1;39m,\n",
      "        \u001b[0m\u001b[34;1m\"podIPs\"\u001b[0m\u001b[1;39m: \u001b[0m\u001b[1;39m[\n",
      "          \u001b[1;39m{\n",
      "            \u001b[0m\u001b[34;1m\"ip\"\u001b[0m\u001b[1;39m: \u001b[0m\u001b[0;32m\"172.17.0.3\"\u001b[0m\u001b[1;39m\n",
      "          \u001b[1;39m}\u001b[0m\u001b[1;39m\n",
      "        \u001b[1;39m]\u001b[0m\u001b[1;39m,\n",
      "        \u001b[0m\u001b[34;1m\"qosClass\"\u001b[0m\u001b[1;39m: \u001b[0m\u001b[0;32m\"BestEffort\"\u001b[0m\u001b[1;39m,\n",
      "        \u001b[0m\u001b[34;1m\"startTime\"\u001b[0m\u001b[1;39m: \u001b[0m\u001b[0;32m\"2021-11-30T09:36:27Z\"\u001b[0m\u001b[1;39m\n",
      "      \u001b[1;39m}\u001b[0m\u001b[1;39m\n",
      "    \u001b[1;39m}\u001b[0m\u001b[1;39m\n",
      "  \u001b[1;39m]\u001b[0m\u001b[1;39m,\n",
      "  \u001b[0m\u001b[34;1m\"kind\"\u001b[0m\u001b[1;39m: \u001b[0m\u001b[0;32m\"List\"\u001b[0m\u001b[1;39m,\n",
      "  \u001b[0m\u001b[34;1m\"metadata\"\u001b[0m\u001b[1;39m: \u001b[0m\u001b[1;39m{\n",
      "    \u001b[0m\u001b[34;1m\"resourceVersion\"\u001b[0m\u001b[1;39m: \u001b[0m\u001b[0;32m\"\"\u001b[0m\u001b[1;39m,\n",
      "    \u001b[0m\u001b[34;1m\"selfLink\"\u001b[0m\u001b[1;39m: \u001b[0m\u001b[0;32m\"\"\u001b[0m\u001b[1;39m\n",
      "  \u001b[1;39m}\u001b[0m\u001b[1;39m\n",
      "\u001b[1;39m}\u001b[0m\n"
     ]
    }
   ],
   "source": [
    "kubectl get pods -o json | jq"
   ]
  },
  {
   "cell_type": "code",
   "execution_count": 7,
   "id": "bc20d122",
   "metadata": {
    "collapsed": true,
    "jupyter": {
     "outputs_hidden": true
    },
    "tags": []
   },
   "outputs": [
    {
     "name": "stdout",
     "output_type": "stream",
     "text": [
      "{\"apiVersion\":\"v1\",\"items\":[{\"apiVersion\":\"v1\",\"kind\":\"Pod\",\"metadata\":{\"creationTimestamp\":\"2021-11-30T09:36:27Z\",\"generateName\":\"nginx-6799fc88d8-\",\"labels\":{\"app\":\"nginx\",\"pod-template-hash\":\"6799fc88d8\"},\"managedFields\":[{\"apiVersion\":\"v1\",\"fieldsType\":\"FieldsV1\",\"fieldsV1\":{\"f:metadata\":{\"f:generateName\":{},\"f:labels\":{\".\":{},\"f:app\":{},\"f:pod-template-hash\":{}},\"f:ownerReferences\":{\".\":{},\"k:{\\\"uid\\\":\\\"b19a9b3a-dc80-4258-b7b3-af70e33f16f2\\\"}\":{}}},\"f:spec\":{\"f:containers\":{\"k:{\\\"name\\\":\\\"nginx\\\"}\":{\".\":{},\"f:image\":{},\"f:imagePullPolicy\":{},\"f:name\":{},\"f:resources\":{},\"f:terminationMessagePath\":{},\"f:terminationMessagePolicy\":{}}},\"f:dnsPolicy\":{},\"f:enableServiceLinks\":{},\"f:restartPolicy\":{},\"f:schedulerName\":{},\"f:securityContext\":{},\"f:terminationGracePeriodSeconds\":{}}},\"manager\":\"kube-controller-manager\",\"operation\":\"Update\",\"time\":\"2021-11-30T09:36:27Z\"},{\"apiVersion\":\"v1\",\"fieldsType\":\"FieldsV1\",\"fieldsV1\":{\"f:status\":{\"f:conditions\":{\"k:{\\\"type\\\":\\\"ContainersReady\\\"}\":{\".\":{},\"f:lastProbeTime\":{},\"f:lastTransitionTime\":{},\"f:status\":{},\"f:type\":{}},\"k:{\\\"type\\\":\\\"Initialized\\\"}\":{\".\":{},\"f:lastProbeTime\":{},\"f:lastTransitionTime\":{},\"f:status\":{},\"f:type\":{}},\"k:{\\\"type\\\":\\\"Ready\\\"}\":{\".\":{},\"f:lastProbeTime\":{},\"f:lastTransitionTime\":{},\"f:status\":{},\"f:type\":{}}},\"f:containerStatuses\":{},\"f:hostIP\":{},\"f:phase\":{},\"f:podIP\":{},\"f:podIPs\":{\".\":{},\"k:{\\\"ip\\\":\\\"172.17.0.3\\\"}\":{\".\":{},\"f:ip\":{}}},\"f:startTime\":{}}},\"manager\":\"kubelet\",\"operation\":\"Update\",\"subresource\":\"status\",\"time\":\"2021-11-30T09:36:43Z\"}],\"name\":\"nginx-6799fc88d8-nzbj2\",\"namespace\":\"default\",\"ownerReferences\":[{\"apiVersion\":\"apps/v1\",\"blockOwnerDeletion\":true,\"controller\":true,\"kind\":\"ReplicaSet\",\"name\":\"nginx-6799fc88d8\",\"uid\":\"b19a9b3a-dc80-4258-b7b3-af70e33f16f2\"}],\"resourceVersion\":\"1810\",\"uid\":\"2c126dba-6a37-46be-b550-d0e0d8a30bf9\"},\"spec\":{\"containers\":[{\"image\":\"nginx\",\"imagePullPolicy\":\"Always\",\"name\":\"nginx\",\"resources\":{},\"terminationMessagePath\":\"/dev/termination-log\",\"terminationMessagePolicy\":\"File\",\"volumeMounts\":[{\"mountPath\":\"/var/run/secrets/kubernetes.io/serviceaccount\",\"name\":\"kube-api-access-gg8kp\",\"readOnly\":true}]}],\"dnsPolicy\":\"ClusterFirst\",\"enableServiceLinks\":true,\"nodeName\":\"minikube\",\"preemptionPolicy\":\"PreemptLowerPriority\",\"priority\":0,\"restartPolicy\":\"Always\",\"schedulerName\":\"default-scheduler\",\"securityContext\":{},\"serviceAccount\":\"default\",\"serviceAccountName\":\"default\",\"terminationGracePeriodSeconds\":30,\"tolerations\":[{\"effect\":\"NoExecute\",\"key\":\"node.kubernetes.io/not-ready\",\"operator\":\"Exists\",\"tolerationSeconds\":300},{\"effect\":\"NoExecute\",\"key\":\"node.kubernetes.io/unreachable\",\"operator\":\"Exists\",\"tolerationSeconds\":300}],\"volumes\":[{\"name\":\"kube-api-access-gg8kp\",\"projected\":{\"defaultMode\":420,\"sources\":[{\"serviceAccountToken\":{\"expirationSeconds\":3607,\"path\":\"token\"}},{\"configMap\":{\"items\":[{\"key\":\"ca.crt\",\"path\":\"ca.crt\"}],\"name\":\"kube-root-ca.crt\"}},{\"downwardAPI\":{\"items\":[{\"fieldRef\":{\"apiVersion\":\"v1\",\"fieldPath\":\"metadata.namespace\"},\"path\":\"namespace\"}]}}]}}]},\"status\":{\"conditions\":[{\"lastProbeTime\":null,\"lastTransitionTime\":\"2021-11-30T09:36:27Z\",\"status\":\"True\",\"type\":\"Initialized\"},{\"lastProbeTime\":null,\"lastTransitionTime\":\"2021-11-30T09:36:43Z\",\"status\":\"True\",\"type\":\"Ready\"},{\"lastProbeTime\":null,\"lastTransitionTime\":\"2021-11-30T09:36:43Z\",\"status\":\"True\",\"type\":\"ContainersReady\"},{\"lastProbeTime\":null,\"lastTransitionTime\":\"2021-11-30T09:36:27Z\",\"status\":\"True\",\"type\":\"PodScheduled\"}],\"containerStatuses\":[{\"containerID\":\"docker://ea714724541c0e86d1de0a178e7173f34c95ac6ed8a5a66d2591970d5c3c7ec3\",\"image\":\"nginx:latest\",\"imageID\":\"docker-pullable://nginx@sha256:097c3a0913d7e3a5b01b6c685a60c03632fc7a2b50bc8e35bcaa3691d788226e\",\"lastState\":{},\"name\":\"nginx\",\"ready\":true,\"restartCount\":0,\"started\":true,\"state\":{\"running\":{\"startedAt\":\"2021-11-30T09:36:43Z\"}}}],\"hostIP\":\"192.168.49.2\",\"phase\":\"Running\",\"podIP\":\"172.17.0.3\",\"podIPs\":[{\"ip\":\"172.17.0.3\"}],\"qosClass\":\"BestEffort\",\"startTime\":\"2021-11-30T09:36:27Z\"}}],\"kind\":\"List\",\"metadata\":{\"resourceVersion\":\"\",\"selfLink\":\"\"}}"
     ]
    }
   ],
   "source": [
    "kubectl get pods -o=jsonpath='{@}'"
   ]
  },
  {
   "cell_type": "code",
   "execution_count": 8,
   "id": "6e526b3a",
   "metadata": {
    "collapsed": true,
    "jupyter": {
     "outputs_hidden": true
    },
    "tags": []
   },
   "outputs": [
    {
     "name": "stdout",
     "output_type": "stream",
     "text": [
      "\u001b[1;39m{\n",
      "  \u001b[0m\u001b[34;1m\"apiVersion\"\u001b[0m\u001b[1;39m: \u001b[0m\u001b[0;32m\"v1\"\u001b[0m\u001b[1;39m,\n",
      "  \u001b[0m\u001b[34;1m\"kind\"\u001b[0m\u001b[1;39m: \u001b[0m\u001b[0;32m\"Pod\"\u001b[0m\u001b[1;39m,\n",
      "  \u001b[0m\u001b[34;1m\"metadata\"\u001b[0m\u001b[1;39m: \u001b[0m\u001b[1;39m{\n",
      "    \u001b[0m\u001b[34;1m\"creationTimestamp\"\u001b[0m\u001b[1;39m: \u001b[0m\u001b[0;32m\"2021-11-30T09:36:27Z\"\u001b[0m\u001b[1;39m,\n",
      "    \u001b[0m\u001b[34;1m\"generateName\"\u001b[0m\u001b[1;39m: \u001b[0m\u001b[0;32m\"nginx-6799fc88d8-\"\u001b[0m\u001b[1;39m,\n",
      "    \u001b[0m\u001b[34;1m\"labels\"\u001b[0m\u001b[1;39m: \u001b[0m\u001b[1;39m{\n",
      "      \u001b[0m\u001b[34;1m\"app\"\u001b[0m\u001b[1;39m: \u001b[0m\u001b[0;32m\"nginx\"\u001b[0m\u001b[1;39m,\n",
      "      \u001b[0m\u001b[34;1m\"pod-template-hash\"\u001b[0m\u001b[1;39m: \u001b[0m\u001b[0;32m\"6799fc88d8\"\u001b[0m\u001b[1;39m\n",
      "    \u001b[1;39m}\u001b[0m\u001b[1;39m,\n",
      "    \u001b[0m\u001b[34;1m\"managedFields\"\u001b[0m\u001b[1;39m: \u001b[0m\u001b[1;39m[\n",
      "      \u001b[1;39m{\n",
      "        \u001b[0m\u001b[34;1m\"apiVersion\"\u001b[0m\u001b[1;39m: \u001b[0m\u001b[0;32m\"v1\"\u001b[0m\u001b[1;39m,\n",
      "        \u001b[0m\u001b[34;1m\"fieldsType\"\u001b[0m\u001b[1;39m: \u001b[0m\u001b[0;32m\"FieldsV1\"\u001b[0m\u001b[1;39m,\n",
      "        \u001b[0m\u001b[34;1m\"fieldsV1\"\u001b[0m\u001b[1;39m: \u001b[0m\u001b[1;39m{\n",
      "          \u001b[0m\u001b[34;1m\"f:metadata\"\u001b[0m\u001b[1;39m: \u001b[0m\u001b[1;39m{\n",
      "            \u001b[0m\u001b[34;1m\"f:generateName\"\u001b[0m\u001b[1;39m: \u001b[0m\u001b[1;39m{}\u001b[0m\u001b[1;39m,\n",
      "            \u001b[0m\u001b[34;1m\"f:labels\"\u001b[0m\u001b[1;39m: \u001b[0m\u001b[1;39m{\n",
      "              \u001b[0m\u001b[34;1m\".\"\u001b[0m\u001b[1;39m: \u001b[0m\u001b[1;39m{}\u001b[0m\u001b[1;39m,\n",
      "              \u001b[0m\u001b[34;1m\"f:app\"\u001b[0m\u001b[1;39m: \u001b[0m\u001b[1;39m{}\u001b[0m\u001b[1;39m,\n",
      "              \u001b[0m\u001b[34;1m\"f:pod-template-hash\"\u001b[0m\u001b[1;39m: \u001b[0m\u001b[1;39m{}\u001b[0m\u001b[1;39m\n",
      "            \u001b[1;39m}\u001b[0m\u001b[1;39m,\n",
      "            \u001b[0m\u001b[34;1m\"f:ownerReferences\"\u001b[0m\u001b[1;39m: \u001b[0m\u001b[1;39m{\n",
      "              \u001b[0m\u001b[34;1m\".\"\u001b[0m\u001b[1;39m: \u001b[0m\u001b[1;39m{}\u001b[0m\u001b[1;39m,\n",
      "              \u001b[0m\u001b[34;1m\"k:{\\\"uid\\\":\\\"b19a9b3a-dc80-4258-b7b3-af70e33f16f2\\\"}\"\u001b[0m\u001b[1;39m: \u001b[0m\u001b[1;39m{}\u001b[0m\u001b[1;39m\n",
      "            \u001b[1;39m}\u001b[0m\u001b[1;39m\n",
      "          \u001b[1;39m}\u001b[0m\u001b[1;39m,\n",
      "          \u001b[0m\u001b[34;1m\"f:spec\"\u001b[0m\u001b[1;39m: \u001b[0m\u001b[1;39m{\n",
      "            \u001b[0m\u001b[34;1m\"f:containers\"\u001b[0m\u001b[1;39m: \u001b[0m\u001b[1;39m{\n",
      "              \u001b[0m\u001b[34;1m\"k:{\\\"name\\\":\\\"nginx\\\"}\"\u001b[0m\u001b[1;39m: \u001b[0m\u001b[1;39m{\n",
      "                \u001b[0m\u001b[34;1m\".\"\u001b[0m\u001b[1;39m: \u001b[0m\u001b[1;39m{}\u001b[0m\u001b[1;39m,\n",
      "                \u001b[0m\u001b[34;1m\"f:image\"\u001b[0m\u001b[1;39m: \u001b[0m\u001b[1;39m{}\u001b[0m\u001b[1;39m,\n",
      "                \u001b[0m\u001b[34;1m\"f:imagePullPolicy\"\u001b[0m\u001b[1;39m: \u001b[0m\u001b[1;39m{}\u001b[0m\u001b[1;39m,\n",
      "                \u001b[0m\u001b[34;1m\"f:name\"\u001b[0m\u001b[1;39m: \u001b[0m\u001b[1;39m{}\u001b[0m\u001b[1;39m,\n",
      "                \u001b[0m\u001b[34;1m\"f:resources\"\u001b[0m\u001b[1;39m: \u001b[0m\u001b[1;39m{}\u001b[0m\u001b[1;39m,\n",
      "                \u001b[0m\u001b[34;1m\"f:terminationMessagePath\"\u001b[0m\u001b[1;39m: \u001b[0m\u001b[1;39m{}\u001b[0m\u001b[1;39m,\n",
      "                \u001b[0m\u001b[34;1m\"f:terminationMessagePolicy\"\u001b[0m\u001b[1;39m: \u001b[0m\u001b[1;39m{}\u001b[0m\u001b[1;39m\n",
      "              \u001b[1;39m}\u001b[0m\u001b[1;39m\n",
      "            \u001b[1;39m}\u001b[0m\u001b[1;39m,\n",
      "            \u001b[0m\u001b[34;1m\"f:dnsPolicy\"\u001b[0m\u001b[1;39m: \u001b[0m\u001b[1;39m{}\u001b[0m\u001b[1;39m,\n",
      "            \u001b[0m\u001b[34;1m\"f:enableServiceLinks\"\u001b[0m\u001b[1;39m: \u001b[0m\u001b[1;39m{}\u001b[0m\u001b[1;39m,\n",
      "            \u001b[0m\u001b[34;1m\"f:restartPolicy\"\u001b[0m\u001b[1;39m: \u001b[0m\u001b[1;39m{}\u001b[0m\u001b[1;39m,\n",
      "            \u001b[0m\u001b[34;1m\"f:schedulerName\"\u001b[0m\u001b[1;39m: \u001b[0m\u001b[1;39m{}\u001b[0m\u001b[1;39m,\n",
      "            \u001b[0m\u001b[34;1m\"f:securityContext\"\u001b[0m\u001b[1;39m: \u001b[0m\u001b[1;39m{}\u001b[0m\u001b[1;39m,\n",
      "            \u001b[0m\u001b[34;1m\"f:terminationGracePeriodSeconds\"\u001b[0m\u001b[1;39m: \u001b[0m\u001b[1;39m{}\u001b[0m\u001b[1;39m\n",
      "          \u001b[1;39m}\u001b[0m\u001b[1;39m\n",
      "        \u001b[1;39m}\u001b[0m\u001b[1;39m,\n",
      "        \u001b[0m\u001b[34;1m\"manager\"\u001b[0m\u001b[1;39m: \u001b[0m\u001b[0;32m\"kube-controller-manager\"\u001b[0m\u001b[1;39m,\n",
      "        \u001b[0m\u001b[34;1m\"operation\"\u001b[0m\u001b[1;39m: \u001b[0m\u001b[0;32m\"Update\"\u001b[0m\u001b[1;39m,\n",
      "        \u001b[0m\u001b[34;1m\"time\"\u001b[0m\u001b[1;39m: \u001b[0m\u001b[0;32m\"2021-11-30T09:36:27Z\"\u001b[0m\u001b[1;39m\n",
      "      \u001b[1;39m}\u001b[0m\u001b[1;39m,\n",
      "      \u001b[1;39m{\n",
      "        \u001b[0m\u001b[34;1m\"apiVersion\"\u001b[0m\u001b[1;39m: \u001b[0m\u001b[0;32m\"v1\"\u001b[0m\u001b[1;39m,\n",
      "        \u001b[0m\u001b[34;1m\"fieldsType\"\u001b[0m\u001b[1;39m: \u001b[0m\u001b[0;32m\"FieldsV1\"\u001b[0m\u001b[1;39m,\n",
      "        \u001b[0m\u001b[34;1m\"fieldsV1\"\u001b[0m\u001b[1;39m: \u001b[0m\u001b[1;39m{\n",
      "          \u001b[0m\u001b[34;1m\"f:status\"\u001b[0m\u001b[1;39m: \u001b[0m\u001b[1;39m{\n",
      "            \u001b[0m\u001b[34;1m\"f:conditions\"\u001b[0m\u001b[1;39m: \u001b[0m\u001b[1;39m{\n",
      "              \u001b[0m\u001b[34;1m\"k:{\\\"type\\\":\\\"ContainersReady\\\"}\"\u001b[0m\u001b[1;39m: \u001b[0m\u001b[1;39m{\n",
      "                \u001b[0m\u001b[34;1m\".\"\u001b[0m\u001b[1;39m: \u001b[0m\u001b[1;39m{}\u001b[0m\u001b[1;39m,\n",
      "                \u001b[0m\u001b[34;1m\"f:lastProbeTime\"\u001b[0m\u001b[1;39m: \u001b[0m\u001b[1;39m{}\u001b[0m\u001b[1;39m,\n",
      "                \u001b[0m\u001b[34;1m\"f:lastTransitionTime\"\u001b[0m\u001b[1;39m: \u001b[0m\u001b[1;39m{}\u001b[0m\u001b[1;39m,\n",
      "                \u001b[0m\u001b[34;1m\"f:status\"\u001b[0m\u001b[1;39m: \u001b[0m\u001b[1;39m{}\u001b[0m\u001b[1;39m,\n",
      "                \u001b[0m\u001b[34;1m\"f:type\"\u001b[0m\u001b[1;39m: \u001b[0m\u001b[1;39m{}\u001b[0m\u001b[1;39m\n",
      "              \u001b[1;39m}\u001b[0m\u001b[1;39m,\n",
      "              \u001b[0m\u001b[34;1m\"k:{\\\"type\\\":\\\"Initialized\\\"}\"\u001b[0m\u001b[1;39m: \u001b[0m\u001b[1;39m{\n",
      "                \u001b[0m\u001b[34;1m\".\"\u001b[0m\u001b[1;39m: \u001b[0m\u001b[1;39m{}\u001b[0m\u001b[1;39m,\n",
      "                \u001b[0m\u001b[34;1m\"f:lastProbeTime\"\u001b[0m\u001b[1;39m: \u001b[0m\u001b[1;39m{}\u001b[0m\u001b[1;39m,\n",
      "                \u001b[0m\u001b[34;1m\"f:lastTransitionTime\"\u001b[0m\u001b[1;39m: \u001b[0m\u001b[1;39m{}\u001b[0m\u001b[1;39m,\n",
      "                \u001b[0m\u001b[34;1m\"f:status\"\u001b[0m\u001b[1;39m: \u001b[0m\u001b[1;39m{}\u001b[0m\u001b[1;39m,\n",
      "                \u001b[0m\u001b[34;1m\"f:type\"\u001b[0m\u001b[1;39m: \u001b[0m\u001b[1;39m{}\u001b[0m\u001b[1;39m\n",
      "              \u001b[1;39m}\u001b[0m\u001b[1;39m,\n",
      "              \u001b[0m\u001b[34;1m\"k:{\\\"type\\\":\\\"Ready\\\"}\"\u001b[0m\u001b[1;39m: \u001b[0m\u001b[1;39m{\n",
      "                \u001b[0m\u001b[34;1m\".\"\u001b[0m\u001b[1;39m: \u001b[0m\u001b[1;39m{}\u001b[0m\u001b[1;39m,\n",
      "                \u001b[0m\u001b[34;1m\"f:lastProbeTime\"\u001b[0m\u001b[1;39m: \u001b[0m\u001b[1;39m{}\u001b[0m\u001b[1;39m,\n",
      "                \u001b[0m\u001b[34;1m\"f:lastTransitionTime\"\u001b[0m\u001b[1;39m: \u001b[0m\u001b[1;39m{}\u001b[0m\u001b[1;39m,\n",
      "                \u001b[0m\u001b[34;1m\"f:status\"\u001b[0m\u001b[1;39m: \u001b[0m\u001b[1;39m{}\u001b[0m\u001b[1;39m,\n",
      "                \u001b[0m\u001b[34;1m\"f:type\"\u001b[0m\u001b[1;39m: \u001b[0m\u001b[1;39m{}\u001b[0m\u001b[1;39m\n",
      "              \u001b[1;39m}\u001b[0m\u001b[1;39m\n",
      "            \u001b[1;39m}\u001b[0m\u001b[1;39m,\n",
      "            \u001b[0m\u001b[34;1m\"f:containerStatuses\"\u001b[0m\u001b[1;39m: \u001b[0m\u001b[1;39m{}\u001b[0m\u001b[1;39m,\n",
      "            \u001b[0m\u001b[34;1m\"f:hostIP\"\u001b[0m\u001b[1;39m: \u001b[0m\u001b[1;39m{}\u001b[0m\u001b[1;39m,\n",
      "            \u001b[0m\u001b[34;1m\"f:phase\"\u001b[0m\u001b[1;39m: \u001b[0m\u001b[1;39m{}\u001b[0m\u001b[1;39m,\n",
      "            \u001b[0m\u001b[34;1m\"f:podIP\"\u001b[0m\u001b[1;39m: \u001b[0m\u001b[1;39m{}\u001b[0m\u001b[1;39m,\n",
      "            \u001b[0m\u001b[34;1m\"f:podIPs\"\u001b[0m\u001b[1;39m: \u001b[0m\u001b[1;39m{\n",
      "              \u001b[0m\u001b[34;1m\".\"\u001b[0m\u001b[1;39m: \u001b[0m\u001b[1;39m{}\u001b[0m\u001b[1;39m,\n",
      "              \u001b[0m\u001b[34;1m\"k:{\\\"ip\\\":\\\"172.17.0.3\\\"}\"\u001b[0m\u001b[1;39m: \u001b[0m\u001b[1;39m{\n",
      "                \u001b[0m\u001b[34;1m\".\"\u001b[0m\u001b[1;39m: \u001b[0m\u001b[1;39m{}\u001b[0m\u001b[1;39m,\n",
      "                \u001b[0m\u001b[34;1m\"f:ip\"\u001b[0m\u001b[1;39m: \u001b[0m\u001b[1;39m{}\u001b[0m\u001b[1;39m\n",
      "              \u001b[1;39m}\u001b[0m\u001b[1;39m\n",
      "            \u001b[1;39m}\u001b[0m\u001b[1;39m,\n",
      "            \u001b[0m\u001b[34;1m\"f:startTime\"\u001b[0m\u001b[1;39m: \u001b[0m\u001b[1;39m{}\u001b[0m\u001b[1;39m\n",
      "          \u001b[1;39m}\u001b[0m\u001b[1;39m\n",
      "        \u001b[1;39m}\u001b[0m\u001b[1;39m,\n",
      "        \u001b[0m\u001b[34;1m\"manager\"\u001b[0m\u001b[1;39m: \u001b[0m\u001b[0;32m\"kubelet\"\u001b[0m\u001b[1;39m,\n",
      "        \u001b[0m\u001b[34;1m\"operation\"\u001b[0m\u001b[1;39m: \u001b[0m\u001b[0;32m\"Update\"\u001b[0m\u001b[1;39m,\n",
      "        \u001b[0m\u001b[34;1m\"subresource\"\u001b[0m\u001b[1;39m: \u001b[0m\u001b[0;32m\"status\"\u001b[0m\u001b[1;39m,\n",
      "        \u001b[0m\u001b[34;1m\"time\"\u001b[0m\u001b[1;39m: \u001b[0m\u001b[0;32m\"2021-11-30T09:36:43Z\"\u001b[0m\u001b[1;39m\n",
      "      \u001b[1;39m}\u001b[0m\u001b[1;39m\n",
      "    \u001b[1;39m]\u001b[0m\u001b[1;39m,\n",
      "    \u001b[0m\u001b[34;1m\"name\"\u001b[0m\u001b[1;39m: \u001b[0m\u001b[0;32m\"nginx-6799fc88d8-nzbj2\"\u001b[0m\u001b[1;39m,\n",
      "    \u001b[0m\u001b[34;1m\"namespace\"\u001b[0m\u001b[1;39m: \u001b[0m\u001b[0;32m\"default\"\u001b[0m\u001b[1;39m,\n",
      "    \u001b[0m\u001b[34;1m\"ownerReferences\"\u001b[0m\u001b[1;39m: \u001b[0m\u001b[1;39m[\n",
      "      \u001b[1;39m{\n",
      "        \u001b[0m\u001b[34;1m\"apiVersion\"\u001b[0m\u001b[1;39m: \u001b[0m\u001b[0;32m\"apps/v1\"\u001b[0m\u001b[1;39m,\n",
      "        \u001b[0m\u001b[34;1m\"blockOwnerDeletion\"\u001b[0m\u001b[1;39m: \u001b[0m\u001b[0;39mtrue\u001b[0m\u001b[1;39m,\n",
      "        \u001b[0m\u001b[34;1m\"controller\"\u001b[0m\u001b[1;39m: \u001b[0m\u001b[0;39mtrue\u001b[0m\u001b[1;39m,\n",
      "        \u001b[0m\u001b[34;1m\"kind\"\u001b[0m\u001b[1;39m: \u001b[0m\u001b[0;32m\"ReplicaSet\"\u001b[0m\u001b[1;39m,\n",
      "        \u001b[0m\u001b[34;1m\"name\"\u001b[0m\u001b[1;39m: \u001b[0m\u001b[0;32m\"nginx-6799fc88d8\"\u001b[0m\u001b[1;39m,\n",
      "        \u001b[0m\u001b[34;1m\"uid\"\u001b[0m\u001b[1;39m: \u001b[0m\u001b[0;32m\"b19a9b3a-dc80-4258-b7b3-af70e33f16f2\"\u001b[0m\u001b[1;39m\n",
      "      \u001b[1;39m}\u001b[0m\u001b[1;39m\n",
      "    \u001b[1;39m]\u001b[0m\u001b[1;39m,\n",
      "    \u001b[0m\u001b[34;1m\"resourceVersion\"\u001b[0m\u001b[1;39m: \u001b[0m\u001b[0;32m\"1810\"\u001b[0m\u001b[1;39m,\n",
      "    \u001b[0m\u001b[34;1m\"uid\"\u001b[0m\u001b[1;39m: \u001b[0m\u001b[0;32m\"2c126dba-6a37-46be-b550-d0e0d8a30bf9\"\u001b[0m\u001b[1;39m\n",
      "  \u001b[1;39m}\u001b[0m\u001b[1;39m,\n",
      "  \u001b[0m\u001b[34;1m\"spec\"\u001b[0m\u001b[1;39m: \u001b[0m\u001b[1;39m{\n",
      "    \u001b[0m\u001b[34;1m\"containers\"\u001b[0m\u001b[1;39m: \u001b[0m\u001b[1;39m[\n",
      "      \u001b[1;39m{\n",
      "        \u001b[0m\u001b[34;1m\"image\"\u001b[0m\u001b[1;39m: \u001b[0m\u001b[0;32m\"nginx\"\u001b[0m\u001b[1;39m,\n",
      "        \u001b[0m\u001b[34;1m\"imagePullPolicy\"\u001b[0m\u001b[1;39m: \u001b[0m\u001b[0;32m\"Always\"\u001b[0m\u001b[1;39m,\n",
      "        \u001b[0m\u001b[34;1m\"name\"\u001b[0m\u001b[1;39m: \u001b[0m\u001b[0;32m\"nginx\"\u001b[0m\u001b[1;39m,\n",
      "        \u001b[0m\u001b[34;1m\"resources\"\u001b[0m\u001b[1;39m: \u001b[0m\u001b[1;39m{}\u001b[0m\u001b[1;39m,\n",
      "        \u001b[0m\u001b[34;1m\"terminationMessagePath\"\u001b[0m\u001b[1;39m: \u001b[0m\u001b[0;32m\"/dev/termination-log\"\u001b[0m\u001b[1;39m,\n",
      "        \u001b[0m\u001b[34;1m\"terminationMessagePolicy\"\u001b[0m\u001b[1;39m: \u001b[0m\u001b[0;32m\"File\"\u001b[0m\u001b[1;39m,\n",
      "        \u001b[0m\u001b[34;1m\"volumeMounts\"\u001b[0m\u001b[1;39m: \u001b[0m\u001b[1;39m[\n",
      "          \u001b[1;39m{\n",
      "            \u001b[0m\u001b[34;1m\"mountPath\"\u001b[0m\u001b[1;39m: \u001b[0m\u001b[0;32m\"/var/run/secrets/kubernetes.io/serviceaccount\"\u001b[0m\u001b[1;39m,\n",
      "            \u001b[0m\u001b[34;1m\"name\"\u001b[0m\u001b[1;39m: \u001b[0m\u001b[0;32m\"kube-api-access-gg8kp\"\u001b[0m\u001b[1;39m,\n",
      "            \u001b[0m\u001b[34;1m\"readOnly\"\u001b[0m\u001b[1;39m: \u001b[0m\u001b[0;39mtrue\u001b[0m\u001b[1;39m\n",
      "          \u001b[1;39m}\u001b[0m\u001b[1;39m\n",
      "        \u001b[1;39m]\u001b[0m\u001b[1;39m\n",
      "      \u001b[1;39m}\u001b[0m\u001b[1;39m\n",
      "    \u001b[1;39m]\u001b[0m\u001b[1;39m,\n",
      "    \u001b[0m\u001b[34;1m\"dnsPolicy\"\u001b[0m\u001b[1;39m: \u001b[0m\u001b[0;32m\"ClusterFirst\"\u001b[0m\u001b[1;39m,\n",
      "    \u001b[0m\u001b[34;1m\"enableServiceLinks\"\u001b[0m\u001b[1;39m: \u001b[0m\u001b[0;39mtrue\u001b[0m\u001b[1;39m,\n",
      "    \u001b[0m\u001b[34;1m\"nodeName\"\u001b[0m\u001b[1;39m: \u001b[0m\u001b[0;32m\"minikube\"\u001b[0m\u001b[1;39m,\n",
      "    \u001b[0m\u001b[34;1m\"preemptionPolicy\"\u001b[0m\u001b[1;39m: \u001b[0m\u001b[0;32m\"PreemptLowerPriority\"\u001b[0m\u001b[1;39m,\n",
      "    \u001b[0m\u001b[34;1m\"priority\"\u001b[0m\u001b[1;39m: \u001b[0m\u001b[0;39m0\u001b[0m\u001b[1;39m,\n",
      "    \u001b[0m\u001b[34;1m\"restartPolicy\"\u001b[0m\u001b[1;39m: \u001b[0m\u001b[0;32m\"Always\"\u001b[0m\u001b[1;39m,\n",
      "    \u001b[0m\u001b[34;1m\"schedulerName\"\u001b[0m\u001b[1;39m: \u001b[0m\u001b[0;32m\"default-scheduler\"\u001b[0m\u001b[1;39m,\n",
      "    \u001b[0m\u001b[34;1m\"securityContext\"\u001b[0m\u001b[1;39m: \u001b[0m\u001b[1;39m{}\u001b[0m\u001b[1;39m,\n",
      "    \u001b[0m\u001b[34;1m\"serviceAccount\"\u001b[0m\u001b[1;39m: \u001b[0m\u001b[0;32m\"default\"\u001b[0m\u001b[1;39m,\n",
      "    \u001b[0m\u001b[34;1m\"serviceAccountName\"\u001b[0m\u001b[1;39m: \u001b[0m\u001b[0;32m\"default\"\u001b[0m\u001b[1;39m,\n",
      "    \u001b[0m\u001b[34;1m\"terminationGracePeriodSeconds\"\u001b[0m\u001b[1;39m: \u001b[0m\u001b[0;39m30\u001b[0m\u001b[1;39m,\n",
      "    \u001b[0m\u001b[34;1m\"tolerations\"\u001b[0m\u001b[1;39m: \u001b[0m\u001b[1;39m[\n",
      "      \u001b[1;39m{\n",
      "        \u001b[0m\u001b[34;1m\"effect\"\u001b[0m\u001b[1;39m: \u001b[0m\u001b[0;32m\"NoExecute\"\u001b[0m\u001b[1;39m,\n",
      "        \u001b[0m\u001b[34;1m\"key\"\u001b[0m\u001b[1;39m: \u001b[0m\u001b[0;32m\"node.kubernetes.io/not-ready\"\u001b[0m\u001b[1;39m,\n",
      "        \u001b[0m\u001b[34;1m\"operator\"\u001b[0m\u001b[1;39m: \u001b[0m\u001b[0;32m\"Exists\"\u001b[0m\u001b[1;39m,\n",
      "        \u001b[0m\u001b[34;1m\"tolerationSeconds\"\u001b[0m\u001b[1;39m: \u001b[0m\u001b[0;39m300\u001b[0m\u001b[1;39m\n",
      "      \u001b[1;39m}\u001b[0m\u001b[1;39m,\n",
      "      \u001b[1;39m{\n",
      "        \u001b[0m\u001b[34;1m\"effect\"\u001b[0m\u001b[1;39m: \u001b[0m\u001b[0;32m\"NoExecute\"\u001b[0m\u001b[1;39m,\n",
      "        \u001b[0m\u001b[34;1m\"key\"\u001b[0m\u001b[1;39m: \u001b[0m\u001b[0;32m\"node.kubernetes.io/unreachable\"\u001b[0m\u001b[1;39m,\n",
      "        \u001b[0m\u001b[34;1m\"operator\"\u001b[0m\u001b[1;39m: \u001b[0m\u001b[0;32m\"Exists\"\u001b[0m\u001b[1;39m,\n",
      "        \u001b[0m\u001b[34;1m\"tolerationSeconds\"\u001b[0m\u001b[1;39m: \u001b[0m\u001b[0;39m300\u001b[0m\u001b[1;39m\n",
      "      \u001b[1;39m}\u001b[0m\u001b[1;39m\n",
      "    \u001b[1;39m]\u001b[0m\u001b[1;39m,\n",
      "    \u001b[0m\u001b[34;1m\"volumes\"\u001b[0m\u001b[1;39m: \u001b[0m\u001b[1;39m[\n",
      "      \u001b[1;39m{\n",
      "        \u001b[0m\u001b[34;1m\"name\"\u001b[0m\u001b[1;39m: \u001b[0m\u001b[0;32m\"kube-api-access-gg8kp\"\u001b[0m\u001b[1;39m,\n",
      "        \u001b[0m\u001b[34;1m\"projected\"\u001b[0m\u001b[1;39m: \u001b[0m\u001b[1;39m{\n",
      "          \u001b[0m\u001b[34;1m\"defaultMode\"\u001b[0m\u001b[1;39m: \u001b[0m\u001b[0;39m420\u001b[0m\u001b[1;39m,\n",
      "          \u001b[0m\u001b[34;1m\"sources\"\u001b[0m\u001b[1;39m: \u001b[0m\u001b[1;39m[\n",
      "            \u001b[1;39m{\n",
      "              \u001b[0m\u001b[34;1m\"serviceAccountToken\"\u001b[0m\u001b[1;39m: \u001b[0m\u001b[1;39m{\n",
      "                \u001b[0m\u001b[34;1m\"expirationSeconds\"\u001b[0m\u001b[1;39m: \u001b[0m\u001b[0;39m3607\u001b[0m\u001b[1;39m,\n",
      "                \u001b[0m\u001b[34;1m\"path\"\u001b[0m\u001b[1;39m: \u001b[0m\u001b[0;32m\"token\"\u001b[0m\u001b[1;39m\n",
      "              \u001b[1;39m}\u001b[0m\u001b[1;39m\n",
      "            \u001b[1;39m}\u001b[0m\u001b[1;39m,\n",
      "            \u001b[1;39m{\n",
      "              \u001b[0m\u001b[34;1m\"configMap\"\u001b[0m\u001b[1;39m: \u001b[0m\u001b[1;39m{\n",
      "                \u001b[0m\u001b[34;1m\"items\"\u001b[0m\u001b[1;39m: \u001b[0m\u001b[1;39m[\n",
      "                  \u001b[1;39m{\n",
      "                    \u001b[0m\u001b[34;1m\"key\"\u001b[0m\u001b[1;39m: \u001b[0m\u001b[0;32m\"ca.crt\"\u001b[0m\u001b[1;39m,\n",
      "                    \u001b[0m\u001b[34;1m\"path\"\u001b[0m\u001b[1;39m: \u001b[0m\u001b[0;32m\"ca.crt\"\u001b[0m\u001b[1;39m\n",
      "                  \u001b[1;39m}\u001b[0m\u001b[1;39m\n",
      "                \u001b[1;39m]\u001b[0m\u001b[1;39m,\n",
      "                \u001b[0m\u001b[34;1m\"name\"\u001b[0m\u001b[1;39m: \u001b[0m\u001b[0;32m\"kube-root-ca.crt\"\u001b[0m\u001b[1;39m\n",
      "              \u001b[1;39m}\u001b[0m\u001b[1;39m\n",
      "            \u001b[1;39m}\u001b[0m\u001b[1;39m,\n",
      "            \u001b[1;39m{\n",
      "              \u001b[0m\u001b[34;1m\"downwardAPI\"\u001b[0m\u001b[1;39m: \u001b[0m\u001b[1;39m{\n",
      "                \u001b[0m\u001b[34;1m\"items\"\u001b[0m\u001b[1;39m: \u001b[0m\u001b[1;39m[\n",
      "                  \u001b[1;39m{\n",
      "                    \u001b[0m\u001b[34;1m\"fieldRef\"\u001b[0m\u001b[1;39m: \u001b[0m\u001b[1;39m{\n",
      "                      \u001b[0m\u001b[34;1m\"apiVersion\"\u001b[0m\u001b[1;39m: \u001b[0m\u001b[0;32m\"v1\"\u001b[0m\u001b[1;39m,\n",
      "                      \u001b[0m\u001b[34;1m\"fieldPath\"\u001b[0m\u001b[1;39m: \u001b[0m\u001b[0;32m\"metadata.namespace\"\u001b[0m\u001b[1;39m\n",
      "                    \u001b[1;39m}\u001b[0m\u001b[1;39m,\n",
      "                    \u001b[0m\u001b[34;1m\"path\"\u001b[0m\u001b[1;39m: \u001b[0m\u001b[0;32m\"namespace\"\u001b[0m\u001b[1;39m\n",
      "                  \u001b[1;39m}\u001b[0m\u001b[1;39m\n",
      "                \u001b[1;39m]\u001b[0m\u001b[1;39m\n",
      "              \u001b[1;39m}\u001b[0m\u001b[1;39m\n",
      "            \u001b[1;39m}\u001b[0m\u001b[1;39m\n",
      "          \u001b[1;39m]\u001b[0m\u001b[1;39m\n",
      "        \u001b[1;39m}\u001b[0m\u001b[1;39m\n",
      "      \u001b[1;39m}\u001b[0m\u001b[1;39m\n",
      "    \u001b[1;39m]\u001b[0m\u001b[1;39m\n",
      "  \u001b[1;39m}\u001b[0m\u001b[1;39m,\n",
      "  \u001b[0m\u001b[34;1m\"status\"\u001b[0m\u001b[1;39m: \u001b[0m\u001b[1;39m{\n",
      "    \u001b[0m\u001b[34;1m\"conditions\"\u001b[0m\u001b[1;39m: \u001b[0m\u001b[1;39m[\n",
      "      \u001b[1;39m{\n",
      "        \u001b[0m\u001b[34;1m\"lastProbeTime\"\u001b[0m\u001b[1;39m: \u001b[0m\u001b[1;30mnull\u001b[0m\u001b[1;39m,\n",
      "        \u001b[0m\u001b[34;1m\"lastTransitionTime\"\u001b[0m\u001b[1;39m: \u001b[0m\u001b[0;32m\"2021-11-30T09:36:27Z\"\u001b[0m\u001b[1;39m,\n",
      "        \u001b[0m\u001b[34;1m\"status\"\u001b[0m\u001b[1;39m: \u001b[0m\u001b[0;32m\"True\"\u001b[0m\u001b[1;39m,\n",
      "        \u001b[0m\u001b[34;1m\"type\"\u001b[0m\u001b[1;39m: \u001b[0m\u001b[0;32m\"Initialized\"\u001b[0m\u001b[1;39m\n",
      "      \u001b[1;39m}\u001b[0m\u001b[1;39m,\n",
      "      \u001b[1;39m{\n",
      "        \u001b[0m\u001b[34;1m\"lastProbeTime\"\u001b[0m\u001b[1;39m: \u001b[0m\u001b[1;30mnull\u001b[0m\u001b[1;39m,\n",
      "        \u001b[0m\u001b[34;1m\"lastTransitionTime\"\u001b[0m\u001b[1;39m: \u001b[0m\u001b[0;32m\"2021-11-30T09:36:43Z\"\u001b[0m\u001b[1;39m,\n",
      "        \u001b[0m\u001b[34;1m\"status\"\u001b[0m\u001b[1;39m: \u001b[0m\u001b[0;32m\"True\"\u001b[0m\u001b[1;39m,\n",
      "        \u001b[0m\u001b[34;1m\"type\"\u001b[0m\u001b[1;39m: \u001b[0m\u001b[0;32m\"Ready\"\u001b[0m\u001b[1;39m\n",
      "      \u001b[1;39m}\u001b[0m\u001b[1;39m,\n",
      "      \u001b[1;39m{\n",
      "        \u001b[0m\u001b[34;1m\"lastProbeTime\"\u001b[0m\u001b[1;39m: \u001b[0m\u001b[1;30mnull\u001b[0m\u001b[1;39m,\n",
      "        \u001b[0m\u001b[34;1m\"lastTransitionTime\"\u001b[0m\u001b[1;39m: \u001b[0m\u001b[0;32m\"2021-11-30T09:36:43Z\"\u001b[0m\u001b[1;39m,\n",
      "        \u001b[0m\u001b[34;1m\"status\"\u001b[0m\u001b[1;39m: \u001b[0m\u001b[0;32m\"True\"\u001b[0m\u001b[1;39m,\n",
      "        \u001b[0m\u001b[34;1m\"type\"\u001b[0m\u001b[1;39m: \u001b[0m\u001b[0;32m\"ContainersReady\"\u001b[0m\u001b[1;39m\n",
      "      \u001b[1;39m}\u001b[0m\u001b[1;39m,\n",
      "      \u001b[1;39m{\n",
      "        \u001b[0m\u001b[34;1m\"lastProbeTime\"\u001b[0m\u001b[1;39m: \u001b[0m\u001b[1;30mnull\u001b[0m\u001b[1;39m,\n",
      "        \u001b[0m\u001b[34;1m\"lastTransitionTime\"\u001b[0m\u001b[1;39m: \u001b[0m\u001b[0;32m\"2021-11-30T09:36:27Z\"\u001b[0m\u001b[1;39m,\n",
      "        \u001b[0m\u001b[34;1m\"status\"\u001b[0m\u001b[1;39m: \u001b[0m\u001b[0;32m\"True\"\u001b[0m\u001b[1;39m,\n",
      "        \u001b[0m\u001b[34;1m\"type\"\u001b[0m\u001b[1;39m: \u001b[0m\u001b[0;32m\"PodScheduled\"\u001b[0m\u001b[1;39m\n",
      "      \u001b[1;39m}\u001b[0m\u001b[1;39m\n",
      "    \u001b[1;39m]\u001b[0m\u001b[1;39m,\n",
      "    \u001b[0m\u001b[34;1m\"containerStatuses\"\u001b[0m\u001b[1;39m: \u001b[0m\u001b[1;39m[\n",
      "      \u001b[1;39m{\n",
      "        \u001b[0m\u001b[34;1m\"containerID\"\u001b[0m\u001b[1;39m: \u001b[0m\u001b[0;32m\"docker://ea714724541c0e86d1de0a178e7173f34c95ac6ed8a5a66d2591970d5c3c7ec3\"\u001b[0m\u001b[1;39m,\n",
      "        \u001b[0m\u001b[34;1m\"image\"\u001b[0m\u001b[1;39m: \u001b[0m\u001b[0;32m\"nginx:latest\"\u001b[0m\u001b[1;39m,\n",
      "        \u001b[0m\u001b[34;1m\"imageID\"\u001b[0m\u001b[1;39m: \u001b[0m\u001b[0;32m\"docker-pullable://nginx@sha256:097c3a0913d7e3a5b01b6c685a60c03632fc7a2b50bc8e35bcaa3691d788226e\"\u001b[0m\u001b[1;39m,\n",
      "        \u001b[0m\u001b[34;1m\"lastState\"\u001b[0m\u001b[1;39m: \u001b[0m\u001b[1;39m{}\u001b[0m\u001b[1;39m,\n",
      "        \u001b[0m\u001b[34;1m\"name\"\u001b[0m\u001b[1;39m: \u001b[0m\u001b[0;32m\"nginx\"\u001b[0m\u001b[1;39m,\n",
      "        \u001b[0m\u001b[34;1m\"ready\"\u001b[0m\u001b[1;39m: \u001b[0m\u001b[0;39mtrue\u001b[0m\u001b[1;39m,\n",
      "        \u001b[0m\u001b[34;1m\"restartCount\"\u001b[0m\u001b[1;39m: \u001b[0m\u001b[0;39m0\u001b[0m\u001b[1;39m,\n",
      "        \u001b[0m\u001b[34;1m\"started\"\u001b[0m\u001b[1;39m: \u001b[0m\u001b[0;39mtrue\u001b[0m\u001b[1;39m,\n",
      "        \u001b[0m\u001b[34;1m\"state\"\u001b[0m\u001b[1;39m: \u001b[0m\u001b[1;39m{\n",
      "          \u001b[0m\u001b[34;1m\"running\"\u001b[0m\u001b[1;39m: \u001b[0m\u001b[1;39m{\n",
      "            \u001b[0m\u001b[34;1m\"startedAt\"\u001b[0m\u001b[1;39m: \u001b[0m\u001b[0;32m\"2021-11-30T09:36:43Z\"\u001b[0m\u001b[1;39m\n",
      "          \u001b[1;39m}\u001b[0m\u001b[1;39m\n",
      "        \u001b[1;39m}\u001b[0m\u001b[1;39m\n",
      "      \u001b[1;39m}\u001b[0m\u001b[1;39m\n",
      "    \u001b[1;39m]\u001b[0m\u001b[1;39m,\n",
      "    \u001b[0m\u001b[34;1m\"hostIP\"\u001b[0m\u001b[1;39m: \u001b[0m\u001b[0;32m\"192.168.49.2\"\u001b[0m\u001b[1;39m,\n",
      "    \u001b[0m\u001b[34;1m\"phase\"\u001b[0m\u001b[1;39m: \u001b[0m\u001b[0;32m\"Running\"\u001b[0m\u001b[1;39m,\n",
      "    \u001b[0m\u001b[34;1m\"podIP\"\u001b[0m\u001b[1;39m: \u001b[0m\u001b[0;32m\"172.17.0.3\"\u001b[0m\u001b[1;39m,\n",
      "    \u001b[0m\u001b[34;1m\"podIPs\"\u001b[0m\u001b[1;39m: \u001b[0m\u001b[1;39m[\n",
      "      \u001b[1;39m{\n",
      "        \u001b[0m\u001b[34;1m\"ip\"\u001b[0m\u001b[1;39m: \u001b[0m\u001b[0;32m\"172.17.0.3\"\u001b[0m\u001b[1;39m\n",
      "      \u001b[1;39m}\u001b[0m\u001b[1;39m\n",
      "    \u001b[1;39m]\u001b[0m\u001b[1;39m,\n",
      "    \u001b[0m\u001b[34;1m\"qosClass\"\u001b[0m\u001b[1;39m: \u001b[0m\u001b[0;32m\"BestEffort\"\u001b[0m\u001b[1;39m,\n",
      "    \u001b[0m\u001b[34;1m\"startTime\"\u001b[0m\u001b[1;39m: \u001b[0m\u001b[0;32m\"2021-11-30T09:36:27Z\"\u001b[0m\u001b[1;39m\n",
      "  \u001b[1;39m}\u001b[0m\u001b[1;39m\n",
      "\u001b[1;39m}\u001b[0m\n"
     ]
    }
   ],
   "source": [
    "kubectl get pods -o=jsonpath='{.items[0]}' | jq"
   ]
  },
  {
   "cell_type": "code",
   "execution_count": 9,
   "id": "62a671cc",
   "metadata": {},
   "outputs": [
    {
     "name": "stdout",
     "output_type": "stream",
     "text": [
      "nginx-6799fc88d8-nzbj2"
     ]
    }
   ],
   "source": [
    "kubectl get pods -o=jsonpath='{.items[0].metadata.name}'"
   ]
  },
  {
   "cell_type": "code",
   "execution_count": null,
   "id": "8879002a",
   "metadata": {
    "jupyter": {
     "source_hidden": true
    }
   },
   "outputs": [],
   "source": [
    "kubectl get pods -o=jsonpath=\"{.items[*]['metadata.name', 'status.capacity']}\""
   ]
  },
  {
   "cell_type": "code",
   "execution_count": 13,
   "id": "09fe7314",
   "metadata": {},
   "outputs": [
    {
     "name": "stdout",
     "output_type": "stream",
     "text": [
      "nginx-6799fc88d8-nzbj2\t2021-11-30T09:36:27Z\n",
      "coredns-78fcd69978-jtj8x\t2021-11-30T09:04:57Z\n",
      "etcd-minikube\t2021-11-30T09:04:45Z\n",
      "kube-apiserver-minikube\t2021-11-30T09:04:46Z\n",
      "kube-controller-manager-minikube\t2021-11-30T09:04:46Z\n",
      "kube-proxy-7zcnf\t2021-11-30T09:04:57Z\n",
      "kube-scheduler-minikube\t2021-11-30T09:04:45Z\n",
      "storage-provisioner\t2021-11-30T09:04:56Z\n"
     ]
    }
   ],
   "source": [
    "kubectl get pods -A -o=jsonpath='{range .items[*]}{.metadata.name}{\"\\t\"}{.status.startTime}{\"\\n\"}{end}'"
   ]
  },
  {
   "cell_type": "markdown",
   "id": "3f87c701",
   "metadata": {},
   "source": [
    "List all images\n",
    "\n",
    "https://kubernetes.io/docs/tasks/access-application-cluster/list-all-running-container-images/"
   ]
  },
  {
   "cell_type": "code",
   "execution_count": 14,
   "id": "67f1f995",
   "metadata": {},
   "outputs": [
    {
     "name": "stdout",
     "output_type": "stream",
     "text": [
      "default/nginx-6799fc88d8-nzbj2:\n",
      "  nginx:<no value>\n",
      "kube-system/coredns-78fcd69978-jtj8x:\n",
      "  k8s.gcr.io/coredns/coredns:v1.8.4:map[allowPrivilegeEscalation:false capabilities:map[add:[NET_BIND_SERVICE] drop:[all]] readOnlyRootFilesystem:true]\n",
      "kube-system/etcd-minikube:\n",
      "  k8s.gcr.io/etcd:3.5.0-0:<no value>\n",
      "kube-system/kube-apiserver-minikube:\n",
      "  k8s.gcr.io/kube-apiserver:v1.22.2:<no value>\n",
      "kube-system/kube-controller-manager-minikube:\n",
      "  k8s.gcr.io/kube-controller-manager:v1.22.2:<no value>\n",
      "kube-system/kube-proxy-7zcnf:\n",
      "  k8s.gcr.io/kube-proxy:v1.22.2:map[privileged:true]\n",
      "kube-system/kube-scheduler-minikube:\n",
      "  k8s.gcr.io/kube-scheduler:v1.22.2:<no value>\n",
      "kube-system/storage-provisioner:\n",
      "  gcr.io/k8s-minikube/storage-provisioner:v5:<no value>\n"
     ]
    }
   ],
   "source": [
    "kubectl get pods --all-namespaces -o go-template \\\n",
    "--template=\"{{range .items}}{{.metadata.namespace}}/{{.metadata.name}}:{{println}}{{range .spec.containers}}  {{.image}}:{{.securityContext}}\n",
    "{{end}}{{end}}\"\n"
   ]
  },
  {
   "cell_type": "code",
   "execution_count": 15,
   "id": "cf828df8",
   "metadata": {},
   "outputs": [
    {
     "name": "stdout",
     "output_type": "stream",
     "text": [
      "default/nginx-6799fc88d8-nzbj2:\n",
      "kube-system/coredns-78fcd69978-jtj8x:\n",
      "kube-system/etcd-minikube:\n",
      "kube-system/kube-apiserver-minikube:\n",
      "kube-system/kube-controller-manager-minikube:\n",
      "kube-system/kube-proxy-7zcnf:\n",
      "kube-system/kube-scheduler-minikube:\n",
      "kube-system/storage-provisioner:\n"
     ]
    }
   ],
   "source": [
    "kubectl get pods --all-namespaces -o go-template \\\n",
    "--template=\"{{range .items}}{{.metadata.namespace}}/{{.metadata.name}}:{{println}}{{range .spec.initContainers}}  {{.image}}:{{.securityContext}}\n",
    "{{end}}{{end}}\""
   ]
  },
  {
   "cell_type": "code",
   "execution_count": 16,
   "id": "ac1b7ce3",
   "metadata": {},
   "outputs": [
    {
     "name": "stdout",
     "output_type": "stream",
     "text": [
      "NAME         TYPE        CLUSTER-IP   EXTERNAL-IP   PORT(S)   AGE\n",
      "kubernetes   ClusterIP   10.96.0.1    <none>        443/TCP   84m\n"
     ]
    }
   ],
   "source": [
    "kubectl get svc"
   ]
  },
  {
   "cell_type": "code",
   "execution_count": 17,
   "id": "7026782e",
   "metadata": {},
   "outputs": [
    {
     "name": "stdout",
     "output_type": "stream",
     "text": [
      "CONTAINER ID   IMAGE                  COMMAND                  CREATED             STATUS             PORTS     NAMES\n",
      "ea714724541c   nginx                  \"/docker-entrypoint.…\"   58 minutes ago      Up 58 minutes                k8s_nginx_nginx-6799fc88d8-nzbj2_default_2c126dba-6a37-46be-b550-d0e0d8a30bf9_0\n",
      "afd2530f876d   k8s.gcr.io/pause:3.5   \"/pause\"                 58 minutes ago      Up 58 minutes                k8s_POD_nginx-6799fc88d8-nzbj2_default_2c126dba-6a37-46be-b550-d0e0d8a30bf9_0\n",
      "612d18f433bd   6e38f40d628d           \"/storage-provisioner\"   About an hour ago   Up About an hour             k8s_storage-provisioner_storage-provisioner_kube-system_b147672e-36fd-42d8-a691-2c3896f0f43b_0\n",
      "65793eecdde3   8d147537fb7d           \"/coredns -conf /etc…\"   About an hour ago   Up About an hour             k8s_coredns_coredns-78fcd69978-jtj8x_kube-system_e01e0c8b-f513-4822-983a-264e8326eeb1_0\n",
      "f915b870ee6b   k8s.gcr.io/pause:3.5   \"/pause\"                 About an hour ago   Up About an hour             k8s_POD_storage-provisioner_kube-system_b147672e-36fd-42d8-a691-2c3896f0f43b_0\n",
      "72c6ee947db8   873127efbc8a           \"/usr/local/bin/kube…\"   About an hour ago   Up About an hour             k8s_kube-proxy_kube-proxy-7zcnf_kube-system_89a16e01-0d20-4a29-b0a6-61dd2b391017_0\n",
      "ed853a4bf5d0   k8s.gcr.io/pause:3.5   \"/pause\"                 About an hour ago   Up About an hour             k8s_POD_coredns-78fcd69978-jtj8x_kube-system_e01e0c8b-f513-4822-983a-264e8326eeb1_0\n",
      "cfa9996f98c4   k8s.gcr.io/pause:3.5   \"/pause\"                 About an hour ago   Up About an hour             k8s_POD_kube-proxy-7zcnf_kube-system_89a16e01-0d20-4a29-b0a6-61dd2b391017_0\n",
      "b3473922bbe4   5425bcbd23c5           \"kube-controller-man…\"   2 hours ago         Up 2 hours                   k8s_kube-controller-manager_kube-controller-manager-minikube_kube-system_4787f37e041fd890d5499a8863561e5f_0\n",
      "fc75fd7aba15   004811815584           \"etcd --advertise-cl…\"   2 hours ago         Up 2 hours                   k8s_etcd_etcd-minikube_kube-system_08a3871e1baa241b73e5af01a6d01393_0\n",
      "3cab011b2934   b51ddc1014b0           \"kube-scheduler --au…\"   2 hours ago         Up 2 hours                   k8s_kube-scheduler_kube-scheduler-minikube_kube-system_97bca4cd66281ad2157a6a68956c4fa5_0\n",
      "c305e0932e5a   e64579b7d886           \"kube-apiserver --ad…\"   2 hours ago         Up 2 hours                   k8s_kube-apiserver_kube-apiserver-minikube_kube-system_fe49842e48a1ca6bac988e8ba88ecc53_0\n",
      "fd8093a82c02   k8s.gcr.io/pause:3.5   \"/pause\"                 2 hours ago         Up 2 hours                   k8s_POD_kube-scheduler-minikube_kube-system_97bca4cd66281ad2157a6a68956c4fa5_0\n",
      "b2787fd72074   k8s.gcr.io/pause:3.5   \"/pause\"                 2 hours ago         Up 2 hours                   k8s_POD_kube-controller-manager-minikube_kube-system_4787f37e041fd890d5499a8863561e5f_0\n",
      "654ee9f65305   k8s.gcr.io/pause:3.5   \"/pause\"                 2 hours ago         Up 2 hours                   k8s_POD_kube-apiserver-minikube_kube-system_fe49842e48a1ca6bac988e8ba88ecc53_0\n",
      "286180e64eaa   k8s.gcr.io/pause:3.5   \"/pause\"                 2 hours ago         Up 2 hours                   k8s_POD_etcd-minikube_kube-system_08a3871e1baa241b73e5af01a6d01393_0\n"
     ]
    }
   ],
   "source": [
    "docker ps"
   ]
  },
  {
   "cell_type": "code",
   "execution_count": 18,
   "id": "6484e842-b570-4da2-ba50-3654e1155ad2",
   "metadata": {},
   "outputs": [
    {
     "name": "stdout",
     "output_type": "stream",
     "text": [
      "CONTAINER           IMAGE                                                                           CREATED             STATE               NAME                      ATTEMPT             POD ID\n",
      "ea714724541c0       nginx@sha256:097c3a0913d7e3a5b01b6c685a60c03632fc7a2b50bc8e35bcaa3691d788226e   58 minutes ago      Running             nginx                     0                   afd2530f876de\n",
      "612d18f433bdd       6e38f40d628db                                                                   2 hours ago         Running             storage-provisioner       0                   f915b870ee6b8\n",
      "65793eecdde34       8d147537fb7d1                                                                   2 hours ago         Running             coredns                   0                   ed853a4bf5d00\n",
      "72c6ee947db8d       873127efbc8a7                                                                   2 hours ago         Running             kube-proxy                0                   cfa9996f98c4c\n",
      "b3473922bbe4c       5425bcbd23c54                                                                   2 hours ago         Running             kube-controller-manager   0                   b2787fd720749\n",
      "fc75fd7aba150       0048118155842                                                                   2 hours ago         Running             etcd                      0                   286180e64eaa5\n",
      "3cab011b29341       b51ddc1014b04                                                                   2 hours ago         Running             kube-scheduler            0                   fd8093a82c02b\n",
      "c305e0932e5a9       e64579b7d8862                                                                   2 hours ago         Running             kube-apiserver            0                   654ee9f653054\n"
     ]
    }
   ],
   "source": [
    "crictl ps"
   ]
  },
  {
   "cell_type": "code",
   "execution_count": 19,
   "id": "10c68f67-782e-4954-8ebb-d9c45c2cc958",
   "metadata": {},
   "outputs": [
    {
     "name": "stdout",
     "output_type": "stream",
     "text": [
      "NAME                     READY   STATUS    RESTARTS   AGE\n",
      "nginx-6799fc88d8-nzbj2   1/1     Running   0          59m\n"
     ]
    }
   ],
   "source": [
    "kubectl get pods"
   ]
  },
  {
   "cell_type": "code",
   "execution_count": null,
   "id": "6bfcbfe8-1b36-4730-ae76-758d94a81180",
   "metadata": {},
   "outputs": [],
   "source": []
  }
 ],
 "metadata": {
  "kernelspec": {
   "display_name": "Bash",
   "language": "bash",
   "name": "bash"
  },
  "language_info": {
   "codemirror_mode": "shell",
   "file_extension": ".sh",
   "mimetype": "text/x-sh",
   "name": "bash"
  }
 },
 "nbformat": 4,
 "nbformat_minor": 5
}
