{
 "cells": [
  {
   "cell_type": "markdown",
   "metadata": {},
   "source": [
    "**This notebook is covered by the following [license](License.ipynb)  This note must not be removed**"
   ]
  },
  {
   "cell_type": "markdown",
   "metadata": {},
   "source": [
    "# Start minikube with containerd"
   ]
  },
  {
   "cell_type": "code",
   "execution_count": 85,
   "metadata": {},
   "outputs": [
    {
     "name": "stdout",
     "output_type": "stream",
     "text": [
      "😄  minikube v1.6.2 on Ubuntu 18.04\n",
      "✨  Selecting 'none' driver from user configuration (alternates: [kvm2])\n",
      "⚠️  Using the 'containerd' runtime with the 'none' driver is an untested configuration!\n",
      "💡  Tip: Use 'minikube start -p <name>' to create a new cluster, or 'minikube delete' to delete this one.\n",
      "🔄  Starting existing none VM for \"minikube\" ...\n",
      "⌛  Waiting for the host to be provisioned ...\n",
      "📦  Preparing Kubernetes v1.17.0 on containerd 1.2.6-0ubuntu1~18.04.2 ...\n",
      "    ▪ kubelet.resolv-conf=/etc/resolv.conf.google\n",
      "🚀  Launching Kubernetes ... \n",
      "🤹  Configuring local host environment ...\n",
      "\n",
      "⚠️  The 'none' driver provides limited isolation and may reduce system security and reliability.\n",
      "⚠️  For more information, see:\n",
      "👉  https://minikube.sigs.k8s.io/docs/reference/drivers/none/\n",
      "\n",
      "🏄  Done! kubectl is now configured to use \"minikube\"\n"
     ]
    }
   ],
   "source": [
    "minikube start --vm-driver=docker   \\\n",
    "   --container-runtime=containerd \n"
   ]
  },
  {
   "cell_type": "code",
   "execution_count": 1,
   "metadata": {},
   "outputs": [
    {
     "name": "stdout",
     "output_type": "stream",
     "text": [
      "CONTAINER           IMAGE                                                                                                     CREATED             STATE               NAME                        ATTEMPT             POD ID\n",
      "3231821b23dbe       octarinesec/kubescan-scanner@sha256:7dd0c0a4b2a14f2eff1131c0a1b4a3c379fe8e01d829365a3a92b3ad24255de9      12 minutes ago      Running             kube-scan                   0                   d1bee846cba21\n",
      "e8d815981f305       octarinesec/kubescan-scanner-ui@sha256:d7923d67da1ecc652f9d2dcff27fb1c0c1da4a4f497b341c09e0506c32e144b8   12 minutes ago      Running             kube-scan-ui                0                   d1bee846cba21\n",
      "8f94c7648f338       nginxinc/nginx-unprivileged@sha256:937e9244ee1973b33e79a429b78218291407e42cc4e28754c8d78e3b4b491cdc       40 minutes ago      Running             nginx                       0                   c4f3ab95b29d9\n",
      "9091ca0e7ba1a       nginxinc/nginx-unprivileged@sha256:937e9244ee1973b33e79a429b78218291407e42cc4e28754c8d78e3b4b491cdc       51 minutes ago      Running             nginx                       0                   78a0aaa69ac94\n",
      "09b0fdd468942       nginxinc/nginx-unprivileged@sha256:937e9244ee1973b33e79a429b78218291407e42cc4e28754c8d78e3b4b491cdc       51 minutes ago      Running             nginx                       0                   caf84ec3c848b\n",
      "3926cbea0ee17       nginxinc/nginx-unprivileged@sha256:937e9244ee1973b33e79a429b78218291407e42cc4e28754c8d78e3b4b491cdc       52 minutes ago      Running             nginx                       0                   edf824c23c294\n",
      "2858e9bf7d464       nginxinc/nginx-unprivileged@sha256:937e9244ee1973b33e79a429b78218291407e42cc4e28754c8d78e3b4b491cdc       21 hours ago        Running             nginx                       0                   5f5fc09621092\n",
      "835beb4009f57       86262685d9abb                                                                                             23 hours ago        Running             dashboard-metrics-scraper   0                   bc9a84b16ef6f\n",
      "e8b755577be97       9a07b5b4bfac0                                                                                             23 hours ago        Running             kubernetes-dashboard        0                   57da708d09afe\n",
      "e72bc860595e5       ca9843d3b5454                                                                                             24 hours ago        Running             kube-apiserver              0                   88b5ad857fef0\n",
      "1dfd3b4a2edcd       85069258b98ac                                                                                             24 hours ago        Running             storage-provisioner         8                   568a75504d14a\n",
      "fe0d85f0695dc       bfe3a36ebd252                                                                                             25 hours ago        Running             coredns                     0                   2f2e3e637f889\n",
      "b771861ce777a       10cc881966cfd                                                                                             25 hours ago        Running             kube-proxy                  0                   4f21d4db7e663\n",
      "b363fa9635977       3138b6e3d4712                                                                                             25 hours ago        Running             kube-scheduler              0                   ec01ad440a194\n",
      "88fce94359696       0369cf4303ffd                                                                                             25 hours ago        Running             etcd                        0                   ccfd5c8ff3137\n",
      "834f97afc5396       b9fa1895dcaa6                                                                                             25 hours ago        Running             kube-controller-manager     0                   4b97e8d308db8\n"
     ]
    }
   ],
   "source": [
    "crictl ps"
   ]
  },
  {
   "cell_type": "code",
   "execution_count": null,
   "metadata": {},
   "outputs": [],
   "source": []
  },
  {
   "cell_type": "markdown",
   "metadata": {},
   "source": [
    "Same approach, we need `crictl.yaml`, a statically linked `crictl` and a `busybox` image\n",
    "\n",
    "```yaml\n",
    "runtime-endpoint: unix:///run/containerd/containerd.sock\n",
    "image-endpoint: unix:///run/containerd/containerd.sock\n",
    "timeout: 10\n",
    "debug: false\n",
    "```\n",
    "\n",
    "```Dockerfile\n",
    "FROM busybox\n",
    "COPY crictl /usr/bin/crictl\n",
    "COPY crictl.yaml /etc/crictl.yaml\n",
    "\n",
    "ENTRYPOINT sh -c  'while /usr/bin/crictl ps ; do sleep 5 ; clear; done'\n",
    "```\n",
    "\n",
    "Deploy with \n",
    "\n",
    "```yaml\n",
    "apiVersion: v1\n",
    "kind: Pod\n",
    "metadata:\n",
    " name: crio-bomb\n",
    "spec:\n",
    " containers:\n",
    " - image: crio-bomb\n",
    "   name: crio-bomb\n",
    "   volumeMounts:\n",
    "   - mountPath: /run/containerd\n",
    "     name: run-containerd\n",
    " volumes:\n",
    " - name:  run-containerd\n",
    "   hostPath: \n",
    "     path: /run/containerd\n",
    "```\n"
   ]
  },
  {
   "cell_type": "markdown",
   "metadata": {},
   "source": [
    "[Can been applied to a cloud](CrioBomb.ipynb)\n",
    "### probably to all ☠️☠️☠️"
   ]
  }
 ],
 "metadata": {
  "kernelspec": {
   "display_name": "Bash",
   "language": "bash",
   "name": "bash"
  },
  "language_info": {
   "codemirror_mode": "shell",
   "file_extension": ".sh",
   "mimetype": "text/x-sh",
   "name": "bash"
  }
 },
 "nbformat": 4,
 "nbformat_minor": 4
}
