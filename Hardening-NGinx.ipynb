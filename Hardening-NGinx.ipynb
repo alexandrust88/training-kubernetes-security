{
 "cells": [
  {
   "cell_type": "code",
   "execution_count": 1,
   "id": "a5afd2fc-2602-464f-b7f3-b1f9abbd8c78",
   "metadata": {},
   "outputs": [
    {
     "name": "stdout",
     "output_type": "stream",
     "text": [
      "/minikube-host/notebooks/training-kubernetes-security\n"
     ]
    }
   ],
   "source": [
    "pwd"
   ]
  },
  {
   "cell_type": "code",
   "execution_count": 2,
   "id": "f524118e-9c76-4553-90a3-142046850e62",
   "metadata": {},
   "outputs": [
    {
     "name": "stdout",
     "output_type": "stream",
     "text": [
      "Cloning into 'container-hardening'...\n",
      "remote: Enumerating objects: 62, done.        \n",
      "remote: Counting objects: 100% (62/62), done.        \n",
      "remote: Compressing objects: 100% (44/44), done.        \n",
      "remote: Total 62 (delta 30), reused 44 (delta 17), pack-reused 0        \n",
      "Unpacking objects: 100% (62/62), 21.07 KiB | 616.00 KiB/s, done.\n"
     ]
    }
   ],
   "source": [
    "git clone https://github.com/thomasfricke/container-hardening"
   ]
  },
  {
   "cell_type": "code",
   "execution_count": 3,
   "id": "895c7662-7b86-4cd9-b213-2cfc874df225",
   "metadata": {},
   "outputs": [],
   "source": [
    "cd container-hardening"
   ]
  },
  {
   "cell_type": "code",
   "execution_count": 4,
   "id": "f6bb0a78-4e1d-4227-b746-d11f32002f19",
   "metadata": {},
   "outputs": [
    {
     "name": "stdout",
     "output_type": "stream",
     "text": [
      "Dockerfile  License.md  README.md  harden\n"
     ]
    }
   ],
   "source": [
    "ls"
   ]
  },
  {
   "cell_type": "code",
   "execution_count": 5,
   "id": "90ade9e2-be6b-49c3-80cc-b42d8c99a749",
   "metadata": {},
   "outputs": [
    {
     "name": "stdout",
     "output_type": "stream",
     "text": [
      "Sending build context to Docker daemon    191kB\n",
      "Step 1/7 : FROM nginx:alpine as origin\n",
      "alpine: Pulling from library/nginx\n",
      "\n",
      "\u001b[1B8928ae5f: Pulling fs layer \n",
      "\u001b[1B56412037: Pulling fs layer \n",
      "\u001b[1Be2ade5ec: Pulling fs layer \n",
      "\u001b[1B77460f48: Pulling fs layer \n",
      "\u001b[1Bc27513c3: Pulling fs layer \n",
      "\u001b[1BDigest: sha256:12aa12ec4a8ca049537dd486044b966b0ba6cd8890c4c900ccb5e7e630e03df0\n",
      "Status: Downloaded newer image for nginx:alpine\n",
      " ---> b46db85084b8\n",
      "Step 2/7 : ADD harden /harden\n",
      " ---> bb90ccc80d24\n",
      "Step 3/7 : RUN mkdir /tmp/harden\n",
      " ---> Running in 7472762ed959\n",
      "Removing intermediate container 7472762ed959\n",
      " ---> 92c5bdca4ab0\n",
      "Step 4/7 : RUN ./harden -d /usr/sbin/nginx              -f /etc/nginx  /var/log/nginx/ /var/run/nginx.pid /var/cache/nginx  /etc/passwd /etc/group                 /usr/share/nginx /usr/share/licenses/ /var/run              -c /var/log/nginx/ /var/cache/nginx /var/run\n",
      " ---> Running in 80b2da94eeb8\n",
      "\u001b[91mfind: /var/run/nginx.pid: No such file or directory\n",
      "\u001b[0mRemoving intermediate container 80b2da94eeb8\n",
      " ---> c2d8b6685fbf\n",
      "Step 5/7 : FROM scratch\n",
      " ---> \n",
      "Step 6/7 : COPY --from=origin /tmp/harden/ /\n",
      " ---> 3f4348bdaf5d\n",
      "Step 7/7 : ENTRYPOINT [\"/usr/sbin/nginx\",\"-g\",\"daemon off;\"]\n",
      " ---> Running in 2591c24441f7\n",
      "Removing intermediate container 2591c24441f7\n",
      " ---> 3def72f39e23\n",
      "Successfully built 3def72f39e23\n",
      "Successfully tagged harden:latest\n"
     ]
    }
   ],
   "source": [
    "docker build -t harden ."
   ]
  },
  {
   "cell_type": "code",
   "execution_count": 7,
   "id": "77d00d9e-4d07-426b-8644-5ffeee1b57be",
   "metadata": {},
   "outputs": [
    {
     "name": "stdout",
     "output_type": "stream",
     "text": [
      "9fb441f4472ba47a9cd368c50cbdbb25d12eaba5a60d92c35a219c0b24f6779f\n"
     ]
    }
   ],
   "source": [
    "docker run --rm -d --name harden -u 202:202 harden"
   ]
  },
  {
   "cell_type": "code",
   "execution_count": 8,
   "id": "cef2d812-68e3-455e-a458-da67b99f21a7",
   "metadata": {},
   "outputs": [
    {
     "name": "stdout",
     "output_type": "stream",
     "text": [
      "9fb441f4472b   harden                 \"/usr/sbin/nginx -g …\"   7 seconds ago   Up 6 seconds             harden\n"
     ]
    }
   ],
   "source": [
    "docker ps |grep harden"
   ]
  },
  {
   "cell_type": "code",
   "execution_count": 9,
   "id": "c5dc52e8-a253-434a-9eaf-4d347ba481c8",
   "metadata": {},
   "outputs": [],
   "source": [
    "docker export harden -o harden.tar"
   ]
  },
  {
   "cell_type": "code",
   "execution_count": 10,
   "id": "b60d15fa-d743-4436-a888-d89b3f29a57d",
   "metadata": {
    "tags": []
   },
   "outputs": [
    {
     "name": "stdout",
     "output_type": "stream",
     "text": [
      ".dockerenv\n",
      "dev/\n",
      "dev/console\n",
      "dev/pts/\n",
      "dev/shm/\n",
      "dev/stderr\n",
      "dev/stdout\n",
      "etc/\n",
      "etc/group\n",
      "etc/hostname\n",
      "etc/hosts\n",
      "etc/mtab\n",
      "etc/nginx/\n",
      "etc/nginx/conf.d/\n",
      "etc/nginx/conf.d/conf.d/\n",
      "etc/nginx/conf.d/conf.d/default.conf\n",
      "etc/nginx/conf.d/default.conf\n",
      "etc/nginx/fastcgi.conf\n",
      "etc/nginx/fastcgi_params\n",
      "etc/nginx/mime.types\n",
      "etc/nginx/modules\n",
      "etc/nginx/nginx.conf\n",
      "etc/nginx/scgi_params\n",
      "etc/nginx/uwsgi_params\n",
      "etc/passwd\n",
      "etc/resolv.conf\n",
      "lib/\n",
      "lib/ld-musl-x86_64.so.1\n",
      "lib/libcrypto.so.1.1\n",
      "lib/libssl.so.1.1\n",
      "lib/libz.so.1\n",
      "lib/libz.so.1.2.11\n",
      "proc/\n",
      "run/\n",
      "run/nginx.pid\n",
      "sys/\n",
      "usr/\n",
      "usr/lib/\n",
      "usr/lib/libpcre.so.1\n",
      "usr/lib/libpcre.so.1.2.12\n",
      "usr/lib/nginx/\n",
      "usr/lib/nginx/modules/\n",
      "usr/lib/nginx/modules/modules\n",
      "usr/lib/nginx/modules/ngx_http_geoip_module-debug.so\n",
      "usr/lib/nginx/modules/ngx_http_geoip_module.so\n",
      "usr/lib/nginx/modules/ngx_http_image_filter_module-debug.so\n",
      "usr/lib/nginx/modules/ngx_http_image_filter_module.so\n",
      "usr/lib/nginx/modules/ngx_http_js_module-debug.so\n",
      "usr/lib/nginx/modules/ngx_http_js_module.so\n",
      "usr/lib/nginx/modules/ngx_http_xslt_filter_module-debug.so\n",
      "usr/lib/nginx/modules/ngx_http_xslt_filter_module.so\n",
      "usr/lib/nginx/modules/ngx_stream_geoip_module-debug.so\n",
      "usr/lib/nginx/modules/ngx_stream_geoip_module.so\n",
      "usr/lib/nginx/modules/ngx_stream_js_module-debug.so\n",
      "usr/lib/nginx/modules/ngx_stream_js_module.so\n",
      "usr/sbin/\n",
      "usr/sbin/nginx\n",
      "usr/share/\n",
      "usr/share/licenses/\n",
      "usr/share/licenses/nginx/\n",
      "usr/share/licenses/nginx/COPYRIGHT\n",
      "usr/share/licenses/nginx/nginx/\n",
      "usr/share/licenses/nginx/nginx/COPYRIGHT\n",
      "usr/share/licenses/nginx-module-geoip/\n",
      "usr/share/licenses/nginx-module-geoip/COPYRIGHT\n",
      "usr/share/licenses/nginx-module-geoip/nginx-module-geoip/\n",
      "usr/share/licenses/nginx-module-geoip/nginx-module-geoip/COPYRIGHT\n",
      "usr/share/licenses/nginx-module-image-filter/\n",
      "usr/share/licenses/nginx-module-image-filter/COPYRIGHT\n",
      "usr/share/licenses/nginx-module-image-filter/nginx-module-image-filter/\n",
      "usr/share/licenses/nginx-module-image-filter/nginx-module-image-filter/COPYRIGHT\n",
      "usr/share/licenses/nginx-module-njs/\n",
      "usr/share/licenses/nginx-module-njs/COPYRIGHT\n",
      "usr/share/licenses/nginx-module-njs/nginx-module-njs/\n",
      "usr/share/licenses/nginx-module-njs/nginx-module-njs/COPYRIGHT\n",
      "usr/share/licenses/nginx-module-xslt/\n",
      "usr/share/licenses/nginx-module-xslt/COPYRIGHT\n",
      "usr/share/licenses/nginx-module-xslt/nginx-module-xslt/\n",
      "usr/share/licenses/nginx-module-xslt/nginx-module-xslt/COPYRIGHT\n",
      "usr/share/nginx/\n",
      "usr/share/nginx/html/\n",
      "usr/share/nginx/html/50x.html\n",
      "usr/share/nginx/html/html/\n",
      "usr/share/nginx/html/html/50x.html\n",
      "usr/share/nginx/html/html/index.html\n",
      "usr/share/nginx/html/index.html\n",
      "var/\n",
      "var/cache/\n",
      "var/cache/nginx/\n",
      "var/cache/nginx/client_temp/\n",
      "var/cache/nginx/fastcgi_temp/\n",
      "var/cache/nginx/proxy_temp/\n",
      "var/cache/nginx/scgi_temp/\n",
      "var/cache/nginx/uwsgi_temp/\n",
      "var/log/\n",
      "var/log/nginx/\n",
      "var/log/nginx/access.log\n",
      "var/log/nginx/error.log\n",
      "var/run\n"
     ]
    }
   ],
   "source": [
    "tar tf harden.tar"
   ]
  },
  {
   "cell_type": "code",
   "execution_count": 11,
   "id": "f13ae763-b216-4d39-bb9e-202533348c66",
   "metadata": {},
   "outputs": [
    {
     "name": "stdout",
     "output_type": "stream",
     "text": [
      "99\n"
     ]
    }
   ],
   "source": [
    "tar tf harden.tar | wc -l"
   ]
  },
  {
   "cell_type": "code",
   "execution_count": 12,
   "id": "013f30ca-4dba-4601-b09e-b6203a82d8f1",
   "metadata": {},
   "outputs": [
    {
     "name": "stdout",
     "output_type": "stream",
     "text": [
      "harden                                    latest    3def72f39e23   7 minutes ago   8.69MB\n"
     ]
    }
   ],
   "source": [
    "docker images | grep harden"
   ]
  },
  {
   "cell_type": "code",
   "execution_count": null,
   "id": "6cc9f2d1-61fa-48ad-a931-d4cc21a76188",
   "metadata": {},
   "outputs": [],
   "source": []
  }
 ],
 "metadata": {
  "kernelspec": {
   "display_name": "Bash",
   "language": "bash",
   "name": "bash"
  },
  "language_info": {
   "codemirror_mode": "shell",
   "file_extension": ".sh",
   "mimetype": "text/x-sh",
   "name": "bash"
  }
 },
 "nbformat": 4,
 "nbformat_minor": 5
}
