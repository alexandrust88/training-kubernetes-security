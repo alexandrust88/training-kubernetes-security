{
 "cells": [
  {
   "cell_type": "markdown",
   "metadata": {},
   "source": [
    "**This notebook covered by the following [license](License.ipynb)  This note must not be removed**"
   ]
  },
  {
   "cell_type": "markdown",
   "metadata": {},
   "source": [
    "# Ingress\n",
    "\n",
    "- [Must be enabled](IngressStart.ipynb)\n",
    "- [Service Networking Concept](https://kubernetes.io/docs/concepts/services-networking/ingress/)\n",
    "- Implemented by an [Ingress Controller](https://kubernetes.io/docs/concepts/services-networking/ingress-controllers/)\n",
    "- Implementation dependent [Overview by Yitaek Hwang](https://medium.com/swlh/kubernetes-ingress-controller-overview-81abbaca19ec)\n",
    "- Can include [External Oauth 2 ](https://kubernetes.github.io/ingress-nginx/examples/auth/oauth-external-auth/)\n",
    "- Most popular [NGinx Ingress Controller](https://docs.nginx.com/nginx-ingress-controller/)"
   ]
  },
  {
   "cell_type": "code",
   "execution_count": 8,
   "metadata": {},
   "outputs": [
    {
     "name": "stdout",
     "output_type": "stream",
     "text": [
      "deployment.apps/web created\n"
     ]
    }
   ],
   "source": [
    "kubectl create deployment web --image=gcr.io/google-samples/hello-app:1.0"
   ]
  },
  {
   "cell_type": "code",
   "execution_count": 10,
   "metadata": {},
   "outputs": [
    {
     "name": "stdout",
     "output_type": "stream",
     "text": [
      "service/web exposed\n"
     ]
    }
   ],
   "source": [
    "kubectl expose deployment web --type=NodePort --port=8080"
   ]
  },
  {
   "cell_type": "code",
   "execution_count": 14,
   "metadata": {},
   "outputs": [
    {
     "name": "stdout",
     "output_type": "stream",
     "text": [
      "NAME   TYPE       CLUSTER-IP      EXTERNAL-IP   PORT(S)          AGE\n",
      "web    NodePort   10.106.226.19   <none>        8080:31338/TCP   2m19s\n"
     ]
    }
   ],
   "source": [
    "kubectl get service web "
   ]
  },
  {
   "cell_type": "code",
   "execution_count": 18,
   "metadata": {},
   "outputs": [
    {
     "name": "stdout",
     "output_type": "stream",
     "text": [
      "31338\n"
     ]
    }
   ],
   "source": [
    "NODEPORT=$(kubectl get service web  -o jsonpath='{.spec.ports[0].nodePort}')\n",
    "echo $NODEPORT"
   ]
  },
  {
   "cell_type": "code",
   "execution_count": 20,
   "metadata": {},
   "outputs": [
    {
     "name": "stdout",
     "output_type": "stream",
     "text": [
      "Hello, world!\n",
      "Version: 1.0.0\n",
      "Hostname: web-79d88c97d6-chhxn\n"
     ]
    }
   ],
   "source": [
    "curl $(hostname -i):$NODEPORT"
   ]
  },
  {
   "cell_type": "code",
   "execution_count": 32,
   "metadata": {},
   "outputs": [
    {
     "name": "stdout",
     "output_type": "stream",
     "text": [
      "ingress.networking.k8s.io/example-ingress unchanged\n"
     ]
    }
   ],
   "source": [
    "kubectl apply -f - <<EOF\n",
    "apiVersion: networking.k8s.io/v1\n",
    "kind: Ingress\n",
    "metadata:\n",
    "  name: example-ingress\n",
    "  annotations:\n",
    "    nginx.ingress.kubernetes.io/rewrite-target: /$1\n",
    "spec:\n",
    "  rules:\n",
    "    - host: $(hostname -i).nip.io\n",
    "      http:\n",
    "        paths:\n",
    "          - path: /\n",
    "            pathType: Prefix\n",
    "            backend:\n",
    "              service:\n",
    "                name: web\n",
    "                port:\n",
    "                  number: 8080\n",
    "EOF"
   ]
  },
  {
   "cell_type": "code",
   "execution_count": 33,
   "metadata": {},
   "outputs": [
    {
     "name": "stdout",
     "output_type": "stream",
     "text": [
      "apiVersion: networking.k8s.io/v1\n",
      "kind: Ingress\n",
      "metadata:\n",
      "  annotations:\n",
      "    kubectl.kubernetes.io/last-applied-configuration: |\n",
      "      {\"apiVersion\":\"networking.k8s.io/v1\",\"kind\":\"Ingress\",\"metadata\":{\"annotations\":{\"nginx.ingress.kubernetes.io/rewrite-target\":\"/\"},\"name\":\"example-ingress\",\"namespace\":\"default\"},\"spec\":{\"rules\":[{\"host\":\"192.168.49.2.nip.io\",\"http\":{\"paths\":[{\"backend\":{\"service\":{\"name\":\"web\",\"port\":{\"number\":8080}}},\"path\":\"/\",\"pathType\":\"Prefix\"}]}}]}}\n",
      "    nginx.ingress.kubernetes.io/rewrite-target: /\n",
      "  creationTimestamp: \"2021-01-24T16:39:50Z\"\n",
      "  generation: 2\n",
      "  managedFields:\n",
      "  - apiVersion: networking.k8s.io/v1\n",
      "    fieldsType: FieldsV1\n",
      "    fieldsV1:\n",
      "      f:metadata:\n",
      "        f:annotations:\n",
      "          .: {}\n",
      "          f:kubectl.kubernetes.io/last-applied-configuration: {}\n",
      "          f:nginx.ingress.kubernetes.io/rewrite-target: {}\n",
      "      f:spec:\n",
      "        f:rules: {}\n",
      "    manager: kubectl-client-side-apply\n",
      "    operation: Update\n",
      "    time: \"2021-01-24T16:39:50Z\"\n",
      "  - apiVersion: networking.k8s.io/v1beta1\n",
      "    fieldsType: FieldsV1\n",
      "    fieldsV1:\n",
      "      f:status:\n",
      "        f:loadBalancer:\n",
      "          f:ingress: {}\n",
      "    manager: nginx-ingress-controller\n",
      "    operation: Update\n",
      "    time: \"2021-01-24T16:40:31Z\"\n",
      "  name: example-ingress\n",
      "  namespace: default\n",
      "  resourceVersion: \"66926\"\n",
      "  uid: 6a569f3f-fc3c-45b6-bc5f-6c841dc70a17\n",
      "spec:\n",
      "  rules:\n",
      "  - host: 192.168.49.2.nip.io\n",
      "    http:\n",
      "      paths:\n",
      "      - backend:\n",
      "          service:\n",
      "            name: web\n",
      "            port:\n",
      "              number: 8080\n",
      "        path: /\n",
      "        pathType: Prefix\n",
      "status:\n",
      "  loadBalancer:\n",
      "    ingress:\n",
      "    - ip: 192.168.49.2\n"
     ]
    }
   ],
   "source": [
    "kubectl get ingress example-ingress -o yaml"
   ]
  },
  {
   "cell_type": "code",
   "execution_count": 23,
   "metadata": {},
   "outputs": [
    {
     "name": "stdout",
     "output_type": "stream",
     "text": [
      "Name:             my-ingress\n",
      "Namespace:        default\n",
      "Address:          192.168.49.2\n",
      "Default backend:  default-http-backend:80 (<error: endpoints \"default-http-backend\" not found>)\n",
      "Rules:\n",
      "  Host        Path  Backends\n",
      "  ----        ----  --------\n",
      "  *           \n",
      "              /helloweb   helloweb:80 (<error: endpoints \"helloweb\" not found>)\n",
      "Annotations:  <none>\n",
      "Events:\n",
      "  Type    Reason  Age   From                      Message\n",
      "  ----    ------  ----  ----                      -------\n",
      "  Normal  CREATE  19m   nginx-ingress-controller  Ingress default/my-ingress\n",
      "  Normal  UPDATE  19m   nginx-ingress-controller  Ingress default/my-ingress\n"
     ]
    }
   ],
   "source": [
    "kubectl describe ingress my-ingress"
   ]
  },
  {
   "cell_type": "code",
   "execution_count": 35,
   "metadata": {},
   "outputs": [
    {
     "name": "stdout",
     "output_type": "stream",
     "text": [
      "192.168.49.2.nip.io\n"
     ]
    }
   ],
   "source": [
    "INGRESS_HOST=$(kubectl get ingress example-ingress -o jsonpath='{.spec.rules[0].host}')\n",
    "echo $INGRESS_HOST"
   ]
  },
  {
   "cell_type": "code",
   "execution_count": 36,
   "metadata": {},
   "outputs": [
    {
     "name": "stdout",
     "output_type": "stream",
     "text": [
      "Hello, world!\n",
      "Version: 1.0.0\n",
      "Hostname: web-79d88c97d6-chhxn\n"
     ]
    }
   ],
   "source": [
    "curl $INGRESS_HOST/helloweb"
   ]
  },
  {
   "cell_type": "markdown",
   "metadata": {},
   "source": [
    "## Create **more** services\n",
    "We can say hello world in different ways"
   ]
  },
  {
   "cell_type": "code",
   "execution_count": 37,
   "metadata": {},
   "outputs": [
    {
     "name": "stdout",
     "output_type": "stream",
     "text": [
      "deployment.apps/web2 created\n"
     ]
    }
   ],
   "source": [
    "kubectl create deployment web2 --image=gcr.io/google-samples/hello-app:2.0\n"
   ]
  },
  {
   "cell_type": "code",
   "execution_count": 38,
   "metadata": {},
   "outputs": [
    {
     "name": "stdout",
     "output_type": "stream",
     "text": [
      "service/web2 exposed\n"
     ]
    }
   ],
   "source": [
    "kubectl expose deployment web2 --port=8080 --type=NodePort\n"
   ]
  },
  {
   "cell_type": "code",
   "execution_count": 41,
   "metadata": {},
   "outputs": [
    {
     "name": "stdout",
     "output_type": "stream",
     "text": [
      "ingress.networking.k8s.io/example-ingress configured\n"
     ]
    }
   ],
   "source": [
    "kubectl apply -f - <<EOF\n",
    "apiVersion: networking.k8s.io/v1\n",
    "kind: Ingress\n",
    "metadata:\n",
    "  name: example-ingress\n",
    "  annotations:\n",
    "    nginx.ingress.kubernetes.io/rewrite-target: /$1\n",
    "spec:\n",
    "  rules:\n",
    "    - host: $(hostname -i).nip.io\n",
    "      http:\n",
    "        paths:\n",
    "          - path: /\n",
    "            pathType: Prefix\n",
    "            backend:\n",
    "              service:\n",
    "                name: web\n",
    "                port:\n",
    "                  number: 8080\n",
    "          - path: /v2\n",
    "            pathType: Prefix\n",
    "            backend:\n",
    "              service:\n",
    "                name: web2\n",
    "                port:\n",
    "                 number: 8080\n",
    "EOF"
   ]
  },
  {
   "cell_type": "code",
   "execution_count": 42,
   "metadata": {},
   "outputs": [
    {
     "name": "stdout",
     "output_type": "stream",
     "text": [
      "Hello, world!\n",
      "Version: 2.0.0\n",
      "Hostname: web2-5d47994f45-htxjm\n"
     ]
    }
   ],
   "source": [
    "curl $INGRESS_HOST/v2"
   ]
  },
  {
   "cell_type": "code",
   "execution_count": 39,
   "metadata": {},
   "outputs": [
    {
     "name": "stdout",
     "output_type": "stream",
     "text": [
      "NAME                        READY   STATUS    RESTARTS   AGE\n",
      "pod/web-79d88c97d6-chhxn    1/1     Running   0          19m\n",
      "pod/web2-5d47994f45-htxjm   1/1     Running   0          13s\n",
      "\n",
      "NAME                 TYPE        CLUSTER-IP       EXTERNAL-IP   PORT(S)          AGE\n",
      "service/kubernetes   ClusterIP   10.96.0.1        <none>        443/TCP          26h\n",
      "service/web          NodePort    10.106.226.19    <none>        8080:31338/TCP   18m\n",
      "service/web2         NodePort    10.107.254.143   <none>        8080:30654/TCP   1s\n",
      "\n",
      "NAME                   READY   UP-TO-DATE   AVAILABLE   AGE\n",
      "deployment.apps/web    1/1     1            1           19m\n",
      "deployment.apps/web2   1/1     1            1           13s\n",
      "\n",
      "NAME                              DESIRED   CURRENT   READY   AGE\n",
      "replicaset.apps/web-79d88c97d6    1         1         1       19m\n",
      "replicaset.apps/web2-5d47994f45   1         1         1       13s\n"
     ]
    }
   ],
   "source": [
    "kubectl get all"
   ]
  },
  {
   "cell_type": "markdown",
   "metadata": {},
   "source": [
    "## TLS"
   ]
  },
  {
   "cell_type": "code",
   "execution_count": 45,
   "metadata": {},
   "outputs": [],
   "source": [
    "mkdir -p openssl\n",
    "cd openssl\n"
   ]
  },
  {
   "cell_type": "code",
   "execution_count": 46,
   "metadata": {},
   "outputs": [
    {
     "name": "stdout",
     "output_type": "stream",
     "text": [
      "192.168.49.2.nip.io\n"
     ]
    }
   ],
   "source": [
    "DOMAIN=$INGRESS_HOST\n",
    "CONF=${DOMAIN}.conf\n",
    "SECRET=${DOMAIN}.yaml\n",
    "KEY=${DOMAIN}.key\n",
    "CRT=${DOMAIN}.crt\n",
    "\n",
    "echo $DOMAIN"
   ]
  },
  {
   "cell_type": "code",
   "execution_count": 47,
   "metadata": {},
   "outputs": [
    {
     "name": "stdout",
     "output_type": "stream",
     "text": [
      "/minikube-host/training/notebooks/openssl\n"
     ]
    }
   ],
   "source": [
    "pwd"
   ]
  },
  {
   "cell_type": "code",
   "execution_count": 51,
   "metadata": {},
   "outputs": [
    {
     "name": "stdout",
     "output_type": "stream",
     "text": [
      "192.168.49.2.nip.io.conf\n"
     ]
    }
   ],
   "source": [
    "ls"
   ]
  },
  {
   "cell_type": "code",
   "execution_count": 52,
   "metadata": {},
   "outputs": [],
   "source": [
    "test  ! -f ${CONF}  && cat > ${CONF}  <<EOF\n",
    "[ req ]\n",
    "default_bits       = 2048\n",
    "default_md         = sha512\n",
    "default_keyfile    = ${KEYFILE}\n",
    "prompt             = no\n",
    "encrypt_key        = no\n",
    "distinguished_name = req_distinguished_name\n",
    "# distinguished_name\n",
    "[ req_distinguished_name ]\n",
    "countryName            = DE\n",
    "localityName           = Berlin\n",
    "organizationName       = nip.io\n",
    "organizationalUnitName = K8S Demo Department\n",
    "commonName             = *.${DOMAIN}\n",
    "emailAddress           = nowhere@${DOMAIN}\n",
    "\n",
    "\n",
    "EOF"
   ]
  },
  {
   "cell_type": "code",
   "execution_count": 53,
   "metadata": {},
   "outputs": [
    {
     "name": "stdout",
     "output_type": "stream",
     "text": [
      "192.168.49.2.nip.io.key 192.168.49.2.nip.io.conf 192.168.49.2.nip.io.crt\n",
      "Generating a RSA private key\n",
      "....................................................................................................+++++\n",
      "................+++++\n",
      "writing new private key to '192.168.49.2.nip.io.key'\n",
      "-----\n"
     ]
    }
   ],
   "source": [
    "echo $KEY $CONF $CRT\n",
    "\n",
    "test  ! -f ${KEY} && openssl req -config ${CONF} -newkey rsa:2048 -nodes -keyout ${KEY} -x509 -out ${CRT}"
   ]
  },
  {
   "cell_type": "code",
   "execution_count": 54,
   "metadata": {},
   "outputs": [],
   "source": [
    "test ! -f ${SECRET} && cat > ${SECRET}<<EOF\n",
    "apiVersion: v1\n",
    "kind: Secret\n",
    "metadata:\n",
    " name: wildcard.tls\n",
    " namespace: default\n",
    "type: kubernetes.io/tls\n",
    "data:\n",
    " tls.crt: `cat ${CRT} | base64 -w0`\n",
    " tls.key: `cat ${KEY} | base64 -w0`\n",
    "EOF\n"
   ]
  },
  {
   "cell_type": "code",
   "execution_count": 55,
   "metadata": {
    "collapsed": true,
    "jupyter": {
     "outputs_hidden": true
    }
   },
   "outputs": [
    {
     "name": "stdout",
     "output_type": "stream",
     "text": [
      "apiVersion: v1\n",
      "kind: Secret\n",
      "metadata:\n",
      " name: wildcard.tls\n",
      " namespace: default\n",
      "type: kubernetes.io/tls\n",
      "data:\n",
      " tls.crt: LS0tLS1CRUdJTiBDRVJUSUZJQ0FURS0tLS0tCk1JSUR1ekNDQXFNQ0ZEMENheEgyb2Z2aWt2Z2h2V2c2bnFTaDgrdHlNQTBHQ1NxR1NJYjNEUUVCRFFVQU1JR1oKTVFzd0NRWURWUVFHRXdKRVJURVBNQTBHQTFVRUJ3d0dRbVZ5YkdsdU1ROHdEUVlEVlFRS0RBWnVhWEF1YVc4eApIREFhQmdOVkJBc01FMHM0VXlCRVpXMXZJRVJsY0dGeWRHMWxiblF4SGpBY0JnTlZCQU1NRlNvdU1Ua3lMakUyCk9DNDBPUzR5TG01cGNDNXBiekVxTUNnR0NTcUdTSWIzRFFFSkFSWWJibTkzYUdWeVpVQXhPVEl1TVRZNExqUTUKTGpJdWJtbHdMbWx2TUI0WERUSXhNREV5TkRFMk5UWXpOMW9YRFRJeE1ESXlNekUyTlRZek4xb3dnWmt4Q3pBSgpCZ05WQkFZVEFrUkZNUTh3RFFZRFZRUUhEQVpDWlhKc2FXNHhEekFOQmdOVkJBb01CbTVwY0M1cGJ6RWNNQm9HCkExVUVDd3dUU3poVElFUmxiVzhnUkdWd1lYSjBiV1Z1ZERFZU1Cd0dBMVVFQXd3VktpNHhPVEl1TVRZNExqUTUKTGpJdWJtbHdMbWx2TVNvd0tBWUpLb1pJaHZjTkFRa0JGaHR1YjNkb1pYSmxRREU1TWk0eE5qZ3VORGt1TWk1dQphWEF1YVc4d2dnRWlNQTBHQ1NxR1NJYjNEUUVCQVFVQUE0SUJEd0F3Z2dFS0FvSUJBUURzd3hoTUsvRzEySll4Cm5aQ0dhYW5aS0VmYXZwR2dIUkR1SXB3MXVnTUhYZmd4UUpUZjh0a2s0a1RxeFZEMUpzRFZBL2dXMGczRmVmU2IKUnkvMDZKZWdzdEtIa0FQN1Z5TEtmUFltejJDS2dWOUwxRWxBY0RYemV2QkVaZk9vVjI2TG5tOWMxWVArUElqKwpNS1o4WGk1NVE5cjN3Q0pzakY4bUkyWmg4Y1ZBTVFoQUJKaEdBTkl5Z3VnNjZzYktvS09SZnlmNHl5NGJJTDl5CkxHWWtFb01XODB2bm8ydTQ4b1JKaUV4SHp3Zi9vQkxBcHFnelc0RDZoNVBLSEM4Z2NCWjFBUk1RWFBsS2lTa3QKRmNPMXdEenZURkFLN1pneFlud0YxUFNGd2tQdDNQR24wL241RkZBd3E0ek5TZUY2UDJCMkpWaUx4NmFESC9iUwpGUXowWS9VOUFnTUJBQUV3RFFZSktvWklodmNOQVFFTkJRQURnZ0VCQU9RWUdpV0VqRHp4bmpkeHVzZnFYRlZ3ClJHYzR2VjgvcHlEdXVrWTRnbDg1ZVhyRUNLKzcxT3Z4UE5SMVJIV3JENCs1YjJhTWRhL001TWliazRXWXI0cnEKdll2ejZGQWNwZUFvNjV1NlFFQzlCMjlkSXI1b2ZDSGV5eDBibE0wSXRXZmsvYnVFdE11VEZhdFVPTWVSd2lmeAowZ3ViZXZlUWtnSDFJczRLYWp0bWVVK2RLblNzNWFWN1JaVytKQWxVcGlTeE9hM3FUb2NSSHp0c1VlUkhQcU92CmhuSEkya0xXRTIzM24zWFNFK2RGTlVVV2FibGVGcDFodCsrSFJFUldNMW1CRWxWckhwcHFpbjN2UWRYQWhrZHAKQ1B6eXh3M2kvc2FnZnJoSytyTXFtU0dWRE9ZQmRQUmRJbzMxU3lmSThsY0sraU40aTdFUFJkM2xBQ05nVEFFPQotLS0tLUVORCBDRVJUSUZJQ0FURS0tLS0tCg==\n",
      " tls.key: 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\n"
     ]
    }
   ],
   "source": [
    "cat $SECRET"
   ]
  },
  {
   "cell_type": "code",
   "execution_count": 56,
   "metadata": {},
   "outputs": [
    {
     "name": "stdout",
     "output_type": "stream",
     "text": [
      "secret/wildcard.tls created\n"
     ]
    }
   ],
   "source": [
    "kubectl apply -f $SECRET"
   ]
  },
  {
   "cell_type": "code",
   "execution_count": 57,
   "metadata": {},
   "outputs": [],
   "source": [
    "cd .."
   ]
  },
  {
   "cell_type": "code",
   "execution_count": 58,
   "metadata": {},
   "outputs": [
    {
     "name": "stdout",
     "output_type": "stream",
     "text": [
      "/minikube-host/training/notebooks\n"
     ]
    }
   ],
   "source": [
    "pwd"
   ]
  },
  {
   "cell_type": "code",
   "execution_count": 61,
   "metadata": {},
   "outputs": [
    {
     "name": "stdout",
     "output_type": "stream",
     "text": [
      "ingress.networking.k8s.io \"example-ingress\" deleted\n"
     ]
    }
   ],
   "source": [
    "kubectl delete ingress example-ingress"
   ]
  },
  {
   "cell_type": "code",
   "execution_count": 62,
   "metadata": {},
   "outputs": [
    {
     "name": "stdout",
     "output_type": "stream",
     "text": [
      "No resources found in default namespace.\n"
     ]
    }
   ],
   "source": [
    "kubectl get ingress"
   ]
  },
  {
   "cell_type": "code",
   "execution_count": 79,
   "metadata": {},
   "outputs": [
    {
     "name": "stdout",
     "output_type": "stream",
     "text": [
      "ingress.networking.k8s.io/website created\n"
     ]
    }
   ],
   "source": [
    "kubectl apply -f - <<EOF\n",
    "apiVersion: networking.k8s.io/v1\n",
    "kind: Ingress\n",
    "metadata:\n",
    "  name: website\n",
    "spec:\n",
    "  tls:\n",
    "    - hosts:\n",
    "      - demo.$DOMAIN\n",
    "      - info.$DOMAIN\n",
    "      secretName: wildcard.tls\n",
    "  rules:\n",
    "  - host: info.$DOMAIN\n",
    "    http:\n",
    "      paths:\n",
    "      - path: /web\n",
    "        pathType: Prefix\n",
    "        backend:\n",
    "          service:\n",
    "            name: web\n",
    "            port:\n",
    "              number: 8080\n",
    "      - path: /web/v2\n",
    "        pathType: Prefix\n",
    "        backend:\n",
    "          service:\n",
    "            name: web2\n",
    "            port:\n",
    "              number: 8080\n",
    "  - host: demo.$DOMAIN\n",
    "    http:\n",
    "      paths:\n",
    "      - path: /\n",
    "        pathType: Prefix\n",
    "        backend:\n",
    "          service:\n",
    "            name: web2\n",
    "            port:\n",
    "              number: 8080\n",
    "EOF"
   ]
  },
  {
   "cell_type": "code",
   "execution_count": 84,
   "metadata": {},
   "outputs": [
    {
     "name": "stdout",
     "output_type": "stream",
     "text": [
      "Hello, world!\n",
      "Version: 1.0.0\n",
      "Hostname: web-79d88c97d6-chhxn\n",
      "Hello, world!\n",
      "Version: 2.0.0\n",
      "Hostname: web2-5d47994f45-htxjm\n",
      "Hello, world!\n",
      "Version: 2.0.0\n",
      "Hostname: web2-5d47994f45-htxjm\n"
     ]
    }
   ],
   "source": [
    "curl -k https://info.$DOMAIN/web\n",
    "curl -k https://info.$DOMAIN/web/v2\n",
    "curl -k https://demo.$DOMAIN/\n"
   ]
  },
  {
   "cell_type": "code",
   "execution_count": 85,
   "metadata": {},
   "outputs": [
    {
     "name": "stdout",
     "output_type": "stream",
     "text": [
      "NAME      CLASS    HOSTS                                               ADDRESS        PORTS     AGE\n",
      "website   <none>   info.192.168.49.2.nip.io,demo.192.168.49.2.nip.io   192.168.49.2   80, 443   2m21s\n"
     ]
    }
   ],
   "source": [
    "kubectl get ingress"
   ]
  },
  {
   "cell_type": "code",
   "execution_count": 86,
   "metadata": {},
   "outputs": [
    {
     "name": "stdout",
     "output_type": "stream",
     "text": [
      "ingress.networking.k8s.io \"website\" deleted\n"
     ]
    }
   ],
   "source": [
    "kubectl delete ingress website"
   ]
  },
  {
   "cell_type": "code",
   "execution_count": null,
   "metadata": {},
   "outputs": [],
   "source": []
  }
 ],
 "metadata": {
  "kernelspec": {
   "display_name": "Bash",
   "language": "bash",
   "name": "bash"
  },
  "language_info": {
   "codemirror_mode": "shell",
   "file_extension": ".sh",
   "mimetype": "text/x-sh",
   "name": "bash"
  }
 },
 "nbformat": 4,
 "nbformat_minor": 4
}
