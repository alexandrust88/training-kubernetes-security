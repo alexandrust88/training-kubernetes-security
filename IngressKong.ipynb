{
 "cells": [
  {
   "cell_type": "markdown",
   "metadata": {},
   "source": [
    "# Ingress\n",
    "\n",
    "- [What is Ingress?](https://kubernetes.io/docs/concepts/services-networking/ingress/#what-is-ingress)\n",
    "- [Must be enabled](IngressStart.ipynb)\n",
    "- [Service Networking Concept](https://kubernetes.io/docs/concepts/services-networking/ingress/)\n",
    "- Implemented by an [Ingress Controller](https://kubernetes.io/docs/concepts/services-networking/ingress-controllers/)\n",
    "- Implementation dependent [Overview by Yitaek Hwang](https://medium.com/swlh/kubernetes-ingress-controller-overview-81abbaca19ec)\n",
    "- Can include [External Oauth 2 ](https://kubernetes.github.io/ingress-nginx/examples/auth/oauth-external-auth/)\n",
    "- Most popular [NGinx Ingress Controller](https://docs.nginx.com/nginx-ingress-controller/)"
   ]
  },
  {
   "cell_type": "code",
   "execution_count": 21,
   "metadata": {},
   "outputs": [
    {
     "name": "stdout",
     "output_type": "stream",
     "text": [
      "deployment.apps/web created\n"
     ]
    }
   ],
   "source": [
    "kubectl create deployment web --image=gcr.io/google-samples/hello-app:1.0"
   ]
  },
  {
   "cell_type": "code",
   "execution_count": 22,
   "metadata": {},
   "outputs": [
    {
     "name": "stdout",
     "output_type": "stream",
     "text": [
      "service/web exposed\n"
     ]
    }
   ],
   "source": [
    "kubectl expose deployment web --type=NodePort --port=8080"
   ]
  },
  {
   "cell_type": "code",
   "execution_count": 23,
   "metadata": {},
   "outputs": [
    {
     "name": "stdout",
     "output_type": "stream",
     "text": [
      "NAME   TYPE       CLUSTER-IP     EXTERNAL-IP   PORT(S)          AGE\n",
      "web    NodePort   10.102.88.18   <none>        8080:30247/TCP   1s\n"
     ]
    }
   ],
   "source": [
    "kubectl get service web "
   ]
  },
  {
   "cell_type": "code",
   "execution_count": 24,
   "metadata": {},
   "outputs": [
    {
     "name": "stdout",
     "output_type": "stream",
     "text": [
      "30247\n"
     ]
    }
   ],
   "source": [
    "NODEPORT=$(kubectl get service web  -o jsonpath='{.spec.ports[0].nodePort}')\n",
    "echo $NODEPORT"
   ]
  },
  {
   "cell_type": "code",
   "execution_count": 25,
   "metadata": {},
   "outputs": [
    {
     "name": "stdout",
     "output_type": "stream",
     "text": [
      "NAME                                    READY   STATUS    RESTARTS   AGE\n",
      "kong-1618946942-kong-57d84768dc-76tzd   2/2     Running   0          3m48s\n",
      "web-79d88c97d6-b784p                    1/1     Running   0          5s\n"
     ]
    }
   ],
   "source": [
    "kubectl get pods"
   ]
  },
  {
   "cell_type": "code",
   "execution_count": 26,
   "metadata": {},
   "outputs": [
    {
     "name": "stdout",
     "output_type": "stream",
     "text": [
      "192.168.49.2:30247\n"
     ]
    }
   ],
   "source": [
    "echo $(minikube ip):$NODEPORT"
   ]
  },
  {
   "cell_type": "code",
   "execution_count": 97,
   "metadata": {},
   "outputs": [
    {
     "name": "stdout",
     "output_type": "stream",
     "text": [
      "kong-1618946942-kong-proxy\n"
     ]
    }
   ],
   "source": [
    "PROXY=$(kubectl get svc | awk '/kong-proxy/{print $1}')\n",
    "echo $PROXY"
   ]
  },
  {
   "cell_type": "code",
   "execution_count": 105,
   "metadata": {},
   "outputs": [
    {
     "name": "stdout",
     "output_type": "stream",
     "text": [
      "10.103.176.252\n"
     ]
    }
   ],
   "source": [
    "IPADDRESS=$(kubectl get svc $PROXY -o jsonpath='{.spec.clusterIP}')\n",
    "echo $IPADDRESS"
   ]
  },
  {
   "cell_type": "code",
   "execution_count": 106,
   "metadata": {},
   "outputs": [
    {
     "name": "stdout",
     "output_type": "stream",
     "text": [
      "{\"message\":\"no Route matched with those values\"}"
     ]
    }
   ],
   "source": [
    "curl $IPADDRESS"
   ]
  },
  {
   "cell_type": "code",
   "execution_count": 108,
   "metadata": {},
   "outputs": [
    {
     "name": "stdout",
     "output_type": "stream",
     "text": [
      "Server:\t\t127.0.0.53\n",
      "Address:\t127.0.0.53#53\n",
      "\n",
      "Non-authoritative answer:\n",
      "Name:\t10.103.176.252.nip.io\n",
      "Address: 10.103.176.252\n",
      "\n"
     ]
    }
   ],
   "source": [
    "DOMAIN=$IPADDRESS.nip.io\n",
    "nslookup $DOMAIN"
   ]
  },
  {
   "cell_type": "code",
   "execution_count": 64,
   "metadata": {},
   "outputs": [
    {
     "name": "stdout",
     "output_type": "stream",
     "text": [
      "ingress.networking.k8s.io/example-ingress configured\n"
     ]
    }
   ],
   "source": [
    "kubectl apply -f - <<EOF\n",
    "apiVersion: networking.k8s.io/v1\n",
    "kind: Ingress\n",
    "metadata:\n",
    "  name: example-ingress\n",
    "spec:\n",
    "  ingressClassName: kong\n",
    "  rules:\n",
    "    - host: $DOMAIN.nip.io\n",
    "      http:\n",
    "        paths:\n",
    "          - path: /\n",
    "            pathType: Prefix\n",
    "            backend:\n",
    "              service:\n",
    "                name: web\n",
    "                port:\n",
    "                  number: 8080\n",
    "EOF"
   ]
  },
  {
   "cell_type": "code",
   "execution_count": 65,
   "metadata": {},
   "outputs": [
    {
     "name": "stdout",
     "output_type": "stream",
     "text": [
      "apiVersion: networking.k8s.io/v1\n",
      "kind: Ingress\n",
      "metadata:\n",
      "  annotations:\n",
      "    kubectl.kubernetes.io/last-applied-configuration: |\n",
      "      {\"apiVersion\":\"networking.k8s.io/v1\",\"kind\":\"Ingress\",\"metadata\":{\"annotations\":{},\"name\":\"example-ingress\",\"namespace\":\"default\"},\"spec\":{\"ingressClassName\":\"kong\",\"rules\":[{\"host\":\"10.103.176.252.nip.io\",\"http\":{\"paths\":[{\"backend\":{\"service\":{\"name\":\"web\",\"port\":{\"number\":8080}}},\"path\":\"/\",\"pathType\":\"Prefix\"}]}}]}}\n",
      "  creationTimestamp: \"2021-04-20T19:33:03Z\"\n",
      "  generation: 6\n",
      "  name: example-ingress\n",
      "  namespace: default\n",
      "  resourceVersion: \"2094\"\n",
      "  uid: 919ee2e2-707e-4025-aa03-9a2e9d7ccd18\n",
      "spec:\n",
      "  ingressClassName: kong\n",
      "  rules:\n",
      "  - host: 10.103.176.252.nip.io\n",
      "    http:\n",
      "      paths:\n",
      "      - backend:\n",
      "          service:\n",
      "            name: web\n",
      "            port:\n",
      "              number: 8080\n",
      "        path: /\n",
      "        pathType: Prefix\n",
      "status:\n",
      "  loadBalancer:\n",
      "    ingress:\n",
      "    - ip: 10.103.176.252\n"
     ]
    }
   ],
   "source": [
    "kubectl get ingress example-ingress -o yaml"
   ]
  },
  {
   "cell_type": "code",
   "execution_count": 66,
   "metadata": {},
   "outputs": [
    {
     "name": "stdout",
     "output_type": "stream",
     "text": [
      "Name:             example-ingress\n",
      "Namespace:        default\n",
      "Address:          10.103.176.252\n",
      "Default backend:  default-http-backend:80 (<error: endpoints \"default-http-backend\" not found>)\n",
      "Rules:\n",
      "  Host                   Path  Backends\n",
      "  ----                   ----  --------\n",
      "  10.103.176.252.nip.io  \n",
      "                         /   web:8080 (172.17.0.4:8080)\n",
      "Annotations:             <none>\n",
      "Events:                  <none>\n"
     ]
    }
   ],
   "source": [
    "kubectl describe ingress example-ingress"
   ]
  },
  {
   "cell_type": "code",
   "execution_count": 67,
   "metadata": {},
   "outputs": [
    {
     "name": "stdout",
     "output_type": "stream",
     "text": [
      "10.103.176.252.nip.io\n"
     ]
    }
   ],
   "source": [
    "INGRESS_HOST=$(kubectl get ingress example-ingress -o jsonpath='{.spec.rules[0].host}')\n",
    "echo $INGRESS_HOST"
   ]
  },
  {
   "cell_type": "code",
   "execution_count": 68,
   "metadata": {},
   "outputs": [
    {
     "name": "stdout",
     "output_type": "stream",
     "text": [
      "Hello, world!\n",
      "Version: 1.0.0\n",
      "Hostname: web-79d88c97d6-b784p\n"
     ]
    }
   ],
   "source": [
    "curl $INGRESS_HOST/helloweb"
   ]
  },
  {
   "cell_type": "markdown",
   "metadata": {},
   "source": [
    "## Create **more** services\n",
    "We can say hello world in different ways"
   ]
  },
  {
   "cell_type": "code",
   "execution_count": 69,
   "metadata": {},
   "outputs": [
    {
     "name": "stdout",
     "output_type": "stream",
     "text": [
      "error: failed to create deployment: deployments.apps \"web2\" already exists\n"
     ]
    },
    {
     "ename": "",
     "evalue": "1",
     "output_type": "error",
     "traceback": []
    }
   ],
   "source": [
    "kubectl create deployment web2 --image=gcr.io/google-samples/hello-app:2.0\n"
   ]
  },
  {
   "cell_type": "code",
   "execution_count": 70,
   "metadata": {},
   "outputs": [
    {
     "name": "stdout",
     "output_type": "stream",
     "text": [
      "Error from server (AlreadyExists): services \"web2\" already exists\n"
     ]
    },
    {
     "ename": "",
     "evalue": "1",
     "output_type": "error",
     "traceback": []
    }
   ],
   "source": [
    "kubectl expose deployment web2 --port=8080 --type=NodePort\n"
   ]
  },
  {
   "cell_type": "code",
   "execution_count": 71,
   "metadata": {},
   "outputs": [
    {
     "name": "stdout",
     "output_type": "stream",
     "text": [
      "ingress.networking.k8s.io/example-ingress configured\n"
     ]
    }
   ],
   "source": [
    "kubectl apply -f - <<EOF\n",
    "apiVersion: networking.k8s.io/v1\n",
    "kind: Ingress\n",
    "metadata:\n",
    "  name: example-ingress\n",
    "spec:\n",
    "  ingressClassName: kong\n",
    "  rules:\n",
    "    - host: $DOMAIN.nip.io\n",
    "      http:\n",
    "        paths:\n",
    "          - path: /\n",
    "            pathType: Prefix\n",
    "            backend:\n",
    "              service:\n",
    "                name: web\n",
    "                port:\n",
    "                  number: 8080\n",
    "          - path: /v2\n",
    "            pathType: Prefix\n",
    "            backend:\n",
    "              service:\n",
    "                name: web2\n",
    "                port:\n",
    "                 number: 8080\n",
    "EOF"
   ]
  },
  {
   "cell_type": "code",
   "execution_count": 73,
   "metadata": {},
   "outputs": [
    {
     "name": "stdout",
     "output_type": "stream",
     "text": [
      "Hello, world!\n",
      "Version: 2.0.0\n",
      "Hostname: web2-5d47994f45-s8jfb\n"
     ]
    }
   ],
   "source": [
    "curl $INGRESS_HOST/v2"
   ]
  },
  {
   "cell_type": "code",
   "execution_count": 74,
   "metadata": {},
   "outputs": [
    {
     "name": "stdout",
     "output_type": "stream",
     "text": [
      "NAME                                        READY   STATUS    RESTARTS   AGE\n",
      "pod/kong-1618946942-kong-57d84768dc-76tzd   2/2     Running   0          11m\n",
      "pod/web-79d88c97d6-b784p                    1/1     Running   0          7m25s\n",
      "pod/web2-5d47994f45-s8jfb                   1/1     Running   0          2m30s\n",
      "\n",
      "NAME                                 TYPE           CLUSTER-IP       EXTERNAL-IP      PORT(S)                      AGE\n",
      "service/kong-1618946942-kong-proxy   LoadBalancer   10.103.176.252   10.103.176.252   80:31739/TCP,443:32408/TCP   11m\n",
      "service/kubernetes                   ClusterIP      10.96.0.1        <none>           443/TCP                      35m\n",
      "service/web                          NodePort       10.102.88.18     <none>           8080:30247/TCP               7m24s\n",
      "service/web2                         NodePort       10.106.182.162   <none>           8080:31235/TCP               2m29s\n",
      "\n",
      "NAME                                   READY   UP-TO-DATE   AVAILABLE   AGE\n",
      "deployment.apps/kong-1618946942-kong   1/1     1            1           11m\n",
      "deployment.apps/web                    1/1     1            1           7m25s\n",
      "deployment.apps/web2                   1/1     1            1           2m30s\n",
      "\n",
      "NAME                                              DESIRED   CURRENT   READY   AGE\n",
      "replicaset.apps/kong-1618946942-kong-57d84768dc   1         1         1       11m\n",
      "replicaset.apps/web-79d88c97d6                    1         1         1       7m25s\n",
      "replicaset.apps/web2-5d47994f45                   1         1         1       2m30s\n"
     ]
    }
   ],
   "source": [
    "kubectl get all"
   ]
  },
  {
   "cell_type": "markdown",
   "metadata": {},
   "source": [
    "## TLS\n",
    "\n",
    "[ ![TLS](tls-ssl-handshake.png) ](https://www.cloudflare.com/learning/ssl/transport-layer-security-tls/)\n",
    "- [OpenSSL](https://www.openssl.org/), command line\n",
    "(https://wiki.openssl.org/index.php/Command_Line_Utilities)"
   ]
  },
  {
   "cell_type": "code",
   "execution_count": 75,
   "metadata": {},
   "outputs": [
    {
     "name": "stdout",
     "output_type": "stream",
     "text": [
      "/home/thomas/import/notebooks/openssl\n"
     ]
    }
   ],
   "source": [
    "mkdir -p openssl\n",
    "cd openssl\n"
   ]
  },
  {
   "cell_type": "code",
   "execution_count": 76,
   "metadata": {},
   "outputs": [
    {
     "name": "stdout",
     "output_type": "stream",
     "text": [
      "10.103.176.252.nip.io\n"
     ]
    }
   ],
   "source": [
    "DOMAIN=$INGRESS_HOST\n",
    "CONF=${DOMAIN}.conf\n",
    "SECRET=${DOMAIN}.yaml\n",
    "KEY=${DOMAIN}.key\n",
    "CRT=${DOMAIN}.crt\n",
    "\n",
    "echo $DOMAIN"
   ]
  },
  {
   "cell_type": "code",
   "execution_count": 77,
   "metadata": {},
   "outputs": [
    {
     "name": "stdout",
     "output_type": "stream",
     "text": [
      "/home/thomas/import/notebooks/openssl\n"
     ]
    }
   ],
   "source": [
    "pwd"
   ]
  },
  {
   "cell_type": "code",
   "execution_count": 78,
   "metadata": {},
   "outputs": [],
   "source": [
    "ls"
   ]
  },
  {
   "cell_type": "code",
   "execution_count": 79,
   "metadata": {},
   "outputs": [],
   "source": [
    "test  ! -f ${CONF}  && cat > ${CONF}  <<EOF\n",
    "[ req ]\n",
    "default_bits       = 2048\n",
    "default_md         = sha512\n",
    "default_keyfile    = ${KEYFILE}\n",
    "prompt             = no\n",
    "encrypt_key        = no\n",
    "distinguished_name = req_distinguished_name\n",
    "# distinguished_name\n",
    "[ req_distinguished_name ]\n",
    "countryName            = DE\n",
    "localityName           = Berlin\n",
    "organizationName       = nip.io\n",
    "organizationalUnitName = K8S Demo Department\n",
    "commonName             = *.${DOMAIN}\n",
    "emailAddress           = nowhere@${DOMAIN}\n",
    "\n",
    "\n",
    "EOF"
   ]
  },
  {
   "cell_type": "code",
   "execution_count": 80,
   "metadata": {},
   "outputs": [
    {
     "name": "stdout",
     "output_type": "stream",
     "text": [
      "10.103.176.252.nip.io.key 10.103.176.252.nip.io.conf 10.103.176.252.nip.io.crt\n",
      "Generating a RSA private key\n",
      ".............................................................+++++\n",
      ".............................................................+++++\n",
      "writing new private key to '10.103.176.252.nip.io.key'\n",
      "-----\n"
     ]
    }
   ],
   "source": [
    "echo $KEY $CONF $CRT\n",
    "\n",
    "test  ! -f ${KEY} && openssl req -config ${CONF} -newkey rsa:2048 -nodes -keyout ${KEY} -x509 -out ${CRT}"
   ]
  },
  {
   "cell_type": "code",
   "execution_count": 81,
   "metadata": {},
   "outputs": [],
   "source": [
    "test ! -f ${SECRET} && cat > ${SECRET}<<EOF\n",
    "apiVersion: v1\n",
    "kind: Secret\n",
    "metadata:\n",
    " name: wildcard.tls\n",
    " namespace: default\n",
    "type: kubernetes.io/tls\n",
    "data:\n",
    " tls.crt: `cat ${CRT} | base64 -w0`\n",
    " tls.key: `cat ${KEY} | base64 -w0`\n",
    "EOF\n"
   ]
  },
  {
   "cell_type": "code",
   "execution_count": 82,
   "metadata": {},
   "outputs": [
    {
     "name": "stdout",
     "output_type": "stream",
     "text": [
      "apiVersion: v1\n",
      "kind: Secret\n",
      "metadata:\n",
      " name: wildcard.tls\n",
      " namespace: default\n",
      "type: kubernetes.io/tls\n",
      "data:\n",
      " tls.crt: LS0tLS1CRUdJTiBDRVJUSUZJQ0FURS0tLS0tCk1JSUR3ekNDQXFzQ0ZHL2xnazMwNEkyQzNJczlUTVpOS2dab0JuL3NNQTBHQ1NxR1NJYjNEUUVCRFFVQU1JR2QKTVFzd0NRWURWUVFHRXdKRVJURVBNQTBHQTFVRUJ3d0dRbVZ5YkdsdU1ROHdEUVlEVlFRS0RBWnVhWEF1YVc4eApIREFhQmdOVkJBc01FMHM0VXlCRVpXMXZJRVJsY0dGeWRHMWxiblF4SURBZUJnTlZCQU1NRnlvdU1UQXVNVEF6CkxqRTNOaTR5TlRJdWJtbHdMbWx2TVN3d0tnWUpLb1pJaHZjTkFRa0JGaDF1YjNkb1pYSmxRREV3TGpFd015NHgKTnpZdU1qVXlMbTVwY0M1cGJ6QWVGdzB5TVRBME1qQXhPVFF3TXpoYUZ3MHlNVEExTWpBeE9UUXdNemhhTUlHZApNUXN3Q1FZRFZRUUdFd0pFUlRFUE1BMEdBMVVFQnd3R1FtVnliR2x1TVE4d0RRWURWUVFLREFadWFYQXVhVzh4CkhEQWFCZ05WQkFzTUUwczRVeUJFWlcxdklFUmxjR0Z5ZEcxbGJuUXhJREFlQmdOVkJBTU1GeW91TVRBdU1UQXoKTGpFM05pNHlOVEl1Ym1sd0xtbHZNU3d3S2dZSktvWklodmNOQVFrQkZoMXViM2RvWlhKbFFERXdMakV3TXk0eApOell1TWpVeUxtNXBjQzVwYnpDQ0FTSXdEUVlKS29aSWh2Y05BUUVCQlFBRGdnRVBBRENDQVFvQ2dnRUJBTHRUCm5aWE10Z0xuckRiL0NISmI2OHF0V1pZUTM3K21RRmdRQS9IZnR5cU9wV1JRODhPZUdvc2hFODI2a0tuUWN3emwKb0xISjh2T2FOVXpFVXExUjJiSnp0eU5sSjJRdVJDRWtTTC9uZ1J5TnhUMW9BQlA4QkdFc2JLZUFDT0FseFhIOAptNEF2TktQeUVKNXl4dTFmTHdySGJkUEN5d3JYMkFtY25aMjhKRDM3Z3g4Q2pHM0FHU0VhT2hQYmxPZkY2blJQClFXK0V0ZW5vUUcwQ2lkb2hIVHAwWVVhYmlNN1VCTUdLUW1PR3VYdU55WFRwZ1ZTZzgvb1l1THJOeWJ1Vi9vVDcKWHg5Ykd6N1RiN2ZJaTltZERxMGhvQzMyZUdwSnNndnNWOXFSNEFEZWVIeE8zQWtYL1A5dkpXdGplaVZwZ2lZVgpHdUpEWk9ka3Bua2hiUXQveW1NQ0F3RUFBVEFOQmdrcWhraUc5dzBCQVEwRkFBT0NBUUVBQzBmamhkOVV0VEF5CjczaUpZdTg4ZXVhVVRieXc5Tkp4bDdYeXVpd1hpdC80WkpSZ1hpSkN1N1haM21oTWp5MEFjdjROMGxOaC8rY0IKOWdzWGc1VkFaRjNpWVFXZ1NZeGQ1alJkallZUVFIc2ZFWGtiRS9IZk55SWdpQlRJcW13SmVOcHdwekZaOEhuRwpvYXcxZkh0cmMxd21nVkthMHhhVU5pRE1oRnVvSUNSL2c5cHVweFZ0Q1JXYURqc0lhMDJXTDI4TEQ4WHRYYTRsCmk4R0N4Q2tiSHVxMzJCUnUxa1BZUFExaUtDbXljeTRndFlEcXRvc0VackVncVlTYktTRXpsanFhZkVjZHZqUlYKQVZEZERGTlRBcmtudTA5V0U5NEpWb3I0YmdaYmxCVnpvZEZOWEtoaGQrWlc1RWpGaVpvTUtqRzVPb0k3bDJLLwptcE9iUmJHNytBPT0KLS0tLS1FTkQgQ0VSVElGSUNBVEUtLS0tLQo=\n",
      " tls.key: LS0tLS1CRUdJTiBQUklWQVRFIEtFWS0tLS0tCk1JSUV2Z0lCQURBTkJna3Foa2lHOXcwQkFRRUZBQVNDQktnd2dnU2tBZ0VBQW9JQkFRQzdVNTJWekxZQzU2dzIKL3doeVcrdktyVm1XRU4rL3BrQllFQVB4MzdjcWpxVmtVUFBEbmhxTElSUE51cENwMEhNTTVhQ3h5Zkx6bWpWTQp4Rkt0VWRteWM3Y2paU2RrTGtRaEpFaS81NEVjamNVOWFBQVQvQVJoTEd5bmdBamdKY1Z4L0p1QUx6U2o4aENlCmNzYnRYeThLeDIzVHdzc0sxOWdKbkoyZHZDUTkrNE1mQW94dHdCa2hHam9UMjVUbnhlcDBUMEZ2aExYcDZFQnQKQW9uYUlSMDZkR0ZHbTRqTzFBVEJpa0pqaHJsN2pjbDA2WUZVb1BQNkdMaTZ6Y203bGY2RSsxOGZXeHMrMDIrMwp5SXZablE2dElhQXQ5bmhxU2JJTDdGZmFrZUFBM25oOFR0d0pGL3ovYnlWclkzb2xhWUltRlJyaVEyVG5aS1o1CklXMExmOHBqQWdNQkFBRUNnZ0VCQUtYL2E2YWlPQ3dNMWl3S0JaY3BZNkkveVNKVkk2RjJGcEN5Nkh2KzdoWlYKUDdUTWs2YW1SUWxETDRSZ0xlOTlXMlp6V2RvU2hpdGVYSnNCWWU1YW1Ob3M5bjMwRmxzTk1LeFp0ZW53b1JZSApmMkJ4OTVlOS9MZUxvV0V3OFN5SDdCYWRiY0xDa2hneDJvNCtVWTlwaUlzNXZGWXB5TGw4R2VJeW1lMThHbldkCkZDYXVIT0JqVXB5Z3NEZ3NScXZ4ZzFTUmt5cHp3Ymo4c05GalNqY2g0MlV1NnhYMFhSUUxWalViWUVGbUdpemkKclFoQStDUlpRUTJUWUxOUGxmSUZwT3lKbVg1V1U1WnZNanJZODk3Y2huUnptQ2hyV0hweVdvb1FTck1vSmI5NApQR25nQ043U0VZc3FzTFQ1dEVDOWx3dVZWRzVqTUh0TjZjV0hwL3ppN0RFQ2dZRUE4cHVCNkwvVy9ETEZlalZuCnJUWEM1MVlOcWppbzJWN1Exb1JLdll6dEU3akV4L24yN2Z3R1IxSlhzYkZkRUp5bkpjRWZjcVVZVkxsYkRVTWUKSmNjQ2o1MFZiQ09YQWRMN25XbnlIditMSnMzZGdyS2hXZTBha1c1Y1hOeTZiMVl2L2NuRzhlbnNkZWE5Qnc4cQpaVHg3UmI1MTlYVjI3dGxGNHBFcUFkZko2aXNDZ1lFQXhhcmpQTFZmWkJZdHk3eDBra1ViNkdzQ3BoQ21XdlNSCkJVZmYvMGloc2VkOExENWs0SGd5cVlNaC9CckN3MjhWL2RiY0xXTDdJajE0L0cvT3ZRamxCZG4wQUlRKzZ2eksKZWF1YkVrd1ZZZUVpaUJpSlBhZTIwQjh5UlJPUGw4L3hlRGNUYldtODAxK0JvQzg1TFhxSDFqOFhqWjJ0WW5vRgpEWEhDOXU2R25La0NnWUJZdFFta0sva1UwQStxNXJvWStFNWl2ZkZUSzFKNTRKUmx5NHQwa1lIaU15NG9uTHB3ClBEV2pnSFUyTU04Qmt2WCs5UVZscXY0aGhJREpjYUFsV2dZU3N2SXhUellZNGFkRTRJYzZWRi94K1ZZa1F1S0MKZWhLNzJHbUhQdUlnY1pnc3FNbklqS3I4VlRrS3lyM0t0SG15ZjdpcjNwNTFLUmJIaUNLZTkrTUpid0tCZ0JsWAphVDZWT2grSXdHSklUT0didnBJemRlbDRaUHR3TTA5c0FZbW05Q1BzdTN5b215STBCcnE0dHhpdERaOGtsTHN3CldwWHZCS2RGSGtldXhlQnlUWHBNa1AybjlyRUZxNmVobW9Yai96SEhQVGdaZlM3TVc2R2Uva0RnMngzcGFObXkKcGVqM0QyQkI5RXBuQTN1VEkrc1J0NkZPUDdaS1VtK0EwQy84TUlIUkFvR0JBSjdtbHJoS2JFOHhXblZzY3dCSAo5em0xckE0VmdnZjlzdTNpbmJ1VzUzblZvS0ZDOGhoRTNkMkwwUU9oWWlxOUFaVE12ZTA1YzZMamdzNjgvUGEzCjhZZlZRd2lXUlhkY1ZxTjdjL0xEZm1xQVhRd3BZUEM3cGllRUpBajVWd0dwbmg2T2FLdnp3L1dncmhwOTV2aVoKNkZFYXFzeU5WZDFoc3FvbC9aL1FZL0h6Ci0tLS0tRU5EIFBSSVZBVEUgS0VZLS0tLS0K\n"
     ]
    }
   ],
   "source": [
    "cat $SECRET"
   ]
  },
  {
   "cell_type": "code",
   "execution_count": 83,
   "metadata": {},
   "outputs": [
    {
     "name": "stdout",
     "output_type": "stream",
     "text": [
      "secret/wildcard.tls created\n"
     ]
    }
   ],
   "source": [
    "kubectl apply -f $SECRET"
   ]
  },
  {
   "cell_type": "code",
   "execution_count": 84,
   "metadata": {},
   "outputs": [],
   "source": [
    "cd .."
   ]
  },
  {
   "cell_type": "code",
   "execution_count": 85,
   "metadata": {},
   "outputs": [
    {
     "name": "stdout",
     "output_type": "stream",
     "text": [
      "/home/thomas/import/notebooks\n"
     ]
    }
   ],
   "source": [
    "pwd"
   ]
  },
  {
   "cell_type": "code",
   "execution_count": 86,
   "metadata": {},
   "outputs": [
    {
     "name": "stdout",
     "output_type": "stream",
     "text": [
      "ingress.networking.k8s.io \"example-ingress\" deleted\n"
     ]
    }
   ],
   "source": [
    "kubectl delete ingress example-ingress"
   ]
  },
  {
   "cell_type": "code",
   "execution_count": 87,
   "metadata": {},
   "outputs": [
    {
     "name": "stdout",
     "output_type": "stream",
     "text": [
      "No resources found in default namespace.\n"
     ]
    }
   ],
   "source": [
    "kubectl get ingress"
   ]
  },
  {
   "cell_type": "code",
   "execution_count": 88,
   "metadata": {},
   "outputs": [
    {
     "name": "stdout",
     "output_type": "stream",
     "text": [
      "ingress.networking.k8s.io/website created\n"
     ]
    }
   ],
   "source": [
    "kubectl apply -f - <<EOF\n",
    "apiVersion: networking.k8s.io/v1\n",
    "kind: Ingress\n",
    "metadata:\n",
    "  name: website\n",
    "spec:\n",
    "  ingressClassName: kong\n",
    "  tls:\n",
    "    - hosts:\n",
    "      - demo.$DOMAIN\n",
    "      - info.$DOMAIN\n",
    "      secretName: wildcard.tls\n",
    "  rules:\n",
    "  - host: info.$DOMAIN\n",
    "    http:\n",
    "      paths:\n",
    "      - path: /web\n",
    "        pathType: Prefix\n",
    "        backend:\n",
    "          service:\n",
    "            name: web\n",
    "            port:\n",
    "              number: 8080\n",
    "      - path: /web/v2\n",
    "        pathType: Prefix\n",
    "        backend:\n",
    "          service:\n",
    "            name: web2\n",
    "            port:\n",
    "              number: 8080\n",
    "  - host: demo.$DOMAIN\n",
    "    http:\n",
    "      paths:\n",
    "      - path: /\n",
    "        pathType: Prefix\n",
    "        backend:\n",
    "          service:\n",
    "            name: web2\n",
    "            port:\n",
    "              number: 8080\n",
    "EOF"
   ]
  },
  {
   "cell_type": "code",
   "execution_count": 109,
   "metadata": {},
   "outputs": [
    {
     "name": "stdout",
     "output_type": "stream",
     "text": [
      "Hello, world!\n",
      "Version: 1.0.0\n",
      "Hostname: web-79d88c97d6-b784p\n",
      "Hello, world!\n",
      "Version: 2.0.0\n",
      "Hostname: web2-5d47994f45-s8jfb\n",
      "Hello, world!\n",
      "Version: 2.0.0\n",
      "Hostname: web2-5d47994f45-s8jfb\n"
     ]
    }
   ],
   "source": [
    "curl -k https://info.$DOMAIN/web\n",
    "curl -k https://info.$DOMAIN/web/v2\n",
    "curl -k https://demo.$DOMAIN/"
   ]
  },
  {
   "cell_type": "code",
   "execution_count": 90,
   "metadata": {},
   "outputs": [
    {
     "name": "stdout",
     "output_type": "stream",
     "text": [
      "NAME      CLASS   HOSTS                                                   ADDRESS   PORTS     AGE\n",
      "website   kong    info.10.103.176.252.nip.io,demo.10.103.176.252.nip.io             80, 443   10s\n"
     ]
    }
   ],
   "source": [
    "kubectl get ingress"
   ]
  },
  {
   "cell_type": "code",
   "execution_count": null,
   "metadata": {},
   "outputs": [],
   "source": [
    "kubectl delete ingress website"
   ]
  },
  {
   "cell_type": "code",
   "execution_count": null,
   "metadata": {},
   "outputs": [],
   "source": []
  }
 ],
 "metadata": {
  "kernelspec": {
   "display_name": "Bash",
   "language": "bash",
   "name": "bash"
  },
  "language_info": {
   "codemirror_mode": "shell",
   "file_extension": ".sh",
   "mimetype": "text/x-sh",
   "name": "bash"
  }
 },
 "nbformat": 4,
 "nbformat_minor": 4
}
