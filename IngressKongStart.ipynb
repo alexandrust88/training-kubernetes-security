{
 "cells": [
  {
   "cell_type": "code",
   "execution_count": 4,
   "metadata": {},
   "outputs": [
    {
     "name": "stdout",
     "output_type": "stream",
     "text": [
      "\"kong\" already exists with the same configuration, skipping\n"
     ]
    }
   ],
   "source": [
    "helm repo add kong https://charts.konghq.com"
   ]
  },
  {
   "cell_type": "code",
   "execution_count": 6,
   "metadata": {},
   "outputs": [
    {
     "name": "stdout",
     "output_type": "stream",
     "text": [
      "Hang tight while we grab the latest from your chart repositories...\n",
      "...Successfully got an update from the \"kong\" chart repository\n",
      "Update Complete. ⎈Happy Helming!⎈\n"
     ]
    }
   ],
   "source": [
    "helm repo update"
   ]
  },
  {
   "cell_type": "code",
   "execution_count": null,
   "metadata": {},
   "outputs": [],
   "source": [
    "helm install kong/kong --generate-name --set ingressController.installCRDs=false\n"
   ]
  },
  {
   "cell_type": "code",
   "execution_count": null,
   "metadata": {},
   "outputs": [],
   "source": [
    "kubectl get all\n"
   ]
  },
  {
   "cell_type": "code",
   "execution_count": 3,
   "metadata": {},
   "outputs": [
    {
     "name": "stdout",
     "output_type": "stream",
     "text": [
      "|-------------|----------------------------|--------------------|---------------------------|\n",
      "|  NAMESPACE  |            NAME            |    TARGET PORT     |            URL            |\n",
      "|-------------|----------------------------|--------------------|---------------------------|\n",
      "| default     | kong-1618946942-kong-proxy | kong-proxy/80      | http://192.168.49.2:31739 |\n",
      "|             |                            | kong-proxy-tls/443 | http://192.168.49.2:32408 |\n",
      "| default     | kubernetes                 | No node port       |\n",
      "| default     | web                        |               8080 | http://192.168.49.2:30247 |\n",
      "| default     | web2                       |               8080 | http://192.168.49.2:31235 |\n",
      "| kube-system | kube-dns                   | No node port       |\n",
      "|-------------|----------------------------|--------------------|---------------------------|\n"
     ]
    }
   ],
   "source": [
    "minikube service  list"
   ]
  },
  {
   "cell_type": "code",
   "execution_count": 2,
   "metadata": {},
   "outputs": [
    {
     "name": "stdout",
     "output_type": "stream",
     "text": [
      "NAME                         TYPE           CLUSTER-IP       EXTERNAL-IP      PORT(S)                      AGE\n",
      "kong-1618946942-kong-proxy   LoadBalancer   10.103.176.252   10.103.176.252   80:31739/TCP,443:32408/TCP   14m\n",
      "kubernetes                   ClusterIP      10.96.0.1        <none>           443/TCP                      39m\n",
      "web                          NodePort       10.102.88.18     <none>           8080:30247/TCP               10m\n",
      "web2                         NodePort       10.106.182.162   <none>           8080:31235/TCP               6m\n"
     ]
    }
   ],
   "source": [
    "kubectl get svc"
   ]
  },
  {
   "cell_type": "code",
   "execution_count": null,
   "metadata": {},
   "outputs": [],
   "source": []
  }
 ],
 "metadata": {
  "kernelspec": {
   "display_name": "Bash",
   "language": "bash",
   "name": "bash"
  },
  "language_info": {
   "codemirror_mode": "shell",
   "file_extension": ".sh",
   "mimetype": "text/x-sh",
   "name": "bash"
  }
 },
 "nbformat": 4,
 "nbformat_minor": 4
}
