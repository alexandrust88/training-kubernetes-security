{
 "cells": [
  {
   "cell_type": "markdown",
   "metadata": {},
   "source": [
    "**This notebook covered by the following [license](License.ipynb)  This note must not be removed**"
   ]
  },
  {
   "cell_type": "markdown",
   "metadata": {},
   "source": [
    "# Outside we must switch on ingress\n",
    "\n",
    "`minikube addons enable ingress`"
   ]
  },
  {
   "cell_type": "code",
   "execution_count": 5,
   "metadata": {},
   "outputs": [
    {
     "name": "stdout",
     "output_type": "stream",
     "text": [
      "NAMESPACE              NAME                                        READY   STATUS      RESTARTS   AGE\n",
      "kube-scan              kube-scan-db6ffdfd5-zln64                   2/2     Running     0          41m\n",
      "kube-system            coredns-74ff55c5b-tdzlj                     1/1     Running     0          25h\n",
      "kube-system            etcd-minikube                               1/1     Running     0          25h\n",
      "kube-system            \u001b[01;31m\u001b[Kingress\u001b[m\u001b[K-nginx-admission-create-df22b        0/1     Completed   0          40s\n",
      "kube-system            \u001b[01;31m\u001b[Kingress\u001b[m\u001b[K-nginx-admission-patch-wxsqr         0/1     Completed   0          40s\n",
      "kube-system            \u001b[01;31m\u001b[Kingress\u001b[m\u001b[K-nginx-controller-558664778f-rnb7s   1/1     Running     0          40s\n",
      "kube-system            kube-apiserver-minikube                     1/1     Running     0          24h\n",
      "kube-system            kube-controller-manager-minikube            1/1     Running     0          25h\n",
      "kube-system            kube-proxy-nsprm                            1/1     Running     0          25h\n",
      "kube-system            kube-scheduler-minikube                     1/1     Running     0          25h\n",
      "kube-system            nginx-pod                                   1/1     Running     0          21h\n",
      "kube-system            storage-provisioner                         1/1     Running     8          25h\n",
      "kubernetes-dashboard   dashboard-metrics-scraper-c95fcf479-6hbgr   1/1     Running     0          23h\n",
      "kubernetes-dashboard   kubernetes-dashboard-6cff4c7c4f-gxjqk       1/1     Running     0          23h\n"
     ]
    }
   ],
   "source": [
    "kubectl get pods -A | grep --color=always -E '$|ingress'"
   ]
  },
  {
   "cell_type": "code",
   "execution_count": 6,
   "metadata": {},
   "outputs": [
    {
     "name": "stdout",
     "output_type": "stream",
     "text": [
      "deployment.apps/nginx-deployment created\n"
     ]
    }
   ],
   "source": [
    "kubectl create -f - <<EOF\n",
    "apiVersion: apps/v1 \n",
    "kind: Deployment\n",
    "metadata:\n",
    "  name: nginx-deployment\n",
    "  labels:\n",
    "    app: nginx\n",
    "spec:\n",
    "  replicas: 3\n",
    "  selector:\n",
    "    matchLabels:\n",
    "      app: nginx\n",
    "  template:\n",
    "    metadata:\n",
    "      labels:\n",
    "        app: nginx\n",
    "    spec:\n",
    "      containers:\n",
    "      - name: nginx\n",
    "        image: nginx\n",
    "        ports:\n",
    "        - containerPort: 80\n",
    "EOF"
   ]
  },
  {
   "cell_type": "code",
   "execution_count": 8,
   "metadata": {},
   "outputs": [
    {
     "name": "stdout",
     "output_type": "stream",
     "text": [
      "NAME                                    READY   STATUS    RESTARTS   AGE\n",
      "pod/nginx-deployment-7848d4b86f-55rzd   1/1     Running   0          7s\n",
      "pod/nginx-deployment-7848d4b86f-l4gbv   1/1     Running   0          7s\n",
      "pod/nginx-deployment-7848d4b86f-xwrrs   1/1     Running   0          7s\n",
      "\n",
      "NAME                   TYPE        CLUSTER-IP      EXTERNAL-IP   PORT(S)   AGE\n",
      "service/kubernetes     ClusterIP   10.96.0.1       <none>        443/TCP   25h\n",
      "service/nginx-strict   ClusterIP   10.110.68.166   <none>        80/TCP    22h\n",
      "\n",
      "NAME                               READY   UP-TO-DATE   AVAILABLE   AGE\n",
      "deployment.apps/nginx-deployment   3/3     3            3           7s\n",
      "\n",
      "NAME                                          DESIRED   CURRENT   READY   AGE\n",
      "replicaset.apps/nginx-deployment-7848d4b86f   3         3         3       7s\n"
     ]
    }
   ],
   "source": [
    "kubectl get all"
   ]
  },
  {
   "cell_type": "code",
   "execution_count": 11,
   "metadata": {},
   "outputs": [
    {
     "name": "stdout",
     "output_type": "stream",
     "text": [
      "service/nginx created\n"
     ]
    }
   ],
   "source": [
    "kubectl create -f - <<EOF\n",
    "kind: Service\n",
    "apiVersion: v1\n",
    "metadata:\n",
    "  name: \"nginx\"\n",
    "spec:\n",
    "  selector:\n",
    "    app: \"nginx\"\n",
    "  ports:\n",
    "    - protocol: \"TCP\"\n",
    "      port: 80\n",
    "      targetPort: 80\n",
    "  type: LoadBalancer\n",
    "EOF"
   ]
  },
  {
   "cell_type": "code",
   "execution_count": 12,
   "metadata": {},
   "outputs": [
    {
     "name": "stdout",
     "output_type": "stream",
     "text": [
      "NAME         TYPE           CLUSTER-IP       EXTERNAL-IP      PORT(S)        AGE\n",
      "kubernetes   ClusterIP      10.96.0.1        <none>           443/TCP        25h\n",
      "nginx        LoadBalancer   10.104.255.186   10.104.255.186   80:31740/TCP   3s\n"
     ]
    }
   ],
   "source": [
    "kubectl get svc"
   ]
  },
  {
   "cell_type": "code",
   "execution_count": 13,
   "metadata": {},
   "outputs": [
    {
     "name": "stdout",
     "output_type": "stream",
     "text": [
      "Name:                     nginx\n",
      "Namespace:                default\n",
      "Labels:                   <none>\n",
      "Annotations:              <none>\n",
      "Selector:                 app=nginx\n",
      "Type:                     LoadBalancer\n",
      "IP Families:              <none>\n",
      "IP:                       10.104.255.186\n",
      "IPs:                      10.104.255.186\n",
      "LoadBalancer Ingress:     10.104.255.186\n",
      "Port:                     <unset>  80/TCP\n",
      "TargetPort:               80/TCP\n",
      "NodePort:                 <unset>  31740/TCP\n",
      "Endpoints:                172.17.0.7:80,172.17.0.8:80,172.17.0.9:80\n",
      "Session Affinity:         None\n",
      "External Traffic Policy:  Cluster\n",
      "Events:                   <none>\n"
     ]
    }
   ],
   "source": [
    "kubectl describe service nginx"
   ]
  },
  {
   "cell_type": "code",
   "execution_count": 14,
   "metadata": {},
   "outputs": [
    {
     "name": "stdout",
     "output_type": "stream",
     "text": [
      "NAMESPACE              NAME                                        READY   STATUS      RESTARTS   AGE\n",
      "default                nginx-deployment-7848d4b86f-55rzd           1/1     Running     0          89s\n",
      "default                nginx-deployment-7848d4b86f-l4gbv           1/1     Running     0          89s\n",
      "default                nginx-deployment-7848d4b86f-xwrrs           1/1     Running     0          89s\n",
      "kube-scan              kube-scan-db6ffdfd5-zln64                   2/2     Running     0          43m\n",
      "kube-system            coredns-74ff55c5b-tdzlj                     1/1     Running     0          25h\n",
      "kube-system            etcd-minikube                               1/1     Running     0          25h\n",
      "kube-system            ingress-nginx-admission-create-df22b        0/1     Completed   0          2m32s\n",
      "kube-system            ingress-nginx-admission-patch-wxsqr         0/1     Completed   0          2m32s\n",
      "kube-system            ingress-nginx-controller-558664778f-rnb7s   1/1     Running     0          2m32s\n",
      "kube-system            kube-apiserver-minikube                     1/1     Running     0          24h\n",
      "kube-system            kube-controller-manager-minikube            1/1     Running     0          25h\n",
      "kube-system            kube-proxy-nsprm                            1/1     Running     0          25h\n",
      "kube-system            kube-scheduler-minikube                     1/1     Running     0          25h\n",
      "kube-system            nginx-pod                                   1/1     Running     0          21h\n",
      "kube-system            storage-provisioner                         1/1     Running     8          25h\n",
      "kubernetes-dashboard   dashboard-metrics-scraper-c95fcf479-6hbgr   1/1     Running     0          23h\n",
      "kubernetes-dashboard   kubernetes-dashboard-6cff4c7c4f-gxjqk       1/1     Running     0          23h\n"
     ]
    }
   ],
   "source": [
    "kubectl get pods --all-namespaces"
   ]
  },
  {
   "cell_type": "code",
   "execution_count": 15,
   "metadata": {},
   "outputs": [
    {
     "name": "stdout",
     "output_type": "stream",
     "text": [
      "NAMESPACE              NAME                                 TYPE           CLUSTER-IP       EXTERNAL-IP      PORT(S)                  AGE\n",
      "default                kubernetes                           ClusterIP      10.96.0.1        <none>           443/TCP                  25h\n",
      "default                nginx                                LoadBalancer   10.104.255.186   10.104.255.186   80:31740/TCP             39s\n",
      "kube-scan              kube-scan-ui                         LoadBalancer   10.108.30.142    10.108.30.142    80:30212/TCP             43m\n",
      "kube-system            ingress-nginx-controller-admission   ClusterIP      10.99.20.76      <none>           443/TCP                  2m38s\n",
      "kube-system            kube-dns                             ClusterIP      10.96.0.10       <none>           53/UDP,53/TCP,9153/TCP   25h\n",
      "kubernetes-dashboard   dashboard-metrics-scraper            ClusterIP      10.102.232.89    <none>           8000/TCP                 23h\n",
      "kubernetes-dashboard   kubernetes-dashboard                 ClusterIP      10.106.128.168   <none>           80/TCP                   23h\n"
     ]
    }
   ],
   "source": [
    "kubectl get svc --all-namespaces"
   ]
  },
  {
   "cell_type": "code",
   "execution_count": 18,
   "metadata": {},
   "outputs": [
    {
     "name": "stdout",
     "output_type": "stream",
     "text": [
      "NAME                                 DATA   AGE\n",
      "coredns                              1      26h\n",
      "extension-apiserver-authentication   6      26h\n",
      "ingress-controller-leader-nginx      0      91m\n",
      "kube-proxy                           2      26h\n",
      "kube-root-ca.crt                     1      26h\n",
      "kubeadm-config                       2      26h\n",
      "kubelet-config-1.20                  1      26h\n",
      "nginx-load-balancer-conf             1      92m\n",
      "tcp-services                         0      92m\n",
      "udp-services                         0      92m\n"
     ]
    }
   ],
   "source": [
    "kubectl get configmap -n kube-system "
   ]
  },
  {
   "cell_type": "code",
   "execution_count": 19,
   "metadata": {},
   "outputs": [
    {
     "name": "stdout",
     "output_type": "stream",
     "text": [
      "apiVersion: v1\n",
      "kind: ConfigMap\n",
      "metadata:\n",
      "  annotations:\n",
      "    control-plane.alpha.kubernetes.io/leader: '{\"holderIdentity\":\"ingress-nginx-controller-558664778f-rnb7s\",\"leaseDurationSeconds\":30,\"acquireTime\":\"2021-01-24T16:03:31Z\",\"renewTime\":\"2021-01-24T17:35:29Z\",\"leaderTransitions\":0}'\n",
      "  creationTimestamp: \"2021-01-24T16:03:31Z\"\n",
      "  managedFields:\n",
      "  - apiVersion: v1\n",
      "    fieldsType: FieldsV1\n",
      "    fieldsV1:\n",
      "      f:metadata:\n",
      "        f:annotations:\n",
      "          .: {}\n",
      "          f:control-plane.alpha.kubernetes.io/leader: {}\n",
      "    manager: nginx-ingress-controller\n",
      "    operation: Update\n",
      "    time: \"2021-01-24T16:03:31Z\"\n",
      "  name: ingress-controller-leader-nginx\n",
      "  namespace: kube-system\n",
      "  resourceVersion: \"69626\"\n",
      "  uid: ae9f3f93-e329-43bb-9d58-85d815326eb1\n"
     ]
    }
   ],
   "source": [
    "kubectl get configmap -n kube-system  ingress-controller-leader-nginx -o yaml"
   ]
  },
  {
   "cell_type": "code",
   "execution_count": 20,
   "metadata": {},
   "outputs": [
    {
     "name": "stdout",
     "output_type": "stream",
     "text": [
      "apiVersion: v1\n",
      "data:\n",
      "  hsts: \"false\"\n",
      "kind: ConfigMap\n",
      "metadata:\n",
      "  annotations:\n",
      "    kubectl.kubernetes.io/last-applied-configuration: |\n",
      "      {\"apiVersion\":\"v1\",\"data\":{\"hsts\":\"false\"},\"kind\":\"ConfigMap\",\"metadata\":{\"annotations\":{},\"labels\":{\"addonmanager.kubernetes.io/mode\":\"EnsureExists\"},\"name\":\"nginx-load-balancer-conf\",\"namespace\":\"kube-system\"}}\n",
      "  creationTimestamp: \"2021-01-24T16:03:07Z\"\n",
      "  labels:\n",
      "    addonmanager.kubernetes.io/mode: EnsureExists\n",
      "  managedFields:\n",
      "  - apiVersion: v1\n",
      "    fieldsType: FieldsV1\n",
      "    fieldsV1:\n",
      "      f:data:\n",
      "        .: {}\n",
      "        f:hsts: {}\n",
      "      f:metadata:\n",
      "        f:annotations:\n",
      "          .: {}\n",
      "          f:kubectl.kubernetes.io/last-applied-configuration: {}\n",
      "        f:labels:\n",
      "          .: {}\n",
      "          f:addonmanager.kubernetes.io/mode: {}\n",
      "    manager: kubectl-client-side-apply\n",
      "    operation: Update\n",
      "    time: \"2021-01-24T16:03:07Z\"\n",
      "  name: nginx-load-balancer-conf\n",
      "  namespace: kube-system\n",
      "  resourceVersion: \"64667\"\n",
      "  uid: 489dd253-d744-41f7-9e76-62d458cf6ce4\n"
     ]
    }
   ],
   "source": [
    "kubectl get configmap -n kube-system  nginx-load-balancer-conf -o yaml"
   ]
  },
  {
   "cell_type": "code",
   "execution_count": null,
   "metadata": {},
   "outputs": [],
   "source": []
  }
 ],
 "metadata": {
  "kernelspec": {
   "display_name": "Bash",
   "language": "bash",
   "name": "bash"
  },
  "language_info": {
   "codemirror_mode": "shell",
   "file_extension": ".sh",
   "mimetype": "text/x-sh",
   "name": "bash"
  }
 },
 "nbformat": 4,
 "nbformat_minor": 4
}
