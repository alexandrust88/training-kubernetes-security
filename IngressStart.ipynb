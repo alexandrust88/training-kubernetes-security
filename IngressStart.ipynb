{
 "cells": [
  {
   "cell_type": "markdown",
   "metadata": {},
   "source": [
    "**This notebook covered by the following [license](License.ipynb)  This note must not be removed**"
   ]
  },
  {
   "cell_type": "markdown",
   "metadata": {},
   "source": [
    "# Outside we must switch on ingress\n",
    "\n",
    "`minikube addons enable ingress`"
   ]
  },
  {
   "cell_type": "code",
   "execution_count": 1,
   "metadata": {},
   "outputs": [
    {
     "name": "stdout",
     "output_type": "stream",
     "text": [
      "NAMESPACE       NAME                                        READY   STATUS      RESTARTS   AGE\n",
      "\u001b[01;31m\u001b[Kingress\u001b[m\u001b[K-nginx   \u001b[01;31m\u001b[Kingress\u001b[m\u001b[K-nginx-admission-create--1-4r566     0/1     Completed   0          46s\n",
      "\u001b[01;31m\u001b[Kingress\u001b[m\u001b[K-nginx   \u001b[01;31m\u001b[Kingress\u001b[m\u001b[K-nginx-admission-patch--1-p9jbg      0/1     Completed   0          46s\n",
      "\u001b[01;31m\u001b[Kingress\u001b[m\u001b[K-nginx   \u001b[01;31m\u001b[Kingress\u001b[m\u001b[K-nginx-controller-69bdbc4d57-dtkpc   1/1     Running     0          46s\n",
      "kube-system     coredns-78fcd69978-jtj8x                    1/1     Running     0          23h\n",
      "kube-system     etcd-minikube                               1/1     Running     0          23h\n",
      "kube-system     kube-apiserver-minikube                     1/1     Running     0          23h\n",
      "kube-system     kube-controller-manager-minikube            1/1     Running     0          23h\n",
      "kube-system     kube-proxy-7zcnf                            1/1     Running     0          23h\n",
      "kube-system     kube-scheduler-minikube                     1/1     Running     0          23h\n",
      "kube-system     storage-provisioner                         1/1     Running     0          23h\n"
     ]
    }
   ],
   "source": [
    "kubectl get pods -A | grep --color=always -E '$|ingress'"
   ]
  },
  {
   "cell_type": "code",
   "execution_count": 2,
   "metadata": {},
   "outputs": [
    {
     "name": "stdout",
     "output_type": "stream",
     "text": [
      "NAMESPACE       NAME                                 TYPE           CLUSTER-IP       EXTERNAL-IP     PORT(S)                      AGE\n",
      "default         kubernetes                           ClusterIP      10.96.0.1        <none>          443/TCP                      23h\n",
      "default         nginx-strict                         LoadBalancer   10.108.215.42    10.108.215.42   80:31910/TCP                 18h\n",
      "ingress-nginx   ingress-nginx-controller             NodePort       10.111.244.238   <none>          80:31565/TCP,443:32485/TCP   2m27s\n",
      "ingress-nginx   ingress-nginx-controller-admission   ClusterIP      10.102.159.32    <none>          443/TCP                      2m27s\n",
      "kube-system     kube-dns                             ClusterIP      10.96.0.10       <none>          53/UDP,53/TCP,9153/TCP       23h\n"
     ]
    }
   ],
   "source": [
    "kubectl get svc -A"
   ]
  },
  {
   "cell_type": "code",
   "execution_count": null,
   "metadata": {},
   "outputs": [],
   "source": [
    "kubectl create -f - <<EOF\n",
    "apiVersion: apps/v1 \n",
    "kind: Deployment\n",
    "metadata:\n",
    "  name: nginx-deployment\n",
    "  labels:\n",
    "    app: nginx\n",
    "spec:\n",
    "  replicas: 3\n",
    "  selector:\n",
    "    matchLabels:\n",
    "      app: nginx\n",
    "  template:\n",
    "    metadata:\n",
    "      labels:\n",
    "        app: nginx\n",
    "    spec:\n",
    "      containers:\n",
    "      - name: nginx\n",
    "        image: nginx\n",
    "        ports:\n",
    "        - containerPort: 80\n",
    "EOF"
   ]
  },
  {
   "cell_type": "code",
   "execution_count": null,
   "metadata": {},
   "outputs": [],
   "source": [
    "kubectl get all"
   ]
  },
  {
   "cell_type": "code",
   "execution_count": null,
   "metadata": {},
   "outputs": [],
   "source": [
    "kubectl create -f - <<EOF\n",
    "kind: Service\n",
    "apiVersion: v1\n",
    "metadata:\n",
    "  name: \"nginx\"\n",
    "spec:\n",
    "  selector:\n",
    "    app: \"nginx\"\n",
    "  ports:\n",
    "    - protocol: \"TCP\"\n",
    "      port: 80\n",
    "      targetPort: 80\n",
    "  type: LoadBalancer\n",
    "EOF"
   ]
  },
  {
   "cell_type": "code",
   "execution_count": null,
   "metadata": {},
   "outputs": [],
   "source": [
    "kubectl get svc"
   ]
  },
  {
   "cell_type": "code",
   "execution_count": null,
   "metadata": {},
   "outputs": [],
   "source": [
    "kubectl describe service nginx"
   ]
  },
  {
   "cell_type": "code",
   "execution_count": null,
   "metadata": {},
   "outputs": [],
   "source": [
    "kubectl get pods --all-namespaces"
   ]
  },
  {
   "cell_type": "code",
   "execution_count": null,
   "metadata": {},
   "outputs": [],
   "source": [
    "kubectl get svc --all-namespaces"
   ]
  },
  {
   "cell_type": "code",
   "execution_count": null,
   "metadata": {},
   "outputs": [],
   "source": [
    "kubectl get configmap -n kube-system "
   ]
  },
  {
   "cell_type": "code",
   "execution_count": null,
   "metadata": {},
   "outputs": [],
   "source": [
    "kubectl get configmap -n kube-system  ingress-controller-leader-nginx -o yaml"
   ]
  },
  {
   "cell_type": "code",
   "execution_count": null,
   "metadata": {},
   "outputs": [],
   "source": [
    "kubectl get configmap -n kube-system  nginx-load-balancer-conf -o yaml"
   ]
  },
  {
   "cell_type": "code",
   "execution_count": null,
   "metadata": {},
   "outputs": [],
   "source": []
  }
 ],
 "metadata": {
  "kernelspec": {
   "display_name": "Bash",
   "language": "bash",
   "name": "bash"
  },
  "language_info": {
   "codemirror_mode": "shell",
   "file_extension": ".sh",
   "mimetype": "text/x-sh",
   "name": "bash"
  }
 },
 "nbformat": 4,
 "nbformat_minor": 4
}
