{
 "cells": [
  {
   "cell_type": "markdown",
   "metadata": {},
   "source": [
    "**This notebook covered by the following [license](License.ipynb)  This note must not be removed**"
   ]
  },
  {
   "cell_type": "markdown",
   "metadata": {},
   "source": [
    "# Istio Canary\n",
    "\n",
    "## Hello Istio\n",
    "\n",
    "Very basic traffic management\n",
    "https://istio.io/blog/2018/incremental-traffic-management/\n",
    "\n"
   ]
  },
  {
   "cell_type": "code",
   "execution_count": 1,
   "metadata": {},
   "outputs": [
    {
     "name": "stdout",
     "output_type": "stream",
     "text": [
      "namespace/default labeled\n"
     ]
    }
   ],
   "source": [
    "kubectl label namespace default istio-injection=enabled"
   ]
  },
  {
   "cell_type": "markdown",
   "metadata": {},
   "source": [
    "## Create a test pod"
   ]
  },
  {
   "cell_type": "code",
   "execution_count": 2,
   "metadata": {},
   "outputs": [
    {
     "name": "stdout",
     "output_type": "stream",
     "text": [
      "service/sleep created\n",
      "deployment.apps/sleep created\n"
     ]
    }
   ],
   "source": [
    "kubectl apply -f - <<EOF\n",
    "apiVersion: v1\n",
    "kind: Service\n",
    "metadata:\n",
    "  name: sleep\n",
    "  labels:\n",
    "    app: sleep\n",
    "spec:\n",
    "  ports:\n",
    "  - port: 80\n",
    "    name: http\n",
    "  selector:\n",
    "    app: sleep\n",
    "---\n",
    "apiVersion: apps/v1\n",
    "kind: Deployment\n",
    "metadata:\n",
    "  name: sleep\n",
    "spec:\n",
    "  replicas: 1\n",
    "  selector:\n",
    "    matchLabels:\n",
    "      app: sleep\n",
    "  template:\n",
    "    metadata:\n",
    "      labels:\n",
    "        app: sleep\n",
    "    spec:\n",
    "      containers:\n",
    "      - name: sleep\n",
    "        image: pstauffer/curl\n",
    "        command: [\"/bin/sleep\", \"3650d\"]\n",
    "        imagePullPolicy: IfNotPresent\n",
    "---\n",
    "EOF"
   ]
  },
  {
   "cell_type": "code",
   "execution_count": 1,
   "metadata": {},
   "outputs": [
    {
     "name": "stdout",
     "output_type": "stream",
     "text": [
      "sleep-56bc8d768-fmxxt\n"
     ]
    }
   ],
   "source": [
    "export SLEEP_POD=$(kubectl get pod -l app=sleep \\\n",
    "  -o jsonpath={.items..metadata.name})\n",
    "echo $SLEEP_POD"
   ]
  },
  {
   "cell_type": "code",
   "execution_count": 4,
   "metadata": {},
   "outputs": [
    {
     "name": "stdout",
     "output_type": "stream",
     "text": [
      "No resources found in default namespace.\n"
     ]
    }
   ],
   "source": [
    "kubectl get destinationrule "
   ]
  },
  {
   "cell_type": "code",
   "execution_count": 5,
   "metadata": {},
   "outputs": [
    {
     "name": "stdout",
     "output_type": "stream",
     "text": [
      "No resources found in default namespace.\n"
     ]
    }
   ],
   "source": [
    "kubectl get virtualservice"
   ]
  },
  {
   "cell_type": "code",
   "execution_count": 6,
   "metadata": {},
   "outputs": [
    {
     "name": "stdout",
     "output_type": "stream",
     "text": [
      "NAME    READY   UP-TO-DATE   AVAILABLE   AGE\n",
      "sleep   1/1     1            1           12s\n"
     ]
    }
   ],
   "source": [
    "kubectl get deployments"
   ]
  },
  {
   "cell_type": "code",
   "execution_count": 7,
   "metadata": {},
   "outputs": [
    {
     "name": "stdout",
     "output_type": "stream",
     "text": [
      "NAME                    READY   STATUS    RESTARTS   AGE\n",
      "sleep-56bc8d768-fmxxt   2/2     Running   0          18s\n"
     ]
    }
   ],
   "source": [
    "kubectl get pods"
   ]
  },
  {
   "cell_type": "code",
   "execution_count": 8,
   "metadata": {},
   "outputs": [
    {
     "name": "stdout",
     "output_type": "stream",
     "text": [
      "apiVersion: v1\n",
      "kind: Pod\n",
      "metadata:\n",
      "  annotations:\n",
      "    prometheus.io/path: /stats/prometheus\n",
      "    prometheus.io/port: \"15020\"\n",
      "    prometheus.io/scrape: \"true\"\n",
      "    sidecar.istio.io/status: '{\"version\":\"e2cb9d4837cda9584fd272bfa1f348525bcaacfadb7e9b9efbd21a3bb44ad7a1\",\"initContainers\":[\"istio-init\"],\"containers\":[\"istio-proxy\"],\"volumes\":[\"istio-envoy\",\"istio-data\",\"istio-podinfo\",\"istio-token\",\"istiod-ca-cert\"],\"imagePullSecrets\":null}'\n",
      "  creationTimestamp: \"2021-01-27T13:38:58Z\"\n",
      "  generateName: sleep-56bc8d768-\n",
      "  labels:\n",
      "    app: sleep\n",
      "    istio.io/rev: default\n",
      "    pod-template-hash: 56bc8d768\n",
      "    security.istio.io/tlsMode: istio\n",
      "    service.istio.io/canonical-name: sleep\n",
      "    service.istio.io/canonical-revision: latest\n",
      "  managedFields:\n",
      "  - apiVersion: v1\n",
      "    fieldsType: FieldsV1\n",
      "    fieldsV1:\n",
      "      f:metadata:\n",
      "        f:generateName: {}\n",
      "        f:labels:\n",
      "          .: {}\n",
      "          f:app: {}\n",
      "          f:pod-template-hash: {}\n",
      "        f:ownerReferences:\n",
      "          .: {}\n",
      "          k:{\"uid\":\"da18796f-e21c-4820-ba3e-fee6aab3e468\"}:\n",
      "            .: {}\n",
      "            f:apiVersion: {}\n",
      "            f:blockOwnerDeletion: {}\n",
      "            f:controller: {}\n",
      "            f:kind: {}\n",
      "            f:name: {}\n",
      "            f:uid: {}\n",
      "      f:spec:\n",
      "        f:containers:\n",
      "          k:{\"name\":\"sleep\"}:\n",
      "            .: {}\n",
      "            f:command: {}\n",
      "\u001b[01;31m\u001b[K            f:image: {}\u001b[m\u001b[K\n",
      "            f:imagePullPolicy: {}\n",
      "            f:name: {}\n",
      "            f:resources: {}\n",
      "            f:terminationMessagePath: {}\n",
      "            f:terminationMessagePolicy: {}\n",
      "        f:dnsPolicy: {}\n",
      "        f:enableServiceLinks: {}\n",
      "        f:restartPolicy: {}\n",
      "        f:schedulerName: {}\n",
      "        f:securityContext: {}\n",
      "        f:terminationGracePeriodSeconds: {}\n",
      "    manager: kube-controller-manager\n",
      "    operation: Update\n",
      "    time: \"2021-01-27T13:38:58Z\"\n",
      "  - apiVersion: v1\n",
      "    fieldsType: FieldsV1\n",
      "    fieldsV1:\n",
      "      f:status:\n",
      "        f:conditions:\n",
      "          k:{\"type\":\"ContainersReady\"}:\n",
      "            .: {}\n",
      "            f:lastProbeTime: {}\n",
      "            f:lastTransitionTime: {}\n",
      "            f:status: {}\n",
      "            f:type: {}\n",
      "          k:{\"type\":\"Initialized\"}:\n",
      "            .: {}\n",
      "            f:lastProbeTime: {}\n",
      "            f:lastTransitionTime: {}\n",
      "            f:status: {}\n",
      "            f:type: {}\n",
      "          k:{\"type\":\"Ready\"}:\n",
      "            .: {}\n",
      "            f:lastProbeTime: {}\n",
      "            f:lastTransitionTime: {}\n",
      "            f:status: {}\n",
      "            f:type: {}\n",
      "        f:containerStatuses: {}\n",
      "        f:hostIP: {}\n",
      "        f:initContainerStatuses: {}\n",
      "        f:phase: {}\n",
      "        f:podIP: {}\n",
      "        f:podIPs:\n",
      "          .: {}\n",
      "          k:{\"ip\":\"172.17.0.6\"}:\n",
      "            .: {}\n",
      "            f:ip: {}\n",
      "        f:startTime: {}\n",
      "    manager: kubelet\n",
      "    operation: Update\n",
      "    time: \"2021-01-27T13:39:10Z\"\n",
      "  name: sleep-56bc8d768-fmxxt\n",
      "  namespace: default\n",
      "  ownerReferences:\n",
      "  - apiVersion: apps/v1\n",
      "    blockOwnerDeletion: true\n",
      "    controller: true\n",
      "    kind: ReplicaSet\n",
      "    name: sleep-56bc8d768\n",
      "    uid: da18796f-e21c-4820-ba3e-fee6aab3e468\n",
      "  resourceVersion: \"51476\"\n",
      "  uid: 41a636fa-8bfd-40b4-b93c-5537f7c8e8a7\n",
      "spec:\n",
      "  containers:\n",
      "  - command:\n",
      "    - /bin/sleep\n",
      "    - 3650d\n",
      "\u001b[01;31m\u001b[K    image: pstauffer/curl\u001b[m\u001b[K\n",
      "    imagePullPolicy: IfNotPresent\n",
      "    name: sleep\n",
      "    resources: {}\n",
      "    terminationMessagePath: /dev/termination-log\n",
      "    terminationMessagePolicy: File\n",
      "    volumeMounts:\n",
      "    - mountPath: /var/run/secrets/kubernetes.io/serviceaccount\n",
      "      name: default-token-2nxxz\n",
      "      readOnly: true\n",
      "  - args:\n",
      "    - proxy\n",
      "    - sidecar\n",
      "    - --domain\n",
      "    - $(POD_NAMESPACE).svc.cluster.local\n",
      "    - --serviceCluster\n",
      "    - sleep.$(POD_NAMESPACE)\n",
      "    - --proxyLogLevel=warning\n",
      "    - --proxyComponentLogLevel=misc:error\n",
      "    - --concurrency\n",
      "    - \"2\"\n",
      "    env:\n",
      "    - name: JWT_POLICY\n",
      "      value: third-party-jwt\n",
      "    - name: PILOT_CERT_PROVIDER\n",
      "      value: istiod\n",
      "    - name: CA_ADDR\n",
      "      value: istiod.istio-system.svc:15012\n",
      "    - name: POD_NAME\n",
      "      valueFrom:\n",
      "        fieldRef:\n",
      "          apiVersion: v1\n",
      "          fieldPath: metadata.name\n",
      "    - name: POD_NAMESPACE\n",
      "      valueFrom:\n",
      "        fieldRef:\n",
      "          apiVersion: v1\n",
      "          fieldPath: metadata.namespace\n",
      "    - name: INSTANCE_IP\n",
      "      valueFrom:\n",
      "        fieldRef:\n",
      "          apiVersion: v1\n",
      "          fieldPath: status.podIP\n",
      "    - name: SERVICE_ACCOUNT\n",
      "      valueFrom:\n",
      "        fieldRef:\n",
      "          apiVersion: v1\n",
      "          fieldPath: spec.serviceAccountName\n",
      "    - name: HOST_IP\n",
      "      valueFrom:\n",
      "        fieldRef:\n",
      "          apiVersion: v1\n",
      "          fieldPath: status.hostIP\n",
      "    - name: CANONICAL_SERVICE\n",
      "      valueFrom:\n",
      "        fieldRef:\n",
      "          apiVersion: v1\n",
      "          fieldPath: metadata.labels['service.istio.io/canonical-name']\n",
      "    - name: CANONICAL_REVISION\n",
      "      valueFrom:\n",
      "        fieldRef:\n",
      "          apiVersion: v1\n",
      "          fieldPath: metadata.labels['service.istio.io/canonical-revision']\n",
      "    - name: PROXY_CONFIG\n",
      "      value: |\n",
      "        {\"proxyMetadata\":{\"DNS_AGENT\":\"\"}}\n",
      "    - name: ISTIO_META_POD_PORTS\n",
      "      value: |-\n",
      "        [\n",
      "        ]\n",
      "    - name: ISTIO_META_APP_CONTAINERS\n",
      "      value: sleep\n",
      "    - name: ISTIO_META_CLUSTER_ID\n",
      "      value: Kubernetes\n",
      "    - name: ISTIO_META_INTERCEPTION_MODE\n",
      "      value: REDIRECT\n",
      "    - name: ISTIO_META_WORKLOAD_NAME\n",
      "      value: sleep\n",
      "    - name: ISTIO_META_OWNER\n",
      "      value: kubernetes://apis/apps/v1/namespaces/default/deployments/sleep\n",
      "    - name: ISTIO_META_MESH_ID\n",
      "      value: cluster.local\n",
      "    - name: TRUST_DOMAIN\n",
      "      value: cluster.local\n",
      "    - name: DNS_AGENT\n",
      "\u001b[01;31m\u001b[K    image: docker.io/istio/proxyv2:1.8.2\u001b[m\u001b[K\n",
      "    imagePullPolicy: Always\n",
      "    name: istio-proxy\n",
      "    ports:\n",
      "    - containerPort: 15090\n",
      "      name: http-envoy-prom\n",
      "      protocol: TCP\n",
      "    readinessProbe:\n",
      "      failureThreshold: 30\n",
      "      httpGet:\n",
      "        path: /healthz/ready\n",
      "        port: 15021\n",
      "        scheme: HTTP\n",
      "      initialDelaySeconds: 1\n",
      "      periodSeconds: 2\n",
      "      successThreshold: 1\n",
      "      timeoutSeconds: 3\n",
      "    resources:\n",
      "      limits:\n",
      "        cpu: \"2\"\n",
      "        memory: 1Gi\n",
      "      requests:\n",
      "        cpu: 10m\n",
      "        memory: 40Mi\n",
      "    securityContext:\n",
      "      allowPrivilegeEscalation: false\n",
      "      capabilities:\n",
      "        drop:\n",
      "        - ALL\n",
      "      privileged: false\n",
      "      readOnlyRootFilesystem: true\n",
      "      runAsGroup: 1337\n",
      "      runAsNonRoot: true\n",
      "      runAsUser: 1337\n",
      "    terminationMessagePath: /dev/termination-log\n",
      "    terminationMessagePolicy: File\n",
      "    volumeMounts:\n",
      "    - mountPath: /var/run/secrets/istio\n",
      "      name: istiod-ca-cert\n",
      "    - mountPath: /var/lib/istio/data\n",
      "      name: istio-data\n",
      "    - mountPath: /etc/istio/proxy\n",
      "      name: istio-envoy\n",
      "    - mountPath: /var/run/secrets/tokens\n",
      "      name: istio-token\n",
      "    - mountPath: /etc/istio/pod\n",
      "      name: istio-podinfo\n",
      "    - mountPath: /var/run/secrets/kubernetes.io/serviceaccount\n",
      "      name: default-token-2nxxz\n",
      "      readOnly: true\n",
      "  dnsPolicy: ClusterFirst\n",
      "  enableServiceLinks: true\n",
      "  initContainers:\n",
      "  - args:\n",
      "    - istio-iptables\n",
      "    - -p\n",
      "    - \"15001\"\n",
      "    - -z\n",
      "    - \"15006\"\n",
      "    - -u\n",
      "    - \"1337\"\n",
      "    - -m\n",
      "    - REDIRECT\n",
      "    - -i\n",
      "    - '*'\n",
      "    - -x\n",
      "    - \"\"\n",
      "    - -b\n",
      "    - '*'\n",
      "    - -d\n",
      "    - 15090,15021,15020\n",
      "    env:\n",
      "    - name: DNS_AGENT\n",
      "\u001b[01;31m\u001b[K    image: docker.io/istio/proxyv2:1.8.2\u001b[m\u001b[K\n",
      "    imagePullPolicy: Always\n",
      "    name: istio-init\n",
      "    resources:\n",
      "      limits:\n",
      "        cpu: \"2\"\n",
      "        memory: 1Gi\n",
      "      requests:\n",
      "        cpu: 10m\n",
      "        memory: 40Mi\n",
      "    securityContext:\n",
      "      allowPrivilegeEscalation: false\n",
      "      capabilities:\n",
      "        add:\n",
      "        - NET_ADMIN\n",
      "        - NET_RAW\n",
      "        drop:\n",
      "        - ALL\n",
      "      privileged: false\n",
      "      readOnlyRootFilesystem: false\n",
      "      runAsGroup: 0\n",
      "      runAsNonRoot: false\n",
      "      runAsUser: 0\n",
      "    terminationMessagePath: /dev/termination-log\n",
      "    terminationMessagePolicy: File\n",
      "    volumeMounts:\n",
      "    - mountPath: /var/run/secrets/kubernetes.io/serviceaccount\n",
      "      name: default-token-2nxxz\n",
      "      readOnly: true\n",
      "  nodeName: minikube\n",
      "  preemptionPolicy: PreemptLowerPriority\n",
      "  priority: 0\n",
      "  restartPolicy: Always\n",
      "  schedulerName: default-scheduler\n",
      "  securityContext: {}\n",
      "  serviceAccount: default\n",
      "  serviceAccountName: default\n",
      "  terminationGracePeriodSeconds: 30\n",
      "  tolerations:\n",
      "  - effect: NoExecute\n",
      "    key: node.kubernetes.io/not-ready\n",
      "    operator: Exists\n",
      "    tolerationSeconds: 300\n",
      "  - effect: NoExecute\n",
      "    key: node.kubernetes.io/unreachable\n",
      "    operator: Exists\n",
      "    tolerationSeconds: 300\n",
      "  volumes:\n",
      "  - name: default-token-2nxxz\n",
      "    secret:\n",
      "      defaultMode: 420\n",
      "      secretName: default-token-2nxxz\n",
      "  - emptyDir:\n",
      "      medium: Memory\n",
      "    name: istio-envoy\n",
      "  - emptyDir: {}\n",
      "    name: istio-data\n",
      "  - downwardAPI:\n",
      "      defaultMode: 420\n",
      "      items:\n",
      "      - fieldRef:\n",
      "          apiVersion: v1\n",
      "          fieldPath: metadata.labels\n",
      "        path: labels\n",
      "      - fieldRef:\n",
      "          apiVersion: v1\n",
      "          fieldPath: metadata.annotations\n",
      "        path: annotations\n",
      "    name: istio-podinfo\n",
      "  - name: istio-token\n",
      "    projected:\n",
      "      defaultMode: 420\n",
      "      sources:\n",
      "      - serviceAccountToken:\n",
      "          audience: istio-ca\n",
      "          expirationSeconds: 43200\n",
      "          path: istio-token\n",
      "  - configMap:\n",
      "      defaultMode: 420\n",
      "      name: istio-ca-root-cert\n",
      "    name: istiod-ca-cert\n",
      "status:\n",
      "  conditions:\n",
      "  - lastProbeTime: null\n",
      "    lastTransitionTime: \"2021-01-27T13:39:01Z\"\n",
      "    status: \"True\"\n",
      "    type: Initialized\n",
      "  - lastProbeTime: null\n",
      "    lastTransitionTime: \"2021-01-27T13:39:10Z\"\n",
      "    status: \"True\"\n",
      "    type: Ready\n",
      "  - lastProbeTime: null\n",
      "    lastTransitionTime: \"2021-01-27T13:39:10Z\"\n",
      "    status: \"True\"\n",
      "    type: ContainersReady\n",
      "  - lastProbeTime: null\n",
      "    lastTransitionTime: \"2021-01-27T13:38:58Z\"\n",
      "    status: \"True\"\n",
      "    type: PodScheduled\n",
      "  containerStatuses:\n",
      "  - containerID: docker://b1e79e021c6bb7b23501671257c9dea57d506e6aff210977003237351a09bab9\n",
      "\u001b[01;31m\u001b[K    image: istio/proxyv2:1.8.2\u001b[m\u001b[K\n",
      "    imageID: docker-pullable://istio/proxyv2@sha256:2f5931b4c0856ae48a9b17cae2ddc384cdd97b0f40d455e61e8636d32a6392f3\n",
      "    lastState: {}\n",
      "    name: istio-proxy\n",
      "    ready: true\n",
      "    restartCount: 0\n",
      "    started: true\n",
      "    state:\n",
      "      running:\n",
      "        startedAt: \"2021-01-27T13:39:07Z\"\n",
      "  - containerID: docker://1efe02500fff464a3fe7b8d330dd33d20293b77f4a11d2246a33cd7dddf56c32\n",
      "\u001b[01;31m\u001b[K    image: pstauffer/curl:latest\u001b[m\u001b[K\n",
      "    imageID: docker-pullable://pstauffer/curl@sha256:2663156457abb72d269eb19fe53c2d49e2e4a9fdcb9fa8f082d0282d82eb8e42\n",
      "    lastState: {}\n",
      "    name: sleep\n",
      "    ready: true\n",
      "    restartCount: 0\n",
      "    started: true\n",
      "    state:\n",
      "      running:\n",
      "        startedAt: \"2021-01-27T13:39:05Z\"\n",
      "  hostIP: 192.168.49.2\n",
      "  initContainerStatuses:\n",
      "  - containerID: docker://4e2750273e1372fbf46b927ca4f28d0bcd868e21bc317ff92cfc8d2c30ea5ad5\n",
      "\u001b[01;31m\u001b[K    image: istio/proxyv2:1.8.2\u001b[m\u001b[K\n",
      "    imageID: docker-pullable://istio/proxyv2@sha256:2f5931b4c0856ae48a9b17cae2ddc384cdd97b0f40d455e61e8636d32a6392f3\n",
      "    lastState: {}\n",
      "    name: istio-init\n",
      "    ready: true\n",
      "    restartCount: 0\n",
      "    state:\n",
      "      terminated:\n",
      "        containerID: docker://4e2750273e1372fbf46b927ca4f28d0bcd868e21bc317ff92cfc8d2c30ea5ad5\n",
      "        exitCode: 0\n",
      "        finishedAt: \"2021-01-27T13:39:01Z\"\n",
      "        reason: Completed\n",
      "        startedAt: \"2021-01-27T13:39:01Z\"\n",
      "  phase: Running\n",
      "  podIP: 172.17.0.6\n",
      "  podIPs:\n",
      "  - ip: 172.17.0.6\n",
      "  qosClass: Burstable\n",
      "  startTime: \"2021-01-27T13:38:58Z\"\n"
     ]
    }
   ],
   "source": [
    "kubectl get pod $SLEEP_POD -o yaml | grep --color=always  -E '$|.*image:.*'"
   ]
  },
  {
   "cell_type": "markdown",
   "metadata": {},
   "source": [
    "# Admisssion Controlers and Sidecars\n",
    "\n",
    "- Istio works as an [ Admission Controller](https://kubernetes.io/blog/2019/03/21/a-guide-to-kubernetes-admission-controllers/)\n",
    "- adding a [Sidecar Pattern](https://static.googleusercontent.com/media/research.google.com/en//pubs/archive/45406.pdf)\n",
    "- [Kubernetes Patterns](https://www.redhat.com/cms/managed-files/cm-oreilly-kubernetes-patterns-ebook-f19824-201910-en.pdf)\n",
    "- [Envoy Proxy](https://www.envoyproxy.io/)\n",
    "- [Patterns with Envoy Proxy](https://blog.christianposta.com/microservices/00-microservices-patterns-with-envoy-proxy-series/)"
   ]
  },
  {
   "cell_type": "code",
   "execution_count": 3,
   "metadata": {},
   "outputs": [
    {
     "name": "stdout",
     "output_type": "stream",
     "text": [
      "Defaulting container name to sleep.\n",
      "Use 'kubectl describe pod/sleep-56bc8d768-fmxxt -n default' to see all of the containers in this pod.\n",
      "  % Total    % Received % Xferd  Average Speed   Time    Time     Time  Current\n",
      "                                 Dload  Upload   Total   Spent    Left  Speed\n",
      "100   229  100   229    0     0   3367      0 --:--:-- --:--:-- --:--:--  3318\n",
      "100  520k  100  520k    0     0  1319k      0 --:--:-- --:--:-- --:--:-- 1319k\n",
      "28176\n"
     ]
    }
   ],
   "source": [
    "kubectl exec $SLEEP_POD -- curl -L heise.de | wc -l"
   ]
  },
  {
   "cell_type": "markdown",
   "metadata": {},
   "source": [
    "# Istio Sample Application"
   ]
  },
  {
   "cell_type": "code",
   "execution_count": 5,
   "metadata": {},
   "outputs": [],
   "source": [
    "cd istio-*"
   ]
  },
  {
   "cell_type": "code",
   "execution_count": 6,
   "metadata": {},
   "outputs": [
    {
     "name": "stdout",
     "output_type": "stream",
     "text": [
      "/minikube-host/training/notebooks/istio-1.8.2\n"
     ]
    }
   ],
   "source": [
    "pwd"
   ]
  },
  {
   "cell_type": "code",
   "execution_count": 7,
   "metadata": {},
   "outputs": [
    {
     "name": "stdout",
     "output_type": "stream",
     "text": [
      "service/details created\n",
      "serviceaccount/bookinfo-details created\n",
      "deployment.apps/details-v1 created\n",
      "service/ratings created\n",
      "serviceaccount/bookinfo-ratings created\n",
      "deployment.apps/ratings-v1 created\n",
      "service/reviews created\n",
      "serviceaccount/bookinfo-reviews created\n",
      "deployment.apps/reviews-v1 created\n",
      "deployment.apps/reviews-v2 created\n",
      "deployment.apps/reviews-v3 created\n",
      "service/productpage created\n",
      "serviceaccount/bookinfo-productpage created\n",
      "deployment.apps/productpage-v1 created\n"
     ]
    }
   ],
   "source": [
    "kubectl apply -f samples/bookinfo/platform/kube/bookinfo.yaml"
   ]
  },
  {
   "cell_type": "code",
   "execution_count": 12,
   "metadata": {},
   "outputs": [
    {
     "name": "stdout",
     "output_type": "stream",
     "text": [
      "NAME                              READY   STATUS    RESTARTS   AGE\n",
      "details-v1-79c697d759-rkjvf       2/2     Running   0          2m34s\n",
      "productpage-v1-65576bb7bf-d4gt5   2/2     Running   0          2m33s\n",
      "ratings-v1-7d99676f7f-2ncvj       2/2     Running   0          2m34s\n",
      "reviews-v1-987d495c-j5qs6         2/2     Running   0          2m33s\n",
      "reviews-v2-6c5bf657cf-gsr79       2/2     Running   0          2m33s\n",
      "reviews-v3-5f7b9f4f77-n5j8f       2/2     Running   0          2m33s\n",
      "sleep-56bc8d768-fmxxt             2/2     Running   0          14m\n"
     ]
    }
   ],
   "source": [
    "kubectl get pods "
   ]
  },
  {
   "cell_type": "code",
   "execution_count": 13,
   "metadata": {},
   "outputs": [
    {
     "name": "stdout",
     "output_type": "stream",
     "text": [
      "NAME          TYPE        CLUSTER-IP      EXTERNAL-IP   PORT(S)    AGE\n",
      "details       ClusterIP   10.99.240.114   <none>        9080/TCP   2m42s\n",
      "kubernetes    ClusterIP   10.96.0.1       <none>        443/TCP    20h\n",
      "productpage   ClusterIP   10.111.229.39   <none>        9080/TCP   2m41s\n",
      "ratings       ClusterIP   10.100.74.5     <none>        9080/TCP   2m42s\n",
      "reviews       ClusterIP   10.108.2.171    <none>        9080/TCP   2m42s\n",
      "sleep         ClusterIP   10.101.36.20    <none>        80/TCP     14m\n"
     ]
    }
   ],
   "source": [
    "kubectl get services"
   ]
  },
  {
   "cell_type": "code",
   "execution_count": 14,
   "metadata": {
    "collapsed": true,
    "jupyter": {
     "outputs_hidden": true
    }
   },
   "outputs": [
    {
     "name": "stdout",
     "output_type": "stream",
     "text": [
      "<!DOCTYPE html>\n",
      "<html>\n",
      "  <head>\n",
      "    \u001b[01;31m\u001b[K<title>Simple Bookstore App</title>\u001b[m\u001b[K\n",
      "<meta charset=\"utf-8\">\n",
      "<meta http-equiv=\"X-UA-Compatible\" content=\"IE=edge\">\n",
      "<meta name=\"viewport\" content=\"width=device-width, initial-scale=1.0\">\n",
      "\n",
      "<!-- Latest compiled and minified CSS -->\n",
      "<link rel=\"stylesheet\" href=\"static/bootstrap/css/bootstrap.min.css\">\n",
      "\n",
      "<!-- Optional theme -->\n",
      "<link rel=\"stylesheet\" href=\"static/bootstrap/css/bootstrap-theme.min.css\">\n",
      "\n",
      "  </head>\n",
      "  <body>\n",
      "    \n",
      "    \n",
      "\n",
      "<nav class=\"navbar navbar-inverse navbar-static-top\">\n",
      "  <div class=\"container\">\n",
      "    <div class=\"navbar-header\">\n",
      "      <a class=\"navbar-brand\" href=\"#\">BookInfo Sample</a>\n",
      "    </div>\n",
      "    \n",
      "    <button type=\"button\" class=\"btn btn-default navbar-btn navbar-right\" data-toggle=\"modal\" href=\"#login-modal\">Sign\n",
      "      in</button>\n",
      "    \n",
      "  </div>\n",
      "</nav>\n",
      "\n",
      "<!---\n",
      "<div class=\"navbar navbar-inverse navbar-fixed-top\">\n",
      "  <div class=\"container\">\n",
      "    <div class=\"navbar-header pull-left\">\n",
      "      <a class=\"navbar-brand\" href=\"#\">Microservices Fabric BookInfo Demo</a>\n",
      "    </div>\n",
      "    <div class=\"navbar-header pull-right\">\n",
      "      <button type=\"button\" class=\"navbar-toggle\" data-toggle=\"collapse\" data-target=\".navbar-collapse\">\n",
      "        <span class=\"icon-bar\"></span>\n",
      "        <span class=\"icon-bar\"></span>\n",
      "        <span class=\"icon-bar\"></span>\n",
      "      </button>\n",
      "    </div>\n",
      "    <div class=\"navbar-collapse collapse\">\n",
      "\n",
      "      <button type=\"button\" class=\"btn btn-default navbar-btn pull-right\" data-toggle=\"modal\" data-target=\"#login-modal\">Sign in</button>\n",
      "\n",
      "    </div>\n",
      "  </div>\n",
      "</div>\n",
      "-->\n",
      "\n",
      "<div id=\"login-modal\" class=\"modal fade\" role=\"dialog\">\n",
      "  <div class=\"modal-dialog\">\n",
      "    <div class=\"modal-content\">\n",
      "      <div class=\"modal-header\">\n",
      "        <button type=\"button\" class=\"close\" data-dismiss=\"modal\">&times;</button>\n",
      "        <h4 class=\"modal-title\">Please sign in</h4>\n",
      "      </div>\n",
      "      <div class=\"modal-body\">\n",
      "        <form method=\"post\" action='login' name=\"login_form\">\n",
      "          <p><input type=\"text\" class=\"form-control\" name=\"username\" id=\"username\" placeholder=\"User Name\"></p>\n",
      "          <p><input type=\"password\" class=\"form-control\" name=\"passwd\" placeholder=\"Password\"></p>\n",
      "          <p>\n",
      "            <button type=\"submit\" class=\"btn btn-primary\">Sign in</button>\n",
      "            <button type=\"button\" class=\"btn btn-default\" data-dismiss=\"modal\">Cancel</button>\n",
      "          </p>\n",
      "        </form>\n",
      "      </div>\n",
      "    </div>\n",
      "\n",
      "  </div>\n",
      "</div>\n",
      "\n",
      "<div class=\"container-fluid\">\n",
      "  <div class=\"row\">\n",
      "    <div class=\"col-md-12\">\n",
      "      <h3 class=\"text-center text-primary\">The Comedy of Errors</h3>\n",
      "      \n",
      "      <p>Summary: <a href=\"https://en.wikipedia.org/wiki/The_Comedy_of_Errors\">Wikipedia Summary</a>: The Comedy of Errors is one of <b>William Shakespeare's</b> early plays. It is his shortest and one of his most farcical comedies, with a major part of the humour coming from slapstick and mistaken identity, in addition to puns and word play.</p>\n",
      "      \n",
      "    </div>\n",
      "  </div>\n",
      "\n",
      "  <div class=\"row\">\n",
      "    <div class=\"col-md-6\">\n",
      "      \n",
      "      <h4 class=\"text-center text-primary\">Book Details</h4>\n",
      "      <dl>\n",
      "        <dt>Type:</dt>paperback\n",
      "        <dt>Pages:</dt>200\n",
      "        <dt>Publisher:</dt>PublisherA\n",
      "        <dt>Language:</dt>English\n",
      "        <dt>ISBN-10:</dt>1234567890\n",
      "        <dt>ISBN-13:</dt>123-1234567890\n",
      "      </dl>\n",
      "      \n",
      "    </div>\n",
      "\n",
      "    <div class=\"col-md-6\">\n",
      "      \n",
      "      <h4 class=\"text-center text-primary\">Book Reviews</h4>\n",
      "      \n",
      "      <blockquote>\n",
      "        <p>An extremely entertaining play by Shakespeare. The slapstick humour is refreshing!</p>\n",
      "        <small>Reviewer1</small>\n",
      "        \n",
      "      </blockquote>\n",
      "      \n",
      "      <blockquote>\n",
      "        <p>Absolutely fun and entertaining. The play lacks thematic depth when compared to other plays by Shakespeare.</p>\n",
      "        <small>Reviewer2</small>\n",
      "        \n",
      "      </blockquote>\n",
      "      \n",
      "      \n",
      "    </div>\n",
      "  </div>\n",
      "</div>\n",
      "\n",
      "\n",
      "    \n",
      "<!-- Latest compiled and minified JavaScript -->\n",
      "<script src=\"static/jquery.min.js\"></script>\n",
      "\n",
      "<!-- Latest compiled and minified JavaScript -->\n",
      "<script src=\"static/bootstrap/js/bootstrap.min.js\"></script>\n",
      "\n",
      "<script type=\"text/javascript\">\n",
      "  $('#login-modal').on('shown.bs.modal', function () {\n",
      "    $('#username').focus();\n",
      "  });\n",
      "</script>\n",
      "\n",
      "  </body>\n",
      "</html>\n"
     ]
    }
   ],
   "source": [
    "kubectl exec \"$(kubectl get pod -l app=ratings -o jsonpath='{.items[0].metadata.name}')\" \\\n",
    "  -c ratings -- curl -s productpage:9080/productpage | grep --color=always -E \"$|<title>.*</title>\""
   ]
  },
  {
   "cell_type": "code",
   "execution_count": 15,
   "metadata": {},
   "outputs": [
    {
     "name": "stdout",
     "output_type": "stream",
     "text": [
      "apiVersion: networking.istio.io/v1alpha3\n",
      "kind: Gateway\n",
      "metadata:\n",
      "  name: bookinfo-gateway\n",
      "spec:\n",
      "  selector:\n",
      "    istio: ingressgateway # use istio default controller\n",
      "  servers:\n",
      "  - port:\n",
      "      number: 80\n",
      "      name: http\n",
      "      protocol: HTTP\n",
      "    hosts:\n",
      "    - \"*\"\n",
      "---\n",
      "apiVersion: networking.istio.io/v1alpha3\n",
      "kind: VirtualService\n",
      "metadata:\n",
      "  name: bookinfo\n",
      "spec:\n",
      "  hosts:\n",
      "  - \"*\"\n",
      "  gateways:\n",
      "  - bookinfo-gateway\n",
      "  http:\n",
      "  - match:\n",
      "    - uri:\n",
      "        exact: /productpage\n",
      "    - uri:\n",
      "        prefix: /static\n",
      "    - uri:\n",
      "        exact: /login\n",
      "    - uri:\n",
      "        exact: /logout\n",
      "    - uri:\n",
      "        prefix: /api/v1/products\n",
      "    route:\n",
      "    - destination:\n",
      "        host: productpage\n",
      "        port:\n",
      "          number: 9080\n"
     ]
    }
   ],
   "source": [
    "cat samples/bookinfo/networking/bookinfo-gateway.yaml"
   ]
  },
  {
   "cell_type": "code",
   "execution_count": 16,
   "metadata": {},
   "outputs": [
    {
     "name": "stdout",
     "output_type": "stream",
     "text": [
      "gateway.networking.istio.io/bookinfo-gateway created\n",
      "virtualservice.networking.istio.io/bookinfo created\n"
     ]
    }
   ],
   "source": [
    "kubectl apply -f samples/bookinfo/networking/bookinfo-gateway.yaml"
   ]
  },
  {
   "cell_type": "code",
   "execution_count": 17,
   "metadata": {},
   "outputs": [],
   "source": [
    "export PATH=$PATH:$(pwd)/bin"
   ]
  },
  {
   "cell_type": "code",
   "execution_count": 18,
   "metadata": {},
   "outputs": [
    {
     "name": "stdout",
     "output_type": "stream",
     "text": [
      "\n",
      "✔ No validation issues found when analyzing namespace: default.\n"
     ]
    }
   ],
   "source": [
    "istioctl analyze"
   ]
  },
  {
   "cell_type": "code",
   "execution_count": 19,
   "metadata": {},
   "outputs": [
    {
     "name": "stdout",
     "output_type": "stream",
     "text": [
      "INGRESS_PORT=31888\n",
      "SECURE_INGRESS_PORT=30314\n",
      "INGRESS_HOST=192.168.49.2\n"
     ]
    }
   ],
   "source": [
    "export INGRESS_PORT=$(kubectl -n istio-system get service istio-ingressgateway -o jsonpath='{.spec.ports[?(@.name==\"http2\")].nodePort}')\n",
    "export SECURE_INGRESS_PORT=$(kubectl -n istio-system get service istio-ingressgateway -o jsonpath='{.spec.ports[?(@.name==\"https\")].nodePort}')\n",
    "export INGRESS_HOST=$(hostname -i)\n",
    "echo INGRESS_PORT=$INGRESS_PORT\n",
    "echo SECURE_INGRESS_PORT=$SECURE_INGRESS_PORT\n",
    "echo INGRESS_HOST=$INGRESS_HOST"
   ]
  },
  {
   "cell_type": "code",
   "execution_count": 20,
   "metadata": {},
   "outputs": [
    {
     "name": "stdout",
     "output_type": "stream",
     "text": [
      "http://192.168.49.2:31888/productpage\n"
     ]
    }
   ],
   "source": [
    "export GATEWAY_URL=$INGRESS_HOST:$INGRESS_PORT\n",
    "echo \"http://$GATEWAY_URL/productpage\""
   ]
  },
  {
   "cell_type": "code",
   "execution_count": 22,
   "metadata": {},
   "outputs": [
    {
     "name": "stdout",
     "output_type": "stream",
     "text": [
      "serviceaccount/grafana unchanged\n",
      "configmap/grafana unchanged\n",
      "service/grafana unchanged\n",
      "deployment.apps/grafana configured\n",
      "configmap/istio-grafana-dashboards configured\n",
      "configmap/istio-services-grafana-dashboards configured\n",
      "deployment.apps/jaeger unchanged\n",
      "service/tracing unchanged\n",
      "service/zipkin unchanged\n",
      "service/jaeger-collector unchanged\n",
      "\u001b[33;1mWarning:\u001b[0m apiextensions.k8s.io/v1beta1 CustomResourceDefinition is deprecated in v1.16+, unavailable in v1.22+; use apiextensions.k8s.io/v1 CustomResourceDefinition\n",
      "customresourcedefinition.apiextensions.k8s.io/monitoringdashboards.monitoring.kiali.io unchanged\n",
      "serviceaccount/kiali unchanged\n",
      "configmap/kiali unchanged\n",
      "clusterrole.rbac.authorization.k8s.io/kiali-viewer unchanged\n",
      "clusterrole.rbac.authorization.k8s.io/kiali unchanged\n",
      "clusterrolebinding.rbac.authorization.k8s.io/kiali unchanged\n",
      "service/kiali unchanged\n",
      "deployment.apps/kiali unchanged\n",
      "monitoringdashboard.monitoring.kiali.io/envoy created\n",
      "monitoringdashboard.monitoring.kiali.io/go created\n",
      "monitoringdashboard.monitoring.kiali.io/kiali created\n",
      "monitoringdashboard.monitoring.kiali.io/micrometer-1.0.6-jvm-pool created\n",
      "monitoringdashboard.monitoring.kiali.io/micrometer-1.0.6-jvm created\n",
      "monitoringdashboard.monitoring.kiali.io/micrometer-1.1-jvm created\n",
      "monitoringdashboard.monitoring.kiali.io/microprofile-1.1 created\n",
      "monitoringdashboard.monitoring.kiali.io/microprofile-x.y created\n",
      "monitoringdashboard.monitoring.kiali.io/nodejs created\n",
      "monitoringdashboard.monitoring.kiali.io/quarkus created\n",
      "monitoringdashboard.monitoring.kiali.io/springboot-jvm-pool created\n",
      "monitoringdashboard.monitoring.kiali.io/springboot-jvm created\n",
      "monitoringdashboard.monitoring.kiali.io/springboot-tomcat created\n",
      "monitoringdashboard.monitoring.kiali.io/thorntail created\n",
      "monitoringdashboard.monitoring.kiali.io/tomcat created\n",
      "monitoringdashboard.monitoring.kiali.io/vertx-client created\n",
      "monitoringdashboard.monitoring.kiali.io/vertx-eventbus created\n",
      "monitoringdashboard.monitoring.kiali.io/vertx-jvm created\n",
      "monitoringdashboard.monitoring.kiali.io/vertx-pool created\n",
      "monitoringdashboard.monitoring.kiali.io/vertx-server created\n",
      "serviceaccount/prometheus unchanged\n",
      "configmap/prometheus unchanged\n",
      "clusterrole.rbac.authorization.k8s.io/prometheus unchanged\n",
      "clusterrolebinding.rbac.authorization.k8s.io/prometheus unchanged\n",
      "service/prometheus unchanged\n",
      "deployment.apps/prometheus configured\n"
     ]
    }
   ],
   "source": [
    "kubectl apply -f samples/addons"
   ]
  },
  {
   "cell_type": "code",
   "execution_count": 24,
   "metadata": {},
   "outputs": [
    {
     "name": "stdout",
     "output_type": "stream",
     "text": [
      "http://192.168.49.2:20001/kiali\n",
      "Failed to open browser; open http://192.168.49.2:20001/kiali in your browser.\n",
      "\n"
     ]
    }
   ],
   "source": [
    "istioctl dashboard kiali --address $(hostname -i) | sed s/localhost/$(hostname -i)/"
   ]
  },
  {
   "cell_type": "markdown",
   "metadata": {},
   "source": [
    "## Cleanup"
   ]
  },
  {
   "cell_type": "code",
   "execution_count": 26,
   "metadata": {},
   "outputs": [
    {
     "name": "stdout",
     "output_type": "stream",
     "text": [
      "\u001b[33;1mWarning:\u001b[0m apiextensions.k8s.io/v1beta1 CustomResourceDefinition is deprecated in v1.16+, unavailable in v1.22+; use apiextensions.k8s.io/v1 CustomResourceDefinition\n",
      "Error from server (NotFound): error when deleting \"samples/addons/grafana.yaml\": serviceaccounts \"grafana\" not found\n",
      "Error from server (NotFound): error when deleting \"samples/addons/grafana.yaml\": configmaps \"grafana\" not found\n",
      "Error from server (NotFound): error when deleting \"samples/addons/grafana.yaml\": services \"grafana\" not found\n",
      "Error from server (NotFound): error when deleting \"samples/addons/grafana.yaml\": deployments.apps \"grafana\" not found\n",
      "Error from server (NotFound): error when deleting \"samples/addons/grafana.yaml\": configmaps \"istio-grafana-dashboards\" not found\n",
      "Error from server (NotFound): error when deleting \"samples/addons/grafana.yaml\": configmaps \"istio-services-grafana-dashboards\" not found\n",
      "Error from server (NotFound): error when deleting \"samples/addons/jaeger.yaml\": deployments.apps \"jaeger\" not found\n",
      "Error from server (NotFound): error when deleting \"samples/addons/jaeger.yaml\": services \"tracing\" not found\n",
      "Error from server (NotFound): error when deleting \"samples/addons/jaeger.yaml\": services \"zipkin\" not found\n",
      "Error from server (NotFound): error when deleting \"samples/addons/jaeger.yaml\": services \"jaeger-collector\" not found\n",
      "Error from server (NotFound): error when deleting \"samples/addons/kiali.yaml\": customresourcedefinitions.apiextensions.k8s.io \"monitoringdashboards.monitoring.kiali.io\" not found\n",
      "Error from server (NotFound): error when deleting \"samples/addons/kiali.yaml\": serviceaccounts \"kiali\" not found\n",
      "Error from server (NotFound): error when deleting \"samples/addons/kiali.yaml\": configmaps \"kiali\" not found\n",
      "Error from server (NotFound): error when deleting \"samples/addons/kiali.yaml\": clusterroles.rbac.authorization.k8s.io \"kiali-viewer\" not found\n",
      "Error from server (NotFound): error when deleting \"samples/addons/kiali.yaml\": clusterroles.rbac.authorization.k8s.io \"kiali\" not found\n",
      "Error from server (NotFound): error when deleting \"samples/addons/kiali.yaml\": clusterrolebindings.rbac.authorization.k8s.io \"kiali\" not found\n",
      "Error from server (NotFound): error when deleting \"samples/addons/kiali.yaml\": services \"kiali\" not found\n",
      "Error from server (NotFound): error when deleting \"samples/addons/kiali.yaml\": deployments.apps \"kiali\" not found\n",
      "Error from server (NotFound): error when deleting \"samples/addons/kiali.yaml\": the server could not find the requested resource (delete monitoringdashboards.monitoring.kiali.io envoy)\n",
      "Error from server (NotFound): error when deleting \"samples/addons/kiali.yaml\": the server could not find the requested resource (delete monitoringdashboards.monitoring.kiali.io go)\n",
      "Error from server (NotFound): error when deleting \"samples/addons/kiali.yaml\": the server could not find the requested resource (delete monitoringdashboards.monitoring.kiali.io kiali)\n",
      "Error from server (NotFound): error when deleting \"samples/addons/kiali.yaml\": the server could not find the requested resource (delete monitoringdashboards.monitoring.kiali.io micrometer-1.0.6-jvm-pool)\n",
      "Error from server (NotFound): error when deleting \"samples/addons/kiali.yaml\": the server could not find the requested resource (delete monitoringdashboards.monitoring.kiali.io micrometer-1.0.6-jvm)\n",
      "Error from server (NotFound): error when deleting \"samples/addons/kiali.yaml\": the server could not find the requested resource (delete monitoringdashboards.monitoring.kiali.io micrometer-1.1-jvm)\n",
      "Error from server (NotFound): error when deleting \"samples/addons/kiali.yaml\": the server could not find the requested resource (delete monitoringdashboards.monitoring.kiali.io microprofile-1.1)\n",
      "Error from server (NotFound): error when deleting \"samples/addons/kiali.yaml\": the server could not find the requested resource (delete monitoringdashboards.monitoring.kiali.io microprofile-x.y)\n",
      "Error from server (NotFound): error when deleting \"samples/addons/kiali.yaml\": the server could not find the requested resource (delete monitoringdashboards.monitoring.kiali.io nodejs)\n",
      "Error from server (NotFound): error when deleting \"samples/addons/kiali.yaml\": the server could not find the requested resource (delete monitoringdashboards.monitoring.kiali.io quarkus)\n",
      "Error from server (NotFound): error when deleting \"samples/addons/kiali.yaml\": the server could not find the requested resource (delete monitoringdashboards.monitoring.kiali.io springboot-jvm-pool)\n",
      "Error from server (NotFound): error when deleting \"samples/addons/kiali.yaml\": the server could not find the requested resource (delete monitoringdashboards.monitoring.kiali.io springboot-jvm)\n",
      "Error from server (NotFound): error when deleting \"samples/addons/kiali.yaml\": the server could not find the requested resource (delete monitoringdashboards.monitoring.kiali.io springboot-tomcat)\n",
      "Error from server (NotFound): error when deleting \"samples/addons/kiali.yaml\": the server could not find the requested resource (delete monitoringdashboards.monitoring.kiali.io thorntail)\n",
      "Error from server (NotFound): error when deleting \"samples/addons/kiali.yaml\": the server could not find the requested resource (delete monitoringdashboards.monitoring.kiali.io tomcat)\n",
      "Error from server (NotFound): error when deleting \"samples/addons/kiali.yaml\": the server could not find the requested resource (delete monitoringdashboards.monitoring.kiali.io vertx-client)\n",
      "Error from server (NotFound): error when deleting \"samples/addons/kiali.yaml\": the server could not find the requested resource (delete monitoringdashboards.monitoring.kiali.io vertx-eventbus)\n",
      "Error from server (NotFound): error when deleting \"samples/addons/kiali.yaml\": the server could not find the requested resource (delete monitoringdashboards.monitoring.kiali.io vertx-jvm)\n",
      "Error from server (NotFound): error when deleting \"samples/addons/kiali.yaml\": the server could not find the requested resource (delete monitoringdashboards.monitoring.kiali.io vertx-pool)\n",
      "Error from server (NotFound): error when deleting \"samples/addons/kiali.yaml\": the server could not find the requested resource (delete monitoringdashboards.monitoring.kiali.io vertx-server)\n",
      "Error from server (NotFound): error when deleting \"samples/addons/prometheus.yaml\": serviceaccounts \"prometheus\" not found\n",
      "Error from server (NotFound): error when deleting \"samples/addons/prometheus.yaml\": configmaps \"prometheus\" not found\n",
      "Error from server (NotFound): error when deleting \"samples/addons/prometheus.yaml\": clusterroles.rbac.authorization.k8s.io \"prometheus\" not found\n",
      "Error from server (NotFound): error when deleting \"samples/addons/prometheus.yaml\": clusterrolebindings.rbac.authorization.k8s.io \"prometheus\" not found\n",
      "Error from server (NotFound): error when deleting \"samples/addons/prometheus.yaml\": services \"prometheus\" not found\n",
      "Error from server (NotFound): error when deleting \"samples/addons/prometheus.yaml\": deployments.apps \"prometheus\" not found\n",
      "Error from server (NotFound): error when deleting \"samples/bookinfo/platform/kube/bookinfo.yaml\": services \"details\" not found\n",
      "Error from server (NotFound): error when deleting \"samples/bookinfo/platform/kube/bookinfo.yaml\": serviceaccounts \"bookinfo-details\" not found\n",
      "Error from server (NotFound): error when deleting \"samples/bookinfo/platform/kube/bookinfo.yaml\": deployments.apps \"details-v1\" not found\n",
      "Error from server (NotFound): error when deleting \"samples/bookinfo/platform/kube/bookinfo.yaml\": services \"ratings\" not found\n",
      "Error from server (NotFound): error when deleting \"samples/bookinfo/platform/kube/bookinfo.yaml\": serviceaccounts \"bookinfo-ratings\" not found\n",
      "Error from server (NotFound): error when deleting \"samples/bookinfo/platform/kube/bookinfo.yaml\": deployments.apps \"ratings-v1\" not found\n",
      "Error from server (NotFound): error when deleting \"samples/bookinfo/platform/kube/bookinfo.yaml\": services \"reviews\" not found\n",
      "Error from server (NotFound): error when deleting \"samples/bookinfo/platform/kube/bookinfo.yaml\": serviceaccounts \"bookinfo-reviews\" not found\n",
      "Error from server (NotFound): error when deleting \"samples/bookinfo/platform/kube/bookinfo.yaml\": deployments.apps \"reviews-v1\" not found\n",
      "Error from server (NotFound): error when deleting \"samples/bookinfo/platform/kube/bookinfo.yaml\": deployments.apps \"reviews-v2\" not found\n",
      "Error from server (NotFound): error when deleting \"samples/bookinfo/platform/kube/bookinfo.yaml\": deployments.apps \"reviews-v3\" not found\n",
      "Error from server (NotFound): error when deleting \"samples/bookinfo/platform/kube/bookinfo.yaml\": services \"productpage\" not found\n",
      "Error from server (NotFound): error when deleting \"samples/bookinfo/platform/kube/bookinfo.yaml\": serviceaccounts \"bookinfo-productpage\" not found\n",
      "Error from server (NotFound): error when deleting \"samples/bookinfo/platform/kube/bookinfo.yaml\": deployments.apps \"productpage-v1\" not found\n"
     ]
    },
    {
     "ename": "",
     "evalue": "1",
     "output_type": "error",
     "traceback": []
    }
   ],
   "source": [
    "kubectl delete -f samples/addons -f samples/bookinfo/platform/kube/bookinfo.yaml"
   ]
  },
  {
   "cell_type": "code",
   "execution_count": null,
   "metadata": {},
   "outputs": [],
   "source": []
  }
 ],
 "metadata": {
  "kernelspec": {
   "display_name": "Bash",
   "language": "bash",
   "name": "bash"
  },
  "language_info": {
   "codemirror_mode": "shell",
   "file_extension": ".sh",
   "mimetype": "text/x-sh",
   "name": "bash"
  }
 },
 "nbformat": 4,
 "nbformat_minor": 4
}
