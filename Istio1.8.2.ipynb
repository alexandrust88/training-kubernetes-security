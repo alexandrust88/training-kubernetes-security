{
 "cells": [
  {
   "cell_type": "markdown",
   "metadata": {},
   "source": [
    "**This notebook covered by the following [license](License.ipynb)  This note must not be removed**"
   ]
  },
  {
   "cell_type": "markdown",
   "metadata": {},
   "source": [
    "<div>\n",
    "<img src=\"https://istio.io/img/logo.png\" width=20% />\n",
    "</div>\n",
    "     \n",
    "# Istio"
   ]
  },
  {
   "cell_type": "code",
   "execution_count": 1,
   "metadata": {},
   "outputs": [],
   "source": [
    "ISTIO_VERSION=1.8.2"
   ]
  },
  {
   "cell_type": "code",
   "execution_count": 1,
   "metadata": {},
   "outputs": [
    {
     "name": "stdout",
     "output_type": "stream",
     "text": [
      "  % Total    % Received % Xferd  Average Speed   Time    Time     Time  Current\n",
      "                                 Dload  Upload   Total   Spent    Left  Speed\n",
      "  0     0    0     0    0     0      0      0 --:--:-- --:--:-- --:--:--     0\n",
      "100  4579  100  4579    0     0   4706      0 --:--:-- --:--:-- --:--:-- 19000\n",
      "\n",
      "Downloading istio-1.8.2 from https://github.com/istio/istio/releases/download/1.8.2/istio-1.8.2-linux-amd64.tar.gz ...\n",
      "\n",
      "Istio 1.8.2 Download Complete!\n",
      "\n",
      "Istio has been successfully downloaded into the istio-1.8.2 folder on your system.\n",
      "\n",
      "Next Steps:\n",
      "See https://istio.io/latest/docs/setup/install/ to add Istio to your Kubernetes cluster.\n",
      "\n",
      "To configure the istioctl client tool for your workstation,\n",
      "add the /minikube-host/training/notebooks/istio-1.8.2/bin directory to your environment path variable with:\n",
      "\t export PATH=\"$PATH:/minikube-host/training/notebooks/istio-1.8.2/bin\"\n",
      "\n",
      "Begin the Istio pre-installation check by running:\n",
      "\t istioctl x precheck \n",
      "\n",
      "Need more information? Visit https://istio.io/latest/docs/setup/install/ \n"
     ]
    }
   ],
   "source": [
    "curl -L https://git.io/getLatestIstio | sh -"
   ]
  },
  {
   "cell_type": "code",
   "execution_count": 3,
   "metadata": {},
   "outputs": [
    {
     "name": "stdout",
     "output_type": "stream",
     "text": [
      "bash: cd: istio-1.8.2: No such file or directory\n"
     ]
    },
    {
     "ename": "",
     "evalue": "1",
     "output_type": "error",
     "traceback": []
    }
   ],
   "source": [
    "cd istio-$ISTIO_VERSION"
   ]
  },
  {
   "cell_type": "code",
   "execution_count": 4,
   "metadata": {},
   "outputs": [
    {
     "name": "stdout",
     "output_type": "stream",
     "text": [
      "/minikube-host/training/notebooks/istio-1.8.2\n"
     ]
    }
   ],
   "source": [
    "pwd"
   ]
  },
  {
   "cell_type": "code",
   "execution_count": 5,
   "metadata": {},
   "outputs": [],
   "source": [
    "export PATH=$PWD/bin:$PATH"
   ]
  },
  {
   "cell_type": "code",
   "execution_count": 7,
   "metadata": {},
   "outputs": [
    {
     "name": "stdout",
     "output_type": "stream",
     "text": [
      "no running Istio pods in \"istio-system\"\n",
      "1.8.2\n"
     ]
    }
   ],
   "source": [
    "istioctl version"
   ]
  },
  {
   "cell_type": "code",
   "execution_count": 8,
   "metadata": {},
   "outputs": [
    {
     "name": "stdout",
     "output_type": "stream",
     "text": [
      "NAME              STATUS   AGE\n",
      "default           Active   20h\n",
      "kube-node-lease   Active   20h\n",
      "kube-public       Active   20h\n",
      "kube-system       Active   20h\n"
     ]
    }
   ],
   "source": [
    "kubectl get namespaces"
   ]
  },
  {
   "cell_type": "code",
   "execution_count": 9,
   "metadata": {},
   "outputs": [
    {
     "name": "stdout",
     "output_type": "stream",
     "text": [
      "namespace/istio-system created\n"
     ]
    }
   ],
   "source": [
    "kubectl create namespace istio-system"
   ]
  },
  {
   "cell_type": "code",
   "execution_count": 10,
   "metadata": {},
   "outputs": [
    {
     "name": "stdout",
     "output_type": "stream",
     "text": [
      "\u001b[32m✔\u001b[0m Istio core installed                                                          \n",
      "\u001b[32m✔\u001b[0m Istiod installed                                                              \n",
      "\u001b[32m✔\u001b[0m Egress gateways installed                                                     \n",
      "\u001b[32m✔\u001b[0m Ingress gateways installed                                                    \n",
      "\u001b[32m✔\u001b[0m Installation complete                                                         "
     ]
    }
   ],
   "source": [
    "istioctl install --set profile=demo -y"
   ]
  },
  {
   "cell_type": "code",
   "execution_count": 13,
   "metadata": {},
   "outputs": [
    {
     "name": "stdout",
     "output_type": "stream",
     "text": [
      "NAME                                        READY   STATUS    RESTARTS   AGE\n",
      "pod/istio-egressgateway-64d976b9b5-j4c6j    1/1     Running   0          92s\n",
      "pod/istio-ingressgateway-68c86b9fc8-8tdmg   1/1     Running   0          92s\n",
      "pod/istiod-5c986fb85b-ngjb7                 1/1     Running   0          110s\n",
      "\n",
      "NAME                           TYPE           CLUSTER-IP      EXTERNAL-IP     PORT(S)                                                                      AGE\n",
      "service/istio-egressgateway    ClusterIP      10.101.164.5    <none>          80/TCP,443/TCP,15443/TCP                                                     91s\n",
      "service/istio-ingressgateway   LoadBalancer   10.108.231.53   10.108.231.53   15021:32704/TCP,80:31888/TCP,443:30314/TCP,31400:30799/TCP,15443:31263/TCP   91s\n",
      "service/istiod                 ClusterIP      10.109.3.220    <none>          15010/TCP,15012/TCP,443/TCP,15014/TCP                                        110s\n",
      "\n",
      "NAME                                   READY   UP-TO-DATE   AVAILABLE   AGE\n",
      "deployment.apps/istio-egressgateway    1/1     1            1           92s\n",
      "deployment.apps/istio-ingressgateway   1/1     1            1           92s\n",
      "deployment.apps/istiod                 1/1     1            1           110s\n",
      "\n",
      "NAME                                              DESIRED   CURRENT   READY   AGE\n",
      "replicaset.apps/istio-egressgateway-64d976b9b5    1         1         1       92s\n",
      "replicaset.apps/istio-ingressgateway-68c86b9fc8   1         1         1       92s\n",
      "replicaset.apps/istiod-5c986fb85b                 1         1         1       110s\n"
     ]
    }
   ],
   "source": [
    "kubectl get all -n istio-system"
   ]
  },
  {
   "cell_type": "code",
   "execution_count": null,
   "metadata": {},
   "outputs": [],
   "source": []
  }
 ],
 "metadata": {
  "kernelspec": {
   "display_name": "Bash",
   "language": "bash",
   "name": "bash"
  },
  "language_info": {
   "codemirror_mode": "shell",
   "file_extension": ".sh",
   "mimetype": "text/x-sh",
   "name": "bash"
  }
 },
 "nbformat": 4,
 "nbformat_minor": 4
}
