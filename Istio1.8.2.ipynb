{
 "cells": [
  {
   "cell_type": "markdown",
   "metadata": {},
   "source": [
    "**This notebook covered by the following [license](License.ipynb)  This note must not be removed**"
   ]
  },
  {
   "cell_type": "markdown",
   "metadata": {},
   "source": [
    "<div>\n",
    "<img src=\"https://istio.io/img/logo.png\" width=20% />\n",
    "</div>\n",
    "     \n",
    "# Istio"
   ]
  },
  {
   "cell_type": "code",
   "execution_count": 5,
   "metadata": {},
   "outputs": [],
   "source": [
    "ISTIO_VERSION=1.12.0"
   ]
  },
  {
   "cell_type": "code",
   "execution_count": 3,
   "metadata": {},
   "outputs": [
    {
     "name": "stdout",
     "output_type": "stream",
     "text": [
      "  % Total    % Received % Xferd  Average Speed   Time    Time     Time  Current\n",
      "                                 Dload  Upload   Total   Spent    Left  Speed\n",
      "  0     0    0     0    0     0      0      0 --:--:--  0:00:02 --:--:--     0\n",
      "100  4549  100  4549    0     0   1734      0  0:00:02  0:00:02 --:--:--  1734\n",
      "\n",
      "Downloading istio-1.12.0 from https://github.com/istio/istio/releases/download/1.12.0/istio-1.12.0-linux-amd64.tar.gz ...\n",
      "\n",
      "Istio 1.12.0 Download Complete!\n",
      "\n",
      "Istio has been successfully downloaded into the istio-1.12.0 folder on your system.\n",
      "\n",
      "Next Steps:\n",
      "See https://istio.io/latest/docs/setup/install/ to add Istio to your Kubernetes cluster.\n",
      "\n",
      "To configure the istioctl client tool for your workstation,\n",
      "add the /minikube-host/notebooks/training-kubernetes-security/istio-1.12.0/bin directory to your environment path variable with:\n",
      "\t export PATH=\"$PATH:/minikube-host/notebooks/training-kubernetes-security/istio-1.12.0/bin\"\n",
      "\n",
      "Begin the Istio pre-installation check by running:\n",
      "\t istioctl x precheck \n",
      "\n",
      "Need more information? Visit https://istio.io/latest/docs/setup/install/ \n"
     ]
    }
   ],
   "source": [
    "curl -L https://git.io/getLatestIstio | sh -"
   ]
  },
  {
   "cell_type": "code",
   "execution_count": 6,
   "metadata": {},
   "outputs": [],
   "source": [
    "cd istio-$ISTIO_VERSION"
   ]
  },
  {
   "cell_type": "code",
   "execution_count": 7,
   "metadata": {},
   "outputs": [
    {
     "name": "stdout",
     "output_type": "stream",
     "text": [
      "/minikube-host/notebooks/training-kubernetes-security/istio-1.12.0\n"
     ]
    }
   ],
   "source": [
    "pwd"
   ]
  },
  {
   "cell_type": "code",
   "execution_count": 8,
   "metadata": {},
   "outputs": [],
   "source": [
    "export PATH=$PWD/bin:$PATH"
   ]
  },
  {
   "cell_type": "code",
   "execution_count": 9,
   "metadata": {},
   "outputs": [
    {
     "name": "stdout",
     "output_type": "stream",
     "text": [
      "no running Istio pods in \"istio-system\"\n",
      "1.12.0\n"
     ]
    }
   ],
   "source": [
    "istioctl version"
   ]
  },
  {
   "cell_type": "code",
   "execution_count": 10,
   "metadata": {},
   "outputs": [
    {
     "name": "stdout",
     "output_type": "stream",
     "text": [
      "NAME              STATUS   AGE\n",
      "default           Active   25h\n",
      "ingress-nginx     Active   124m\n",
      "kube-node-lease   Active   25h\n",
      "kube-public       Active   25h\n",
      "kube-system       Active   25h\n"
     ]
    }
   ],
   "source": [
    "kubectl get namespaces"
   ]
  },
  {
   "cell_type": "code",
   "execution_count": 11,
   "metadata": {},
   "outputs": [
    {
     "name": "stdout",
     "output_type": "stream",
     "text": [
      "namespace/istio-system created\n"
     ]
    }
   ],
   "source": [
    "kubectl create namespace istio-system"
   ]
  },
  {
   "cell_type": "code",
   "execution_count": 12,
   "metadata": {},
   "outputs": [
    {
     "name": "stdout",
     "output_type": "stream",
     "text": [
      "\u001b[32m✔\u001b[0m Istio core installed                                                          \n",
      "\u001b[32m✔\u001b[0m Istiod installed                                                              \n",
      "\u001b[32m✔\u001b[0m Egress gateways installed                                                     \n",
      "\u001b[32m✔\u001b[0m Ingress gateways installed                                                    \n",
      "\u001b[32m✔\u001b[0m Installation complete                                                         Making this installation the default for injection and validation.\n",
      "\n",
      "Thank you for installing Istio 1.12.  Please take a few minutes to tell us about your install/upgrade experience!  https://forms.gle/FegQbc9UvePd4Z9z7\n"
     ]
    }
   ],
   "source": [
    "istioctl install --set profile=demo -y"
   ]
  },
  {
   "cell_type": "code",
   "execution_count": 13,
   "metadata": {},
   "outputs": [
    {
     "name": "stdout",
     "output_type": "stream",
     "text": [
      "NAME                                       READY   STATUS    RESTARTS   AGE\n",
      "pod/istio-egressgateway-7f4864f59c-2gknh   1/1     Running   0          36s\n",
      "pod/istio-ingressgateway-55d9fb9f-r9zds    1/1     Running   0          36s\n",
      "pod/istiod-555d47cb65-g8g6c                1/1     Running   0          55s\n",
      "\n",
      "NAME                           TYPE           CLUSTER-IP      EXTERNAL-IP     PORT(S)                                                                      AGE\n",
      "service/istio-egressgateway    ClusterIP      10.105.80.14    <none>          80/TCP,443/TCP                                                               36s\n",
      "service/istio-ingressgateway   LoadBalancer   10.110.229.53   10.110.229.53   15021:30298/TCP,80:30784/TCP,443:32098/TCP,31400:32402/TCP,15443:30188/TCP   36s\n",
      "service/istiod                 ClusterIP      10.104.4.219    <none>          15010/TCP,15012/TCP,443/TCP,15014/TCP                                        55s\n",
      "\n",
      "NAME                                   READY   UP-TO-DATE   AVAILABLE   AGE\n",
      "deployment.apps/istio-egressgateway    1/1     1            1           36s\n",
      "deployment.apps/istio-ingressgateway   1/1     1            1           36s\n",
      "deployment.apps/istiod                 1/1     1            1           55s\n",
      "\n",
      "NAME                                             DESIRED   CURRENT   READY   AGE\n",
      "replicaset.apps/istio-egressgateway-7f4864f59c   1         1         1       36s\n",
      "replicaset.apps/istio-ingressgateway-55d9fb9f    1         1         1       36s\n",
      "replicaset.apps/istiod-555d47cb65                1         1         1       55s\n"
     ]
    }
   ],
   "source": [
    "kubectl get all -n istio-system"
   ]
  },
  {
   "cell_type": "code",
   "execution_count": null,
   "metadata": {},
   "outputs": [],
   "source": []
  }
 ],
 "metadata": {
  "kernelspec": {
   "display_name": "Bash",
   "language": "bash",
   "name": "bash"
  },
  "language_info": {
   "codemirror_mode": "shell",
   "file_extension": ".sh",
   "mimetype": "text/x-sh",
   "name": "bash"
  }
 },
 "nbformat": 4,
 "nbformat_minor": 4
}
