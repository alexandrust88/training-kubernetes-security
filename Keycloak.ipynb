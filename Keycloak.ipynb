{
 "cells": [
  {
   "cell_type": "markdown",
   "metadata": {},
   "source": [
    "**This notebook covered by the following [license](License.ipynb)  This note must not be removed**"
   ]
  },
  {
   "cell_type": "markdown",
   "metadata": {},
   "source": [
    "# Install Keycloak\n",
    "\n",
    "Following https://www.keycloak.org/getting-started/getting-started-kube\n",
    "\n",
    "and https://beyondthekube.com/identity-management-part-3-setting-up-oidc-authentication/\n",
    "\n",
    "We are using the new `networking.k8s.io/v1` Ingress apiVersion here, this assumes minikube v1.23.x  \n",
    "\n",
    "Create valid certificates for the ingress with [`mkcert`](MKCert.ipynb) first"
   ]
  },
  {
   "cell_type": "code",
   "execution_count": 136,
   "metadata": {},
   "outputs": [
    {
     "name": "stdout",
     "output_type": "stream",
     "text": [
      "/home/thomas/.local/share/mkcert\n",
      "rootCA-key.pem  rootCA.pem\n"
     ]
    }
   ],
   "source": [
    "CAROOT=$(mkcert -CAROOT)\n",
    "\n",
    "echo $CAROOT\n"
   ]
  },
  {
   "cell_type": "code",
   "execution_count": 137,
   "metadata": {},
   "outputs": [
    {
     "name": "stdout",
     "output_type": "stream",
     "text": [
      "rootCA-key.pem  rootCA.pem\n"
     ]
    }
   ],
   "source": [
    "ls $CAROOT"
   ]
  },
  {
   "cell_type": "code",
   "execution_count": 141,
   "metadata": {},
   "outputs": [],
   "source": [
    "mkdir -p $HOME/.minikube/certs\n"
   ]
  },
  {
   "cell_type": "code",
   "execution_count": 142,
   "metadata": {},
   "outputs": [],
   "source": [
    "cp $CAROOT/rootCA.pem $HOME/.minikube/certs/mkcert.pem"
   ]
  },
  {
   "cell_type": "code",
   "execution_count": 143,
   "metadata": {},
   "outputs": [
    {
     "name": "stdout",
     "output_type": "stream",
     "text": [
      "mkcert.pem\n"
     ]
    }
   ],
   "source": [
    "ls  $HOME/.minikube/certs/"
   ]
  },
  {
   "cell_type": "code",
   "execution_count": 144,
   "metadata": {},
   "outputs": [
    {
     "name": "stdout",
     "output_type": "stream",
     "text": [
      "😄  minikube v1.23.2 auf Ubuntu 20.04\n",
      "🎉  minikube 1.24.0 is available! Download it: https://github.com/kubernetes/minikube/releases/tag/v1.24.0\n",
      "💡  To disable this notice, run: 'minikube config set WantUpdateNotification false'\n",
      "\n",
      "✨  Automatically selected the docker driver. Other choices: kvm2, podman, none, ssh\n",
      "❗  Your cgroup does not allow setting memory.\n",
      "    ▪ More information: https://docs.docker.com/engine/install/linux-postinstall/#your-kernel-does-not-support-cgroup-swap-limit-capabilities\n",
      "👍  Starting control plane node minikube in cluster minikube\n",
      "🚜  Pulling base image ...\n",
      "🔥  Creating docker container (CPUs=8, Memory=8192MB) ...\u001b[K\u001b[K\u001b[K\u001b[K\u001b[K\u001b[K\u001b[K\u001b[K\u001b[K\u001b[K\u001b[K\u001b[K\u001b[K\u001b[K\u001b[K\u001b[K\u001b[K\u001b[K\u001b[K\u001b[K\u001b[K\u001b[K\u001b[K\u001b[K\u001b[K\u001b[K\u001b[K\u001b[K\u001b[K\u001b[K\u001b[K\u001b[K\u001b[K\u001b[K\u001b[K\u001b[K\u001b[K\u001b[K\u001b[K\u001b[K\u001b[K\u001b[K\u001b[K\u001b[K\u001b[K\u001b[K\u001b[K\u001b[K\u001b[K\u001b[K\u001b[K\u001b[K\u001b[K\u001b[K\u001b[K\u001b[K\u001b[K\u001b[K\u001b[K\u001b[K\u001b[K\u001b[K\u001b[K\u001b[K\u001b[K\u001b[K\u001b[K\u001b[K\u001b[K\u001b[K\u001b[K\u001b[K\u001b[K\u001b[K\u001b[K\u001b[K\u001b[K\u001b[K\u001b[K\u001b[K\u001b[K\u001b[K\u001b[K\u001b[K\u001b[K\u001b[K\u001b[K\u001b[K\u001b[K\u001b[K\u001b[K\u001b[K\u001b[K\u001b[K\u001b[K\u001b[K\u001b[K\u001b[K\u001b[K\u001b[K\u001b[K\u001b[K\u001b[K\u001b[K\u001b[K\u001b[K\u001b[K\u001b[K\u001b[K\u001b[K\u001b[K\u001b[K\u001b[K\u001b[K\u001b[K\u001b[K\u001b[K\u001b[K\u001b[K\u001b[K\u001b[K\u001b[K\u001b[K\u001b[K\u001b[K\u001b[K\u001b[K\u001b[K\u001b[K\u001b[K\u001b[K\u001b[K\u001b[K\u001b[K\u001b[K\u001b[K\u001b[K\u001b[K\u001b[K\u001b[K\u001b[K\u001b[K\u001b[K\u001b[K\u001b[K\u001b[K\u001b[K\u001b[K\u001b[K\u001b[K\u001b[K\u001b[K\u001b[K\u001b[K\u001b[K\u001b[K\u001b[K\u001b[K\u001b[K\u001b[K\u001b[K\u001b[K\u001b[K\u001b[K\u001b[K\u001b[K\u001b[K\u001b[K\u001b[K\u001b[K\u001b[K\u001b[K\u001b[K\u001b[K\u001b[K\u001b[K\u001b[K\u001b[K\u001b[K\u001b[K\u001b[K\u001b[K\u001b[K\u001b[K\n",
      "🐳  Vorbereiten von Kubernetes v1.22.2 auf Docker 20.10.8...\u001b[K\u001b[K\n",
      "    ▪ apiserver.oidc-client-id=kubernetes\n",
      "    ▪ apiserver.oidc-username-claim=email\n",
      "    ▪ apiserver.oidc-username-prefix=oidc:\n",
      "    ▪ apiserver.oidc-groups-claim=groups\n",
      "    ▪ apiserver.oidc-groups-prefix=oidc:\n",
      "    ▪ apiserver.oidc-issuer-url=https://keycloak-192-168-49-2.nip.io/auth/realms/myrealm\n",
      "    ▪ Generating certificates and keys ...\u001b[K\u001b[K\u001b[K\u001b[K\u001b[K\u001b[K\u001b[K\u001b[K\u001b[K\u001b[K\u001b[K\u001b[K\u001b[K\u001b[K\u001b[K\u001b[K\u001b[K\u001b[K\u001b[K\u001b[K\u001b[K\u001b[K\u001b[K\u001b[K\u001b[K\u001b[K\u001b[K\u001b[K\u001b[K\u001b[K\u001b[K\u001b[K\u001b[K\u001b[K\u001b[K\u001b[K\u001b[K\u001b[K\u001b[K\u001b[K\u001b[K\u001b[K\u001b[K\u001b[K\u001b[K\u001b[K\u001b[K\u001b[K\n",
      "    ▪ Booting up control plane ...\u001b[K\u001b[K\u001b[K\u001b[K\u001b[K\u001b[K\u001b[K\u001b[K\u001b[K\u001b[K\u001b[K\u001b[K\u001b[K\u001b[K\u001b[K\u001b[K\u001b[K\u001b[K\u001b[K\u001b[K\u001b[K\u001b[K\u001b[K\u001b[K\u001b[K\u001b[K\u001b[K\u001b[K\u001b[K\u001b[K\u001b[K\u001b[K\u001b[K\u001b[K\u001b[K\u001b[K\u001b[K\u001b[K\u001b[K\u001b[K\u001b[K\u001b[K\u001b[K\u001b[K\u001b[K\u001b[K\u001b[K\u001b[K\u001b[K\u001b[K\u001b[K\u001b[K\u001b[K\u001b[K\u001b[K\u001b[K\u001b[K\u001b[K\u001b[K\u001b[K\u001b[K\u001b[K\u001b[K\u001b[K\u001b[K\u001b[K\u001b[K\u001b[K\u001b[K\u001b[K\u001b[K\u001b[K\u001b[K\u001b[K\u001b[K\u001b[K\u001b[K\u001b[K\u001b[K\u001b[K\u001b[K\u001b[K\u001b[K\u001b[K\u001b[K\u001b[K\u001b[K\u001b[K\u001b[K\u001b[K\u001b[K\u001b[K\u001b[K\u001b[K\u001b[K\u001b[K\u001b[K\u001b[K\u001b[K\u001b[K\u001b[K\u001b[K\u001b[K\u001b[K\u001b[K\u001b[K\u001b[K\u001b[K\u001b[K\u001b[K\u001b[K\u001b[K\u001b[K\u001b[K\u001b[K\u001b[K\u001b[K\u001b[K\u001b[K\u001b[K\u001b[K\u001b[K\u001b[K\u001b[K\u001b[K\u001b[K\u001b[K\u001b[K\u001b[K\u001b[K\u001b[K\u001b[K\u001b[K\u001b[K\u001b[K\u001b[K\u001b[K\u001b[K\u001b[K\u001b[K\u001b[K\u001b[K\u001b[K\u001b[K\u001b[K\u001b[K\u001b[K\u001b[K\u001b[K\u001b[K\u001b[K\u001b[K\u001b[K\u001b[K\u001b[K\u001b[K\u001b[K\u001b[K\u001b[K\u001b[K\u001b[K\u001b[K\u001b[K\u001b[K\u001b[K\u001b[K\u001b[K\u001b[K\u001b[K\u001b[K\u001b[K\u001b[K\u001b[K\u001b[K\u001b[K\u001b[K\u001b[K\u001b[K\u001b[K\u001b[K\u001b[K\u001b[K\u001b[K\u001b[K\u001b[K\u001b[K\u001b[K\u001b[K\u001b[K\u001b[K\n",
      "    ▪ Configuring RBAC rules ...\u001b[K\u001b[K\u001b[K\u001b[K\u001b[K\u001b[K\u001b[K\u001b[K\u001b[K\u001b[K\u001b[K\u001b[K\u001b[K\u001b[K\u001b[K\u001b[K\u001b[K\u001b[K\u001b[K\u001b[K\u001b[K\u001b[K\u001b[K\u001b[K\n",
      "🔎  Verifying Kubernetes components...\n",
      "    ▪ Using image gcr.io/k8s-minikube/storage-provisioner:v5\n",
      "🌟  Enabled addons: storage-provisioner, default-storageclass\n",
      "🏄  Done! kubectl is now configured to use \"minikube\" cluster and \"default\" namespace by default\n"
     ]
    }
   ],
   "source": [
    "minikube start --cpus=8 --memory=8192 \\\n",
    "--extra-config=apiserver.oidc-client-id=kubernetes \\\n",
    "--extra-config=apiserver.oidc-username-claim=email \\\n",
    "--extra-config=apiserver.oidc-username-prefix=oidc: \\\n",
    "--extra-config=apiserver.oidc-groups-claim=groups \\\n",
    "--extra-config=apiserver.oidc-groups-prefix=oidc: \\\n",
    "--extra-config=apiserver.oidc-issuer-url=https://keycloak-192-168-49-2.nip.io/auth/realms/myrealm"
   ]
  },
  {
   "cell_type": "code",
   "execution_count": 129,
   "metadata": {},
   "outputs": [],
   "source": [
    "mkdir rootca"
   ]
  },
  {
   "cell_type": "code",
   "execution_count": 61,
   "metadata": {},
   "outputs": [],
   "source": [
    "cp rootca/rootCA.crt ~/.minikube/certs/nipio.pem"
   ]
  },
  {
   "cell_type": "code",
   "execution_count": 182,
   "metadata": {},
   "outputs": [
    {
     "name": "stdout",
     "output_type": "stream",
     "text": [
      "✋  Stopping node \"minikube\"  ...\n",
      "🛑  1 nodes stopped.\n",
      "😄  minikube v1.23.2 auf Ubuntu 20.04\n",
      "✨  Using the docker driver based on existing profile\n",
      "👍  Starting control plane node minikube in cluster minikube\n",
      "🚜  Pulling base image ...\n",
      "🔄  Restarting existing docker container for \"minikube\" ...\n",
      "🐳  Vorbereiten von Kubernetes v1.22.2 auf Docker 20.10.8...\u001b[K\u001b[K\u001b[K\u001b[K\u001b[K\u001b[K\u001b[K\u001b[K\u001b[K\u001b[K\u001b[K\u001b[K\u001b[K\u001b[K\u001b[K\u001b[K\u001b[K\u001b[K\u001b[K\u001b[K\u001b[K\u001b[K\u001b[K\u001b[K\u001b[K\u001b[K\u001b[K\u001b[K\u001b[K\u001b[K\u001b[K\u001b[K\u001b[K\u001b[K\u001b[K\u001b[K\u001b[K\u001b[K\u001b[K\u001b[K\u001b[K\u001b[K\u001b[K\u001b[K\u001b[K\u001b[K\u001b[K\u001b[K\u001b[K\u001b[K\u001b[K\u001b[K\u001b[K\u001b[K\u001b[K\u001b[K\u001b[K\u001b[K\u001b[K\u001b[K\u001b[K\u001b[K\u001b[K\u001b[K\u001b[K\u001b[K\u001b[K\u001b[K\u001b[K\u001b[K\u001b[K\u001b[K\u001b[K\u001b[K\u001b[K\u001b[K\u001b[K\u001b[K\u001b[K\u001b[K\u001b[K\u001b[K\u001b[K\u001b[K\u001b[K\u001b[K\u001b[K\u001b[K\u001b[K\u001b[K\u001b[K\u001b[K\u001b[K\u001b[K\u001b[K\u001b[K\u001b[K\u001b[K\u001b[K\u001b[K\u001b[K\u001b[K\u001b[K\u001b[K\u001b[K\u001b[K\u001b[K\u001b[K\u001b[K\u001b[K\u001b[K\u001b[K\u001b[K\u001b[K\u001b[K\u001b[K\u001b[K\u001b[K\u001b[K\u001b[K\u001b[K\u001b[K\u001b[K\u001b[K\u001b[K\u001b[K\u001b[K\u001b[K\u001b[K\u001b[K\u001b[K\u001b[K\u001b[K\u001b[K\u001b[K\u001b[K\u001b[K\u001b[K\u001b[K\u001b[K\u001b[K\u001b[K\u001b[K\u001b[K\u001b[K\u001b[K\u001b[K\u001b[K\u001b[K\u001b[K\u001b[K\u001b[K\u001b[K\u001b[K\u001b[K\u001b[K\u001b[K\u001b[K\u001b[K\u001b[K\u001b[K\u001b[K\u001b[K\u001b[K\u001b[K\u001b[K\u001b[K\u001b[K\u001b[K\u001b[K\u001b[K\u001b[K\u001b[K\u001b[K\u001b[K\u001b[K\u001b[K\u001b[K\u001b[K\u001b[K\u001b[K\u001b[K\u001b[K\u001b[K\u001b[K\u001b[K\u001b[K\u001b[K\u001b[K\u001b[K\u001b[K\u001b[K\u001b[K\u001b[K\u001b[K\u001b[K\u001b[K\u001b[K\u001b[K\u001b[K\u001b[K\u001b[K\u001b[K\u001b[K\u001b[K\u001b[K\u001b[K\u001b[K\u001b[K\u001b[K\u001b[K\u001b[K\u001b[K\u001b[K\u001b[K\u001b[K\u001b[K\u001b[K\u001b[K\u001b[K\u001b[K\u001b[K\u001b[K\u001b[K\u001b[K\u001b[K\u001b[K\u001b[K\u001b[K\u001b[K\u001b[K\u001b[K\u001b[K\u001b[K\u001b[K\u001b[K\u001b[K\u001b[K\u001b[K\u001b[K\u001b[K\u001b[K\u001b[K\u001b[K\u001b[K\u001b[K\u001b[K\u001b[K\u001b[K\u001b[K\u001b[K\u001b[K\n",
      "🔎  Verifying Kubernetes components...\n",
      "    ▪ Using image k8s.gcr.io/ingress-nginx/controller:v1.0.0-beta.3\n",
      "    ▪ Using image k8s.gcr.io/ingress-nginx/kube-webhook-certgen:v1.0\n",
      "    ▪ Using image gcr.io/k8s-minikube/storage-provisioner:v5\n",
      "    ▪ Using image k8s.gcr.io/ingress-nginx/kube-webhook-certgen:v1.0\n",
      "🔎  Verifying ingress addon...\n",
      "🌟  Enabled addons: storage-provisioner, default-storageclass, ingress\n",
      "🏄  Done! kubectl is now configured to use \"minikube\" cluster and \"default\" namespace by default\n"
     ]
    }
   ],
   "source": [
    "minikube stop\n",
    "minikube start --embed-certs"
   ]
  },
  {
   "cell_type": "code",
   "execution_count": 145,
   "metadata": {},
   "outputs": [
    {
     "name": "stdout",
     "output_type": "stream",
     "text": [
      "minikube version: v1.23.2\n",
      "commit: 0a0ad764652082477c00d51d2475284b5d39ceed\n"
     ]
    }
   ],
   "source": [
    "minikube version"
   ]
  },
  {
   "cell_type": "code",
   "execution_count": 146,
   "metadata": {},
   "outputs": [
    {
     "name": "stdout",
     "output_type": "stream",
     "text": [
      "|-----------------------------|----------|--------------|-----------------------|\n",
      "|         ADDON NAME          | PROFILE  |    STATUS    |      MAINTAINER       |\n",
      "|-----------------------------|----------|--------------|-----------------------|\n",
      "| ambassador                  | minikube | disabled     | unknown (third-party) |\n",
      "| auto-pause                  | minikube | disabled     | google                |\n",
      "| csi-hostpath-driver         | minikube | disabled     | kubernetes            |\n",
      "| dashboard                   | minikube | disabled     | kubernetes            |\n",
      "| default-storageclass        | minikube | enabled ✅   | kubernetes            |\n",
      "| efk                         | minikube | disabled     | unknown (third-party) |\n",
      "| freshpod                    | minikube | disabled     | google                |\n",
      "| gcp-auth                    | minikube | disabled     | google                |\n",
      "| gvisor                      | minikube | disabled     | google                |\n",
      "| helm-tiller                 | minikube | disabled     | unknown (third-party) |\n",
      "| ingress                     | minikube | disabled     | unknown (third-party) |\n",
      "| ingress-dns                 | minikube | disabled     | unknown (third-party) |\n",
      "| istio                       | minikube | disabled     | unknown (third-party) |\n",
      "| istio-provisioner           | minikube | disabled     | unknown (third-party) |\n",
      "| kubevirt                    | minikube | disabled     | unknown (third-party) |\n",
      "| logviewer                   | minikube | disabled     | google                |\n",
      "| metallb                     | minikube | disabled     | unknown (third-party) |\n",
      "| metrics-server              | minikube | disabled     | kubernetes            |\n",
      "| nvidia-driver-installer     | minikube | disabled     | google                |\n",
      "| nvidia-gpu-device-plugin    | minikube | disabled     | unknown (third-party) |\n",
      "| olm                         | minikube | disabled     | unknown (third-party) |\n",
      "| pod-security-policy         | minikube | disabled     | unknown (third-party) |\n",
      "| portainer                   | minikube | disabled     | portainer.io          |\n",
      "| registry                    | minikube | disabled     | google                |\n",
      "| registry-aliases            | minikube | disabled     | unknown (third-party) |\n",
      "| registry-creds              | minikube | disabled     | unknown (third-party) |\n",
      "| storage-provisioner         | minikube | enabled ✅   | kubernetes            |\n",
      "| storage-provisioner-gluster | minikube | disabled     | unknown (third-party) |\n",
      "| volumesnapshots             | minikube | disabled     | kubernetes            |\n",
      "|-----------------------------|----------|--------------|-----------------------|\n"
     ]
    }
   ],
   "source": [
    "minikube addons list"
   ]
  },
  {
   "cell_type": "code",
   "execution_count": 147,
   "metadata": {},
   "outputs": [
    {
     "name": "stdout",
     "output_type": "stream",
     "text": [
      "    ▪ Using image k8s.gcr.io/ingress-nginx/controller:v1.0.0-beta.3\n",
      "    ▪ Using image k8s.gcr.io/ingress-nginx/kube-webhook-certgen:v1.0\n",
      "    ▪ Using image k8s.gcr.io/ingress-nginx/kube-webhook-certgen:v1.0\n",
      "🔎  Verifying ingress addon...\n",
      "🌟  The 'ingress' addon is enabled\n"
     ]
    }
   ],
   "source": [
    "minikube addons enable ingress"
   ]
  },
  {
   "cell_type": "code",
   "execution_count": 148,
   "metadata": {},
   "outputs": [
    {
     "name": "stdout",
     "output_type": "stream",
     "text": [
      "|-----------------------------|----------|--------------|-----------------------|\n",
      "|         ADDON NAME          | PROFILE  |    STATUS    |      MAINTAINER       |\n",
      "|-----------------------------|----------|--------------|-----------------------|\n",
      "| ambassador                  | minikube | disabled     | unknown (third-party) |\n",
      "| auto-pause                  | minikube | disabled     | google                |\n",
      "| csi-hostpath-driver         | minikube | disabled     | kubernetes            |\n",
      "| dashboard                   | minikube | disabled     | kubernetes            |\n",
      "| default-storageclass        | minikube | enabled ✅   | kubernetes            |\n",
      "| efk                         | minikube | disabled     | unknown (third-party) |\n",
      "| freshpod                    | minikube | disabled     | google                |\n",
      "| gcp-auth                    | minikube | disabled     | google                |\n",
      "| gvisor                      | minikube | disabled     | google                |\n",
      "| helm-tiller                 | minikube | disabled     | unknown (third-party) |\n",
      "| ingress                     | minikube | enabled ✅   | unknown (third-party) |\n",
      "| ingress-dns                 | minikube | disabled     | unknown (third-party) |\n",
      "| istio                       | minikube | disabled     | unknown (third-party) |\n",
      "| istio-provisioner           | minikube | disabled     | unknown (third-party) |\n",
      "| kubevirt                    | minikube | disabled     | unknown (third-party) |\n",
      "| logviewer                   | minikube | disabled     | google                |\n",
      "| metallb                     | minikube | disabled     | unknown (third-party) |\n",
      "| metrics-server              | minikube | disabled     | kubernetes            |\n",
      "| nvidia-driver-installer     | minikube | disabled     | google                |\n",
      "| nvidia-gpu-device-plugin    | minikube | disabled     | unknown (third-party) |\n",
      "| olm                         | minikube | disabled     | unknown (third-party) |\n",
      "| pod-security-policy         | minikube | disabled     | unknown (third-party) |\n",
      "| portainer                   | minikube | disabled     | portainer.io          |\n",
      "| registry                    | minikube | disabled     | google                |\n",
      "| registry-aliases            | minikube | disabled     | unknown (third-party) |\n",
      "| registry-creds              | minikube | disabled     | unknown (third-party) |\n",
      "| storage-provisioner         | minikube | enabled ✅   | kubernetes            |\n",
      "| storage-provisioner-gluster | minikube | disabled     | unknown (third-party) |\n",
      "| volumesnapshots             | minikube | disabled     | kubernetes            |\n",
      "|-----------------------------|----------|--------------|-----------------------|\n"
     ]
    }
   ],
   "source": [
    "minikube addons list"
   ]
  },
  {
   "cell_type": "code",
   "execution_count": 172,
   "metadata": {},
   "outputs": [
    {
     "name": "stdout",
     "output_type": "stream",
     "text": [
      "namespace/keycloak created\n"
     ]
    }
   ],
   "source": [
    "kubectl create namespace keycloak"
   ]
  },
  {
   "cell_type": "code",
   "execution_count": 186,
   "metadata": {},
   "outputs": [
    {
     "name": "stdout",
     "output_type": "stream",
     "text": [
      "Context \"minikube\" modified.\n"
     ]
    }
   ],
   "source": [
    "kubectl config set-context --current --namespace=keycloak"
   ]
  },
  {
   "cell_type": "code",
   "execution_count": 150,
   "metadata": {},
   "outputs": [
    {
     "name": "stdout",
     "output_type": "stream",
     "text": [
      "_wildcard.nip.io-key.pem  _wildcard.nip.io.pem\n"
     ]
    }
   ],
   "source": [
    "ls certs"
   ]
  },
  {
   "cell_type": "code",
   "execution_count": 152,
   "metadata": {},
   "outputs": [
    {
     "name": "stdout",
     "output_type": "stream",
     "text": [
      "secret/nipio-tls created\n"
     ]
    }
   ],
   "source": [
    "kubectl create secret tls nipio-tls -n kube-system \\\n",
    "  --cert=certs/_wildcard.nip.io.pem \\\n",
    "  --key=certs/_wildcard.nip.io-key.pem"
   ]
  },
  {
   "cell_type": "code",
   "execution_count": 153,
   "metadata": {
    "collapsed": true,
    "jupyter": {
     "outputs_hidden": true
    }
   },
   "outputs": [
    {
     "name": "stdout",
     "output_type": "stream",
     "text": [
      "-- Enter custom cert(format is \"namespace/secret\"): ✅  ingress was successfully configured\n"
     ]
    }
   ],
   "source": [
    "echo kube-system/nipio-tls | minikube addons configure ingress"
   ]
  },
  {
   "cell_type": "code",
   "execution_count": 154,
   "metadata": {},
   "outputs": [
    {
     "name": "stdout",
     "output_type": "stream",
     "text": [
      "    ▪ Using image k8s.gcr.io/ingress-nginx/controller:v1.0.0-beta.3\n",
      "    ▪ Using image k8s.gcr.io/ingress-nginx/kube-webhook-certgen:v1.0\n",
      "    ▪ Using image k8s.gcr.io/ingress-nginx/kube-webhook-certgen:v1.0\n",
      "🌑  \"The 'ingress' addon is disabled\n",
      "    ▪ Using image k8s.gcr.io/ingress-nginx/controller:v1.0.0-beta.3\n",
      "    ▪ Using image k8s.gcr.io/ingress-nginx/kube-webhook-certgen:v1.0\n",
      "    ▪ Using image k8s.gcr.io/ingress-nginx/kube-webhook-certgen:v1.0\n",
      "🔎  Verifying ingress addon...\n",
      "🌟  The 'ingress' addon is enabled\n"
     ]
    }
   ],
   "source": [
    "minikube addons disable ingress\n",
    "minikube addons enable ingress"
   ]
  },
  {
   "cell_type": "code",
   "execution_count": 166,
   "metadata": {},
   "outputs": [
    {
     "name": "stdout",
     "output_type": "stream",
     "text": [
      "ingress-nginx-controller-5898cbf9cf-zcdrh\n"
     ]
    }
   ],
   "source": [
    "export INGRESS_NGINX_CONTROLLER=$(kubectl get pods -n ingress-nginx -l app.kubernetes.io/component=controller -o jsonpath='{.items[0].metadata.name}')\n",
    "echo $INGRESS_NGINX_CONTROLLER"
   ]
  },
  {
   "cell_type": "code",
   "execution_count": 169,
   "metadata": {},
   "outputs": [
    {
     "name": "stdout",
     "output_type": "stream",
     "text": [
      "\tssl_certificate     /etc/ingress-controller/ssl/kube-system-nipio-tls.pem;\n",
      "\tssl_certificate_key /etc/ingress-controller/ssl/kube-system-nipio-tls.pem;\n"
     ]
    }
   ],
   "source": [
    "kubectl exec -n ingress-nginx  $INGRESS_NGINX_CONTROLLER -- grep pem /etc/nginx/nginx.conf"
   ]
  },
  {
   "cell_type": "code",
   "execution_count": 170,
   "metadata": {},
   "outputs": [
    {
     "name": "stdout",
     "output_type": "stream",
     "text": [
      "Certificate:\n",
      "    Data:\n",
      "        Version: 3 (0x2)\n",
      "        Serial Number:\n",
      "            6c:27:2b:b4:c2:ec:f1:ce:97:23:70:6d:aa:c5:02:2d\n",
      "        Signature Algorithm: sha256WithRSAEncryption\n",
      "        Issuer: O = mkcert development CA, OU = thomas@hermione, CN = mkcert thomas@hermione\n",
      "        Validity\n",
      "            Not Before: Nov 14 15:45:25 2021 GMT\n",
      "            Not After : Feb 14 15:45:25 2024 GMT\n",
      "        Subject: O = mkcert development certificate, OU = thomas@hermione\n",
      "        Subject Public Key Info:\n",
      "            Public Key Algorithm: rsaEncryption\n",
      "                RSA Public-Key: (2048 bit)\n",
      "                Modulus:\n",
      "                    00:cd:2b:82:c2:ea:eb:79:e6:40:19:17:9c:e3:69:\n",
      "                    fe:3d:d7:9f:a2:da:38:ab:74:2a:92:c1:80:76:af:\n",
      "                    39:99:8c:fa:fd:f0:ad:79:8b:d7:9a:be:01:06:02:\n",
      "                    47:41:01:9f:af:ca:ef:d1:52:41:6e:c0:97:4f:b3:\n",
      "                    95:f2:ce:fb:e6:d9:b4:8d:87:9b:ef:a8:2e:bb:71:\n",
      "                    15:03:c6:07:11:00:87:a0:1b:75:6f:fe:85:f3:c8:\n",
      "                    4b:a9:74:be:bb:6c:8e:63:8e:17:d4:42:07:3a:0e:\n",
      "                    b8:42:67:47:fe:29:74:bc:65:23:31:e7:45:98:31:\n",
      "                    c3:ed:7b:25:4c:09:3d:38:c5:6b:80:b0:0d:99:45:\n",
      "                    be:16:d1:1a:d0:1e:c2:47:0c:d8:aa:d2:82:1e:08:\n",
      "                    88:ab:04:81:d8:4e:4d:c7:f1:c5:a7:c8:e6:8e:31:\n",
      "                    6e:de:ad:98:e7:a3:f9:37:ac:d4:94:1a:e0:71:5e:\n",
      "                    fb:d1:f0:25:f4:3d:d8:c0:1e:b1:c4:2b:5b:88:de:\n",
      "                    c9:e5:ff:2b:fd:5e:f8:0b:70:20:62:7c:32:41:25:\n",
      "                    47:81:78:65:df:40:50:97:85:3c:a3:44:91:cb:a8:\n",
      "                    06:01:9e:91:84:55:6f:14:ea:7c:0c:7e:5d:60:6c:\n",
      "                    36:21:f9:98:08:92:eb:71:8a:9d:6c:53:e5:be:54:\n",
      "                    a9:69\n",
      "                Exponent: 65537 (0x10001)\n",
      "        X509v3 extensions:\n",
      "            X509v3 Key Usage: critical\n",
      "                Digital Signature, Key Encipherment\n",
      "            X509v3 Extended Key Usage: \n",
      "                TLS Web Server Authentication\n",
      "            X509v3 Authority Key Identifier: \n",
      "                keyid:8E:93:67:AC:25:32:23:AD:49:F9:79:3C:AA:76:E4:6A:6D:F9:09:BE\n",
      "\n",
      "            X509v3 Subject Alternative Name: \n",
      "                DNS:*.nip.io\n",
      "    Signature Algorithm: sha256WithRSAEncryption\n",
      "         01:2a:d6:43:f2:fe:8e:50:a2:5b:b2:bd:98:78:d2:9f:40:d2:\n",
      "         36:c0:3d:7b:f6:2e:9a:7e:e0:8e:5f:63:39:cd:bd:af:e8:db:\n",
      "         61:86:44:08:4d:23:4a:84:b1:3b:c6:9d:50:c6:c0:63:27:a9:\n",
      "         0a:10:11:62:f6:43:c6:12:51:df:fa:93:96:41:ea:18:a3:78:\n",
      "         e7:b4:bc:d6:85:d3:88:93:c1:ef:1f:05:34:50:77:2c:7a:db:\n",
      "         7d:a7:4f:95:84:3f:70:f7:b1:8e:93:8a:86:e8:83:a9:e1:55:\n",
      "         df:e9:0d:4b:f4:a8:d0:83:95:5f:a8:42:dd:2c:f8:ea:f2:fe:\n",
      "         eb:38:07:b1:7c:be:7a:1e:f1:76:61:09:b0:bb:06:6a:bb:56:\n",
      "         f1:bc:a8:12:5d:25:6f:0d:ba:9a:a0:df:32:cb:aa:7a:81:20:\n",
      "         89:7b:06:31:5d:38:10:f2:a8:ac:50:74:b2:b1:a0:a8:68:b3:\n",
      "         c3:48:79:39:0d:ce:6d:e7:bd:3b:ab:10:0a:33:3d:f4:0f:7a:\n",
      "         16:a2:8a:ce:59:33:a2:07:80:8b:03:fb:fa:82:fd:1c:21:c0:\n",
      "         ac:15:7d:e0:3f:79:4f:d8:12:05:6d:54:61:ba:9d:58:32:a3:\n",
      "         fb:6b:fd:41:05:55:c5:08:01:b9:0c:fe:3a:3a:cd:38:b0:2a:\n",
      "         d2:db:03:94:c3:91:0b:63:c6:48:9c:12:ba:1c:a4:8a:fc:cf:\n",
      "         83:be:58:1f:64:ca:77:01:96:df:64:02:91:f7:7b:6a:da:8d:\n",
      "         b5:b4:91:e8:9e:45:87:fa:30:0f:13:85:74:a5:b6:02:4a:76:\n",
      "         4e:35:e0:93:9a:fc:04:dd:18:41:78:a0:c0:b8:c7:de:46:10:\n",
      "         b2:31:e5:17:94:53:6b:0d:14:50:f1:4a:7d:1d:c1:12:8b:50:\n",
      "         b5:59:42:6e:02:31:3c:6b:83:e1:f0:fb:e3:0f:6f:83:4e:3b:\n",
      "         b1:47:61:ea:14:e0:eb:05:06:6a:08:a8:99:85:47:7a:2d:fa:\n",
      "         de:0b:ac:64:fc:14\n"
     ]
    }
   ],
   "source": [
    "kubectl exec -n ingress-nginx  $INGRESS_NGINX_CONTROLLER -- \\\n",
    "   openssl x509 -in /etc/ingress-controller/ssl/kube-system-nipio-tls.pem -noout -text"
   ]
  },
  {
   "cell_type": "markdown",
   "metadata": {},
   "source": [
    "## Install keycloak"
   ]
  },
  {
   "cell_type": "code",
   "execution_count": 173,
   "metadata": {},
   "outputs": [
    {
     "name": "stdout",
     "output_type": "stream",
     "text": [
      "  % Total    % Received % Xferd  Average Speed   Time    Time     Time  Current\n",
      "                                 Dload  Upload   Total   Spent    Left  Speed\n",
      "100   962  100   962    0     0   3073      0 --:--:-- --:--:-- --:--:--  3073\n",
      "service/keycloak created\n",
      "deployment.apps/keycloak created\n"
     ]
    }
   ],
   "source": [
    "curl -q https://raw.githubusercontent.com/keycloak/keycloak-quickstarts/latest/kubernetes-examples/keycloak.yaml | \\\n",
    "   sed s/default/keycloak/ | kubectl create -f -"
   ]
  },
  {
   "cell_type": "code",
   "execution_count": 185,
   "metadata": {},
   "outputs": [
    {
     "name": "stdout",
     "output_type": "stream",
     "text": [
      "NAME                            READY   STATUS    RESTARTS        AGE\n",
      "pod/keycloak-6655d58b6c-cqprk   1/1     Running   1 (3m20s ago)   75m\n",
      "\n",
      "NAME               TYPE           CLUSTER-IP       EXTERNAL-IP      PORT(S)          AGE\n",
      "service/keycloak   LoadBalancer   10.106.150.139   10.106.150.139   8080:31636/TCP   75m\n",
      "\n",
      "NAME                       READY   UP-TO-DATE   AVAILABLE   AGE\n",
      "deployment.apps/keycloak   1/1     1            1           75m\n",
      "\n",
      "NAME                                  DESIRED   CURRENT   READY   AGE\n",
      "replicaset.apps/keycloak-6655d58b6c   1         1         1       75m\n"
     ]
    }
   ],
   "source": [
    "kubectl get all"
   ]
  },
  {
   "cell_type": "markdown",
   "metadata": {},
   "source": [
    "run in a separate window\n",
    "\n",
    "```\n",
    "minikube tunnel\n",
    "Status:\t\n",
    "\tmachine: minikube\n",
    "\tpid: 554606\n",
    "\troute: 10.96.0.0/12 -> 192.168.49.2\n",
    "\tminikube: Running\n",
    "\tservices: [keycloak]\n",
    "    errors: \n",
    "\t\tminikube: no errors\n",
    "\t\trouter: no errors\n",
    "\t\tloadbalancer emulator: no errors\n",
    "...\n",
    "```"
   ]
  },
  {
   "cell_type": "code",
   "execution_count": 187,
   "metadata": {},
   "outputs": [
    {
     "name": "stdout",
     "output_type": "stream",
     "text": [
      "keycloak-192-168-49-2.nip.io\n"
     ]
    }
   ],
   "source": [
    "KEYCLOAK_HOST=keycloak-$(minikube ip | sed s/\\\\./-/g).nip.io\n",
    "echo $KEYCLOAK_HOST"
   ]
  },
  {
   "cell_type": "markdown",
   "metadata": {},
   "source": [
    "Ingress version\n",
    "\n",
    "https://kubernetes.io/docs/concepts/services-networking/ingress/"
   ]
  },
  {
   "cell_type": "code",
   "execution_count": 176,
   "metadata": {},
   "outputs": [
    {
     "name": "stdout",
     "output_type": "stream",
     "text": [
      "ingress.networking.k8s.io/keycloak created\n"
     ]
    }
   ],
   "source": [
    "kubectl apply -f - <<EOF\n",
    "apiVersion: networking.k8s.io/v1 ## new in 1.22\n",
    "kind: Ingress\n",
    "metadata:\n",
    "  name: keycloak\n",
    "  namespace: keycloak\n",
    "spec:\n",
    "  tls:\n",
    "    - hosts:\n",
    "      - $KEYCLOAK_HOST\n",
    "      secretName: keycloak-tls\n",
    "  rules:\n",
    "  - host: $KEYCLOAK_HOST\n",
    "    http:\n",
    "      paths:\n",
    "      - pathType: Prefix\n",
    "        path: \"/\"\n",
    "        backend:\n",
    "          service:\n",
    "            name: keycloak\n",
    "            port: \n",
    "              number: 8080\n",
    "EOF"
   ]
  },
  {
   "cell_type": "code",
   "execution_count": 178,
   "metadata": {},
   "outputs": [
    {
     "name": "stdout",
     "output_type": "stream",
     "text": [
      "apiVersion: networking.k8s.io/v1\n",
      "kind: Ingress\n",
      "metadata:\n",
      "  annotations:\n",
      "    kubectl.kubernetes.io/last-applied-configuration: |\n",
      "      {\"apiVersion\":\"networking.k8s.io/v1\",\"kind\":\"Ingress\",\"metadata\":{\"annotations\":{},\"name\":\"keycloak\",\"namespace\":\"keycloak\"},\"spec\":{\"rules\":[{\"host\":\"keycloak-192-168-49-2.nip.io\",\"http\":{\"paths\":[{\"backend\":{\"service\":{\"name\":\"keycloak\",\"port\":{\"number\":8080}}},\"path\":\"/\",\"pathType\":\"Prefix\"}]}}],\"tls\":[{\"hosts\":[\"keycloak-192-168-49-2.nip.io\"],\"secretName\":\"keycloak-tls\"}]}}\n",
      "  creationTimestamp: \"2021-11-14T16:41:18Z\"\n",
      "  generation: 1\n",
      "  name: keycloak\n",
      "  namespace: keycloak\n",
      "  resourceVersion: \"1555\"\n",
      "  uid: 94825b4c-db01-4d07-a7b8-39439607038e\n",
      "spec:\n",
      "  ingressClassName: nginx\n",
      "  rules:\n",
      "  - host: keycloak-192-168-49-2.nip.io\n",
      "    http:\n",
      "      paths:\n",
      "      - backend:\n",
      "          service:\n",
      "            name: keycloak\n",
      "            port:\n",
      "              number: 8080\n",
      "        path: /\n",
      "        pathType: Prefix\n",
      "  tls:\n",
      "  - hosts:\n",
      "    - keycloak-192-168-49-2.nip.io\n",
      "    secretName: keycloak-tls\n",
      "status:\n",
      "  loadBalancer: {}\n"
     ]
    }
   ],
   "source": [
    "kubectl get ingress keycloak -o yaml"
   ]
  },
  {
   "cell_type": "code",
   "execution_count": 179,
   "metadata": {},
   "outputs": [
    {
     "name": "stdout",
     "output_type": "stream",
     "text": [
      "\n",
      "Keycloak:                 https://keycloak-192-168-49-2.nip.io/auth\n",
      "Keycloak Admin Console:   https://keycloak-192-168-49-2.nip.io/auth/admin\n",
      "Keycloak Account Console: https://keycloak-192-168-49-2.nip.io/auth/realms/myrealm/account\n",
      "\n"
     ]
    }
   ],
   "source": [
    "KEYCLOAK_URL=https://$KEYCLOAK_HOST/auth &&\n",
    "echo \"\" &&\n",
    "echo \"Keycloak:                 $KEYCLOAK_URL\" &&\n",
    "echo \"Keycloak Admin Console:   $KEYCLOAK_URL/admin\" &&\n",
    "echo \"Keycloak Account Console: $KEYCLOAK_URL/realms/myrealm/account\" &&\n",
    "echo \"\""
   ]
  },
  {
   "cell_type": "code",
   "execution_count": 180,
   "metadata": {},
   "outputs": [
    {
     "name": "stdout",
     "output_type": "stream",
     "text": [
      "\u001b[0m\u001b[0m16:41:20,321 INFO  [org.jboss.resteasy.resteasy_jaxrs.i18n] (ServerService Thread Pool -- 60) RESTEASY002220: Adding singleton resource org.keycloak.services.resources.WelcomeResource from Application class org.keycloak.services.resources.KeycloakApplication\n",
      "\u001b[0m\u001b[0m16:41:20,321 INFO  [org.jboss.resteasy.resteasy_jaxrs.i18n] (ServerService Thread Pool -- 60) RESTEASY002210: Adding provider singleton org.keycloak.services.util.ObjectMapperResolver from Application class org.keycloak.services.resources.KeycloakApplication\n",
      "\u001b[0m\u001b[0m16:41:20,321 INFO  [org.jboss.resteasy.resteasy_jaxrs.i18n] (ServerService Thread Pool -- 60) RESTEASY002220: Adding singleton resource org.keycloak.services.resources.RobotsResource from Application class org.keycloak.services.resources.KeycloakApplication\n",
      "\u001b[0m\u001b[0m16:41:20,321 INFO  [org.jboss.resteasy.resteasy_jaxrs.i18n] (ServerService Thread Pool -- 60) RESTEASY002220: Adding singleton resource org.keycloak.services.resources.RealmsResource from Application class org.keycloak.services.resources.KeycloakApplication\n",
      "\u001b[0m\u001b[0m16:41:20,401 INFO  [org.wildfly.extension.undertow] (ServerService Thread Pool -- 60) WFLYUT0021: Registered web context: '/auth' for server 'default-server'\n",
      "\u001b[0m\u001b[0m16:41:20,485 INFO  [org.jboss.as.server] (ServerService Thread Pool -- 46) WFLYSRV0010: Deployed \"keycloak-server.war\" (runtime-name : \"keycloak-server.war\")\n",
      "\u001b[0m\u001b[0m16:41:20,521 INFO  [org.jboss.as.server] (Controller Boot Thread) WFLYSRV0212: Resuming server\n",
      "\u001b[0m\u001b[0m16:41:20,523 INFO  [org.jboss.as] (Controller Boot Thread) WFLYSRV0025: Keycloak 15.0.2 (WildFly Core 15.0.1.Final) started in 19515ms - Started 692 of 977 services (686 services are lazy, passive or on-demand)\n",
      "\u001b[0m\u001b[0m16:41:20,525 INFO  [org.jboss.as] (Controller Boot Thread) WFLYSRV0060: Http management interface listening on http://127.0.0.1:9990/management\n",
      "\u001b[0m\u001b[0m16:41:20,525 INFO  [org.jboss.as] (Controller Boot Thread) WFLYSRV0051: Admin console listening on http://127.0.0.1:9990\n"
     ]
    }
   ],
   "source": [
    "kubectl logs -l app=keycloak"
   ]
  },
  {
   "cell_type": "markdown",
   "metadata": {},
   "source": [
    "### Keycloak Realm\n",
    "\n",
    "We need to create a Keycloak realm and user following\n",
    "\n",
    "https://www.keycloak.org/getting-started/getting-started-kube\n",
    "\n",
    "We assume to use `myrealm` and `myuser` for the job\n",
    "\n",
    "![realm.png](realm.png)\n",
    "\n",
    "### Keycloak User\n",
    "\n",
    "Note after creating a the user `myuser` in the `myrealm` login to the user in the correct realm\n",
    "\n",
    "https://keycloak-192-168-49-2.nip.io/auth/realms/myrealm/account\n",
    "\n",
    "### Keycloak Client\n",
    "\n",
    "Finally a client needs to be created for the specific usecase identified by the client-id `kubernetes`.\n",
    "\n",
    "The redirect is relative to the browser, `kubelogin` \n",
    "- spawns a server on `localhost` port 8000\n",
    "- inserts the token into `.kube/config`\n",
    "- and terminates\n",
    "\n",
    "\n",
    "![kubernetes-client.png](kubernetes-client.png)\n"
   ]
  },
  {
   "cell_type": "code",
   "execution_count": 181,
   "metadata": {
    "collapsed": true,
    "jupyter": {
     "outputs_hidden": true
    }
   },
   "outputs": [
    {
     "name": "stdout",
     "output_type": "stream",
     "text": [
      "\u001b[1;39m{\n",
      "  \u001b[0m\u001b[34;1m\"issuer\"\u001b[0m\u001b[1;39m: \u001b[0m\u001b[0;32m\"https://keycloak-192-168-49-2.nip.io/auth/realms/myrealm\"\u001b[0m\u001b[1;39m,\n",
      "  \u001b[0m\u001b[34;1m\"authorization_endpoint\"\u001b[0m\u001b[1;39m: \u001b[0m\u001b[0;32m\"https://keycloak-192-168-49-2.nip.io/auth/realms/myrealm/protocol/openid-connect/auth\"\u001b[0m\u001b[1;39m,\n",
      "  \u001b[0m\u001b[34;1m\"token_endpoint\"\u001b[0m\u001b[1;39m: \u001b[0m\u001b[0;32m\"https://keycloak-192-168-49-2.nip.io/auth/realms/myrealm/protocol/openid-connect/token\"\u001b[0m\u001b[1;39m,\n",
      "  \u001b[0m\u001b[34;1m\"introspection_endpoint\"\u001b[0m\u001b[1;39m: \u001b[0m\u001b[0;32m\"https://keycloak-192-168-49-2.nip.io/auth/realms/myrealm/protocol/openid-connect/token/introspect\"\u001b[0m\u001b[1;39m,\n",
      "  \u001b[0m\u001b[34;1m\"userinfo_endpoint\"\u001b[0m\u001b[1;39m: \u001b[0m\u001b[0;32m\"https://keycloak-192-168-49-2.nip.io/auth/realms/myrealm/protocol/openid-connect/userinfo\"\u001b[0m\u001b[1;39m,\n",
      "  \u001b[0m\u001b[34;1m\"end_session_endpoint\"\u001b[0m\u001b[1;39m: \u001b[0m\u001b[0;32m\"https://keycloak-192-168-49-2.nip.io/auth/realms/myrealm/protocol/openid-connect/logout\"\u001b[0m\u001b[1;39m,\n",
      "  \u001b[0m\u001b[34;1m\"jwks_uri\"\u001b[0m\u001b[1;39m: \u001b[0m\u001b[0;32m\"https://keycloak-192-168-49-2.nip.io/auth/realms/myrealm/protocol/openid-connect/certs\"\u001b[0m\u001b[1;39m,\n",
      "  \u001b[0m\u001b[34;1m\"check_session_iframe\"\u001b[0m\u001b[1;39m: \u001b[0m\u001b[0;32m\"https://keycloak-192-168-49-2.nip.io/auth/realms/myrealm/protocol/openid-connect/login-status-iframe.html\"\u001b[0m\u001b[1;39m,\n",
      "  \u001b[0m\u001b[34;1m\"grant_types_supported\"\u001b[0m\u001b[1;39m: \u001b[0m\u001b[1;39m[\n",
      "    \u001b[0;32m\"authorization_code\"\u001b[0m\u001b[1;39m,\n",
      "    \u001b[0;32m\"implicit\"\u001b[0m\u001b[1;39m,\n",
      "    \u001b[0;32m\"refresh_token\"\u001b[0m\u001b[1;39m,\n",
      "    \u001b[0;32m\"password\"\u001b[0m\u001b[1;39m,\n",
      "    \u001b[0;32m\"client_credentials\"\u001b[0m\u001b[1;39m,\n",
      "    \u001b[0;32m\"urn:ietf:params:oauth:grant-type:device_code\"\u001b[0m\u001b[1;39m,\n",
      "    \u001b[0;32m\"urn:openid:params:grant-type:ciba\"\u001b[0m\u001b[1;39m\n",
      "  \u001b[1;39m]\u001b[0m\u001b[1;39m,\n",
      "  \u001b[0m\u001b[34;1m\"response_types_supported\"\u001b[0m\u001b[1;39m: \u001b[0m\u001b[1;39m[\n",
      "    \u001b[0;32m\"code\"\u001b[0m\u001b[1;39m,\n",
      "    \u001b[0;32m\"none\"\u001b[0m\u001b[1;39m,\n",
      "    \u001b[0;32m\"id_token\"\u001b[0m\u001b[1;39m,\n",
      "    \u001b[0;32m\"token\"\u001b[0m\u001b[1;39m,\n",
      "    \u001b[0;32m\"id_token token\"\u001b[0m\u001b[1;39m,\n",
      "    \u001b[0;32m\"code id_token\"\u001b[0m\u001b[1;39m,\n",
      "    \u001b[0;32m\"code token\"\u001b[0m\u001b[1;39m,\n",
      "    \u001b[0;32m\"code id_token token\"\u001b[0m\u001b[1;39m\n",
      "  \u001b[1;39m]\u001b[0m\u001b[1;39m,\n",
      "  \u001b[0m\u001b[34;1m\"subject_types_supported\"\u001b[0m\u001b[1;39m: \u001b[0m\u001b[1;39m[\n",
      "    \u001b[0;32m\"public\"\u001b[0m\u001b[1;39m,\n",
      "    \u001b[0;32m\"pairwise\"\u001b[0m\u001b[1;39m\n",
      "  \u001b[1;39m]\u001b[0m\u001b[1;39m,\n",
      "  \u001b[0m\u001b[34;1m\"id_token_signing_alg_values_supported\"\u001b[0m\u001b[1;39m: \u001b[0m\u001b[1;39m[\n",
      "    \u001b[0;32m\"PS384\"\u001b[0m\u001b[1;39m,\n",
      "    \u001b[0;32m\"ES384\"\u001b[0m\u001b[1;39m,\n",
      "    \u001b[0;32m\"RS384\"\u001b[0m\u001b[1;39m,\n",
      "    \u001b[0;32m\"HS256\"\u001b[0m\u001b[1;39m,\n",
      "    \u001b[0;32m\"HS512\"\u001b[0m\u001b[1;39m,\n",
      "    \u001b[0;32m\"ES256\"\u001b[0m\u001b[1;39m,\n",
      "    \u001b[0;32m\"RS256\"\u001b[0m\u001b[1;39m,\n",
      "    \u001b[0;32m\"HS384\"\u001b[0m\u001b[1;39m,\n",
      "    \u001b[0;32m\"ES512\"\u001b[0m\u001b[1;39m,\n",
      "    \u001b[0;32m\"PS256\"\u001b[0m\u001b[1;39m,\n",
      "    \u001b[0;32m\"PS512\"\u001b[0m\u001b[1;39m,\n",
      "    \u001b[0;32m\"RS512\"\u001b[0m\u001b[1;39m\n",
      "  \u001b[1;39m]\u001b[0m\u001b[1;39m,\n",
      "  \u001b[0m\u001b[34;1m\"id_token_encryption_alg_values_supported\"\u001b[0m\u001b[1;39m: \u001b[0m\u001b[1;39m[\n",
      "    \u001b[0;32m\"RSA-OAEP\"\u001b[0m\u001b[1;39m,\n",
      "    \u001b[0;32m\"RSA-OAEP-256\"\u001b[0m\u001b[1;39m,\n",
      "    \u001b[0;32m\"RSA1_5\"\u001b[0m\u001b[1;39m\n",
      "  \u001b[1;39m]\u001b[0m\u001b[1;39m,\n",
      "  \u001b[0m\u001b[34;1m\"id_token_encryption_enc_values_supported\"\u001b[0m\u001b[1;39m: \u001b[0m\u001b[1;39m[\n",
      "    \u001b[0;32m\"A256GCM\"\u001b[0m\u001b[1;39m,\n",
      "    \u001b[0;32m\"A192GCM\"\u001b[0m\u001b[1;39m,\n",
      "    \u001b[0;32m\"A128GCM\"\u001b[0m\u001b[1;39m,\n",
      "    \u001b[0;32m\"A128CBC-HS256\"\u001b[0m\u001b[1;39m,\n",
      "    \u001b[0;32m\"A192CBC-HS384\"\u001b[0m\u001b[1;39m,\n",
      "    \u001b[0;32m\"A256CBC-HS512\"\u001b[0m\u001b[1;39m\n",
      "  \u001b[1;39m]\u001b[0m\u001b[1;39m,\n",
      "  \u001b[0m\u001b[34;1m\"userinfo_signing_alg_values_supported\"\u001b[0m\u001b[1;39m: \u001b[0m\u001b[1;39m[\n",
      "    \u001b[0;32m\"PS384\"\u001b[0m\u001b[1;39m,\n",
      "    \u001b[0;32m\"ES384\"\u001b[0m\u001b[1;39m,\n",
      "    \u001b[0;32m\"RS384\"\u001b[0m\u001b[1;39m,\n",
      "    \u001b[0;32m\"HS256\"\u001b[0m\u001b[1;39m,\n",
      "    \u001b[0;32m\"HS512\"\u001b[0m\u001b[1;39m,\n",
      "    \u001b[0;32m\"ES256\"\u001b[0m\u001b[1;39m,\n",
      "    \u001b[0;32m\"RS256\"\u001b[0m\u001b[1;39m,\n",
      "    \u001b[0;32m\"HS384\"\u001b[0m\u001b[1;39m,\n",
      "    \u001b[0;32m\"ES512\"\u001b[0m\u001b[1;39m,\n",
      "    \u001b[0;32m\"PS256\"\u001b[0m\u001b[1;39m,\n",
      "    \u001b[0;32m\"PS512\"\u001b[0m\u001b[1;39m,\n",
      "    \u001b[0;32m\"RS512\"\u001b[0m\u001b[1;39m,\n",
      "    \u001b[0;32m\"none\"\u001b[0m\u001b[1;39m\n",
      "  \u001b[1;39m]\u001b[0m\u001b[1;39m,\n",
      "  \u001b[0m\u001b[34;1m\"request_object_signing_alg_values_supported\"\u001b[0m\u001b[1;39m: \u001b[0m\u001b[1;39m[\n",
      "    \u001b[0;32m\"PS384\"\u001b[0m\u001b[1;39m,\n",
      "    \u001b[0;32m\"ES384\"\u001b[0m\u001b[1;39m,\n",
      "    \u001b[0;32m\"RS384\"\u001b[0m\u001b[1;39m,\n",
      "    \u001b[0;32m\"HS256\"\u001b[0m\u001b[1;39m,\n",
      "    \u001b[0;32m\"HS512\"\u001b[0m\u001b[1;39m,\n",
      "    \u001b[0;32m\"ES256\"\u001b[0m\u001b[1;39m,\n",
      "    \u001b[0;32m\"RS256\"\u001b[0m\u001b[1;39m,\n",
      "    \u001b[0;32m\"HS384\"\u001b[0m\u001b[1;39m,\n",
      "    \u001b[0;32m\"ES512\"\u001b[0m\u001b[1;39m,\n",
      "    \u001b[0;32m\"PS256\"\u001b[0m\u001b[1;39m,\n",
      "    \u001b[0;32m\"PS512\"\u001b[0m\u001b[1;39m,\n",
      "    \u001b[0;32m\"RS512\"\u001b[0m\u001b[1;39m,\n",
      "    \u001b[0;32m\"none\"\u001b[0m\u001b[1;39m\n",
      "  \u001b[1;39m]\u001b[0m\u001b[1;39m,\n",
      "  \u001b[0m\u001b[34;1m\"request_object_encryption_alg_values_supported\"\u001b[0m\u001b[1;39m: \u001b[0m\u001b[1;39m[\n",
      "    \u001b[0;32m\"RSA-OAEP\"\u001b[0m\u001b[1;39m,\n",
      "    \u001b[0;32m\"RSA-OAEP-256\"\u001b[0m\u001b[1;39m,\n",
      "    \u001b[0;32m\"RSA1_5\"\u001b[0m\u001b[1;39m\n",
      "  \u001b[1;39m]\u001b[0m\u001b[1;39m,\n",
      "  \u001b[0m\u001b[34;1m\"request_object_encryption_enc_values_supported\"\u001b[0m\u001b[1;39m: \u001b[0m\u001b[1;39m[\n",
      "    \u001b[0;32m\"A256GCM\"\u001b[0m\u001b[1;39m,\n",
      "    \u001b[0;32m\"A192GCM\"\u001b[0m\u001b[1;39m,\n",
      "    \u001b[0;32m\"A128GCM\"\u001b[0m\u001b[1;39m,\n",
      "    \u001b[0;32m\"A128CBC-HS256\"\u001b[0m\u001b[1;39m,\n",
      "    \u001b[0;32m\"A192CBC-HS384\"\u001b[0m\u001b[1;39m,\n",
      "    \u001b[0;32m\"A256CBC-HS512\"\u001b[0m\u001b[1;39m\n",
      "  \u001b[1;39m]\u001b[0m\u001b[1;39m,\n",
      "  \u001b[0m\u001b[34;1m\"response_modes_supported\"\u001b[0m\u001b[1;39m: \u001b[0m\u001b[1;39m[\n",
      "    \u001b[0;32m\"query\"\u001b[0m\u001b[1;39m,\n",
      "    \u001b[0;32m\"fragment\"\u001b[0m\u001b[1;39m,\n",
      "    \u001b[0;32m\"form_post\"\u001b[0m\u001b[1;39m,\n",
      "    \u001b[0;32m\"query.jwt\"\u001b[0m\u001b[1;39m,\n",
      "    \u001b[0;32m\"fragment.jwt\"\u001b[0m\u001b[1;39m,\n",
      "    \u001b[0;32m\"form_post.jwt\"\u001b[0m\u001b[1;39m,\n",
      "    \u001b[0;32m\"jwt\"\u001b[0m\u001b[1;39m\n",
      "  \u001b[1;39m]\u001b[0m\u001b[1;39m,\n",
      "  \u001b[0m\u001b[34;1m\"registration_endpoint\"\u001b[0m\u001b[1;39m: \u001b[0m\u001b[0;32m\"https://keycloak-192-168-49-2.nip.io/auth/realms/myrealm/clients-registrations/openid-connect\"\u001b[0m\u001b[1;39m,\n",
      "  \u001b[0m\u001b[34;1m\"token_endpoint_auth_methods_supported\"\u001b[0m\u001b[1;39m: \u001b[0m\u001b[1;39m[\n",
      "    \u001b[0;32m\"private_key_jwt\"\u001b[0m\u001b[1;39m,\n",
      "    \u001b[0;32m\"client_secret_basic\"\u001b[0m\u001b[1;39m,\n",
      "    \u001b[0;32m\"client_secret_post\"\u001b[0m\u001b[1;39m,\n",
      "    \u001b[0;32m\"tls_client_auth\"\u001b[0m\u001b[1;39m,\n",
      "    \u001b[0;32m\"client_secret_jwt\"\u001b[0m\u001b[1;39m\n",
      "  \u001b[1;39m]\u001b[0m\u001b[1;39m,\n",
      "  \u001b[0m\u001b[34;1m\"token_endpoint_auth_signing_alg_values_supported\"\u001b[0m\u001b[1;39m: \u001b[0m\u001b[1;39m[\n",
      "    \u001b[0;32m\"PS384\"\u001b[0m\u001b[1;39m,\n",
      "    \u001b[0;32m\"ES384\"\u001b[0m\u001b[1;39m,\n",
      "    \u001b[0;32m\"RS384\"\u001b[0m\u001b[1;39m,\n",
      "    \u001b[0;32m\"HS256\"\u001b[0m\u001b[1;39m,\n",
      "    \u001b[0;32m\"HS512\"\u001b[0m\u001b[1;39m,\n",
      "    \u001b[0;32m\"ES256\"\u001b[0m\u001b[1;39m,\n",
      "    \u001b[0;32m\"RS256\"\u001b[0m\u001b[1;39m,\n",
      "    \u001b[0;32m\"HS384\"\u001b[0m\u001b[1;39m,\n",
      "    \u001b[0;32m\"ES512\"\u001b[0m\u001b[1;39m,\n",
      "    \u001b[0;32m\"PS256\"\u001b[0m\u001b[1;39m,\n",
      "    \u001b[0;32m\"PS512\"\u001b[0m\u001b[1;39m,\n",
      "    \u001b[0;32m\"RS512\"\u001b[0m\u001b[1;39m\n",
      "  \u001b[1;39m]\u001b[0m\u001b[1;39m,\n",
      "  \u001b[0m\u001b[34;1m\"introspection_endpoint_auth_methods_supported\"\u001b[0m\u001b[1;39m: \u001b[0m\u001b[1;39m[\n",
      "    \u001b[0;32m\"private_key_jwt\"\u001b[0m\u001b[1;39m,\n",
      "    \u001b[0;32m\"client_secret_basic\"\u001b[0m\u001b[1;39m,\n",
      "    \u001b[0;32m\"client_secret_post\"\u001b[0m\u001b[1;39m,\n",
      "    \u001b[0;32m\"tls_client_auth\"\u001b[0m\u001b[1;39m,\n",
      "    \u001b[0;32m\"client_secret_jwt\"\u001b[0m\u001b[1;39m\n",
      "  \u001b[1;39m]\u001b[0m\u001b[1;39m,\n",
      "  \u001b[0m\u001b[34;1m\"introspection_endpoint_auth_signing_alg_values_supported\"\u001b[0m\u001b[1;39m: \u001b[0m\u001b[1;39m[\n",
      "    \u001b[0;32m\"PS384\"\u001b[0m\u001b[1;39m,\n",
      "    \u001b[0;32m\"ES384\"\u001b[0m\u001b[1;39m,\n",
      "    \u001b[0;32m\"RS384\"\u001b[0m\u001b[1;39m,\n",
      "    \u001b[0;32m\"HS256\"\u001b[0m\u001b[1;39m,\n",
      "    \u001b[0;32m\"HS512\"\u001b[0m\u001b[1;39m,\n",
      "    \u001b[0;32m\"ES256\"\u001b[0m\u001b[1;39m,\n",
      "    \u001b[0;32m\"RS256\"\u001b[0m\u001b[1;39m,\n",
      "    \u001b[0;32m\"HS384\"\u001b[0m\u001b[1;39m,\n",
      "    \u001b[0;32m\"ES512\"\u001b[0m\u001b[1;39m,\n",
      "    \u001b[0;32m\"PS256\"\u001b[0m\u001b[1;39m,\n",
      "    \u001b[0;32m\"PS512\"\u001b[0m\u001b[1;39m,\n",
      "    \u001b[0;32m\"RS512\"\u001b[0m\u001b[1;39m\n",
      "  \u001b[1;39m]\u001b[0m\u001b[1;39m,\n",
      "  \u001b[0m\u001b[34;1m\"authorization_signing_alg_values_supported\"\u001b[0m\u001b[1;39m: \u001b[0m\u001b[1;39m[\n",
      "    \u001b[0;32m\"PS384\"\u001b[0m\u001b[1;39m,\n",
      "    \u001b[0;32m\"ES384\"\u001b[0m\u001b[1;39m,\n",
      "    \u001b[0;32m\"RS384\"\u001b[0m\u001b[1;39m,\n",
      "    \u001b[0;32m\"HS256\"\u001b[0m\u001b[1;39m,\n",
      "    \u001b[0;32m\"HS512\"\u001b[0m\u001b[1;39m,\n",
      "    \u001b[0;32m\"ES256\"\u001b[0m\u001b[1;39m,\n",
      "    \u001b[0;32m\"RS256\"\u001b[0m\u001b[1;39m,\n",
      "    \u001b[0;32m\"HS384\"\u001b[0m\u001b[1;39m,\n",
      "    \u001b[0;32m\"ES512\"\u001b[0m\u001b[1;39m,\n",
      "    \u001b[0;32m\"PS256\"\u001b[0m\u001b[1;39m,\n",
      "    \u001b[0;32m\"PS512\"\u001b[0m\u001b[1;39m,\n",
      "    \u001b[0;32m\"RS512\"\u001b[0m\u001b[1;39m\n",
      "  \u001b[1;39m]\u001b[0m\u001b[1;39m,\n",
      "  \u001b[0m\u001b[34;1m\"authorization_encryption_alg_values_supported\"\u001b[0m\u001b[1;39m: \u001b[0m\u001b[1;39m[\n",
      "    \u001b[0;32m\"RSA-OAEP\"\u001b[0m\u001b[1;39m,\n",
      "    \u001b[0;32m\"RSA-OAEP-256\"\u001b[0m\u001b[1;39m,\n",
      "    \u001b[0;32m\"RSA1_5\"\u001b[0m\u001b[1;39m\n",
      "  \u001b[1;39m]\u001b[0m\u001b[1;39m,\n",
      "  \u001b[0m\u001b[34;1m\"authorization_encryption_enc_values_supported\"\u001b[0m\u001b[1;39m: \u001b[0m\u001b[1;39m[\n",
      "    \u001b[0;32m\"A256GCM\"\u001b[0m\u001b[1;39m,\n",
      "    \u001b[0;32m\"A192GCM\"\u001b[0m\u001b[1;39m,\n",
      "    \u001b[0;32m\"A128GCM\"\u001b[0m\u001b[1;39m,\n",
      "    \u001b[0;32m\"A128CBC-HS256\"\u001b[0m\u001b[1;39m,\n",
      "    \u001b[0;32m\"A192CBC-HS384\"\u001b[0m\u001b[1;39m,\n",
      "    \u001b[0;32m\"A256CBC-HS512\"\u001b[0m\u001b[1;39m\n",
      "  \u001b[1;39m]\u001b[0m\u001b[1;39m,\n",
      "  \u001b[0m\u001b[34;1m\"claims_supported\"\u001b[0m\u001b[1;39m: \u001b[0m\u001b[1;39m[\n",
      "    \u001b[0;32m\"aud\"\u001b[0m\u001b[1;39m,\n",
      "    \u001b[0;32m\"sub\"\u001b[0m\u001b[1;39m,\n",
      "    \u001b[0;32m\"iss\"\u001b[0m\u001b[1;39m,\n",
      "    \u001b[0;32m\"auth_time\"\u001b[0m\u001b[1;39m,\n",
      "    \u001b[0;32m\"name\"\u001b[0m\u001b[1;39m,\n",
      "    \u001b[0;32m\"given_name\"\u001b[0m\u001b[1;39m,\n",
      "    \u001b[0;32m\"family_name\"\u001b[0m\u001b[1;39m,\n",
      "    \u001b[0;32m\"preferred_username\"\u001b[0m\u001b[1;39m,\n",
      "    \u001b[0;32m\"email\"\u001b[0m\u001b[1;39m,\n",
      "    \u001b[0;32m\"acr\"\u001b[0m\u001b[1;39m\n",
      "  \u001b[1;39m]\u001b[0m\u001b[1;39m,\n",
      "  \u001b[0m\u001b[34;1m\"claim_types_supported\"\u001b[0m\u001b[1;39m: \u001b[0m\u001b[1;39m[\n",
      "    \u001b[0;32m\"normal\"\u001b[0m\u001b[1;39m\n",
      "  \u001b[1;39m]\u001b[0m\u001b[1;39m,\n",
      "  \u001b[0m\u001b[34;1m\"claims_parameter_supported\"\u001b[0m\u001b[1;39m: \u001b[0m\u001b[0;39mtrue\u001b[0m\u001b[1;39m,\n",
      "  \u001b[0m\u001b[34;1m\"scopes_supported\"\u001b[0m\u001b[1;39m: \u001b[0m\u001b[1;39m[\n",
      "    \u001b[0;32m\"openid\"\u001b[0m\u001b[1;39m,\n",
      "    \u001b[0;32m\"profile\"\u001b[0m\u001b[1;39m,\n",
      "    \u001b[0;32m\"web-origins\"\u001b[0m\u001b[1;39m,\n",
      "    \u001b[0;32m\"microprofile-jwt\"\u001b[0m\u001b[1;39m,\n",
      "    \u001b[0;32m\"email\"\u001b[0m\u001b[1;39m,\n",
      "    \u001b[0;32m\"offline_access\"\u001b[0m\u001b[1;39m,\n",
      "    \u001b[0;32m\"roles\"\u001b[0m\u001b[1;39m,\n",
      "    \u001b[0;32m\"phone\"\u001b[0m\u001b[1;39m,\n",
      "    \u001b[0;32m\"address\"\u001b[0m\u001b[1;39m\n",
      "  \u001b[1;39m]\u001b[0m\u001b[1;39m,\n",
      "  \u001b[0m\u001b[34;1m\"request_parameter_supported\"\u001b[0m\u001b[1;39m: \u001b[0m\u001b[0;39mtrue\u001b[0m\u001b[1;39m,\n",
      "  \u001b[0m\u001b[34;1m\"request_uri_parameter_supported\"\u001b[0m\u001b[1;39m: \u001b[0m\u001b[0;39mtrue\u001b[0m\u001b[1;39m,\n",
      "  \u001b[0m\u001b[34;1m\"require_request_uri_registration\"\u001b[0m\u001b[1;39m: \u001b[0m\u001b[0;39mtrue\u001b[0m\u001b[1;39m,\n",
      "  \u001b[0m\u001b[34;1m\"code_challenge_methods_supported\"\u001b[0m\u001b[1;39m: \u001b[0m\u001b[1;39m[\n",
      "    \u001b[0;32m\"plain\"\u001b[0m\u001b[1;39m,\n",
      "    \u001b[0;32m\"S256\"\u001b[0m\u001b[1;39m\n",
      "  \u001b[1;39m]\u001b[0m\u001b[1;39m,\n",
      "  \u001b[0m\u001b[34;1m\"tls_client_certificate_bound_access_tokens\"\u001b[0m\u001b[1;39m: \u001b[0m\u001b[0;39mtrue\u001b[0m\u001b[1;39m,\n",
      "  \u001b[0m\u001b[34;1m\"revocation_endpoint\"\u001b[0m\u001b[1;39m: \u001b[0m\u001b[0;32m\"https://keycloak-192-168-49-2.nip.io/auth/realms/myrealm/protocol/openid-connect/revoke\"\u001b[0m\u001b[1;39m,\n",
      "  \u001b[0m\u001b[34;1m\"revocation_endpoint_auth_methods_supported\"\u001b[0m\u001b[1;39m: \u001b[0m\u001b[1;39m[\n",
      "    \u001b[0;32m\"private_key_jwt\"\u001b[0m\u001b[1;39m,\n",
      "    \u001b[0;32m\"client_secret_basic\"\u001b[0m\u001b[1;39m,\n",
      "    \u001b[0;32m\"client_secret_post\"\u001b[0m\u001b[1;39m,\n",
      "    \u001b[0;32m\"tls_client_auth\"\u001b[0m\u001b[1;39m,\n",
      "    \u001b[0;32m\"client_secret_jwt\"\u001b[0m\u001b[1;39m\n",
      "  \u001b[1;39m]\u001b[0m\u001b[1;39m,\n",
      "  \u001b[0m\u001b[34;1m\"revocation_endpoint_auth_signing_alg_values_supported\"\u001b[0m\u001b[1;39m: \u001b[0m\u001b[1;39m[\n",
      "    \u001b[0;32m\"PS384\"\u001b[0m\u001b[1;39m,\n",
      "    \u001b[0;32m\"ES384\"\u001b[0m\u001b[1;39m,\n",
      "    \u001b[0;32m\"RS384\"\u001b[0m\u001b[1;39m,\n",
      "    \u001b[0;32m\"HS256\"\u001b[0m\u001b[1;39m,\n",
      "    \u001b[0;32m\"HS512\"\u001b[0m\u001b[1;39m,\n",
      "    \u001b[0;32m\"ES256\"\u001b[0m\u001b[1;39m,\n",
      "    \u001b[0;32m\"RS256\"\u001b[0m\u001b[1;39m,\n",
      "    \u001b[0;32m\"HS384\"\u001b[0m\u001b[1;39m,\n",
      "    \u001b[0;32m\"ES512\"\u001b[0m\u001b[1;39m,\n",
      "    \u001b[0;32m\"PS256\"\u001b[0m\u001b[1;39m,\n",
      "    \u001b[0;32m\"PS512\"\u001b[0m\u001b[1;39m,\n",
      "    \u001b[0;32m\"RS512\"\u001b[0m\u001b[1;39m\n",
      "  \u001b[1;39m]\u001b[0m\u001b[1;39m,\n",
      "  \u001b[0m\u001b[34;1m\"backchannel_logout_supported\"\u001b[0m\u001b[1;39m: \u001b[0m\u001b[0;39mtrue\u001b[0m\u001b[1;39m,\n",
      "  \u001b[0m\u001b[34;1m\"backchannel_logout_session_supported\"\u001b[0m\u001b[1;39m: \u001b[0m\u001b[0;39mtrue\u001b[0m\u001b[1;39m,\n",
      "  \u001b[0m\u001b[34;1m\"device_authorization_endpoint\"\u001b[0m\u001b[1;39m: \u001b[0m\u001b[0;32m\"https://keycloak-192-168-49-2.nip.io/auth/realms/myrealm/protocol/openid-connect/auth/device\"\u001b[0m\u001b[1;39m,\n",
      "  \u001b[0m\u001b[34;1m\"backchannel_token_delivery_modes_supported\"\u001b[0m\u001b[1;39m: \u001b[0m\u001b[1;39m[\n",
      "    \u001b[0;32m\"poll\"\u001b[0m\u001b[1;39m,\n",
      "    \u001b[0;32m\"ping\"\u001b[0m\u001b[1;39m\n",
      "  \u001b[1;39m]\u001b[0m\u001b[1;39m,\n",
      "  \u001b[0m\u001b[34;1m\"backchannel_authentication_endpoint\"\u001b[0m\u001b[1;39m: \u001b[0m\u001b[0;32m\"https://keycloak-192-168-49-2.nip.io/auth/realms/myrealm/protocol/openid-connect/ext/ciba/auth\"\u001b[0m\u001b[1;39m,\n",
      "  \u001b[0m\u001b[34;1m\"backchannel_authentication_request_signing_alg_values_supported\"\u001b[0m\u001b[1;39m: \u001b[0m\u001b[1;39m[\n",
      "    \u001b[0;32m\"PS384\"\u001b[0m\u001b[1;39m,\n",
      "    \u001b[0;32m\"ES384\"\u001b[0m\u001b[1;39m,\n",
      "    \u001b[0;32m\"RS384\"\u001b[0m\u001b[1;39m,\n",
      "    \u001b[0;32m\"ES256\"\u001b[0m\u001b[1;39m,\n",
      "    \u001b[0;32m\"RS256\"\u001b[0m\u001b[1;39m,\n",
      "    \u001b[0;32m\"ES512\"\u001b[0m\u001b[1;39m,\n",
      "    \u001b[0;32m\"PS256\"\u001b[0m\u001b[1;39m,\n",
      "    \u001b[0;32m\"PS512\"\u001b[0m\u001b[1;39m,\n",
      "    \u001b[0;32m\"RS512\"\u001b[0m\u001b[1;39m\n",
      "  \u001b[1;39m]\u001b[0m\u001b[1;39m,\n",
      "  \u001b[0m\u001b[34;1m\"require_pushed_authorization_requests\"\u001b[0m\u001b[1;39m: \u001b[0m\u001b[0;39mfalse\u001b[0m\u001b[1;39m,\n",
      "  \u001b[0m\u001b[34;1m\"pushed_authorization_request_endpoint\"\u001b[0m\u001b[1;39m: \u001b[0m\u001b[0;32m\"https://keycloak-192-168-49-2.nip.io/auth/realms/myrealm/protocol/openid-connect/ext/par/request\"\u001b[0m\u001b[1;39m,\n",
      "  \u001b[0m\u001b[34;1m\"mtls_endpoint_aliases\"\u001b[0m\u001b[1;39m: \u001b[0m\u001b[1;39m{\n",
      "    \u001b[0m\u001b[34;1m\"token_endpoint\"\u001b[0m\u001b[1;39m: \u001b[0m\u001b[0;32m\"https://keycloak-192-168-49-2.nip.io/auth/realms/myrealm/protocol/openid-connect/token\"\u001b[0m\u001b[1;39m,\n",
      "    \u001b[0m\u001b[34;1m\"revocation_endpoint\"\u001b[0m\u001b[1;39m: \u001b[0m\u001b[0;32m\"https://keycloak-192-168-49-2.nip.io/auth/realms/myrealm/protocol/openid-connect/revoke\"\u001b[0m\u001b[1;39m,\n",
      "    \u001b[0m\u001b[34;1m\"introspection_endpoint\"\u001b[0m\u001b[1;39m: \u001b[0m\u001b[0;32m\"https://keycloak-192-168-49-2.nip.io/auth/realms/myrealm/protocol/openid-connect/token/introspect\"\u001b[0m\u001b[1;39m,\n",
      "    \u001b[0m\u001b[34;1m\"device_authorization_endpoint\"\u001b[0m\u001b[1;39m: \u001b[0m\u001b[0;32m\"https://keycloak-192-168-49-2.nip.io/auth/realms/myrealm/protocol/openid-connect/auth/device\"\u001b[0m\u001b[1;39m,\n",
      "    \u001b[0m\u001b[34;1m\"registration_endpoint\"\u001b[0m\u001b[1;39m: \u001b[0m\u001b[0;32m\"https://keycloak-192-168-49-2.nip.io/auth/realms/myrealm/clients-registrations/openid-connect\"\u001b[0m\u001b[1;39m,\n",
      "    \u001b[0m\u001b[34;1m\"userinfo_endpoint\"\u001b[0m\u001b[1;39m: \u001b[0m\u001b[0;32m\"https://keycloak-192-168-49-2.nip.io/auth/realms/myrealm/protocol/openid-connect/userinfo\"\u001b[0m\u001b[1;39m,\n",
      "    \u001b[0m\u001b[34;1m\"pushed_authorization_request_endpoint\"\u001b[0m\u001b[1;39m: \u001b[0m\u001b[0;32m\"https://keycloak-192-168-49-2.nip.io/auth/realms/myrealm/protocol/openid-connect/ext/par/request\"\u001b[0m\u001b[1;39m,\n",
      "    \u001b[0m\u001b[34;1m\"backchannel_authentication_endpoint\"\u001b[0m\u001b[1;39m: \u001b[0m\u001b[0;32m\"https://keycloak-192-168-49-2.nip.io/auth/realms/myrealm/protocol/openid-connect/ext/ciba/auth\"\u001b[0m\u001b[1;39m\n",
      "  \u001b[1;39m}\u001b[0m\u001b[1;39m\n",
      "\u001b[1;39m}\u001b[0m\n"
     ]
    }
   ],
   "source": [
    "curl -ks https://$KEYCLOAK_HOST/auth/realms/myrealm/.well-known/openid-configuration | jq"
   ]
  },
  {
   "cell_type": "code",
   "execution_count": 84,
   "metadata": {},
   "outputs": [
    {
     "name": "stdout",
     "output_type": "stream",
     "text": [
      "etcd.yaml\n",
      "kube-apiserver.yaml\n",
      "kube-controller-manager.yaml\n",
      "kube-scheduler.yaml\n"
     ]
    }
   ],
   "source": [
    "docker exec minikube ls /etc/kubernetes/manifests"
   ]
  },
  {
   "cell_type": "code",
   "execution_count": 85,
   "metadata": {
    "collapsed": true,
    "jupyter": {
     "outputs_hidden": true
    }
   },
   "outputs": [
    {
     "name": "stdout",
     "output_type": "stream",
     "text": [
      "apiVersion: v1\n",
      "kind: Pod\n",
      "metadata:\n",
      "  annotations:\n",
      "    kubeadm.kubernetes.io/kube-apiserver.advertise-address.endpoint: 192.168.49.2:8443\n",
      "  creationTimestamp: null\n",
      "  labels:\n",
      "    component: kube-apiserver\n",
      "    tier: control-plane\n",
      "  name: kube-apiserver\n",
      "  namespace: kube-system\n",
      "spec:\n",
      "  containers:\n",
      "  - command:\n",
      "    - kube-apiserver\n",
      "    - --advertise-address=192.168.49.2\n",
      "    - --allow-privileged=true\n",
      "    - --authorization-mode=Node,RBAC\n",
      "    - --client-ca-file=/var/lib/minikube/certs/ca.crt\n",
      "    - --enable-admission-plugins=NamespaceLifecycle,LimitRanger,ServiceAccount,DefaultStorageClass,DefaultTolerationSeconds,NodeRestriction,MutatingAdmissionWebhook,ValidatingAdmissionWebhook,ResourceQuota\n",
      "    - --enable-bootstrap-token-auth=true\n",
      "    - --etcd-cafile=/var/lib/minikube/certs/etcd/ca.crt\n",
      "    - --etcd-certfile=/var/lib/minikube/certs/apiserver-etcd-client.crt\n",
      "    - --etcd-keyfile=/var/lib/minikube/certs/apiserver-etcd-client.key\n",
      "    - --etcd-servers=https://127.0.0.1:2379\n",
      "    - --kubelet-client-certificate=/var/lib/minikube/certs/apiserver-kubelet-client.crt\n",
      "    - --kubelet-client-key=/var/lib/minikube/certs/apiserver-kubelet-client.key\n",
      "    - --kubelet-preferred-address-types=InternalIP,ExternalIP,Hostname\n",
      "\u001b[01;31m\u001b[K    - --oidc-client-id=kubernetes\u001b[m\u001b[K\n",
      "\u001b[01;31m\u001b[K    - --oidc-groups-claim=groups\u001b[m\u001b[K\n",
      "\u001b[01;31m\u001b[K    - '--oidc-groups-prefix=oidc:'\u001b[m\u001b[K\n",
      "\u001b[01;31m\u001b[K    - --oidc-issuer-url=https://keycloak-192-168-49-2.nip.io/auth/realms/myrealm\u001b[m\u001b[K\n",
      "\u001b[01;31m\u001b[K    - --oidc-username-claim=email\u001b[m\u001b[K\n",
      "\u001b[01;31m\u001b[K    - '--oidc-username-prefix=oidc:'\u001b[m\u001b[K\n",
      "    - --proxy-client-cert-file=/var/lib/minikube/certs/front-proxy-client.crt\n",
      "    - --proxy-client-key-file=/var/lib/minikube/certs/front-proxy-client.key\n",
      "    - --requestheader-allowed-names=front-proxy-client\n",
      "    - --requestheader-client-ca-file=/var/lib/minikube/certs/front-proxy-ca.crt\n",
      "    - --requestheader-extra-headers-prefix=X-Remote-Extra-\n",
      "    - --requestheader-group-headers=X-Remote-Group\n",
      "    - --requestheader-username-headers=X-Remote-User\n",
      "    - --secure-port=8443\n",
      "    - --service-account-issuer=https://kubernetes.default.svc.cluster.local\n",
      "    - --service-account-key-file=/var/lib/minikube/certs/sa.pub\n",
      "    - --service-account-signing-key-file=/var/lib/minikube/certs/sa.key\n",
      "    - --service-cluster-ip-range=10.96.0.0/12\n",
      "    - --tls-cert-file=/var/lib/minikube/certs/apiserver.crt\n",
      "    - --tls-private-key-file=/var/lib/minikube/certs/apiserver.key\n",
      "    image: k8s.gcr.io/kube-apiserver:v1.22.2\n",
      "    imagePullPolicy: IfNotPresent\n",
      "    livenessProbe:\n",
      "      failureThreshold: 8\n",
      "      httpGet:\n",
      "        host: 192.168.49.2\n",
      "        path: /livez\n",
      "        port: 8443\n",
      "        scheme: HTTPS\n",
      "      initialDelaySeconds: 10\n",
      "      periodSeconds: 10\n",
      "      timeoutSeconds: 15\n",
      "    name: kube-apiserver\n",
      "    readinessProbe:\n",
      "      failureThreshold: 3\n",
      "      httpGet:\n",
      "        host: 192.168.49.2\n",
      "        path: /readyz\n",
      "        port: 8443\n",
      "        scheme: HTTPS\n",
      "      periodSeconds: 1\n",
      "      timeoutSeconds: 15\n",
      "    resources:\n",
      "      requests:\n",
      "        cpu: 250m\n",
      "    startupProbe:\n",
      "      failureThreshold: 24\n",
      "      httpGet:\n",
      "        host: 192.168.49.2\n",
      "        path: /livez\n",
      "        port: 8443\n",
      "        scheme: HTTPS\n",
      "      initialDelaySeconds: 10\n",
      "      periodSeconds: 10\n",
      "      timeoutSeconds: 15\n",
      "    volumeMounts:\n",
      "    - mountPath: /etc/ssl/certs\n",
      "      name: ca-certs\n",
      "      readOnly: true\n",
      "    - mountPath: /etc/ca-certificates\n",
      "      name: etc-ca-certificates\n",
      "      readOnly: true\n",
      "    - mountPath: /var/lib/minikube/certs\n",
      "      name: k8s-certs\n",
      "      readOnly: true\n",
      "    - mountPath: /usr/local/share/ca-certificates\n",
      "      name: usr-local-share-ca-certificates\n",
      "      readOnly: true\n",
      "    - mountPath: /usr/share/ca-certificates\n",
      "      name: usr-share-ca-certificates\n",
      "      readOnly: true\n",
      "  hostNetwork: true\n",
      "  priorityClassName: system-node-critical\n",
      "  securityContext:\n",
      "    seccompProfile:\n",
      "      type: RuntimeDefault\n",
      "  volumes:\n",
      "  - hostPath:\n",
      "      path: /etc/ssl/certs\n",
      "      type: DirectoryOrCreate\n",
      "    name: ca-certs\n",
      "  - hostPath:\n",
      "      path: /etc/ca-certificates\n",
      "      type: DirectoryOrCreate\n",
      "    name: etc-ca-certificates\n",
      "  - hostPath:\n",
      "      path: /var/lib/minikube/certs\n",
      "      type: DirectoryOrCreate\n",
      "    name: k8s-certs\n",
      "  - hostPath:\n",
      "      path: /usr/local/share/ca-certificates\n",
      "      type: DirectoryOrCreate\n",
      "    name: usr-local-share-ca-certificates\n",
      "  - hostPath:\n",
      "      path: /usr/share/ca-certificates\n",
      "      type: DirectoryOrCreate\n",
      "    name: usr-share-ca-certificates\n",
      "status: {}\n"
     ]
    }
   ],
   "source": [
    "docker exec minikube cat /etc/kubernetes/manifests/kube-apiserver.yaml | grep -E '(.*oidc.*|^)'"
   ]
  },
  {
   "cell_type": "code",
   "execution_count": 86,
   "metadata": {
    "collapsed": true,
    "jupyter": {
     "outputs_hidden": true
    }
   },
   "outputs": [
    {
     "name": "stdout",
     "output_type": "stream",
     "text": [
      "● minikube\n",
      "    State: running\n",
      "     Jobs: 0 queued\n",
      "   Failed: 0 units\n",
      "    Since: Fri 2021-11-12 17:24:35 UTC; 10min ago\n",
      "   CGroup: /docker/e71fff49dee2a0695d134dc1fd8f047681661c5729181947458bbdfc21d9ae20\n",
      "           ├─init.scope \n",
      "           │ └─1 /sbin/init\n",
      "           └─system.slice \n",
      "             ├─containerd.service …\n",
      "             │ ├─ 187 /usr/bin/containerd\n",
      "             │ ├─1490 /usr/bin/containerd-shim-runc-v2 -namespace moby -id 40887133ef44e81ab08bd3b8d1c61fc55eb3fcd12c9ec2716c93f0f41921a3d4 -address /run/containerd/containerd.sock\n",
      "             │ ├─1492 /usr/bin/containerd-shim-runc-v2 -namespace moby -id 062aaecda655a0da68b60e7fb729bb2dbbabb340aa30b6ace35ca890465ec63a -address /run/containerd/containerd.sock\n",
      "             │ ├─1511 /usr/bin/containerd-shim-runc-v2 -namespace moby -id 99aa4839bcf83d07752f3d8d07493c3426355f657a811f3a61a2f27f9b74c7e8 -address /run/containerd/containerd.sock\n",
      "             │ ├─1536 /usr/bin/containerd-shim-runc-v2 -namespace moby -id 9e0882019c11930283997590ab2354730cc420d389195c175bedd5a778f34d1f -address /run/containerd/containerd.sock\n",
      "             │ ├─1582 /pause\n",
      "             │ ├─1591 /pause\n",
      "             │ ├─1592 /pause\n",
      "             │ ├─1593 /pause\n",
      "             │ ├─1661 /usr/bin/containerd-shim-runc-v2 -namespace moby -id 48114702f7ce8ce42667fa9fdf0ec6f18d60b55994bc635131544ca78214e8b3 -address /run/containerd/containerd.sock\n",
      "             │ ├─1686 /usr/bin/containerd-shim-runc-v2 -namespace moby -id 4adaedb37fe6882a5289456d3a485b29eec521f1753c135cf83e0ebf3866e58e -address /run/containerd/containerd.sock\n",
      "             │ ├─1713 /usr/bin/containerd-shim-runc-v2 -namespace moby -id f748b72814f451c29cd672830f20cf429a76894765661db9be4e1455af745b95 -address /run/containerd/containerd.sock\n",
      "             │ ├─1723 /usr/bin/containerd-shim-runc-v2 -namespace moby -id ddda9e51c2645dc6979f85b8d9e1f2a5921fea960769b8a8de30b7f04c0b185d -address /run/containerd/containerd.sock\n",
      "             │ ├─1765 kube-scheduler --authentication-kubeconfig=/etc/kubernetes/scheduler.conf --authorization-kubeconfig=/etc/kubernetes/scheduler.conf --bind-address=127.0.0.1 --kubeconfig=/etc/kubernetes/scheduler.conf --leader-elect=false --port=0\n",
      "             │ ├─1774 etcd --advertise-client-urls=https://192.168.49.2:2379 --cert-file=/var/lib/minikube/certs/etcd/server.crt --client-cert-auth=true --data-dir=/var/lib/minikube/etcd --initial-advertise-peer-urls=https://192.168.49.2:2380 --initial-cluster=minikube=https://192.168.49.2:2380 --key-file=/var/lib/minikube/certs/etcd/server.key --listen-client-urls=https://127.0.0.1:2379,https://192.168.49.2:2379 --listen-metrics-urls=http://127.0.0.1:2381 --listen-peer-urls=https://192.168.49.2:2380 --name=minikube --peer-cert-file=/var/lib/minikube/certs/etcd/peer.crt --peer-client-cert-auth=true --peer-key-file=/var/lib/minikube/certs/etcd/peer.key --peer-trusted-ca-file=/var/lib/minikube/certs/etcd/ca.crt --proxy-refresh-interval=70000 --snapshot-count=10000 --trusted-ca-file=/var/lib/minikube/certs/etcd/ca.crt\n",
      "             │ ├─1775 kube-apiserver --advertise-address=192.168.49.2 --allow-privileged=true --authorization-mode=Node,RBAC --client-ca-file=/var/lib/minikube/certs/ca.crt --enable-admission-plugins=NamespaceLifecycle,LimitRanger,ServiceAccount,DefaultStorageClass,DefaultTolerationSeconds,NodeRestriction,MutatingAdmissionWebhook,ValidatingAdmissionWebhook,ResourceQuota --enable-bootstrap-token-auth=true --etcd-cafile=/var/lib/minikube/certs/etcd/ca.crt --etcd-certfile=/var/lib/minikube/certs/apiserver-etcd-client.crt --etcd-keyfile=/var/lib/minikube/certs/apiserver-etcd-client.key --etcd-servers=https://127.0.0.1:2379 --kubelet-client-certificate=/var/lib/minikube/certs/apiserver-kubelet-client.crt --kubelet-client-key=/var/lib/minikube/certs/apiserver-kubelet-client.key --kubelet-preferred-address-types=InternalIP,ExternalIP,Hostname --oidc-client-id=kubernetes --oidc-groups-claim=groups --oidc-groups-prefix=oidc: --oidc-issuer-url=https://keycloak-192-168-49-2.nip.io/auth/realms/myrealm --oidc-username-claim=email --oidc-username-prefix=oidc: --proxy-client-cert-file=/var/lib/minikube/certs/front-proxy-client.crt --proxy-client-key-file=/var/lib/minikube/certs/front-proxy-client.key --requestheader-allowed-names=front-proxy-client --requestheader-client-ca-file=/var/lib/minikube/certs/front-proxy-ca.crt --requestheader-extra-headers-prefix=X-Remote-Extra- --requestheader-group-headers=X-Remote-Group --requestheader-username-headers=X-Remote-User --secure-port=8443 --service-account-issuer=https://kubernetes.default.svc.cluster.local --service-account-key-file=/var/lib/minikube/certs/sa.pub --service-account-signing-key-file=/var/lib/minikube/certs/sa.key --service-cluster-ip-range=10.96.0.0/12 --tls-cert-file=/var/lib/minikube/certs/apiserver.crt --tls-private-key-file=/var/lib/minikube/certs/apiserver.key\n",
      "             │ ├─1776 kube-controller-manager --allocate-node-cidrs=true --authentication-kubeconfig=/etc/kubernetes/controller-manager.conf --authorization-kubeconfig=/etc/kubernetes/controller-manager.conf --bind-address=127.0.0.1 --client-ca-file=/var/lib/minikube/certs/ca.crt --cluster-cidr=10.244.0.0/16 --cluster-name=mk --cluster-signing-cert-file=/var/lib/minikube/certs/ca.crt --cluster-signing-key-file=/var/lib/minikube/certs/ca.key --controllers=*,bootstrapsigner,tokencleaner --kubeconfig=/etc/kubernetes/controller-manager.conf --leader-elect=false --port=0 --requestheader-client-ca-file=/var/lib/minikube/certs/front-proxy-ca.crt --root-ca-file=/var/lib/minikube/certs/ca.crt --service-account-private-key-file=/var/lib/minikube/certs/sa.key --service-cluster-ip-range=10.96.0.0/12 --use-service-account-credentials=true\n",
      "             │ ├─2254 /usr/bin/containerd-shim-runc-v2 -namespace moby -id 58acabb96dfe342508a9f0f156dbe146cce27f26a62285f02bf458c43d0fd840 -address /run/containerd/containerd.sock\n",
      "             │ ├─2279 /usr/bin/containerd-shim-runc-v2 -namespace moby -id 865ed59fc88302a56de3e532b055191c95395a08cf179441336b039a3409bc3e -address /run/containerd/containerd.sock\n",
      "             │ ├─2304 /pause\n",
      "             │ ├─2307 /pause\n",
      "             │ ├─2362 /usr/bin/containerd-shim-runc-v2 -namespace moby -id 09d11e3819f3050823dc74ff028b8133b5231423235bc77310be789e8f1384e4 -address /run/containerd/containerd.sock\n",
      "             │ ├─2396 /usr/local/bin/kube-proxy --config=/var/lib/kube-proxy/config.conf --hostname-override=minikube\n",
      "             │ ├─2477 /usr/bin/containerd-shim-runc-v2 -namespace moby -id 8d85c75f497979343620e37ac8aa6e88fb7ebd12af29662486bb2a4c6d1e1f16 -address /run/containerd/containerd.sock\n",
      "             │ ├─2503 /pause\n",
      "             │ ├─2634 /usr/bin/containerd-shim-runc-v2 -namespace moby -id c5546dcc0b4d537cac8b7e98251d0fd62422f6e1e3a74f41cb710c7a6aded0e6 -address /run/containerd/containerd.sock\n",
      "             │ ├─2655 /coredns -conf /etc/coredns/Corefile\n",
      "             │ ├─3256 /usr/bin/containerd-shim-runc-v2 -namespace moby -id 4bcc906c2089557e7157b1350b338156e130cdcc0b29a71f9a0bd5e2c0aed87f -address /run/containerd/containerd.sock\n",
      "             │ ├─3276 /pause\n",
      "             │ ├─3696 /usr/bin/containerd-shim-runc-v2 -namespace moby -id e92df55c1790d0e3c78a376b884418961ab8c5eab84e4049d4f2e0c9200a5017 -address /run/containerd/containerd.sock\n",
      "             │ ├─3716 /usr/bin/dumb-init -- /nginx-ingress-controller --election-id=ingress-controller-leader --ingress-class=nginx --configmap=ingress-nginx/ingress-nginx-controller --report-node-internal-ip-address --tcp-services-configmap=ingress-nginx/tcp-services --udp-services-configmap=ingress-nginx/udp-services --validating-webhook=:8443 --validating-webhook-certificate=/usr/local/certificates/cert --validating-webhook-key=/usr/local/certificates/key\n",
      "             │ ├─3729 /nginx-ingress-controller --election-id=ingress-controller-leader --ingress-class=nginx --configmap=ingress-nginx/ingress-nginx-controller --report-node-internal-ip-address --tcp-services-configmap=ingress-nginx/tcp-services --udp-services-configmap=ingress-nginx/udp-services --validating-webhook=:8443 --validating-webhook-certificate=/usr/local/certificates/cert --validating-webhook-key=/usr/local/certificates/key\n",
      "             │ ├─3815 nginx: master process /usr/local/nginx/sbin/nginx -c /etc/nginx/nginx.conf\n",
      "             │ ├─4440 /usr/bin/containerd-shim-runc-v2 -namespace moby -id 0e7af3260b276a184773fc9649a1637e4a34dd2a909d1126c22f86dd35b2cb50 -address /run/containerd/containerd.sock\n",
      "             │ ├─4461 /storage-provisioner\n",
      "             │ ├─4576 /usr/bin/containerd-shim-runc-v2 -namespace moby -id 69bb0fd81bc8afe6d5756857357f22131d27af947689f9434022c80636a9315c -address /run/containerd/containerd.sock\n",
      "             │ ├─4597 /pause\n",
      "             │ ├─4807 /usr/bin/containerd-shim-runc-v2 -namespace moby -id bf110e33c2dd17dc58fd696b9ba58ade590f289c3b09dc8b46a6e5a0c6347031 -address /run/containerd/containerd.sock\n",
      "             │ ├─4828 /bin/sh /opt/jboss/keycloak/bin/standalone.sh -Djboss.bind.address=172.17.0.3 -Djboss.bind.address.private=172.17.0.3 -c=standalone-ha.xml -b 0.0.0.0\n",
      "             │ ├─5056 java -D[Standalone] -server -Xms64m -Xmx512m -XX:MetaspaceSize=96M -XX:MaxMetaspaceSize=256m -Djava.net.preferIPv4Stack=true -Djboss.modules.system.pkgs=org.jboss.byteman -Djava.awt.headless=true --add-exports=java.base/sun.nio.ch=ALL-UNNAMED --add-exports=jdk.unsupported/sun.misc=ALL-UNNAMED --add-exports=jdk.unsupported/sun.reflect=ALL-UNNAMED -Dorg.jboss.boot.log.file=/opt/jboss/keycloak/standalone/log/server.log -Dlogging.configuration=file:/opt/jboss/keycloak/standalone/configuration/logging.properties -jar /opt/jboss/keycloak/jboss-modules.jar -mp /opt/jboss/keycloak/modules org.jboss.as.standalone -Djboss.home.dir=/opt/jboss/keycloak -Djboss.server.base.dir=/opt/jboss/keycloak/standalone -Djboss.bind.address=172.17.0.3 -Djboss.bind.address.private=172.17.0.3 -c=standalone-ha.xml -b 0.0.0.0\n",
      "             │ ├─5702 nginx: worker process\n",
      "             │ ├─5703 nginx: worker process\n",
      "             │ ├─5704 nginx: worker process\n",
      "             │ ├─5705 nginx: worker process\n",
      "             │ ├─5719 nginx: worker process\n",
      "             │ ├─5771 nginx: worker process\n",
      "             │ ├─5772 nginx: worker process\n",
      "             │ ├─5778 nginx: worker process\n",
      "             │ ├─5834 nginx: worker process\n",
      "             │ ├─5893 nginx: worker process\n",
      "             │ ├─5915 nginx: worker process\n",
      "             │ ├─5950 nginx: worker process\n",
      "             │ ├─6013 nginx: worker process\n",
      "             │ ├─6035 nginx: worker process\n",
      "             │ ├─6055 nginx: worker process\n",
      "             │ ├─6114 nginx: worker process\n",
      "             │ └─6160 nginx: cache manager process\n",
      "             ├─docker.service …\n",
      "             │ ├─ 212 /usr/bin/dockerd -H tcp://0.0.0.0:2376 -H unix:///var/run/docker.sock --default-ulimit=nofile=1048576:1048576 --tlsverify --tlscacert /etc/docker/ca.pem --tlscert /etc/docker/server.pem --tlskey /etc/docker/server-key.pem --label provider=docker --insecure-registry 10.96.0.0/12\n",
      "             │ ├─3227 /usr/bin/docker-proxy -proto tcp -host-ip 0.0.0.0 -host-port 443 -container-ip 172.17.0.5 -container-port 443\n",
      "             │ └─3241 /usr/bin/docker-proxy -proto tcp -host-ip 0.0.0.0 -host-port 80 -container-ip 172.17.0.5 -container-port 80\n",
      "             ├─kubelet.service \n",
      "             │ └─953 /var/lib/minikube/binaries/v1.22.2/kubelet --bootstrap-kubeconfig=/etc/kubernetes/bootstrap-kubelet.conf --config=/var/lib/kubelet/config.yaml --container-runtime=docker --hostname-override=minikube --kubeconfig=/etc/kubernetes/kubelet.conf --node-ip=192.168.49.2\n",
      "             ├─systemd-journald.service \n",
      "             │ └─171 /lib/systemd/systemd-journald\n",
      "             ├─ssh.service \n",
      "             │ ├─ 196 sshd: /usr/sbin/sshd -D [listener] 0 of 10-100 startups\n",
      "             │ ├─5232 sshd: docker [priv]\n",
      "             │ └─5234 sshd: docker@notty\n",
      "             └─dbus.service \n",
      "               └─183 /usr/bin/dbus-daemon --system --address=systemd: --nofork --nopidfile --systemd-activation --syslog-only\n"
     ]
    }
   ],
   "source": [
    "docker exec  minikube systemctl status"
   ]
  },
  {
   "cell_type": "code",
   "execution_count": 87,
   "metadata": {},
   "outputs": [
    {
     "name": "stdout",
     "output_type": "stream",
     "text": [
      "CONTAINER ID   IMAGE                                 COMMAND                  CREATED          STATUS          PORTS                                      NAMES\n",
      "bf110e33c2dd   quay.io/keycloak/keycloak             \"/opt/jboss/tools/do…\"   9 minutes ago    Up 9 minutes                                               k8s_keycloak_keycloak-6655d58b6c-rr8vq_keycloak_b95a5804-1fdc-4e3e-9dad-5c2c68fcf59b_0\n",
      "69bb0fd81bc8   k8s.gcr.io/pause:3.5                  \"/pause\"                 9 minutes ago    Up 9 minutes                                               k8s_POD_keycloak-6655d58b6c-rr8vq_keycloak_b95a5804-1fdc-4e3e-9dad-5c2c68fcf59b_0\n",
      "0e7af3260b27   6e38f40d628d                          \"/storage-provisioner\"   10 minutes ago   Up 10 minutes                                              k8s_storage-provisioner_storage-provisioner_kube-system_3c596e5b-edbe-4ca3-9f63-00fef2e034cd_4\n",
      "e92df55c1790   k8s.gcr.io/ingress-nginx/controller   \"/usr/bin/dumb-init …\"   10 minutes ago   Up 10 minutes                                              k8s_controller_ingress-nginx-controller-69bdbc4d57-4m5x7_ingress-nginx_deb34aa4-c501-4bd3-845b-3ad7256fb6af_0\n",
      "4bcc906c2089   k8s.gcr.io/pause:3.5                  \"/pause\"                 10 minutes ago   Up 10 minutes   0.0.0.0:80->80/tcp, 0.0.0.0:443->443/tcp   k8s_POD_ingress-nginx-controller-69bdbc4d57-4m5x7_ingress-nginx_deb34aa4-c501-4bd3-845b-3ad7256fb6af_0\n",
      "c5546dcc0b4d   8d147537fb7d                          \"/coredns -conf /etc…\"   10 minutes ago   Up 10 minutes                                              k8s_coredns_coredns-78fcd69978-5nwp2_kube-system_d03bf27e-abd6-4d30-b3aa-304930a6313f_2\n",
      "8d85c75f4979   k8s.gcr.io/pause:3.5                  \"/pause\"                 10 minutes ago   Up 10 minutes                                              k8s_POD_coredns-78fcd69978-5nwp2_kube-system_d03bf27e-abd6-4d30-b3aa-304930a6313f_2\n",
      "09d11e3819f3   873127efbc8a                          \"/usr/local/bin/kube…\"   10 minutes ago   Up 10 minutes                                              k8s_kube-proxy_kube-proxy-r7x69_kube-system_bcff792a-8cda-41ea-bc1a-f92518fc2165_2\n",
      "865ed59fc883   k8s.gcr.io/pause:3.5                  \"/pause\"                 10 minutes ago   Up 10 minutes                                              k8s_POD_kube-proxy-r7x69_kube-system_bcff792a-8cda-41ea-bc1a-f92518fc2165_2\n",
      "58acabb96dfe   k8s.gcr.io/pause:3.5                  \"/pause\"                 10 minutes ago   Up 10 minutes                                              k8s_POD_storage-provisioner_kube-system_3c596e5b-edbe-4ca3-9f63-00fef2e034cd_2\n",
      "ddda9e51c264   004811815584                          \"etcd --advertise-cl…\"   10 minutes ago   Up 10 minutes                                              k8s_etcd_etcd-minikube_kube-system_08a3871e1baa241b73e5af01a6d01393_2\n",
      "4adaedb37fe6   e64579b7d886                          \"kube-apiserver --ad…\"   10 minutes ago   Up 10 minutes                                              k8s_kube-apiserver_kube-apiserver-minikube_kube-system_a4420971fd19eb369de8c73a921699cb_2\n",
      "48114702f7ce   b51ddc1014b0                          \"kube-scheduler --au…\"   10 minutes ago   Up 10 minutes                                              k8s_kube-scheduler_kube-scheduler-minikube_kube-system_97bca4cd66281ad2157a6a68956c4fa5_2\n",
      "f748b72814f4   5425bcbd23c5                          \"kube-controller-man…\"   10 minutes ago   Up 10 minutes                                              k8s_kube-controller-manager_kube-controller-manager-minikube_kube-system_4787f37e041fd890d5499a8863561e5f_2\n",
      "062aaecda655   k8s.gcr.io/pause:3.5                  \"/pause\"                 10 minutes ago   Up 10 minutes                                              k8s_POD_kube-scheduler-minikube_kube-system_97bca4cd66281ad2157a6a68956c4fa5_2\n",
      "40887133ef44   k8s.gcr.io/pause:3.5                  \"/pause\"                 10 minutes ago   Up 10 minutes                                              k8s_POD_kube-controller-manager-minikube_kube-system_4787f37e041fd890d5499a8863561e5f_2\n",
      "9e0882019c11   k8s.gcr.io/pause:3.5                  \"/pause\"                 10 minutes ago   Up 10 minutes                                              k8s_POD_kube-apiserver-minikube_kube-system_a4420971fd19eb369de8c73a921699cb_2\n",
      "99aa4839bcf8   k8s.gcr.io/pause:3.5                  \"/pause\"                 10 minutes ago   Up 10 minutes                                              k8s_POD_etcd-minikube_kube-system_08a3871e1baa241b73e5af01a6d01393_2\n"
     ]
    }
   ],
   "source": [
    "docker exec  minikube docker ps"
   ]
  },
  {
   "cell_type": "code",
   "execution_count": 88,
   "metadata": {},
   "outputs": [
    {
     "name": "stdout",
     "output_type": "stream",
     "text": [
      "NAME                        READY   STATUS    RESTARTS   AGE\n",
      "keycloak-6655d58b6c-rr8vq   1/1     Running   0          9m57s\n"
     ]
    }
   ],
   "source": [
    "kubectl get pods"
   ]
  },
  {
   "cell_type": "code",
   "execution_count": 130,
   "metadata": {},
   "outputs": [
    {
     "name": "stdout",
     "output_type": "stream",
     "text": [
      "etcd.yaml\n",
      "kube-apiserver.yaml\n",
      "kube-controller-manager.yaml\n",
      "kube-scheduler.yaml\n"
     ]
    }
   ],
   "source": [
    "docker exec minikube ls /etc/kubernetes/manifests"
   ]
  },
  {
   "cell_type": "code",
   "execution_count": 145,
   "metadata": {
    "collapsed": true,
    "jupyter": {
     "outputs_hidden": true
    }
   },
   "outputs": [
    {
     "name": "stdout",
     "output_type": "stream",
     "text": [
      "apiVersion: v1\n",
      "kind: Pod\n",
      "metadata:\n",
      "  annotations:\n",
      "    kubeadm.kubernetes.io/kube-apiserver.advertise-address.endpoint: 192.168.49.2:8443\n",
      "  creationTimestamp: null\n",
      "  labels:\n",
      "    component: kube-apiserver\n",
      "    tier: control-plane\n",
      "  name: kube-apiserver\n",
      "  namespace: kube-system\n",
      "spec:\n",
      "  containers:\n",
      "  - command:\n",
      "    - kube-apiserver\n",
      "    - --advertise-address=192.168.49.2\n",
      "    - --allow-privileged=true\n",
      "    - --authorization-mode=Node,RBAC\n",
      "    - --client-ca-file=/var/lib/minikube/certs/ca.crt\n",
      "    - --enable-admission-plugins=NamespaceLifecycle,LimitRanger,ServiceAccount,DefaultStorageClass,DefaultTolerationSeconds,NodeRestriction,MutatingAdmissionWebhook,ValidatingAdmissionWebhook,ResourceQuota\n",
      "    - --enable-bootstrap-token-auth=true\n",
      "    - --etcd-cafile=/var/lib/minikube/certs/etcd/ca.crt\n",
      "    - --etcd-certfile=/var/lib/minikube/certs/apiserver-etcd-client.crt\n",
      "    - --etcd-keyfile=/var/lib/minikube/certs/apiserver-etcd-client.key\n",
      "    - --etcd-servers=https://127.0.0.1:2379\n",
      "    - --kubelet-client-certificate=/var/lib/minikube/certs/apiserver-kubelet-client.crt\n",
      "    - --kubelet-client-key=/var/lib/minikube/certs/apiserver-kubelet-client.key\n",
      "    - --kubelet-preferred-address-types=InternalIP,ExternalIP,Hostname\n",
      "\u001b[01;31m\u001b[K    - --oidc-client-id=kubernetes\u001b[m\u001b[K\n",
      "\u001b[01;31m\u001b[K    - --oidc-groups-claim=groups\u001b[m\u001b[K\n",
      "\u001b[01;31m\u001b[K    - '--oidc-groups-prefix=oidc:'\u001b[m\u001b[K\n",
      "\u001b[01;31m\u001b[K    - --oidc-issuer-url=https://keycloak.192.168.49.2.nip.io/auth/realms/myrealm\u001b[m\u001b[K\n",
      "\u001b[01;31m\u001b[K    - --oidc-username-claim=email\u001b[m\u001b[K\n",
      "\u001b[01;31m\u001b[K    - '--oidc-username-prefix=oidc:'\u001b[m\u001b[K\n",
      "    - --proxy-client-cert-file=/var/lib/minikube/certs/front-proxy-client.crt\n",
      "    - --proxy-client-key-file=/var/lib/minikube/certs/front-proxy-client.key\n",
      "    - --requestheader-allowed-names=front-proxy-client\n",
      "    - --requestheader-client-ca-file=/var/lib/minikube/certs/front-proxy-ca.crt\n",
      "    - --requestheader-extra-headers-prefix=X-Remote-Extra-\n",
      "    - --requestheader-group-headers=X-Remote-Group\n",
      "    - --requestheader-username-headers=X-Remote-User\n",
      "    - --secure-port=8443\n",
      "    - --service-account-issuer=https://kubernetes.default.svc.cluster.local\n",
      "    - --service-account-key-file=/var/lib/minikube/certs/sa.pub\n",
      "    - --service-account-signing-key-file=/var/lib/minikube/certs/sa.key\n",
      "    - --service-cluster-ip-range=10.96.0.0/12\n",
      "    - --tls-cert-file=/var/lib/minikube/certs/apiserver.crt\n",
      "    - --tls-private-key-file=/var/lib/minikube/certs/apiserver.key\n",
      "    image: k8s.gcr.io/kube-apiserver:v1.22.2\n",
      "    imagePullPolicy: IfNotPresent\n",
      "    livenessProbe:\n",
      "      failureThreshold: 8\n",
      "      httpGet:\n",
      "        host: 192.168.49.2\n",
      "        path: /livez\n",
      "        port: 8443\n",
      "        scheme: HTTPS\n",
      "      initialDelaySeconds: 10\n",
      "      periodSeconds: 10\n",
      "      timeoutSeconds: 15\n",
      "    name: kube-apiserver\n",
      "    readinessProbe:\n",
      "      failureThreshold: 3\n",
      "      httpGet:\n",
      "        host: 192.168.49.2\n",
      "        path: /readyz\n",
      "        port: 8443\n",
      "        scheme: HTTPS\n",
      "      periodSeconds: 1\n",
      "      timeoutSeconds: 15\n",
      "    resources:\n",
      "      requests:\n",
      "        cpu: 250m\n",
      "    startupProbe:\n",
      "      failureThreshold: 24\n",
      "      httpGet:\n",
      "        host: 192.168.49.2\n",
      "        path: /livez\n",
      "        port: 8443\n",
      "        scheme: HTTPS\n",
      "      initialDelaySeconds: 10\n",
      "      periodSeconds: 10\n",
      "      timeoutSeconds: 15\n",
      "    volumeMounts:\n",
      "    - mountPath: /etc/ssl/certs\n",
      "      name: ca-certs\n",
      "      readOnly: true\n",
      "    - mountPath: /etc/ca-certificates\n",
      "      name: etc-ca-certificates\n",
      "      readOnly: true\n",
      "    - mountPath: /var/lib/minikube/certs\n",
      "      name: k8s-certs\n",
      "      readOnly: true\n",
      "    - mountPath: /usr/local/share/ca-certificates\n",
      "      name: usr-local-share-ca-certificates\n",
      "      readOnly: true\n",
      "    - mountPath: /usr/share/ca-certificates\n",
      "      name: usr-share-ca-certificates\n",
      "      readOnly: true\n",
      "  hostNetwork: true\n",
      "  priorityClassName: system-node-critical\n",
      "  securityContext:\n",
      "    seccompProfile:\n",
      "      type: RuntimeDefault\n",
      "  volumes:\n",
      "  - hostPath:\n",
      "      path: /etc/ssl/certs\n",
      "      type: DirectoryOrCreate\n",
      "    name: ca-certs\n",
      "  - hostPath:\n",
      "      path: /etc/ca-certificates\n",
      "      type: DirectoryOrCreate\n",
      "    name: etc-ca-certificates\n",
      "  - hostPath:\n",
      "      path: /var/lib/minikube/certs\n",
      "      type: DirectoryOrCreate\n",
      "    name: k8s-certs\n",
      "  - hostPath:\n",
      "      path: /usr/local/share/ca-certificates\n",
      "      type: DirectoryOrCreate\n",
      "    name: usr-local-share-ca-certificates\n",
      "  - hostPath:\n",
      "      path: /usr/share/ca-certificates\n",
      "      type: DirectoryOrCreate\n",
      "    name: usr-share-ca-certificates\n",
      "status: {}\n"
     ]
    }
   ],
   "source": [
    "docker exec minikube cat /etc/kubernetes/manifests/kube-apiserver.yaml | grep -E  '(.*oidc.*|^)' "
   ]
  },
  {
   "cell_type": "code",
   "execution_count": 146,
   "metadata": {
    "collapsed": true,
    "jupyter": {
     "outputs_hidden": true
    }
   },
   "outputs": [
    {
     "name": "stdout",
     "output_type": "stream",
     "text": [
      "apiVersion: v1\n",
      "clusters:\n",
      "- cluster:\n",
      "    certificate-authority-data: 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\n",
      "    server: https://api.crc.testing:6443\n",
      "  name: api-crc-testing:6443\n",
      "- cluster:\n",
      "    certificate-authority: /home/thomas/.minikube/ca.crt\n",
      "    extensions:\n",
      "    - extension:\n",
      "        last-update: Sat, 30 Oct 2021 18:56:48 CEST\n",
      "        provider: minikube.sigs.k8s.io\n",
      "        version: v1.23.2\n",
      "      name: cluster_info\n",
      "    server: https://192.168.49.2:8443\n",
      "  name: minikube\n",
      "contexts:\n",
      "- context:\n",
      "    cluster: api-crc-testing:6443\n",
      "    namespace: default\n",
      "    user: kubeadmin\n",
      "  name: crc-admin\n",
      "- context:\n",
      "    cluster: api-crc-testing:6443\n",
      "    namespace: default\n",
      "    user: developer\n",
      "  name: crc-developer\n",
      "- context:\n",
      "    cluster: api-crc-testing:6443\n",
      "    namespace: default\n",
      "    user: kubeadmin/api-crc-testing:6443\n",
      "  name: default/api-crc-testing:6443/kubeadmin\n",
      "- context:\n",
      "    cluster: minikube\n",
      "    extensions:\n",
      "    - extension:\n",
      "        last-update: Sat, 30 Oct 2021 18:56:48 CEST\n",
      "        provider: minikube.sigs.k8s.io\n",
      "        version: v1.23.2\n",
      "      name: context_info\n",
      "    namespace: keycloak\n",
      "    user: minikube\n",
      "  name: minikube\n",
      "current-context: minikube\n",
      "kind: Config\n",
      "preferences: {}\n",
      "users:\n",
      "- name: developer\n",
      "  user:\n",
      "    token: sha256~8OQOjL2ssVi5nk0OwxBQS08FJQdagLESV70e8CifLvA\n",
      "- name: kubeadmin\n",
      "  user:\n",
      "    token: sha256~o6otxS0gErc_qvR9L902zw-z-rZdotjkZUjvJ12ke-4\n",
      "- name: kubeadmin/api-crc-testing:6443\n",
      "  user:\n",
      "    token: sha256~HtClY5LCK2OtAn28BJ3-bsq4kP8_BPfxzQgbOgFo-94\n",
      "- name: minikube\n",
      "  user:\n",
      "    client-certificate: /home/thomas/.minikube/profiles/minikube/client.crt\n",
      "    client-key: /home/thomas/.minikube/profiles/minikube/client.key\n"
     ]
    }
   ],
   "source": [
    "cat ~/.kube/config"
   ]
  },
  {
   "cell_type": "code",
   "execution_count": 147,
   "metadata": {},
   "outputs": [],
   "source": [
    "cp ~/.kube/config ~/.kube/oidcconfig"
   ]
  },
  {
   "cell_type": "code",
   "execution_count": 89,
   "metadata": {},
   "outputs": [
    {
     "name": "stdout",
     "output_type": "stream",
     "text": [
      "User \"minikube\" set.\n"
     ]
    }
   ],
   "source": [
    "kubectl config set-credentials  minikube \\\n",
    "   --auth-provider oidc \\\n",
    "   --auth-provider-arg client-id=kubernetes \\\n",
    "   --auth-provider-arg idp-issuer-url=https://$KEYCLOAK_HOST/auth/realms/myrealm"
   ]
  },
  {
   "cell_type": "code",
   "execution_count": 90,
   "metadata": {},
   "outputs": [
    {
     "name": "stdout",
     "output_type": "stream",
     "text": [
      "Unable to connect to the server: No valid id-token, and cannot refresh without refresh-token\n"
     ]
    },
    {
     "ename": "",
     "evalue": "1",
     "output_type": "error",
     "traceback": []
    }
   ],
   "source": [
    "kubectl  get pods "
   ]
  },
  {
   "cell_type": "code",
   "execution_count": 91,
   "metadata": {},
   "outputs": [
    {
     "name": "stdout",
     "output_type": "stream",
     "text": [
      "I1112 18:36:20.794435 3545202 standalone.go:66] WARNING: log may contain your secrets such as token or password\n",
      "I1112 18:36:20.795768 3545202 loader.go:372] Config loaded from file:  /home/thomas/.kube/config\n",
      "NOTE: You can use the credential plugin mode for better user experience.\n",
      "Kubectl automatically runs kubelogin and you do not need to run kubelogin explicitly.\n",
      "See https://github.com/int128/kubelogin for more.\n",
      "I1112 18:36:20.795824 3545202 standalone.go:74] using the authentication provider of the user minikube\n",
      "I1112 18:36:20.795830 3545202 standalone.go:75] a token will be written to /home/thomas/.kube/config\n",
      "I1112 18:36:20.795842 3545202 authentication.go:94] initializing an OpenID Connect client\n",
      "I1112 18:36:20.796084 3545202 transport.go:30] GET /auth/realms/myrealm/.well-known/openid-configuration HTTP/1.1\n",
      "Host: keycloak-192-168-49-2.nip.io\n",
      "User-Agent: Go-http-client/1.1\n",
      "Accept-Encoding: gzip\n",
      "\n",
      "I1112 18:36:20.811150 3545202 transport.go:40] HTTP/1.1 200 OK\n",
      "Content-Length: 5940\n",
      "Cache-Control: no-cache, must-revalidate, no-transform, no-store\n",
      "Connection: keep-alive\n",
      "Content-Type: application/json\n",
      "Date: Fri, 12 Nov 2021 17:36:20 GMT\n",
      "Referrer-Policy: no-referrer\n",
      "Strict-Transport-Security: max-age=31536000; includeSubDomains\n",
      "X-Content-Type-Options: nosniff\n",
      "X-Frame-Options: SAMEORIGIN\n",
      "X-Xss-Protection: 1; mode=block\n",
      "\n",
      "{\"issuer\":\"https://keycloak-192-168-49-2.nip.io/auth/realms/myrealm\",\"authorization_endpoint\":\"https://keycloak-192-168-49-2.nip.io/auth/realms/myrealm/protocol/openid-connect/auth\",\"token_endpoint\":\"https://keycloak-192-168-49-2.nip.io/auth/realms/myrealm/protocol/openid-connect/token\",\"introspection_endpoint\":\"https://keycloak-192-168-49-2.nip.io/auth/realms/myrealm/protocol/openid-connect/token/introspect\",\"userinfo_endpoint\":\"https://keycloak-192-168-49-2.nip.io/auth/realms/myrealm/protocol/openid-connect/userinfo\",\"end_session_endpoint\":\"https://keycloak-192-168-49-2.nip.io/auth/realms/myrealm/protocol/openid-connect/logout\",\"jwks_uri\":\"https://keycloak-192-168-49-2.nip.io/auth/realms/myrealm/protocol/openid-connect/certs\",\"check_session_iframe\":\"https://keycloak-192-168-49-2.nip.io/auth/realms/myrealm/protocol/openid-connect/login-status-iframe.html\",\"grant_types_supported\":[\"authorization_code\",\"implicit\",\"refresh_token\",\"password\",\"client_credentials\",\"urn:ietf:params:oauth:grant-type:device_code\",\"urn:openid:params:grant-type:ciba\"],\"response_types_supported\":[\"code\",\"none\",\"id_token\",\"token\",\"id_token token\",\"code id_token\",\"code token\",\"code id_token token\"],\"subject_types_supported\":[\"public\",\"pairwise\"],\"id_token_signing_alg_values_supported\":[\"PS384\",\"ES384\",\"RS384\",\"HS256\",\"HS512\",\"ES256\",\"RS256\",\"HS384\",\"ES512\",\"PS256\",\"PS512\",\"RS512\"],\"id_token_encryption_alg_values_supported\":[\"RSA-OAEP\",\"RSA-OAEP-256\",\"RSA1_5\"],\"id_token_encryption_enc_values_supported\":[\"A256GCM\",\"A192GCM\",\"A128GCM\",\"A128CBC-HS256\",\"A192CBC-HS384\",\"A256CBC-HS512\"],\"userinfo_signing_alg_values_supported\":[\"PS384\",\"ES384\",\"RS384\",\"HS256\",\"HS512\",\"ES256\",\"RS256\",\"HS384\",\"ES512\",\"PS256\",\"PS512\",\"RS512\",\"none\"],\"request_object_signing_alg_values_supported\":[\"PS384\",\"ES384\",\"RS384\",\"HS256\",\"HS512\",\"ES256\",\"RS256\",\"HS384\",\"ES512\",\"PS256\",\"PS512\",\"RS512\",\"none\"],\"request_object_encryption_alg_values_supported\":[\"RSA-OAEP\",\"RSA-OAEP-256\",\"RSA1_5\"],\"request_object_encryption_enc_values_supported\":[\"A256GCM\",\"A192GCM\",\"A128GCM\",\"A128CBC-HS256\",\"A192CBC-HS384\",\"A256CBC-HS512\"],\"response_modes_supported\":[\"query\",\"fragment\",\"form_post\",\"query.jwt\",\"fragment.jwt\",\"form_post.jwt\",\"jwt\"],\"registration_endpoint\":\"https://keycloak-192-168-49-2.nip.io/auth/realms/myrealm/clients-registrations/openid-connect\",\"token_endpoint_auth_methods_supported\":[\"private_key_jwt\",\"client_secret_basic\",\"client_secret_post\",\"tls_client_auth\",\"client_secret_jwt\"],\"token_endpoint_auth_signing_alg_values_supported\":[\"PS384\",\"ES384\",\"RS384\",\"HS256\",\"HS512\",\"ES256\",\"RS256\",\"HS384\",\"ES512\",\"PS256\",\"PS512\",\"RS512\"],\"introspection_endpoint_auth_methods_supported\":[\"private_key_jwt\",\"client_secret_basic\",\"client_secret_post\",\"tls_client_auth\",\"client_secret_jwt\"],\"introspection_endpoint_auth_signing_alg_values_supported\":[\"PS384\",\"ES384\",\"RS384\",\"HS256\",\"HS512\",\"ES256\",\"RS256\",\"HS384\",\"ES512\",\"PS256\",\"PS512\",\"RS512\"],\"authorization_signing_alg_values_supported\":[\"PS384\",\"ES384\",\"RS384\",\"HS256\",\"HS512\",\"ES256\",\"RS256\",\"HS384\",\"ES512\",\"PS256\",\"PS512\",\"RS512\"],\"authorization_encryption_alg_values_supported\":[\"RSA-OAEP\",\"RSA-OAEP-256\",\"RSA1_5\"],\"authorization_encryption_enc_values_supported\":[\"A256GCM\",\"A192GCM\",\"A128GCM\",\"A128CBC-HS256\",\"A192CBC-HS384\",\"A256CBC-HS512\"],\"claims_supported\":[\"aud\",\"sub\",\"iss\",\"auth_time\",\"name\",\"given_name\",\"family_name\",\"preferred_username\",\"email\",\"acr\"],\"claim_types_supported\":[\"normal\"],\"claims_parameter_supported\":true,\"scopes_supported\":[\"openid\",\"email\",\"offline_access\",\"phone\",\"microprofile-jwt\",\"profile\",\"roles\",\"address\",\"web-origins\"],\"request_parameter_supported\":true,\"request_uri_parameter_supported\":true,\"require_request_uri_registration\":true,\"code_challenge_methods_supported\":[\"plain\",\"S256\"],\"tls_client_certificate_bound_access_tokens\":true,\"revocation_endpoint\":\"https://keycloak-192-168-49-2.nip.io/auth/realms/myrealm/protocol/openid-connect/revoke\",\"revocation_endpoint_auth_methods_supported\":[\"private_key_jwt\",\"client_secret_basic\",\"client_secret_post\",\"tls_client_auth\",\"client_secret_jwt\"],\"revocation_endpoint_auth_signing_alg_values_supported\":[\"PS384\",\"ES384\",\"RS384\",\"HS256\",\"HS512\",\"ES256\",\"RS256\",\"HS384\",\"ES512\",\"PS256\",\"PS512\",\"RS512\"],\"backchannel_logout_supported\":true,\"backchannel_logout_session_supported\":true,\"device_authorization_endpoint\":\"https://keycloak-192-168-49-2.nip.io/auth/realms/myrealm/protocol/openid-connect/auth/device\",\"backchannel_token_delivery_modes_supported\":[\"poll\",\"ping\"],\"backchannel_authentication_endpoint\":\"https://keycloak-192-168-49-2.nip.io/auth/realms/myrealm/protocol/openid-connect/ext/ciba/auth\",\"backchannel_authentication_request_signing_alg_values_supported\":[\"PS384\",\"ES384\",\"RS384\",\"ES256\",\"RS256\",\"ES512\",\"PS256\",\"PS512\",\"RS512\"],\"require_pushed_authorization_requests\":false,\"pushed_authorization_request_endpoint\":\"https://keycloak-192-168-49-2.nip.io/auth/realms/myrealm/protocol/openid-connect/ext/par/request\",\"mtls_endpoint_aliases\":{\"token_endpoint\":\"https://keycloak-192-168-49-2.nip.io/auth/realms/myrealm/protocol/openid-connect/token\",\"revocation_endpoint\":\"https://keycloak-192-168-49-2.nip.io/auth/realms/myrealm/protocol/openid-connect/revoke\",\"introspection_endpoint\":\"https://keycloak-192-168-49-2.nip.io/auth/realms/myrealm/protocol/openid-connect/token/introspect\",\"device_authorization_endpoint\":\"https://keycloak-192-168-49-2.nip.io/auth/realms/myrealm/protocol/openid-connect/auth/device\",\"registration_endpoint\":\"https://keycloak-192-168-49-2.nip.io/auth/realms/myrealm/clients-registrations/openid-connect\",\"userinfo_endpoint\":\"https://keycloak-192-168-49-2.nip.io/auth/realms/myrealm/protocol/openid-connect/userinfo\",\"pushed_authorization_request_endpoint\":\"https://keycloak-192-168-49-2.nip.io/auth/realms/myrealm/protocol/openid-connect/ext/par/request\",\"backchannel_authentication_endpoint\":\"https://keycloak-192-168-49-2.nip.io/auth/realms/myrealm/protocol/openid-connect/ext/ciba/auth\"}}\n",
      "I1112 18:36:20.811647 3545202 browser.go:35] starting the authentication code flow using the browser\n",
      "I1112 18:36:20.812061 3545202 browser.go:104] opening http://localhost:8000 in the browser\n",
      "I1112 18:36:20.812061 3545202 server.go:36] oauth2cli: starting a server at 127.0.0.1:8000\n",
      "Wird in einer aktuellen Browsersitzung geöffnet.\n",
      "I1112 18:36:21.140549 3545202 server.go:135] oauth2cli: sending redirect to https://keycloak-192-168-49-2.nip.io/auth/realms/myrealm/protocol/openid-connect/auth?access_type=offline&client_id=kubernetes&code_challenge=KVCEgMKMOsBF3NpcJUbLlE7chK_YhTWn1QboZTUp2Yw&code_challenge_method=S256&nonce=tNfAxJJ5_X4jJiF1rlu9YhsF31UtqjDnsMTnsHZudpU&redirect_uri=http%3A%2F%2Flocalhost%3A8000&response_type=code&scope=openid&state=oKr4UzdYhK_XXSruUQ8tt-eN0GPbb8H4F9OHFfKIB5Q\n",
      "I1112 18:36:21.162866 3545202 server.go:66] oauth2cli: shutting down the server\n",
      "I1112 18:36:21.163055 3545202 server.go:47] oauth2cli: stopped the server\n",
      "I1112 18:36:21.164184 3545202 oauth2cli.go:147] oauth2cli: exchanging the code and token\n",
      "I1112 18:36:21.164556 3545202 transport.go:30] POST /auth/realms/myrealm/protocol/openid-connect/token HTTP/1.1\n",
      "Host: keycloak-192-168-49-2.nip.io\n",
      "User-Agent: Go-http-client/1.1\n",
      "Content-Length: 246\n",
      "Authorization: Basic a3ViZXJuZXRlczo=\n",
      "Content-Type: application/x-www-form-urlencoded\n",
      "Accept-Encoding: gzip\n",
      "\n",
      "code=2b71a881-99b0-4b9e-bad3-fdfbc648a5f2.6a6e7038-da56-4d94-ba78-b1717ab6d164.25a6a2ef-9c07-4eaa-bea2-b2382759aed3&code_verifier=p_gvOhyz9CnkvuNKPOj609AztxkqZHuF48lu4jOQuCo&grant_type=authorization_code&redirect_uri=http%3A%2F%2Flocalhost%3A8000\n",
      "I1112 18:36:21.180175 3545202 transport.go:40] HTTP/1.1 200 OK\n",
      "Content-Length: 3679\n",
      "Cache-Control: no-store\n",
      "Connection: keep-alive\n",
      "Content-Type: application/json\n",
      "Date: Fri, 12 Nov 2021 17:36:21 GMT\n",
      "Pragma: no-cache\n",
      "Referrer-Policy: no-referrer\n",
      "Strict-Transport-Security: max-age=31536000; includeSubDomains\n",
      "X-Content-Type-Options: nosniff\n",
      "X-Frame-Options: SAMEORIGIN\n",
      "X-Xss-Protection: 1; mode=block\n",
      "\n",
      "{\"access_token\":\"eyJhbGciOiJSUzI1NiIsInR5cCIgOiAiSldUIiwia2lkIiA6ICJfWEFrcE8xTUVvTlFidXJwQlJrMmwyd3QzVzVtZVpyaUVnQUtERUVhOHJzIn0.eyJleHAiOjE2MzY3Mzg4ODEsImlhdCI6MTYzNjczODU4MSwiYXV0aF90aW1lIjoxNjM2NzM4MzQ4LCJqdGkiOiJiN2I3MDNiNi01OWZhLTQ3NjQtOGYxNS03MWM4NmRiOTk5OWIiLCJpc3MiOiJodHRwczovL2tleWNsb2FrLTE5Mi0xNjgtNDktMi5uaXAuaW8vYXV0aC9yZWFsbXMvbXlyZWFsbSIsImF1ZCI6ImFjY291bnQiLCJzdWIiOiI0NGUyMTdhMC1jMGZjLTQyNGEtYjY4NS0zYzAwYjU0NTRjZDAiLCJ0eXAiOiJCZWFyZXIiLCJhenAiOiJrdWJlcm5ldGVzIiwibm9uY2UiOiJ0TmZBeEpKNV9YNGpKaUYxcmx1OVloc0YzMVV0cWpEbnNNVG5zSFp1ZHBVIiwic2Vzc2lvbl9zdGF0ZSI6IjZhNmU3MDM4LWRhNTYtNGQ5NC1iYTc4LWIxNzE3YWI2ZDE2NCIsImFjciI6IjAiLCJyZWFsbV9hY2Nlc3MiOnsicm9sZXMiOlsiZGVmYXVsdC1yb2xlcy1teXJlYWxtIiwib2ZmbGluZV9hY2Nlc3MiLCJ1bWFfYXV0aG9yaXphdGlvbiJdfSwicmVzb3VyY2VfYWNjZXNzIjp7ImFjY291bnQiOnsicm9sZXMiOlsibWFuYWdlLWFjY291bnQiLCJtYW5hZ2UtYWNjb3VudC1saW5rcyIsInZpZXctcHJvZmlsZSJdfX0sInNjb3BlIjoib3BlbmlkIGVtYWlsIHByb2ZpbGUiLCJzaWQiOiI2YTZlNzAzOC1kYTU2LTRkOTQtYmE3OC1iMTcxN2FiNmQxNjQiLCJlbWFpbF92ZXJpZmllZCI6ZmFsc2UsIm5hbWUiOiJNeSBVc2VyIiwicHJlZmVycmVkX3VzZXJuYW1lIjoibXl1c2VyIiwiZ2l2ZW5fbmFtZSI6Ik15IiwiZmFtaWx5X25hbWUiOiJVc2VyIn0.oBMjApegRaVphLATr9VxRnD6RNBWtB80qrHI1vugfW_1Ynu8JYnS-lNsdxHjtl40brT-zTaKLh7yeLdgJMooY2DzdJJ1GrV9QJXiJUwjCEfrM7BG2QfC2zyAR9HFTZd8e78P3zHJAAqsMV_GcksPEAohacpNPMauy50cg5VjIKA4Tg3N_8Liz1NISCRp4DSlcTkmO8UovnNxqHi3PTMZiTAHItf6tLv55NMIC51swOkwcwgFsAi200iFF3oiHyJgSZZ_fBJNq8lRlX37cv18qEY4oMji5CTY6g_PJO3KWy1JO78RGyXPf_4q7cQBbcN10sSA9tEsLdSCoYAOpAWS7A\",\"expires_in\":300,\"refresh_expires_in\":1800,\"refresh_token\":\"eyJhbGciOiJIUzI1NiIsInR5cCIgOiAiSldUIiwia2lkIiA6ICJiOTMyNzc1YS03NTU0LTQ5OTItODMyMS1mNTk0NzA2OGM5NTIifQ.eyJleHAiOjE2MzY3NDAzODEsImlhdCI6MTYzNjczODU4MSwianRpIjoiOWI4Mzc1ODgtZjZjNy00OGFlLTg0MzctNTQxOTMzZjQ5NDA2IiwiaXNzIjoiaHR0cHM6Ly9rZXljbG9hay0xOTItMTY4LTQ5LTIubmlwLmlvL2F1dGgvcmVhbG1zL215cmVhbG0iLCJhdWQiOiJodHRwczovL2tleWNsb2FrLTE5Mi0xNjgtNDktMi5uaXAuaW8vYXV0aC9yZWFsbXMvbXlyZWFsbSIsInN1YiI6IjQ0ZTIxN2EwLWMwZmMtNDI0YS1iNjg1LTNjMDBiNTQ1NGNkMCIsInR5cCI6IlJlZnJlc2giLCJhenAiOiJrdWJlcm5ldGVzIiwibm9uY2UiOiJ0TmZBeEpKNV9YNGpKaUYxcmx1OVloc0YzMVV0cWpEbnNNVG5zSFp1ZHBVIiwic2Vzc2lvbl9zdGF0ZSI6IjZhNmU3MDM4LWRhNTYtNGQ5NC1iYTc4LWIxNzE3YWI2ZDE2NCIsInNjb3BlIjoib3BlbmlkIGVtYWlsIHByb2ZpbGUiLCJzaWQiOiI2YTZlNzAzOC1kYTU2LTRkOTQtYmE3OC1iMTcxN2FiNmQxNjQifQ.KQDQHmUV0NTFKP_vclTx8CDNHsVnn9mDIvyW2spbKIc\",\"token_type\":\"Bearer\",\"id_token\":\"eyJhbGciOiJSUzI1NiIsInR5cCIgOiAiSldUIiwia2lkIiA6ICJfWEFrcE8xTUVvTlFidXJwQlJrMmwyd3QzVzVtZVpyaUVnQUtERUVhOHJzIn0.eyJleHAiOjE2MzY3Mzg4ODEsImlhdCI6MTYzNjczODU4MSwiYXV0aF90aW1lIjoxNjM2NzM4MzQ4LCJqdGkiOiIwZjg1NmM1OS0xNWE3LTRkMzQtYmU1Mi1hZDg5Zjk3NGFiNTIiLCJpc3MiOiJodHRwczovL2tleWNsb2FrLTE5Mi0xNjgtNDktMi5uaXAuaW8vYXV0aC9yZWFsbXMvbXlyZWFsbSIsImF1ZCI6Imt1YmVybmV0ZXMiLCJzdWIiOiI0NGUyMTdhMC1jMGZjLTQyNGEtYjY4NS0zYzAwYjU0NTRjZDAiLCJ0eXAiOiJJRCIsImF6cCI6Imt1YmVybmV0ZXMiLCJub25jZSI6InROZkF4Sko1X1g0akppRjFybHU5WWhzRjMxVXRxakRuc01UbnNIWnVkcFUiLCJzZXNzaW9uX3N0YXRlIjoiNmE2ZTcwMzgtZGE1Ni00ZDk0LWJhNzgtYjE3MTdhYjZkMTY0IiwiYXRfaGFzaCI6ImU4MWJhd2lyUHdPNmdJbElnYmlDMXciLCJhY3IiOiIwIiwic2lkIjoiNmE2ZTcwMzgtZGE1Ni00ZDk0LWJhNzgtYjE3MTdhYjZkMTY0IiwiZW1haWxfdmVyaWZpZWQiOmZhbHNlLCJuYW1lIjoiTXkgVXNlciIsInByZWZlcnJlZF91c2VybmFtZSI6Im15dXNlciIsImdpdmVuX25hbWUiOiJNeSIsImZhbWlseV9uYW1lIjoiVXNlciJ9.YjWCyd3-HvP1zcoajhd-zxpozvYA8HqvaCNG7rX-E9O4asCePRA1oMBaKK2XuJJuu9jjIHk9zxMzE888Esmb6o44mhuF3gzlxABjS9I7I-QKtD969muFhnbss-WI4zwvqZyaRgnTjltuM20H2GjLdapr3gTSV0lIyHb04i6-FQDNsWF04-QFYaeh-E2RiAIVDv0gAdhLbhgtun52jiWzp5_zMNtGcJP5AV0vu-ukeYYtwD2-blLQ80MqxBPWfINF4uBI-JX-XZVKMZ8GwbQ02lPxlKHFfk-MxT9cGQPS0tH0-_YUtJ3zZsEJEjwELK7iu0niZTqQnY7oGAcbz6_5og\",\"not-before-policy\":0,\"session_state\":\"6a6e7038-da56-4d94-ba78-b1717ab6d164\",\"scope\":\"openid email profile\"}\n",
      "I1112 18:36:21.180848 3545202 transport.go:30] GET /auth/realms/myrealm/protocol/openid-connect/certs HTTP/1.1\n",
      "Host: keycloak-192-168-49-2.nip.io\n",
      "User-Agent: Go-http-client/1.1\n",
      "Accept-Encoding: gzip\n",
      "\n",
      "I1112 18:36:21.194713 3545202 transport.go:40] HTTP/1.1 200 OK\n",
      "Content-Length: 2922\n",
      "Cache-Control: no-cache\n",
      "Connection: keep-alive\n",
      "Content-Type: application/json\n",
      "Date: Fri, 12 Nov 2021 17:36:21 GMT\n",
      "Referrer-Policy: no-referrer\n",
      "Strict-Transport-Security: max-age=31536000; includeSubDomains\n",
      "X-Content-Type-Options: nosniff\n",
      "X-Frame-Options: SAMEORIGIN\n",
      "X-Xss-Protection: 1; mode=block\n",
      "\n",
      "{\"keys\":[{\"kid\":\"HWgpGxcuoTqvHb7HSNbEN1kBdPqfy_kcg8n9I0ziOGM\",\"kty\":\"RSA\",\"alg\":\"RS256\",\"use\":\"enc\",\"n\":\"oGYm8-y8_iahvvc-7KxQFnGaKMynY1SWtuGvN4Qmo7PQQanGAztbZvp-oL6DTm179lhH_S9rPzf-0qf0C1OConM3akVRvD5ihAc1F66XxfRce4ieFXYd6pFxxX0GrxodFEgFRtOIQFhWT6t15qrKK6RyEOQP3ES8S4fUFE0MHZJjz1HaBeANtOPEb-d5THV0ghWJqNz2Zuda5VjqExBBKOKDD2FCCGpp9ljA1AB9w5UOvDAiu43Guj8l8xmWQBsWgY3KA8dpkw2uCf-bdv3MrXBzXE7Tm6_LMoqPbZhjxjhj2jW8d5VJtQRSSQTkt3mqHQgGmzpHjoOX0vzf4VidJQ\",\"e\":\"AQAB\",\"x5c\":[\"MIICnTCCAYUCBgF9FTMVyjANBgkqhkiG9w0BAQsFADASMRAwDgYDVQQDDAdteXJlYWxtMB4XDTIxMTExMjE3MjgyOVoXDTMxMTExMjE3MzAwOVowEjEQMA4GA1UEAwwHbXlyZWFsbTCCASIwDQYJKoZIhvcNAQEBBQADggEPADCCAQoCggEBAKBmJvPsvP4mob73PuysUBZxmijMp2NUlrbhrzeEJqOz0EGpxgM7W2b6fqC+g05te/ZYR/0vaz83/tKn9AtTgqJzN2pFUbw+YoQHNReul8X0XHuInhV2HeqRccV9Bq8aHRRIBUbTiEBYVk+rdeaqyiukchDkD9xEvEuH1BRNDB2SY89R2gXgDbTjxG/neUx1dIIViajc9mbnWuVY6hMQQSjigw9hQghqafZYwNQAfcOVDrwwIruNxro/JfMZlkAbFoGNygPHaZMNrgn/m3b9zK1wc1xO05uvyzKKj22YY8Y4Y9o1vHeVSbUEUkkE5Ld5qh0IBps6R46Dl9L83+FYnSUCAwEAATANBgkqhkiG9w0BAQsFAAOCAQEADCYeAN9jiDxlsAqYxZW8pdZQyAQKLqSg9ANInOJWRDvQdCc/3ij1N1L0JtQPaJ+jfmnVfXSJVGjrUeu9jjSwmANZAaU5LtHkmCTora26eEv2HrnxAVOrjNRjjmQTfxgDxph4rjEKG6Zn4z41ZSbuNG6aJp69Ee4yCh6YQwsFOxe3Cea0btNgKij79gnph2Xh4L3k4VN/9FklSkCsW9qvAqAThIYf0qRqZzFk4X7aAkwHMrMEGOw1iZj4bVacvaTVCy5uX4B+hZeN3GD9PSymVFcvIX170+rnCXrYLyhSY6BA8JWHMh83GKf7LWJF3wuPCS5vjAOxBKKRgGidEJgjQg==\"],\"x5t\":\"GHvlj6PYhQO7iQcKD4IHeqROtdE\",\"x5t#S256\":\"LWXbssPbkskCfWv06lZGaPL2JE73mAtOaAj__6ZTwAg\"},{\"kid\":\"_XAkpO1MEoNQburpBRk2l2wt3W5meZriEgAKDEEa8rs\",\"kty\":\"RSA\",\"alg\":\"RS256\",\"use\":\"sig\",\"n\":\"rSv2qpCgE2SwxUu98i-SMYp-rWd-hqUVR9c4NMsIBscinKBBeuUdOdve0XFOMjhCWvtB-DocvtcK7WHwqGSkIXIGxODlFFX3Z4NTCtEr991dfxWnhyUCLXLy_xfxPyx-3e6o23x5AxMkV436hoqCXYYoJQp_DCJumQLw94wdn75mjeexdyCtztRdq8WyCTsJVVyyNgguNy0jsTUT_AxcF7WNGlTHCGbC5B3o0p4wUfEmPMhFY6V8GgdAURecHiBsb1N4cksTctp2mLCrINhPYMqRVfob_1MqGoiO8VDWuJ38IbKSiC8MonES3UK8VWpOR_D-W7INqRAuRrP-qLupjQ\",\"e\":\"AQAB\",\"x5c\":[\"MIICnTCCAYUCBgF9FTMVLDANBgkqhkiG9w0BAQsFADASMRAwDgYDVQQDDAdteXJlYWxtMB4XDTIxMTExMjE3MjgyOVoXDTMxMTExMjE3MzAwOVowEjEQMA4GA1UEAwwHbXlyZWFsbTCCASIwDQYJKoZIhvcNAQEBBQADggEPADCCAQoCggEBAK0r9qqQoBNksMVLvfIvkjGKfq1nfoalFUfXODTLCAbHIpygQXrlHTnb3tFxTjI4Qlr7Qfg6HL7XCu1h8KhkpCFyBsTg5RRV92eDUwrRK/fdXX8Vp4clAi1y8v8X8T8sft3uqNt8eQMTJFeN+oaKgl2GKCUKfwwibpkC8PeMHZ++Zo3nsXcgrc7UXavFsgk7CVVcsjYILjctI7E1E/wMXBe1jRpUxwhmwuQd6NKeMFHxJjzIRWOlfBoHQFEXnB4gbG9TeHJLE3LadpiwqyDYT2DKkVX6G/9TKhqIjvFQ1rid/CGykogvDKJxEt1CvFVqTkfw/luyDakQLkaz/qi7qY0CAwEAATANBgkqhkiG9w0BAQsFAAOCAQEAEzm1aJ2JBs6ej9Ak8G6TygN5mklkEpBvavtKQgE6Y6IvRZIODRYzh5aZ8DR3kncLuu4SUiLnsyYaBhpPJ4PdrGDqsno9YTa9fveJITPdrMS10Z5Yf+Z2sSySyXpOiXb10hbTMgZJYOX9kdI9/JQKf0jWSFyEdm/vkEnt0sGmPIAI7hMjNmJC9zUhKuBFuo+BgpOH3uPAEs36klegF0EJIfWQM3DvSjK6pgBP54MdFobcdI1K7oQkN9GGsd4H9ckikSoGADeUuk0ckM0lrrWFKUO29EPd29JOznPRZ/q39+o91Y4PI69fYuVixA2XYM8IqUTglRwd4bjS8WQ8aAIsLA==\"],\"x5t\":\"a81xR95MNrFk2LBqpIrEc7JrqCs\",\"x5t#S256\":\"I-rFGDh6Fmi4-IsxlT_aq1fW8cvXUDbq0pkGDw8YO_c\"}]}\n",
      "I1112 18:36:21.195211 3545202 browser.go:88] got a token set by the authorization code flow\n",
      "I1112 18:36:21.195239 3545202 browser.go:94] finished the authorization code flow via the browser\n",
      "I1112 18:36:21.195309 3545202 standalone.go:112] you got a token: {\n",
      "  \"exp\": 1636738881,\n",
      "  \"iat\": 1636738581,\n",
      "  \"auth_time\": 1636738348,\n",
      "  \"jti\": \"0f856c59-15a7-4d34-be52-ad89f974ab52\",\n",
      "  \"iss\": \"https://keycloak-192-168-49-2.nip.io/auth/realms/myrealm\",\n",
      "  \"aud\": \"kubernetes\",\n",
      "  \"sub\": \"44e217a0-c0fc-424a-b685-3c00b5454cd0\",\n",
      "  \"typ\": \"ID\",\n",
      "  \"azp\": \"kubernetes\",\n",
      "  \"nonce\": \"tNfAxJJ5_X4jJiF1rlu9YhsF31UtqjDnsMTnsHZudpU\",\n",
      "  \"session_state\": \"6a6e7038-da56-4d94-ba78-b1717ab6d164\",\n",
      "  \"at_hash\": \"e81bawirPwO6gIlIgbiC1w\",\n",
      "  \"acr\": \"0\",\n",
      "  \"sid\": \"6a6e7038-da56-4d94-ba78-b1717ab6d164\",\n",
      "  \"email_verified\": false,\n",
      "  \"name\": \"My User\",\n",
      "  \"preferred_username\": \"myuser\",\n",
      "  \"given_name\": \"My\",\n",
      "  \"family_name\": \"User\"\n",
      "}\n",
      "You got a valid token until 2021-11-12 18:41:21 +0100 CET\n",
      "I1112 18:36:21.195351 3545202 standalone.go:121] writing the ID token and refresh token to /home/thomas/.kube/config\n",
      "I1112 18:36:21.196607 3545202 loader.go:372] Config loaded from file:  /home/thomas/.kube/config\n"
     ]
    },
    {
     "ename": "",
     "evalue": "1",
     "output_type": "error",
     "traceback": []
    }
   ],
   "source": [
    "kubelogin -v6  --insecure-skip-tls-verify --user=minikube"
   ]
  },
  {
   "cell_type": "code",
   "execution_count": 92,
   "metadata": {},
   "outputs": [
    {
     "name": "stdout",
     "output_type": "stream",
     "text": [
      "apiVersion: v1\n",
      "clusters:\n",
      "- cluster:\n",
      "    certificate-authority-data: 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\n",
      "    server: https://api.crc.testing:6443\n",
      "  name: api-crc-testing:6443\n",
      "- cluster:\n",
      "    certificate-authority-data: LS0tLS1CRUdJTiBDRVJUSUZJQ0FURS0tLS0tCk1JSURCakNDQWU2Z0F3SUJBZ0lCQVRBTkJna3Foa2lHOXcwQkFRc0ZBREFWTVJNd0VRWURWUVFERXdwdGFXNXAKYTNWaVpVTkJNQjRYRFRJeE1ETXdNVEE1TlRRMU1Gb1hEVE14TURJeU9EQTVOVFExTUZvd0ZURVRNQkVHQTFVRQpBeE1LYldsdWFXdDFZbVZEUVRDQ0FTSXdEUVlKS29aSWh2Y05BUUVCQlFBRGdnRVBBRENDQVFvQ2dnRUJBTkh5Cm1SRm1qaG0wdWpKRXd4ZXp2VWZvL0o2Q1Mvbkk3MS9rQlZxVEVTY3ZoZFpkYjdUazl3T1Bueng3VW9UQUIwZXoKZ3AxUjdnVFBnZnJSNGNyKy9Lc08vWExydk9CNEFoOXM0RE1lL1B5OTVyZE1iNmlDUytZMDV1VldkQ3R0bGhrSwpjM3lmblhPS29teXFaVUw0dzJLTFQza1I2clBHVXZ6M3RMYU9lYlpYc2RYNklqZXBaOHVROXZkYldXYVVVS25uCk5jUHdLc3VCNmNra1hibnBmaXRXSWovVnEwbFdZWU5OOXVJZjg0TWFqY2ZjS2twRUpoY2g4SHd2aWdtZGRiWHkKL2hnNXd0VGF3RCtUUWp5d09MVFpIMkg5bEVodGNQMS9PeE9nOU56WitaQW1CcDZFelFJbmFJMCt0YVM2WW1FbQppQ0RzUVlEYnV0bXpFWnliVEJjQ0F3RUFBYU5oTUY4d0RnWURWUjBQQVFIL0JBUURBZ0trTUIwR0ExVWRKUVFXCk1CUUdDQ3NHQVFVRkJ3TUNCZ2dyQmdFRkJRY0RBVEFQQmdOVkhSTUJBZjhFQlRBREFRSC9NQjBHQTFVZERnUVcKQkJRY004c25IMk10R1k3dU55UlZCQmdIY3hwd2hqQU5CZ2txaGtpRzl3MEJBUXNGQUFPQ0FRRUFQdXVINzlKbgpRSHZUNTAyVk1YKzM5WVkyNzI3TCtYU3NOekc0cVYyVjUvakh3by94SDNDQ0svN2EzTTlyVVp6TlpIZytsSG9GCnZiVzZ0K2VvNmJmeE9iSHlMcjVoY1JBSVYxNWpaY0RhTVh4Zys3SjFrWExsb1ZaL2VVcmRqT2lLSEtJOURzU0QKY05DdXdwODRHYXNzdjRVMTBMSmFjd1EvcVRENThDT0UwelFSY0hibjJrMUFRK01BOThHTmlMRHQxTml2UDB6aApOb1hLcURFT1ZkWVE5Mi81VkVkT1o0TVZIOHF6RWw2YUhjZE0zR210WGVtZGlBZFdQV1hJY2JGbzNDVUJzOExVCkk5dzZKUDZvaGhKZysvUUtMaGdhQ1M5dUxVdjlqVnBucVRqUnNvbUtrQ0cyNmNGWGZYeDd5cmJBZG5Kb1p6Z1IKczFVNThZSS9PMm50UXc9PQotLS0tLUVORCBDRVJUSUZJQ0FURS0tLS0tCg==\n",
      "    extensions:\n",
      "    - extension:\n",
      "        last-update: Fri, 12 Nov 2021 18:24:52 CET\n",
      "        provider: minikube.sigs.k8s.io\n",
      "        version: v1.23.2\n",
      "      name: cluster_info\n",
      "    server: https://192.168.49.2:8443\n",
      "  name: minikube\n",
      "contexts:\n",
      "- context:\n",
      "    cluster: api-crc-testing:6443\n",
      "    namespace: default\n",
      "    user: kubeadmin\n",
      "  name: crc-admin\n",
      "- context:\n",
      "    cluster: api-crc-testing:6443\n",
      "    namespace: default\n",
      "    user: developer\n",
      "  name: crc-developer\n",
      "- context:\n",
      "    cluster: api-crc-testing:6443\n",
      "    namespace: default\n",
      "    user: kubeadmin/api-crc-testing:6443\n",
      "  name: default/api-crc-testing:6443/kubeadmin\n",
      "- context:\n",
      "    cluster: minikube\n",
      "    extensions:\n",
      "    - extension:\n",
      "        last-update: Fri, 12 Nov 2021 18:24:52 CET\n",
      "        provider: minikube.sigs.k8s.io\n",
      "        version: v1.23.2\n",
      "      name: context_info\n",
      "    namespace: keycloak\n",
      "    user: minikube\n",
      "  name: minikube\n",
      "- context:\n",
      "    cluster: minikube\n",
      "    user: myuser\n",
      "  name: myuser\n",
      "current-context: minikube\n",
      "kind: Config\n",
      "preferences: {}\n",
      "users:\n",
      "- name: developer\n",
      "  user:\n",
      "    token: sha256~8OQOjL2ssVi5nk0OwxBQS08FJQdagLESV70e8CifLvA\n",
      "- name: kubeadmin\n",
      "  user:\n",
      "    token: sha256~o6otxS0gErc_qvR9L902zw-z-rZdotjkZUjvJ12ke-4\n",
      "- name: kubeadmin/api-crc-testing:6443\n",
      "  user:\n",
      "    token: sha256~HtClY5LCK2OtAn28BJ3-bsq4kP8_BPfxzQgbOgFo-94\n",
      "- name: minikube\n",
      "  user:\n",
      "    auth-provider:\n",
      "      config:\n",
      "        client-id: kubernetes\n",
      "        id-token: eyJhbGciOiJSUzI1NiIsInR5cCIgOiAiSldUIiwia2lkIiA6ICJfWEFrcE8xTUVvTlFidXJwQlJrMmwyd3QzVzVtZVpyaUVnQUtERUVhOHJzIn0.eyJleHAiOjE2MzY3Mzg4ODEsImlhdCI6MTYzNjczODU4MSwiYXV0aF90aW1lIjoxNjM2NzM4MzQ4LCJqdGkiOiIwZjg1NmM1OS0xNWE3LTRkMzQtYmU1Mi1hZDg5Zjk3NGFiNTIiLCJpc3MiOiJodHRwczovL2tleWNsb2FrLTE5Mi0xNjgtNDktMi5uaXAuaW8vYXV0aC9yZWFsbXMvbXlyZWFsbSIsImF1ZCI6Imt1YmVybmV0ZXMiLCJzdWIiOiI0NGUyMTdhMC1jMGZjLTQyNGEtYjY4NS0zYzAwYjU0NTRjZDAiLCJ0eXAiOiJJRCIsImF6cCI6Imt1YmVybmV0ZXMiLCJub25jZSI6InROZkF4Sko1X1g0akppRjFybHU5WWhzRjMxVXRxakRuc01UbnNIWnVkcFUiLCJzZXNzaW9uX3N0YXRlIjoiNmE2ZTcwMzgtZGE1Ni00ZDk0LWJhNzgtYjE3MTdhYjZkMTY0IiwiYXRfaGFzaCI6ImU4MWJhd2lyUHdPNmdJbElnYmlDMXciLCJhY3IiOiIwIiwic2lkIjoiNmE2ZTcwMzgtZGE1Ni00ZDk0LWJhNzgtYjE3MTdhYjZkMTY0IiwiZW1haWxfdmVyaWZpZWQiOmZhbHNlLCJuYW1lIjoiTXkgVXNlciIsInByZWZlcnJlZF91c2VybmFtZSI6Im15dXNlciIsImdpdmVuX25hbWUiOiJNeSIsImZhbWlseV9uYW1lIjoiVXNlciJ9.YjWCyd3-HvP1zcoajhd-zxpozvYA8HqvaCNG7rX-E9O4asCePRA1oMBaKK2XuJJuu9jjIHk9zxMzE888Esmb6o44mhuF3gzlxABjS9I7I-QKtD969muFhnbss-WI4zwvqZyaRgnTjltuM20H2GjLdapr3gTSV0lIyHb04i6-FQDNsWF04-QFYaeh-E2RiAIVDv0gAdhLbhgtun52jiWzp5_zMNtGcJP5AV0vu-ukeYYtwD2-blLQ80MqxBPWfINF4uBI-JX-XZVKMZ8GwbQ02lPxlKHFfk-MxT9cGQPS0tH0-_YUtJ3zZsEJEjwELK7iu0niZTqQnY7oGAcbz6_5og\n",
      "        idp-issuer-url: https://keycloak-192-168-49-2.nip.io/auth/realms/myrealm\n",
      "        refresh-token: eyJhbGciOiJIUzI1NiIsInR5cCIgOiAiSldUIiwia2lkIiA6ICJiOTMyNzc1YS03NTU0LTQ5OTItODMyMS1mNTk0NzA2OGM5NTIifQ.eyJleHAiOjE2MzY3NDAzODEsImlhdCI6MTYzNjczODU4MSwianRpIjoiOWI4Mzc1ODgtZjZjNy00OGFlLTg0MzctNTQxOTMzZjQ5NDA2IiwiaXNzIjoiaHR0cHM6Ly9rZXljbG9hay0xOTItMTY4LTQ5LTIubmlwLmlvL2F1dGgvcmVhbG1zL215cmVhbG0iLCJhdWQiOiJodHRwczovL2tleWNsb2FrLTE5Mi0xNjgtNDktMi5uaXAuaW8vYXV0aC9yZWFsbXMvbXlyZWFsbSIsInN1YiI6IjQ0ZTIxN2EwLWMwZmMtNDI0YS1iNjg1LTNjMDBiNTQ1NGNkMCIsInR5cCI6IlJlZnJlc2giLCJhenAiOiJrdWJlcm5ldGVzIiwibm9uY2UiOiJ0TmZBeEpKNV9YNGpKaUYxcmx1OVloc0YzMVV0cWpEbnNNVG5zSFp1ZHBVIiwic2Vzc2lvbl9zdGF0ZSI6IjZhNmU3MDM4LWRhNTYtNGQ5NC1iYTc4LWIxNzE3YWI2ZDE2NCIsInNjb3BlIjoib3BlbmlkIGVtYWlsIHByb2ZpbGUiLCJzaWQiOiI2YTZlNzAzOC1kYTU2LTRkOTQtYmE3OC1iMTcxN2FiNmQxNjQifQ.KQDQHmUV0NTFKP_vclTx8CDNHsVnn9mDIvyW2spbKIc\n",
      "      name: oidc\n",
      "    client-certificate-data: LS0tLS1CRUdJTiBDRVJUSUZJQ0FURS0tLS0tCk1JSURJVENDQWdtZ0F3SUJBZ0lCQWpBTkJna3Foa2lHOXcwQkFRc0ZBREFWTVJNd0VRWURWUVFERXdwdGFXNXAKYTNWaVpVTkJNQjRYRFRJeE1URXhNVEUzTWpBeE5Gb1hEVEl5TVRFeE1qRTNNakF4TkZvd01URVhNQlVHQTFVRQpDaE1PYzNsemRHVnRPbTFoYzNSbGNuTXhGakFVQmdOVkJBTVREVzFwYm1scmRXSmxMWFZ6WlhJd2dnRWlNQTBHCkNTcUdTSWIzRFFFQkFRVUFBNElCRHdBd2dnRUtBb0lCQVFEVWk3eFJETFI4N1gzcXBoeFVOU1NGTWcwSVIxQ08KbXF5eEx2RDloTUtZbGhwaUxzTm8waFR6blBzNGtMNTdXQWswNFRmVWdVV0pqR09IQ2NJMGtFNGNFaVVjQmRUdgpZOHJuc3lhWi9MTUx1bCt6R0Y4a2hWZmduWFRpQmU2MUNlRU9qT3psWWh5djNKQkJiTHU5ZHNrdFlBTzFNaWZ3Cm81ODk0MWpueEorQzFqZ3o4cGFaQmpxb3gzZkZlWUxMVm5peDE0WE1yTEhsNStneFVRT3Jrc0VlREI5WkJPMmIKNkpISHk2L1dyTnk2cDJUanRaU2VKbHBucTVTT0lLN2E1VXNYZ21BSktCT0tNai9PWmlUaUpaMDBuSVBLZFVVVQpzSFQyeWRIZ0ZUd2FDZ0tBTzZEbzN0ejd3VmV6Tis1YVpEblkySkVhRDhYeTIzT1FCKzlaVGU5MUFnTUJBQUdqCllEQmVNQTRHQTFVZER3RUIvd1FFQXdJRm9EQWRCZ05WSFNVRUZqQVVCZ2dyQmdFRkJRY0RBUVlJS3dZQkJRVUgKQXdJd0RBWURWUjBUQVFIL0JBSXdBREFmQmdOVkhTTUVHREFXZ0JRY004c25IMk10R1k3dU55UlZCQmdIY3hwdwpoakFOQmdrcWhraUc5dzBCQVFzRkFBT0NBUUVBdFA2VU5GVWdjNDJRK29hSkJ2eTBpVzBraDdENDdHYXZhaXRLCndPU0MyVVoyQUpJL1lVbEdDdWtGamlOcFJjREU0UTJucXgwSUhvcHNrT0JwVm5OK2tBcnppc2oyV2JVUVA2K0YKaS9rVU5ZYlZ2eU1jUVlhZzJlNjBWWUZ6RytnVG5xc2xMTXhKVmxLTFJaa2NuRkZRV2dXR01FQ3czdmJvVTVxeQpJcUkyVXk5VnRaczNBeG1xbFQ2NEJTMGxZWkdobnBOelBYVVBCY0ZCSGxtTHRrNGdsa3VTOGN0L3h2N1YzN095Ck03TFpxNm11R1d3eGptd1c0aXNhckFGblNObGNoUi9LdTZYZ2lsL1VaZkF6TXBKVzhERHovZ0hzaFpXaExkclIKZjV2eEhvbHduK2Z0NktTSU13MUVzREtGckVEYkJKelJLZ05SY3d0SHJhazk3cjZ6TXc9PQotLS0tLUVORCBDRVJUSUZJQ0FURS0tLS0tCg==\n",
      "    client-key-data: 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\n",
      "- name: myuser\n",
      "  user:\n",
      "    auth-provider:\n",
      "      config:\n",
      "        client-id: kubernetes\n",
      "        id-token: eyJhbGciOiJSUzI1NiIsInR5cCIgOiAiSldUIiwia2lkIiA6ICJSdjZFSGhrZ1dNQ2pmb1lfbGZhendGLW9hV2xnRkRkTUpjWmstVV9BamJjIn0.eyJleHAiOjE2MzY3MDU4MzMsImlhdCI6MTYzNjcwNTUzMywiYXV0aF90aW1lIjoxNjM2NzA0MzY4LCJqdGkiOiIwZmY3YWVhZC0xZDIyLTRmZWEtYTJlMC0zNmQ3OWVhZGM1NTMiLCJpc3MiOiJodHRwczovL2tleWNsb2FrLjE5Mi4xNjguNDkuMi5uaXAuaW8vYXV0aC9yZWFsbXMvbXlyZWFsbSIsImF1ZCI6Imt1YmVybmV0ZXMiLCJzdWIiOiJiY2I1MDI4Ni02ZTZkLTRkYWMtODAwMy0yNTJhMzMyM2Q2YjAiLCJ0eXAiOiJJRCIsImF6cCI6Imt1YmVybmV0ZXMiLCJub25jZSI6InoxU2gzU25oeGk5UF9oa2lkMWJHT09rTWNqZ3lFQUpTcGtIUlFvWFphU0EiLCJzZXNzaW9uX3N0YXRlIjoiZmEzMmNlMjktZjY5MS00OTE5LTg5NTQtMzBlMDY4YmYwOTZmIiwiYXRfaGFzaCI6Im0tZmVKbnhuczJNTFByUU1ENUN5eUEiLCJhY3IiOiIwIiwic2lkIjoiZmEzMmNlMjktZjY5MS00OTE5LTg5NTQtMzBlMDY4YmYwOTZmIiwiZW1haWxfdmVyaWZpZWQiOmZhbHNlLCJuYW1lIjoiTXkgVXNlciIsInByZWZlcnJlZF91c2VybmFtZSI6Im15dXNlciIsImdpdmVuX25hbWUiOiJNeSIsImZhbWlseV9uYW1lIjoiVXNlciIsImVtYWlsIjoibXl1c2VyQGV4YW1wbGUuY29tIn0.EIgXZkk5SIA_muDs8snD6Eta5gqC4WAwbJn7lY6nddqcdJCKtZdj2LwXu-ji6AP-T_xDEPUC-dl29mEqqEZEIWEdt8o7cxLe5FfPNuR3btbHFfDvW-yxtCFrUGHDcoLCaCsTBift6T4GlSYQbbxNkS6TpZ3jXEf3Ec75bd-U0JrVJTLbp9Li5xRPGApfIUVJQMwsyiHYwZEEJHKVCJ9a_Kh5r8V_H-oWu7MaI0eo6QVG5HFr4NH1yt7-0MSdDHVNQ5OuVnN5ZmUoh96An9R5WwPWA8pud-avj0s3LpowMPZ8fyNg0Etlcp86QhRQXYsgr_XQRQAHEjYotm8HBKJkEQ\n",
      "        idp-issuer-url: https://keycloak.192.168.49.2.nip.io/auth/realms/myrealm\n",
      "        refresh-token: eyJhbGciOiJIUzI1NiIsInR5cCIgOiAiSldUIiwia2lkIiA6ICIzYzA4MDliNi03MTVjLTRiZTQtYWY2Ni1hZmNmZmVmMTg0NDgifQ.eyJleHAiOjE2MzY3MDczMzMsImlhdCI6MTYzNjcwNTUzMywianRpIjoiYzg5ZWFiODMtNDdkNC00Njk0LWI3OTYtZmUzZDhkMmY5ZDM1IiwiaXNzIjoiaHR0cHM6Ly9rZXljbG9hay4xOTIuMTY4LjQ5LjIubmlwLmlvL2F1dGgvcmVhbG1zL215cmVhbG0iLCJhdWQiOiJodHRwczovL2tleWNsb2FrLjE5Mi4xNjguNDkuMi5uaXAuaW8vYXV0aC9yZWFsbXMvbXlyZWFsbSIsInN1YiI6ImJjYjUwMjg2LTZlNmQtNGRhYy04MDAzLTI1MmEzMzIzZDZiMCIsInR5cCI6IlJlZnJlc2giLCJhenAiOiJrdWJlcm5ldGVzIiwibm9uY2UiOiJ6MVNoM1NuaHhpOVBfaGtpZDFiR09Pa01jamd5RUFKU3BrSFJRb1haYVNBIiwic2Vzc2lvbl9zdGF0ZSI6ImZhMzJjZTI5LWY2OTEtNDkxOS04OTU0LTMwZTA2OGJmMDk2ZiIsInNjb3BlIjoib3BlbmlkIGVtYWlsIHByb2ZpbGUiLCJzaWQiOiJmYTMyY2UyOS1mNjkxLTQ5MTktODk1NC0zMGUwNjhiZjA5NmYifQ.9XTBLEGFdwDpcCFSmPpvufEA4IkI2jZMHKXn6bYEuY8\n",
      "      name: oidc\n",
      "    client-certificate: /home/thomas/import/training-minikube/share/notebooks/training-kubernetes-security/auth/myuser.crt\n",
      "    client-key: /home/thomas/import/training-minikube/share/notebooks/training-kubernetes-security/auth/myuser.pem\n"
     ]
    }
   ],
   "source": [
    "cat ~/.kube/config"
   ]
  },
  {
   "cell_type": "code",
   "execution_count": 93,
   "metadata": {},
   "outputs": [
    {
     "name": "stdout",
     "output_type": "stream",
     "text": [
      "NAME                        READY   STATUS    RESTARTS   AGE\n",
      "keycloak-6655d58b6c-rr8vq   1/1     Running   0          11m\n"
     ]
    }
   ],
   "source": [
    "kubectl get pods"
   ]
  },
  {
   "cell_type": "code",
   "execution_count": 153,
   "metadata": {},
   "outputs": [
    {
     "name": "stdout",
     "output_type": "stream",
     "text": [
      "Log in to the OpenID Connect provider.\n",
      "\n",
      "You need to set up the OIDC provider, role binding, Kubernetes API server and kubeconfig.\n",
      "To show the setup instruction:\n",
      "\n",
      "\tkubectl oidc-login setup\n",
      "\n",
      "See https://github.com/int128/kubelogin for more.\n",
      "\n",
      "Usage:\n",
      "  kubelogin [flags]\n",
      "  kubelogin [command]\n",
      "\n",
      "Available Commands:\n",
      "  completion  generate the autocompletion script for the specified shell\n",
      "  get-token   Run as a kubectl credential plugin\n",
      "  help        Help about any command\n",
      "  setup       Show the setup instruction\n",
      "  version     Print the version information\n",
      "\n",
      "Flags:\n",
      "      --kubeconfig string                               Path to the kubeconfig file\n",
      "      --context string                                  Name of the kubeconfig context to use\n",
      "      --user string                                     Name of the kubeconfig user to use. Prior to --context\n",
      "      --certificate-authority stringArray               Path to a cert file for the certificate authority\n",
      "      --certificate-authority-data stringArray          Base64 encoded cert for the certificate authority\n",
      "      --insecure-skip-tls-verify                        If set, the server's certificate will not be checked for validity. This will make your HTTPS connections insecure\n",
      "      --tls-renegotiation-once                          If set, allow a remote server to request renegotiation once per connection\n",
      "      --tls-renegotiation-freely                        If set, allow a remote server to repeatedly request renegotiation\n",
      "      --grant-type string                               Authorization grant type to use. One of (auto|authcode|authcode-keyboard|password) (default \"auto\")\n",
      "      --listen-address strings                          [authcode] Address to bind to the local server. If multiple addresses are set, it will try binding in order (default [127.0.0.1:8000,127.0.0.1:18000])\n",
      "      --skip-open-browser                               [authcode] Do not open the browser automatically\n",
      "      --browser-command string                          [authcode] Command to open the browser\n",
      "      --authentication-timeout-sec int                  [authcode] Timeout of authentication in seconds (default 180)\n",
      "      --local-server-cert string                        [authcode] Certificate path for the local server\n",
      "      --local-server-key string                         [authcode] Certificate key path for the local server\n",
      "      --open-url-after-authentication string            [authcode] If set, open the URL in the browser after authentication\n",
      "      --oidc-redirect-url-hostname string               [authcode] Hostname of the redirect URL (default \"localhost\")\n",
      "      --oidc-auth-request-extra-params stringToString   [authcode, authcode-keyboard] Extra query parameters to send with an authentication request (default [])\n",
      "      --username string                                 [password] Username for resource owner password credentials grant\n",
      "      --password string                                 [password] Password for resource owner password credentials grant\n",
      "      --add_dir_header                                  If true, adds the file directory to the header of the log messages\n",
      "      --alsologtostderr                                 log to standard error as well as files\n",
      "      --log_backtrace_at traceLocation                  when logging hits line file:N, emit a stack trace (default :0)\n",
      "      --log_dir string                                  If non-empty, write log files in this directory\n",
      "      --log_file string                                 If non-empty, use this log file\n",
      "      --log_file_max_size uint                          Defines the maximum size a log file can grow to. Unit is megabytes. If the value is 0, the maximum file size is unlimited. (default 1800)\n",
      "      --logtostderr                                     log to standard error instead of files (default true)\n",
      "      --one_output                                      If true, only write logs to their native severity level (vs also writing to each lower severity level)\n",
      "      --skip_headers                                    If true, avoid header prefixes in the log messages\n",
      "      --skip_log_headers                                If true, avoid headers when opening log files\n",
      "      --stderrthreshold severity                        logs at or above this threshold go to stderr (default 2)\n",
      "  -v, --v Level                                         number for the log level verbosity\n",
      "      --vmodule moduleSpec                              comma-separated list of pattern=N settings for file-filtered logging\n",
      "  -h, --help                                            help for kubelogin\n",
      "      --version                                         version for kubelogin\n",
      "\n",
      "Use \"kubelogin [command] --help\" for more information about a command.\n"
     ]
    }
   ],
   "source": [
    "kubelogin --help"
   ]
  },
  {
   "cell_type": "code",
   "execution_count": 154,
   "metadata": {},
   "outputs": [
    {
     "name": "stdout",
     "output_type": "stream",
     "text": [
      "NOTE: You can use the credential plugin mode for better user experience.\n",
      "Kubectl automatically runs kubelogin and you do not need to run kubelogin explicitly.\n",
      "See https://github.com/int128/kubelogin for more.\n",
      "Wird in einer aktuellen Browsersitzung geöffnet.\n",
      "[423984:423984:0100/000000.292892:ERROR:sandbox_linux.cc(374)] InitializeSandbox() called with multiple threads in process gpu-process.\n",
      "You got a valid token until 2021-11-08 19:20:51 +0100 CET\n"
     ]
    }
   ],
   "source": [
    "kubelogin --insecure-skip-tls-verify"
   ]
  },
  {
   "cell_type": "code",
   "execution_count": 127,
   "metadata": {},
   "outputs": [
    {
     "name": "stdout",
     "output_type": "stream",
     "text": [
      "NAME                        READY   STATUS    RESTARTS   AGE\n",
      "keycloak-6655d58b6c-rr8vq   1/1     Running   0          46h\n"
     ]
    }
   ],
   "source": [
    "kubectl get pods "
   ]
  },
  {
   "cell_type": "markdown",
   "metadata": {},
   "source": [
    "## alternatively use krew\n",
    "\n",
    "Installation\n",
    "\n",
    "```bash\n",
    "(   \n",
    "  set -x; \n",
    "  cd \"$(mktemp -d)\" &&   \n",
    "  OS=\"$(uname | tr '[:upper:]' '[:lower:]')\"  &&\n",
    "  ARCH=\"$(uname -m | sed -e 's/x86_64/amd64/' -e 's/\\(arm\\)\\(64\\)\\?.*/\\1\\2/' -e 's/aarch64$/arm64/')\" &&\n",
    "  KREW=\"krew-${OS}_${ARCH}\" &&\n",
    "  curl -fsSLO \"https://github.com/kubernetes-sigs/krew/releases/latest/download/${KREW}.tar.gz\" &&\n",
    "  tar zxvf \"${KREW}.tar.gz\" &&   ./\"${KREW}\" install krew; \n",
    ")\n",
    "```\n",
    "\n",
    "install `oidc-login` and place it into the `$PATH`\n",
    "\n",
    "```bash\n",
    "export PATH=\"${KREW_ROOT:-$HOME/.krew}/bin:$PATH\"\n",
    "```\n",
    "\n",
    "Update `krew` and install the `oidc-login plugin\n",
    "\n",
    "```\n",
    "kubectl krew update\n",
    "kubectl krew install oidc-login\n",
    "\n",
    "```\n",
    "\n",
    "Now the login can be done using  `kubectl` directly\n",
    "\n",
    "```bash\n",
    "kubectl oidc-login \n",
    "``` \n",
    "\n",
    "with a `--insecure-skip-tls-verify` flag for test environments like ours."
   ]
  },
  {
   "cell_type": "code",
   "execution_count": 158,
   "metadata": {},
   "outputs": [
    {
     "name": "stdout",
     "output_type": "stream",
     "text": [
      "/home/thomas/notebooks\n"
     ]
    }
   ],
   "source": [
    "pwd"
   ]
  },
  {
   "cell_type": "code",
   "execution_count": 95,
   "metadata": {},
   "outputs": [
    {
     "name": "stdout",
     "output_type": "stream",
     "text": [
      "\u001b[1;39m{\n",
      "  \u001b[0m\u001b[34;1m\"access_token\"\u001b[0m\u001b[1;39m: \u001b[0m\u001b[0;32m\"eyJhbGciOiJSUzI1NiIsInR5cCIgOiAiSldUIiwia2lkIiA6ICJfWEFrcE8xTUVvTlFidXJwQlJrMmwyd3QzVzVtZVpyaUVnQUtERUVhOHJzIn0.eyJleHAiOjE2MzY3MzkwNzcsImlhdCI6MTYzNjczODc3NywianRpIjoiOTE4ZjlmNDgtY2I4Ny00YmQ2LTk0ZTgtMGYzZmFjMTIyYTgyIiwiaXNzIjoiaHR0cHM6Ly9rZXljbG9hay0xOTItMTY4LTQ5LTIubmlwLmlvL2F1dGgvcmVhbG1zL215cmVhbG0iLCJhdWQiOiJhY2NvdW50Iiwic3ViIjoiNDRlMjE3YTAtYzBmYy00MjRhLWI2ODUtM2MwMGI1NDU0Y2QwIiwidHlwIjoiQmVhcmVyIiwiYXpwIjoia3ViZXJuZXRlcyIsInNlc3Npb25fc3RhdGUiOiJlMjU3ZGRiMy03MGJjLTQ1NjgtYjM1Ny05MjQwMmNlMDQwYTUiLCJhY3IiOiIxIiwicmVhbG1fYWNjZXNzIjp7InJvbGVzIjpbImRlZmF1bHQtcm9sZXMtbXlyZWFsbSIsIm9mZmxpbmVfYWNjZXNzIiwidW1hX2F1dGhvcml6YXRpb24iXX0sInJlc291cmNlX2FjY2VzcyI6eyJhY2NvdW50Ijp7InJvbGVzIjpbIm1hbmFnZS1hY2NvdW50IiwibWFuYWdlLWFjY291bnQtbGlua3MiLCJ2aWV3LXByb2ZpbGUiXX19LCJzY29wZSI6Im9wZW5pZCBlbWFpbCBwcm9maWxlIiwic2lkIjoiZTI1N2RkYjMtNzBiYy00NTY4LWIzNTctOTI0MDJjZTA0MGE1IiwiZW1haWxfdmVyaWZpZWQiOmZhbHNlLCJuYW1lIjoiTXkgVXNlciIsInByZWZlcnJlZF91c2VybmFtZSI6Im15dXNlciIsImdpdmVuX25hbWUiOiJNeSIsImZhbWlseV9uYW1lIjoiVXNlciJ9.Z-28rpU8hWvbpFMWpRnV27780NKzxsZvTxtLF_TWP-vecuRtL0gh3DDAbnY84tNf6bEGTgvui2OlzOKBhkskNoe8zVlIkLZnThesp1Ud3ak-vBxOSqbG5KRymSyUPrtmmRj4VQcDyZwEL-dK1Ax92Nx4cjBxvbkCB2aXKQKEInDjI61-EmJOW6BjDtHE1qE8n8adzsTw3pP5eyo9_4fxQziVaVYiosRfSNcUfzK5mlgEu-ZTGW3vGMHA4qo3tVDFjIu4Dc0hzucDDQ6gcRFFhogtrZdF2LvdlCdE8CtgZRQf1Riyd2mfa6UTEh81DZjfHnp6DVpRSeNzASfoOVWmXQ\"\u001b[0m\u001b[1;39m,\n",
      "  \u001b[0m\u001b[34;1m\"expires_in\"\u001b[0m\u001b[1;39m: \u001b[0m\u001b[0;39m300\u001b[0m\u001b[1;39m,\n",
      "  \u001b[0m\u001b[34;1m\"refresh_expires_in\"\u001b[0m\u001b[1;39m: \u001b[0m\u001b[0;39m1800\u001b[0m\u001b[1;39m,\n",
      "  \u001b[0m\u001b[34;1m\"refresh_token\"\u001b[0m\u001b[1;39m: \u001b[0m\u001b[0;32m\"eyJhbGciOiJIUzI1NiIsInR5cCIgOiAiSldUIiwia2lkIiA6ICJiOTMyNzc1YS03NTU0LTQ5OTItODMyMS1mNTk0NzA2OGM5NTIifQ.eyJleHAiOjE2MzY3NDA1NzcsImlhdCI6MTYzNjczODc3NywianRpIjoiZTVhNzNhYzUtMWJkNy00NjM1LWFjN2UtMjkyYjYwMzc1NGZlIiwiaXNzIjoiaHR0cHM6Ly9rZXljbG9hay0xOTItMTY4LTQ5LTIubmlwLmlvL2F1dGgvcmVhbG1zL215cmVhbG0iLCJhdWQiOiJodHRwczovL2tleWNsb2FrLTE5Mi0xNjgtNDktMi5uaXAuaW8vYXV0aC9yZWFsbXMvbXlyZWFsbSIsInN1YiI6IjQ0ZTIxN2EwLWMwZmMtNDI0YS1iNjg1LTNjMDBiNTQ1NGNkMCIsInR5cCI6IlJlZnJlc2giLCJhenAiOiJrdWJlcm5ldGVzIiwic2Vzc2lvbl9zdGF0ZSI6ImUyNTdkZGIzLTcwYmMtNDU2OC1iMzU3LTkyNDAyY2UwNDBhNSIsInNjb3BlIjoib3BlbmlkIGVtYWlsIHByb2ZpbGUiLCJzaWQiOiJlMjU3ZGRiMy03MGJjLTQ1NjgtYjM1Ny05MjQwMmNlMDQwYTUifQ.w6oQ8JqzbLN0FjqrGu2YAe94qOPfCGOLzOJuZuLl158\"\u001b[0m\u001b[1;39m,\n",
      "  \u001b[0m\u001b[34;1m\"token_type\"\u001b[0m\u001b[1;39m: \u001b[0m\u001b[0;32m\"Bearer\"\u001b[0m\u001b[1;39m,\n",
      "  \u001b[0m\u001b[34;1m\"id_token\"\u001b[0m\u001b[1;39m: \u001b[0m\u001b[0;32m\"eyJhbGciOiJSUzI1NiIsInR5cCIgOiAiSldUIiwia2lkIiA6ICJfWEFrcE8xTUVvTlFidXJwQlJrMmwyd3QzVzVtZVpyaUVnQUtERUVhOHJzIn0.eyJleHAiOjE2MzY3MzkwNzcsImlhdCI6MTYzNjczODc3NywiYXV0aF90aW1lIjowLCJqdGkiOiJmMGQwYzY4OS04YTFjLTRmN2ItYmNhMy0yMDllZmY3MjhmYjQiLCJpc3MiOiJodHRwczovL2tleWNsb2FrLTE5Mi0xNjgtNDktMi5uaXAuaW8vYXV0aC9yZWFsbXMvbXlyZWFsbSIsImF1ZCI6Imt1YmVybmV0ZXMiLCJzdWIiOiI0NGUyMTdhMC1jMGZjLTQyNGEtYjY4NS0zYzAwYjU0NTRjZDAiLCJ0eXAiOiJJRCIsImF6cCI6Imt1YmVybmV0ZXMiLCJzZXNzaW9uX3N0YXRlIjoiZTI1N2RkYjMtNzBiYy00NTY4LWIzNTctOTI0MDJjZTA0MGE1IiwiYXRfaGFzaCI6Ind4bWEwMmh4Nnp6ZklGWVdGTDl1UlEiLCJhY3IiOiIxIiwic2lkIjoiZTI1N2RkYjMtNzBiYy00NTY4LWIzNTctOTI0MDJjZTA0MGE1IiwiZW1haWxfdmVyaWZpZWQiOmZhbHNlLCJuYW1lIjoiTXkgVXNlciIsInByZWZlcnJlZF91c2VybmFtZSI6Im15dXNlciIsImdpdmVuX25hbWUiOiJNeSIsImZhbWlseV9uYW1lIjoiVXNlciJ9.fkMrKmf7994vWT2oF8T3soS7I0wrnK0OKDW0Lht1g3UyUTkV4zTM2oHuX0taCO68W3TnGputBmFmreqasrYhTJNlxnTRJ_d7-SNd36I2iKFw5B90LLmAFELqnqsj57D1zCyo91p4CU8kHjBt_sJZFNe_Fj3nwdXMc_17MwCmtwipZs6KndY6QvejXf_RfjeS1TUHWJPPrcHuDAfvm4C_96TYAv0FwoPy_s_AmgExsfgaeGY1Hnpc0jU0q7pxI0SkRtuRZJjuzfLqfNIqZOpsghGjtYWrv34kHv7NMitEH1anMEmxAY5FH8HEIJVFNmsyH4Jnpd8HlsIE8pyjU39SjQ\"\u001b[0m\u001b[1;39m,\n",
      "  \u001b[0m\u001b[34;1m\"not-before-policy\"\u001b[0m\u001b[1;39m: \u001b[0m\u001b[0;39m0\u001b[0m\u001b[1;39m,\n",
      "  \u001b[0m\u001b[34;1m\"session_state\"\u001b[0m\u001b[1;39m: \u001b[0m\u001b[0;32m\"e257ddb3-70bc-4568-b357-92402ce040a5\"\u001b[0m\u001b[1;39m,\n",
      "  \u001b[0m\u001b[34;1m\"scope\"\u001b[0m\u001b[1;39m: \u001b[0m\u001b[0;32m\"openid email profile\"\u001b[0m\u001b[1;39m\n",
      "\u001b[1;39m}\u001b[0m\n"
     ]
    }
   ],
   "source": [
    "curl -ks https://$KEYCLOAK_HOST/auth/realms/myrealm/protocol/openid-connect/token \\\n",
    "     -d grant_type=password -d client_id=kubernetes \\\n",
    "     -d username=myuser -d password=mypasswd \\\n",
    "     -d scope=openid -d response_type=id_token \\\n",
    "     | jq ."
   ]
  },
  {
   "cell_type": "code",
   "execution_count": 96,
   "metadata": {},
   "outputs": [
    {
     "name": "stdout",
     "output_type": "stream",
     "text": [
      "\"eyJhbGciOiJSUzI1NiIsInR5cCIgOiAiSldUIiwia2lkIiA6ICJfWEFrcE8xTUVvTlFidXJwQlJrMmwyd3QzVzVtZVpyaUVnQUtERUVhOHJzIn0.eyJleHAiOjE2MzY3MzkxMDUsImlhdCI6MTYzNjczODgwNSwiYXV0aF90aW1lIjowLCJqdGkiOiI2MGE5Y2NmZC1mMTcxLTQ2OWMtODc3Yi05N2ZmNmRkODgwNGYiLCJpc3MiOiJodHRwczovL2tleWNsb2FrLTE5Mi0xNjgtNDktMi5uaXAuaW8vYXV0aC9yZWFsbXMvbXlyZWFsbSIsImF1ZCI6Imt1YmVybmV0ZXMiLCJzdWIiOiI0NGUyMTdhMC1jMGZjLTQyNGEtYjY4NS0zYzAwYjU0NTRjZDAiLCJ0eXAiOiJJRCIsImF6cCI6Imt1YmVybmV0ZXMiLCJzZXNzaW9uX3N0YXRlIjoiNGY3ZTNhZGMtNGU2ZC00OGExLWJhYmUtODM5ZTNjNjFmZTFiIiwiYXRfaGFzaCI6Ik4wYmZ0aU45RXFCOWthNk5BY3g3QXciLCJhY3IiOiIxIiwic2lkIjoiNGY3ZTNhZGMtNGU2ZC00OGExLWJhYmUtODM5ZTNjNjFmZTFiIiwiZW1haWxfdmVyaWZpZWQiOmZhbHNlLCJuYW1lIjoiTXkgVXNlciIsInByZWZlcnJlZF91c2VybmFtZSI6Im15dXNlciIsImdpdmVuX25hbWUiOiJNeSIsImZhbWlseV9uYW1lIjoiVXNlciJ9.V041i9W9k843fwCJUkFRtdcK-9YQYDBuZ-lXHb6s-ij4EAArkz2bm4CSNjzKnaWQU7hb7mvh_gKoDehqfW5M7M7H1wLCgF0Fr9meJeTC5b5j3rWP29zsSCAvj3sqv-XZtQfk_9becaUH2RtTAkJAl-3D-Z39L34ls5GP5hhOrT5ELIk1V3IqPxsURKUDuiS7Jhqy9QN9Xs0bq97V04SbGeDGhn7bb6NXOcQDwlefPbHMFN1HZqY0pf780qKUh_E4QHT0WfF8nwxapRwOz8OO_ciU2qH9weMWh4W5RdvZIt5pi5dPl7QAjDG73gxe9SenO3Qr8ixYZpdvr9QmEbUt4A\"\n"
     ]
    }
   ],
   "source": [
    "TOKEN=$(curl -ks https://$KEYCLOAK_HOST/auth/realms/myrealm/protocol/openid-connect/token \\\n",
    "     -d grant_type=password -d client_id=kubernetes \\\n",
    "     -d username=myuser -d password=mypasswd \\\n",
    "     -d scope=openid -d response_type=id_token \\\n",
    "     | jq '.id_token' )\n",
    "echo $TOKEN     \n",
    "#| cut -d' ' -f 1"
   ]
  },
  {
   "cell_type": "code",
   "execution_count": 97,
   "metadata": {},
   "outputs": [
    {
     "name": "stdout",
     "output_type": "stream",
     "text": [
      "{\"alg\":\"RS256\",\"typ\" : \"JWT\",\"kid\" : \"_XAkpO1MEoNQburpBRk2l2wt3W5meZriEgAKDEEa8rs\"}base64: ungültige Eingabe\n"
     ]
    },
    {
     "ename": "",
     "evalue": "1",
     "output_type": "error",
     "traceback": []
    }
   ],
   "source": [
    "echo $TOKEN | sed s/\\\"//g| base64 --decode"
   ]
  },
  {
   "cell_type": "code",
   "execution_count": 98,
   "metadata": {},
   "outputs": [
    {
     "name": "stdout",
     "output_type": "stream",
     "text": [
      "apiVersion: v1\n",
      "clusters:\n",
      "- cluster:\n",
      "    certificate-authority-data: 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\n",
      "    server: https://api.crc.testing:6443\n",
      "  name: api-crc-testing:6443\n",
      "- cluster:\n",
      "    certificate-authority-data: LS0tLS1CRUdJTiBDRVJUSUZJQ0FURS0tLS0tCk1JSURCakNDQWU2Z0F3SUJBZ0lCQVRBTkJna3Foa2lHOXcwQkFRc0ZBREFWTVJNd0VRWURWUVFERXdwdGFXNXAKYTNWaVpVTkJNQjRYRFRJeE1ETXdNVEE1TlRRMU1Gb1hEVE14TURJeU9EQTVOVFExTUZvd0ZURVRNQkVHQTFVRQpBeE1LYldsdWFXdDFZbVZEUVRDQ0FTSXdEUVlKS29aSWh2Y05BUUVCQlFBRGdnRVBBRENDQVFvQ2dnRUJBTkh5Cm1SRm1qaG0wdWpKRXd4ZXp2VWZvL0o2Q1Mvbkk3MS9rQlZxVEVTY3ZoZFpkYjdUazl3T1Bueng3VW9UQUIwZXoKZ3AxUjdnVFBnZnJSNGNyKy9Lc08vWExydk9CNEFoOXM0RE1lL1B5OTVyZE1iNmlDUytZMDV1VldkQ3R0bGhrSwpjM3lmblhPS29teXFaVUw0dzJLTFQza1I2clBHVXZ6M3RMYU9lYlpYc2RYNklqZXBaOHVROXZkYldXYVVVS25uCk5jUHdLc3VCNmNra1hibnBmaXRXSWovVnEwbFdZWU5OOXVJZjg0TWFqY2ZjS2twRUpoY2g4SHd2aWdtZGRiWHkKL2hnNXd0VGF3RCtUUWp5d09MVFpIMkg5bEVodGNQMS9PeE9nOU56WitaQW1CcDZFelFJbmFJMCt0YVM2WW1FbQppQ0RzUVlEYnV0bXpFWnliVEJjQ0F3RUFBYU5oTUY4d0RnWURWUjBQQVFIL0JBUURBZ0trTUIwR0ExVWRKUVFXCk1CUUdDQ3NHQVFVRkJ3TUNCZ2dyQmdFRkJRY0RBVEFQQmdOVkhSTUJBZjhFQlRBREFRSC9NQjBHQTFVZERnUVcKQkJRY004c25IMk10R1k3dU55UlZCQmdIY3hwd2hqQU5CZ2txaGtpRzl3MEJBUXNGQUFPQ0FRRUFQdXVINzlKbgpRSHZUNTAyVk1YKzM5WVkyNzI3TCtYU3NOekc0cVYyVjUvakh3by94SDNDQ0svN2EzTTlyVVp6TlpIZytsSG9GCnZiVzZ0K2VvNmJmeE9iSHlMcjVoY1JBSVYxNWpaY0RhTVh4Zys3SjFrWExsb1ZaL2VVcmRqT2lLSEtJOURzU0QKY05DdXdwODRHYXNzdjRVMTBMSmFjd1EvcVRENThDT0UwelFSY0hibjJrMUFRK01BOThHTmlMRHQxTml2UDB6aApOb1hLcURFT1ZkWVE5Mi81VkVkT1o0TVZIOHF6RWw2YUhjZE0zR210WGVtZGlBZFdQV1hJY2JGbzNDVUJzOExVCkk5dzZKUDZvaGhKZysvUUtMaGdhQ1M5dUxVdjlqVnBucVRqUnNvbUtrQ0cyNmNGWGZYeDd5cmJBZG5Kb1p6Z1IKczFVNThZSS9PMm50UXc9PQotLS0tLUVORCBDRVJUSUZJQ0FURS0tLS0tCg==\n",
      "    extensions:\n",
      "    - extension:\n",
      "        last-update: Fri, 12 Nov 2021 18:24:52 CET\n",
      "        provider: minikube.sigs.k8s.io\n",
      "        version: v1.23.2\n",
      "      name: cluster_info\n",
      "    server: https://192.168.49.2:8443\n",
      "  name: minikube\n",
      "contexts:\n",
      "- context:\n",
      "    cluster: api-crc-testing:6443\n",
      "    namespace: default\n",
      "    user: kubeadmin\n",
      "  name: crc-admin\n",
      "- context:\n",
      "    cluster: api-crc-testing:6443\n",
      "    namespace: default\n",
      "    user: developer\n",
      "  name: crc-developer\n",
      "- context:\n",
      "    cluster: api-crc-testing:6443\n",
      "    namespace: default\n",
      "    user: kubeadmin/api-crc-testing:6443\n",
      "  name: default/api-crc-testing:6443/kubeadmin\n",
      "- context:\n",
      "    cluster: minikube\n",
      "    extensions:\n",
      "    - extension:\n",
      "        last-update: Fri, 12 Nov 2021 18:24:52 CET\n",
      "        provider: minikube.sigs.k8s.io\n",
      "        version: v1.23.2\n",
      "      name: context_info\n",
      "    namespace: keycloak\n",
      "    user: minikube\n",
      "  name: minikube\n",
      "- context:\n",
      "    cluster: minikube\n",
      "    user: myuser\n",
      "  name: myuser\n",
      "current-context: minikube\n",
      "kind: Config\n",
      "preferences: {}\n",
      "users:\n",
      "- name: developer\n",
      "  user:\n",
      "    token: sha256~8OQOjL2ssVi5nk0OwxBQS08FJQdagLESV70e8CifLvA\n",
      "- name: kubeadmin\n",
      "  user:\n",
      "    token: sha256~o6otxS0gErc_qvR9L902zw-z-rZdotjkZUjvJ12ke-4\n",
      "- name: kubeadmin/api-crc-testing:6443\n",
      "  user:\n",
      "    token: sha256~HtClY5LCK2OtAn28BJ3-bsq4kP8_BPfxzQgbOgFo-94\n",
      "- name: minikube\n",
      "  user:\n",
      "    auth-provider:\n",
      "      config:\n",
      "        client-id: kubernetes\n",
      "        id-token: eyJhbGciOiJSUzI1NiIsInR5cCIgOiAiSldUIiwia2lkIiA6ICJfWEFrcE8xTUVvTlFidXJwQlJrMmwyd3QzVzVtZVpyaUVnQUtERUVhOHJzIn0.eyJleHAiOjE2MzY3Mzg4ODEsImlhdCI6MTYzNjczODU4MSwiYXV0aF90aW1lIjoxNjM2NzM4MzQ4LCJqdGkiOiIwZjg1NmM1OS0xNWE3LTRkMzQtYmU1Mi1hZDg5Zjk3NGFiNTIiLCJpc3MiOiJodHRwczovL2tleWNsb2FrLTE5Mi0xNjgtNDktMi5uaXAuaW8vYXV0aC9yZWFsbXMvbXlyZWFsbSIsImF1ZCI6Imt1YmVybmV0ZXMiLCJzdWIiOiI0NGUyMTdhMC1jMGZjLTQyNGEtYjY4NS0zYzAwYjU0NTRjZDAiLCJ0eXAiOiJJRCIsImF6cCI6Imt1YmVybmV0ZXMiLCJub25jZSI6InROZkF4Sko1X1g0akppRjFybHU5WWhzRjMxVXRxakRuc01UbnNIWnVkcFUiLCJzZXNzaW9uX3N0YXRlIjoiNmE2ZTcwMzgtZGE1Ni00ZDk0LWJhNzgtYjE3MTdhYjZkMTY0IiwiYXRfaGFzaCI6ImU4MWJhd2lyUHdPNmdJbElnYmlDMXciLCJhY3IiOiIwIiwic2lkIjoiNmE2ZTcwMzgtZGE1Ni00ZDk0LWJhNzgtYjE3MTdhYjZkMTY0IiwiZW1haWxfdmVyaWZpZWQiOmZhbHNlLCJuYW1lIjoiTXkgVXNlciIsInByZWZlcnJlZF91c2VybmFtZSI6Im15dXNlciIsImdpdmVuX25hbWUiOiJNeSIsImZhbWlseV9uYW1lIjoiVXNlciJ9.YjWCyd3-HvP1zcoajhd-zxpozvYA8HqvaCNG7rX-E9O4asCePRA1oMBaKK2XuJJuu9jjIHk9zxMzE888Esmb6o44mhuF3gzlxABjS9I7I-QKtD969muFhnbss-WI4zwvqZyaRgnTjltuM20H2GjLdapr3gTSV0lIyHb04i6-FQDNsWF04-QFYaeh-E2RiAIVDv0gAdhLbhgtun52jiWzp5_zMNtGcJP5AV0vu-ukeYYtwD2-blLQ80MqxBPWfINF4uBI-JX-XZVKMZ8GwbQ02lPxlKHFfk-MxT9cGQPS0tH0-_YUtJ3zZsEJEjwELK7iu0niZTqQnY7oGAcbz6_5og\n",
      "        idp-issuer-url: https://keycloak-192-168-49-2.nip.io/auth/realms/myrealm\n",
      "        refresh-token: eyJhbGciOiJIUzI1NiIsInR5cCIgOiAiSldUIiwia2lkIiA6ICJiOTMyNzc1YS03NTU0LTQ5OTItODMyMS1mNTk0NzA2OGM5NTIifQ.eyJleHAiOjE2MzY3NDAzODEsImlhdCI6MTYzNjczODU4MSwianRpIjoiOWI4Mzc1ODgtZjZjNy00OGFlLTg0MzctNTQxOTMzZjQ5NDA2IiwiaXNzIjoiaHR0cHM6Ly9rZXljbG9hay0xOTItMTY4LTQ5LTIubmlwLmlvL2F1dGgvcmVhbG1zL215cmVhbG0iLCJhdWQiOiJodHRwczovL2tleWNsb2FrLTE5Mi0xNjgtNDktMi5uaXAuaW8vYXV0aC9yZWFsbXMvbXlyZWFsbSIsInN1YiI6IjQ0ZTIxN2EwLWMwZmMtNDI0YS1iNjg1LTNjMDBiNTQ1NGNkMCIsInR5cCI6IlJlZnJlc2giLCJhenAiOiJrdWJlcm5ldGVzIiwibm9uY2UiOiJ0TmZBeEpKNV9YNGpKaUYxcmx1OVloc0YzMVV0cWpEbnNNVG5zSFp1ZHBVIiwic2Vzc2lvbl9zdGF0ZSI6IjZhNmU3MDM4LWRhNTYtNGQ5NC1iYTc4LWIxNzE3YWI2ZDE2NCIsInNjb3BlIjoib3BlbmlkIGVtYWlsIHByb2ZpbGUiLCJzaWQiOiI2YTZlNzAzOC1kYTU2LTRkOTQtYmE3OC1iMTcxN2FiNmQxNjQifQ.KQDQHmUV0NTFKP_vclTx8CDNHsVnn9mDIvyW2spbKIc\n",
      "      name: oidc\n",
      "    client-certificate-data: LS0tLS1CRUdJTiBDRVJUSUZJQ0FURS0tLS0tCk1JSURJVENDQWdtZ0F3SUJBZ0lCQWpBTkJna3Foa2lHOXcwQkFRc0ZBREFWTVJNd0VRWURWUVFERXdwdGFXNXAKYTNWaVpVTkJNQjRYRFRJeE1URXhNVEUzTWpBeE5Gb1hEVEl5TVRFeE1qRTNNakF4TkZvd01URVhNQlVHQTFVRQpDaE1PYzNsemRHVnRPbTFoYzNSbGNuTXhGakFVQmdOVkJBTVREVzFwYm1scmRXSmxMWFZ6WlhJd2dnRWlNQTBHCkNTcUdTSWIzRFFFQkFRVUFBNElCRHdBd2dnRUtBb0lCQVFEVWk3eFJETFI4N1gzcXBoeFVOU1NGTWcwSVIxQ08KbXF5eEx2RDloTUtZbGhwaUxzTm8waFR6blBzNGtMNTdXQWswNFRmVWdVV0pqR09IQ2NJMGtFNGNFaVVjQmRUdgpZOHJuc3lhWi9MTUx1bCt6R0Y4a2hWZmduWFRpQmU2MUNlRU9qT3psWWh5djNKQkJiTHU5ZHNrdFlBTzFNaWZ3Cm81ODk0MWpueEorQzFqZ3o4cGFaQmpxb3gzZkZlWUxMVm5peDE0WE1yTEhsNStneFVRT3Jrc0VlREI5WkJPMmIKNkpISHk2L1dyTnk2cDJUanRaU2VKbHBucTVTT0lLN2E1VXNYZ21BSktCT0tNai9PWmlUaUpaMDBuSVBLZFVVVQpzSFQyeWRIZ0ZUd2FDZ0tBTzZEbzN0ejd3VmV6Tis1YVpEblkySkVhRDhYeTIzT1FCKzlaVGU5MUFnTUJBQUdqCllEQmVNQTRHQTFVZER3RUIvd1FFQXdJRm9EQWRCZ05WSFNVRUZqQVVCZ2dyQmdFRkJRY0RBUVlJS3dZQkJRVUgKQXdJd0RBWURWUjBUQVFIL0JBSXdBREFmQmdOVkhTTUVHREFXZ0JRY004c25IMk10R1k3dU55UlZCQmdIY3hwdwpoakFOQmdrcWhraUc5dzBCQVFzRkFBT0NBUUVBdFA2VU5GVWdjNDJRK29hSkJ2eTBpVzBraDdENDdHYXZhaXRLCndPU0MyVVoyQUpJL1lVbEdDdWtGamlOcFJjREU0UTJucXgwSUhvcHNrT0JwVm5OK2tBcnppc2oyV2JVUVA2K0YKaS9rVU5ZYlZ2eU1jUVlhZzJlNjBWWUZ6RytnVG5xc2xMTXhKVmxLTFJaa2NuRkZRV2dXR01FQ3czdmJvVTVxeQpJcUkyVXk5VnRaczNBeG1xbFQ2NEJTMGxZWkdobnBOelBYVVBCY0ZCSGxtTHRrNGdsa3VTOGN0L3h2N1YzN095Ck03TFpxNm11R1d3eGptd1c0aXNhckFGblNObGNoUi9LdTZYZ2lsL1VaZkF6TXBKVzhERHovZ0hzaFpXaExkclIKZjV2eEhvbHduK2Z0NktTSU13MUVzREtGckVEYkJKelJLZ05SY3d0SHJhazk3cjZ6TXc9PQotLS0tLUVORCBDRVJUSUZJQ0FURS0tLS0tCg==\n",
      "    client-key-data: LS0tLS1CRUdJTiBSU0EgUFJJVkFURSBLRVktLS0tLQpNSUlFcEFJQkFBS0NBUUVBMUl1OFVReTBmTzE5NnFZY1ZEVWtoVElOQ0VkUWpwcXNzUzd3L1lUQ21KWWFZaTdECmFOSVU4NXo3T0pDK2UxZ0pOT0UzMUlGRmlZeGpod25DTkpCT0hCSWxIQVhVNzJQSzU3TW1tZnl6QzdwZnN4aGYKSklWWDRKMTA0Z1h1dFFuaERvenM1V0ljcjl5UVFXeTd2WGJKTFdBRHRUSW44S09mUGVOWTU4U2ZndFk0TS9LVwptUVk2cU1kM3hYbUN5MVo0c2RlRnpLeXg1ZWZvTVZFRHE1TEJIZ3dmV1FUdG0raVJ4OHV2MXF6Y3VxZGs0N1dVCm5pWmFaNnVVamlDdTJ1VkxGNEpnQ1NnVGlqSS96bVlrNGlXZE5KeUR5blZGRkxCMDlzblI0QlU4R2dvQ2dEdWcKNk43Yys4RlhzemZ1V21RNTJOaVJHZy9GOHR0emtBZnZXVTN2ZFFJREFRQUJBb0lCQUZXdkQzZk5HMlhSaUJWMAphYTg0elVRMDdUUU5LOWlSV2xVRGkzdG9iZHA5aUoxVUpNcTVCbUUvUTdlR0FvUk85VWN3RkFYREozbFA4eitaCkc0VjlOei94d0t3UFhjd3orclIxY0haYmZRS1pXOE1qYkJlWStkZy9JY09NaUxMTERNT0U1R3VFcGZQdmd1Z2QKSVlJN3hOWmFBcVNsVjV5WEdiY2xVODM3WWlLbjVWZWE3WXUyV0JjZlJWaVllSys4M2dQcTNqUWphOGdNbG1BdgpFWXp2NnpBZGFsV0dYWHAvR0F1TzJHNTZaWkRZVHovclp0L25rY2E4MGR1dFdXbDM5elk4RkswWUY4d0w5YkROCjRuRkFTZzQvTUxZcjBZS2hta21oa09NSjRFanVvaHB5QlU0WU9LZEs2NFZBTVpSYmYydWtXVTA3K1RkZEZUazMKR2p5Z0FuRUNnWUVBN3V2RXkzMUJXVkR2YUdaOGtDN09tRnA0aWg1cmRXVjZOdS9Mcks2RE90NHF4TmpoQkZtVQowZ2hCa0FCdmEvanBjdmF1alcrQldXNUdxeWgza0R5Z3MwenJ2UDRZeTNLcXdDZUI5UnNOWitIUUhjVDlqSThKCkVZWWhmU0UzVG9zY2Q2dExrZFlVaWJoZk5YQjE4c1pBUWJyckZOUTRqMysvdHJmZTdqUi82QmNDZ1lFQTQ3MU4KODZtK0dYT0dGTXhzclJPZTRjU0xrdGs0NTI2T3B3UW04aTEwcnRSUnpwZXkzTHRUWUNUZGRJelh2TmpjMWFzdwpsc0FlemplSnBpVnlDSCtpcHp3VWlQeHd0ajRFMDZ4SWJHZUhRaGJUc2ZtUVMvbDVFQ2ZLL3RuUTZXSkozOXVHCmhaaUgrNWllRU9VeWpIM09Id251Tm5RUk5kL3JoREluZjRtMTBGTUNnWUVBMlEvZ2doTnhESWxJaUt3YjNRNTUKYWRkQURoUG5Bd2hIeWFPQWdva2w5cFNqZktXaGdVYzF1ci8vZUttOGtQYmFlVFQranNiUVdJU2t0Wm1WVHJpVwpNMi9kK0oxTnY0Q1UrdkNwMUJwWXlwbFFiOHRwbzRyTDdWelVEZy9nWkg1a1JhQ2Rqb2hWcm0yUUtrZmJFTTdtCjBCRFd4Tnl0NmtsZ3pzc3NRWFAzQk04Q2dZRUFpVFM0RGlFcUFyTnpDSHpRek1XUlozdStpMDZMMWdMcHR2M3QKYU9LeDlkSzlKcmFHY0MzNzRXVFVkeStUbXBjZEZTMzZMQmk3ZG9wSFIrNHZjYWRVRzJVN0NmenMreDhLVVd6dQpoVUVxWUVyWVo5VnZkaFpyTmF5RHhGNytXbDE1SElGcDNuc3pFZ1cwMVlFQW4xdjhIdjhnb1hYMEdIMDdxMzE4CkJuNjFKemtDZ1lCa1VUZE5pV2pSQ3JYRHhVeVdyV0c5TDJ1UmU0RHVYOW5kclBrZ3pYaEdkSDkwcHlLU0J0SkIKV0NoMVRJL2ZjNVN5aXlYMVR4cXg2dDgweXBmNGRGVnBIMjFzODhpQ3VuTkNOMEZXdm5udDlPSmF0dTA4MXkvYQpYMXl0ck56UlNRbm5oOXFYRnA0OFQvYWtDM1NCK20zN2pBeEJjOXFZaXRNRGRYVVZOakVtbkE9PQotLS0tLUVORCBSU0EgUFJJVkFURSBLRVktLS0tLQo=\n",
      "- name: myuser\n",
      "  user:\n",
      "    auth-provider:\n",
      "      config:\n",
      "        client-id: kubernetes\n",
      "        id-token: eyJhbGciOiJSUzI1NiIsInR5cCIgOiAiSldUIiwia2lkIiA6ICJSdjZFSGhrZ1dNQ2pmb1lfbGZhendGLW9hV2xnRkRkTUpjWmstVV9BamJjIn0.eyJleHAiOjE2MzY3MDU4MzMsImlhdCI6MTYzNjcwNTUzMywiYXV0aF90aW1lIjoxNjM2NzA0MzY4LCJqdGkiOiIwZmY3YWVhZC0xZDIyLTRmZWEtYTJlMC0zNmQ3OWVhZGM1NTMiLCJpc3MiOiJodHRwczovL2tleWNsb2FrLjE5Mi4xNjguNDkuMi5uaXAuaW8vYXV0aC9yZWFsbXMvbXlyZWFsbSIsImF1ZCI6Imt1YmVybmV0ZXMiLCJzdWIiOiJiY2I1MDI4Ni02ZTZkLTRkYWMtODAwMy0yNTJhMzMyM2Q2YjAiLCJ0eXAiOiJJRCIsImF6cCI6Imt1YmVybmV0ZXMiLCJub25jZSI6InoxU2gzU25oeGk5UF9oa2lkMWJHT09rTWNqZ3lFQUpTcGtIUlFvWFphU0EiLCJzZXNzaW9uX3N0YXRlIjoiZmEzMmNlMjktZjY5MS00OTE5LTg5NTQtMzBlMDY4YmYwOTZmIiwiYXRfaGFzaCI6Im0tZmVKbnhuczJNTFByUU1ENUN5eUEiLCJhY3IiOiIwIiwic2lkIjoiZmEzMmNlMjktZjY5MS00OTE5LTg5NTQtMzBlMDY4YmYwOTZmIiwiZW1haWxfdmVyaWZpZWQiOmZhbHNlLCJuYW1lIjoiTXkgVXNlciIsInByZWZlcnJlZF91c2VybmFtZSI6Im15dXNlciIsImdpdmVuX25hbWUiOiJNeSIsImZhbWlseV9uYW1lIjoiVXNlciIsImVtYWlsIjoibXl1c2VyQGV4YW1wbGUuY29tIn0.EIgXZkk5SIA_muDs8snD6Eta5gqC4WAwbJn7lY6nddqcdJCKtZdj2LwXu-ji6AP-T_xDEPUC-dl29mEqqEZEIWEdt8o7cxLe5FfPNuR3btbHFfDvW-yxtCFrUGHDcoLCaCsTBift6T4GlSYQbbxNkS6TpZ3jXEf3Ec75bd-U0JrVJTLbp9Li5xRPGApfIUVJQMwsyiHYwZEEJHKVCJ9a_Kh5r8V_H-oWu7MaI0eo6QVG5HFr4NH1yt7-0MSdDHVNQ5OuVnN5ZmUoh96An9R5WwPWA8pud-avj0s3LpowMPZ8fyNg0Etlcp86QhRQXYsgr_XQRQAHEjYotm8HBKJkEQ\n",
      "        idp-issuer-url: https://keycloak.192.168.49.2.nip.io/auth/realms/myrealm\n",
      "        refresh-token: eyJhbGciOiJIUzI1NiIsInR5cCIgOiAiSldUIiwia2lkIiA6ICIzYzA4MDliNi03MTVjLTRiZTQtYWY2Ni1hZmNmZmVmMTg0NDgifQ.eyJleHAiOjE2MzY3MDczMzMsImlhdCI6MTYzNjcwNTUzMywianRpIjoiYzg5ZWFiODMtNDdkNC00Njk0LWI3OTYtZmUzZDhkMmY5ZDM1IiwiaXNzIjoiaHR0cHM6Ly9rZXljbG9hay4xOTIuMTY4LjQ5LjIubmlwLmlvL2F1dGgvcmVhbG1zL215cmVhbG0iLCJhdWQiOiJodHRwczovL2tleWNsb2FrLjE5Mi4xNjguNDkuMi5uaXAuaW8vYXV0aC9yZWFsbXMvbXlyZWFsbSIsInN1YiI6ImJjYjUwMjg2LTZlNmQtNGRhYy04MDAzLTI1MmEzMzIzZDZiMCIsInR5cCI6IlJlZnJlc2giLCJhenAiOiJrdWJlcm5ldGVzIiwibm9uY2UiOiJ6MVNoM1NuaHhpOVBfaGtpZDFiR09Pa01jamd5RUFKU3BrSFJRb1haYVNBIiwic2Vzc2lvbl9zdGF0ZSI6ImZhMzJjZTI5LWY2OTEtNDkxOS04OTU0LTMwZTA2OGJmMDk2ZiIsInNjb3BlIjoib3BlbmlkIGVtYWlsIHByb2ZpbGUiLCJzaWQiOiJmYTMyY2UyOS1mNjkxLTQ5MTktODk1NC0zMGUwNjhiZjA5NmYifQ.9XTBLEGFdwDpcCFSmPpvufEA4IkI2jZMHKXn6bYEuY8\n",
      "      name: oidc\n",
      "    client-certificate: /home/thomas/import/training-minikube/share/notebooks/training-kubernetes-security/auth/myuser.crt\n",
      "    client-key: /home/thomas/import/training-minikube/share/notebooks/training-kubernetes-security/auth/myuser.pem\n"
     ]
    }
   ],
   "source": [
    "cat ~/.kube/config"
   ]
  },
  {
   "cell_type": "code",
   "execution_count": 99,
   "metadata": {},
   "outputs": [
    {
     "name": "stdout",
     "output_type": "stream",
     "text": [
      "The following compatible plugins are available:\n",
      "\n",
      "/home/thomas/bin/kubectl-foo\n",
      "/home/thomas/bin/kubectl-rback\n",
      "Unable to read directory \"/snap/bin\" from your PATH: open /snap/bin: no such file or directory. Skipping...\n",
      "Unable to read directory \"/usr/lib/java/bin\" from your PATH: open /usr/lib/java/bin: no such file or directory. Skipping...\n",
      "/home/thomas/go/bin/kubectl-oidc-login\n",
      "/home/thomas/go/bin/kubectl-who-can\n"
     ]
    }
   ],
   "source": [
    "kubectl plugin list"
   ]
  },
  {
   "cell_type": "code",
   "execution_count": 105,
   "metadata": {},
   "outputs": [
    {
     "name": "stdout",
     "output_type": "stream",
     "text": [
      "thomas\n"
     ]
    }
   ],
   "source": [
    "echo $USER"
   ]
  },
  {
   "cell_type": "code",
   "execution_count": 113,
   "metadata": {
    "collapsed": true,
    "jupyter": {
     "outputs_hidden": true
    }
   },
   "outputs": [
    {
     "name": "stdout",
     "output_type": "stream",
     "text": [
      "apiVersion: apps/v1\n",
      "kind: Deployment\n",
      "metadata:\n",
      "  annotations:\n",
      "    deployment.kubernetes.io/revision: \"1\"\n",
      "    kubectl.kubernetes.io/last-applied-configuration: |\n",
      "      {\"apiVersion\":\"apps/v1\",\"kind\":\"Deployment\",\"metadata\":{\"annotations\":{},\"labels\":{\"app.kubernetes.io/component\":\"controller\",\"app.kubernetes.io/instance\":\"ingress-nginx\",\"app.kubernetes.io/name\":\"ingress-nginx\"},\"name\":\"ingress-nginx-controller\",\"namespace\":\"ingress-nginx\"},\"spec\":{\"minReadySeconds\":0,\"revisionHistoryLimit\":10,\"selector\":{\"matchLabels\":{\"app.kubernetes.io/component\":\"controller\",\"app.kubernetes.io/instance\":\"ingress-nginx\",\"app.kubernetes.io/name\":\"ingress-nginx\"}},\"strategy\":{\"rollingUpdate\":{\"maxUnavailable\":1},\"type\":\"RollingUpdate\"},\"template\":{\"metadata\":{\"labels\":{\"app.kubernetes.io/component\":\"controller\",\"app.kubernetes.io/instance\":\"ingress-nginx\",\"app.kubernetes.io/name\":\"ingress-nginx\",\"gcp-auth-skip-secret\":\"true\"}},\"spec\":{\"containers\":[{\"args\":[\"/nginx-ingress-controller\",\"--election-id=ingress-controller-leader\",\"--ingress-class=nginx\",\"--configmap=$(POD_NAMESPACE)/ingress-nginx-controller\",\"--report-node-internal-ip-address\",\"--tcp-services-configmap=$(POD_NAMESPACE)/tcp-services\",\"--udp-services-configmap=$(POD_NAMESPACE)/udp-services\",\"--validating-webhook=:8443\",\"--validating-webhook-certificate=/usr/local/certificates/cert\",\"--validating-webhook-key=/usr/local/certificates/key\"],\"env\":[{\"name\":\"POD_NAME\",\"valueFrom\":{\"fieldRef\":{\"fieldPath\":\"metadata.name\"}}},{\"name\":\"POD_NAMESPACE\",\"valueFrom\":{\"fieldRef\":{\"fieldPath\":\"metadata.namespace\"}}},{\"name\":\"LD_PRELOAD\",\"value\":\"/usr/local/lib/libmimalloc.so\"}],\"image\":\"k8s.gcr.io/ingress-nginx/controller:v1.0.0-beta.3@sha256:44a7a06b71187a4529b0a9edee5cc22bdf71b414470eff696c3869ea8d90a695\",\"imagePullPolicy\":\"IfNotPresent\",\"lifecycle\":{\"preStop\":{\"exec\":{\"command\":[\"/wait-shutdown\"]}}},\"livenessProbe\":{\"failureThreshold\":5,\"httpGet\":{\"path\":\"/healthz\",\"port\":10254,\"scheme\":\"HTTP\"},\"initialDelaySeconds\":10,\"periodSeconds\":10,\"successThreshold\":1,\"timeoutSeconds\":1},\"name\":\"controller\",\"ports\":[{\"containerPort\":80,\"hostPort\":80,\"name\":\"http\",\"protocol\":\"TCP\"},{\"containerPort\":443,\"hostPort\":443,\"name\":\"https\",\"protocol\":\"TCP\"},{\"containerPort\":8443,\"name\":\"webhook\",\"protocol\":\"TCP\"}],\"readinessProbe\":{\"failureThreshold\":3,\"httpGet\":{\"path\":\"/healthz\",\"port\":10254,\"scheme\":\"HTTP\"},\"initialDelaySeconds\":10,\"periodSeconds\":10,\"successThreshold\":1,\"timeoutSeconds\":1},\"resources\":{\"requests\":{\"cpu\":\"100m\",\"memory\":\"90Mi\"}},\"securityContext\":{\"allowPrivilegeEscalation\":true,\"capabilities\":{\"add\":[\"NET_BIND_SERVICE\"],\"drop\":[\"ALL\"]},\"runAsUser\":101},\"volumeMounts\":[{\"mountPath\":\"/usr/local/certificates/\",\"name\":\"webhook-cert\",\"readOnly\":true}]}],\"dnsPolicy\":\"ClusterFirst\",\"serviceAccountName\":\"ingress-nginx\",\"volumes\":[{\"name\":\"webhook-cert\",\"secret\":{\"secretName\":\"ingress-nginx-admission\"}}]}}}}\n",
      "  creationTimestamp: \"2021-11-12T17:25:15Z\"\n",
      "  generation: 1\n",
      "  labels:\n",
      "    app.kubernetes.io/component: controller\n",
      "    app.kubernetes.io/instance: ingress-nginx\n",
      "    app.kubernetes.io/name: ingress-nginx\n",
      "  name: ingress-nginx-controller\n",
      "  namespace: ingress-nginx\n",
      "  resourceVersion: \"839\"\n",
      "  uid: d09f050f-f71e-432a-bf82-4d6cb0cd804b\n",
      "spec:\n",
      "  progressDeadlineSeconds: 600\n",
      "  replicas: 1\n",
      "  revisionHistoryLimit: 10\n",
      "  selector:\n",
      "    matchLabels:\n",
      "      app.kubernetes.io/component: controller\n",
      "      app.kubernetes.io/instance: ingress-nginx\n",
      "      app.kubernetes.io/name: ingress-nginx\n",
      "  strategy:\n",
      "    rollingUpdate:\n",
      "      maxSurge: 25%\n",
      "      maxUnavailable: 1\n",
      "    type: RollingUpdate\n",
      "  template:\n",
      "    metadata:\n",
      "      creationTimestamp: null\n",
      "      labels:\n",
      "        app.kubernetes.io/component: controller\n",
      "        app.kubernetes.io/instance: ingress-nginx\n",
      "        app.kubernetes.io/name: ingress-nginx\n",
      "        gcp-auth-skip-secret: \"true\"\n",
      "    spec:\n",
      "      containers:\n",
      "      - args:\n",
      "        - /nginx-ingress-controller\n",
      "        - --election-id=ingress-controller-leader\n",
      "        - --ingress-class=nginx\n",
      "        - --configmap=$(POD_NAMESPACE)/ingress-nginx-controller\n",
      "        - --report-node-internal-ip-address\n",
      "        - --tcp-services-configmap=$(POD_NAMESPACE)/tcp-services\n",
      "        - --udp-services-configmap=$(POD_NAMESPACE)/udp-services\n",
      "        - --validating-webhook=:8443\n",
      "        - --validating-webhook-certificate=/usr/local/certificates/cert\n",
      "        - --validating-webhook-key=/usr/local/certificates/key\n",
      "        env:\n",
      "        - name: POD_NAME\n",
      "          valueFrom:\n",
      "            fieldRef:\n",
      "              apiVersion: v1\n",
      "              fieldPath: metadata.name\n",
      "        - name: POD_NAMESPACE\n",
      "          valueFrom:\n",
      "            fieldRef:\n",
      "              apiVersion: v1\n",
      "              fieldPath: metadata.namespace\n",
      "        - name: LD_PRELOAD\n",
      "          value: /usr/local/lib/libmimalloc.so\n",
      "        image: k8s.gcr.io/ingress-nginx/controller:v1.0.0-beta.3@sha256:44a7a06b71187a4529b0a9edee5cc22bdf71b414470eff696c3869ea8d90a695\n",
      "        imagePullPolicy: IfNotPresent\n",
      "        lifecycle:\n",
      "          preStop:\n",
      "            exec:\n",
      "              command:\n",
      "              - /wait-shutdown\n",
      "        livenessProbe:\n",
      "          failureThreshold: 5\n",
      "          httpGet:\n",
      "            path: /healthz\n",
      "            port: 10254\n",
      "            scheme: HTTP\n",
      "          initialDelaySeconds: 10\n",
      "          periodSeconds: 10\n",
      "          successThreshold: 1\n",
      "          timeoutSeconds: 1\n",
      "        name: controller\n",
      "        ports:\n",
      "        - containerPort: 80\n",
      "          hostPort: 80\n",
      "          name: http\n",
      "          protocol: TCP\n",
      "        - containerPort: 443\n",
      "          hostPort: 443\n",
      "          name: https\n",
      "          protocol: TCP\n",
      "        - containerPort: 8443\n",
      "          name: webhook\n",
      "          protocol: TCP\n",
      "        readinessProbe:\n",
      "          failureThreshold: 3\n",
      "          httpGet:\n",
      "            path: /healthz\n",
      "            port: 10254\n",
      "            scheme: HTTP\n",
      "          initialDelaySeconds: 10\n",
      "          periodSeconds: 10\n",
      "          successThreshold: 1\n",
      "          timeoutSeconds: 1\n",
      "        resources:\n",
      "          requests:\n",
      "            cpu: 100m\n",
      "            memory: 90Mi\n",
      "        securityContext:\n",
      "          allowPrivilegeEscalation: true\n",
      "          capabilities:\n",
      "            add:\n",
      "            - NET_BIND_SERVICE\n",
      "            drop:\n",
      "            - ALL\n",
      "          runAsUser: 101\n",
      "        terminationMessagePath: /dev/termination-log\n",
      "        terminationMessagePolicy: File\n",
      "        volumeMounts:\n",
      "        - mountPath: /usr/local/certificates/\n",
      "          name: webhook-cert\n",
      "          readOnly: true\n",
      "      dnsPolicy: ClusterFirst\n",
      "      restartPolicy: Always\n",
      "      schedulerName: default-scheduler\n",
      "      securityContext: {}\n",
      "      serviceAccount: ingress-nginx\n",
      "      serviceAccountName: ingress-nginx\n",
      "      terminationGracePeriodSeconds: 30\n",
      "      volumes:\n",
      "      - name: webhook-cert\n",
      "        secret:\n",
      "          defaultMode: 420\n",
      "          secretName: ingress-nginx-admission\n",
      "status:\n",
      "  availableReplicas: 1\n",
      "  conditions:\n",
      "  - lastTransitionTime: \"2021-11-12T17:25:15Z\"\n",
      "    lastUpdateTime: \"2021-11-12T17:25:15Z\"\n",
      "    message: Deployment has minimum availability.\n",
      "    reason: MinimumReplicasAvailable\n",
      "    status: \"True\"\n",
      "    type: Available\n",
      "  - lastTransitionTime: \"2021-11-12T17:25:15Z\"\n",
      "    lastUpdateTime: \"2021-11-12T17:25:35Z\"\n",
      "    message: ReplicaSet \"ingress-nginx-controller-69bdbc4d57\" has successfully progressed.\n",
      "    reason: NewReplicaSetAvailable\n",
      "    status: \"True\"\n",
      "    type: Progressing\n",
      "  observedGeneration: 1\n",
      "  readyReplicas: 1\n",
      "  replicas: 1\n",
      "  updatedReplicas: 1\n"
     ]
    }
   ],
   "source": [
    " kubectl -n ingress-nginx get deployment ingress-nginx-controller -o yaml"
   ]
  },
  {
   "cell_type": "code",
   "execution_count": 114,
   "metadata": {},
   "outputs": [
    {
     "name": "stdout",
     "output_type": "stream",
     "text": [
      "/home/thomas/import/training-minikube/share/notebooks/training-kubernetes-security\n"
     ]
    }
   ],
   "source": [
    "pwd"
   ]
  },
  {
   "cell_type": "code",
   "execution_count": 115,
   "metadata": {
    "collapsed": true,
    "jupyter": {
     "outputs_hidden": true
    }
   },
   "outputs": [
    {
     "name": "stdout",
     "output_type": "stream",
     "text": [
      "AccountWithRBAC.ipynb      Linux Namespaces.ipynb             Untitled1.ipynb\n",
      "\u001b[1;34massets\u001b[0m                     \u001b[1;4;33mMakefile\u001b[0m                           \n",
      "AuditLogs.ipynb            minikube.dot                       \n",
      "\u001b[1;34mauth\u001b[0m                       \u001b[1;35mminikube.png\u001b[0m                       \n",
      "Authorisation.ipynb        \u001b[1;34mmkcert\u001b[0m                             \n",
      "\u001b[1;34mcloudbomb\u001b[0m                  my-namespace-rbac.dot              \n",
      "ClusterOverview.ipynb      \u001b[1;35mmy-namespace-rbac.png\u001b[0m              \n",
      "ContainerdCloudbomb.ipynb  namespaces.dot                     \n",
      "CrioBomb.ipynb             \u001b[1;35mnamespaces.png\u001b[0m                     \n",
      "\u001b[1;35mdefault-rbac.png\u001b[0m           NetworkPolicy.ipynb                \n",
      "defaut-rbac.dot            OIDC-DEX.ipynb                     \n",
      "\u001b[1;35mdocker-hypervisor.png\u001b[0m      OIDC.ipynb                         \n",
      "Harbor.ipynb               OpenPolicyAgent.ipynb              \n",
      "Helm.ipynb                 \u001b[1;34mOpenShift\u001b[0m                          \n",
      "Ingress.ipynb              Overview.ipynb                     \n",
      "IngressKong.ipynb          PodSecurityPolicyBasic.ipynb       \n",
      "IngressKongStart.ipynb     PodSecurityPolicyPermissive.ipynb  \n",
      "IngressStart.ipynb         PodSecurityPolicyStrict.ipynb      \n",
      "Istio-Traffic-Mgmt.ipynb   \u001b[1;34mpostgres-operator\u001b[0m                  \n",
      "Istio1.8.2.ipynb           Postgres Zalando.ipynb             \n",
      "IstioHack.ipynb            \u001b[1;4;33mREADME.md\u001b[0m                          \n",
      "Keycloak.ipynb             \u001b[1;35mrealm.png\u001b[0m                          \n",
      "kube-bench.ipynb           \u001b[1;34mrootca\u001b[0m                             \n",
      "Kube-Scan-Cloudbomb.ipynb  RootCA.ipynb                       \n",
      "\u001b[1;35mkubernetes-client.png\u001b[0m      \u001b[1;34msecrets\u001b[0m                            \n",
      "KubernetesBasics.ipynb     ServiceAccountToken.ipynb          \n",
      "License.ipynb              \u001b[1;34mssl\u001b[0m                                \n",
      "\u001b[1;34mlinkerd\u001b[0m                    \u001b[1;31mstep-cli_0.15.16_amd64.deb\u001b[0m         \n",
      "Linkerd-Demo.ipynb         Unprivileged.ipynb                 \n",
      "LinkerdInstall.ipynb       Untitled.ipynb                     \n"
     ]
    }
   ],
   "source": [
    "ls"
   ]
  },
  {
   "cell_type": "code",
   "execution_count": 116,
   "metadata": {},
   "outputs": [],
   "source": [
    "rm -rf rootca"
   ]
  },
  {
   "cell_type": "code",
   "execution_count": 117,
   "metadata": {},
   "outputs": [],
   "source": [
    "mkdir -p certs"
   ]
  },
  {
   "cell_type": "code",
   "execution_count": 118,
   "metadata": {},
   "outputs": [],
   "source": [
    "mkdir rootca"
   ]
  },
  {
   "cell_type": "code",
   "execution_count": 119,
   "metadata": {},
   "outputs": [
    {
     "name": "stdout",
     "output_type": "stream",
     "text": [
      "MKCert.ipynb\n"
     ]
    }
   ],
   "source": [
    "ls rootca"
   ]
  },
  {
   "cell_type": "code",
   "execution_count": 121,
   "metadata": {},
   "outputs": [],
   "source": [
    "mv rootca/* ."
   ]
  },
  {
   "cell_type": "code",
   "execution_count": null,
   "metadata": {},
   "outputs": [],
   "source": []
  }
 ],
 "metadata": {
  "kernelspec": {
   "display_name": "Bash",
   "language": "bash",
   "name": "bash"
  },
  "language_info": {
   "codemirror_mode": "shell",
   "file_extension": ".sh",
   "mimetype": "text/x-sh",
   "name": "bash"
  }
 },
 "nbformat": 4,
 "nbformat_minor": 4
}
