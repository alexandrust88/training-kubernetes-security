{
 "cells": [
  {
   "cell_type": "markdown",
   "metadata": {},
   "source": [
    "**This notebook covered by the following [license](License.ipynb)  This note must not be removed**"
   ]
  },
  {
   "cell_type": "markdown",
   "metadata": {},
   "source": [
    "# Start\n",
    "\n",
    "Deployment and Service\n",
    "\n",
    "https://kubernetes.io/docs/concepts/services-networking/connect-applications-service/"
   ]
  },
  {
   "cell_type": "code",
   "execution_count": 15,
   "metadata": {},
   "outputs": [
    {
     "name": "stdout",
     "output_type": "stream",
     "text": [
      "NAMESPACE     NAME                               READY   STATUS    RESTARTS   AGE\n",
      "default       my-nginx-5b56ccd65f-8krqn          1/1     Running   0          45m\n",
      "default       my-nginx-5b56ccd65f-s8qwn          1/1     Running   0          45m\n",
      "kube-system   coredns-74ff55c5b-bx9lj            1/1     Running   0          127m\n",
      "kube-system   etcd-minikube                      1/1     Running   0          127m\n",
      "kube-system   kube-apiserver-minikube            1/1     Running   0          127m\n",
      "kube-system   kube-controller-manager-minikube   1/1     Running   0          127m\n",
      "kube-system   kube-proxy-2rf67                   1/1     Running   0          127m\n",
      "kube-system   kube-scheduler-minikube            1/1     Running   0          127m\n",
      "kube-system   storage-provisioner                1/1     Running   0          128m\n"
     ]
    }
   ],
   "source": [
    "kubectl get pods -A"
   ]
  },
  {
   "cell_type": "markdown",
   "metadata": {},
   "source": [
    "# Warning\n",
    "\n",
    "**we install software from an unknown source**"
   ]
  },
  {
   "cell_type": "code",
   "execution_count": 2,
   "metadata": {
    "collapsed": true,
    "jupyter": {
     "outputs_hidden": true
    }
   },
   "outputs": [
    {
     "name": "stdout",
     "output_type": "stream",
     "text": [
      "deployment.apps/my-nginx created\n"
     ]
    }
   ],
   "source": [
    "kubectl create -f https://raw.githubusercontent.com/kubernetes/website/master/content/en/examples/service/networking/run-my-nginx.yaml"
   ]
  },
  {
   "cell_type": "code",
   "execution_count": 3,
   "metadata": {
    "collapsed": true,
    "jupyter": {
     "outputs_hidden": true
    }
   },
   "outputs": [
    {
     "name": "stdout",
     "output_type": "stream",
     "text": [
      "service/my-nginx created\n"
     ]
    }
   ],
   "source": [
    "kubectl create -f https://raw.githubusercontent.com/kubernetes/website/master/content/en/examples/service/networking/nginx-svc.yaml"
   ]
  },
  {
   "cell_type": "code",
   "execution_count": 6,
   "metadata": {
    "collapsed": true,
    "jupyter": {
     "outputs_hidden": true
    }
   },
   "outputs": [
    {
     "name": "stdout",
     "output_type": "stream",
     "text": [
      "NAME                            READY   STATUS    RESTARTS   AGE\n",
      "pod/my-nginx-5b56ccd65f-8krqn   1/1     Running   0          21s\n",
      "pod/my-nginx-5b56ccd65f-s8qwn   1/1     Running   0          21s\n",
      "\n",
      "NAME                 TYPE        CLUSTER-IP    EXTERNAL-IP   PORT(S)   AGE\n",
      "service/kubernetes   ClusterIP   10.96.0.1     <none>        443/TCP   82m\n",
      "service/my-nginx     ClusterIP   10.97.45.87   <none>        80/TCP    19s\n",
      "\n",
      "NAME                       READY   UP-TO-DATE   AVAILABLE   AGE\n",
      "deployment.apps/my-nginx   2/2     2            2           21s\n",
      "\n",
      "NAME                                  DESIRED   CURRENT   READY   AGE\n",
      "replicaset.apps/my-nginx-5b56ccd65f   2         2         2       21s\n"
     ]
    }
   ],
   "source": [
    "kubectl get all"
   ]
  },
  {
   "cell_type": "code",
   "execution_count": 7,
   "metadata": {
    "collapsed": true,
    "jupyter": {
     "outputs_hidden": true
    }
   },
   "outputs": [
    {
     "name": "stdout",
     "output_type": "stream",
     "text": [
      "apiVersion: v1\n",
      "kind: Service\n",
      "metadata:\n",
      "  name: my-nginx\n",
      "  labels:\n",
      "    run: my-nginx\n",
      "spec:\n",
      "  ports:\n",
      "  - port: 80\n",
      "    protocol: TCP\n",
      "  selector:\n",
      "    run: my-nginx\n"
     ]
    }
   ],
   "source": [
    "curl https://raw.githubusercontent.com/kubernetes/website/master/content/en/examples/service/networking/nginx-svc.yaml"
   ]
  },
  {
   "cell_type": "code",
   "execution_count": 8,
   "metadata": {
    "collapsed": true,
    "jupyter": {
     "outputs_hidden": true
    }
   },
   "outputs": [
    {
     "name": "stdout",
     "output_type": "stream",
     "text": [
      "apiVersion: apps/v1\n",
      "kind: Deployment\n",
      "metadata:\n",
      "  name: my-nginx\n",
      "spec:\n",
      "  selector:\n",
      "    matchLabels:\n",
      "      run: my-nginx\n",
      "  replicas: 2\n",
      "  template:\n",
      "    metadata:\n",
      "      labels:\n",
      "        run: my-nginx\n",
      "    spec:\n",
      "      containers:\n",
      "      - name: my-nginx\n",
      "        image: nginx\n",
      "        ports:\n",
      "        - containerPort: 80\n",
      "\n"
     ]
    }
   ],
   "source": [
    "curl https://raw.githubusercontent.com/kubernetes/website/master/content/en/examples/service/networking/run-my-nginx.yaml"
   ]
  },
  {
   "cell_type": "code",
   "execution_count": 9,
   "metadata": {
    "collapsed": true,
    "jupyter": {
     "outputs_hidden": true
    }
   },
   "outputs": [
    {
     "name": "stdout",
     "output_type": "stream",
     "text": [
      "NAME       TYPE        CLUSTER-IP    EXTERNAL-IP   PORT(S)   AGE\n",
      "my-nginx   ClusterIP   10.97.45.87   <none>        80/TCP    3m30s\n"
     ]
    }
   ],
   "source": [
    "kubectl get service my-nginx"
   ]
  },
  {
   "cell_type": "code",
   "execution_count": 10,
   "metadata": {
    "collapsed": true,
    "jupyter": {
     "outputs_hidden": true
    }
   },
   "outputs": [
    {
     "name": "stdout",
     "output_type": "stream",
     "text": [
      "apiVersion: v1\n",
      "kind: Service\n",
      "metadata:\n",
      "  creationTimestamp: \"2021-01-26T09:39:08Z\"\n",
      "  labels:\n",
      "    run: my-nginx\n",
      "  managedFields:\n",
      "  - apiVersion: v1\n",
      "    fieldsType: FieldsV1\n",
      "    fieldsV1:\n",
      "      f:metadata:\n",
      "        f:labels:\n",
      "          .: {}\n",
      "          f:run: {}\n",
      "      f:spec:\n",
      "        f:ports:\n",
      "          .: {}\n",
      "          k:{\"port\":80,\"protocol\":\"TCP\"}:\n",
      "            .: {}\n",
      "            f:port: {}\n",
      "            f:protocol: {}\n",
      "            f:targetPort: {}\n",
      "        f:selector:\n",
      "          .: {}\n",
      "          f:run: {}\n",
      "        f:sessionAffinity: {}\n",
      "        f:type: {}\n",
      "    manager: kubectl-create\n",
      "    operation: Update\n",
      "    time: \"2021-01-26T09:39:08Z\"\n",
      "  name: my-nginx\n",
      "  namespace: default\n",
      "  resourceVersion: \"3924\"\n",
      "  uid: 94190287-0839-4242-84fe-8b29c0db4fa1\n",
      "spec:\n",
      "  clusterIP: 10.97.45.87\n",
      "  clusterIPs:\n",
      "  - 10.97.45.87\n",
      "  ports:\n",
      "  - port: 80\n",
      "    protocol: TCP\n",
      "    targetPort: 80\n",
      "  selector:\n",
      "    run: my-nginx\n",
      "  sessionAffinity: None\n",
      "  type: ClusterIP\n",
      "status:\n",
      "  loadBalancer: {}\n"
     ]
    }
   ],
   "source": [
    "kubectl get service my-nginx -o yaml"
   ]
  },
  {
   "cell_type": "code",
   "execution_count": null,
   "metadata": {},
   "outputs": [],
   "source": [
    "kubectl get service my-nginx -o jsonpath='{.spec.clusterIP}'"
   ]
  },
  {
   "cell_type": "code",
   "execution_count": 13,
   "metadata": {
    "collapsed": true,
    "jupyter": {
     "outputs_hidden": true
    }
   },
   "outputs": [
    {
     "name": "stdout",
     "output_type": "stream",
     "text": [
      "<!DOCTYPE html>\n",
      "<html>\n",
      "<head>\n",
      "<title>Welcome to nginx!</title>\n",
      "<style>\n",
      "    body {\n",
      "        width: 35em;\n",
      "        margin: 0 auto;\n",
      "        font-family: Tahoma, Verdana, Arial, sans-serif;\n",
      "    }\n",
      "</style>\n",
      "</head>\n",
      "<body>\n",
      "<h1>Welcome to nginx!</h1>\n",
      "<p>If you see this page, the nginx web server is successfully installed and\n",
      "working. Further configuration is required.</p>\n",
      "\n",
      "<p>For online documentation and support please refer to\n",
      "<a href=\"http://nginx.org/\">nginx.org</a>.<br/>\n",
      "Commercial support is available at\n",
      "<a href=\"http://nginx.com/\">nginx.com</a>.</p>\n",
      "\n",
      "<p><em>Thank you for using nginx.</em></p>\n",
      "</body>\n",
      "</html>\n"
     ]
    }
   ],
   "source": [
    "IP=$(kubectl get service my-nginx -o jsonpath='{.spec.clusterIP}')\n",
    "curl $IP"
   ]
  },
  {
   "cell_type": "code",
   "execution_count": 14,
   "metadata": {
    "collapsed": true,
    "jupyter": {
     "outputs_hidden": true
    }
   },
   "outputs": [
    {
     "name": "stdout",
     "output_type": "stream",
     "text": [
      "http://10.97.45.87\n"
     ]
    }
   ],
   "source": [
    "echo http://$IP"
   ]
  },
  {
   "cell_type": "code",
   "execution_count": null,
   "metadata": {
    "collapsed": true,
    "jupyter": {
     "outputs_hidden": true
    }
   },
   "outputs": [],
   "source": []
  }
 ],
 "metadata": {
  "kernelspec": {
   "display_name": "Bash",
   "language": "bash",
   "name": "bash"
  },
  "language_info": {
   "codemirror_mode": "shell",
   "file_extension": ".sh",
   "mimetype": "text/x-sh",
   "name": "bash"
  }
 },
 "nbformat": 4,
 "nbformat_minor": 5
}
