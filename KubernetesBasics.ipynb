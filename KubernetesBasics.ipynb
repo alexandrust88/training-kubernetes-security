{
 "cells": [
  {
   "cell_type": "markdown",
   "id": "9034b3a4",
   "metadata": {},
   "source": [
    "**This notebook covered by the following [license](License.ipynb)  This note must not be removed**"
   ]
  },
  {
   "cell_type": "markdown",
   "id": "bc67af31-89bb-4d07-8e68-cd6d94847764",
   "metadata": {},
   "source": [
    "# Start\n",
    "\n",
    "Deployment and Service\n",
    "\n",
    "https://kubernetes.io/docs/concepts/services-networking/connect-applications-service/"
   ]
  },
  {
   "cell_type": "code",
   "execution_count": 3,
   "id": "018a03ff",
   "metadata": {},
   "outputs": [
    {
     "name": "stdout",
     "output_type": "stream",
     "text": [
      "NAMESPACE     NAME                               READY   STATUS    RESTARTS        AGE\n",
      "kube-system   coredns-78fcd69978-v78km           1/1     Running   1 (6m31s ago)   12d\n",
      "kube-system   etcd-minikube                      1/1     Running   1 (6m31s ago)   12d\n",
      "kube-system   kube-apiserver-minikube            1/1     Running   1 (6m31s ago)   12d\n",
      "kube-system   kube-controller-manager-minikube   1/1     Running   1 (6m31s ago)   12d\n",
      "kube-system   kube-proxy-55mgp                   1/1     Running   1 (6m31s ago)   12d\n",
      "kube-system   kube-scheduler-minikube            1/1     Running   1 (6m31s ago)   12d\n",
      "kube-system   storage-provisioner                1/1     Running   3 (5m39s ago)   12d\n"
     ]
    }
   ],
   "source": [
    "kubectl get pods -A"
   ]
  },
  {
   "cell_type": "markdown",
   "id": "c86730d5",
   "metadata": {},
   "source": [
    "# Warning\n",
    "\n",
    "**we install software from an unknown source**"
   ]
  },
  {
   "cell_type": "code",
   "execution_count": 4,
   "id": "7a0c3b81",
   "metadata": {
    "tags": []
   },
   "outputs": [
    {
     "name": "stdout",
     "output_type": "stream",
     "text": [
      "deployment.apps/my-nginx created\n"
     ]
    }
   ],
   "source": [
    "kubectl create -f https://raw.githubusercontent.com/kubernetes/website/master/content/en/examples/service/networking/run-my-nginx.yaml"
   ]
  },
  {
   "cell_type": "code",
   "execution_count": 5,
   "id": "3a801665",
   "metadata": {
    "tags": []
   },
   "outputs": [
    {
     "name": "stdout",
     "output_type": "stream",
     "text": [
      "service/my-nginx created\n"
     ]
    }
   ],
   "source": [
    "kubectl create -f https://raw.githubusercontent.com/kubernetes/website/master/content/en/examples/service/networking/nginx-svc.yaml"
   ]
  },
  {
   "cell_type": "code",
   "execution_count": 8,
   "id": "d9eeb27e",
   "metadata": {
    "tags": []
   },
   "outputs": [
    {
     "name": "stdout",
     "output_type": "stream",
     "text": [
      "NAME                            READY   STATUS    RESTARTS   AGE\n",
      "pod/my-nginx-5b56ccd65f-28ksz   1/1     Running   0          95s\n",
      "pod/my-nginx-5b56ccd65f-588gw   1/1     Running   0          95s\n",
      "\n",
      "NAME                 TYPE        CLUSTER-IP      EXTERNAL-IP   PORT(S)   AGE\n",
      "service/kubernetes   ClusterIP   10.96.0.1       <none>        443/TCP   12d\n",
      "service/my-nginx     ClusterIP   10.111.88.126   <none>        80/TCP    85s\n",
      "\n",
      "NAME                       READY   UP-TO-DATE   AVAILABLE   AGE\n",
      "deployment.apps/my-nginx   2/2     2            2           96s\n",
      "\n",
      "NAME                                  DESIRED   CURRENT   READY   AGE\n",
      "replicaset.apps/my-nginx-5b56ccd65f   2         2         2       95s\n"
     ]
    }
   ],
   "source": [
    "kubectl get all"
   ]
  },
  {
   "cell_type": "code",
   "execution_count": 9,
   "id": "ac89c10b",
   "metadata": {
    "tags": []
   },
   "outputs": [
    {
     "name": "stdout",
     "output_type": "stream",
     "text": [
      "apiVersion: v1\n",
      "kind: Service\n",
      "metadata:\n",
      "  name: my-nginx\n",
      "  labels:\n",
      "    run: my-nginx\n",
      "spec:\n",
      "  ports:\n",
      "  - port: 80\n",
      "    protocol: TCP\n",
      "  selector:\n",
      "    run: my-nginx\n"
     ]
    }
   ],
   "source": [
    "curl https://raw.githubusercontent.com/kubernetes/website/master/content/en/examples/service/networking/nginx-svc.yaml"
   ]
  },
  {
   "cell_type": "code",
   "execution_count": 10,
   "id": "b876892d",
   "metadata": {
    "tags": []
   },
   "outputs": [
    {
     "name": "stdout",
     "output_type": "stream",
     "text": [
      "apiVersion: apps/v1\n",
      "kind: Deployment\n",
      "metadata:\n",
      "  name: my-nginx\n",
      "spec:\n",
      "  selector:\n",
      "    matchLabels:\n",
      "      run: my-nginx\n",
      "  replicas: 2\n",
      "  template:\n",
      "    metadata:\n",
      "      labels:\n",
      "        run: my-nginx\n",
      "    spec:\n",
      "      containers:\n",
      "      - name: my-nginx\n",
      "        image: nginx\n",
      "        ports:\n",
      "        - containerPort: 80\n",
      "\n"
     ]
    }
   ],
   "source": [
    "curl https://raw.githubusercontent.com/kubernetes/website/master/content/en/examples/service/networking/run-my-nginx.yaml"
   ]
  },
  {
   "cell_type": "code",
   "execution_count": 11,
   "id": "8d768310",
   "metadata": {
    "tags": []
   },
   "outputs": [
    {
     "name": "stdout",
     "output_type": "stream",
     "text": [
      "NAME       TYPE        CLUSTER-IP      EXTERNAL-IP   PORT(S)   AGE\n",
      "my-nginx   ClusterIP   10.111.88.126   <none>        80/TCP    2m41s\n"
     ]
    }
   ],
   "source": [
    "kubectl get service my-nginx"
   ]
  },
  {
   "cell_type": "code",
   "execution_count": 12,
   "id": "c27d28cc",
   "metadata": {
    "tags": []
   },
   "outputs": [
    {
     "name": "stdout",
     "output_type": "stream",
     "text": [
      "apiVersion: v1\n",
      "kind: Service\n",
      "metadata:\n",
      "  creationTimestamp: \"2021-11-24T10:08:36Z\"\n",
      "  labels:\n",
      "    run: my-nginx\n",
      "  name: my-nginx\n",
      "  namespace: default\n",
      "  resourceVersion: \"342232\"\n",
      "  uid: 294a535d-3ec5-4b9d-8cce-6e0dbc3ea064\n",
      "spec:\n",
      "  clusterIP: 10.111.88.126\n",
      "  clusterIPs:\n",
      "  - 10.111.88.126\n",
      "  internalTrafficPolicy: Cluster\n",
      "  ipFamilies:\n",
      "  - IPv4\n",
      "  ipFamilyPolicy: SingleStack\n",
      "  ports:\n",
      "  - port: 80\n",
      "    protocol: TCP\n",
      "    targetPort: 80\n",
      "  selector:\n",
      "    run: my-nginx\n",
      "  sessionAffinity: None\n",
      "  type: ClusterIP\n",
      "status:\n",
      "  loadBalancer: {}\n"
     ]
    }
   ],
   "source": [
    "kubectl get service my-nginx -o yaml"
   ]
  },
  {
   "cell_type": "code",
   "execution_count": 13,
   "id": "aec48c2f",
   "metadata": {},
   "outputs": [
    {
     "name": "stdout",
     "output_type": "stream",
     "text": [
      "10.111.88.126"
     ]
    }
   ],
   "source": [
    "kubectl get service my-nginx -o jsonpath='{.spec.clusterIP}'"
   ]
  },
  {
   "cell_type": "code",
   "execution_count": 14,
   "id": "e6838056",
   "metadata": {
    "tags": []
   },
   "outputs": [
    {
     "name": "stdout",
     "output_type": "stream",
     "text": [
      "<!DOCTYPE html>\n",
      "<html>\n",
      "<head>\n",
      "<title>Welcome to nginx!</title>\n",
      "<style>\n",
      "html { color-scheme: light dark; }\n",
      "body { width: 35em; margin: 0 auto;\n",
      "font-family: Tahoma, Verdana, Arial, sans-serif; }\n",
      "</style>\n",
      "</head>\n",
      "<body>\n",
      "<h1>Welcome to nginx!</h1>\n",
      "<p>If you see this page, the nginx web server is successfully installed and\n",
      "working. Further configuration is required.</p>\n",
      "\n",
      "<p>For online documentation and support please refer to\n",
      "<a href=\"http://nginx.org/\">nginx.org</a>.<br/>\n",
      "Commercial support is available at\n",
      "<a href=\"http://nginx.com/\">nginx.com</a>.</p>\n",
      "\n",
      "<p><em>Thank you for using nginx.</em></p>\n",
      "</body>\n",
      "</html>\n"
     ]
    }
   ],
   "source": [
    "IP=$(kubectl get service my-nginx -o jsonpath='{.spec.clusterIP}')\n",
    "curl $IP"
   ]
  },
  {
   "cell_type": "code",
   "execution_count": 15,
   "id": "3da90f58",
   "metadata": {
    "tags": []
   },
   "outputs": [
    {
     "name": "stdout",
     "output_type": "stream",
     "text": [
      "http://10.111.88.126\n"
     ]
    }
   ],
   "source": [
    "echo http://$IP"
   ]
  },
  {
   "cell_type": "code",
   "execution_count": 16,
   "id": "d4141c97",
   "metadata": {
    "tags": []
   },
   "outputs": [
    {
     "name": "stdout",
     "output_type": "stream",
     "text": [
      "10.96.0.1 10.111.88.126 10.96.0.10"
     ]
    }
   ],
   "source": [
    "kubectl get service -A -o jsonpath='{.items[*].spec.clusterIP}'"
   ]
  },
  {
   "cell_type": "code",
   "execution_count": 18,
   "id": "048206fd-bbdc-426c-9d58-556679c60183",
   "metadata": {},
   "outputs": [
    {
     "name": "stdout",
     "output_type": "stream",
     "text": [
      "default/my-nginx-5b56ccd65f-28ksz:\n",
      "  nginx:<no value>\n",
      "default/my-nginx-5b56ccd65f-588gw:\n",
      "  nginx:<no value>\n",
      "kube-system/coredns-78fcd69978-v78km:\n",
      "  k8s.gcr.io/coredns/coredns:v1.8.4:map[allowPrivilegeEscalation:false capabilities:map[add:[\u001b[01;31m\u001b[KNET_BIND_SERVICE\u001b[m\u001b[K] drop:[all]] readOnlyRootFilesystem:true]\n",
      "kube-system/etcd-minikube:\n",
      "  k8s.gcr.io/etcd:3.5.0-0:<no value>\n",
      "kube-system/kube-apiserver-minikube:\n",
      "  k8s.gcr.io/kube-apiserver:v1.22.2:<no value>\n",
      "kube-system/kube-controller-manager-minikube:\n",
      "  k8s.gcr.io/kube-controller-manager:v1.22.2:<no value>\n",
      "kube-system/kube-proxy-55mgp:\n",
      "  k8s.gcr.io/kube-proxy:v1.22.2:map[\u001b[01;31m\u001b[Kprivileged\u001b[m\u001b[K:true]\n",
      "kube-system/kube-scheduler-minikube:\n",
      "  k8s.gcr.io/kube-scheduler:v1.22.2:<no value>\n",
      "kube-system/storage-provisioner:\n",
      "  gcr.io/k8s-minikube/storage-provisioner:v5:<no value>\n"
     ]
    }
   ],
   "source": [
    "kubectl get pods --all-namespaces -o go-template \\\n",
    "--template=\"{{range .items}}{{.metadata.namespace}}/{{.metadata.name}}:{{println}}{{range .spec.containers}}  {{.image}}:{{.securityContext}}\n",
    "{{end}}{{end}}\" | grep --color=always -E '(^|privileged|NET_BIND_SERVICE)'\n"
   ]
  },
  {
   "cell_type": "code",
   "execution_count": null,
   "id": "5abbfcb7-5ecc-4349-b5e3-b7db1654d149",
   "metadata": {},
   "outputs": [],
   "source": []
  }
 ],
 "metadata": {
  "kernelspec": {
   "display_name": "Bash",
   "language": "bash",
   "name": "bash"
  },
  "language_info": {
   "codemirror_mode": "shell",
   "file_extension": ".sh",
   "mimetype": "text/x-sh",
   "name": "bash"
  }
 },
 "nbformat": 4,
 "nbformat_minor": 5
}
