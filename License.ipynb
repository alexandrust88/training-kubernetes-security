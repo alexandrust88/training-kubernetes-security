{
 "cells": [
  {
   "cell_type": "markdown",
   "metadata": {},
   "source": [
    "# License\n",
    "\n",
    "This License covers the Jupyter notebooks, pictures and any other document and code in this repository.\n",
    "\n",
    "## Instructional Material\n",
    "All instructional material in this repository is made available under the Creative Commons Attribution license.\n",
    "\n",
    "The following is a [human-readable summary]((https://creativecommons.org/licenses/by-sa/4.0/)) of (and not a substitute for) the full legal text of the \n",
    "[**Attribution-ShareAlike 4.0 International (CC BY-SA 4.0)**](https://creativecommons.org/licenses/by-sa/4.0/legalcode)  license\n",
    "\n",
    "### You are free to:\n",
    "\n",
    "- Share — copy and redistribute the material in any medium or format\n",
    "- Adapt — remix, transform, and build upon the material for any purpose, even commercially.\n",
    "\n",
    "- This license is acceptable for Free Cultural Works.\n",
    "- The licensor cannot revoke these freedoms as long as you follow the license terms.\n",
    "\n",
    "Under the following terms:\n",
    "- Attribution — You must give appropriate credit, provide a link to the license, and indicate if changes were made. You may do so in any reasonable manner, but not in any way that suggests the licensor endorses you or your use.\n",
    "- ShareAlike — If you remix, transform, or build upon the material, you must distribute your contributions under the same license as the original.\n",
    "- No additional restrictions — You may not apply legal terms or technological measures that legally restrict others from doing anything the license permits.\n",
    "\n",
    "## Software\n",
    "\n",
    "The software, including the scripts in the Jupyter notebooks\n",
    "and any other code in this repository is provided under the AGPL-V3. The following is a human-readable summary and not a replacement for the full legal text of the \n",
    "[**GNU Affero General Public License Version 3.0**](https://www.gnu.org/licenses/agpl-3.0.en.html).\n",
    "\n",
    "- The GNU Affero General Public License is a free, copyleft license for software and other kinds of works, specifically designed to ensure cooperation with the community in the case of network server software.\n",
    "- The GNU Affero General Public License is designed specifically to ensure that, in such cases, the modified source code becomes available to the community. It requires the operator of a network server to provide the source code of the modified version running there to the users of that server. Therefore, public use of a modified version, on a publicly accessible server, gives the public access to the source code of the modified version.\n"
   ]
  },
  {
   "cell_type": "code",
   "execution_count": null,
   "metadata": {},
   "outputs": [],
   "source": []
  }
 ],
 "metadata": {
  "kernelspec": {
   "display_name": "Bash",
   "language": "bash",
   "name": "bash"
  },
  "language_info": {
   "name": ""
  }
 },
 "nbformat": 4,
 "nbformat_minor": 4
}
