{
 "cells": [
  {
   "cell_type": "markdown",
   "id": "1b161567",
   "metadata": {},
   "source": [
    "**This notebook covered by the following [license](License.ipynb)  This note must not be removed**"
   ]
  },
  {
   "cell_type": "markdown",
   "id": "57cd78e0",
   "metadata": {},
   "source": [
    "# Linux namespaces\n",
    "\n",
    "![Namespaces](namespaces.png)"
   ]
  },
  {
   "cell_type": "markdown",
   "id": "34a3f342",
   "metadata": {},
   "source": [
    "![container vs hypervisor](docker-hypervisor.png)"
   ]
  },
  {
   "cell_type": "code",
   "execution_count": 10,
   "id": "9ab9f74c",
   "metadata": {},
   "outputs": [
    {
     "name": "stdout",
     "output_type": "stream",
     "text": [
      "CONTAINER ID   IMAGE                  COMMAND                  CREATED              STATUS              PORTS     NAMES\n",
      "ea714724541c   nginx                  \"/docker-entrypoint.…\"   48 seconds ago       Up 47 seconds                 k8s_nginx_nginx-6799fc88d8-nzbj2_default_2c126dba-6a37-46be-b550-d0e0d8a30bf9_0\n",
      "afd2530f876d   k8s.gcr.io/pause:3.5   \"/pause\"                 About a minute ago   Up About a minute             k8s_POD_nginx-6799fc88d8-nzbj2_default_2c126dba-6a37-46be-b550-d0e0d8a30bf9_0\n",
      "612d18f433bd   6e38f40d628d           \"/storage-provisioner\"   32 minutes ago       Up 32 minutes                 k8s_storage-provisioner_storage-provisioner_kube-system_b147672e-36fd-42d8-a691-2c3896f0f43b_0\n",
      "65793eecdde3   8d147537fb7d           \"/coredns -conf /etc…\"   32 minutes ago       Up 32 minutes                 k8s_coredns_coredns-78fcd69978-jtj8x_kube-system_e01e0c8b-f513-4822-983a-264e8326eeb1_0\n",
      "f915b870ee6b   k8s.gcr.io/pause:3.5   \"/pause\"                 32 minutes ago       Up 32 minutes                 k8s_POD_storage-provisioner_kube-system_b147672e-36fd-42d8-a691-2c3896f0f43b_0\n",
      "72c6ee947db8   873127efbc8a           \"/usr/local/bin/kube…\"   32 minutes ago       Up 32 minutes                 k8s_kube-proxy_kube-proxy-7zcnf_kube-system_89a16e01-0d20-4a29-b0a6-61dd2b391017_0\n",
      "ed853a4bf5d0   k8s.gcr.io/pause:3.5   \"/pause\"                 32 minutes ago       Up 32 minutes                 k8s_POD_coredns-78fcd69978-jtj8x_kube-system_e01e0c8b-f513-4822-983a-264e8326eeb1_0\n",
      "cfa9996f98c4   k8s.gcr.io/pause:3.5   \"/pause\"                 32 minutes ago       Up 32 minutes                 k8s_POD_kube-proxy-7zcnf_kube-system_89a16e01-0d20-4a29-b0a6-61dd2b391017_0\n",
      "b3473922bbe4   5425bcbd23c5           \"kube-controller-man…\"   32 minutes ago       Up 32 minutes                 k8s_kube-controller-manager_kube-controller-manager-minikube_kube-system_4787f37e041fd890d5499a8863561e5f_0\n",
      "fc75fd7aba15   004811815584           \"etcd --advertise-cl…\"   32 minutes ago       Up 32 minutes                 k8s_etcd_etcd-minikube_kube-system_08a3871e1baa241b73e5af01a6d01393_0\n",
      "3cab011b2934   b51ddc1014b0           \"kube-scheduler --au…\"   32 minutes ago       Up 32 minutes                 k8s_kube-scheduler_kube-scheduler-minikube_kube-system_97bca4cd66281ad2157a6a68956c4fa5_0\n",
      "c305e0932e5a   e64579b7d886           \"kube-apiserver --ad…\"   32 minutes ago       Up 32 minutes                 k8s_kube-apiserver_kube-apiserver-minikube_kube-system_fe49842e48a1ca6bac988e8ba88ecc53_0\n",
      "fd8093a82c02   k8s.gcr.io/pause:3.5   \"/pause\"                 32 minutes ago       Up 32 minutes                 k8s_POD_kube-scheduler-minikube_kube-system_97bca4cd66281ad2157a6a68956c4fa5_0\n",
      "b2787fd72074   k8s.gcr.io/pause:3.5   \"/pause\"                 32 minutes ago       Up 32 minutes                 k8s_POD_kube-controller-manager-minikube_kube-system_4787f37e041fd890d5499a8863561e5f_0\n",
      "654ee9f65305   k8s.gcr.io/pause:3.5   \"/pause\"                 32 minutes ago       Up 32 minutes                 k8s_POD_kube-apiserver-minikube_kube-system_fe49842e48a1ca6bac988e8ba88ecc53_0\n",
      "286180e64eaa   k8s.gcr.io/pause:3.5   \"/pause\"                 32 minutes ago       Up 32 minutes                 k8s_POD_etcd-minikube_kube-system_08a3871e1baa241b73e5af01a6d01393_0\n"
     ]
    }
   ],
   "source": [
    "docker ps"
   ]
  },
  {
   "cell_type": "code",
   "execution_count": 3,
   "id": "152279a1",
   "metadata": {},
   "outputs": [
    {
     "name": "stdout",
     "output_type": "stream",
     "text": [
      "CONTAINER           IMAGE               CREATED             STATE               NAME                      ATTEMPT             POD ID\n",
      "612d18f433bdd       6e38f40d628db       29 minutes ago      Running             storage-provisioner       0                   f915b870ee6b8\n",
      "65793eecdde34       8d147537fb7d1       29 minutes ago      Running             coredns                   0                   ed853a4bf5d00\n",
      "72c6ee947db8d       873127efbc8a7       29 minutes ago      Running             kube-proxy                0                   cfa9996f98c4c\n",
      "b3473922bbe4c       5425bcbd23c54       29 minutes ago      Running             kube-controller-manager   0                   b2787fd720749\n",
      "fc75fd7aba150       0048118155842       29 minutes ago      Running             etcd                      0                   286180e64eaa5\n",
      "3cab011b29341       b51ddc1014b04       29 minutes ago      Running             kube-scheduler            0                   fd8093a82c02b\n",
      "c305e0932e5a9       e64579b7d8862       29 minutes ago      Running             kube-apiserver            0                   654ee9f653054\n"
     ]
    }
   ],
   "source": [
    "crictl ps"
   ]
  },
  {
   "cell_type": "code",
   "execution_count": 5,
   "id": "eef0573d-a628-4411-a20c-d4e437740309",
   "metadata": {},
   "outputs": [
    {
     "name": "stdout",
     "output_type": "stream",
     "text": [
      "deployment.apps/nginx created\n"
     ]
    }
   ],
   "source": [
    "kubectl create deployment nginx --image=nginx"
   ]
  },
  {
   "cell_type": "code",
   "execution_count": 7,
   "id": "403c0864-6985-4e38-9bc3-2417eac4206d",
   "metadata": {},
   "outputs": [
    {
     "name": "stdout",
     "output_type": "stream",
     "text": [
      "NAME                         READY   STATUS    RESTARTS   AGE\n",
      "pod/nginx-6799fc88d8-nzbj2   1/1     Running   0          21s\n",
      "\n",
      "NAME                 TYPE        CLUSTER-IP   EXTERNAL-IP   PORT(S)   AGE\n",
      "service/kubernetes   ClusterIP   10.96.0.1    <none>        443/TCP   32m\n",
      "\n",
      "NAME                    READY   UP-TO-DATE   AVAILABLE   AGE\n",
      "deployment.apps/nginx   1/1     1            1           21s\n",
      "\n",
      "NAME                               DESIRED   CURRENT   READY   AGE\n",
      "replicaset.apps/nginx-6799fc88d8   1         1         1       21s\n"
     ]
    }
   ],
   "source": [
    "kubectl get all"
   ]
  },
  {
   "cell_type": "code",
   "execution_count": 11,
   "id": "b94b3c7f",
   "metadata": {},
   "outputs": [],
   "source": [
    "POD=k8s_nginx_nginx-6799fc88d8-nzbj2_default_2c126dba-6a37-46be-b550-d0e0d8a30bf9_0"
   ]
  },
  {
   "cell_type": "code",
   "execution_count": 12,
   "id": "71347b3c",
   "metadata": {},
   "outputs": [
    {
     "name": "stdout",
     "output_type": "stream",
     "text": [
      "Enter\n",
      "nsenter -t 11165 -n bash\n",
      "in a terminal\n"
     ]
    }
   ],
   "source": [
    "STATE_PID=$(docker inspect --format '{{.State.Pid}}' $POD)\n",
    "echo Enter\n",
    "echo nsenter -t $STATE_PID -n bash\n",
    "echo in a terminal  "
   ]
  },
  {
   "cell_type": "code",
   "execution_count": 13,
   "id": "8fc8e4f1",
   "metadata": {},
   "outputs": [
    {
     "name": "stdout",
     "output_type": "stream",
     "text": [
      "\n",
      "Usage:\n",
      " nsenter [options] [<program> [<argument>...]]\n",
      "\n",
      "Run a program with namespaces of other processes.\n",
      "\n",
      "Options:\n",
      " -a, --all              enter all namespaces\n",
      " -t, --target <pid>     target process to get namespaces from\n",
      " -m, --mount[=<file>]   enter mount namespace\n",
      " -u, --uts[=<file>]     enter UTS namespace (hostname etc)\n",
      " -i, --ipc[=<file>]     enter System V IPC namespace\n",
      " -n, --net[=<file>]     enter network namespace\n",
      " -p, --pid[=<file>]     enter pid namespace\n",
      " -C, --cgroup[=<file>]  enter cgroup namespace\n",
      " -U, --user[=<file>]    enter user namespace\n",
      " -S, --setuid <uid>     set uid in entered namespace\n",
      " -G, --setgid <gid>     set gid in entered namespace\n",
      "     --preserve-credentials do not touch uids or gids\n",
      " -r, --root[=<dir>]     set the root directory\n",
      " -w, --wd[=<dir>]       set the working directory\n",
      " -F, --no-fork          do not fork before exec'ing <program>\n",
      " -Z, --follow-context   set SELinux context according to --target PID\n",
      "\n",
      " -h, --help             display this help\n",
      " -V, --version          display version\n",
      "\n",
      "For more details see nsenter(1).\n"
     ]
    }
   ],
   "source": [
    "nsenter --help"
   ]
  },
  {
   "cell_type": "code",
   "execution_count": 14,
   "id": "26a6948e",
   "metadata": {},
   "outputs": [
    {
     "name": "stdout",
     "output_type": "stream",
     "text": [
      "1: lo: <LOOPBACK,UP,LOWER_UP> mtu 65536 qdisc noqueue state UNKNOWN group default qlen 1000\n",
      "    link/loopback 00:00:00:00:00:00 brd 00:00:00:00:00:00\n",
      "    inet 127.0.0.1/8 scope host lo\n",
      "       valid_lft forever preferred_lft forever\n",
      "5: eth0@if6: <BROADCAST,MULTICAST,UP,LOWER_UP> mtu 1500 qdisc noqueue state UP group default \n",
      "    link/ether 02:42:ac:11:00:03 brd ff:ff:ff:ff:ff:ff link-netnsid 0\n",
      "    inet 172.17.0.3/16 brd 172.17.255.255 scope global eth0\n",
      "       valid_lft forever preferred_lft forever\n"
     ]
    }
   ],
   "source": [
    "nsenter -t $STATE_PID -n ip a"
   ]
  },
  {
   "cell_type": "code",
   "execution_count": 15,
   "id": "274aad3c",
   "metadata": {},
   "outputs": [
    {
     "name": "stdout",
     "output_type": "stream",
     "text": [
      "1: lo: <LOOPBACK,UP,LOWER_UP> mtu 65536 qdisc noqueue state UNKNOWN group default qlen 1000\n",
      "    link/loopback 00:00:00:00:00:00 brd 00:00:00:00:00:00\n",
      "    inet 127.0.0.1/8 scope host lo\n",
      "       valid_lft forever preferred_lft forever\n",
      "2: docker0: <BROADCAST,MULTICAST,UP,LOWER_UP> mtu 1500 qdisc noqueue state UP group default \n",
      "    link/ether 02:42:88:4a:25:70 brd ff:ff:ff:ff:ff:ff\n",
      "    inet 172.17.0.1/16 brd 172.17.255.255 scope global docker0\n",
      "       valid_lft forever preferred_lft forever\n",
      "4: vetha322d0f@if3: <BROADCAST,MULTICAST,UP,LOWER_UP> mtu 1500 qdisc noqueue master docker0 state UP group default \n",
      "    link/ether 12:a2:0c:e3:69:21 brd ff:ff:ff:ff:ff:ff link-netnsid 1\n",
      "6: veth2027c2e@if5: <BROADCAST,MULTICAST,UP,LOWER_UP> mtu 1500 qdisc noqueue master docker0 state UP group default \n",
      "    link/ether 8e:f1:eb:30:c1:ce brd ff:ff:ff:ff:ff:ff link-netnsid 2\n",
      "24: eth0@if25: <BROADCAST,MULTICAST,UP,LOWER_UP> mtu 1500 qdisc noqueue state UP group default \n",
      "    link/ether 02:42:c0:a8:31:02 brd ff:ff:ff:ff:ff:ff link-netnsid 0\n",
      "    inet 192.168.49.2/24 brd 192.168.49.255 scope global eth0\n",
      "       valid_lft forever preferred_lft forever\n"
     ]
    }
   ],
   "source": [
    "ip a"
   ]
  },
  {
   "cell_type": "markdown",
   "id": "a24b6735",
   "metadata": {},
   "source": [
    " # Danger!\n",
    " \n",
    " OpenVpn works and could be used as backdoor"
   ]
  },
  {
   "cell_type": "code",
   "execution_count": 16,
   "id": "ca9c6770",
   "metadata": {},
   "outputs": [
    {
     "name": "stdout",
     "output_type": "stream",
     "text": [
      "nginx-6799fc88d8-nzbj2\n"
     ]
    }
   ],
   "source": [
    "nsenter -t $STATE_PID -a hostname"
   ]
  },
  {
   "cell_type": "code",
   "execution_count": 17,
   "id": "6302b06c",
   "metadata": {},
   "outputs": [
    {
     "name": "stdout",
     "output_type": "stream",
     "text": [
      "nsenter: failed to execute ip: No such file or directory\n"
     ]
    },
    {
     "ename": "",
     "evalue": "127",
     "output_type": "error",
     "traceback": []
    }
   ],
   "source": [
    "nsenter -t $STATE_PID -a ip a"
   ]
  },
  {
   "cell_type": "code",
   "execution_count": 18,
   "id": "5c33c5e7",
   "metadata": {},
   "outputs": [
    {
     "name": "stdout",
     "output_type": "stream",
     "text": [
      "default via 172.17.0.1 dev eth0 \n",
      "172.17.0.0/16 dev eth0 proto kernel scope link src 172.17.0.3 \n"
     ]
    }
   ],
   "source": [
    "nsenter -t $STATE_PID -n ip route"
   ]
  },
  {
   "cell_type": "code",
   "execution_count": 19,
   "id": "1fd324b0",
   "metadata": {},
   "outputs": [
    {
     "name": "stdout",
     "output_type": "stream",
     "text": [
      "default via 192.168.49.1 dev eth0 \n",
      "172.17.0.0/16 dev docker0 proto kernel scope link src 172.17.0.1 \n",
      "192.168.49.0/24 dev eth0 proto kernel scope link src 192.168.49.2 \n"
     ]
    }
   ],
   "source": [
    "ip route"
   ]
  },
  {
   "cell_type": "code",
   "execution_count": 20,
   "id": "4cf72f2c",
   "metadata": {},
   "outputs": [
    {
     "name": "stdout",
     "output_type": "stream",
     "text": [
      "bin   docker-entrypoint.d   home   media  proc\tsbin  tmp\n",
      "boot  docker-entrypoint.sh  lib    mnt\t  root\tsrv   usr\n",
      "dev   etc\t\t    lib64  opt\t  run\tsys   var\n"
     ]
    }
   ],
   "source": [
    "nsenter -t $STATE_PID -a ls"
   ]
  },
  {
   "cell_type": "code",
   "execution_count": 21,
   "id": "b8e6704d",
   "metadata": {},
   "outputs": [
    {
     "name": "stdout",
     "output_type": "stream",
     "text": [
      " AccountWithRBAC.ipynb       OpenPolicyAgent.ipynb\n",
      " AuditLogs.ipynb             OpenShift\n",
      " ClusterOverview.ipynb       Overview.ipynb\n",
      " ContainerdCloudbomb.ipynb   PodSecurityPolicyBasic.ipynb\n",
      " CouchDB.ipynb               PodSecurityPolicyPermissive.ipynb\n",
      " CrioBomb.ipynb              PodSecurityPolicyStrict.ipynb\n",
      " Harbor.ipynb               'Postgres Zalando.ipynb'\n",
      " Helm.ipynb                  README.md\n",
      " Ingress.ipynb               ServiceAccountToken.ipynb\n",
      " IngressKong.ipynb           Unprivileged.ipynb\n",
      " IngressKongStart.ipynb      Untitled.ipynb\n",
      " IngressStart.ipynb          default-rbac.png\n",
      " Istio-Traffic-Mgmt.ipynb    defaut-rbac.dot\n",
      " Istio1.8.2.ipynb            docker-hypervisor.png\n",
      " IstioHack.ipynb             kube-bench.ipynb\n",
      " Kube-Scan-Cloudbomb.ipynb   minikube.dot\n",
      " KubernetesBasics.ipynb      minikube.png\n",
      " License.ipynb               my-namespace-rbac.dot\n",
      "'Linux Namespaces.ipynb'     my-namespace-rbac.png\n",
      " Makefile                    namespaces.dot\n",
      " NetworkPolicy.ipynb         namespaces.png\n"
     ]
    }
   ],
   "source": [
    "ls"
   ]
  },
  {
   "cell_type": "code",
   "execution_count": 22,
   "id": "113a7457",
   "metadata": {},
   "outputs": [
    {
     "name": "stdout",
     "output_type": "stream",
     "text": [
      "nsenter: failed to execute ps: No such file or directory\n"
     ]
    },
    {
     "ename": "",
     "evalue": "127",
     "output_type": "error",
     "traceback": []
    }
   ],
   "source": [
    "nsenter -t $STATE_PID -a ps auxwww"
   ]
  },
  {
   "cell_type": "code",
   "execution_count": 23,
   "id": "c888b6a3",
   "metadata": {},
   "outputs": [
    {
     "name": "stdout",
     "output_type": "stream",
     "text": [
      "USER         PID %CPU %MEM    VSZ   RSS TTY      STAT START   TIME COMMAND\n",
      "root           1  0.0  0.0  22332 11620 ?        Ss   09:04   0:01 /sbin/init\n",
      "root         176  0.0  0.0  27052 10808 ?        S<s  09:04   0:00 /lib/systemd/systemd-journald\n",
      "message+     188  0.0  0.0   7020  3680 ?        Ss   09:04   0:00 /usr/bin/dbus-daemon --system --address=systemd: --nofork --nopidfile --systemd-activation --syslog-only\n",
      "root         192  0.1  0.2 1640740 46768 ?       Ssl  09:04   0:02 /usr/bin/containerd\n",
      "root         197  0.0  0.0  12184  7448 ?        Ss   09:04   0:00 sshd: /usr/sbin/sshd -D [listener] 0 of 10-100 startups\n",
      "root         221  0.4  0.5 341128 82440 ?        Ssl  09:04   0:09 /usr/bin/python3 /usr/local/bin/jupyter-lab --ip 192.168.49.2 --allow-root --log-level=INFO\n",
      "root         465  1.8  0.6 1974280 96784 ?       Ssl  09:04   0:41 /usr/bin/dockerd -H tcp://0.0.0.0:2376 -H unix:///var/run/docker.sock --default-ulimit=nofile=1048576:1048576 --tlsverify --tlscacert /etc/docker/ca.pem --tlscert /etc/docker/server.pem --tlskey /etc/docker/server-key.pem --label provider=docker --insecure-registry 10.96.0.0/12\n",
      "root        1493  0.0  0.0 711448  8184 ?        Sl   09:04   0:00 /usr/bin/containerd-shim-runc-v2 -namespace moby -id 654ee9f653054cf76cad6f9f755047a560e00615fe482a3bef5d3447497591fb -address /run/containerd/containerd.sock\n",
      "root        1510  0.0  0.0 712600  7320 ?        Sl   09:04   0:00 /usr/bin/containerd-shim-runc-v2 -namespace moby -id 286180e64eaa51c20457e28a0bd2eafa055d9830f155e80db583ff4ec3b50dea -address /run/containerd/containerd.sock\n",
      "root        1539  0.0  0.0 712856  8064 ?        Sl   09:04   0:00 /usr/bin/containerd-shim-runc-v2 -namespace moby -id fd8093a82c02b1cbc98d9968f3b50b34cc9c528dd7749df324822ff6355091ad -address /run/containerd/containerd.sock\n",
      "root        1556  0.0  0.0 712600  8028 ?        Sl   09:04   0:00 /usr/bin/containerd-shim-runc-v2 -namespace moby -id b2787fd7207493debdb3763b937927052a6c66cdd810db396db01699eb248565 -address /run/containerd/containerd.sock\n",
      "65535       1595  0.0  0.0    972     4 ?        Ss   09:04   0:00 /pause\n",
      "65535       1603  0.0  0.0    972     4 ?        Ss   09:04   0:00 /pause\n",
      "65535       1604  0.0  0.0    972     4 ?        Ss   09:04   0:00 /pause\n",
      "65535       1617  0.0  0.0    972     4 ?        Ss   09:04   0:00 /pause\n",
      "root        1675  0.0  0.0 711448  9388 ?        Sl   09:04   0:00 /usr/bin/containerd-shim-runc-v2 -namespace moby -id c305e0932e5a9fbe46036407b5606db4d198c2a10c227b78741886659a3cd5bf -address /run/containerd/containerd.sock\n",
      "root        1705  0.0  0.0 711448  9208 ?        Sl   09:04   0:00 /usr/bin/containerd-shim-runc-v2 -namespace moby -id fc75fd7aba1502c9e85869576de5a5ef91012930abf0b9d06c1490abde327d17 -address /run/containerd/containerd.sock\n",
      "root        1709  0.0  0.0 712856  8140 ?        Sl   09:04   0:00 /usr/bin/containerd-shim-runc-v2 -namespace moby -id 3cab011b29341ff4b76a811b4ed55770ed152f35af8edcda909fd8ddca2c8180 -address /run/containerd/containerd.sock\n",
      "root        1726  0.0  0.0 713112  8120 ?        Sl   09:04   0:00 /usr/bin/containerd-shim-runc-v2 -namespace moby -id b3473922bbe4ccfd3bbc875303bf4db245ac7312c4819941e0469aaab823112c -address /run/containerd/containerd.sock\n",
      "root        1762 10.2  1.8 1104964 298604 ?      Ssl  09:04   3:46 kube-apiserver --advertise-address=192.168.49.2 --allow-privileged=true --authorization-mode=Node,RBAC --client-ca-file=/var/lib/minikube/certs/ca.crt --enable-admission-plugins=NamespaceLifecycle,LimitRanger,ServiceAccount,DefaultStorageClass,DefaultTolerationSeconds,NodeRestriction,MutatingAdmissionWebhook,ValidatingAdmissionWebhook,ResourceQuota --enable-bootstrap-token-auth=true --etcd-cafile=/var/lib/minikube/certs/etcd/ca.crt --etcd-certfile=/var/lib/minikube/certs/apiserver-etcd-client.crt --etcd-keyfile=/var/lib/minikube/certs/apiserver-etcd-client.key --etcd-servers=https://127.0.0.1:2379 --kubelet-client-certificate=/var/lib/minikube/certs/apiserver-kubelet-client.crt --kubelet-client-key=/var/lib/minikube/certs/apiserver-kubelet-client.key --kubelet-preferred-address-types=InternalIP,ExternalIP,Hostname --proxy-client-cert-file=/var/lib/minikube/certs/front-proxy-client.crt --proxy-client-key-file=/var/lib/minikube/certs/front-proxy-client.key --requestheader-allowed-names=front-proxy-client --requestheader-client-ca-file=/var/lib/minikube/certs/front-proxy-ca.crt --requestheader-extra-headers-prefix=X-Remote-Extra- --requestheader-group-headers=X-Remote-Group --requestheader-username-headers=X-Remote-User --secure-port=8443 --service-account-issuer=https://kubernetes.default.svc.cluster.local --service-account-key-file=/var/lib/minikube/certs/sa.pub --service-account-signing-key-file=/var/lib/minikube/certs/sa.key --service-cluster-ip-range=10.96.0.0/12 --tls-cert-file=/var/lib/minikube/certs/apiserver.crt --tls-private-key-file=/var/lib/minikube/certs/apiserver.key\n",
      "root        1796  0.5  0.3 754028 50872 ?        Ssl  09:04   0:11 kube-scheduler --authentication-kubeconfig=/etc/kubernetes/scheduler.conf --authorization-kubeconfig=/etc/kubernetes/scheduler.conf --bind-address=127.0.0.1 --kubeconfig=/etc/kubernetes/scheduler.conf --leader-elect=false --port=0\n",
      "root        1821  3.0  0.6 822272 105184 ?       Ssl  09:04   1:07 kube-controller-manager --allocate-node-cidrs=true --authentication-kubeconfig=/etc/kubernetes/controller-manager.conf --authorization-kubeconfig=/etc/kubernetes/controller-manager.conf --bind-address=127.0.0.1 --client-ca-file=/var/lib/minikube/certs/ca.crt --cluster-cidr=10.244.0.0/16 --cluster-name=mk --cluster-signing-cert-file=/var/lib/minikube/certs/ca.crt --cluster-signing-key-file=/var/lib/minikube/certs/ca.key --controllers=*,bootstrapsigner,tokencleaner --kubeconfig=/etc/kubernetes/controller-manager.conf --leader-elect=false --port=0 --requestheader-client-ca-file=/var/lib/minikube/certs/front-proxy-ca.crt --root-ca-file=/var/lib/minikube/certs/ca.crt --service-account-private-key-file=/var/lib/minikube/certs/sa.key --service-cluster-ip-range=10.96.0.0/12 --use-service-account-credentials=true\n",
      "root        1830  3.0  0.3 11214780 53352 ?      Ssl  09:04   1:06 etcd --advertise-client-urls=https://192.168.49.2:2379 --cert-file=/var/lib/minikube/certs/etcd/server.crt --client-cert-auth=true --data-dir=/var/lib/minikube/etcd --initial-advertise-peer-urls=https://192.168.49.2:2380 --initial-cluster=minikube=https://192.168.49.2:2380 --key-file=/var/lib/minikube/certs/etcd/server.key --listen-client-urls=https://127.0.0.1:2379,https://192.168.49.2:2379 --listen-metrics-urls=http://127.0.0.1:2381 --listen-peer-urls=https://192.168.49.2:2380 --name=minikube --peer-cert-file=/var/lib/minikube/certs/etcd/peer.crt --peer-client-cert-auth=true --peer-key-file=/var/lib/minikube/certs/etcd/peer.key --peer-trusted-ca-file=/var/lib/minikube/certs/etcd/ca.crt --proxy-refresh-interval=70000 --snapshot-count=10000 --trusted-ca-file=/var/lib/minikube/certs/etcd/ca.crt\n",
      "root        2196  6.6  0.9 1965332 151428 ?      Ssl  09:04   2:26 /var/lib/minikube/binaries/v1.22.2/kubelet --bootstrap-kubeconfig=/etc/kubernetes/bootstrap-kubelet.conf --config=/var/lib/kubelet/config.yaml --container-runtime=docker --hostname-override=minikube --kubeconfig=/etc/kubernetes/kubelet.conf --node-ip=192.168.49.2\n",
      "root        2606  0.0  0.0 713112  7868 ?        Sl   09:04   0:00 /usr/bin/containerd-shim-runc-v2 -namespace moby -id cfa9996f98c4ccebcf4beab235a3376a09d547cc9262ece58530cb294523a7b8 -address /run/containerd/containerd.sock\n",
      "65535       2626  0.0  0.0    972     4 ?        Ss   09:04   0:00 /pause\n",
      "root        2656  0.0  0.0 712856  8648 ?        Sl   09:04   0:00 /usr/bin/containerd-shim-runc-v2 -namespace moby -id ed853a4bf5d003907174d9210ad98630abff00bd9490cbf80b6aed79d0dcb643 -address /run/containerd/containerd.sock\n",
      "65535       2676  0.0  0.0    972     4 ?        Ss   09:04   0:00 /pause\n",
      "root        2691  0.0  0.0 711192  8116 ?        Sl   09:04   0:00 /usr/bin/containerd-shim-runc-v2 -namespace moby -id 72c6ee947db8d2a0a9601838fa8771ca1955fcf8d7a6e02b94ec2d6e98312e37 -address /run/containerd/containerd.sock\n",
      "root        2719  0.0  0.2 747964 39340 ?        Ssl  09:04   0:01 /usr/local/bin/kube-proxy --config=/var/lib/kube-proxy/config.conf --hostname-override=minikube\n",
      "root        2844  0.0  0.0 711448  8780 ?        Sl   09:04   0:00 /usr/bin/containerd-shim-runc-v2 -namespace moby -id 65793eecdde343617b7316a464d9720785e42b068cac78fc7821bad1999762a1 -address /run/containerd/containerd.sock\n",
      "root        2865  0.0  0.0 712856  8020 ?        Sl   09:04   0:00 /usr/bin/containerd-shim-runc-v2 -namespace moby -id f915b870ee6b8980f8bc99a1b336e9d9a98492dc2c620397c357394998b14ce0 -address /run/containerd/containerd.sock\n",
      "root        2904  0.3  0.2 751760 44256 ?        Ssl  09:04   0:07 /coredns -conf /etc/coredns/Corefile\n",
      "65535       2914  0.0  0.0    972     4 ?        Ss   09:04   0:00 /pause\n",
      "root        2954  0.0  0.0 711448  8844 ?        Sl   09:04   0:00 /usr/bin/containerd-shim-runc-v2 -namespace moby -id 612d18f433bdd3e8193bd7d623c3642e0585a3bd942b70aa3687cdca41a5ddfa -address /run/containerd/containerd.sock\n",
      "root        2975  0.3  0.1 735984 28732 ?        Ssl  09:04   0:07 /storage-provisioner\n",
      "root        3400  0.0  0.3 698028 55920 ?        Ssl  09:06   0:00 /usr/bin/python3 -m bash_kernel -f /root/.local/share/jupyter/runtime/kernel-893d2551-d4e9-4f21-a875-dea653b666bb.json\n",
      "root        3414  0.0  0.0   6004  3716 pts/1    Ss+  09:06   0:00 /usr/bin/bash --rcfile /usr/local/lib/python3.8/dist-packages/pexpect/bashrc.sh\n",
      "root        8976  0.1  0.3 698020 55972 ?        Ssl  09:30   0:01 /usr/bin/python3 -m bash_kernel -f /root/.local/share/jupyter/runtime/kernel-5af9fa16-8b5f-474d-a098-6173fda18f0c.json\n",
      "root        8988  0.0  0.0   6000  3856 pts/2    Ss+  09:30   0:00 /usr/bin/bash --rcfile /usr/local/lib/python3.8/dist-packages/pexpect/bashrc.sh\n",
      "root        9048  0.0  0.0  16484  6296 ?        Ss   09:30   0:00 /lib/systemd/systemd-logind\n",
      "root        9858  0.0  0.3 698020 55680 ?        Ssl  09:31   0:00 /usr/bin/python3 -m bash_kernel -f /root/.local/share/jupyter/runtime/kernel-721d6780-980d-40e7-9ee6-704b03c965ee.json\n",
      "root        9871  0.0  0.0   6004  3644 pts/3    Ss+  09:31   0:00 /usr/bin/bash --rcfile /usr/local/lib/python3.8/dist-packages/pexpect/bashrc.sh\n",
      "root       10215  0.2  0.3 698012 55940 ?        Rsl  09:33   0:00 /usr/bin/python3 -m bash_kernel -f /root/.local/share/jupyter/runtime/kernel-f821a137-4e9b-4b45-96ce-615696e31de3.json\n",
      "root       10227  0.0  0.0   6004  3876 pts/4    Ss   09:33   0:00 /usr/bin/bash --rcfile /usr/local/lib/python3.8/dist-packages/pexpect/bashrc.sh\n",
      "root       10933  0.0  0.0 713112  7992 ?        Sl   09:36   0:00 /usr/bin/containerd-shim-runc-v2 -namespace moby -id afd2530f876ded3a803d700dd2cfa07beed425f70d8d5dac81f40bbe2b0d871d -address /run/containerd/containerd.sock\n",
      "65535      10953  0.0  0.0    972     4 ?        Ss   09:36   0:00 /pause\n",
      "root       11142  0.0  0.0 712600  9268 ?        Sl   09:36   0:00 /usr/bin/containerd-shim-runc-v2 -namespace moby -id ea714724541c0e86d1de0a178e7173f34c95ac6ed8a5a66d2591970d5c3c7ec3 -address /run/containerd/containerd.sock\n",
      "root       11165  0.0  0.0   8692  6184 ?        Ss   09:36   0:00 nginx: master process nginx -g daemon off;\n",
      "_rpc       11203  0.0  0.0   9096  2448 ?        S    09:36   0:00 nginx: worker process\n",
      "_rpc       11204  0.0  0.0   9096  2448 ?        S    09:36   0:00 nginx: worker process\n",
      "_rpc       11205  0.0  0.0   9096  2448 ?        S    09:36   0:00 nginx: worker process\n",
      "_rpc       11206  0.0  0.0   9096  2448 ?        S    09:36   0:00 nginx: worker process\n",
      "root       12285  0.0  0.0   7656  3220 pts/4    R+   09:41   0:00 ps auxww\n"
     ]
    }
   ],
   "source": [
    "ps auxww"
   ]
  },
  {
   "cell_type": "code",
   "execution_count": 24,
   "id": "bfeac698",
   "metadata": {},
   "outputs": [
    {
     "name": "stdout",
     "output_type": "stream",
     "text": [
      "USER         PID %CPU %MEM    VSZ   RSS TTY      STAT START   TIME COMMAND\n",
      "root           1  0.0  0.0  22332 11620 ?        Ss   09:04   0:01 /sbin/init\n",
      "root         176  0.0  0.0  27052 10808 ?        S<s  09:04   0:00 /lib/systemd/systemd-journald\n",
      "message+     188  0.0  0.0   7020  3680 ?        Ss   09:04   0:00 /usr/bin/dbus-daemon --system --address=systemd: --nofork --nopidfile --systemd-activation --syslog-only\n",
      "root         192  0.1  0.2 1640740 46768 ?       Ssl  09:04   0:02 /usr/bin/containerd\n",
      "root         197  0.0  0.0  12184  7448 ?        Ss   09:04   0:00 sshd: /usr/sbin/sshd -D [listener] 0 of 10-100 startups\n",
      "root         221  0.4  0.5 341448 82732 ?        Ssl  09:04   0:10 /usr/bin/python3 /usr/local/bin/jupyter-lab --ip 192.168.49.2 --allow-root --log-level=INFO\n",
      "root         465  1.8  0.6 1974280 96784 ?       Ssl  09:04   0:41 /usr/bin/dockerd -H tcp://0.0.0.0:2376 -H unix:///var/run/docker.sock --default-ulimit=nofile=1048576:1048576 --tlsverify --tlscacert /etc/docker/ca.pem --tlscert /etc/docker/server.pem --tlskey /etc/docker/server-key.pem --label provider=docker --insecure-registry 10.96.0.0/12\n",
      "root        1493  0.0  0.0 711448  8188 ?        Sl   09:04   0:00 /usr/bin/containerd-shim-runc-v2 -namespace moby -id 654ee9f653054cf76cad6f9f755047a560e00615fe482a3bef5d3447497591fb -address /run/containerd/containerd.sock\n",
      "root        1510  0.0  0.0 712600  7288 ?        Sl   09:04   0:00 /usr/bin/containerd-shim-runc-v2 -namespace moby -id 286180e64eaa51c20457e28a0bd2eafa055d9830f155e80db583ff4ec3b50dea -address /run/containerd/containerd.sock\n",
      "root        1539  0.0  0.0 712856  8064 ?        Sl   09:04   0:00 /usr/bin/containerd-shim-runc-v2 -namespace moby -id fd8093a82c02b1cbc98d9968f3b50b34cc9c528dd7749df324822ff6355091ad -address /run/containerd/containerd.sock\n",
      "root        1556  0.0  0.0 712600  7996 ?        Sl   09:04   0:00 /usr/bin/containerd-shim-runc-v2 -namespace moby -id b2787fd7207493debdb3763b937927052a6c66cdd810db396db01699eb248565 -address /run/containerd/containerd.sock\n",
      "65535       1595  0.0  0.0    972     4 ?        Ss   09:04   0:00 /pause\n",
      "65535       1603  0.0  0.0    972     4 ?        Ss   09:04   0:00 /pause\n",
      "65535       1604  0.0  0.0    972     4 ?        Ss   09:04   0:00 /pause\n",
      "65535       1617  0.0  0.0    972     4 ?        Ss   09:04   0:00 /pause\n",
      "root        1675  0.0  0.0 711448  9356 ?        Sl   09:04   0:00 /usr/bin/containerd-shim-runc-v2 -namespace moby -id c305e0932e5a9fbe46036407b5606db4d198c2a10c227b78741886659a3cd5bf -address /run/containerd/containerd.sock\n",
      "root        1705  0.0  0.0 711448  9208 ?        Sl   09:04   0:00 /usr/bin/containerd-shim-runc-v2 -namespace moby -id fc75fd7aba1502c9e85869576de5a5ef91012930abf0b9d06c1490abde327d17 -address /run/containerd/containerd.sock\n",
      "root        1709  0.0  0.0 712856  8108 ?        Sl   09:04   0:00 /usr/bin/containerd-shim-runc-v2 -namespace moby -id 3cab011b29341ff4b76a811b4ed55770ed152f35af8edcda909fd8ddca2c8180 -address /run/containerd/containerd.sock\n",
      "root        1726  0.0  0.0 713112  8152 ?        Sl   09:04   0:00 /usr/bin/containerd-shim-runc-v2 -namespace moby -id b3473922bbe4ccfd3bbc875303bf4db245ac7312c4819941e0469aaab823112c -address /run/containerd/containerd.sock\n",
      "root        1762 10.2  1.8 1104964 298604 ?      Ssl  09:04   3:48 kube-apiserver --advertise-address=192.168.49.2 --allow-privileged=true --authorization-mode=Node,RBAC --client-ca-file=/var/lib/minikube/certs/ca.crt --enable-admission-plugins=NamespaceLifecycle,LimitRanger,ServiceAccount,DefaultStorageClass,DefaultTolerationSeconds,NodeRestriction,MutatingAdmissionWebhook,ValidatingAdmissionWebhook,ResourceQuota --enable-bootstrap-token-auth=true --etcd-cafile=/var/lib/minikube/certs/etcd/ca.crt --etcd-certfile=/var/lib/minikube/certs/apiserver-etcd-client.crt --etcd-keyfile=/var/lib/minikube/certs/apiserver-etcd-client.key --etcd-servers=https://127.0.0.1:2379 --kubelet-client-certificate=/var/lib/minikube/certs/apiserver-kubelet-client.crt --kubelet-client-key=/var/lib/minikube/certs/apiserver-kubelet-client.key --kubelet-preferred-address-types=InternalIP,ExternalIP,Hostname --proxy-client-cert-file=/var/lib/minikube/certs/front-proxy-client.crt --proxy-client-key-file=/var/lib/minikube/certs/front-proxy-client.key --requestheader-allowed-names=front-proxy-client --requestheader-client-ca-file=/var/lib/minikube/certs/front-proxy-ca.crt --requestheader-extra-headers-prefix=X-Remote-Extra- --requestheader-group-headers=X-Remote-Group --requestheader-username-headers=X-Remote-User --secure-port=8443 --service-account-issuer=https://kubernetes.default.svc.cluster.local --service-account-key-file=/var/lib/minikube/certs/sa.pub --service-account-signing-key-file=/var/lib/minikube/certs/sa.key --service-cluster-ip-range=10.96.0.0/12 --tls-cert-file=/var/lib/minikube/certs/apiserver.crt --tls-private-key-file=/var/lib/minikube/certs/apiserver.key\n",
      "root        1796  0.5  0.3 754028 50872 ?        Ssl  09:04   0:11 kube-scheduler --authentication-kubeconfig=/etc/kubernetes/scheduler.conf --authorization-kubeconfig=/etc/kubernetes/scheduler.conf --bind-address=127.0.0.1 --kubeconfig=/etc/kubernetes/scheduler.conf --leader-elect=false --port=0\n",
      "root        1821  3.0  0.6 822272 105184 ?       Ssl  09:04   1:07 kube-controller-manager --allocate-node-cidrs=true --authentication-kubeconfig=/etc/kubernetes/controller-manager.conf --authorization-kubeconfig=/etc/kubernetes/controller-manager.conf --bind-address=127.0.0.1 --client-ca-file=/var/lib/minikube/certs/ca.crt --cluster-cidr=10.244.0.0/16 --cluster-name=mk --cluster-signing-cert-file=/var/lib/minikube/certs/ca.crt --cluster-signing-key-file=/var/lib/minikube/certs/ca.key --controllers=*,bootstrapsigner,tokencleaner --kubeconfig=/etc/kubernetes/controller-manager.conf --leader-elect=false --port=0 --requestheader-client-ca-file=/var/lib/minikube/certs/front-proxy-ca.crt --root-ca-file=/var/lib/minikube/certs/ca.crt --service-account-private-key-file=/var/lib/minikube/certs/sa.key --service-cluster-ip-range=10.96.0.0/12 --use-service-account-credentials=true\n",
      "root        1830  2.9  0.3 11214780 53352 ?      Ssl  09:04   1:06 etcd --advertise-client-urls=https://192.168.49.2:2379 --cert-file=/var/lib/minikube/certs/etcd/server.crt --client-cert-auth=true --data-dir=/var/lib/minikube/etcd --initial-advertise-peer-urls=https://192.168.49.2:2380 --initial-cluster=minikube=https://192.168.49.2:2380 --key-file=/var/lib/minikube/certs/etcd/server.key --listen-client-urls=https://127.0.0.1:2379,https://192.168.49.2:2379 --listen-metrics-urls=http://127.0.0.1:2381 --listen-peer-urls=https://192.168.49.2:2380 --name=minikube --peer-cert-file=/var/lib/minikube/certs/etcd/peer.crt --peer-client-cert-auth=true --peer-key-file=/var/lib/minikube/certs/etcd/peer.key --peer-trusted-ca-file=/var/lib/minikube/certs/etcd/ca.crt --proxy-refresh-interval=70000 --snapshot-count=10000 --trusted-ca-file=/var/lib/minikube/certs/etcd/ca.crt\n",
      "root        2196  6.6  0.9 1965332 151684 ?      Ssl  09:04   2:28 /var/lib/minikube/binaries/v1.22.2/kubelet --bootstrap-kubeconfig=/etc/kubernetes/bootstrap-kubelet.conf --config=/var/lib/kubelet/config.yaml --container-runtime=docker --hostname-override=minikube --kubeconfig=/etc/kubernetes/kubelet.conf --node-ip=192.168.49.2\n",
      "root        2606  0.0  0.0 713112  7868 ?        Sl   09:04   0:00 /usr/bin/containerd-shim-runc-v2 -namespace moby -id cfa9996f98c4ccebcf4beab235a3376a09d547cc9262ece58530cb294523a7b8 -address /run/containerd/containerd.sock\n",
      "65535       2626  0.0  0.0    972     4 ?        Ss   09:04   0:00 /pause\n",
      "root        2656  0.0  0.0 712856  8648 ?        Sl   09:04   0:00 /usr/bin/containerd-shim-runc-v2 -namespace moby -id ed853a4bf5d003907174d9210ad98630abff00bd9490cbf80b6aed79d0dcb643 -address /run/containerd/containerd.sock\n",
      "65535       2676  0.0  0.0    972     4 ?        Ss   09:04   0:00 /pause\n",
      "root        2691  0.0  0.0 711192  8116 ?        Sl   09:04   0:00 /usr/bin/containerd-shim-runc-v2 -namespace moby -id 72c6ee947db8d2a0a9601838fa8771ca1955fcf8d7a6e02b94ec2d6e98312e37 -address /run/containerd/containerd.sock\n",
      "root        2719  0.0  0.2 747964 39340 ?        Ssl  09:04   0:01 /usr/local/bin/kube-proxy --config=/var/lib/kube-proxy/config.conf --hostname-override=minikube\n",
      "root        2844  0.0  0.0 711448  8748 ?        Sl   09:04   0:00 /usr/bin/containerd-shim-runc-v2 -namespace moby -id 65793eecdde343617b7316a464d9720785e42b068cac78fc7821bad1999762a1 -address /run/containerd/containerd.sock\n",
      "root        2865  0.0  0.0 712856  8020 ?        Sl   09:04   0:00 /usr/bin/containerd-shim-runc-v2 -namespace moby -id f915b870ee6b8980f8bc99a1b336e9d9a98492dc2c620397c357394998b14ce0 -address /run/containerd/containerd.sock\n",
      "root        2904  0.3  0.2 751760 44256 ?        Ssl  09:04   0:08 /coredns -conf /etc/coredns/Corefile\n",
      "65535       2914  0.0  0.0    972     4 ?        Ss   09:04   0:00 /pause\n",
      "root        2954  0.0  0.0 711448  8876 ?        Sl   09:04   0:00 /usr/bin/containerd-shim-runc-v2 -namespace moby -id 612d18f433bdd3e8193bd7d623c3642e0585a3bd942b70aa3687cdca41a5ddfa -address /run/containerd/containerd.sock\n",
      "root        2975  0.3  0.1 735984 28732 ?        Ssl  09:04   0:07 /storage-provisioner\n",
      "root        3400  0.0  0.3 698028 55920 ?        Ssl  09:06   0:00 /usr/bin/python3 -m bash_kernel -f /root/.local/share/jupyter/runtime/kernel-893d2551-d4e9-4f21-a875-dea653b666bb.json\n",
      "root        3414  0.0  0.0   6004  3716 pts/1    Ss+  09:06   0:00 /usr/bin/bash --rcfile /usr/local/lib/python3.8/dist-packages/pexpect/bashrc.sh\n",
      "root        8976  0.1  0.3 698020 55972 ?        Ssl  09:30   0:01 /usr/bin/python3 -m bash_kernel -f /root/.local/share/jupyter/runtime/kernel-5af9fa16-8b5f-474d-a098-6173fda18f0c.json\n",
      "root        8988  0.0  0.0   6000  3856 pts/2    Ss+  09:30   0:00 /usr/bin/bash --rcfile /usr/local/lib/python3.8/dist-packages/pexpect/bashrc.sh\n",
      "root        9048  0.0  0.0  16484  6296 ?        Ss   09:30   0:00 /lib/systemd/systemd-logind\n",
      "root        9858  0.0  0.3 698020 55680 ?        Ssl  09:31   0:00 /usr/bin/python3 -m bash_kernel -f /root/.local/share/jupyter/runtime/kernel-721d6780-980d-40e7-9ee6-704b03c965ee.json\n",
      "root        9871  0.0  0.0   6004  3644 pts/3    Ss+  09:31   0:00 /usr/bin/bash --rcfile /usr/local/lib/python3.8/dist-packages/pexpect/bashrc.sh\n",
      "root       10215  0.2  0.3 698012 55940 ?        Rsl  09:33   0:00 /usr/bin/python3 -m bash_kernel -f /root/.local/share/jupyter/runtime/kernel-f821a137-4e9b-4b45-96ce-615696e31de3.json\n",
      "root       10227  0.0  0.0   6004  3880 pts/4    Ss   09:33   0:00 /usr/bin/bash --rcfile /usr/local/lib/python3.8/dist-packages/pexpect/bashrc.sh\n",
      "root       10933  0.0  0.0 713112  7992 ?        Sl   09:36   0:00 /usr/bin/containerd-shim-runc-v2 -namespace moby -id afd2530f876ded3a803d700dd2cfa07beed425f70d8d5dac81f40bbe2b0d871d -address /run/containerd/containerd.sock\n",
      "65535      10953  0.0  0.0    972     4 ?        Ss   09:36   0:00 /pause\n",
      "root       11142  0.0  0.0 712600  9268 ?        Sl   09:36   0:00 /usr/bin/containerd-shim-runc-v2 -namespace moby -id ea714724541c0e86d1de0a178e7173f34c95ac6ed8a5a66d2591970d5c3c7ec3 -address /run/containerd/containerd.sock\n",
      "root       11165  0.0  0.0   8692  6184 ?        Ss   09:36   0:00 nginx: master process nginx -g daemon off;\n",
      "_rpc       11203  0.0  0.0   9096  2448 ?        S    09:36   0:00 nginx: worker process\n",
      "_rpc       11204  0.0  0.0   9096  2448 ?        S    09:36   0:00 nginx: worker process\n",
      "_rpc       11205  0.0  0.0   9096  2448 ?        S    09:36   0:00 nginx: worker process\n",
      "_rpc       11206  0.0  0.0   9096  2448 ?        S    09:36   0:00 nginx: worker process\n",
      "root       12359  0.0  0.0   5188   680 pts/4    S+   09:41   0:00 nsenter -t 11165 -p ps auxwww\n",
      "root       12360  0.0  0.0   7656  3124 pts/4    R+   09:41   0:00 ps auxwww\n"
     ]
    }
   ],
   "source": [
    "nsenter -t $STATE_PID -p ps auxwww"
   ]
  },
  {
   "cell_type": "code",
   "execution_count": null,
   "id": "5a0cda0d-a933-4a95-a2f4-e588eb2a339e",
   "metadata": {},
   "outputs": [],
   "source": []
  }
 ],
 "metadata": {
  "kernelspec": {
   "display_name": "Bash",
   "language": "bash",
   "name": "bash"
  },
  "language_info": {
   "codemirror_mode": "shell",
   "file_extension": ".sh",
   "mimetype": "text/x-sh",
   "name": "bash"
  }
 },
 "nbformat": 4,
 "nbformat_minor": 5
}
