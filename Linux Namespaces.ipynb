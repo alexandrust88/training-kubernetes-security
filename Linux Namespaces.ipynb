{
 "cells": [
  {
   "cell_type": "markdown",
   "metadata": {},
   "source": [
    "**This notebook covered by the following [license](License.ipynb)  This note must not be removed**"
   ]
  },
  {
   "cell_type": "markdown",
   "metadata": {},
   "source": [
    "# Linux namespaces\n",
    "\n",
    "[ ![](namespaces.png) ](https://8gwifi.org/docs/linux-namespace.jsp)"
   ]
  },
  {
   "cell_type": "markdown",
   "metadata": {},
   "source": [
    "![container vs hypervisor](docker-hypervisor.png)"
   ]
  },
  {
   "cell_type": "code",
   "execution_count": 1,
   "metadata": {},
   "outputs": [
    {
     "name": "stdout",
     "output_type": "stream",
     "text": [
      "CONTAINER ID   IMAGE                  COMMAND                  CREATED          STATUS          PORTS     NAMES\n",
      "5da141e6ccb8   nginx                  \"/docker-entrypoint.…\"   32 minutes ago   Up 32 minutes             k8s_my-nginx_my-nginx-5b56ccd65f-s8qwn_default_af41adda-6f71-4e0e-9ed3-2b066c044bf7_0\n",
      "3f53be8b44df   nginx                  \"/docker-entrypoint.…\"   32 minutes ago   Up 32 minutes             k8s_my-nginx_my-nginx-5b56ccd65f-8krqn_default_7a69034a-66a1-49a2-9847-f74202b4a1cb_0\n",
      "49d80ef0b84c   k8s.gcr.io/pause:3.2   \"/pause\"                 32 minutes ago   Up 32 minutes             k8s_POD_my-nginx-5b56ccd65f-8krqn_default_7a69034a-66a1-49a2-9847-f74202b4a1cb_0\n",
      "e66281d22c21   k8s.gcr.io/pause:3.2   \"/pause\"                 32 minutes ago   Up 32 minutes             k8s_POD_my-nginx-5b56ccd65f-s8qwn_default_af41adda-6f71-4e0e-9ed3-2b066c044bf7_0\n",
      "267e2081d55b   85069258b98a           \"/storage-provisioner\"   2 hours ago      Up 2 hours                k8s_storage-provisioner_storage-provisioner_kube-system_a9845ae3-6bbe-40cf-99e3-fcfb2974afc9_0\n",
      "1acba0cf04de   k8s.gcr.io/pause:3.2   \"/pause\"                 2 hours ago      Up 2 hours                k8s_POD_storage-provisioner_kube-system_a9845ae3-6bbe-40cf-99e3-fcfb2974afc9_0\n",
      "c42428440d94   bfe3a36ebd25           \"/coredns -conf /etc…\"   2 hours ago      Up 2 hours                k8s_coredns_coredns-74ff55c5b-bx9lj_kube-system_deceaf1d-9bcb-48f8-aadf-7c39bb2853d3_0\n",
      "37a3f07e57b5   k8s.gcr.io/pause:3.2   \"/pause\"                 2 hours ago      Up 2 hours                k8s_POD_coredns-74ff55c5b-bx9lj_kube-system_deceaf1d-9bcb-48f8-aadf-7c39bb2853d3_0\n",
      "9a12ffc02d1a   10cc881966cf           \"/usr/local/bin/kube…\"   2 hours ago      Up 2 hours                k8s_kube-proxy_kube-proxy-2rf67_kube-system_cb7b4a70-485b-47c1-a5a6-f672918a75eb_0\n",
      "9954e708415e   k8s.gcr.io/pause:3.2   \"/pause\"                 2 hours ago      Up 2 hours                k8s_POD_kube-proxy-2rf67_kube-system_cb7b4a70-485b-47c1-a5a6-f672918a75eb_0\n",
      "d92539702967   3138b6e3d471           \"kube-scheduler --au…\"   2 hours ago      Up 2 hours                k8s_kube-scheduler_kube-scheduler-minikube_kube-system_3478da2c440ba32fb6c087b3f3b99813_0\n",
      "b476a23a2e9a   0369cf4303ff           \"etcd --advertise-cl…\"   2 hours ago      Up 2 hours                k8s_etcd_etcd-minikube_kube-system_c31fe6a5afdd142cf3450ac972274b36_0\n",
      "798b58762190   b9fa1895dcaa           \"kube-controller-man…\"   2 hours ago      Up 2 hours                k8s_kube-controller-manager_kube-controller-manager-minikube_kube-system_a3e7be694ef7cf952503c5d331abc0ac_0\n",
      "be7780ef7667   ca9843d3b545           \"kube-apiserver --ad…\"   2 hours ago      Up 2 hours                k8s_kube-apiserver_kube-apiserver-minikube_kube-system_524cecac593a7ad14f29307cb61f56b8_0\n",
      "ccb44c2dac56   k8s.gcr.io/pause:3.2   \"/pause\"                 2 hours ago      Up 2 hours                k8s_POD_etcd-minikube_kube-system_c31fe6a5afdd142cf3450ac972274b36_0\n",
      "4626a9936cb7   k8s.gcr.io/pause:3.2   \"/pause\"                 2 hours ago      Up 2 hours                k8s_POD_kube-scheduler-minikube_kube-system_3478da2c440ba32fb6c087b3f3b99813_0\n",
      "f208de4c0615   k8s.gcr.io/pause:3.2   \"/pause\"                 2 hours ago      Up 2 hours                k8s_POD_kube-controller-manager-minikube_kube-system_a3e7be694ef7cf952503c5d331abc0ac_0\n",
      "3777c3565877   k8s.gcr.io/pause:3.2   \"/pause\"                 2 hours ago      Up 2 hours                k8s_POD_kube-apiserver-minikube_kube-system_524cecac593a7ad14f29307cb61f56b8_0\n"
     ]
    }
   ],
   "source": [
    "docker ps"
   ]
  },
  {
   "cell_type": "code",
   "execution_count": 2,
   "metadata": {},
   "outputs": [
    {
     "name": "stdout",
     "output_type": "stream",
     "text": [
      "CONTAINER           IMAGE                                                                           CREATED             STATE               NAME                      ATTEMPT             POD ID\n",
      "5da141e6ccb8b       nginx@sha256:10b8cc432d56da8b61b070f4c7d2543a9ed17c2b23010b43af434fd40e2ca4aa   32 minutes ago      Running             my-nginx                  0                   e66281d22c216\n",
      "3f53be8b44dfe       nginx@sha256:10b8cc432d56da8b61b070f4c7d2543a9ed17c2b23010b43af434fd40e2ca4aa   32 minutes ago      Running             my-nginx                  0                   49d80ef0b84cf\n",
      "267e2081d55b0       85069258b98ac                                                                   2 hours ago         Running             storage-provisioner       0                   1acba0cf04de9\n",
      "c42428440d943       bfe3a36ebd252                                                                   2 hours ago         Running             coredns                   0                   37a3f07e57b5b\n",
      "9a12ffc02d1a2       10cc881966cfd                                                                   2 hours ago         Running             kube-proxy                0                   9954e708415ea\n",
      "d92539702967e       3138b6e3d4712                                                                   2 hours ago         Running             kube-scheduler            0                   4626a9936cb78\n",
      "b476a23a2e9ae       0369cf4303ffd                                                                   2 hours ago         Running             etcd                      0                   ccb44c2dac566\n",
      "798b587621909       b9fa1895dcaa6                                                                   2 hours ago         Running             kube-controller-manager   0                   f208de4c06158\n",
      "be7780ef76679       ca9843d3b5454                                                                   2 hours ago         Running             kube-apiserver            0                   3777c3565877b\n"
     ]
    }
   ],
   "source": [
    "crictl ps"
   ]
  },
  {
   "cell_type": "code",
   "execution_count": 3,
   "metadata": {},
   "outputs": [],
   "source": [
    "POD=k8s_my-nginx_my-nginx-5b56ccd65f-s8qwn_default_af41adda-6f71-4e0e-9ed3-2b066c044bf7_0"
   ]
  },
  {
   "cell_type": "code",
   "execution_count": 4,
   "metadata": {},
   "outputs": [
    {
     "name": "stdout",
     "output_type": "stream",
     "text": [
      "Enter\n",
      "nsenter -t 23320 -n bash\n",
      "in a terminal\n"
     ]
    }
   ],
   "source": [
    "STATE_PID=$(docker inspect --format '{{.State.Pid}}' $POD)\n",
    "echo Enter\n",
    "echo nsenter -t $STATE_PID -n bash\n",
    "echo in a terminal  "
   ]
  },
  {
   "cell_type": "code",
   "execution_count": 5,
   "metadata": {},
   "outputs": [
    {
     "name": "stdout",
     "output_type": "stream",
     "text": [
      "\n",
      "Usage:\n",
      " nsenter [options] [<program> [<argument>...]]\n",
      "\n",
      "Run a program with namespaces of other processes.\n",
      "\n",
      "Options:\n",
      " -a, --all              enter all namespaces\n",
      " -t, --target <pid>     target process to get namespaces from\n",
      " -m, --mount[=<file>]   enter mount namespace\n",
      " -u, --uts[=<file>]     enter UTS namespace (hostname etc)\n",
      " -i, --ipc[=<file>]     enter System V IPC namespace\n",
      " -n, --net[=<file>]     enter network namespace\n",
      " -p, --pid[=<file>]     enter pid namespace\n",
      " -C, --cgroup[=<file>]  enter cgroup namespace\n",
      " -U, --user[=<file>]    enter user namespace\n",
      " -S, --setuid <uid>     set uid in entered namespace\n",
      " -G, --setgid <gid>     set gid in entered namespace\n",
      "     --preserve-credentials do not touch uids or gids\n",
      " -r, --root[=<dir>]     set the root directory\n",
      " -w, --wd[=<dir>]       set the working directory\n",
      " -F, --no-fork          do not fork before exec'ing <program>\n",
      " -Z, --follow-context   set SELinux context according to --target PID\n",
      "\n",
      " -h, --help             display this help\n",
      " -V, --version          display version\n",
      "\n",
      "For more details see nsenter(1).\n"
     ]
    }
   ],
   "source": [
    "nsenter --help"
   ]
  },
  {
   "cell_type": "code",
   "execution_count": 6,
   "metadata": {},
   "outputs": [
    {
     "name": "stdout",
     "output_type": "stream",
     "text": [
      "1: lo: <LOOPBACK,UP,LOWER_UP> mtu 65536 qdisc noqueue state UNKNOWN group default qlen 1000\n",
      "    link/loopback 00:00:00:00:00:00 brd 00:00:00:00:00:00\n",
      "    inet 127.0.0.1/8 scope host lo\n",
      "       valid_lft forever preferred_lft forever\n",
      "2: tunl0@NONE: <NOARP> mtu 1480 qdisc noop state DOWN group default qlen 1000\n",
      "    link/ipip 0.0.0.0 brd 0.0.0.0\n",
      "6: eth0@if7: <BROADCAST,MULTICAST,UP,LOWER_UP> mtu 1500 qdisc noqueue state UP group default \n",
      "    link/ether 02:42:ac:11:00:03 brd ff:ff:ff:ff:ff:ff link-netnsid 0\n",
      "    inet 172.17.0.3/16 brd 172.17.255.255 scope global eth0\n",
      "       valid_lft forever preferred_lft forever\n"
     ]
    }
   ],
   "source": [
    "nsenter -t $STATE_PID -n ip a"
   ]
  },
  {
   "cell_type": "code",
   "execution_count": 7,
   "metadata": {},
   "outputs": [
    {
     "name": "stdout",
     "output_type": "stream",
     "text": [
      "256: eth0@if257: <BROADCAST,MULTICAST,UP,LOWER_UP> mtu 1500 qdisc noqueue state UP group default \n",
      "    link/ether 02:42:c0:a8:31:02 brd ff:ff:ff:ff:ff:ff link-netnsid 0\n",
      "    inet 192.168.49.2/24 brd 192.168.49.255 scope global eth0\n",
      "       valid_lft forever preferred_lft forever\n",
      "1: lo: <LOOPBACK,UP,LOWER_UP> mtu 65536 qdisc noqueue state UNKNOWN group default qlen 1000\n",
      "    link/loopback 00:00:00:00:00:00 brd 00:00:00:00:00:00\n",
      "    inet 127.0.0.1/8 scope host lo\n",
      "       valid_lft forever preferred_lft forever\n",
      "2: tunl0@NONE: <NOARP> mtu 1480 qdisc noop state DOWN group default qlen 1000\n",
      "    link/ipip 0.0.0.0 brd 0.0.0.0\n",
      "3: docker0: <BROADCAST,MULTICAST,UP,LOWER_UP> mtu 1500 qdisc noqueue state UP group default \n",
      "    link/ether 02:42:db:c5:40:fb brd ff:ff:ff:ff:ff:ff\n",
      "    inet 172.17.0.1/16 brd 172.17.255.255 scope global docker0\n",
      "       valid_lft forever preferred_lft forever\n",
      "5: veth57edace@if4: <BROADCAST,MULTICAST,UP,LOWER_UP> mtu 1500 qdisc noqueue master docker0 state UP group default \n",
      "    link/ether 8e:2f:f3:9b:bf:30 brd ff:ff:ff:ff:ff:ff link-netnsid 1\n",
      "7: veth2babcb1@if6: <BROADCAST,MULTICAST,UP,LOWER_UP> mtu 1500 qdisc noqueue master docker0 state UP group default \n",
      "    link/ether 7e:4a:09:5a:76:82 brd ff:ff:ff:ff:ff:ff link-netnsid 3\n",
      "9: vethb82df63@if8: <BROADCAST,MULTICAST,UP,LOWER_UP> mtu 1500 qdisc noqueue master docker0 state UP group default \n",
      "    link/ether b2:16:da:ad:5b:db brd ff:ff:ff:ff:ff:ff link-netnsid 2\n"
     ]
    }
   ],
   "source": [
    "ip a"
   ]
  },
  {
   "cell_type": "markdown",
   "metadata": {},
   "source": [
    " # Danger!\n",
    " \n",
    " OpenVpn works and could be used as backdoor"
   ]
  },
  {
   "cell_type": "code",
   "execution_count": 8,
   "metadata": {},
   "outputs": [
    {
     "name": "stdout",
     "output_type": "stream",
     "text": [
      "my-nginx-5b56ccd65f-s8qwn\n"
     ]
    }
   ],
   "source": [
    "nsenter -t $STATE_PID -a hostname"
   ]
  },
  {
   "cell_type": "code",
   "execution_count": 9,
   "metadata": {},
   "outputs": [
    {
     "name": "stdout",
     "output_type": "stream",
     "text": [
      "nsenter: failed to execute ip: No such file or directory\n"
     ]
    },
    {
     "ename": "",
     "evalue": "127",
     "output_type": "error",
     "traceback": []
    }
   ],
   "source": [
    "nsenter -t $STATE_PID -a ip a"
   ]
  },
  {
   "cell_type": "code",
   "execution_count": 10,
   "metadata": {},
   "outputs": [
    {
     "name": "stdout",
     "output_type": "stream",
     "text": [
      "default via 172.17.0.1 dev eth0 \n",
      "172.17.0.0/16 dev eth0 proto kernel scope link src 172.17.0.3 \n"
     ]
    }
   ],
   "source": [
    "nsenter -t $STATE_PID -n ip route"
   ]
  },
  {
   "cell_type": "code",
   "execution_count": 11,
   "metadata": {},
   "outputs": [
    {
     "name": "stdout",
     "output_type": "stream",
     "text": [
      "default via 192.168.49.1 dev eth0 \n",
      "172.17.0.0/16 dev docker0 proto kernel scope link src 172.17.0.1 \n",
      "192.168.49.0/24 dev eth0 proto kernel scope link src 192.168.49.2 \n"
     ]
    }
   ],
   "source": [
    "ip route"
   ]
  },
  {
   "cell_type": "code",
   "execution_count": 12,
   "metadata": {},
   "outputs": [
    {
     "name": "stdout",
     "output_type": "stream",
     "text": [
      "bin   docker-entrypoint.d   home   media  proc\tsbin  tmp\n",
      "boot  docker-entrypoint.sh  lib    mnt\t  root\tsrv   usr\n",
      "dev   etc\t\t    lib64  opt\t  run\tsys   var\n"
     ]
    }
   ],
   "source": [
    "nsenter -t $STATE_PID -a ls"
   ]
  },
  {
   "cell_type": "code",
   "execution_count": 13,
   "metadata": {},
   "outputs": [
    {
     "name": "stdout",
     "output_type": "stream",
     "text": [
      " AccountWithRBAC.ipynb       Overview.ipynb\n",
      " AuditLogs.ipynb             PodSecurityPolicyBasic.ipynb\n",
      " ClusterOverview.ipynb       PodSecurityPolicyPermissive.ipynb\n",
      " ContainerdCloudbomb.ipynb   PodSecurityPolicyStrict.ipynb\n",
      " CrioBomb.ipynb             'Postgres Zalando.ipynb'\n",
      " Helm.ipynb                  ServiceAccountToken.ipynb\n",
      " Ingress.ipynb               Unprivileged.ipynb\n",
      " IngressStart.ipynb          audit-policy.yaml\n",
      " Istio-Traffic-Mgmt.ipynb    cloudbomb\n",
      " Istio1.8.2.ipynb            docker-hypervisor.png\n",
      " IstioHack.ipynb             istio-1.8.2\n",
      " Kube-Scan-Cloudbomb.ipynb   kube-bench.ipynb\n",
      " KubernetesBasics.ipynb      notebooks.tgz\n",
      "'Linux Namespaces.ipynb'     openssl\n",
      " NetworkPolicy.ipynb         postgres-operator\n",
      " OpenPolicyAgent.ipynb\n"
     ]
    }
   ],
   "source": [
    "ls"
   ]
  },
  {
   "cell_type": "code",
   "execution_count": 14,
   "metadata": {},
   "outputs": [
    {
     "name": "stdout",
     "output_type": "stream",
     "text": [
      "nsenter: failed to execute ps: No such file or directory\n"
     ]
    },
    {
     "ename": "",
     "evalue": "127",
     "output_type": "error",
     "traceback": []
    }
   ],
   "source": [
    "nsenter -t $STATE_PID -a ps auxwww"
   ]
  },
  {
   "cell_type": "code",
   "execution_count": 15,
   "metadata": {},
   "outputs": [
    {
     "name": "stdout",
     "output_type": "stream",
     "text": [
      "USER         PID %CPU %MEM    VSZ   RSS TTY      STAT START   TIME COMMAND\n",
      "root           1  0.0  0.0  22420  7964 ?        Ss   08:15   0:01 /sbin/init\n",
      "root         135  0.0  0.0  29268  8544 ?        S<s  08:15   0:00 /lib/systemd/systemd-journald\n",
      "root         155  0.0  0.2 1563460 44752 ?       Ssl  08:15   0:04 /usr/bin/containerd\n",
      "root         159  0.0  0.0   4384  1172 pts/0    Ss+  08:15   0:00 /sbin/agetty -o -p -- \\u --noclear --keep-baud console 115200,38400,9600 xterm\n",
      "root         160  0.0  0.0   2860  1068 tty2     Ss+  08:15   0:00 /sbin/agetty -o -p -- \\u --noclear tty2 linux\n",
      "root         161  0.0  0.0   2860  1040 tty3     Ss+  08:15   0:00 /sbin/agetty -o -p -- \\u --noclear tty3 linux\n",
      "root         162  0.0  0.0   2860  1012 tty4     Ss+  08:15   0:00 /sbin/agetty -o -p -- \\u --noclear tty4 linux\n",
      "root         163  0.0  0.0   2860  1016 tty5     Ss+  08:15   0:00 /sbin/agetty -o -p -- \\u --noclear tty5 linux\n",
      "root         168  0.0  0.0   2860  1156 tty6     Ss+  08:15   0:00 /sbin/agetty -o -p -- \\u --noclear tty6 linux\n",
      "root         171  0.0  0.0  12176  3020 ?        Ss   08:15   0:00 sshd: /usr/sbin/sshd -D [listener] 0 of 10-100 startups\n",
      "root         180  0.2  0.4 327720 68368 ?        Ssl  08:15   0:20 /usr/bin/python3 /usr/local/bin/jupyter-lab --ip 192.168.49.2 --allow-root\n",
      "root         438  1.3  0.5 1463108 83556 ?       Ssl  08:15   1:36 /usr/bin/dockerd -H tcp://0.0.0.0:2376 -H unix:///var/run/docker.sock --default-ulimit=nofile=1048576:1048576 --tlsverify --tlscacert /etc/docker/ca.pem --tlscert /etc/docker/server.pem --tlskey /etc/docker/server-key.pem --label provider=docker --insecure-registry 10.96.0.0/12\n",
      "root        2259  0.0  0.0 111972  7596 ?        Sl   08:16   0:00 /usr/bin/containerd-shim-runc-v2 -namespace moby -id f208de4c0615866c8e62a58766231405658b876db94f8880b14cd02918b55a39 -address /run/containerd/containerd.sock\n",
      "root        2260  0.0  0.0 111972  7568 ?        Sl   08:16   0:00 /usr/bin/containerd-shim-runc-v2 -namespace moby -id 3777c3565877becfaac5b8807998f76ed51e7f4c72d48e920a6009a695037daa -address /run/containerd/containerd.sock\n",
      "root        2261  0.0  0.0 113380  7876 ?        Sl   08:16   0:00 /usr/bin/containerd-shim-runc-v2 -namespace moby -id ccb44c2dac566c9fe1d8dccf68b7dd19a618ab1615db0066ff3b485e1dc67f26 -address /run/containerd/containerd.sock\n",
      "root        2262  0.0  0.0 113124  6152 ?        Sl   08:16   0:00 /usr/bin/containerd-shim-runc-v2 -namespace moby -id 4626a9936cb78ff007e6382be6d48fab3d2e77a342cdfcba7952fe88bcbc5637 -address /run/containerd/containerd.sock\n",
      "root        2344  0.0  0.0    964     4 ?        Ss   08:16   0:00 /pause\n",
      "root        2352  0.0  0.0    964     4 ?        Ss   08:16   0:00 /pause\n",
      "root        2353  0.0  0.0    964     4 ?        Ss   08:16   0:00 /pause\n",
      "root        2365  0.0  0.0    964     4 ?        Ss   08:16   0:00 /pause\n",
      "root        2532  0.0  0.0 112868  7548 ?        Sl   08:16   0:00 /usr/bin/containerd-shim-runc-v2 -namespace moby -id 798b587621909dee1393092ff476ab18bac67e824ed82033751ed81f410b15db -address /run/containerd/containerd.sock\n",
      "root        2568  0.0  0.0 113444  7172 ?        Sl   08:16   0:00 /usr/bin/containerd-shim-runc-v2 -namespace moby -id be7780ef76679140ec9e2250369e62a0f4a00a9c5f1ee88260b72c959521c5b8 -address /run/containerd/containerd.sock\n",
      "root        2585  1.6  0.5 816256 90120 ?        Ssl  08:16   1:58 kube-controller-manager --allocate-node-cidrs=true --authentication-kubeconfig=/etc/kubernetes/controller-manager.conf --authorization-kubeconfig=/etc/kubernetes/controller-manager.conf --bind-address=127.0.0.1 --client-ca-file=/var/lib/minikube/certs/ca.crt --cluster-cidr=10.244.0.0/16 --cluster-name=mk --cluster-signing-cert-file=/var/lib/minikube/certs/ca.crt --cluster-signing-key-file=/var/lib/minikube/certs/ca.key --controllers=*,bootstrapsigner,tokencleaner --kubeconfig=/etc/kubernetes/controller-manager.conf --leader-elect=false --port=0 --requestheader-client-ca-file=/var/lib/minikube/certs/front-proxy-ca.crt --root-ca-file=/var/lib/minikube/certs/ca.crt --service-account-private-key-file=/var/lib/minikube/certs/sa.key --service-cluster-ip-range=10.96.0.0/12 --use-service-account-credentials=true\n",
      "root        2595  0.0  0.0 113380  6552 ?        Sl   08:16   0:00 /usr/bin/containerd-shim-runc-v2 -namespace moby -id b476a23a2e9ae501399fef10908d9e49b5faaf0b24f38017dd9eb903de39caf0 -address /run/containerd/containerd.sock\n",
      "root        2597  0.0  0.0 113380  7040 ?        Sl   08:16   0:00 /usr/bin/containerd-shim-runc-v2 -namespace moby -id d92539702967ed876f3d44a7241fa8a8a6caf8a0c2b826ff522590aced7241ca -address /run/containerd/containerd.sock\n",
      "root        2653  6.4  1.9 1098564 300220 ?      Ssl  08:16   7:49 kube-apiserver --advertise-address=192.168.49.2 --allow-privileged=true --authorization-mode=Node,RBAC --client-ca-file=/var/lib/minikube/certs/ca.crt --enable-admission-plugins=NamespaceLifecycle,LimitRanger,ServiceAccount,DefaultStorageClass,DefaultTolerationSeconds,NodeRestriction,MutatingAdmissionWebhook,ValidatingAdmissionWebhook,ResourceQuota --enable-bootstrap-token-auth=true --etcd-cafile=/var/lib/minikube/certs/etcd/ca.crt --etcd-certfile=/var/lib/minikube/certs/apiserver-etcd-client.crt --etcd-keyfile=/var/lib/minikube/certs/apiserver-etcd-client.key --etcd-servers=https://127.0.0.1:2379 --insecure-port=0 --kubelet-client-certificate=/var/lib/minikube/certs/apiserver-kubelet-client.crt --kubelet-client-key=/var/lib/minikube/certs/apiserver-kubelet-client.key --kubelet-preferred-address-types=InternalIP,ExternalIP,Hostname --proxy-client-cert-file=/var/lib/minikube/certs/front-proxy-client.crt --proxy-client-key-file=/var/lib/minikube/certs/front-proxy-client.key --requestheader-allowed-names=front-proxy-client --requestheader-client-ca-file=/var/lib/minikube/certs/front-proxy-ca.crt --requestheader-extra-headers-prefix=X-Remote-Extra- --requestheader-group-headers=X-Remote-Group --requestheader-username-headers=X-Remote-User --secure-port=8443 --service-account-issuer=https://kubernetes.default.svc.cluster.local --service-account-key-file=/var/lib/minikube/certs/sa.pub --service-account-signing-key-file=/var/lib/minikube/certs/sa.key --service-cluster-ip-range=10.96.0.0/12 --tls-cert-file=/var/lib/minikube/certs/apiserver.crt --tls-private-key-file=/var/lib/minikube/certs/apiserver.key\n",
      "root        2665  1.4  0.3 10612724 49156 ?      Ssl  08:16   1:48 etcd --advertise-client-urls=https://192.168.49.2:2379 --cert-file=/var/lib/minikube/certs/etcd/server.crt --client-cert-auth=true --data-dir=/var/lib/minikube/etcd --initial-advertise-peer-urls=https://192.168.49.2:2380 --initial-cluster=minikube=https://192.168.49.2:2380 --key-file=/var/lib/minikube/certs/etcd/server.key --listen-client-urls=https://127.0.0.1:2379,https://192.168.49.2:2379 --listen-metrics-urls=http://127.0.0.1:2381 --listen-peer-urls=https://192.168.49.2:2380 --name=minikube --peer-cert-file=/var/lib/minikube/certs/etcd/peer.crt --peer-client-cert-auth=true --peer-key-file=/var/lib/minikube/certs/etcd/peer.key --peer-trusted-ca-file=/var/lib/minikube/certs/etcd/ca.crt --proxy-refresh-interval=70000 --snapshot-count=10000 --trusted-ca-file=/var/lib/minikube/certs/etcd/ca.crt\n",
      "root        2682  0.2  0.2 747616 40396 ?        Ssl  08:16   0:17 kube-scheduler --authentication-kubeconfig=/etc/kubernetes/scheduler.conf --authorization-kubeconfig=/etc/kubernetes/scheduler.conf --bind-address=127.0.0.1 --kubeconfig=/etc/kubernetes/scheduler.conf --leader-elect=false --port=0\n",
      "root        3004  3.8  0.6 1927372 109656 ?      Ssl  08:16   4:36 /var/lib/minikube/binaries/v1.20.0/kubelet --bootstrap-kubeconfig=/etc/kubernetes/bootstrap-kubelet.conf --config=/var/lib/kubelet/config.yaml --container-runtime=docker --hostname-override=minikube --kubeconfig=/etc/kubernetes/kubelet.conf --node-ip=192.168.49.2\n",
      "root        3336  0.0  0.0 111972  6116 ?        Sl   08:17   0:00 /usr/bin/containerd-shim-runc-v2 -namespace moby -id 9954e708415ea70a1ce5f9f0c9f9b310f3247682f9a31fdde09082a20446a217 -address /run/containerd/containerd.sock\n",
      "root        3357  0.0  0.0    964     4 ?        Ss   08:17   0:00 /pause\n",
      "root        3388  0.0  0.0 111972  6832 ?        Sl   08:17   0:00 /usr/bin/containerd-shim-runc-v2 -namespace moby -id 9a12ffc02d1a23192f4a829010a759d463c4625d3c006813dc5709172b5edf4c -address /run/containerd/containerd.sock\n",
      "root        3408  0.0  0.2 744072 34768 ?        Ssl  08:17   0:01 /usr/local/bin/kube-proxy --config=/var/lib/kube-proxy/config.conf --hostname-override=minikube\n",
      "root        3525  0.0  0.0 111460  7476 ?        Sl   08:17   0:00 /usr/bin/containerd-shim-runc-v2 -namespace moby -id 37a3f07e57b5b66ec63810c40eba6e02a175cbaa6467f229b1f50a788d4e220c -address /run/containerd/containerd.sock\n",
      "root        3546  0.0  0.0    964     4 ?        Ss   08:17   0:00 /pause\n",
      "root        3586  0.0  0.0 111716  7544 ?        Sl   08:17   0:00 /usr/bin/containerd-shim-runc-v2 -namespace moby -id c42428440d9438be60a69219337cc06d8294de61779d9750df8109e1f8ce1574 -address /run/containerd/containerd.sock\n",
      "root        3607  0.2  0.2 747912 35192 ?        SLsl 08:17   0:20 /coredns -conf /etc/coredns/Corefile\n",
      "root        3686  0.0  0.0 113380  6180 ?        Sl   08:17   0:00 /usr/bin/containerd-shim-runc-v2 -namespace moby -id 1acba0cf04de92bce423426c0752a99950d230e9d0bc3304acec99096e469004 -address /run/containerd/containerd.sock\n",
      "root        3709  0.0  0.0    964     4 ?        Ss   08:17   0:00 /pause\n",
      "root        3730  0.0  0.0 111716  7896 ?        Sl   08:17   0:00 /usr/bin/containerd-shim-runc-v2 -namespace moby -id 267e2081d55b042205dfda8accc6247d3ecf7b411a74d78acd36c6c6a6c565ab -address /run/containerd/containerd.sock\n",
      "root        3750  0.1  0.1 734232 26552 ?        Ssl  08:17   0:11 /storage-provisioner\n",
      "root        5628  0.0  0.0  12288  6068 ?        Ss   08:25   0:00 sshd: docker [priv]\n",
      "docker      5630  0.0  0.0  12288  3896 ?        S    08:25   0:00 sshd: docker@pts/1\n",
      "docker      5631  0.0  0.0   5160  4040 pts/1    Ss   08:25   0:00 -bash\n",
      "root        5676  0.0  0.0   5000  3164 pts/1    S    08:25   0:00 sudo su\n",
      "root        5677  0.0  0.0   4492  2656 pts/1    S    08:25   0:00 su\n",
      "root        5678  0.0  0.0   4240  3208 pts/1    S+   08:25   0:00 bash\n",
      "root       10053  0.0  0.0  12288  6100 ?        Ss   08:44   0:00 sshd: docker [priv]\n",
      "docker     10055  0.0  0.0  12288  3848 ?        S    08:44   0:00 sshd: docker@pts/2\n",
      "docker     10056  0.0  0.0   5160  4008 pts/2    Ss   08:44   0:00 -bash\n",
      "root       10063  0.0  0.0   5000  3112 pts/2    S    08:44   0:00 sudo su\n",
      "root       10064  0.0  0.0   4492  2652 pts/2    S    08:44   0:00 su\n",
      "root       10065  0.0  0.0   4240  3068 pts/2    S+   08:44   0:00 bash\n",
      "root       22653  0.0  0.2 464380 46500 ?        Ssl  09:38   0:01 /usr/bin/python3 -m bash_kernel -f /root/.local/share/jupyter/runtime/kernel-55839a1f-7dc7-49c2-b25c-4aa631748d62.json\n",
      "root       22664  0.0  0.0   4468  3636 pts/3    Ss+  09:38   0:00 /usr/bin/bash --rcfile /usr/local/lib/python3.8/dist-packages/pexpect/bashrc.sh\n",
      "root       22901  0.0  0.0 111972  7900 ?        Sl   09:39   0:00 /usr/bin/containerd-shim-runc-v2 -namespace moby -id 49d80ef0b84cfc0b295a45889599a707c150623b38807af69ce15a14ea8fbc57 -address /run/containerd/containerd.sock\n",
      "root       22902  0.0  0.0 111972  7892 ?        Sl   09:39   0:00 /usr/bin/containerd-shim-runc-v2 -namespace moby -id e66281d22c216dfc966baf5608bf3083758f962198042e97e0b819dc8f89a209 -address /run/containerd/containerd.sock\n",
      "root       22943  0.0  0.0    964     4 ?        Ss   09:39   0:00 /pause\n",
      "root       22950  0.0  0.0    964     4 ?        Ss   09:39   0:00 /pause\n",
      "root       23211  0.0  0.0 111972  7820 ?        Sl   09:39   0:00 /usr/bin/containerd-shim-runc-v2 -namespace moby -id 3f53be8b44dfe15ab9e05ac9a2cfed41dbdb616b55b8db935701babd2110fb39 -address /run/containerd/containerd.sock\n",
      "root       23231  0.0  0.0  10632  6052 ?        Ss   09:39   0:00 nginx: master process nginx -g daemon off;\n",
      "_rpc       23272  0.0  0.0  11028  2652 ?        S    09:39   0:00 nginx: worker process\n",
      "root       23298  0.0  0.0 111972  6948 ?        Sl   09:39   0:00 /usr/bin/containerd-shim-runc-v2 -namespace moby -id 5da141e6ccb8b419d9eb18f89cc5f7656329f819e17c9d6fcbcc2edb0dc530f4 -address /run/containerd/containerd.sock\n",
      "root       23320  0.0  0.0  10632  6012 ?        Ss   09:39   0:00 nginx: master process nginx -g daemon off;\n",
      "_rpc       23366  0.0  0.0  11028  2564 ?        S    09:39   0:00 nginx: worker process\n",
      "root       24789  0.0  0.0  14308 12312 pts/4    Ss+  09:45   0:00 /bin/bash -l\n",
      "root       25481  0.0  0.0  12288  7492 ?        Ss   09:47   0:00 sshd: docker [priv]\n",
      "docker     25483  0.0  0.0  12288  4908 ?        S    09:47   0:00 sshd: docker@notty\n",
      "root       31000  0.2  0.2 464364 46164 ?        Rsl  10:11   0:01 /usr/bin/python3 -m bash_kernel -f /root/.local/share/jupyter/runtime/kernel-6b2b7ec9-bce4-4f02-ad4f-22b0338a2081.json\n",
      "root       31009  0.0  0.0   4468  3560 pts/5    Ss   10:11   0:00 /usr/bin/bash --rcfile /usr/local/lib/python3.8/dist-packages/pexpect/bashrc.sh\n",
      "root       32624  0.0  0.0   5896  2844 pts/5    R+   10:18   0:00 ps auxww\n"
     ]
    }
   ],
   "source": [
    "ps auxww"
   ]
  },
  {
   "cell_type": "code",
   "execution_count": null,
   "metadata": {},
   "outputs": [],
   "source": []
  }
 ],
 "metadata": {
  "kernelspec": {
   "display_name": "Bash",
   "language": "bash",
   "name": "bash"
  },
  "language_info": {
   "codemirror_mode": "shell",
   "file_extension": ".sh",
   "mimetype": "text/x-sh",
   "name": "bash"
  }
 },
 "nbformat": 4,
 "nbformat_minor": 5
}
