{
 "cells": [
  {
   "cell_type": "markdown",
   "id": "1b161567",
   "metadata": {},
   "source": [
    "**This notebook covered by the following [license](License.ipynb)  This note must not be removed**"
   ]
  },
  {
   "cell_type": "markdown",
   "id": "57cd78e0",
   "metadata": {},
   "source": [
    "# Linux namespaces\n",
    "\n",
    "![Namespaces](namespaces.png)"
   ]
  },
  {
   "cell_type": "markdown",
   "id": "34a3f342",
   "metadata": {},
   "source": [
    "![container vs hypervisor](docker-hypervisor.png)"
   ]
  },
  {
   "cell_type": "code",
   "execution_count": 1,
   "id": "9ab9f74c",
   "metadata": {},
   "outputs": [
    {
     "name": "stdout",
     "output_type": "stream",
     "text": [
      "CONTAINER ID   IMAGE                  COMMAND                  CREATED          STATUS          PORTS     NAMES\n",
      "012ab7232469   86262685d9ab           \"/metrics-sidecar\"       22 minutes ago   Up 22 minutes             k8s_dashboard-metrics-scraper_dashboard-metrics-scraper-f6647bd8c-cst2g_kubernetes-dashboard_609139cd-a00f-444a-927a-cb60657ef7d2_0\n",
      "a916f22652df   9a07b5b4bfac           \"/dashboard --insecu…\"   22 minutes ago   Up 22 minutes             k8s_kubernetes-dashboard_kubernetes-dashboard-968bcb79-zzwcl_kubernetes-dashboard_ea46ab81-d0df-4bcd-9e23-f8a998ca2cc9_0\n",
      "14d3c766e0d6   k8s.gcr.io/pause:3.2   \"/pause\"                 22 minutes ago   Up 22 minutes             k8s_POD_dashboard-metrics-scraper-f6647bd8c-cst2g_kubernetes-dashboard_609139cd-a00f-444a-927a-cb60657ef7d2_0\n",
      "b70831264217   k8s.gcr.io/pause:3.2   \"/pause\"                 22 minutes ago   Up 22 minutes             k8s_POD_kubernetes-dashboard-968bcb79-zzwcl_kubernetes-dashboard_ea46ab81-d0df-4bcd-9e23-f8a998ca2cc9_0\n",
      "193f7d2f5f9b   nginx                  \"/docker-entrypoint.…\"   36 minutes ago   Up 36 minutes             k8s_my-nginx_my-nginx-5b56ccd65f-zl5ss_default_61f63d48-2331-4aba-a4ff-2266854a1aa7_0\n",
      "0634591360c4   nginx                  \"/docker-entrypoint.…\"   36 minutes ago   Up 36 minutes             k8s_my-nginx_my-nginx-5b56ccd65f-9vrdg_default_02bd45ef-ed25-43d8-b9b0-bcf85fcf1fe3_0\n",
      "792d59f591ba   k8s.gcr.io/pause:3.2   \"/pause\"                 36 minutes ago   Up 36 minutes             k8s_POD_my-nginx-5b56ccd65f-zl5ss_default_61f63d48-2331-4aba-a4ff-2266854a1aa7_0\n",
      "032d8ef380df   k8s.gcr.io/pause:3.2   \"/pause\"                 36 minutes ago   Up 36 minutes             k8s_POD_my-nginx-5b56ccd65f-9vrdg_default_02bd45ef-ed25-43d8-b9b0-bcf85fcf1fe3_0\n",
      "4c0e8dcb5547   6e38f40d628d           \"/storage-provisioner\"   40 minutes ago   Up 40 minutes             k8s_storage-provisioner_storage-provisioner_kube-system_97fe1ddc-35ad-4638-b760-7cb08821a666_3\n",
      "aba5061e5eeb   bfe3a36ebd25           \"/coredns -conf /etc…\"   41 minutes ago   Up 41 minutes             k8s_coredns_coredns-74ff55c5b-hq2hm_kube-system_9cb80d6a-75ce-485f-86c0-1ef32976f9d2_1\n",
      "c166b2b1d286   43154ddb57a8           \"/usr/local/bin/kube…\"   41 minutes ago   Up 41 minutes             k8s_kube-proxy_kube-proxy-lv5cn_kube-system_1ee8105a-fb26-4137-abc1-1cfade341989_1\n",
      "4c7bd98aedb5   k8s.gcr.io/pause:3.2   \"/pause\"                 41 minutes ago   Up 41 minutes             k8s_POD_kube-proxy-lv5cn_kube-system_1ee8105a-fb26-4137-abc1-1cfade341989_1\n",
      "ae598137a8a1   k8s.gcr.io/pause:3.2   \"/pause\"                 41 minutes ago   Up 41 minutes             k8s_POD_storage-provisioner_kube-system_97fe1ddc-35ad-4638-b760-7cb08821a666_1\n",
      "8a779a41ef4b   k8s.gcr.io/pause:3.2   \"/pause\"                 41 minutes ago   Up 41 minutes             k8s_POD_coredns-74ff55c5b-hq2hm_kube-system_9cb80d6a-75ce-485f-86c0-1ef32976f9d2_1\n",
      "4688e1bd1c7a   ed2c44fbdd78           \"kube-scheduler --au…\"   41 minutes ago   Up 41 minutes             k8s_kube-scheduler_kube-scheduler-minikube_kube-system_6b4a0ee8b3d15a1c2e47c15d32e6eb0d_1\n",
      "7b297c602e69   0369cf4303ff           \"etcd --advertise-cl…\"   41 minutes ago   Up 41 minutes             k8s_etcd_etcd-minikube_kube-system_c31fe6a5afdd142cf3450ac972274b36_1\n",
      "e8cad49baae8   a27166429d98           \"kube-controller-man…\"   41 minutes ago   Up 41 minutes             k8s_kube-controller-manager_kube-controller-manager-minikube_kube-system_57b8c22dbe6410e4bd36cf14b0f8bdc7_1\n",
      "3cc1b2a464b2   a8c2fdb8bf76           \"kube-apiserver --ad…\"   41 minutes ago   Up 41 minutes             k8s_kube-apiserver_kube-apiserver-minikube_kube-system_c767dbeb9ddd2d01964c2fc02c621c4e_1\n",
      "436149371cdc   k8s.gcr.io/pause:3.2   \"/pause\"                 41 minutes ago   Up 41 minutes             k8s_POD_kube-scheduler-minikube_kube-system_6b4a0ee8b3d15a1c2e47c15d32e6eb0d_1\n",
      "9d4795779b94   k8s.gcr.io/pause:3.2   \"/pause\"                 41 minutes ago   Up 41 minutes             k8s_POD_kube-controller-manager-minikube_kube-system_57b8c22dbe6410e4bd36cf14b0f8bdc7_1\n",
      "62f795b1ec54   k8s.gcr.io/pause:3.2   \"/pause\"                 41 minutes ago   Up 41 minutes             k8s_POD_kube-apiserver-minikube_kube-system_c767dbeb9ddd2d01964c2fc02c621c4e_1\n",
      "8beeb5fea3f8   k8s.gcr.io/pause:3.2   \"/pause\"                 41 minutes ago   Up 41 minutes             k8s_POD_etcd-minikube_kube-system_c31fe6a5afdd142cf3450ac972274b36_1\n"
     ]
    }
   ],
   "source": [
    "docker ps"
   ]
  },
  {
   "cell_type": "code",
   "execution_count": 2,
   "id": "152279a1",
   "metadata": {},
   "outputs": [
    {
     "name": "stdout",
     "output_type": "stream",
     "text": [
      "CONTAINER           IMAGE                                                                           CREATED             STATE               NAME                        ATTEMPT             POD ID\n",
      "012ab72324693       86262685d9abb                                                                   23 minutes ago      Running             dashboard-metrics-scraper   0                   14d3c766e0d6c\n",
      "a916f22652dfc       9a07b5b4bfac0                                                                   23 minutes ago      Running             kubernetes-dashboard        0                   b708312642179\n",
      "193f7d2f5f9be       nginx@sha256:75a55d33ecc73c2a242450a9f1cc858499d468f077ea942867e662c247b5e412   36 minutes ago      Running             my-nginx                    0                   792d59f591baf\n",
      "0634591360c48       nginx@sha256:75a55d33ecc73c2a242450a9f1cc858499d468f077ea942867e662c247b5e412   36 minutes ago      Running             my-nginx                    0                   032d8ef380df1\n",
      "4c0e8dcb5547b       6e38f40d628db                                                                   41 minutes ago      Running             storage-provisioner         3                   ae598137a8a13\n",
      "aba5061e5eeb1       bfe3a36ebd252                                                                   42 minutes ago      Running             coredns                     1                   8a779a41ef4b2\n",
      "c166b2b1d2865       43154ddb57a83                                                                   42 minutes ago      Running             kube-proxy                  1                   4c7bd98aedb5c\n",
      "4688e1bd1c7ab       ed2c44fbdd78b                                                                   42 minutes ago      Running             kube-scheduler              1                   436149371cdc2\n",
      "7b297c602e69d       0369cf4303ffd                                                                   42 minutes ago      Running             etcd                        1                   8beeb5fea3f81\n",
      "e8cad49baae84       a27166429d98e                                                                   42 minutes ago      Running             kube-controller-manager     1                   9d4795779b945\n",
      "3cc1b2a464b20       a8c2fdb8bf76e                                                                   42 minutes ago      Running             kube-apiserver              1                   62f795b1ec541\n"
     ]
    }
   ],
   "source": [
    "crictl ps"
   ]
  },
  {
   "cell_type": "code",
   "execution_count": 12,
   "id": "b94b3c7f",
   "metadata": {},
   "outputs": [],
   "source": [
    "POD=k8s_my-nginx_my-nginx-5b56ccd65f-zl5ss_default_61f63d48-2331-4aba-a4ff-2266854a1aa7_0"
   ]
  },
  {
   "cell_type": "code",
   "execution_count": 13,
   "id": "71347b3c",
   "metadata": {},
   "outputs": [
    {
     "name": "stdout",
     "output_type": "stream",
     "text": [
      "Enter\n",
      "nsenter -t 4932 -n bash\n",
      "in a terminal\n"
     ]
    }
   ],
   "source": [
    "STATE_PID=$(docker inspect --format '{{.State.Pid}}' $POD)\n",
    "echo Enter\n",
    "echo nsenter -t $STATE_PID -n bash\n",
    "echo in a terminal  "
   ]
  },
  {
   "cell_type": "code",
   "execution_count": 5,
   "id": "8fc8e4f1",
   "metadata": {},
   "outputs": [
    {
     "name": "stdout",
     "output_type": "stream",
     "text": [
      "\n",
      "Usage:\n",
      " nsenter [options] [<program> [<argument>...]]\n",
      "\n",
      "Run a program with namespaces of other processes.\n",
      "\n",
      "Options:\n",
      " -a, --all              enter all namespaces\n",
      " -t, --target <pid>     target process to get namespaces from\n",
      " -m, --mount[=<file>]   enter mount namespace\n",
      " -u, --uts[=<file>]     enter UTS namespace (hostname etc)\n",
      " -i, --ipc[=<file>]     enter System V IPC namespace\n",
      " -n, --net[=<file>]     enter network namespace\n",
      " -p, --pid[=<file>]     enter pid namespace\n",
      " -C, --cgroup[=<file>]  enter cgroup namespace\n",
      " -U, --user[=<file>]    enter user namespace\n",
      " -S, --setuid <uid>     set uid in entered namespace\n",
      " -G, --setgid <gid>     set gid in entered namespace\n",
      "     --preserve-credentials do not touch uids or gids\n",
      " -r, --root[=<dir>]     set the root directory\n",
      " -w, --wd[=<dir>]       set the working directory\n",
      " -F, --no-fork          do not fork before exec'ing <program>\n",
      " -Z, --follow-context   set SELinux context according to --target PID\n",
      "\n",
      " -h, --help             display this help\n",
      " -V, --version          display version\n",
      "\n",
      "For more details see nsenter(1).\n"
     ]
    }
   ],
   "source": [
    "nsenter --help"
   ]
  },
  {
   "cell_type": "code",
   "execution_count": 5,
   "id": "26a6948e",
   "metadata": {},
   "outputs": [
    {
     "name": "stdout",
     "output_type": "stream",
     "text": [
      "1: lo: <LOOPBACK,UP,LOWER_UP> mtu 65536 qdisc noqueue state UNKNOWN group default qlen 1000\n",
      "    link/loopback 00:00:00:00:00:00 brd 00:00:00:00:00:00\n",
      "    inet 127.0.0.1/8 scope host lo\n",
      "       valid_lft forever preferred_lft forever\n",
      "5: eth0@if6: <BROADCAST,MULTICAST,UP,LOWER_UP> mtu 1500 qdisc noqueue state UP group default \n",
      "    link/ether 02:42:ac:11:00:03 brd ff:ff:ff:ff:ff:ff link-netnsid 0\n",
      "    inet 172.17.0.3/16 brd 172.17.255.255 scope global eth0\n",
      "       valid_lft forever preferred_lft forever\n"
     ]
    }
   ],
   "source": [
    "nsenter -t $STATE_PID -n ip a"
   ]
  },
  {
   "cell_type": "code",
   "execution_count": 6,
   "id": "274aad3c",
   "metadata": {},
   "outputs": [
    {
     "name": "stdout",
     "output_type": "stream",
     "text": [
      "1: lo: <LOOPBACK,UP,LOWER_UP> mtu 65536 qdisc noqueue state UNKNOWN group default qlen 1000\n",
      "    link/loopback 00:00:00:00:00:00 brd 00:00:00:00:00:00\n",
      "    inet 127.0.0.1/8 scope host lo\n",
      "       valid_lft forever preferred_lft forever\n",
      "2: docker0: <BROADCAST,MULTICAST,UP,LOWER_UP> mtu 1500 qdisc noqueue state UP group default \n",
      "    link/ether 02:42:11:8d:eb:29 brd ff:ff:ff:ff:ff:ff\n",
      "    inet 172.17.0.1/16 brd 172.17.255.255 scope global docker0\n",
      "       valid_lft forever preferred_lft forever\n",
      "4: vetha7dd9b9@if3: <BROADCAST,MULTICAST,UP,LOWER_UP> mtu 1500 qdisc noqueue master docker0 state UP group default \n",
      "    link/ether 46:50:36:75:89:d2 brd ff:ff:ff:ff:ff:ff link-netnsid 1\n",
      "6: vethff9f8d5@if5: <BROADCAST,MULTICAST,UP,LOWER_UP> mtu 1500 qdisc noqueue master docker0 state UP group default \n",
      "    link/ether 92:9a:3f:b8:2d:62 brd ff:ff:ff:ff:ff:ff link-netnsid 2\n",
      "8: veth4aa3c4f@if7: <BROADCAST,MULTICAST,UP,LOWER_UP> mtu 1500 qdisc noqueue master docker0 state UP group default \n",
      "    link/ether a2:5b:09:52:d1:63 brd ff:ff:ff:ff:ff:ff link-netnsid 3\n",
      "10: veth6f69a0c@if9: <BROADCAST,MULTICAST,UP,LOWER_UP> mtu 1500 qdisc noqueue master docker0 state UP group default \n",
      "    link/ether 42:e1:94:1a:74:fe brd ff:ff:ff:ff:ff:ff link-netnsid 4\n",
      "12: veth553f345@if11: <BROADCAST,MULTICAST,UP,LOWER_UP> mtu 1500 qdisc noqueue master docker0 state UP group default \n",
      "    link/ether 66:68:55:1e:8c:13 brd ff:ff:ff:ff:ff:ff link-netnsid 5\n",
      "110: eth0@if111: <BROADCAST,MULTICAST,UP,LOWER_UP> mtu 1500 qdisc noqueue state UP group default \n",
      "    link/ether 02:42:c0:a8:31:02 brd ff:ff:ff:ff:ff:ff link-netnsid 0\n",
      "    inet 192.168.49.2/24 brd 192.168.49.255 scope global eth0\n",
      "       valid_lft forever preferred_lft forever\n"
     ]
    }
   ],
   "source": [
    "ip a"
   ]
  },
  {
   "cell_type": "markdown",
   "id": "a24b6735",
   "metadata": {},
   "source": [
    " # Danger!\n",
    " \n",
    " OpenVpn works and could be used as backdoor"
   ]
  },
  {
   "cell_type": "code",
   "execution_count": 7,
   "id": "ca9c6770",
   "metadata": {},
   "outputs": [
    {
     "name": "stdout",
     "output_type": "stream",
     "text": [
      "nsenter: failed to execute hostname: No such file or directory\n"
     ]
    },
    {
     "ename": "",
     "evalue": "127",
     "output_type": "error",
     "traceback": []
    }
   ],
   "source": [
    "nsenter -t $STATE_PID -a hostname"
   ]
  },
  {
   "cell_type": "code",
   "execution_count": 8,
   "id": "6302b06c",
   "metadata": {},
   "outputs": [
    {
     "name": "stdout",
     "output_type": "stream",
     "text": [
      "nsenter: failed to execute ip: No such file or directory\n"
     ]
    },
    {
     "ename": "",
     "evalue": "127",
     "output_type": "error",
     "traceback": []
    }
   ],
   "source": [
    "nsenter -t $STATE_PID -a ip a"
   ]
  },
  {
   "cell_type": "code",
   "execution_count": 9,
   "id": "5c33c5e7",
   "metadata": {},
   "outputs": [
    {
     "name": "stdout",
     "output_type": "stream",
     "text": [
      "default via 172.17.0.1 dev eth0 \n",
      "172.17.0.0/16 dev eth0 proto kernel scope link src 172.17.0.3 \n"
     ]
    }
   ],
   "source": [
    "nsenter -t $STATE_PID -n ip route"
   ]
  },
  {
   "cell_type": "code",
   "execution_count": 10,
   "id": "1fd324b0",
   "metadata": {},
   "outputs": [
    {
     "name": "stdout",
     "output_type": "stream",
     "text": [
      "default via 192.168.49.1 dev eth0 \n",
      "172.17.0.0/16 dev docker0 proto kernel scope link src 172.17.0.1 \n",
      "192.168.49.0/24 dev eth0 proto kernel scope link src 192.168.49.2 \n"
     ]
    }
   ],
   "source": [
    "ip route"
   ]
  },
  {
   "cell_type": "code",
   "execution_count": 14,
   "id": "4cf72f2c",
   "metadata": {},
   "outputs": [
    {
     "name": "stdout",
     "output_type": "stream",
     "text": [
      "bin   docker-entrypoint.d   home   media  proc\tsbin  tmp\n",
      "boot  docker-entrypoint.sh  lib    mnt\t  root\tsrv   usr\n",
      "dev   etc\t\t    lib64  opt\t  run\tsys   var\n"
     ]
    }
   ],
   "source": [
    "nsenter -t $STATE_PID -a ls"
   ]
  },
  {
   "cell_type": "code",
   "execution_count": 15,
   "id": "b8e6704d",
   "metadata": {},
   "outputs": [
    {
     "name": "stdout",
     "output_type": "stream",
     "text": [
      " AccountWithRBAC.ipynb       NetworkPolicy.ipynb\n",
      " AuditLogs.ipynb             OpenPolicyAgent.ipynb\n",
      " ClusterOverview.ipynb       Overview.ipynb\n",
      " ContainerdCloudbomb.ipynb   PodSecurityPolicyBasic.ipynb\n",
      " CrioBomb.ipynb              PodSecurityPolicyPermissive.ipynb\n",
      " Harbor.ipynb                PodSecurityPolicyStrict.ipynb\n",
      " Helm.ipynb                 'Postgres Zalando.ipynb'\n",
      " Ingress.ipynb               README.md\n",
      " IngressStart.ipynb          ServiceAccountToken.ipynb\n",
      " Istio-Traffic-Mgmt.ipynb    Unprivileged.ipynb\n",
      " Istio1.8.2.ipynb            default-rbac.png\n",
      " IstioHack.ipynb             defaut-rbac.dot\n",
      " Kube-Scan-Cloudbomb.ipynb   docker-hypervisor.png\n",
      " KubernetesBasics.ipynb      kube-bench.ipynb\n",
      " License.ipynb               minikube.dot\n",
      "'Linux Namespaces.ipynb'     my-namespace-rbac.dot\n",
      " Makefile                    namespaces.dot\n"
     ]
    }
   ],
   "source": [
    "ls"
   ]
  },
  {
   "cell_type": "code",
   "execution_count": 16,
   "id": "113a7457",
   "metadata": {},
   "outputs": [
    {
     "name": "stdout",
     "output_type": "stream",
     "text": [
      "nsenter: failed to execute ps: No such file or directory\n"
     ]
    },
    {
     "ename": "",
     "evalue": "127",
     "output_type": "error",
     "traceback": []
    }
   ],
   "source": [
    "nsenter -t $STATE_PID -a ps auxwww"
   ]
  },
  {
   "cell_type": "code",
   "execution_count": 17,
   "id": "c888b6a3",
   "metadata": {},
   "outputs": [
    {
     "name": "stdout",
     "output_type": "stream",
     "text": [
      "USER         PID %CPU %MEM    VSZ   RSS TTY      STAT START   TIME COMMAND\n",
      "root           1  0.0  0.0  22020 11624 ?        Ss   09:07   0:00 /sbin/init\n",
      "root         168  0.0  0.0  29076 12264 ?        S<s  09:07   0:00 /lib/systemd/systemd-journald\n",
      "message+     180  0.0  0.0   7008  3728 ?        Ss   09:07   0:00 /usr/bin/dbus-daemon --system --address=systemd: --nofork --nopidfile --systemd-activation --syslog-only\n",
      "root         186  0.2  0.0 2154852 52932 ?       Ssl  09:07   0:06 /usr/bin/containerd\n",
      "root         196  0.0  0.0  12184  7288 ?        Ss   09:07   0:00 sshd: /usr/sbin/sshd -D [listener] 0 of 10-100 startups\n",
      "root         218  0.3  0.1 337100 76436 ?        Ssl  09:07   0:09 /usr/bin/python3 /usr/local/bin/jupyter-lab --ip 192.168.49.2 --allow-root --log-level=INFO\n",
      "root         222  1.5  0.1 2424816 117316 ?      Ssl  09:07   0:45 /usr/bin/dockerd -H tcp://0.0.0.0:2376 -H unix:///var/run/docker.sock --default-ulimit=nofile=1048576:1048576 --tlsverify --tlscacert /etc/docker/ca.pem --tlscert /etc/docker/server.pem --tlskey /etc/docker/server-key.pem --label provider=docker --insecure-registry 10.96.0.0/12\n",
      "root         989  4.4  0.1 2740776 110980 ?      Ssl  09:07   2:09 /var/lib/minikube/binaries/v1.20.2/kubelet --bootstrap-kubeconfig=/etc/kubernetes/bootstrap-kubelet.conf --config=/var/lib/kubelet/config.yaml --container-runtime=docker --hostname-override=minikube --kubeconfig=/etc/kubernetes/kubelet.conf --node-ip=192.168.49.2\n",
      "root        1789  0.0  0.0 111716  7988 ?        Sl   09:07   0:00 /usr/bin/containerd-shim-runc-v2 -namespace moby -id 8beeb5fea3f811af8af1433b0d995735b9e7d8e7306c217c5e00cd2872d7bdab -address /run/containerd/containerd.sock\n",
      "root        1817  0.0  0.0 111972  7772 ?        Sl   09:07   0:00 /usr/bin/containerd-shim-runc-v2 -namespace moby -id 62f795b1ec541f6aff5c54adb8c5c124a5d462dbd6e23f3169ac4e007fab29e7 -address /run/containerd/containerd.sock\n",
      "root        1840  0.0  0.0 111972  8444 ?        Sl   09:07   0:00 /usr/bin/containerd-shim-runc-v2 -namespace moby -id 9d4795779b9457c471cdf7dd72340e8bb35871554d45a858eec6f62f63a8386d -address /run/containerd/containerd.sock\n",
      "root        1864  0.0  0.0 113380  8816 ?        Sl   09:07   0:00 /usr/bin/containerd-shim-runc-v2 -namespace moby -id 436149371cdc25567f8ad7b1ca1c6f07f19f2977055ebb77166334e1a94d3b9d -address /run/containerd/containerd.sock\n",
      "root        1896  0.0  0.0    972     4 ?        Ss   09:07   0:00 /pause\n",
      "root        1898  0.0  0.0    972     4 ?        Ss   09:07   0:00 /pause\n",
      "root        1910  0.0  0.0    972     4 ?        Ss   09:07   0:00 /pause\n",
      "root        1917  0.0  0.0    972     4 ?        Ss   09:07   0:00 /pause\n",
      "root        1997  0.0  0.0 113444  7864 ?        Sl   09:07   0:00 /usr/bin/containerd-shim-runc-v2 -namespace moby -id e8cad49baae84f9f8dec603c00841fc16291246b00116ca54d6178eaab9ee546 -address /run/containerd/containerd.sock\n",
      "root        2028  0.0  0.0 111972  7608 ?        Sl   09:07   0:00 /usr/bin/containerd-shim-runc-v2 -namespace moby -id 3cc1b2a464b20fb2f0170e012222595dc6be397dd8bc991bcb18750456eb5c97 -address /run/containerd/containerd.sock\n",
      "root        2039  0.0  0.0 113380  8240 ?        Sl   09:07   0:00 /usr/bin/containerd-shim-runc-v2 -namespace moby -id 7b297c602e69dcfa4a415b367b83c272e8f03d94f9ffca5a50eaada21eb9f71f -address /run/containerd/containerd.sock\n",
      "root        2078  0.0  0.0 113380  8108 ?        Sl   09:07   0:00 /usr/bin/containerd-shim-runc-v2 -namespace moby -id 4688e1bd1c7ab6e14fc364db66981d1f2f343379a4e9e8cb844054e8ad3c8b0a -address /run/containerd/containerd.sock\n",
      "root        2096  1.9  0.1 818704 109256 ?       Ssl  09:07   0:58 kube-controller-manager --allocate-node-cidrs=true --authentication-kubeconfig=/etc/kubernetes/controller-manager.conf --authorization-kubeconfig=/etc/kubernetes/controller-manager.conf --bind-address=127.0.0.1 --client-ca-file=/var/lib/minikube/certs/ca.crt --cluster-cidr=10.244.0.0/16 --cluster-name=mk --cluster-signing-cert-file=/var/lib/minikube/certs/ca.crt --cluster-signing-key-file=/var/lib/minikube/certs/ca.key --controllers=*,bootstrapsigner,tokencleaner --kubeconfig=/etc/kubernetes/controller-manager.conf --leader-elect=false --port=0 --requestheader-client-ca-file=/var/lib/minikube/certs/front-proxy-ca.crt --root-ca-file=/var/lib/minikube/certs/ca.crt --service-account-private-key-file=/var/lib/minikube/certs/sa.key --service-cluster-ip-range=10.96.0.0/12 --use-service-account-credentials=true\n",
      "root        2109  1.9  0.0 10615548 59356 ?      Ssl  09:07   0:57 etcd --advertise-client-urls=https://192.168.49.2:2379 --cert-file=/var/lib/minikube/certs/etcd/server.crt --client-cert-auth=true --data-dir=/var/lib/minikube/etcd --initial-advertise-peer-urls=https://192.168.49.2:2380 --initial-cluster=minikube=https://192.168.49.2:2380 --key-file=/var/lib/minikube/certs/etcd/server.key --listen-client-urls=https://127.0.0.1:2379,https://192.168.49.2:2379 --listen-metrics-urls=http://127.0.0.1:2381 --listen-peer-urls=https://192.168.49.2:2380 --name=minikube --peer-cert-file=/var/lib/minikube/certs/etcd/peer.crt --peer-client-cert-auth=true --peer-key-file=/var/lib/minikube/certs/etcd/peer.key --peer-trusted-ca-file=/var/lib/minikube/certs/etcd/ca.crt --proxy-refresh-interval=70000 --snapshot-count=10000 --trusted-ca-file=/var/lib/minikube/certs/etcd/ca.crt\n",
      "root        2116  6.5  0.5 1099792 349748 ?      Ssl  09:07   3:10 kube-apiserver --advertise-address=192.168.49.2 --allow-privileged=true --authorization-mode=Node,RBAC --client-ca-file=/var/lib/minikube/certs/ca.crt --enable-admission-plugins=NamespaceLifecycle,LimitRanger,ServiceAccount,DefaultStorageClass,DefaultTolerationSeconds,NodeRestriction,MutatingAdmissionWebhook,ValidatingAdmissionWebhook,ResourceQuota --enable-bootstrap-token-auth=true --etcd-cafile=/var/lib/minikube/certs/etcd/ca.crt --etcd-certfile=/var/lib/minikube/certs/apiserver-etcd-client.crt --etcd-keyfile=/var/lib/minikube/certs/apiserver-etcd-client.key --etcd-servers=https://127.0.0.1:2379 --insecure-port=0 --kubelet-client-certificate=/var/lib/minikube/certs/apiserver-kubelet-client.crt --kubelet-client-key=/var/lib/minikube/certs/apiserver-kubelet-client.key --kubelet-preferred-address-types=InternalIP,ExternalIP,Hostname --proxy-client-cert-file=/var/lib/minikube/certs/front-proxy-client.crt --proxy-client-key-file=/var/lib/minikube/certs/front-proxy-client.key --requestheader-allowed-names=front-proxy-client --requestheader-client-ca-file=/var/lib/minikube/certs/front-proxy-ca.crt --requestheader-extra-headers-prefix=X-Remote-Extra- --requestheader-group-headers=X-Remote-Group --requestheader-username-headers=X-Remote-User --secure-port=8443 --service-account-issuer=https://kubernetes.default.svc.cluster.local --service-account-key-file=/var/lib/minikube/certs/sa.pub --service-account-signing-key-file=/var/lib/minikube/certs/sa.key --service-cluster-ip-range=10.96.0.0/12 --tls-cert-file=/var/lib/minikube/certs/apiserver.crt --tls-private-key-file=/var/lib/minikube/certs/apiserver.key\n",
      "root        2133  0.2  0.0 749416 46428 ?        Ssl  09:07   0:08 kube-scheduler --authentication-kubeconfig=/etc/kubernetes/scheduler.conf --authorization-kubeconfig=/etc/kubernetes/scheduler.conf --bind-address=127.0.0.1 --kubeconfig=/etc/kubernetes/scheduler.conf --leader-elect=false --port=0\n",
      "root        2518  0.0  0.0 113380  8480 ?        Sl   09:07   0:00 /usr/bin/containerd-shim-runc-v2 -namespace moby -id ae598137a8a13d7adcd45ea6c1726c8f6598d6610b45b9bee8028c031624b450 -address /run/containerd/containerd.sock\n",
      "root        2528  0.0  0.0 113444  7404 ?        Sl   09:07   0:00 /usr/bin/containerd-shim-runc-v2 -namespace moby -id 4c7bd98aedb5cffb05e3ff22e4acef072eae7c1e2d0d925aea228554fe532755 -address /run/containerd/containerd.sock\n",
      "root        2570  0.0  0.0 113444  7944 ?        Sl   09:07   0:00 /usr/bin/containerd-shim-runc-v2 -namespace moby -id 8a779a41ef4b2a654e291c4fcc9b0af467cdd3a65cf27bacb171ca51bdcc793c -address /run/containerd/containerd.sock\n",
      "root        2571  0.0  0.0    972     4 ?        Ss   09:07   0:00 /pause\n",
      "root        2582  0.0  0.0    972     4 ?        Ss   09:07   0:00 /pause\n",
      "root        2617  0.0  0.0    972     4 ?        Ss   09:07   0:00 /pause\n",
      "root        2704  0.0  0.0 111716  7280 ?        Sl   09:07   0:00 /usr/bin/containerd-shim-runc-v2 -namespace moby -id c166b2b1d2865cd808517878f987375456632ad60025381daed69e88c7f4b4a4 -address /run/containerd/containerd.sock\n",
      "root        2734  0.0  0.0 746128 37872 ?        Ssl  09:07   0:00 /usr/local/bin/kube-proxy --config=/var/lib/kube-proxy/config.conf --hostname-override=minikube\n",
      "root        2813  0.0  0.0 111972  7960 ?        Sl   09:07   0:00 /usr/bin/containerd-shim-runc-v2 -namespace moby -id aba5061e5eeb19acbe16e405b4211896464ea3c40cd94cfb19f8dda12cee1687 -address /run/containerd/containerd.sock\n",
      "root        2838  0.3  0.0 749968 40900 ?        Ssl  09:07   0:10 /coredns -conf /etc/coredns/Corefile\n",
      "root        3268  0.0  0.0 111716  7260 ?        Sl   09:08   0:00 /usr/bin/containerd-shim-runc-v2 -namespace moby -id 4c0e8dcb5547b4ac4983037ef0888660cd73fc7e8fce55a26e322cbdd1170207 -address /run/containerd/containerd.sock\n",
      "root        3288  0.1  0.0 738288 28836 ?        Ssl  09:08   0:05 /storage-provisioner\n",
      "root        3746  0.0  0.0 465496 47104 ?        Ssl  09:10   0:00 /usr/bin/python3 -m bash_kernel -f /root/.local/share/jupyter/runtime/kernel-49a0176f-4def-4b47-b712-9fd959ef66bd.json\n",
      "root        3757  0.0  0.0   6000  3828 pts/1    Ss+  09:10   0:00 /usr/bin/bash --rcfile /usr/local/lib/python3.8/dist-packages/pexpect/bashrc.sh\n",
      "root        3958  0.0  0.0 465492 46708 ?        Ssl  09:11   0:00 /usr/bin/python3 -m bash_kernel -f /root/.local/share/jupyter/runtime/kernel-814c3822-23c9-42e4-8239-df66b68d02d3.json\n",
      "root        3967  0.0  0.0   6000  3692 pts/2    Ss+  09:11   0:00 /usr/bin/bash --rcfile /usr/local/lib/python3.8/dist-packages/pexpect/bashrc.sh\n",
      "root        4014  0.0  0.0 465492 46636 ?        Ssl  09:11   0:00 /usr/bin/python3 -m bash_kernel -f /root/.local/share/jupyter/runtime/kernel-43b6021f-0acc-4570-a84f-0a18fa22dcd7.json\n",
      "root        4023  0.0  0.0   6000  3832 pts/3    Ss+  09:11   0:00 /usr/bin/bash --rcfile /usr/local/lib/python3.8/dist-packages/pexpect/bashrc.sh\n",
      "root        4438  0.0  0.0 113444  7448 ?        Sl   09:12   0:00 /usr/bin/containerd-shim-runc-v2 -namespace moby -id 032d8ef380df1ea2300dd5bc51f2faffe17059f3561111ebf4c2c2ac2b5e2dfe -address /run/containerd/containerd.sock\n",
      "root        4451  0.0  0.0 113380  8092 ?        Sl   09:12   0:00 /usr/bin/containerd-shim-runc-v2 -namespace moby -id 792d59f591bafef4a11956f4b595d86ae5b6652a263d031db31b198cf3a7862f -address /run/containerd/containerd.sock\n",
      "root        4486  0.0  0.0    972     4 ?        Ss   09:12   0:00 /pause\n",
      "root        4487  0.0  0.0    972     4 ?        Ss   09:12   0:00 /pause\n",
      "root        4820  0.0  0.0 111972  7236 ?        Sl   09:13   0:00 /usr/bin/containerd-shim-runc-v2 -namespace moby -id 0634591360c48a60a4fc5623ac71cc7996062f4d7b5d531dfd2591f5230d7b3b -address /run/containerd/containerd.sock\n",
      "root        4840  0.0  0.0  10656  6140 ?        Ss   09:13   0:00 nginx: master process nginx -g daemon off;\n",
      "_rpc        4881  0.0  0.0  11064  2736 ?        S    09:13   0:00 nginx: worker process\n",
      "root        4911  0.0  0.0 113380  7680 ?        Sl   09:13   0:00 /usr/bin/containerd-shim-runc-v2 -namespace moby -id 193f7d2f5f9be401ccdad23917c298d3a505eae5be95dca9068c7aba1fcfed48 -address /run/containerd/containerd.sock\n",
      "root        4932  0.0  0.0  10656  6040 ?        Ss   09:13   0:00 nginx: master process nginx -g daemon off;\n",
      "_rpc        4971  0.0  0.0  11064  2576 ?        S    09:13   0:00 nginx: worker process\n",
      "root        5433  0.0  0.0   6924  4924 pts/5    Ss+  09:14   0:00 /bin/bash -l\n",
      "root        5691  0.0  0.0  12296  7612 ?        Ss   09:16   0:00 sshd: docker [priv]\n",
      "docker      5693  0.0  0.0  12296  4844 ?        S    09:16   0:00 sshd: docker@notty\n",
      "root        8198  0.0  0.0 465492 46752 ?        Ssl  09:26   0:00 /usr/bin/python3 -m bash_kernel -f /root/.local/share/jupyter/runtime/kernel-3a42d0a8-f5b1-47ea-b932-27aa91ef2178.json\n",
      "root        8207  0.0  0.0   6000  3748 pts/6    Ss+  09:26   0:00 /usr/bin/bash --rcfile /usr/local/lib/python3.8/dist-packages/pexpect/bashrc.sh\n",
      "root        8306  0.0  0.0  12296  7480 ?        Ss   09:26   0:00 sshd: docker [priv]\n",
      "docker      8308  0.0  0.0  12296  4952 ?        S    09:26   0:00 sshd: docker@notty\n",
      "root        8336  0.0  0.0  12296  7652 ?        Ss   09:26   0:00 sshd: docker [priv]\n",
      "docker      8338  0.0  0.0  12296  4880 ?        S    09:26   0:00 sshd: docker@notty\n",
      "root        8466  0.0  0.0 113380  6372 ?        Sl   09:26   0:00 /usr/bin/containerd-shim-runc-v2 -namespace moby -id b70831264217909f2686b74f09b9d8270e4400735f68facfc678965e21e51682 -address /run/containerd/containerd.sock\n",
      "root        8485  0.0  0.0    972     4 ?        Ss   09:26   0:00 /pause\n",
      "root        8503  0.0  0.0 112036  7520 ?        Sl   09:26   0:00 /usr/bin/containerd-shim-runc-v2 -namespace moby -id 14d3c766e0d6c32f983954ed6c2c88835c0f0ab4582be02a1437da4eb4e3e749 -address /run/containerd/containerd.sock\n",
      "root        8531  0.0  0.0    972     4 ?        Ss   09:26   0:00 /pause\n",
      "root        8619  0.0  0.0 111972  7780 ?        Sl   09:26   0:00 /usr/bin/containerd-shim-runc-v2 -namespace moby -id a916f22652dfcc9e832e4e86673e2ae0fae2a3cf1f84bfa88e6a3dcf2586a141 -address /run/containerd/containerd.sock\n",
      "1001        8640  0.0  0.0 741140 50304 ?        Ssl  09:26   0:01 /dashboard --insecure-bind-address=0.0.0.0 --bind-address=0.0.0.0 --namespace=kubernetes-dashboard --enable-skip-login --disable-settings-authorizer\n",
      "root        8656  0.0  0.0 113124  7716 ?        Sl   09:26   0:00 /usr/bin/containerd-shim-runc-v2 -namespace moby -id 012ab723246931c5ab1c6a8fb2246ca6bbf8628e516e2d96d38a07ab9cedae3c -address /run/containerd/containerd.sock\n",
      "1001        8696  0.0  0.0 712324 19468 ?        Ssl  09:26   0:00 /metrics-sidecar\n",
      "root       12020  0.0  0.0 465492 46876 ?        Ssl  09:41   0:00 /usr/bin/python3 -m bash_kernel -f /root/.local/share/jupyter/runtime/kernel-02223ec8-3068-46a1-851b-4bbc99abdec2.json\n",
      "root       12029  0.0  0.0   6000  3940 pts/4    Ss+  09:41   0:00 /usr/bin/bash --rcfile /usr/local/lib/python3.8/dist-packages/pexpect/bashrc.sh\n",
      "root       13869  0.1  0.0 465492 46908 ?        Rsl  09:48   0:00 /usr/bin/python3 -m bash_kernel -f /root/.local/share/jupyter/runtime/kernel-856a62b4-38a3-44ea-9c77-74299b48f754.json\n",
      "root       13878  0.0  0.0   6000  3964 pts/7    Ss   09:48   0:00 /usr/bin/bash --rcfile /usr/local/lib/python3.8/dist-packages/pexpect/bashrc.sh\n",
      "root       15604  0.0  0.0   7656  3176 pts/7    R+   09:56   0:00 ps auxww\n"
     ]
    }
   ],
   "source": [
    "ps auxww"
   ]
  },
  {
   "cell_type": "code",
   "execution_count": 19,
   "id": "bfeac698",
   "metadata": {},
   "outputs": [
    {
     "name": "stdout",
     "output_type": "stream",
     "text": [
      "nsenter: cannot open m: No such file or directory\n"
     ]
    },
    {
     "ename": "",
     "evalue": "1",
     "output_type": "error",
     "traceback": []
    }
   ],
   "source": [
    "nsenter -t $STATE_PID -pm ps auxwww"
   ]
  },
  {
   "cell_type": "code",
   "execution_count": null,
   "id": "5a0cda0d-a933-4a95-a2f4-e588eb2a339e",
   "metadata": {},
   "outputs": [],
   "source": []
  }
 ],
 "metadata": {
  "kernelspec": {
   "display_name": "Bash",
   "language": "bash",
   "name": "bash"
  },
  "language_info": {
   "codemirror_mode": "shell",
   "file_extension": ".sh",
   "mimetype": "text/x-sh",
   "name": "bash"
  }
 },
 "nbformat": 4,
 "nbformat_minor": 5
}
