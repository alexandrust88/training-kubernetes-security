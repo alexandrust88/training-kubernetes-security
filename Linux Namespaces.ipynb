{
 "cells": [
  {
   "cell_type": "markdown",
   "id": "1b161567",
   "metadata": {},
   "source": [
    "**This notebook covered by the following [license](License.ipynb)  This note must not be removed**"
   ]
  },
  {
   "cell_type": "markdown",
   "id": "57cd78e0",
   "metadata": {},
   "source": [
    "# Linux namespaces\n",
    "\n",
    "![Namespaces](namespaces.png)"
   ]
  },
  {
   "cell_type": "markdown",
   "id": "34a3f342",
   "metadata": {},
   "source": [
    "![container vs hypervisor](docker-hypervisor.png)"
   ]
  },
  {
   "cell_type": "code",
   "execution_count": 1,
   "id": "9ab9f74c",
   "metadata": {},
   "outputs": [
    {
     "name": "stdout",
     "output_type": "stream",
     "text": [
      "CONTAINER ID   IMAGE                  COMMAND                  CREATED         STATUS         PORTS     NAMES\n",
      "658daf1a9ae5   nginx                  \"/docker-entrypoint.…\"   2 minutes ago   Up 2 minutes             k8s_my-nginx_my-nginx-5b56ccd65f-5tbgs_default_1ad19392-eb5c-4df9-aa54-efd0ecfe0e2c_0\n",
      "18ea1f6cc811   k8s.gcr.io/pause:3.5   \"/pause\"                 2 minutes ago   Up 2 minutes             k8s_POD_my-nginx-5b56ccd65f-5tbgs_default_1ad19392-eb5c-4df9-aa54-efd0ecfe0e2c_0\n",
      "095296be488c   nginx                  \"/docker-entrypoint.…\"   2 hours ago     Up 2 hours               k8s_my-nginx_my-nginx-5b56ccd65f-lrbr4_default_36d53d62-dccb-45ac-8f0d-6f850d92d8b1_0\n",
      "fdac76cbe36e   nginx                  \"/docker-entrypoint.…\"   2 hours ago     Up 2 hours               k8s_my-nginx_my-nginx-5b56ccd65f-nxbdq_default_f99944db-1790-473b-995c-7faad2371330_0\n",
      "4dd8cd66fc29   k8s.gcr.io/pause:3.5   \"/pause\"                 2 hours ago     Up 2 hours               k8s_POD_my-nginx-5b56ccd65f-lrbr4_default_36d53d62-dccb-45ac-8f0d-6f850d92d8b1_0\n",
      "72b88b969927   k8s.gcr.io/pause:3.5   \"/pause\"                 2 hours ago     Up 2 hours               k8s_POD_my-nginx-5b56ccd65f-nxbdq_default_f99944db-1790-473b-995c-7faad2371330_0\n",
      "541f17256823   nginx                  \"/docker-entrypoint.…\"   2 hours ago     Up 2 hours               k8s_my-nginx_my-nginx-5b56ccd65f-p5k7h_default_82824efe-4f1f-467b-b7ac-7760c13ed975_0\n",
      "3cbdff544574   nginx                  \"/docker-entrypoint.…\"   2 hours ago     Up 2 hours               k8s_my-nginx_my-nginx-5b56ccd65f-7br4l_default_f4111fec-0eec-4f10-a7b1-4eac5b3fe097_0\n",
      "d9b11f066ead   k8s.gcr.io/pause:3.5   \"/pause\"                 2 hours ago     Up 2 hours               k8s_POD_my-nginx-5b56ccd65f-p5k7h_default_82824efe-4f1f-467b-b7ac-7760c13ed975_0\n",
      "7ec2fc206a02   k8s.gcr.io/pause:3.5   \"/pause\"                 2 hours ago     Up 2 hours               k8s_POD_my-nginx-5b56ccd65f-7br4l_default_f4111fec-0eec-4f10-a7b1-4eac5b3fe097_0\n",
      "1fb0d76607ed   6e38f40d628d           \"/storage-provisioner\"   3 hours ago     Up 3 hours               k8s_storage-provisioner_storage-provisioner_kube-system_1548213e-8614-4868-9539-a40b74c08da1_1\n",
      "81a08a52422b   8d147537fb7d           \"/coredns -conf /etc…\"   3 hours ago     Up 3 hours               k8s_coredns_coredns-78fcd69978-s857g_kube-system_c191726f-a18e-4125-b31d-80a077b6b818_0\n",
      "1b599e2e0cab   873127efbc8a           \"/usr/local/bin/kube…\"   3 hours ago     Up 3 hours               k8s_kube-proxy_kube-proxy-phdq2_kube-system_c55fa940-60a4-44ba-aa8f-6f25fd7a96a6_0\n",
      "864fcf10b213   k8s.gcr.io/pause:3.5   \"/pause\"                 3 hours ago     Up 3 hours               k8s_POD_coredns-78fcd69978-s857g_kube-system_c191726f-a18e-4125-b31d-80a077b6b818_0\n",
      "a6fd5b0e7715   k8s.gcr.io/pause:3.5   \"/pause\"                 3 hours ago     Up 3 hours               k8s_POD_kube-proxy-phdq2_kube-system_c55fa940-60a4-44ba-aa8f-6f25fd7a96a6_0\n",
      "ae90af1b3a7f   k8s.gcr.io/pause:3.5   \"/pause\"                 3 hours ago     Up 3 hours               k8s_POD_storage-provisioner_kube-system_1548213e-8614-4868-9539-a40b74c08da1_0\n",
      "2a888a4c34c5   e64579b7d886           \"kube-apiserver --ad…\"   3 hours ago     Up 3 hours               k8s_kube-apiserver_kube-apiserver-minikube_kube-system_fe49842e48a1ca6bac988e8ba88ecc53_0\n",
      "f2ad37b3f3aa   b51ddc1014b0           \"kube-scheduler --au…\"   3 hours ago     Up 3 hours               k8s_kube-scheduler_kube-scheduler-minikube_kube-system_97bca4cd66281ad2157a6a68956c4fa5_0\n",
      "5bc81e79c0ef   004811815584           \"etcd --advertise-cl…\"   3 hours ago     Up 3 hours               k8s_etcd_etcd-minikube_kube-system_08a3871e1baa241b73e5af01a6d01393_0\n",
      "b7ea1feba115   5425bcbd23c5           \"kube-controller-man…\"   3 hours ago     Up 3 hours               k8s_kube-controller-manager_kube-controller-manager-minikube_kube-system_4787f37e041fd890d5499a8863561e5f_0\n",
      "5dc91f905ddd   k8s.gcr.io/pause:3.5   \"/pause\"                 3 hours ago     Up 3 hours               k8s_POD_kube-scheduler-minikube_kube-system_97bca4cd66281ad2157a6a68956c4fa5_0\n",
      "8ab516537c3a   k8s.gcr.io/pause:3.5   \"/pause\"                 3 hours ago     Up 3 hours               k8s_POD_kube-controller-manager-minikube_kube-system_4787f37e041fd890d5499a8863561e5f_0\n",
      "4b8397fb631b   k8s.gcr.io/pause:3.5   \"/pause\"                 3 hours ago     Up 3 hours               k8s_POD_kube-apiserver-minikube_kube-system_fe49842e48a1ca6bac988e8ba88ecc53_0\n",
      "1d4a5075e31b   k8s.gcr.io/pause:3.5   \"/pause\"                 3 hours ago     Up 3 hours               k8s_POD_etcd-minikube_kube-system_08a3871e1baa241b73e5af01a6d01393_0\n"
     ]
    }
   ],
   "source": [
    "docker ps"
   ]
  },
  {
   "cell_type": "code",
   "execution_count": 2,
   "id": "152279a1",
   "metadata": {},
   "outputs": [
    {
     "name": "stdout",
     "output_type": "stream",
     "text": [
      "CONTAINER           IMAGE                                                                           CREATED             STATE               NAME                      ATTEMPT             POD ID\n",
      "658daf1a9ae5c       nginx@sha256:9522864dd661dcadfd9958f9e0de192a1fdda2c162a35668ab6ac42b465f0603   2 minutes ago       Running             my-nginx                  0                   18ea1f6cc8119\n",
      "095296be488cc       nginx@sha256:9522864dd661dcadfd9958f9e0de192a1fdda2c162a35668ab6ac42b465f0603   2 hours ago         Running             my-nginx                  0                   4dd8cd66fc293\n",
      "fdac76cbe36e6       nginx@sha256:9522864dd661dcadfd9958f9e0de192a1fdda2c162a35668ab6ac42b465f0603   2 hours ago         Running             my-nginx                  0                   72b88b9699279\n",
      "541f172568236       nginx@sha256:9522864dd661dcadfd9958f9e0de192a1fdda2c162a35668ab6ac42b465f0603   2 hours ago         Running             my-nginx                  0                   d9b11f066ead0\n",
      "3cbdff5445745       nginx@sha256:9522864dd661dcadfd9958f9e0de192a1fdda2c162a35668ab6ac42b465f0603   2 hours ago         Running             my-nginx                  0                   7ec2fc206a022\n",
      "1fb0d76607ed1       6e38f40d628db                                                                   3 hours ago         Running             storage-provisioner       1                   ae90af1b3a7f6\n",
      "81a08a52422bf       8d147537fb7d1                                                                   3 hours ago         Running             coredns                   0                   864fcf10b213d\n",
      "1b599e2e0cabf       873127efbc8a7                                                                   3 hours ago         Running             kube-proxy                0                   a6fd5b0e7715e\n",
      "2a888a4c34c5d       e64579b7d8862                                                                   3 hours ago         Running             kube-apiserver            0                   4b8397fb631b7\n",
      "f2ad37b3f3aaa       b51ddc1014b04                                                                   3 hours ago         Running             kube-scheduler            0                   5dc91f905ddd5\n",
      "5bc81e79c0ef1       0048118155842                                                                   3 hours ago         Running             etcd                      0                   1d4a5075e31bf\n",
      "b7ea1feba115a       5425bcbd23c54                                                                   3 hours ago         Running             kube-controller-manager   0                   8ab516537c3a3\n"
     ]
    }
   ],
   "source": [
    "crictl ps"
   ]
  },
  {
   "cell_type": "code",
   "execution_count": null,
   "id": "eef0573d-a628-4411-a20c-d4e437740309",
   "metadata": {},
   "outputs": [],
   "source": [
    "kubectl create deployment nginx --image=nginx"
   ]
  },
  {
   "cell_type": "code",
   "execution_count": 3,
   "id": "403c0864-6985-4e38-9bc3-2417eac4206d",
   "metadata": {},
   "outputs": [
    {
     "name": "stdout",
     "output_type": "stream",
     "text": [
      "NAME                            READY   STATUS    RESTARTS   AGE\n",
      "pod/my-nginx-5b56ccd65f-5tbgs   1/1     Running   0          3m11s\n",
      "pod/my-nginx-5b56ccd65f-7br4l   1/1     Running   0          143m\n",
      "pod/my-nginx-5b56ccd65f-lrbr4   1/1     Running   0          126m\n",
      "pod/my-nginx-5b56ccd65f-nxbdq   1/1     Running   0          126m\n",
      "pod/my-nginx-5b56ccd65f-p5k7h   1/1     Running   0          143m\n",
      "\n",
      "NAME                 TYPE           CLUSTER-IP       EXTERNAL-IP      PORT(S)        AGE\n",
      "service/kubernetes   ClusterIP      10.96.0.1        <none>           443/TCP        164m\n",
      "service/my-nginx     LoadBalancer   10.105.208.150   10.105.208.150   80:32335/TCP   143m\n",
      "\n",
      "NAME                       READY   UP-TO-DATE   AVAILABLE   AGE\n",
      "deployment.apps/my-nginx   5/5     5            5           143m\n",
      "\n",
      "NAME                                  DESIRED   CURRENT   READY   AGE\n",
      "replicaset.apps/my-nginx-5b56ccd65f   5         5         5       143m\n"
     ]
    }
   ],
   "source": [
    "kubectl get all"
   ]
  },
  {
   "cell_type": "code",
   "execution_count": 4,
   "id": "b94b3c7f",
   "metadata": {},
   "outputs": [],
   "source": [
    "POD=k8s_my-nginx_my-nginx-5b56ccd65f-5tbgs_default_1ad19392-eb5c-4df9-aa54-efd0ecfe0e2c_0"
   ]
  },
  {
   "cell_type": "code",
   "execution_count": 5,
   "id": "71347b3c",
   "metadata": {},
   "outputs": [
    {
     "name": "stdout",
     "output_type": "stream",
     "text": [
      "Enter\n",
      "nsenter -t 42132 -n bash\n",
      "in a terminal\n"
     ]
    }
   ],
   "source": [
    "STATE_PID=$(docker inspect --format '{{.State.Pid}}' $POD)\n",
    "echo Enter\n",
    "echo nsenter -t $STATE_PID -n bash\n",
    "echo in a terminal  "
   ]
  },
  {
   "cell_type": "code",
   "execution_count": 6,
   "id": "8fc8e4f1",
   "metadata": {},
   "outputs": [
    {
     "name": "stdout",
     "output_type": "stream",
     "text": [
      "\n",
      "Usage:\n",
      " nsenter [options] [<program> [<argument>...]]\n",
      "\n",
      "Run a program with namespaces of other processes.\n",
      "\n",
      "Options:\n",
      " -a, --all              enter all namespaces\n",
      " -t, --target <pid>     target process to get namespaces from\n",
      " -m, --mount[=<file>]   enter mount namespace\n",
      " -u, --uts[=<file>]     enter UTS namespace (hostname etc)\n",
      " -i, --ipc[=<file>]     enter System V IPC namespace\n",
      " -n, --net[=<file>]     enter network namespace\n",
      " -p, --pid[=<file>]     enter pid namespace\n",
      " -C, --cgroup[=<file>]  enter cgroup namespace\n",
      " -U, --user[=<file>]    enter user namespace\n",
      " -S, --setuid <uid>     set uid in entered namespace\n",
      " -G, --setgid <gid>     set gid in entered namespace\n",
      "     --preserve-credentials do not touch uids or gids\n",
      " -r, --root[=<dir>]     set the root directory\n",
      " -w, --wd[=<dir>]       set the working directory\n",
      " -F, --no-fork          do not fork before exec'ing <program>\n",
      " -Z, --follow-context   set SELinux context according to --target PID\n",
      "\n",
      " -h, --help             display this help\n",
      " -V, --version          display version\n",
      "\n",
      "For more details see nsenter(1).\n"
     ]
    }
   ],
   "source": [
    "nsenter --help"
   ]
  },
  {
   "cell_type": "code",
   "execution_count": 7,
   "id": "26a6948e",
   "metadata": {},
   "outputs": [
    {
     "name": "stdout",
     "output_type": "stream",
     "text": [
      "1: lo: <LOOPBACK,UP,LOWER_UP> mtu 65536 qdisc noqueue state UNKNOWN group default qlen 1000\n",
      "    link/loopback 00:00:00:00:00:00 brd 00:00:00:00:00:00\n",
      "    inet 127.0.0.1/8 scope host lo\n",
      "       valid_lft forever preferred_lft forever\n",
      "2: tunl0@NONE: <NOARP> mtu 1480 qdisc noop state DOWN group default qlen 1000\n",
      "    link/ipip 0.0.0.0 brd 0.0.0.0\n",
      "18: eth0@if19: <BROADCAST,MULTICAST,UP,LOWER_UP> mtu 1500 qdisc noqueue state UP group default \n",
      "    link/ether 02:42:ac:11:00:06 brd ff:ff:ff:ff:ff:ff link-netnsid 0\n",
      "    inet 172.17.0.6/16 brd 172.17.255.255 scope global eth0\n",
      "       valid_lft forever preferred_lft forever\n"
     ]
    }
   ],
   "source": [
    "nsenter -t $STATE_PID -n ip a"
   ]
  },
  {
   "cell_type": "code",
   "execution_count": 8,
   "id": "274aad3c",
   "metadata": {},
   "outputs": [
    {
     "name": "stdout",
     "output_type": "stream",
     "text": [
      "1: lo: <LOOPBACK,UP,LOWER_UP> mtu 65536 qdisc noqueue state UNKNOWN group default qlen 1000\n",
      "    link/loopback 00:00:00:00:00:00 brd 00:00:00:00:00:00\n",
      "    inet 127.0.0.1/8 scope host lo\n",
      "       valid_lft forever preferred_lft forever\n",
      "2: tunl0@NONE: <NOARP> mtu 1480 qdisc noop state DOWN group default qlen 1000\n",
      "    link/ipip 0.0.0.0 brd 0.0.0.0\n",
      "3: docker0: <BROADCAST,MULTICAST,UP,LOWER_UP> mtu 1500 qdisc noqueue state UP group default \n",
      "    link/ether 02:42:89:7f:62:b9 brd ff:ff:ff:ff:ff:ff\n",
      "    inet 172.17.0.1/16 brd 172.17.255.255 scope global docker0\n",
      "       valid_lft forever preferred_lft forever\n",
      "5: vethaf24f96@if4: <BROADCAST,MULTICAST,UP,LOWER_UP> mtu 1500 qdisc noqueue master docker0 state UP group default \n",
      "    link/ether 3a:96:c6:33:10:e4 brd ff:ff:ff:ff:ff:ff link-netnsid 1\n",
      "7: vethba082f8@if6: <BROADCAST,MULTICAST,UP,LOWER_UP> mtu 1500 qdisc noqueue master docker0 state UP group default \n",
      "    link/ether 7a:91:42:3e:5c:e6 brd ff:ff:ff:ff:ff:ff link-netnsid 2\n",
      "9: vethf624b45@if8: <BROADCAST,MULTICAST,UP,LOWER_UP> mtu 1500 qdisc noqueue master docker0 state UP group default \n",
      "    link/ether b2:ec:64:3a:0c:38 brd ff:ff:ff:ff:ff:ff link-netnsid 3\n",
      "11: veth62c1a71@if10: <BROADCAST,MULTICAST,UP,LOWER_UP> mtu 1500 qdisc noqueue master docker0 state UP group default \n",
      "    link/ether e6:a4:c3:8e:83:6c brd ff:ff:ff:ff:ff:ff link-netnsid 4\n",
      "15: vethf57ffa9@if14: <BROADCAST,MULTICAST,UP,LOWER_UP> mtu 1500 qdisc noqueue master docker0 state UP group default \n",
      "    link/ether c2:9c:fa:91:e7:88 brd ff:ff:ff:ff:ff:ff link-netnsid 5\n",
      "19: veth3bbcd31@if18: <BROADCAST,MULTICAST,UP,LOWER_UP> mtu 1500 qdisc noqueue master docker0 state UP group default \n",
      "    link/ether 3a:fa:5e:92:36:d6 brd ff:ff:ff:ff:ff:ff link-netnsid 6\n",
      "109: eth0@if110: <BROADCAST,MULTICAST,UP,LOWER_UP> mtu 1500 qdisc noqueue state UP group default \n",
      "    link/ether 02:42:c0:a8:31:02 brd ff:ff:ff:ff:ff:ff link-netnsid 0\n",
      "    inet 192.168.49.2/24 brd 192.168.49.255 scope global eth0\n",
      "       valid_lft forever preferred_lft forever\n"
     ]
    }
   ],
   "source": [
    "ip a"
   ]
  },
  {
   "cell_type": "markdown",
   "id": "a24b6735",
   "metadata": {},
   "source": [
    " # Danger!\n",
    " \n",
    " OpenVpn works and could be used as backdoor"
   ]
  },
  {
   "cell_type": "code",
   "execution_count": 9,
   "id": "ca9c6770",
   "metadata": {},
   "outputs": [
    {
     "name": "stdout",
     "output_type": "stream",
     "text": [
      "my-nginx-5b56ccd65f-5tbgs\n"
     ]
    }
   ],
   "source": [
    "nsenter -t $STATE_PID -a hostname"
   ]
  },
  {
   "cell_type": "code",
   "execution_count": 10,
   "id": "6302b06c",
   "metadata": {},
   "outputs": [
    {
     "name": "stdout",
     "output_type": "stream",
     "text": [
      "nsenter: failed to execute ip: No such file or directory\n"
     ]
    },
    {
     "ename": "",
     "evalue": "127",
     "output_type": "error",
     "traceback": []
    }
   ],
   "source": [
    "nsenter -t $STATE_PID -a ip a"
   ]
  },
  {
   "cell_type": "code",
   "execution_count": 11,
   "id": "5c33c5e7",
   "metadata": {},
   "outputs": [
    {
     "name": "stdout",
     "output_type": "stream",
     "text": [
      "default via 172.17.0.1 dev eth0 \n",
      "172.17.0.0/16 dev eth0 proto kernel scope link src 172.17.0.6 \n"
     ]
    }
   ],
   "source": [
    "nsenter -t $STATE_PID -n ip route"
   ]
  },
  {
   "cell_type": "code",
   "execution_count": 12,
   "id": "1fd324b0",
   "metadata": {},
   "outputs": [
    {
     "name": "stdout",
     "output_type": "stream",
     "text": [
      "default via 192.168.49.1 dev eth0 \n",
      "172.17.0.0/16 dev docker0 proto kernel scope link src 172.17.0.1 \n",
      "192.168.49.0/24 dev eth0 proto kernel scope link src 192.168.49.2 \n"
     ]
    }
   ],
   "source": [
    "ip route"
   ]
  },
  {
   "cell_type": "code",
   "execution_count": 13,
   "id": "4cf72f2c",
   "metadata": {},
   "outputs": [
    {
     "name": "stdout",
     "output_type": "stream",
     "text": [
      "bin   docker-entrypoint.d   home   media  proc\tsbin  tmp\n",
      "boot  docker-entrypoint.sh  lib    mnt\t  root\tsrv   usr\n",
      "dev   etc\t\t    lib64  opt\t  run\tsys   var\n"
     ]
    }
   ],
   "source": [
    "nsenter -t $STATE_PID -a ls"
   ]
  },
  {
   "cell_type": "code",
   "execution_count": 14,
   "id": "b8e6704d",
   "metadata": {},
   "outputs": [
    {
     "name": "stdout",
     "output_type": "stream",
     "text": [
      " AccountWithRBAC.ipynb          PodSecurityPolicyPermissive.ipynb\n",
      " AuditLogs.ipynb                PodSecurityPolicyStrict.ipynb\n",
      " Calico-Iptables.ipynb         'Postgres Zalando.ipynb'\n",
      " ClusterOverview.ipynb          README.md\n",
      " ContainerdCloudbomb.ipynb      ServiceAccountToken.ipynb\n",
      " CouchDB.ipynb                  Unprivileged.ipynb\n",
      " CrioBomb.ipynb                 Untitled.ipynb\n",
      " Harbor.ipynb                   audit-policy.yaml\n",
      " Helm.ipynb                     cloudbomb\n",
      " Ingress.ipynb                  default-rbac.png\n",
      " IngressKong.ipynb              defaut-rbac.dot\n",
      " IngressKongStart.ipynb         docker-hypervisor.png\n",
      " IngressStart.ipynb             istio-1.12.0\n",
      " Istio-Traffic-Mgmt.ipynb       kube-bench\n",
      " Istio1.8.2.ipynb               kube-bench.ipynb\n",
      " IstioHack.ipynb                minikube.dot\n",
      " Kube-Scan-Cloudbomb.ipynb      minikube.png\n",
      " KubernetesBasics.ipynb         my-kubeconfig\n",
      " License.ipynb                  my-kubeconfig.full.tmp\n",
      "'Linux Namespaces.ipynb'        my-kubeconfig.tmp\n",
      " Makefile                       my-namespace-rbac.dot\n",
      " NetworkPolicy.ipynb            my-namespace-rbac.png\n",
      " OPA.ipynb                      namespaces.dot\n",
      " OpenPolicyAgent.ipynb          namespaces.png\n",
      " OpenShift                      opa\n",
      " Overview.ipynb                 openssl\n",
      " PodSecurityPolicyBasic.ipynb   postgres-operator\n"
     ]
    }
   ],
   "source": [
    "ls"
   ]
  },
  {
   "cell_type": "code",
   "execution_count": 15,
   "id": "113a7457",
   "metadata": {},
   "outputs": [
    {
     "name": "stdout",
     "output_type": "stream",
     "text": [
      "nsenter: failed to execute ps: No such file or directory\n"
     ]
    },
    {
     "ename": "",
     "evalue": "127",
     "output_type": "error",
     "traceback": []
    }
   ],
   "source": [
    "nsenter -t $STATE_PID -a ps auxwww"
   ]
  },
  {
   "cell_type": "code",
   "execution_count": 16,
   "id": "c888b6a3",
   "metadata": {
    "collapsed": true,
    "jupyter": {
     "outputs_hidden": true
    },
    "tags": []
   },
   "outputs": [
    {
     "name": "stdout",
     "output_type": "stream",
     "text": [
      "USER         PID %CPU %MEM    VSZ   RSS TTY      STAT START   TIME COMMAND\n",
      "root           1  0.0  0.0  21860 11512 ?        Ss   10:37   0:01 /sbin/init\n",
      "root         175  0.0  0.0  27116 11504 ?        S<s  10:37   0:00 /lib/systemd/systemd-journald\n",
      "message+     187  0.0  0.0   7020  3588 ?        Ss   10:37   0:00 /usr/bin/dbus-daemon --system --address=systemd: --nofork --nopidfile --systemd-activation --syslog-only\n",
      "root         193  0.1  0.2 1493532 47208 ?       Ssl  10:37   0:13 /usr/bin/containerd\n",
      "root         215  0.0  0.0  12184  7324 ?        Ss   10:37   0:00 sshd: /usr/sbin/sshd -D [listener] 0 of 10-100 startups\n",
      "root         220  0.5  0.5 343180 87752 ?        Rsl  10:37   1:01 /usr/bin/python3 /usr/local/bin/jupyter-lab --ip 192.168.49.2 --allow-root --log-level=INFO\n",
      "root         463  3.0  0.6 1827328 98916 ?       Ssl  10:37   5:12 /usr/bin/dockerd -H tcp://0.0.0.0:2376 -H unix:///var/run/docker.sock --default-ulimit=nofile=1048576:1048576 --tlsverify --tlscacert /etc/docker/ca.pem --tlscert /etc/docker/server.pem --tlskey /etc/docker/server-key.pem --label provider=docker --insecure-registry 10.96.0.0/12\n",
      "root        1504  0.0  0.0 712856  8392 ?        Sl   10:37   0:01 /usr/bin/containerd-shim-runc-v2 -namespace moby -id 1d4a5075e31bf31846339c6a23342ca2f3acc33642902e4b72d2a5ef4c821527 -address /run/containerd/containerd.sock\n",
      "root        1505  0.0  0.0 711192  8960 ?        Sl   10:37   0:01 /usr/bin/containerd-shim-runc-v2 -namespace moby -id 8ab516537c3a3372c71811ca7ee96aaac38bf2491a64f6ea2aeecdab5d9865f8 -address /run/containerd/containerd.sock\n",
      "root        1536  0.0  0.0 711448  8844 ?        Sl   10:37   0:01 /usr/bin/containerd-shim-runc-v2 -namespace moby -id 5dc91f905ddd51b096461ed5c3eb4ed351f7bbef19301535ef5447e66fecdbac -address /run/containerd/containerd.sock\n",
      "root        1546  0.0  0.0 711448  8212 ?        Sl   10:37   0:01 /usr/bin/containerd-shim-runc-v2 -namespace moby -id 4b8397fb631b77ad8285aa743f4c8422ceeea8855ba035404d2d46537051f76c -address /run/containerd/containerd.sock\n",
      "65535       1593  0.0  0.0    972     4 ?        Ss   10:37   0:00 /pause\n",
      "65535       1604  0.0  0.0    972     4 ?        Ss   10:37   0:00 /pause\n",
      "65535       1612  0.0  0.0    972     4 ?        Ss   10:37   0:00 /pause\n",
      "65535       1620  0.0  0.0    972     4 ?        Ss   10:37   0:00 /pause\n",
      "root        1719  0.0  0.0 713112  7996 ?        Sl   10:37   0:01 /usr/bin/containerd-shim-runc-v2 -namespace moby -id b7ea1feba115a0a34711ab35a427522229fe2a05ccfa2dd10ad82772f0502347 -address /run/containerd/containerd.sock\n",
      "root        1746  0.0  0.0 712920  8304 ?        Sl   10:37   0:01 /usr/bin/containerd-shim-runc-v2 -namespace moby -id 2a888a4c34c5d70a3eec7ee94bbda1e9580cab1791d4221078223dc6987b870a -address /run/containerd/containerd.sock\n",
      "root        1757  0.0  0.0 712856  8536 ?        Sl   10:37   0:01 /usr/bin/containerd-shim-runc-v2 -namespace moby -id f2ad37b3f3aaaf30c93fd31fae9dbd018d545ec41a0fe537311b9ed1b6463b04 -address /run/containerd/containerd.sock\n",
      "root        1768  0.0  0.0 712856  8004 ?        Sl   10:37   0:01 /usr/bin/containerd-shim-runc-v2 -namespace moby -id 5bc81e79c0ef151f8dbb14a551ff7324bb9359e26061c971fdd23a23688327df -address /run/containerd/containerd.sock\n",
      "root        1808  3.0  0.6 822336 109360 ?       Ssl  10:37   5:11 kube-controller-manager --allocate-node-cidrs=true --authentication-kubeconfig=/etc/kubernetes/controller-manager.conf --authorization-kubeconfig=/etc/kubernetes/controller-manager.conf --bind-address=127.0.0.1 --client-ca-file=/var/lib/minikube/certs/ca.crt --cluster-cidr=10.244.0.0/16 --cluster-name=mk --cluster-signing-cert-file=/var/lib/minikube/certs/ca.crt --cluster-signing-key-file=/var/lib/minikube/certs/ca.key --controllers=*,bootstrapsigner,tokencleaner --kubeconfig=/etc/kubernetes/controller-manager.conf --leader-elect=false --port=0 --requestheader-client-ca-file=/var/lib/minikube/certs/front-proxy-ca.crt --root-ca-file=/var/lib/minikube/certs/ca.crt --service-account-private-key-file=/var/lib/minikube/certs/sa.key --service-cluster-ip-range=10.96.0.0/12 --use-service-account-credentials=true\n",
      "root        1820  9.9  1.8 1104836 290880 ?      Ssl  10:37  17:13 kube-apiserver --advertise-address=192.168.49.2 --allow-privileged=true --authorization-mode=Node,RBAC --client-ca-file=/var/lib/minikube/certs/ca.crt --enable-admission-plugins=NamespaceLifecycle,LimitRanger,ServiceAccount,DefaultStorageClass,DefaultTolerationSeconds,NodeRestriction,MutatingAdmissionWebhook,ValidatingAdmissionWebhook,ResourceQuota --enable-bootstrap-token-auth=true --etcd-cafile=/var/lib/minikube/certs/etcd/ca.crt --etcd-certfile=/var/lib/minikube/certs/apiserver-etcd-client.crt --etcd-keyfile=/var/lib/minikube/certs/apiserver-etcd-client.key --etcd-servers=https://127.0.0.1:2379 --kubelet-client-certificate=/var/lib/minikube/certs/apiserver-kubelet-client.crt --kubelet-client-key=/var/lib/minikube/certs/apiserver-kubelet-client.key --kubelet-preferred-address-types=InternalIP,ExternalIP,Hostname --proxy-client-cert-file=/var/lib/minikube/certs/front-proxy-client.crt --proxy-client-key-file=/var/lib/minikube/certs/front-proxy-client.key --requestheader-allowed-names=front-proxy-client --requestheader-client-ca-file=/var/lib/minikube/certs/front-proxy-ca.crt --requestheader-extra-headers-prefix=X-Remote-Extra- --requestheader-group-headers=X-Remote-Group --requestheader-username-headers=X-Remote-User --secure-port=8443 --service-account-issuer=https://kubernetes.default.svc.cluster.local --service-account-key-file=/var/lib/minikube/certs/sa.pub --service-account-signing-key-file=/var/lib/minikube/certs/sa.key --service-cluster-ip-range=10.96.0.0/12 --tls-cert-file=/var/lib/minikube/certs/apiserver.crt --tls-private-key-file=/var/lib/minikube/certs/apiserver.key\n",
      "root        1830  2.9  0.4 11215292 64144 ?      Ssl  10:37   5:01 etcd --advertise-client-urls=https://192.168.49.2:2379 --cert-file=/var/lib/minikube/certs/etcd/server.crt --client-cert-auth=true --data-dir=/var/lib/minikube/etcd --initial-advertise-peer-urls=https://192.168.49.2:2380 --initial-cluster=minikube=https://192.168.49.2:2380 --key-file=/var/lib/minikube/certs/etcd/server.key --listen-client-urls=https://127.0.0.1:2379,https://192.168.49.2:2379 --listen-metrics-urls=http://127.0.0.1:2381 --listen-peer-urls=https://192.168.49.2:2380 --name=minikube --peer-cert-file=/var/lib/minikube/certs/etcd/peer.crt --peer-client-cert-auth=true --peer-key-file=/var/lib/minikube/certs/etcd/peer.key --peer-trusted-ca-file=/var/lib/minikube/certs/etcd/ca.crt --proxy-refresh-interval=70000 --snapshot-count=10000 --trusted-ca-file=/var/lib/minikube/certs/etcd/ca.crt\n",
      "root        1837  0.4  0.3 753772 51900 ?        Ssl  10:37   0:44 kube-scheduler --authentication-kubeconfig=/etc/kubernetes/scheduler.conf --authorization-kubeconfig=/etc/kubernetes/scheduler.conf --bind-address=127.0.0.1 --kubeconfig=/etc/kubernetes/scheduler.conf --leader-elect=false --port=0\n",
      "root        2250  8.0  1.0 1966420 158716 ?      Ssl  10:37  13:57 /var/lib/minikube/binaries/v1.22.2/kubelet --bootstrap-kubeconfig=/etc/kubernetes/bootstrap-kubelet.conf --config=/var/lib/kubelet/config.yaml --container-runtime=docker --hostname-override=minikube --kubeconfig=/etc/kubernetes/kubelet.conf --node-ip=192.168.49.2\n",
      "root        2667  0.0  0.0 711192  8440 ?        Sl   10:37   0:01 /usr/bin/containerd-shim-runc-v2 -namespace moby -id ae90af1b3a7f6157da1333676ceb2d25a884a806f34b1cf2a5d8b35659526be5 -address /run/containerd/containerd.sock\n",
      "root        2693  0.0  0.0 711512  8360 ?        Sl   10:37   0:01 /usr/bin/containerd-shim-runc-v2 -namespace moby -id a6fd5b0e7715efd7d6a931d842e1547cf0489b79240dda0e95a1376c13800bec -address /run/containerd/containerd.sock\n",
      "65535       2715  0.0  0.0    972     4 ?        Ss   10:37   0:00 /pause\n",
      "65535       2724  0.0  0.0    972     4 ?        Ss   10:37   0:00 /pause\n",
      "root        2769  0.0  0.0 711448  8512 ?        Sl   10:37   0:01 /usr/bin/containerd-shim-runc-v2 -namespace moby -id 864fcf10b213de7ddffc9c08d58199aca7cfefebfca3b3cd192afce9e9d948f8 -address /run/containerd/containerd.sock\n",
      "65535       2791  0.0  0.0    972     4 ?        Ss   10:37   0:00 /pause\n",
      "root        2838  0.0  0.0 711704  7296 ?        Sl   10:37   0:01 /usr/bin/containerd-shim-runc-v2 -namespace moby -id 1b599e2e0cabf2b60c2f5694574f6e404aa099b09fc61833eb557cee11c558d2 -address /run/containerd/containerd.sock\n",
      "root        2875  0.0  0.2 748220 39960 ?        Ssl  10:37   0:04 /usr/local/bin/kube-proxy --config=/var/lib/kube-proxy/config.conf --hostname-override=minikube\n",
      "root        3024  0.0  0.0 712856  8188 ?        Sl   10:37   0:01 /usr/bin/containerd-shim-runc-v2 -namespace moby -id 81a08a52422bfac29dc3c43987594b9e8393000e2dde990725ee197d2a628db1 -address /run/containerd/containerd.sock\n",
      "root        3045  0.3  0.2 751504 45572 ?        Ssl  10:37   0:35 /coredns -conf /etc/coredns/Corefile\n",
      "root        3250  0.0  0.0 711704  8856 ?        Sl   10:38   0:01 /usr/bin/containerd-shim-runc-v2 -namespace moby -id 1fb0d76607ed1c6600101d0f8dfaddbbd2c17c16f6aaa0569d532691c7fbde75 -address /run/containerd/containerd.sock\n",
      "root        3271  0.2  0.1 736240 29820 ?        Ssl  10:38   0:28 /storage-provisioner\n",
      "root        3366  0.0  0.3 698012 55932 ?        Ssl  10:38   0:01 /usr/bin/python3 -m bash_kernel -f /root/.local/share/jupyter/runtime/kernel-9b15dcec-b6eb-4caa-b011-319f8ca0d7e5.json\n",
      "root        3380  0.0  0.0   6004  3840 pts/1    Ss+  10:38   0:00 /usr/bin/bash --rcfile /usr/local/lib/python3.8/dist-packages/pexpect/bashrc.sh\n",
      "root        4228  0.0  0.0  14924 12748 pts/2    Ss   10:42   0:00 /bin/bash -l\n",
      "root        4742  0.0  0.3 698012 55720 ?        Ssl  10:44   0:01 /usr/bin/python3 -m bash_kernel -f /root/.local/share/jupyter/runtime/kernel-7e94efe6-67d0-4049-8333-ab6db970f9a5.json\n",
      "root        4754  0.0  0.0   6004  3872 pts/3    Ss+  10:44   0:00 /usr/bin/bash --rcfile /usr/local/lib/python3.8/dist-packages/pexpect/bashrc.sh\n",
      "root        7879  0.0  0.3 698020 55800 ?        Ssl  10:57   0:01 /usr/bin/python3 -m bash_kernel -f /root/.local/share/jupyter/runtime/kernel-a13278f4-883b-4569-9baa-f158ac8d6467.json\n",
      "root        7891  0.0  0.0   6004  3768 pts/4    Ss+  10:57   0:00 /usr/bin/bash --rcfile /usr/local/lib/python3.8/dist-packages/pexpect/bashrc.sh\n",
      "root        8081  0.0  0.0 711704  7412 ?        Sl   10:58   0:01 /usr/bin/containerd-shim-runc-v2 -namespace moby -id d9b11f066ead0c0b940abbcf4834e97c09e05baf03ed3b7b629f86aa825076d8 -address /run/containerd/containerd.sock\n",
      "root        8107  0.0  0.0 712856  8444 ?        Sl   10:58   0:01 /usr/bin/containerd-shim-runc-v2 -namespace moby -id 7ec2fc206a02277a03894e1817098f995f2d07eeca2eb7662ffdd1e1581b2bbb -address /run/containerd/containerd.sock\n",
      "65535       8119  0.0  0.0    972     4 ?        Ss   10:58   0:00 /pause\n",
      "65535       8137  0.0  0.0    972     4 ?        Ss   10:58   0:00 /pause\n",
      "root        8411  0.0  0.0 712856  8364 ?        Sl   10:59   0:01 /usr/bin/containerd-shim-runc-v2 -namespace moby -id 3cbdff54457458117f1a86a20889a03653e6bdbb297401d0600dd3050831c532 -address /run/containerd/containerd.sock\n",
      "root        8432  0.0  0.0   8692  6228 ?        Ss   10:59   0:00 nginx: master process nginx -g daemon off;\n",
      "_rpc        8469  0.0  0.0   9096  2460 ?        S    10:59   0:00 nginx: worker process\n",
      "_rpc        8470  0.0  0.0   9096  2460 ?        S    10:59   0:00 nginx: worker process\n",
      "_rpc        8471  0.0  0.0   9096  2460 ?        S    10:59   0:00 nginx: worker process\n",
      "_rpc        8472  0.0  0.0   9096  2460 ?        S    10:59   0:00 nginx: worker process\n",
      "root        8504  0.0  0.0 712856  8588 ?        Sl   10:59   0:01 /usr/bin/containerd-shim-runc-v2 -namespace moby -id 541f172568236bbadfcca64e1027d5044d3fdd35ff7bfebed9715ec7cfe96c40 -address /run/containerd/containerd.sock\n",
      "root        8524  0.0  0.0   8692  6196 ?        Ss   10:59   0:00 nginx: master process nginx -g daemon off;\n",
      "_rpc        8561  0.0  0.0   9096  2500 ?        S    10:59   0:00 nginx: worker process\n",
      "_rpc        8562  0.0  0.0   9096  2500 ?        S    10:59   0:00 nginx: worker process\n",
      "_rpc        8563  0.0  0.0   9096  2500 ?        S    10:59   0:00 nginx: worker process\n",
      "_rpc        8564  0.0  0.0   9096  2500 ?        S    10:59   0:00 nginx: worker process\n",
      "root       11747  0.0  0.3 698012 55844 ?        Ssl  11:12   0:01 /usr/bin/python3 -m bash_kernel -f /root/.local/share/jupyter/runtime/kernel-4c75cf57-1754-4f93-be55-572afd0d4f3e.json\n",
      "root       11768  0.0  0.0   6004  3764 pts/5    Ss+  11:12   0:00 /usr/bin/bash --rcfile /usr/local/lib/python3.8/dist-packages/pexpect/bashrc.sh\n",
      "root       11810  0.0  0.3 698664 56440 ?        Ssl  11:12   0:01 /usr/bin/python3 -m bash_kernel -f /root/.local/share/jupyter/runtime/kernel-4d7034c3-4895-4b71-9439-0800d41850c5.json\n",
      "root       11822  0.0  0.0   6004  3928 pts/6    Ss+  11:12   0:00 /usr/bin/bash --rcfile /usr/local/lib/python3.8/dist-packages/pexpect/bashrc.sh\n",
      "root       12499  0.0  0.0 713112  8316 ?        Sl   11:15   0:00 /usr/bin/containerd-shim-runc-v2 -namespace moby -id 72b88b96992791a6fbab80782db2de8c98d31ebf8b9a8f89e5ecfa7499fe8382 -address /run/containerd/containerd.sock\n",
      "65535      12521  0.0  0.0    972     4 ?        Ss   11:15   0:00 /pause\n",
      "root       12573  0.0  0.0 711448  9276 ?        Sl   11:15   0:00 /usr/bin/containerd-shim-runc-v2 -namespace moby -id 4dd8cd66fc293a7ce8fe5b30e44049ce8e5439f52dca58292d4f28569833d775 -address /run/containerd/containerd.sock\n",
      "65535      12613  0.0  0.0    972     4 ?        Ss   11:15   0:00 /pause\n",
      "root       12718  0.0  0.0 712600  9288 ?        Sl   11:15   0:00 /usr/bin/containerd-shim-runc-v2 -namespace moby -id fdac76cbe36e6cae026b2bb7f14857d29d060bd1f19f98f373bf353c9891d463 -address /run/containerd/containerd.sock\n",
      "root       12738  0.0  0.0   8692  6128 ?        Ss   11:15   0:00 nginx: master process nginx -g daemon off;\n",
      "_rpc       12774  0.0  0.0   9096  2484 ?        S    11:15   0:00 nginx: worker process\n",
      "_rpc       12775  0.0  0.0   9096  2484 ?        S    11:15   0:00 nginx: worker process\n",
      "_rpc       12776  0.0  0.0   9096  2484 ?        S    11:15   0:00 nginx: worker process\n",
      "_rpc       12777  0.0  0.0   9096  2484 ?        S    11:15   0:00 nginx: worker process\n",
      "root       12817  0.0  0.0 711448  9196 ?        Sl   11:15   0:00 /usr/bin/containerd-shim-runc-v2 -namespace moby -id 095296be488cc7a3caafc72a56000a050fa229f54f95abc576a9b23525a66e23 -address /run/containerd/containerd.sock\n",
      "root       12838  0.0  0.0   8692  6104 ?        Ss   11:15   0:00 nginx: master process nginx -g daemon off;\n",
      "_rpc       12876  0.0  0.0   9096  2548 ?        S    11:15   0:00 nginx: worker process\n",
      "_rpc       12877  0.0  0.0   9096  2548 ?        S    11:15   0:00 nginx: worker process\n",
      "_rpc       12878  0.0  0.0   9096  2548 ?        S    11:15   0:00 nginx: worker process\n",
      "_rpc       12879  0.0  0.0   9096  2548 ?        S    11:15   0:00 nginx: worker process\n",
      "root       14271  0.0  0.0  12296  7552 ?        Ss   11:20   0:00 sshd: docker [priv]\n",
      "docker     14273  0.0  0.0  12296  4940 ?        S    11:20   0:00 sshd: docker@notty\n",
      "root       41994  0.0  0.0 711448  8472 ?        Sl   13:18   0:00 /usr/bin/containerd-shim-runc-v2 -namespace moby -id 18ea1f6cc8119e6c39091d00f947bb84d1151029ebc1e97f7a63e48f33e71c7f -address /run/containerd/containerd.sock\n",
      "65535      42015  0.0  0.0    972     4 ?        Ss   13:18   0:00 /pause\n",
      "root       42112  0.0  0.0 711448  8416 ?        Sl   13:18   0:00 /usr/bin/containerd-shim-runc-v2 -namespace moby -id 658daf1a9ae5cac92104d6bc1506c446e436ee41d257c321e6c8a8387adbe57a -address /run/containerd/containerd.sock\n",
      "root       42132  0.0  0.0   8692  6200 ?        Ss   13:18   0:00 nginx: master process nginx -g daemon off;\n",
      "_rpc       42169  0.0  0.0   9096  2636 ?        S    13:18   0:00 nginx: worker process\n",
      "_rpc       42170  0.0  0.0   9096  2636 ?        S    13:18   0:00 nginx: worker process\n",
      "_rpc       42171  0.0  0.0   9096  2636 ?        S    13:18   0:00 nginx: worker process\n",
      "_rpc       42172  0.0  0.0   9096  2636 ?        S    13:18   0:00 nginx: worker process\n",
      "root       42681  0.1  0.3 698012 55828 ?        Rsl  13:21   0:00 /usr/bin/python3 -m bash_kernel -f /root/.local/share/jupyter/runtime/kernel-7b2e784c-c0a9-40e1-9d8f-71268d63572a.json\n",
      "root       42693  0.0  0.0   6004  3916 pts/7    Ss   13:21   0:00 /usr/bin/bash --rcfile /usr/local/lib/python3.8/dist-packages/pexpect/bashrc.sh\n",
      "root       43994  0.0  0.0   6000  3828 pts/2    S+   13:26   0:00 bash\n",
      "root       44821  0.0  0.0   7656  3256 pts/7    R+   13:30   0:00 ps auxww\n"
     ]
    }
   ],
   "source": [
    "ps auxww"
   ]
  },
  {
   "cell_type": "code",
   "execution_count": 17,
   "id": "bfeac698",
   "metadata": {
    "collapsed": true,
    "jupyter": {
     "outputs_hidden": true
    },
    "tags": []
   },
   "outputs": [
    {
     "name": "stdout",
     "output_type": "stream",
     "text": [
      "USER         PID %CPU %MEM    VSZ   RSS TTY      STAT START   TIME COMMAND\n",
      "root           1  0.0  0.0  21860 11512 ?        Ss   10:37   0:01 /sbin/init\n",
      "root         175  0.0  0.0  27116 11504 ?        S<s  10:37   0:00 /lib/systemd/systemd-journald\n",
      "message+     187  0.0  0.0   7020  3588 ?        Ss   10:37   0:00 /usr/bin/dbus-daemon --system --address=systemd: --nofork --nopidfile --systemd-activation --syslog-only\n",
      "root         193  0.1  0.2 1493532 47208 ?       Ssl  10:37   0:13 /usr/bin/containerd\n",
      "root         215  0.0  0.0  12184  7324 ?        Ss   10:37   0:00 sshd: /usr/sbin/sshd -D [listener] 0 of 10-100 startups\n",
      "root         220  0.5  0.5 343180 87752 ?        Rsl  10:37   1:01 /usr/bin/python3 /usr/local/bin/jupyter-lab --ip 192.168.49.2 --allow-root --log-level=INFO\n",
      "root         463  3.0  0.6 1827328 98916 ?       Ssl  10:37   5:12 /usr/bin/dockerd -H tcp://0.0.0.0:2376 -H unix:///var/run/docker.sock --default-ulimit=nofile=1048576:1048576 --tlsverify --tlscacert /etc/docker/ca.pem --tlscert /etc/docker/server.pem --tlskey /etc/docker/server-key.pem --label provider=docker --insecure-registry 10.96.0.0/12\n",
      "root        1504  0.0  0.0 712856  8392 ?        Sl   10:37   0:01 /usr/bin/containerd-shim-runc-v2 -namespace moby -id 1d4a5075e31bf31846339c6a23342ca2f3acc33642902e4b72d2a5ef4c821527 -address /run/containerd/containerd.sock\n",
      "root        1505  0.0  0.0 711192  8960 ?        Sl   10:37   0:01 /usr/bin/containerd-shim-runc-v2 -namespace moby -id 8ab516537c3a3372c71811ca7ee96aaac38bf2491a64f6ea2aeecdab5d9865f8 -address /run/containerd/containerd.sock\n",
      "root        1536  0.0  0.0 711448  8844 ?        Sl   10:37   0:01 /usr/bin/containerd-shim-runc-v2 -namespace moby -id 5dc91f905ddd51b096461ed5c3eb4ed351f7bbef19301535ef5447e66fecdbac -address /run/containerd/containerd.sock\n",
      "root        1546  0.0  0.0 711448  8212 ?        Sl   10:37   0:01 /usr/bin/containerd-shim-runc-v2 -namespace moby -id 4b8397fb631b77ad8285aa743f4c8422ceeea8855ba035404d2d46537051f76c -address /run/containerd/containerd.sock\n",
      "65535       1593  0.0  0.0    972     4 ?        Ss   10:37   0:00 /pause\n",
      "65535       1604  0.0  0.0    972     4 ?        Ss   10:37   0:00 /pause\n",
      "65535       1612  0.0  0.0    972     4 ?        Ss   10:37   0:00 /pause\n",
      "65535       1620  0.0  0.0    972     4 ?        Ss   10:37   0:00 /pause\n",
      "root        1719  0.0  0.0 713112  7996 ?        Sl   10:37   0:01 /usr/bin/containerd-shim-runc-v2 -namespace moby -id b7ea1feba115a0a34711ab35a427522229fe2a05ccfa2dd10ad82772f0502347 -address /run/containerd/containerd.sock\n",
      "root        1746  0.0  0.0 712920  8304 ?        Sl   10:37   0:01 /usr/bin/containerd-shim-runc-v2 -namespace moby -id 2a888a4c34c5d70a3eec7ee94bbda1e9580cab1791d4221078223dc6987b870a -address /run/containerd/containerd.sock\n",
      "root        1757  0.0  0.0 712856  8568 ?        Sl   10:37   0:01 /usr/bin/containerd-shim-runc-v2 -namespace moby -id f2ad37b3f3aaaf30c93fd31fae9dbd018d545ec41a0fe537311b9ed1b6463b04 -address /run/containerd/containerd.sock\n",
      "root        1768  0.0  0.0 712856  7972 ?        Sl   10:37   0:01 /usr/bin/containerd-shim-runc-v2 -namespace moby -id 5bc81e79c0ef151f8dbb14a551ff7324bb9359e26061c971fdd23a23688327df -address /run/containerd/containerd.sock\n",
      "root        1808  3.0  0.6 822336 109360 ?       Ssl  10:37   5:12 kube-controller-manager --allocate-node-cidrs=true --authentication-kubeconfig=/etc/kubernetes/controller-manager.conf --authorization-kubeconfig=/etc/kubernetes/controller-manager.conf --bind-address=127.0.0.1 --client-ca-file=/var/lib/minikube/certs/ca.crt --cluster-cidr=10.244.0.0/16 --cluster-name=mk --cluster-signing-cert-file=/var/lib/minikube/certs/ca.crt --cluster-signing-key-file=/var/lib/minikube/certs/ca.key --controllers=*,bootstrapsigner,tokencleaner --kubeconfig=/etc/kubernetes/controller-manager.conf --leader-elect=false --port=0 --requestheader-client-ca-file=/var/lib/minikube/certs/front-proxy-ca.crt --root-ca-file=/var/lib/minikube/certs/ca.crt --service-account-private-key-file=/var/lib/minikube/certs/sa.key --service-cluster-ip-range=10.96.0.0/12 --use-service-account-credentials=true\n",
      "root        1820  9.9  1.8 1104836 290880 ?      Ssl  10:37  17:14 kube-apiserver --advertise-address=192.168.49.2 --allow-privileged=true --authorization-mode=Node,RBAC --client-ca-file=/var/lib/minikube/certs/ca.crt --enable-admission-plugins=NamespaceLifecycle,LimitRanger,ServiceAccount,DefaultStorageClass,DefaultTolerationSeconds,NodeRestriction,MutatingAdmissionWebhook,ValidatingAdmissionWebhook,ResourceQuota --enable-bootstrap-token-auth=true --etcd-cafile=/var/lib/minikube/certs/etcd/ca.crt --etcd-certfile=/var/lib/minikube/certs/apiserver-etcd-client.crt --etcd-keyfile=/var/lib/minikube/certs/apiserver-etcd-client.key --etcd-servers=https://127.0.0.1:2379 --kubelet-client-certificate=/var/lib/minikube/certs/apiserver-kubelet-client.crt --kubelet-client-key=/var/lib/minikube/certs/apiserver-kubelet-client.key --kubelet-preferred-address-types=InternalIP,ExternalIP,Hostname --proxy-client-cert-file=/var/lib/minikube/certs/front-proxy-client.crt --proxy-client-key-file=/var/lib/minikube/certs/front-proxy-client.key --requestheader-allowed-names=front-proxy-client --requestheader-client-ca-file=/var/lib/minikube/certs/front-proxy-ca.crt --requestheader-extra-headers-prefix=X-Remote-Extra- --requestheader-group-headers=X-Remote-Group --requestheader-username-headers=X-Remote-User --secure-port=8443 --service-account-issuer=https://kubernetes.default.svc.cluster.local --service-account-key-file=/var/lib/minikube/certs/sa.pub --service-account-signing-key-file=/var/lib/minikube/certs/sa.key --service-cluster-ip-range=10.96.0.0/12 --tls-cert-file=/var/lib/minikube/certs/apiserver.crt --tls-private-key-file=/var/lib/minikube/certs/apiserver.key\n",
      "root        1830  2.9  0.4 11215292 64144 ?      Ssl  10:37   5:01 etcd --advertise-client-urls=https://192.168.49.2:2379 --cert-file=/var/lib/minikube/certs/etcd/server.crt --client-cert-auth=true --data-dir=/var/lib/minikube/etcd --initial-advertise-peer-urls=https://192.168.49.2:2380 --initial-cluster=minikube=https://192.168.49.2:2380 --key-file=/var/lib/minikube/certs/etcd/server.key --listen-client-urls=https://127.0.0.1:2379,https://192.168.49.2:2379 --listen-metrics-urls=http://127.0.0.1:2381 --listen-peer-urls=https://192.168.49.2:2380 --name=minikube --peer-cert-file=/var/lib/minikube/certs/etcd/peer.crt --peer-client-cert-auth=true --peer-key-file=/var/lib/minikube/certs/etcd/peer.key --peer-trusted-ca-file=/var/lib/minikube/certs/etcd/ca.crt --proxy-refresh-interval=70000 --snapshot-count=10000 --trusted-ca-file=/var/lib/minikube/certs/etcd/ca.crt\n",
      "root        1837  0.4  0.3 753772 51900 ?        Ssl  10:37   0:44 kube-scheduler --authentication-kubeconfig=/etc/kubernetes/scheduler.conf --authorization-kubeconfig=/etc/kubernetes/scheduler.conf --bind-address=127.0.0.1 --kubeconfig=/etc/kubernetes/scheduler.conf --leader-elect=false --port=0\n",
      "root        2250  8.1  1.0 1966420 158716 ?      Ssl  10:37  13:59 /var/lib/minikube/binaries/v1.22.2/kubelet --bootstrap-kubeconfig=/etc/kubernetes/bootstrap-kubelet.conf --config=/var/lib/kubelet/config.yaml --container-runtime=docker --hostname-override=minikube --kubeconfig=/etc/kubernetes/kubelet.conf --node-ip=192.168.49.2\n",
      "root        2667  0.0  0.0 711192  8440 ?        Sl   10:37   0:01 /usr/bin/containerd-shim-runc-v2 -namespace moby -id ae90af1b3a7f6157da1333676ceb2d25a884a806f34b1cf2a5d8b35659526be5 -address /run/containerd/containerd.sock\n",
      "root        2693  0.0  0.0 711512  8360 ?        Sl   10:37   0:01 /usr/bin/containerd-shim-runc-v2 -namespace moby -id a6fd5b0e7715efd7d6a931d842e1547cf0489b79240dda0e95a1376c13800bec -address /run/containerd/containerd.sock\n",
      "65535       2715  0.0  0.0    972     4 ?        Ss   10:37   0:00 /pause\n",
      "65535       2724  0.0  0.0    972     4 ?        Ss   10:37   0:00 /pause\n",
      "root        2769  0.0  0.0 711448  8512 ?        Sl   10:37   0:01 /usr/bin/containerd-shim-runc-v2 -namespace moby -id 864fcf10b213de7ddffc9c08d58199aca7cfefebfca3b3cd192afce9e9d948f8 -address /run/containerd/containerd.sock\n",
      "65535       2791  0.0  0.0    972     4 ?        Ss   10:37   0:00 /pause\n",
      "root        2838  0.0  0.0 711704  7296 ?        Sl   10:37   0:01 /usr/bin/containerd-shim-runc-v2 -namespace moby -id 1b599e2e0cabf2b60c2f5694574f6e404aa099b09fc61833eb557cee11c558d2 -address /run/containerd/containerd.sock\n",
      "root        2875  0.0  0.2 748220 39960 ?        Ssl  10:37   0:04 /usr/local/bin/kube-proxy --config=/var/lib/kube-proxy/config.conf --hostname-override=minikube\n",
      "root        3024  0.0  0.0 712856  8188 ?        Sl   10:37   0:01 /usr/bin/containerd-shim-runc-v2 -namespace moby -id 81a08a52422bfac29dc3c43987594b9e8393000e2dde990725ee197d2a628db1 -address /run/containerd/containerd.sock\n",
      "root        3045  0.3  0.2 751504 45572 ?        Ssl  10:37   0:35 /coredns -conf /etc/coredns/Corefile\n",
      "root        3250  0.0  0.0 711704  8856 ?        Sl   10:38   0:01 /usr/bin/containerd-shim-runc-v2 -namespace moby -id 1fb0d76607ed1c6600101d0f8dfaddbbd2c17c16f6aaa0569d532691c7fbde75 -address /run/containerd/containerd.sock\n",
      "root        3271  0.2  0.1 736240 29948 ?        Ssl  10:38   0:28 /storage-provisioner\n",
      "root        3366  0.0  0.3 698012 55932 ?        Ssl  10:38   0:01 /usr/bin/python3 -m bash_kernel -f /root/.local/share/jupyter/runtime/kernel-9b15dcec-b6eb-4caa-b011-319f8ca0d7e5.json\n",
      "root        3380  0.0  0.0   6004  3840 pts/1    Ss+  10:38   0:00 /usr/bin/bash --rcfile /usr/local/lib/python3.8/dist-packages/pexpect/bashrc.sh\n",
      "root        4228  0.0  0.0  14924 12748 pts/2    Ss   10:42   0:00 /bin/bash -l\n",
      "root        4742  0.0  0.3 698012 55720 ?        Ssl  10:44   0:01 /usr/bin/python3 -m bash_kernel -f /root/.local/share/jupyter/runtime/kernel-7e94efe6-67d0-4049-8333-ab6db970f9a5.json\n",
      "root        4754  0.0  0.0   6004  3872 pts/3    Ss+  10:44   0:00 /usr/bin/bash --rcfile /usr/local/lib/python3.8/dist-packages/pexpect/bashrc.sh\n",
      "root        7879  0.0  0.3 698020 55800 ?        Ssl  10:57   0:01 /usr/bin/python3 -m bash_kernel -f /root/.local/share/jupyter/runtime/kernel-a13278f4-883b-4569-9baa-f158ac8d6467.json\n",
      "root        7891  0.0  0.0   6004  3768 pts/4    Ss+  10:57   0:00 /usr/bin/bash --rcfile /usr/local/lib/python3.8/dist-packages/pexpect/bashrc.sh\n",
      "root        8081  0.0  0.0 711704  7412 ?        Sl   10:58   0:01 /usr/bin/containerd-shim-runc-v2 -namespace moby -id d9b11f066ead0c0b940abbcf4834e97c09e05baf03ed3b7b629f86aa825076d8 -address /run/containerd/containerd.sock\n",
      "root        8107  0.0  0.0 712856  8444 ?        Sl   10:58   0:01 /usr/bin/containerd-shim-runc-v2 -namespace moby -id 7ec2fc206a02277a03894e1817098f995f2d07eeca2eb7662ffdd1e1581b2bbb -address /run/containerd/containerd.sock\n",
      "65535       8119  0.0  0.0    972     4 ?        Ss   10:58   0:00 /pause\n",
      "65535       8137  0.0  0.0    972     4 ?        Ss   10:58   0:00 /pause\n",
      "root        8411  0.0  0.0 712856  8364 ?        Sl   10:59   0:01 /usr/bin/containerd-shim-runc-v2 -namespace moby -id 3cbdff54457458117f1a86a20889a03653e6bdbb297401d0600dd3050831c532 -address /run/containerd/containerd.sock\n",
      "root        8432  0.0  0.0   8692  6228 ?        Ss   10:59   0:00 nginx: master process nginx -g daemon off;\n",
      "_rpc        8469  0.0  0.0   9096  2460 ?        S    10:59   0:00 nginx: worker process\n",
      "_rpc        8470  0.0  0.0   9096  2460 ?        S    10:59   0:00 nginx: worker process\n",
      "_rpc        8471  0.0  0.0   9096  2460 ?        S    10:59   0:00 nginx: worker process\n",
      "_rpc        8472  0.0  0.0   9096  2460 ?        S    10:59   0:00 nginx: worker process\n",
      "root        8504  0.0  0.0 712856  8588 ?        Sl   10:59   0:01 /usr/bin/containerd-shim-runc-v2 -namespace moby -id 541f172568236bbadfcca64e1027d5044d3fdd35ff7bfebed9715ec7cfe96c40 -address /run/containerd/containerd.sock\n",
      "root        8524  0.0  0.0   8692  6196 ?        Ss   10:59   0:00 nginx: master process nginx -g daemon off;\n",
      "_rpc        8561  0.0  0.0   9096  2500 ?        S    10:59   0:00 nginx: worker process\n",
      "_rpc        8562  0.0  0.0   9096  2500 ?        S    10:59   0:00 nginx: worker process\n",
      "_rpc        8563  0.0  0.0   9096  2500 ?        S    10:59   0:00 nginx: worker process\n",
      "_rpc        8564  0.0  0.0   9096  2500 ?        S    10:59   0:00 nginx: worker process\n",
      "root       11747  0.0  0.3 698012 55844 ?        Ssl  11:12   0:01 /usr/bin/python3 -m bash_kernel -f /root/.local/share/jupyter/runtime/kernel-4c75cf57-1754-4f93-be55-572afd0d4f3e.json\n",
      "root       11768  0.0  0.0   6004  3764 pts/5    Ss+  11:12   0:00 /usr/bin/bash --rcfile /usr/local/lib/python3.8/dist-packages/pexpect/bashrc.sh\n",
      "root       11810  0.0  0.3 698664 56440 ?        Ssl  11:12   0:01 /usr/bin/python3 -m bash_kernel -f /root/.local/share/jupyter/runtime/kernel-4d7034c3-4895-4b71-9439-0800d41850c5.json\n",
      "root       11822  0.0  0.0   6004  3928 pts/6    Ss+  11:12   0:00 /usr/bin/bash --rcfile /usr/local/lib/python3.8/dist-packages/pexpect/bashrc.sh\n",
      "root       12499  0.0  0.0 713112  8284 ?        Sl   11:15   0:00 /usr/bin/containerd-shim-runc-v2 -namespace moby -id 72b88b96992791a6fbab80782db2de8c98d31ebf8b9a8f89e5ecfa7499fe8382 -address /run/containerd/containerd.sock\n",
      "65535      12521  0.0  0.0    972     4 ?        Ss   11:15   0:00 /pause\n",
      "root       12573  0.0  0.0 711448  9276 ?        Sl   11:15   0:00 /usr/bin/containerd-shim-runc-v2 -namespace moby -id 4dd8cd66fc293a7ce8fe5b30e44049ce8e5439f52dca58292d4f28569833d775 -address /run/containerd/containerd.sock\n",
      "65535      12613  0.0  0.0    972     4 ?        Ss   11:15   0:00 /pause\n",
      "root       12718  0.0  0.0 712600  9320 ?        Sl   11:15   0:00 /usr/bin/containerd-shim-runc-v2 -namespace moby -id fdac76cbe36e6cae026b2bb7f14857d29d060bd1f19f98f373bf353c9891d463 -address /run/containerd/containerd.sock\n",
      "root       12738  0.0  0.0   8692  6128 ?        Ss   11:15   0:00 nginx: master process nginx -g daemon off;\n",
      "_rpc       12774  0.0  0.0   9096  2484 ?        S    11:15   0:00 nginx: worker process\n",
      "_rpc       12775  0.0  0.0   9096  2484 ?        S    11:15   0:00 nginx: worker process\n",
      "_rpc       12776  0.0  0.0   9096  2484 ?        S    11:15   0:00 nginx: worker process\n",
      "_rpc       12777  0.0  0.0   9096  2484 ?        S    11:15   0:00 nginx: worker process\n",
      "root       12817  0.0  0.0 711448  9196 ?        Sl   11:15   0:00 /usr/bin/containerd-shim-runc-v2 -namespace moby -id 095296be488cc7a3caafc72a56000a050fa229f54f95abc576a9b23525a66e23 -address /run/containerd/containerd.sock\n",
      "root       12838  0.0  0.0   8692  6104 ?        Ss   11:15   0:00 nginx: master process nginx -g daemon off;\n",
      "_rpc       12876  0.0  0.0   9096  2548 ?        S    11:15   0:00 nginx: worker process\n",
      "_rpc       12877  0.0  0.0   9096  2548 ?        S    11:15   0:00 nginx: worker process\n",
      "_rpc       12878  0.0  0.0   9096  2548 ?        S    11:15   0:00 nginx: worker process\n",
      "_rpc       12879  0.0  0.0   9096  2548 ?        S    11:15   0:00 nginx: worker process\n",
      "root       14271  0.0  0.0  12296  7552 ?        Ss   11:20   0:00 sshd: docker [priv]\n",
      "docker     14273  0.0  0.0  12296  4940 ?        S    11:20   0:00 sshd: docker@notty\n",
      "root       41994  0.0  0.0 711448  8472 ?        Sl   13:18   0:00 /usr/bin/containerd-shim-runc-v2 -namespace moby -id 18ea1f6cc8119e6c39091d00f947bb84d1151029ebc1e97f7a63e48f33e71c7f -address /run/containerd/containerd.sock\n",
      "65535      42015  0.0  0.0    972     4 ?        Ss   13:18   0:00 /pause\n",
      "root       42112  0.0  0.0 711448  8416 ?        Sl   13:18   0:00 /usr/bin/containerd-shim-runc-v2 -namespace moby -id 658daf1a9ae5cac92104d6bc1506c446e436ee41d257c321e6c8a8387adbe57a -address /run/containerd/containerd.sock\n",
      "root       42132  0.0  0.0   8692  6200 ?        Ss   13:18   0:00 nginx: master process nginx -g daemon off;\n",
      "_rpc       42169  0.0  0.0   9096  2636 ?        S    13:18   0:00 nginx: worker process\n",
      "_rpc       42170  0.0  0.0   9096  2636 ?        S    13:18   0:00 nginx: worker process\n",
      "_rpc       42171  0.0  0.0   9096  2636 ?        S    13:18   0:00 nginx: worker process\n",
      "_rpc       42172  0.0  0.0   9096  2636 ?        S    13:18   0:00 nginx: worker process\n",
      "root       42681  0.1  0.3 698012 55904 ?        Ssl  13:21   0:00 /usr/bin/python3 -m bash_kernel -f /root/.local/share/jupyter/runtime/kernel-7b2e784c-c0a9-40e1-9d8f-71268d63572a.json\n",
      "root       42693  0.0  0.0   6004  3916 pts/7    Ss   13:21   0:00 /usr/bin/bash --rcfile /usr/local/lib/python3.8/dist-packages/pexpect/bashrc.sh\n",
      "root       43994  0.0  0.0   6000  3828 pts/2    S+   13:26   0:00 bash\n",
      "root       44865  0.0  0.0   5188   632 pts/7    S+   13:30   0:00 nsenter -t 42132 -p ps auxwww\n",
      "root       44866  0.0  0.0   7656  3248 pts/7    R+   13:30   0:00 ps auxwww\n"
     ]
    }
   ],
   "source": [
    "nsenter -t $STATE_PID -p ps auxwww"
   ]
  },
  {
   "cell_type": "code",
   "execution_count": 18,
   "id": "5a0cda0d-a933-4a95-a2f4-e588eb2a339e",
   "metadata": {},
   "outputs": [
    {
     "name": "stdout",
     "output_type": "stream",
     "text": [
      "arch_status         cwd        maps           pagemap       stack\n",
      "attr                environ    mem            patch_state   stat\n",
      "autogroup           exe        mountinfo      personality   statm\n",
      "auxv                fd         mounts         projid_map    status\n",
      "cgroup              fdinfo     mountstats     root          syscall\n",
      "clear_refs          gid_map    net            sched         task\n",
      "cmdline             io         ns             schedstat     timens_offsets\n",
      "comm                latency    numa_maps      sessionid     timers\n",
      "coredump_filter     limits     oom_adj        setgroups     timerslack_ns\n",
      "cpu_resctrl_groups  loginuid   oom_score      smaps         uid_map\n",
      "cpuset              map_files  oom_score_adj  smaps_rollup  wchan\n"
     ]
    }
   ],
   "source": [
    "ls /proc/$STATE_PID"
   ]
  },
  {
   "cell_type": "code",
   "execution_count": null,
   "id": "efe6704d-1b2d-476e-9e36-fb571292b53e",
   "metadata": {},
   "outputs": [],
   "source": []
  }
 ],
 "metadata": {
  "kernelspec": {
   "display_name": "Bash",
   "language": "bash",
   "name": "bash"
  },
  "language_info": {
   "codemirror_mode": "shell",
   "file_extension": ".sh",
   "mimetype": "text/x-sh",
   "name": "bash"
  }
 },
 "nbformat": 4,
 "nbformat_minor": 5
}
