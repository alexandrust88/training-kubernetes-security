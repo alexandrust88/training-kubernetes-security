{
 "cells": [
  {
   "cell_type": "markdown",
   "metadata": {},
   "source": [
    "**This notebook covered by the following [license](License.ipynb)  This note must not be removed**"
   ]
  },
  {
   "cell_type": "markdown",
   "metadata": {},
   "source": [
    "# Documentation\n",
    "\n",
    "[Link to official NetworkPolicy documentation](https://kubernetes.io/docs/concepts/services-networking/network-policies/)\n",
    "\n",
    "## Activate Calico\n",
    "\n",
    "`minikube start --network-plugin=cni --cni=calico`\n"
   ]
  },
  {
   "cell_type": "markdown",
   "metadata": {},
   "source": [
    "## Alternativley Install Cilium in Minikube\n",
    "https://docs.cilium.io/en/stable/gettingstarted/minikube/\n",
    "\n",
    "**Warning** this might be highly version critical and needs testing if the minikube version is different from 1.3.1"
   ]
  },
  {
   "cell_type": "markdown",
   "metadata": {},
   "source": [
    "Activate Berkeley Packet Filters\n",
    "\n",
    "`minikube ssh -- sudo mount bpffs -t bpf /sys/fs/bpf`\n"
   ]
  },
  {
   "cell_type": "markdown",
   "metadata": {},
   "source": [
    "**This might take some 6 minutes**"
   ]
  },
  {
   "cell_type": "markdown",
   "metadata": {},
   "source": [
    "`kubectl create -f https://raw.githubusercontent.com/cilium/cilium/1.6.1/install/kubernetes/quick-install.yaml`\n"
   ]
  },
  {
   "cell_type": "code",
   "execution_count": 4,
   "metadata": {},
   "outputs": [
    {
     "name": "stdout",
     "output_type": "stream",
     "text": [
      "NAMESPACE     NAME                                       READY   STATUS    RESTARTS        AGE\n",
      "kube-system   calico-kube-controllers-58497c65d5-xm6d8   1/1     Running   0               5m14s\n",
      "kube-system   calico-node-k6fpb                          1/1     Running   0               5m15s\n",
      "kube-system   coredns-78fcd69978-mvc8k                   1/1     Running   0               5m14s\n",
      "kube-system   etcd-minikube                              1/1     Running   0               5m26s\n",
      "kube-system   kube-apiserver-minikube                    1/1     Running   0               5m26s\n",
      "kube-system   kube-controller-manager-minikube           1/1     Running   0               5m26s\n",
      "kube-system   kube-proxy-q9hbz                           1/1     Running   0               5m15s\n",
      "kube-system   kube-scheduler-minikube                    1/1     Running   0               5m26s\n",
      "kube-system   storage-provisioner                        1/1     Running   1 (4m43s ago)   5m24s\n"
     ]
    }
   ],
   "source": [
    "kubectl get pods -A "
   ]
  },
  {
   "cell_type": "markdown",
   "metadata": {},
   "source": [
    "## Create a test\n",
    "\n",
    "It will deploy a simple probe and echo server running with multiple replicas. The probe will only report readiness while it can successfully reach the echo server:"
   ]
  },
  {
   "cell_type": "code",
   "execution_count": 5,
   "metadata": {},
   "outputs": [
    {
     "name": "stdout",
     "output_type": "stream",
     "text": [
      "No resources found in default namespace.\n"
     ]
    }
   ],
   "source": [
    "kubectl get pods"
   ]
  },
  {
   "cell_type": "markdown",
   "metadata": {},
   "source": [
    "The Apache example follows \n",
    "https://supergiant.io/blog/understanding-network-policies-in-kubernetes/\n",
    "with the updated versions of the Cilium installation above"
   ]
  },
  {
   "cell_type": "code",
   "execution_count": 6,
   "metadata": {},
   "outputs": [
    {
     "name": "stdout",
     "output_type": "stream",
     "text": [
      "deployment.apps/sleep created\n"
     ]
    }
   ],
   "source": [
    "kubectl apply -f - <<EOF\n",
    "apiVersion: apps/v1\n",
    "kind: Deployment\n",
    "metadata:\n",
    "  name: sleep\n",
    "spec:\n",
    "  replicas: 1\n",
    "  selector:\n",
    "    matchLabels:\n",
    "      app: sleep\n",
    "  template:\n",
    "    metadata:\n",
    "      labels:\n",
    "        app: sleep\n",
    "    spec:\n",
    "      containers:\n",
    "      - name: sleep\n",
    "        image: pstauffer/curl\n",
    "        command: [\"/bin/sleep\", \"3650d\"]\n",
    "        imagePullPolicy: IfNotPresent\n",
    "EOF"
   ]
  },
  {
   "cell_type": "code",
   "execution_count": 7,
   "metadata": {},
   "outputs": [
    {
     "name": "stdout",
     "output_type": "stream",
     "text": [
      "NAME                        READY   STATUS              RESTARTS   AGE\n",
      "pod/sleep-56bc8d768-tj2hm   0/1     ContainerCreating   0          2s\n",
      "\n",
      "NAME                 TYPE        CLUSTER-IP   EXTERNAL-IP   PORT(S)   AGE\n",
      "service/kubernetes   ClusterIP   10.96.0.1    <none>        443/TCP   6m4s\n"
     ]
    }
   ],
   "source": [
    "kubectl get pods,svc"
   ]
  },
  {
   "cell_type": "code",
   "execution_count": 8,
   "metadata": {},
   "outputs": [
    {
     "name": "stdout",
     "output_type": "stream",
     "text": [
      "sleep-56bc8d768-tj2hm\n"
     ]
    }
   ],
   "source": [
    "SLEEP_POD=$(kubectl get pods | awk '/sleep-/{print $1}')\n",
    "echo $SLEEP_POD"
   ]
  },
  {
   "cell_type": "code",
   "execution_count": 9,
   "metadata": {},
   "outputs": [
    {
     "name": "stdout",
     "output_type": "stream",
     "text": [
      "<!DOCTYPE HTML PUBLIC \"-//IETF//DTD HTML 2.0//EN\">\n",
      "<html><head>\n",
      "<title>301 Moved Permanently</title>\n",
      "</head><body>\n",
      "<h1>Moved Permanently</h1>\n",
      "<p>The document has moved <a href=\"https://www.heise.de/\">here</a>.</p>\n",
      "</body></html>\n"
     ]
    }
   ],
   "source": [
    "kubectl exec $SLEEP_POD -- curl -m 5 -s heise.de"
   ]
  },
  {
   "cell_type": "code",
   "execution_count": 10,
   "metadata": {},
   "outputs": [
    {
     "name": "stdout",
     "output_type": "stream",
     "text": [
      "<HTML><HEAD><meta http-equiv=\"content-type\" content=\"text/html;charset=utf-8\">\n",
      "<TITLE>301 Moved</TITLE></HEAD><BODY>\n",
      "<H1>301 Moved</H1>\n",
      "The document has moved\n",
      "<A HREF=\"http://www.google.de/\">here</A>.\n",
      "</BODY></HTML>\n"
     ]
    }
   ],
   "source": [
    "kubectl exec $SLEEP_POD -- curl -m 5 -s google.de"
   ]
  },
  {
   "cell_type": "code",
   "execution_count": 11,
   "metadata": {},
   "outputs": [
    {
     "name": "stdout",
     "output_type": "stream",
     "text": [
      "\n",
      "; <<>> DiG 9.16.1-Ubuntu <<>> heise.de\n",
      ";; global options: +cmd\n",
      ";; Got answer:\n",
      ";; ->>HEADER<<- opcode: QUERY, status: NOERROR, id: 20389\n",
      ";; flags: qr rd ra; QUERY: 1, ANSWER: 1, AUTHORITY: 0, ADDITIONAL: 1\n",
      "\n",
      ";; OPT PSEUDOSECTION:\n",
      "; EDNS: version: 0, flags:; udp: 512\n",
      ";; QUESTION SECTION:\n",
      ";heise.de.\t\t\tIN\tA\n",
      "\n",
      ";; ANSWER SECTION:\n",
      "heise.de.\t\t34424\tIN\tA\t193.99.144.80\n",
      "\n",
      ";; Query time: 18 msec\n",
      ";; SERVER: 192.168.49.1#53(192.168.49.1)\n",
      ";; WHEN: Wed Dec 01 14:03:56 UTC 2021\n",
      ";; MSG SIZE  rcvd: 53\n",
      "\n"
     ]
    }
   ],
   "source": [
    "dig heise.de"
   ]
  },
  {
   "cell_type": "markdown",
   "metadata": {},
   "source": [
    "## Networkpolicy\n"
   ]
  },
  {
   "cell_type": "code",
   "execution_count": 12,
   "metadata": {},
   "outputs": [
    {
     "name": "stdout",
     "output_type": "stream",
     "text": [
      "networkpolicy.networking.k8s.io/test-np created\n"
     ]
    }
   ],
   "source": [
    "kubectl apply -f - <<EOF\n",
    "apiVersion: networking.k8s.io/v1\n",
    "kind: NetworkPolicy\n",
    "metadata:\n",
    "  name: test-np\n",
    "  namespace: default\n",
    "spec:\n",
    "  podSelector:\n",
    "    matchLabels:\n",
    "      app: sleep\n",
    "  policyTypes:\n",
    "  - Ingress\n",
    "  - Egress\n",
    "  ingress:\n",
    "  - from:\n",
    "    - namespaceSelector:\n",
    "        matchLabels:\n",
    "          project: dev\n",
    "    - podSelector:\n",
    "        matchLabels:\n",
    "          role: frontend\n",
    "    ports:\n",
    "    - protocol: TCP\n",
    "      port: 80\n",
    "  egress:\n",
    "  - to:\n",
    "    - ipBlock:\n",
    "        cidr: 193.99.144.80/32\n",
    "    ports:\n",
    "    - protocol: TCP\n",
    "      port: 80\n",
    "EOF"
   ]
  },
  {
   "cell_type": "code",
   "execution_count": 13,
   "metadata": {},
   "outputs": [
    {
     "name": "stdout",
     "output_type": "stream",
     "text": [
      "command terminated with exit code 28\n",
      "28\n"
     ]
    }
   ],
   "source": [
    "kubectl exec $SLEEP_POD -- curl -m 5 -s heise.de\n",
    "echo $?"
   ]
  },
  {
   "cell_type": "code",
   "execution_count": 14,
   "metadata": {},
   "outputs": [
    {
     "name": "stdout",
     "output_type": "stream",
     "text": [
      "command terminated with exit code 28\n",
      "28\n"
     ]
    }
   ],
   "source": [
    "kubectl exec $SLEEP_POD -- curl -m 5  -s google.de\n",
    "echo $?"
   ]
  },
  {
   "cell_type": "code",
   "execution_count": 16,
   "metadata": {},
   "outputs": [
    {
     "name": "stdout",
     "output_type": "stream",
     "text": [
      "<!DOCTYPE HTML PUBLIC \"-//IETF//DTD HTML 2.0//EN\">\n",
      "<html><head>\n",
      "<title>301 Moved Permanently</title>\n",
      "</head><body>\n",
      "<h1>Moved Permanently</h1>\n",
      "<p>The document has moved <a href=\"https://www.heise.de/\">here</a>.</p>\n",
      "</body></html>\n",
      "0\n"
     ]
    }
   ],
   "source": [
    "kubectl exec $SLEEP_POD -- curl -m 5 -s 193.99.144.80\n",
    "echo $?"
   ]
  },
  {
   "cell_type": "code",
   "execution_count": 18,
   "metadata": {},
   "outputs": [
    {
     "name": "stdout",
     "output_type": "stream",
     "text": [
      "command terminated with exit code 28\n"
     ]
    },
    {
     "ename": "",
     "evalue": "28",
     "output_type": "error",
     "traceback": []
    }
   ],
   "source": [
    "kubectl exec $SLEEP_POD -- curl -m 5  -s 172.217.19.67"
   ]
  },
  {
   "cell_type": "markdown",
   "metadata": {},
   "source": [
    "# Include DNS"
   ]
  },
  {
   "cell_type": "code",
   "execution_count": 19,
   "metadata": {},
   "outputs": [
    {
     "name": "stdout",
     "output_type": "stream",
     "text": [
      "networkpolicy.networking.k8s.io/test-np configured\n"
     ]
    }
   ],
   "source": [
    "kubectl apply -f - <<EOF\n",
    "apiVersion: networking.k8s.io/v1\n",
    "kind: NetworkPolicy\n",
    "metadata:\n",
    "  name: test-np\n",
    "  namespace: default\n",
    "spec:\n",
    "  podSelector:\n",
    "    matchLabels:\n",
    "      app: sleep\n",
    "  policyTypes:\n",
    "  - Ingress\n",
    "  - Egress\n",
    "  ingress:\n",
    "  - from:\n",
    "    - namespaceSelector:\n",
    "        matchLabels:\n",
    "          project: dev\n",
    "    - podSelector:\n",
    "        matchLabels:\n",
    "          role: frontend\n",
    "    ports:\n",
    "    - protocol: TCP\n",
    "      port: 80\n",
    "  egress:\n",
    "  - to:\n",
    "    - ipBlock:\n",
    "        cidr: 193.99.144.80/32\n",
    "    ports:\n",
    "    - protocol: TCP\n",
    "      port: 80\n",
    "  - ports:\n",
    "    - port: 53\n",
    "      protocol: UDP\n",
    "    - port: 53\n",
    "      protocol: TCP\n",
    "EOF"
   ]
  },
  {
   "cell_type": "code",
   "execution_count": 20,
   "metadata": {},
   "outputs": [
    {
     "name": "stdout",
     "output_type": "stream",
     "text": [
      "<!DOCTYPE HTML PUBLIC \"-//IETF//DTD HTML 2.0//EN\">\n",
      "<html><head>\n",
      "<title>301 Moved Permanently</title>\n",
      "</head><body>\n",
      "<h1>Moved Permanently</h1>\n",
      "<p>The document has moved <a href=\"https://www.heise.de/\">here</a>.</p>\n",
      "</body></html>\n"
     ]
    }
   ],
   "source": [
    "kubectl exec $SLEEP_POD -- curl -m 5 -s heise.de"
   ]
  },
  {
   "cell_type": "code",
   "execution_count": 31,
   "metadata": {},
   "outputs": [
    {
     "name": "stdout",
     "output_type": "stream",
     "text": [
      "* Rebuilt URL to: google.de/\n",
      "*   Trying 172.217.19.67...\n",
      "* TCP_NODELAY set\n",
      "*   Trying 2a00:1450:4005:80b::2003...\n",
      "* TCP_NODELAY set\n",
      "* Immediate connect fail for 2a00:1450:4005:80b::2003: Address not available\n",
      "*   Trying 2a00:1450:4005:80b::2003...\n",
      "* TCP_NODELAY set\n",
      "* Immediate connect fail for 2a00:1450:4005:80b::2003: Address not available\n",
      "*   Trying 2a00:1450:4005:80b::2003...\n",
      "* TCP_NODELAY set\n",
      "* Immediate connect fail for 2a00:1450:4005:80b::2003: Address not available\n",
      "*   Trying 2a00:1450:4005:80b::2003...\n",
      "* TCP_NODELAY set\n",
      "* Immediate connect fail for 2a00:1450:4005:80b::2003: Address not available\n",
      "*   Trying 2a00:1450:4005:80b::2003...\n",
      "* TCP_NODELAY set\n",
      "* Immediate connect fail for 2a00:1450:4005:80b::2003: Address not available\n",
      "*   Trying 2a00:1450:4005:80b::2003...\n",
      "* TCP_NODELAY set\n",
      "* Immediate connect fail for 2a00:1450:4005:80b::2003: Address not available\n",
      "* Connection timed out after 5001 milliseconds\n",
      "* stopped the pause stream!\n",
      "* Closing connection 0\n",
      "command terminated with exit code 28\n",
      "no connection\n"
     ]
    }
   ],
   "source": [
    "if  kubectl exec $SLEEP_POD -- curl -v -m 5 -s google.de \n",
    "then\n",
    "  echo connection\n",
    "else\n",
    "  echo no connection\n",
    "fi"
   ]
  },
  {
   "cell_type": "code",
   "execution_count": null,
   "metadata": {},
   "outputs": [],
   "source": [
    "kubectl get pods "
   ]
  },
  {
   "cell_type": "markdown",
   "metadata": {},
   "source": [
    "# CNI"
   ]
  },
  {
   "cell_type": "code",
   "execution_count": 22,
   "metadata": {},
   "outputs": [
    {
     "name": "stdout",
     "output_type": "stream",
     "text": [
      "10-calico.conflist  100-crio-bridge.conf  200-loopback.conf  calico-kubeconfig\n"
     ]
    }
   ],
   "source": [
    "ls /etc/cni/net.d"
   ]
  },
  {
   "cell_type": "code",
   "execution_count": 24,
   "metadata": {},
   "outputs": [
    {
     "name": "stdout",
     "output_type": "stream",
     "text": [
      "{\n",
      "  \"name\": \"k8s-pod-network\",\n",
      "  \"cniVersion\": \"0.3.1\",\n",
      "  \"plugins\": [\n",
      "    {\n",
      "      \"type\": \"calico\",\n",
      "      \"log_level\": \"info\",\n",
      "      \"log_file_path\": \"/var/log/calico/cni/cni.log\",\n",
      "      \"datastore_type\": \"kubernetes\",\n",
      "      \"nodename\": \"minikube\",\n",
      "      \"mtu\": 0,\n",
      "      \"ipam\": {\n",
      "          \"type\": \"calico-ipam\"\n",
      "      },\n",
      "      \"policy\": {\n",
      "          \"type\": \"k8s\"\n",
      "      },\n",
      "      \"kubernetes\": {\n",
      "          \"kubeconfig\": \"/etc/cni/net.d/calico-kubeconfig\"\n",
      "      }\n",
      "    },\n",
      "    {\n",
      "      \"type\": \"portmap\",\n",
      "      \"snat\": true,\n",
      "      \"capabilities\": {\"portMappings\": true}\n",
      "    },\n",
      "    {\n",
      "      \"type\": \"bandwidth\",\n",
      "      \"capabilities\": {\"bandwidth\": true}\n",
      "    }\n",
      "  ]\n",
      "}"
     ]
    }
   ],
   "source": [
    "cat /etc/cni/net.d/10-calico.conflist"
   ]
  },
  {
   "cell_type": "code",
   "execution_count": 25,
   "metadata": {},
   "outputs": [
    {
     "name": "stdout",
     "output_type": "stream",
     "text": [
      "# Kubeconfig file for Calico CNI plugin.\n",
      "apiVersion: v1\n",
      "kind: Config\n",
      "clusters:\n",
      "- name: local\n",
      "  cluster:\n",
      "    server: https://[10.96.0.1]:443\n",
      "    certificate-authority-data: LS0tLS1CRUdJTiBDRVJUSUZJQ0FURS0tLS0tCk1JSURCakNDQWU2Z0F3SUJBZ0lCQVRBTkJna3Foa2lHOXcwQkFRc0ZBREFWTVJNd0VRWURWUVFERXdwdGFXNXAKYTNWaVpVTkJNQjRYRFRJeE1ETXdNVEE1TlRRMU1Gb1hEVE14TURJeU9EQTVOVFExTUZvd0ZURVRNQkVHQTFVRQpBeE1LYldsdWFXdDFZbVZEUVRDQ0FTSXdEUVlKS29aSWh2Y05BUUVCQlFBRGdnRVBBRENDQVFvQ2dnRUJBTkh5Cm1SRm1qaG0wdWpKRXd4ZXp2VWZvL0o2Q1Mvbkk3MS9rQlZxVEVTY3ZoZFpkYjdUazl3T1Bueng3VW9UQUIwZXoKZ3AxUjdnVFBnZnJSNGNyKy9Lc08vWExydk9CNEFoOXM0RE1lL1B5OTVyZE1iNmlDUytZMDV1VldkQ3R0bGhrSwpjM3lmblhPS29teXFaVUw0dzJLTFQza1I2clBHVXZ6M3RMYU9lYlpYc2RYNklqZXBaOHVROXZkYldXYVVVS25uCk5jUHdLc3VCNmNra1hibnBmaXRXSWovVnEwbFdZWU5OOXVJZjg0TWFqY2ZjS2twRUpoY2g4SHd2aWdtZGRiWHkKL2hnNXd0VGF3RCtUUWp5d09MVFpIMkg5bEVodGNQMS9PeE9nOU56WitaQW1CcDZFelFJbmFJMCt0YVM2WW1FbQppQ0RzUVlEYnV0bXpFWnliVEJjQ0F3RUFBYU5oTUY4d0RnWURWUjBQQVFIL0JBUURBZ0trTUIwR0ExVWRKUVFXCk1CUUdDQ3NHQVFVRkJ3TUNCZ2dyQmdFRkJRY0RBVEFQQmdOVkhSTUJBZjhFQlRBREFRSC9NQjBHQTFVZERnUVcKQkJRY004c25IMk10R1k3dU55UlZCQmdIY3hwd2hqQU5CZ2txaGtpRzl3MEJBUXNGQUFPQ0FRRUFQdXVINzlKbgpRSHZUNTAyVk1YKzM5WVkyNzI3TCtYU3NOekc0cVYyVjUvakh3by94SDNDQ0svN2EzTTlyVVp6TlpIZytsSG9GCnZiVzZ0K2VvNmJmeE9iSHlMcjVoY1JBSVYxNWpaY0RhTVh4Zys3SjFrWExsb1ZaL2VVcmRqT2lLSEtJOURzU0QKY05DdXdwODRHYXNzdjRVMTBMSmFjd1EvcVRENThDT0UwelFSY0hibjJrMUFRK01BOThHTmlMRHQxTml2UDB6aApOb1hLcURFT1ZkWVE5Mi81VkVkT1o0TVZIOHF6RWw2YUhjZE0zR210WGVtZGlBZFdQV1hJY2JGbzNDVUJzOExVCkk5dzZKUDZvaGhKZysvUUtMaGdhQ1M5dUxVdjlqVnBucVRqUnNvbUtrQ0cyNmNGWGZYeDd5cmJBZG5Kb1p6Z1IKczFVNThZSS9PMm50UXc9PQotLS0tLUVORCBDRVJUSUZJQ0FURS0tLS0tCg==\n",
      "users:\n",
      "- name: calico\n",
      "  user:\n",
      "    token: eyJhbGciOiJSUzI1NiIsImtpZCI6InJDMWNWWG15d25JdW5VREZENUZXVFMwNWZPWHAxamQ5WFVlc2pYckV1STQifQ.eyJhdWQiOlsiaHR0cHM6Ly9rdWJlcm5ldGVzLmRlZmF1bHQuc3ZjLmNsdXN0ZXIubG9jYWwiXSwiZXhwIjoxNjY5OTAzMDYxLCJpYXQiOjE2MzgzNjcwNjEsImlzcyI6Imh0dHBzOi8va3ViZXJuZXRlcy5kZWZhdWx0LnN2Yy5jbHVzdGVyLmxvY2FsIiwia3ViZXJuZXRlcy5pbyI6eyJuYW1lc3BhY2UiOiJrdWJlLXN5c3RlbSIsInBvZCI6eyJuYW1lIjoiY2FsaWNvLW5vZGUtazZmcGIiLCJ1aWQiOiI2NWFiMWQ4Yi1jYTgxLTRjZDQtOGYxMy0zOGEwZmM3YzU2NmYifSwic2VydmljZWFjY291bnQiOnsibmFtZSI6ImNhbGljby1ub2RlIiwidWlkIjoiYmE4Y2RiNWUtY2U2MC00NWRmLThiNWQtNjY4MDk0MjUxMmMwIn0sIndhcm5hZnRlciI6MTYzODM3MDY2OH0sIm5iZiI6MTYzODM2NzA2MSwic3ViIjoic3lzdGVtOnNlcnZpY2VhY2NvdW50Omt1YmUtc3lzdGVtOmNhbGljby1ub2RlIn0.Yn8UZFNH5MhOi6r9eJMP7eIAqlht-7vLYhBuVx1LRQO1VQhz6dsjRqqyWt4T1fAVw16yKOJS0vshsUcQqaQUK-3JSXmd-wytYnvp8L2-YUp3LW0SrgBcm4BGB3wc8suKtuQkPpqmW8Uc1RYrMUPUMqgH5grVHvgg72f5uY3GJ3J5pSC4R54Lh5Lc3--g5lq96stR2-W4wVTnHgggLtW1nhNe03btaEJ-WijjhCzJtTmQaUEXW-Ct6AkkKUk9Il5MTX8bFjDmkNJJitIhjS3eyEU-fxrWBxpqZn2OY_zcpBw8aisVEcCKWQsluNSeAADJcJ6cjjU_2BttIY4mn8C8yw\n",
      "contexts:\n",
      "- name: calico-context\n",
      "  context:\n",
      "    cluster: local\n",
      "    user: calico\n",
      "current-context: calico-context"
     ]
    }
   ],
   "source": [
    "cat /etc/cni/net.d/calico-kubeconfig"
   ]
  },
  {
   "cell_type": "code",
   "execution_count": 26,
   "metadata": {},
   "outputs": [
    {
     "name": "stdout",
     "output_type": "stream",
     "text": [
      "1: lo: <LOOPBACK,UP,LOWER_UP> mtu 65536 qdisc noqueue state UNKNOWN group default qlen 1000\n",
      "    link/loopback 00:00:00:00:00:00 brd 00:00:00:00:00:00\n",
      "    inet 127.0.0.1/8 scope host lo\n",
      "       valid_lft forever preferred_lft forever\n",
      "2: tunl0@NONE: <NOARP,UP,LOWER_UP> mtu 1480 qdisc noqueue state UNKNOWN group default qlen 1000\n",
      "    link/ipip 0.0.0.0 brd 0.0.0.0\n",
      "    inet 10.244.120.64/32 scope global tunl0\n",
      "       valid_lft forever preferred_lft forever\n",
      "3: docker0: <NO-CARRIER,BROADCAST,MULTICAST,UP> mtu 1500 qdisc noqueue state DOWN group default \n",
      "    link/ether 02:42:0f:4d:e2:95 brd ff:ff:ff:ff:ff:ff\n",
      "    inet 172.17.0.1/16 brd 172.17.255.255 scope global docker0\n",
      "       valid_lft forever preferred_lft forever\n",
      "4: cni0: <NO-CARRIER,BROADCAST,MULTICAST,UP> mtu 1500 qdisc noqueue state DOWN group default qlen 1000\n",
      "    link/ether 7e:96:62:01:ad:e4 brd ff:ff:ff:ff:ff:ff\n",
      "    inet 10.85.0.1/16 brd 10.85.255.255 scope global cni0\n",
      "       valid_lft forever preferred_lft forever\n",
      "39: eth0@if40: <BROADCAST,MULTICAST,UP,LOWER_UP> mtu 1500 qdisc noqueue state UP group default \n",
      "    link/ether 02:42:c0:a8:31:02 brd ff:ff:ff:ff:ff:ff link-netnsid 0\n",
      "    inet 192.168.49.2/24 brd 192.168.49.255 scope global eth0\n",
      "       valid_lft forever preferred_lft forever\n",
      "166: calib8924ddd0fb@if4: <BROADCAST,MULTICAST,UP,LOWER_UP> mtu 1480 qdisc noqueue state UP group default \n",
      "    link/ether ee:ee:ee:ee:ee:ee brd ff:ff:ff:ff:ff:ff link-netnsid 1\n",
      "167: cali2b0db53da4d@if4: <BROADCAST,MULTICAST,UP,LOWER_UP> mtu 1480 qdisc noqueue state UP group default \n",
      "    link/ether ee:ee:ee:ee:ee:ee brd ff:ff:ff:ff:ff:ff link-netnsid 2\n",
      "168: calif3be1e29260@if4: <BROADCAST,MULTICAST,UP,LOWER_UP> mtu 1480 qdisc noqueue state UP group default \n",
      "    link/ether ee:ee:ee:ee:ee:ee brd ff:ff:ff:ff:ff:ff link-netnsid 3\n"
     ]
    }
   ],
   "source": [
    "ip a"
   ]
  },
  {
   "cell_type": "code",
   "execution_count": 28,
   "metadata": {},
   "outputs": [
    {
     "name": "stdout",
     "output_type": "stream",
     "text": [
      "{\n",
      "  \"kind\": \"Status\",\n",
      "  \"apiVersion\": \"v1\",\n",
      "  \"metadata\": {\n",
      "    \n",
      "  },\n",
      "  \"status\": \"Failure\",\n",
      "  \"message\": \"forbidden: User \\\"system:anonymous\\\" cannot get path \\\"/\\\"\",\n",
      "  \"reason\": \"Forbidden\",\n",
      "  \"details\": {\n",
      "    \n",
      "  },\n",
      "  \"code\": 403\n",
      "}"
     ]
    }
   ],
   "source": [
    "curl -m 5 -k  https://10.96.0.1:443"
   ]
  },
  {
   "cell_type": "code",
   "execution_count": null,
   "metadata": {},
   "outputs": [],
   "source": []
  }
 ],
 "metadata": {
  "kernelspec": {
   "display_name": "Bash",
   "language": "bash",
   "name": "bash"
  },
  "language_info": {
   "codemirror_mode": "shell",
   "file_extension": ".sh",
   "mimetype": "text/x-sh",
   "name": "bash"
  }
 },
 "nbformat": 4,
 "nbformat_minor": 4
}
