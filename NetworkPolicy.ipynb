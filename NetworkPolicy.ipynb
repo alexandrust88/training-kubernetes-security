{
 "cells": [
  {
   "cell_type": "markdown",
   "metadata": {},
   "source": [
    "**This notebook covered by the following [license](License.ipynb)  This note must not be removed**"
   ]
  },
  {
   "cell_type": "markdown",
   "metadata": {},
   "source": [
    "# Documentation\n",
    "\n",
    "[Link to official NetworkPolicy documentation](https://kubernetes.io/docs/concepts/services-networking/network-policies/)\n",
    "\n",
    "## Activate Calico\n",
    "\n",
    "`minikube start --network-plugin=cni --cni=calico`\n",
    "\n",
    "Made by [Tigera](https://www.tigera.io/)\n"
   ]
  },
  {
   "cell_type": "markdown",
   "metadata": {},
   "source": [
    "## Alternativley Install Cilium in Minikube\n",
    "https://docs.cilium.io/en/stable/gettingstarted/minikube/\n",
    "\n",
    "**Warning** this might be highly version critical and needs testing if the minikube version is different from 1.3.1"
   ]
  },
  {
   "cell_type": "markdown",
   "metadata": {},
   "source": [
    "Activate Berkeley Packet Filters\n",
    "\n",
    "`minikube ssh -- sudo mount bpffs -t bpf /sys/fs/bpf`\n"
   ]
  },
  {
   "cell_type": "markdown",
   "metadata": {},
   "source": [
    "**This might take some 6 minutes**"
   ]
  },
  {
   "cell_type": "markdown",
   "metadata": {},
   "source": [
    "`kubectl create -f https://raw.githubusercontent.com/cilium/cilium/1.6.1/install/kubernetes/quick-install.yaml`\n"
   ]
  },
  {
   "cell_type": "code",
   "execution_count": 1,
   "metadata": {},
   "outputs": [
    {
     "name": "stdout",
     "output_type": "stream",
     "text": [
      "NAMESPACE     NAME                                       READY   STATUS    RESTARTS        AGE\n",
      "kube-system   calico-kube-controllers-58497c65d5-lptb7   1/1     Running   0               3m11s\n",
      "kube-system   calico-node-424xg                          1/1     Running   0               3m11s\n",
      "kube-system   coredns-78fcd69978-cvtqr                   1/1     Running   0               3m11s\n",
      "kube-system   etcd-minikube                              1/1     Running   0               3m23s\n",
      "kube-system   kube-apiserver-minikube                    1/1     Running   0               3m23s\n",
      "kube-system   kube-controller-manager-minikube           1/1     Running   0               3m23s\n",
      "kube-system   kube-proxy-6gdfl                           1/1     Running   0               3m11s\n",
      "kube-system   kube-scheduler-minikube                    1/1     Running   0               3m23s\n",
      "kube-system   storage-provisioner                        1/1     Running   1 (2m40s ago)   3m20s\n"
     ]
    }
   ],
   "source": [
    "kubectl get pods -A "
   ]
  },
  {
   "cell_type": "code",
   "execution_count": 2,
   "metadata": {},
   "outputs": [
    {
     "name": "stdout",
     "output_type": "stream",
     "text": [
      "NAME                                           READY   STATUS    RESTARTS        AGE\n",
      "pod/calico-kube-controllers-58497c65d5-lptb7   1/1     Running   0               3m53s\n",
      "pod/calico-node-424xg                          1/1     Running   0               3m53s\n",
      "pod/coredns-78fcd69978-cvtqr                   1/1     Running   0               3m53s\n",
      "pod/etcd-minikube                              1/1     Running   0               4m5s\n",
      "pod/kube-apiserver-minikube                    1/1     Running   0               4m5s\n",
      "pod/kube-controller-manager-minikube           1/1     Running   0               4m5s\n",
      "pod/kube-proxy-6gdfl                           1/1     Running   0               3m53s\n",
      "pod/kube-scheduler-minikube                    1/1     Running   0               4m5s\n",
      "pod/storage-provisioner                        1/1     Running   1 (3m22s ago)   4m2s\n",
      "\n",
      "NAME               TYPE        CLUSTER-IP   EXTERNAL-IP   PORT(S)                  AGE\n",
      "service/kube-dns   ClusterIP   10.96.0.10   <none>        53/UDP,53/TCP,9153/TCP   4m6s\n",
      "\n",
      "NAME                         DESIRED   CURRENT   READY   UP-TO-DATE   AVAILABLE   NODE SELECTOR            AGE\n",
      "daemonset.apps/calico-node   1         1         1       1            1           kubernetes.io/os=linux   4m4s\n",
      "daemonset.apps/kube-proxy    1         1         1       1            1           kubernetes.io/os=linux   4m6s\n",
      "\n",
      "NAME                                      READY   UP-TO-DATE   AVAILABLE   AGE\n",
      "deployment.apps/calico-kube-controllers   1/1     1            1           4m4s\n",
      "deployment.apps/coredns                   1/1     1            1           4m6s\n",
      "\n",
      "NAME                                                 DESIRED   CURRENT   READY   AGE\n",
      "replicaset.apps/calico-kube-controllers-58497c65d5   1         1         1       3m53s\n",
      "replicaset.apps/coredns-78fcd69978                   1         1         1       3m53s\n"
     ]
    }
   ],
   "source": [
    "kubectl get all -n kube-system"
   ]
  },
  {
   "cell_type": "markdown",
   "metadata": {},
   "source": [
    "## Create a test\n",
    "\n",
    "It will deploy a simple probe and echo server running with multiple replicas. The probe will only report readiness while it can successfully reach the echo server:"
   ]
  },
  {
   "cell_type": "code",
   "execution_count": null,
   "metadata": {},
   "outputs": [],
   "source": [
    "kubectl get pods"
   ]
  },
  {
   "cell_type": "markdown",
   "metadata": {},
   "source": [
    "The Apache example follows \n",
    "https://supergiant.io/blog/understanding-network-policies-in-kubernetes/\n",
    "with the updated versions of the Cilium installation above"
   ]
  },
  {
   "cell_type": "code",
   "execution_count": 3,
   "metadata": {},
   "outputs": [
    {
     "name": "stdout",
     "output_type": "stream",
     "text": [
      "deployment.apps/sleep created\n"
     ]
    }
   ],
   "source": [
    "kubectl apply -f - <<EOF\n",
    "apiVersion: apps/v1\n",
    "kind: Deployment\n",
    "metadata:\n",
    "  name: sleep\n",
    "spec:\n",
    "  replicas: 1\n",
    "  selector:\n",
    "    matchLabels:\n",
    "      app: sleep\n",
    "  template:\n",
    "    metadata:\n",
    "      labels:\n",
    "        app: sleep\n",
    "    spec:\n",
    "      containers:\n",
    "      - name: sleep\n",
    "        image: pstauffer/curl\n",
    "        command: [\"/bin/sleep\", \"3650d\"]\n",
    "        imagePullPolicy: IfNotPresent\n",
    "EOF"
   ]
  },
  {
   "cell_type": "code",
   "execution_count": 10,
   "metadata": {},
   "outputs": [
    {
     "name": "stdout",
     "output_type": "stream",
     "text": [
      "NAME                        READY   STATUS    RESTARTS   AGE\n",
      "pod/sleep-56bc8d768-w8dzz   1/1     Running   0          79s\n",
      "\n",
      "NAME                 TYPE        CLUSTER-IP   EXTERNAL-IP   PORT(S)   AGE\n",
      "service/kubernetes   ClusterIP   10.96.0.1    <none>        443/TCP   6m51s\n"
     ]
    }
   ],
   "source": [
    "kubectl get pods,svc"
   ]
  },
  {
   "cell_type": "code",
   "execution_count": 6,
   "metadata": {},
   "outputs": [
    {
     "name": "stdout",
     "output_type": "stream",
     "text": [
      "sleep-56bc8d768-w8dzz\n"
     ]
    }
   ],
   "source": [
    "SLEEP_POD=$(kubectl get pods | awk '/sleep-/{print $1}')\n",
    "echo $SLEEP_POD"
   ]
  },
  {
   "cell_type": "code",
   "execution_count": 11,
   "metadata": {},
   "outputs": [
    {
     "name": "stdout",
     "output_type": "stream",
     "text": [
      "<!DOCTYPE HTML PUBLIC \"-//IETF//DTD HTML 2.0//EN\">\n",
      "<html><head>\n",
      "<title>301 Moved Permanently</title>\n",
      "</head><body>\n",
      "<h1>Moved Permanently</h1>\n",
      "<p>The document has moved <a href=\"https://www.heise.de/\">here</a>.</p>\n",
      "</body></html>\n"
     ]
    }
   ],
   "source": [
    "kubectl exec $SLEEP_POD -- curl -m 5 -s heise.de"
   ]
  },
  {
   "cell_type": "code",
   "execution_count": 12,
   "metadata": {},
   "outputs": [
    {
     "name": "stdout",
     "output_type": "stream",
     "text": [
      "<HTML><HEAD><meta http-equiv=\"content-type\" content=\"text/html;charset=utf-8\">\n",
      "<TITLE>301 Moved</TITLE></HEAD><BODY>\n",
      "<H1>301 Moved</H1>\n",
      "The document has moved\n",
      "<A HREF=\"http://www.google.de/\">here</A>.\n",
      "</BODY></HTML>\n"
     ]
    }
   ],
   "source": [
    "kubectl exec $SLEEP_POD -- curl -m 5 -s google.de"
   ]
  },
  {
   "cell_type": "code",
   "execution_count": 13,
   "metadata": {},
   "outputs": [
    {
     "name": "stdout",
     "output_type": "stream",
     "text": [
      "\n",
      "; <<>> DiG 9.16.1-Ubuntu <<>> heise.de\n",
      ";; global options: +cmd\n",
      ";; Got answer:\n",
      ";; ->>HEADER<<- opcode: QUERY, status: NOERROR, id: 10417\n",
      ";; flags: qr rd ra; QUERY: 1, ANSWER: 1, AUTHORITY: 0, ADDITIONAL: 1\n",
      "\n",
      ";; OPT PSEUDOSECTION:\n",
      "; EDNS: version: 0, flags:; udp: 512\n",
      ";; QUESTION SECTION:\n",
      ";heise.de.\t\t\tIN\tA\n",
      "\n",
      ";; ANSWER SECTION:\n",
      "heise.de.\t\t7988\tIN\tA\t193.99.144.80\n",
      "\n",
      ";; Query time: 21 msec\n",
      ";; SERVER: 192.168.49.1#53(192.168.49.1)\n",
      ";; WHEN: Thu Dec 16 08:46:53 UTC 2021\n",
      ";; MSG SIZE  rcvd: 53\n",
      "\n"
     ]
    }
   ],
   "source": [
    "dig heise.de"
   ]
  },
  {
   "cell_type": "markdown",
   "metadata": {},
   "source": [
    "## Networkpolicy\n"
   ]
  },
  {
   "cell_type": "code",
   "execution_count": 14,
   "metadata": {},
   "outputs": [
    {
     "name": "stdout",
     "output_type": "stream",
     "text": [
      "networkpolicy.networking.k8s.io/test-np created\n"
     ]
    }
   ],
   "source": [
    "kubectl apply -f - <<EOF\n",
    "apiVersion: networking.k8s.io/v1\n",
    "kind: NetworkPolicy\n",
    "metadata:\n",
    "  name: test-np\n",
    "  namespace: default\n",
    "spec:\n",
    "  podSelector:\n",
    "    matchLabels:\n",
    "      app: sleep\n",
    "  policyTypes:\n",
    "  - Ingress\n",
    "  - Egress\n",
    "  ingress:\n",
    "  - from:\n",
    "    - namespaceSelector:\n",
    "        matchLabels:\n",
    "          project: dev\n",
    "    - podSelector:\n",
    "        matchLabels:\n",
    "          role: frontend\n",
    "    ports:\n",
    "    - protocol: TCP\n",
    "      port: 80\n",
    "  egress:\n",
    "  - to:\n",
    "    - ipBlock:\n",
    "        cidr: 193.99.144.80/32\n",
    "    ports:\n",
    "    - protocol: TCP\n",
    "      port: 80\n",
    "EOF"
   ]
  },
  {
   "cell_type": "code",
   "execution_count": 15,
   "metadata": {},
   "outputs": [
    {
     "name": "stdout",
     "output_type": "stream",
     "text": [
      "command terminated with exit code 28\n",
      "28\n"
     ]
    }
   ],
   "source": [
    "kubectl exec $SLEEP_POD -- curl -m 5 -s heise.de\n",
    "echo $?"
   ]
  },
  {
   "cell_type": "code",
   "execution_count": 16,
   "metadata": {},
   "outputs": [
    {
     "name": "stdout",
     "output_type": "stream",
     "text": [
      "command terminated with exit code 28\n",
      "28\n"
     ]
    }
   ],
   "source": [
    "kubectl exec $SLEEP_POD -- curl -m 5  -s google.de\n",
    "echo $?"
   ]
  },
  {
   "cell_type": "code",
   "execution_count": 17,
   "metadata": {},
   "outputs": [
    {
     "name": "stdout",
     "output_type": "stream",
     "text": [
      "<!DOCTYPE HTML PUBLIC \"-//IETF//DTD HTML 2.0//EN\">\n",
      "<html><head>\n",
      "<title>301 Moved Permanently</title>\n",
      "</head><body>\n",
      "<h1>Moved Permanently</h1>\n",
      "<p>The document has moved <a href=\"https://www.heise.de/\">here</a>.</p>\n",
      "</body></html>\n",
      "0\n"
     ]
    }
   ],
   "source": [
    "kubectl exec $SLEEP_POD -- curl -m 5 -s 193.99.144.80\n",
    "echo $?"
   ]
  },
  {
   "cell_type": "code",
   "execution_count": 18,
   "metadata": {},
   "outputs": [
    {
     "name": "stdout",
     "output_type": "stream",
     "text": [
      "command terminated with exit code 28\n"
     ]
    },
    {
     "ename": "",
     "evalue": "28",
     "output_type": "error",
     "traceback": []
    }
   ],
   "source": [
    "kubectl exec $SLEEP_POD -- curl -m 5  -s 172.217.19.67"
   ]
  },
  {
   "cell_type": "markdown",
   "metadata": {},
   "source": [
    "# Include DNS"
   ]
  },
  {
   "cell_type": "code",
   "execution_count": 19,
   "metadata": {},
   "outputs": [
    {
     "name": "stdout",
     "output_type": "stream",
     "text": [
      "networkpolicy.networking.k8s.io/test-np configured\n"
     ]
    }
   ],
   "source": [
    "kubectl apply -f - <<EOF\n",
    "apiVersion: networking.k8s.io/v1\n",
    "kind: NetworkPolicy\n",
    "metadata:\n",
    "  name: test-np\n",
    "  namespace: default\n",
    "spec:\n",
    "  podSelector:\n",
    "    matchLabels:\n",
    "      app: sleep\n",
    "  policyTypes:\n",
    "  - Ingress\n",
    "  - Egress\n",
    "  ingress:\n",
    "  - from:\n",
    "    - namespaceSelector:\n",
    "        matchLabels:\n",
    "          project: dev\n",
    "    - podSelector:\n",
    "        matchLabels:\n",
    "          role: frontend\n",
    "    ports:\n",
    "    - protocol: TCP\n",
    "      port: 80\n",
    "  egress:\n",
    "  - to:\n",
    "    - ipBlock:\n",
    "        cidr: 193.99.144.80/32\n",
    "    ports:\n",
    "    - protocol: TCP\n",
    "      port: 80\n",
    "  - ports:\n",
    "    - port: 53\n",
    "      protocol: UDP\n",
    "    - port: 53\n",
    "      protocol: TCP\n",
    "EOF"
   ]
  },
  {
   "cell_type": "code",
   "execution_count": 20,
   "metadata": {},
   "outputs": [
    {
     "name": "stdout",
     "output_type": "stream",
     "text": [
      "<!DOCTYPE HTML PUBLIC \"-//IETF//DTD HTML 2.0//EN\">\n",
      "<html><head>\n",
      "<title>301 Moved Permanently</title>\n",
      "</head><body>\n",
      "<h1>Moved Permanently</h1>\n",
      "<p>The document has moved <a href=\"https://www.heise.de/\">here</a>.</p>\n",
      "</body></html>\n"
     ]
    }
   ],
   "source": [
    "kubectl exec $SLEEP_POD -- curl -m 5 -s heise.de"
   ]
  },
  {
   "cell_type": "code",
   "execution_count": 21,
   "metadata": {},
   "outputs": [
    {
     "name": "stdout",
     "output_type": "stream",
     "text": [
      "* Rebuilt URL to: google.de/\n",
      "*   Trying 142.250.185.131...\n",
      "* TCP_NODELAY set\n",
      "*   Trying 2a00:1450:4001:810::2003...\n",
      "* TCP_NODELAY set\n",
      "* Immediate connect fail for 2a00:1450:4001:810::2003: Address not available\n",
      "*   Trying 2a00:1450:4001:810::2003...\n",
      "* TCP_NODELAY set\n",
      "* Immediate connect fail for 2a00:1450:4001:810::2003: Address not available\n",
      "*   Trying 2a00:1450:4001:810::2003...\n",
      "* TCP_NODELAY set\n",
      "* Immediate connect fail for 2a00:1450:4001:810::2003: Address not available\n",
      "*   Trying 2a00:1450:4001:810::2003...\n",
      "* TCP_NODELAY set\n",
      "* Immediate connect fail for 2a00:1450:4001:810::2003: Address not available\n",
      "*   Trying 2a00:1450:4001:810::2003...\n",
      "* TCP_NODELAY set\n",
      "* Immediate connect fail for 2a00:1450:4001:810::2003: Address not available\n",
      "*   Trying 2a00:1450:4001:810::2003...\n",
      "* TCP_NODELAY set\n",
      "* Immediate connect fail for 2a00:1450:4001:810::2003: Address not available\n",
      "* Connection timed out after 5000 milliseconds\n",
      "* stopped the pause stream!\n",
      "* Closing connection 0\n",
      "command terminated with exit code 28\n",
      "no connection\n"
     ]
    }
   ],
   "source": [
    "if  kubectl exec $SLEEP_POD -- curl -v -m 5 -s google.de \n",
    "then\n",
    "  echo connection\n",
    "else\n",
    "  echo no connection\n",
    "fi"
   ]
  },
  {
   "cell_type": "code",
   "execution_count": 22,
   "metadata": {},
   "outputs": [
    {
     "name": "stdout",
     "output_type": "stream",
     "text": [
      "NAME                    READY   STATUS    RESTARTS   AGE\n",
      "sleep-56bc8d768-w8dzz   1/1     Running   0          6m30s\n"
     ]
    }
   ],
   "source": [
    "kubectl get pods "
   ]
  },
  {
   "cell_type": "markdown",
   "metadata": {},
   "source": [
    "# CNI"
   ]
  },
  {
   "cell_type": "code",
   "execution_count": 23,
   "metadata": {},
   "outputs": [
    {
     "name": "stdout",
     "output_type": "stream",
     "text": [
      "10-calico.conflist  100-crio-bridge.conf  200-loopback.conf  calico-kubeconfig\n"
     ]
    }
   ],
   "source": [
    "ls /etc/cni/net.d"
   ]
  },
  {
   "cell_type": "code",
   "execution_count": 24,
   "metadata": {},
   "outputs": [
    {
     "name": "stdout",
     "output_type": "stream",
     "text": [
      "{\n",
      "  \"name\": \"k8s-pod-network\",\n",
      "  \"cniVersion\": \"0.3.1\",\n",
      "  \"plugins\": [\n",
      "    {\n",
      "      \"type\": \"calico\",\n",
      "      \"log_level\": \"info\",\n",
      "      \"log_file_path\": \"/var/log/calico/cni/cni.log\",\n",
      "      \"datastore_type\": \"kubernetes\",\n",
      "      \"nodename\": \"minikube\",\n",
      "      \"mtu\": 0,\n",
      "      \"ipam\": {\n",
      "          \"type\": \"calico-ipam\"\n",
      "      },\n",
      "      \"policy\": {\n",
      "          \"type\": \"k8s\"\n",
      "      },\n",
      "      \"kubernetes\": {\n",
      "          \"kubeconfig\": \"/etc/cni/net.d/calico-kubeconfig\"\n",
      "      }\n",
      "    },\n",
      "    {\n",
      "      \"type\": \"portmap\",\n",
      "      \"snat\": true,\n",
      "      \"capabilities\": {\"portMappings\": true}\n",
      "    },\n",
      "    {\n",
      "      \"type\": \"bandwidth\",\n",
      "      \"capabilities\": {\"bandwidth\": true}\n",
      "    }\n",
      "  ]\n",
      "}"
     ]
    }
   ],
   "source": [
    "cat /etc/cni/net.d/10-calico.conflist"
   ]
  },
  {
   "cell_type": "code",
   "execution_count": 25,
   "metadata": {},
   "outputs": [
    {
     "name": "stdout",
     "output_type": "stream",
     "text": [
      "# Kubeconfig file for Calico CNI plugin.\n",
      "apiVersion: v1\n",
      "kind: Config\n",
      "clusters:\n",
      "- name: local\n",
      "  cluster:\n",
      "    server: https://[10.96.0.1]:443\n",
      "    certificate-authority-data: LS0tLS1CRUdJTiBDRVJUSUZJQ0FURS0tLS0tCk1JSURCakNDQWU2Z0F3SUJBZ0lCQVRBTkJna3Foa2lHOXcwQkFRc0ZBREFWTVJNd0VRWURWUVFERXdwdGFXNXAKYTNWaVpVTkJNQjRYRFRJeE1ETXdNVEE1TlRRMU1Gb1hEVE14TURJeU9EQTVOVFExTUZvd0ZURVRNQkVHQTFVRQpBeE1LYldsdWFXdDFZbVZEUVRDQ0FTSXdEUVlKS29aSWh2Y05BUUVCQlFBRGdnRVBBRENDQVFvQ2dnRUJBTkh5Cm1SRm1qaG0wdWpKRXd4ZXp2VWZvL0o2Q1Mvbkk3MS9rQlZxVEVTY3ZoZFpkYjdUazl3T1Bueng3VW9UQUIwZXoKZ3AxUjdnVFBnZnJSNGNyKy9Lc08vWExydk9CNEFoOXM0RE1lL1B5OTVyZE1iNmlDUytZMDV1VldkQ3R0bGhrSwpjM3lmblhPS29teXFaVUw0dzJLTFQza1I2clBHVXZ6M3RMYU9lYlpYc2RYNklqZXBaOHVROXZkYldXYVVVS25uCk5jUHdLc3VCNmNra1hibnBmaXRXSWovVnEwbFdZWU5OOXVJZjg0TWFqY2ZjS2twRUpoY2g4SHd2aWdtZGRiWHkKL2hnNXd0VGF3RCtUUWp5d09MVFpIMkg5bEVodGNQMS9PeE9nOU56WitaQW1CcDZFelFJbmFJMCt0YVM2WW1FbQppQ0RzUVlEYnV0bXpFWnliVEJjQ0F3RUFBYU5oTUY4d0RnWURWUjBQQVFIL0JBUURBZ0trTUIwR0ExVWRKUVFXCk1CUUdDQ3NHQVFVRkJ3TUNCZ2dyQmdFRkJRY0RBVEFQQmdOVkhSTUJBZjhFQlRBREFRSC9NQjBHQTFVZERnUVcKQkJRY004c25IMk10R1k3dU55UlZCQmdIY3hwd2hqQU5CZ2txaGtpRzl3MEJBUXNGQUFPQ0FRRUFQdXVINzlKbgpRSHZUNTAyVk1YKzM5WVkyNzI3TCtYU3NOekc0cVYyVjUvakh3by94SDNDQ0svN2EzTTlyVVp6TlpIZytsSG9GCnZiVzZ0K2VvNmJmeE9iSHlMcjVoY1JBSVYxNWpaY0RhTVh4Zys3SjFrWExsb1ZaL2VVcmRqT2lLSEtJOURzU0QKY05DdXdwODRHYXNzdjRVMTBMSmFjd1EvcVRENThDT0UwelFSY0hibjJrMUFRK01BOThHTmlMRHQxTml2UDB6aApOb1hLcURFT1ZkWVE5Mi81VkVkT1o0TVZIOHF6RWw2YUhjZE0zR210WGVtZGlBZFdQV1hJY2JGbzNDVUJzOExVCkk5dzZKUDZvaGhKZysvUUtMaGdhQ1M5dUxVdjlqVnBucVRqUnNvbUtrQ0cyNmNGWGZYeDd5cmJBZG5Kb1p6Z1IKczFVNThZSS9PMm50UXc9PQotLS0tLUVORCBDRVJUSUZJQ0FURS0tLS0tCg==\n",
      "users:\n",
      "- name: calico\n",
      "  user:\n",
      "    token: eyJhbGciOiJSUzI1NiIsImtpZCI6Ik1pZzR4Z2p6QngtNUNPN19jeTdTdkJ2d2xKaDI1VWRWSWdsVy1fMFZVRk0ifQ.eyJhdWQiOlsiaHR0cHM6Ly9rdWJlcm5ldGVzLmRlZmF1bHQuc3ZjLmNsdXN0ZXIubG9jYWwiXSwiZXhwIjoxNjcxMTc5OTk1LCJpYXQiOjE2Mzk2NDM5OTUsImlzcyI6Imh0dHBzOi8va3ViZXJuZXRlcy5kZWZhdWx0LnN2Yy5jbHVzdGVyLmxvY2FsIiwia3ViZXJuZXRlcy5pbyI6eyJuYW1lc3BhY2UiOiJrdWJlLXN5c3RlbSIsInBvZCI6eyJuYW1lIjoiY2FsaWNvLW5vZGUtNDI0eGciLCJ1aWQiOiIxZmU0ZjVjMS0yZTlhLTQ5OGMtOWZhZi1hNTc5YTdjNWQ5NTkifSwic2VydmljZWFjY291bnQiOnsibmFtZSI6ImNhbGljby1ub2RlIiwidWlkIjoiN2U3Nzg2YzEtYmVhYS00YzI0LWJlZDktOTA3YjYzMDY4MTcwIn0sIndhcm5hZnRlciI6MTYzOTY0NzYwMn0sIm5iZiI6MTYzOTY0Mzk5NSwic3ViIjoic3lzdGVtOnNlcnZpY2VhY2NvdW50Omt1YmUtc3lzdGVtOmNhbGljby1ub2RlIn0.jMvoKdh7ah4lMatw2Hf5pHuKGJ_hjDpSR6IexAdCQUvoLCG2ByHEt2AGngW_dlRa_AzCU-hIIsjNGuBnM644rZJy5sHECYj4N_03P_KOJwIM8U10bX1uZvxkHzqJPagdYCO0QQ6IbIIpP9e9DwMPmTWmc3ahw9xTWEmUcNZq3Wq-t4QQT5uDZiyicG3FAeT-FJ4FnPglQ375GujM-hfqCwdjUk5ma7arfpujhuRaHR8In3cB4JZNs16Yiobj6VXZCvf21wXMjKkQMRsr_km3tNQuVjTpICJpVtDkjmxTb7doYT3ju3COYtdtYOnBo411bwYAiA-VWWQqAxSplc0tWw\n",
      "contexts:\n",
      "- name: calico-context\n",
      "  context:\n",
      "    cluster: local\n",
      "    user: calico\n",
      "current-context: calico-context"
     ]
    }
   ],
   "source": [
    "cat /etc/cni/net.d/calico-kubeconfig"
   ]
  },
  {
   "cell_type": "code",
   "execution_count": 26,
   "metadata": {},
   "outputs": [
    {
     "name": "stdout",
     "output_type": "stream",
     "text": [
      "1: lo: <LOOPBACK,UP,LOWER_UP> mtu 65536 qdisc noqueue state UNKNOWN group default qlen 1000\n",
      "    link/loopback 00:00:00:00:00:00 brd 00:00:00:00:00:00\n",
      "    inet 127.0.0.1/8 scope host lo\n",
      "       valid_lft forever preferred_lft forever\n",
      "2: tunl0@NONE: <NOARP,UP,LOWER_UP> mtu 1480 qdisc noqueue state UNKNOWN group default qlen 1000\n",
      "    link/ipip 0.0.0.0 brd 0.0.0.0\n",
      "    inet 10.244.120.65/32 scope global tunl0\n",
      "       valid_lft forever preferred_lft forever\n",
      "3: docker0: <NO-CARRIER,BROADCAST,MULTICAST,UP> mtu 1500 qdisc noqueue state DOWN group default \n",
      "    link/ether 02:42:6f:48:d3:49 brd ff:ff:ff:ff:ff:ff\n",
      "    inet 172.17.0.1/16 brd 172.17.255.255 scope global docker0\n",
      "       valid_lft forever preferred_lft forever\n",
      "4: cni0: <NO-CARRIER,BROADCAST,MULTICAST,UP> mtu 1500 qdisc noqueue state DOWN group default qlen 1000\n",
      "    link/ether f2:b0:57:df:2f:42 brd ff:ff:ff:ff:ff:ff\n",
      "    inet 10.85.0.1/16 brd 10.85.255.255 scope global cni0\n",
      "       valid_lft forever preferred_lft forever\n",
      "64: cali293b091bebc@if4: <BROADCAST,MULTICAST,UP,LOWER_UP> mtu 1500 qdisc noqueue state UP group default \n",
      "    link/ether ee:ee:ee:ee:ee:ee brd ff:ff:ff:ff:ff:ff link-netnsid 1\n",
      "67: cali316edb2289c@if4: <BROADCAST,MULTICAST,UP,LOWER_UP> mtu 1480 qdisc noqueue state UP group default \n",
      "    link/ether ee:ee:ee:ee:ee:ee brd ff:ff:ff:ff:ff:ff link-netnsid 2\n",
      "68: calif4074e59853@if4: <BROADCAST,MULTICAST,UP,LOWER_UP> mtu 1480 qdisc noqueue state UP group default \n",
      "    link/ether ee:ee:ee:ee:ee:ee brd ff:ff:ff:ff:ff:ff link-netnsid 3\n",
      "123: eth0@if124: <BROADCAST,MULTICAST,UP,LOWER_UP> mtu 1500 qdisc noqueue state UP group default \n",
      "    link/ether 02:42:c0:a8:31:02 brd ff:ff:ff:ff:ff:ff link-netnsid 0\n",
      "    inet 192.168.49.2/24 brd 192.168.49.255 scope global eth0\n",
      "       valid_lft forever preferred_lft forever\n"
     ]
    }
   ],
   "source": [
    "ip a"
   ]
  },
  {
   "cell_type": "code",
   "execution_count": 27,
   "metadata": {
    "tags": []
   },
   "outputs": [
    {
     "name": "stdout",
     "output_type": "stream",
     "text": [
      "# Generated by iptables-save v1.8.4 on Thu Dec 16 09:19:06 2021\n",
      "*raw\n",
      ":PREROUTING ACCEPT [305410:79786277]\n",
      ":OUTPUT ACCEPT [304160:52635456]\n",
      ":cali-OUTPUT - [0:0]\n",
      ":cali-PREROUTING - [0:0]\n",
      ":cali-from-host-endpoint - [0:0]\n",
      ":cali-to-host-endpoint - [0:0]\n",
      "-A PREROUTING -m comment --comment \"cali:6gwbT8clXdHdC1b1\" -j cali-PREROUTING\n",
      "-A OUTPUT -m comment --comment \"cali:tVnHkvAo15HuiPy0\" -j cali-OUTPUT\n",
      "-A cali-OUTPUT -m comment --comment \"cali:njdnLwYeGqBJyMxW\" -j MARK --set-xmark 0x0/0xf0000\n",
      "-A cali-OUTPUT -m comment --comment \"cali:rz86uTUcEZAfFsh7\" -j cali-to-host-endpoint\n",
      "-A cali-OUTPUT -m comment --comment \"cali:pN0F5zD0b8yf9W1Z\" -m mark --mark 0x10000/0x10000 -j ACCEPT\n",
      "-A cali-PREROUTING -m comment --comment \"cali:XFX5xbM8B9qR10JG\" -j MARK --set-xmark 0x0/0xf0000\n",
      "-A cali-PREROUTING -i cali+ -m comment --comment \"cali:EWMPb0zVROM-woQp\" -j MARK --set-xmark 0x40000/0x40000\n",
      "-A cali-PREROUTING -m comment --comment \"cali:mPIOOWmbH3iO0R90\" -m mark --mark 0x40000/0x40000 -m rpfilter --validmark --invert -j DROP\n",
      "-A cali-PREROUTING -m comment --comment \"cali:8eOxmFpkWr0RjKXR\" -m mark --mark 0x0/0x40000 -j cali-from-host-endpoint\n",
      "-A cali-PREROUTING -m comment --comment \"cali:F-nExspj_POyei0v\" -m mark --mark 0x10000/0x10000 -j ACCEPT\n",
      "COMMIT\n",
      "# Completed on Thu Dec 16 09:19:06 2021\n",
      "# Generated by iptables-save v1.8.4 on Thu Dec 16 09:19:06 2021\n",
      "*mangle\n",
      ":PREROUTING ACCEPT [4830:289081]\n",
      ":INPUT ACCEPT [305164:79749355]\n",
      ":FORWARD ACCEPT [137:14393]\n",
      ":OUTPUT ACCEPT [304056:52615215]\n",
      ":POSTROUTING ACCEPT [304179:52628604]\n",
      ":KUBE-KUBELET-CANARY - [0:0]\n",
      ":KUBE-PROXY-CANARY - [0:0]\n",
      ":cali-POSTROUTING - [0:0]\n",
      ":cali-PREROUTING - [0:0]\n",
      ":cali-from-host-endpoint - [0:0]\n",
      ":cali-to-host-endpoint - [0:0]\n",
      "-A PREROUTING -m comment --comment \"cali:6gwbT8clXdHdC1b1\" -j cali-PREROUTING\n",
      "-A POSTROUTING -m comment --comment \"cali:O3lYWMrLQYEMJtB5\" -j cali-POSTROUTING\n",
      "-A cali-POSTROUTING -m comment --comment \"cali:NX-7roTexQ3fGRfU\" -m mark --mark 0x10000/0x10000 -j RETURN\n",
      "-A cali-POSTROUTING -m comment --comment \"cali:nnqPh8lh2VOogSzX\" -j MARK --set-xmark 0x0/0xf0000\n",
      "-A cali-POSTROUTING -m comment --comment \"cali:nquN8Jw8Tz72pcBW\" -m conntrack --ctstate DNAT -j cali-to-host-endpoint\n",
      "-A cali-POSTROUTING -m comment --comment \"cali:jWrgvDQ0xEZHmta3\" -m comment --comment \"Host endpoint policy accepted packet.\" -m mark --mark 0x10000/0x10000 -j RETURN\n",
      "-A cali-PREROUTING -m comment --comment \"cali:6BJqBjBC7crtA-7-\" -m conntrack --ctstate RELATED,ESTABLISHED -j ACCEPT\n",
      "-A cali-PREROUTING -m comment --comment \"cali:KX7AGNd6rMcDUai6\" -m mark --mark 0x10000/0x10000 -j ACCEPT\n",
      "-A cali-PREROUTING -m comment --comment \"cali:wNH7KsA3ILKJBsY9\" -j cali-from-host-endpoint\n",
      "-A cali-PREROUTING -m comment --comment \"cali:Cg96MgVuoPm7UMRo\" -m comment --comment \"Host endpoint policy accepted packet.\" -m mark --mark 0x10000/0x10000 -j ACCEPT\n",
      "COMMIT\n",
      "# Completed on Thu Dec 16 09:19:06 2021\n",
      "# Generated by iptables-save v1.8.4 on Thu Dec 16 09:19:06 2021\n",
      "*filter\n",
      ":INPUT ACCEPT [228935:37103406]\n",
      ":FORWARD ACCEPT [0:0]\n",
      ":OUTPUT ACCEPT [231948:38483753]\n",
      ":DOCKER - [0:0]\n",
      ":DOCKER-ISOLATION-STAGE-1 - [0:0]\n",
      ":DOCKER-ISOLATION-STAGE-2 - [0:0]\n",
      ":DOCKER-USER - [0:0]\n",
      ":KUBE-EXTERNAL-SERVICES - [0:0]\n",
      ":KUBE-FIREWALL - [0:0]\n",
      ":KUBE-FORWARD - [0:0]\n",
      ":KUBE-KUBELET-CANARY - [0:0]\n",
      ":KUBE-NODEPORTS - [0:0]\n",
      ":KUBE-PROXY-CANARY - [0:0]\n",
      ":KUBE-SERVICES - [0:0]\n",
      ":cali-FORWARD - [0:0]\n",
      ":cali-INPUT - [0:0]\n",
      ":cali-OUTPUT - [0:0]\n",
      ":cali-cidr-block - [0:0]\n",
      ":cali-from-hep-forward - [0:0]\n",
      ":cali-from-host-endpoint - [0:0]\n",
      ":cali-from-wl-dispatch - [0:0]\n",
      ":cali-fw-cali293b091bebc - [0:0]\n",
      ":cali-fw-cali316edb2289c - [0:0]\n",
      ":cali-fw-calif4074e59853 - [0:0]\n",
      ":cali-pi-_5Q_kTAczgfSis5zqfyh - [0:0]\n",
      ":cali-po-_5Q_kTAczgfSis5zqfyh - [0:0]\n",
      ":cali-pri-_PTRGc0U-L5Kz7V6ERW - [0:0]\n",
      ":cali-pri-_u2Tn2rSoAPffvE7JO6 - [0:0]\n",
      ":cali-pri-kns.default - [0:0]\n",
      ":cali-pri-kns.kube-system - [0:0]\n",
      ":cali-pri-ksa.default.default - [0:0]\n",
      ":cali-pro-_PTRGc0U-L5Kz7V6ERW - [0:0]\n",
      ":cali-pro-_u2Tn2rSoAPffvE7JO6 - [0:0]\n",
      ":cali-pro-kns.default - [0:0]\n",
      ":cali-pro-kns.kube-system - [0:0]\n",
      ":cali-pro-ksa.default.default - [0:0]\n",
      ":cali-to-hep-forward - [0:0]\n",
      ":cali-to-host-endpoint - [0:0]\n",
      ":cali-to-wl-dispatch - [0:0]\n",
      ":cali-tw-cali293b091bebc - [0:0]\n",
      ":cali-tw-cali316edb2289c - [0:0]\n",
      ":cali-tw-calif4074e59853 - [0:0]\n",
      ":cali-wl-to-host - [0:0]\n",
      "-A INPUT -m comment --comment \"cali:Cz_u1IQiXIMmKD4c\" -j cali-INPUT\n",
      "-A INPUT -m comment --comment \"kubernetes health check service ports\" -j KUBE-NODEPORTS\n",
      "-A INPUT -m conntrack --ctstate NEW -m comment --comment \"kubernetes externally-visible service portals\" -j KUBE-EXTERNAL-SERVICES\n",
      "-A INPUT -j KUBE-FIREWALL\n",
      "-A FORWARD -m comment --comment \"cali:wUHhoiAYhphO9Mso\" -j cali-FORWARD\n",
      "-A FORWARD -m comment --comment \"kubernetes forwarding rules\" -j KUBE-FORWARD\n",
      "-A FORWARD -m conntrack --ctstate NEW -m comment --comment \"kubernetes service portals\" -j KUBE-SERVICES\n",
      "-A FORWARD -m conntrack --ctstate NEW -m comment --comment \"kubernetes externally-visible service portals\" -j KUBE-EXTERNAL-SERVICES\n",
      "-A FORWARD -j DOCKER-USER\n",
      "-A FORWARD -j DOCKER-ISOLATION-STAGE-1\n",
      "-A FORWARD -o docker0 -m conntrack --ctstate RELATED,ESTABLISHED -j ACCEPT\n",
      "-A FORWARD -o docker0 -j DOCKER\n",
      "-A FORWARD -i docker0 ! -o docker0 -j ACCEPT\n",
      "-A FORWARD -i docker0 -o docker0 -j ACCEPT\n",
      "-A FORWARD -m comment --comment \"cali:S93hcgKJrXEqnTfs\" -m comment --comment \"Policy explicitly accepted packet.\" -m mark --mark 0x10000/0x10000 -j ACCEPT\n",
      "-A FORWARD -m comment --comment \"cali:mp77cMpurHhyjLrM\" -j MARK --set-xmark 0x10000/0x10000\n",
      "-A OUTPUT -m comment --comment \"cali:tVnHkvAo15HuiPy0\" -j cali-OUTPUT\n",
      "-A OUTPUT -m conntrack --ctstate NEW -m comment --comment \"kubernetes service portals\" -j KUBE-SERVICES\n",
      "-A OUTPUT -j KUBE-FIREWALL\n",
      "-A DOCKER-ISOLATION-STAGE-1 -i docker0 ! -o docker0 -j DOCKER-ISOLATION-STAGE-2\n",
      "-A DOCKER-ISOLATION-STAGE-1 -j RETURN\n",
      "-A DOCKER-ISOLATION-STAGE-2 -o docker0 -j DROP\n",
      "-A DOCKER-ISOLATION-STAGE-2 -j RETURN\n",
      "-A DOCKER-USER -j RETURN\n",
      "-A KUBE-FIREWALL -m comment --comment \"kubernetes firewall for dropping marked packets\" -m mark --mark 0x8000/0x8000 -j DROP\n",
      "-A KUBE-FIREWALL ! -s 127.0.0.0/8 -d 127.0.0.0/8 -m comment --comment \"block incoming localnet connections\" -m conntrack ! --ctstate RELATED,ESTABLISHED,DNAT -j DROP\n",
      "-A KUBE-FORWARD -m conntrack --ctstate INVALID -j DROP\n",
      "-A KUBE-FORWARD -m comment --comment \"kubernetes forwarding rules\" -m mark --mark 0x4000/0x4000 -j ACCEPT\n",
      "-A KUBE-FORWARD -m comment --comment \"kubernetes forwarding conntrack pod source rule\" -m conntrack --ctstate RELATED,ESTABLISHED -j ACCEPT\n",
      "-A KUBE-FORWARD -m comment --comment \"kubernetes forwarding conntrack pod destination rule\" -m conntrack --ctstate RELATED,ESTABLISHED -j ACCEPT\n",
      "-A cali-FORWARD -m comment --comment \"cali:vjrMJCRpqwy5oRoX\" -j MARK --set-xmark 0x0/0xe0000\n",
      "-A cali-FORWARD -m comment --comment \"cali:A_sPAO0mcxbT9mOV\" -m mark --mark 0x0/0x10000 -j cali-from-hep-forward\n",
      "-A cali-FORWARD -i cali+ -m comment --comment \"cali:8ZoYfO5HKXWbB3pk\" -j cali-from-wl-dispatch\n",
      "-A cali-FORWARD -o cali+ -m comment --comment \"cali:jdEuaPBe14V2hutn\" -j cali-to-wl-dispatch\n",
      "-A cali-FORWARD -m comment --comment \"cali:12bc6HljsMKsmfr-\" -j cali-to-hep-forward\n",
      "-A cali-FORWARD -m comment --comment \"cali:NOSxoaGx8OIstr1z\" -j cali-cidr-block\n",
      "-A cali-INPUT -p ipencap -m comment --comment \"cali:PajejrV4aFdkZojI\" -m comment --comment \"Allow IPIP packets from Calico hosts\" -m set --match-set cali40all-hosts-net src -m addrtype --dst-type LOCAL -j ACCEPT\n",
      "-A cali-INPUT -p ipencap -m comment --comment \"cali:_wjq-Yrma8Ly1Svo\" -m comment --comment \"Drop IPIP packets from non-Calico hosts\" -j DROP\n",
      "-A cali-INPUT -i cali+ -m comment --comment \"cali:8TZGxLWh_Eiz66wc\" -g cali-wl-to-host\n",
      "-A cali-INPUT -m comment --comment \"cali:6McIeIDvPdL6PE1T\" -m mark --mark 0x10000/0x10000 -j ACCEPT\n",
      "-A cali-INPUT -m comment --comment \"cali:YGPbrUms7NId8xVa\" -j MARK --set-xmark 0x0/0xf0000\n",
      "-A cali-INPUT -m comment --comment \"cali:2gmY7Bg2i0i84Wk_\" -j cali-from-host-endpoint\n",
      "-A cali-INPUT -m comment --comment \"cali:q-Vz2ZT9iGE331LL\" -m comment --comment \"Host endpoint policy accepted packet.\" -m mark --mark 0x10000/0x10000 -j ACCEPT\n",
      "-A cali-OUTPUT -m comment --comment \"cali:Mq1_rAdXXH3YkrzW\" -m mark --mark 0x10000/0x10000 -j ACCEPT\n",
      "-A cali-OUTPUT -o cali+ -m comment --comment \"cali:69FkRTJDvD5Vu6Vl\" -j RETURN\n",
      "-A cali-OUTPUT -p ipencap -m comment --comment \"cali:AnEsmO6bDZbQntWW\" -m comment --comment \"Allow IPIP packets to other Calico hosts\" -m set --match-set cali40all-hosts-net dst -m addrtype --src-type LOCAL -j ACCEPT\n",
      "-A cali-OUTPUT -m comment --comment \"cali:9e9Uf3GU5tX--Lxy\" -j MARK --set-xmark 0x0/0xf0000\n",
      "-A cali-OUTPUT -m comment --comment \"cali:0f3LDz_VKuHFaA2K\" -m conntrack ! --ctstate DNAT -j cali-to-host-endpoint\n",
      "-A cali-OUTPUT -m comment --comment \"cali:OgU2f8BVEAZ_fwkq\" -m comment --comment \"Host endpoint policy accepted packet.\" -m mark --mark 0x10000/0x10000 -j ACCEPT\n",
      "-A cali-from-wl-dispatch -i cali293b091bebc -m comment --comment \"cali:Wv_EkckaDyoaSS8Q\" -g cali-fw-cali293b091bebc\n",
      "-A cali-from-wl-dispatch -i cali316edb2289c -m comment --comment \"cali:hdHCw2oEhclyQtzr\" -g cali-fw-cali316edb2289c\n",
      "-A cali-from-wl-dispatch -i calif4074e59853 -m comment --comment \"cali:altvKfI-iQF0rrRc\" -g cali-fw-calif4074e59853\n",
      "-A cali-from-wl-dispatch -m comment --comment \"cali:PWPBfCV-bqB6PsAy\" -m comment --comment \"Unknown interface\" -j DROP\n",
      "-A cali-fw-cali293b091bebc -m comment --comment \"cali:0lrllicxGLE6zsyv\" -m conntrack --ctstate RELATED,ESTABLISHED -j ACCEPT\n",
      "-A cali-fw-cali293b091bebc -m comment --comment \"cali:LNxhx1ULf3TaABgp\" -m conntrack --ctstate INVALID -j DROP\n",
      "-A cali-fw-cali293b091bebc -m comment --comment \"cali:M3XgE-EBY-5-TE77\" -j MARK --set-xmark 0x0/0x10000\n",
      "-A cali-fw-cali293b091bebc -p udp -m comment --comment \"cali:GITKyQEKnnPEjpy2\" -m comment --comment \"Drop VXLAN encapped packets originating in workloads\" -m multiport --dports 4789 -j DROP\n",
      "-A cali-fw-cali293b091bebc -p ipencap -m comment --comment \"cali:u_NZkNEIISRVbjHX\" -m comment --comment \"Drop IPinIP encapped packets originating in workloads\" -j DROP\n",
      "-A cali-fw-cali293b091bebc -m comment --comment \"cali:GMBtQ29p5eAS9gX5\" -j cali-pro-kns.kube-system\n",
      "-A cali-fw-cali293b091bebc -m comment --comment \"cali:_zmoLV7isUwDBsHb\" -m comment --comment \"Return if profile accepted\" -m mark --mark 0x10000/0x10000 -j RETURN\n",
      "-A cali-fw-cali293b091bebc -m comment --comment \"cali:1eP5goeWoYK2xp9T\" -j cali-pro-_u2Tn2rSoAPffvE7JO6\n",
      "-A cali-fw-cali293b091bebc -m comment --comment \"cali:WoO-yoSOUTuFnblF\" -m comment --comment \"Return if profile accepted\" -m mark --mark 0x10000/0x10000 -j RETURN\n",
      "-A cali-fw-cali293b091bebc -m comment --comment \"cali:PjlF7q3UKsEZox8n\" -m comment --comment \"Drop if no profiles matched\" -j DROP\n",
      "-A cali-fw-cali316edb2289c -m comment --comment \"cali:xFyrogJ7wLaThHfx\" -m conntrack --ctstate RELATED,ESTABLISHED -j ACCEPT\n",
      "-A cali-fw-cali316edb2289c -m comment --comment \"cali:gQatTz2J_FmzvIOD\" -m conntrack --ctstate INVALID -j DROP\n",
      "-A cali-fw-cali316edb2289c -m comment --comment \"cali:uLQ7TgngdYgBkU3D\" -j MARK --set-xmark 0x0/0x10000\n",
      "-A cali-fw-cali316edb2289c -p udp -m comment --comment \"cali:ZIBhcK52Ooa27HPd\" -m comment --comment \"Drop VXLAN encapped packets originating in workloads\" -m multiport --dports 4789 -j DROP\n",
      "-A cali-fw-cali316edb2289c -p ipencap -m comment --comment \"cali:xnz5ePKyekstrqgW\" -m comment --comment \"Drop IPinIP encapped packets originating in workloads\" -j DROP\n",
      "-A cali-fw-cali316edb2289c -m comment --comment \"cali:noYgO1428-EGr5pg\" -j cali-pro-kns.kube-system\n",
      "-A cali-fw-cali316edb2289c -m comment --comment \"cali:tn1_IShZt3ntowSH\" -m comment --comment \"Return if profile accepted\" -m mark --mark 0x10000/0x10000 -j RETURN\n",
      "-A cali-fw-cali316edb2289c -m comment --comment \"cali:c82RYpLarPAoaAnG\" -j cali-pro-_PTRGc0U-L5Kz7V6ERW\n",
      "-A cali-fw-cali316edb2289c -m comment --comment \"cali:yzBbcCXf-yQ34jI4\" -m comment --comment \"Return if profile accepted\" -m mark --mark 0x10000/0x10000 -j RETURN\n",
      "-A cali-fw-cali316edb2289c -m comment --comment \"cali:TR4QhOO_f-l3ybnJ\" -m comment --comment \"Drop if no profiles matched\" -j DROP\n",
      "-A cali-fw-calif4074e59853 -m comment --comment \"cali:45H8qqPdecZSdFlQ\" -m conntrack --ctstate RELATED,ESTABLISHED -j ACCEPT\n",
      "-A cali-fw-calif4074e59853 -m comment --comment \"cali:1-flmZpfQIQas0Ah\" -m conntrack --ctstate INVALID -j DROP\n",
      "-A cali-fw-calif4074e59853 -m comment --comment \"cali:zMcKmh_CTKMR4Pv7\" -j MARK --set-xmark 0x0/0x10000\n",
      "-A cali-fw-calif4074e59853 -p udp -m comment --comment \"cali:hvAYw7pWq_akdPUy\" -m comment --comment \"Drop VXLAN encapped packets originating in workloads\" -m multiport --dports 4789 -j DROP\n",
      "-A cali-fw-calif4074e59853 -p ipencap -m comment --comment \"cali:aYeXd08rb9zTztla\" -m comment --comment \"Drop IPinIP encapped packets originating in workloads\" -j DROP\n",
      "-A cali-fw-calif4074e59853 -m comment --comment \"cali:Nhk61r-LMupAnmvL\" -m comment --comment \"Start of policies\" -j MARK --set-xmark 0x0/0x20000\n",
      "-A cali-fw-calif4074e59853 -m comment --comment \"cali:LhCdW9Xph0lCXdkM\" -m mark --mark 0x0/0x20000 -j cali-po-_5Q_kTAczgfSis5zqfyh\n",
      "-A cali-fw-calif4074e59853 -m comment --comment \"cali:EOoOW90eSiqXlTeg\" -m comment --comment \"Return if policy accepted\" -m mark --mark 0x10000/0x10000 -j RETURN\n",
      "-A cali-fw-calif4074e59853 -m comment --comment \"cali:PtZ1EPe7VAF2k3qt\" -m comment --comment \"Drop if no policies passed packet\" -m mark --mark 0x0/0x20000 -j DROP\n",
      "-A cali-fw-calif4074e59853 -m comment --comment \"cali:7M2FSvx4554KpFsX\" -j cali-pro-kns.default\n",
      "-A cali-fw-calif4074e59853 -m comment --comment \"cali:BmMRc7fRTvR-_Kxz\" -m comment --comment \"Return if profile accepted\" -m mark --mark 0x10000/0x10000 -j RETURN\n",
      "-A cali-fw-calif4074e59853 -m comment --comment \"cali:Ew3Ba5tpo7Yp3qvT\" -j cali-pro-ksa.default.default\n",
      "-A cali-fw-calif4074e59853 -m comment --comment \"cali:iAdeVXKVNFpj0xrF\" -m comment --comment \"Return if profile accepted\" -m mark --mark 0x10000/0x10000 -j RETURN\n",
      "-A cali-fw-calif4074e59853 -m comment --comment \"cali:NuJt0q4lj0H6HdZq\" -m comment --comment \"Drop if no profiles matched\" -j DROP\n",
      "-A cali-pi-_5Q_kTAczgfSis5zqfyh -p tcp -m comment --comment \"cali:C6IJUuzS2__dfH96\" -m set --match-set cali40s:BRnEC_HKH4KdIFo38SUTZls src -m multiport --dports 80 -j MARK --set-xmark 0x10000/0x10000\n",
      "-A cali-pi-_5Q_kTAczgfSis5zqfyh -m comment --comment \"cali:fZ1BMBt3JmBQ3fou\" -m mark --mark 0x10000/0x10000 -j RETURN\n",
      "-A cali-pi-_5Q_kTAczgfSis5zqfyh -p tcp -m comment --comment \"cali:TXGtD8y6insCANal\" -m set --match-set cali40s:8e8v9b88qXpwDYA2DUkLaK6 src -m multiport --dports 80 -j MARK --set-xmark 0x10000/0x10000\n",
      "-A cali-pi-_5Q_kTAczgfSis5zqfyh -m comment --comment \"cali:d1Oer6hwp5wYM_P1\" -m mark --mark 0x10000/0x10000 -j RETURN\n",
      "-A cali-po-_5Q_kTAczgfSis5zqfyh -d 193.99.144.80/32 -p tcp -m comment --comment \"cali:wu-LnAAexVInpoqx\" -m multiport --dports 80 -j MARK --set-xmark 0x10000/0x10000\n",
      "-A cali-po-_5Q_kTAczgfSis5zqfyh -m comment --comment \"cali:oyzjqpgv5E51eP1P\" -m mark --mark 0x10000/0x10000 -j RETURN\n",
      "-A cali-po-_5Q_kTAczgfSis5zqfyh -p tcp -m comment --comment \"cali:rQk-ZZS_CC7fwUrY\" -m multiport --dports 53 -j MARK --set-xmark 0x10000/0x10000\n",
      "-A cali-po-_5Q_kTAczgfSis5zqfyh -m comment --comment \"cali:Gov_CKcJVtaVhY0S\" -m mark --mark 0x10000/0x10000 -j RETURN\n",
      "-A cali-po-_5Q_kTAczgfSis5zqfyh -p udp -m comment --comment \"cali:3KlpP5Txu3tNASxF\" -m multiport --dports 53 -j MARK --set-xmark 0x10000/0x10000\n",
      "-A cali-po-_5Q_kTAczgfSis5zqfyh -m comment --comment \"cali:U91GFSSSueqobxD4\" -m mark --mark 0x10000/0x10000 -j RETURN\n",
      "-A cali-pri-kns.default -m comment --comment \"cali:7Fnh7Pv3_98FtLW7\" -j MARK --set-xmark 0x10000/0x10000\n",
      "-A cali-pri-kns.default -m comment --comment \"cali:ZbV6bJXWSRefjK0u\" -m mark --mark 0x10000/0x10000 -j RETURN\n",
      "-A cali-pri-kns.kube-system -m comment --comment \"cali:zoH5gU6U55FKZxEo\" -j MARK --set-xmark 0x10000/0x10000\n",
      "-A cali-pri-kns.kube-system -m comment --comment \"cali:bcGRIJcyOS9dgBiB\" -m mark --mark 0x10000/0x10000 -j RETURN\n",
      "-A cali-pro-kns.default -m comment --comment \"cali:oLzzje5WExbgfib5\" -j MARK --set-xmark 0x10000/0x10000\n",
      "-A cali-pro-kns.default -m comment --comment \"cali:4goskqvxh5xcGw3s\" -m mark --mark 0x10000/0x10000 -j RETURN\n",
      "-A cali-pro-kns.kube-system -m comment --comment \"cali:-50oJuMfLVO3LkBk\" -j MARK --set-xmark 0x10000/0x10000\n",
      "-A cali-pro-kns.kube-system -m comment --comment \"cali:ztVPKv1UYejNzm1g\" -m mark --mark 0x10000/0x10000 -j RETURN\n",
      "-A cali-to-wl-dispatch -o cali293b091bebc -m comment --comment \"cali:r2iFyv-9UaClSBkI\" -g cali-tw-cali293b091bebc\n",
      "-A cali-to-wl-dispatch -o cali316edb2289c -m comment --comment \"cali:QAFVgaBA-lK7N54m\" -g cali-tw-cali316edb2289c\n",
      "-A cali-to-wl-dispatch -o calif4074e59853 -m comment --comment \"cali:UiL0AE8MD1_XDdcv\" -g cali-tw-calif4074e59853\n",
      "-A cali-to-wl-dispatch -m comment --comment \"cali:YzylWdQPmW8A9IuR\" -m comment --comment \"Unknown interface\" -j DROP\n",
      "-A cali-tw-cali293b091bebc -m comment --comment \"cali:xGHcjyF0e6piihN1\" -m conntrack --ctstate RELATED,ESTABLISHED -j ACCEPT\n",
      "-A cali-tw-cali293b091bebc -m comment --comment \"cali:qrToRz4KKsigcWBA\" -m conntrack --ctstate INVALID -j DROP\n",
      "-A cali-tw-cali293b091bebc -m comment --comment \"cali:viO4EvW2gbjqdlpG\" -j MARK --set-xmark 0x0/0x10000\n",
      "-A cali-tw-cali293b091bebc -m comment --comment \"cali:MHisvOzFdNqp7epL\" -j cali-pri-kns.kube-system\n",
      "-A cali-tw-cali293b091bebc -m comment --comment \"cali:1v8Vl-9oDCaTQ-oS\" -m comment --comment \"Return if profile accepted\" -m mark --mark 0x10000/0x10000 -j RETURN\n",
      "-A cali-tw-cali293b091bebc -m comment --comment \"cali:mSGCh26O5hD-BiQq\" -j cali-pri-_u2Tn2rSoAPffvE7JO6\n",
      "-A cali-tw-cali293b091bebc -m comment --comment \"cali:ZSR-MyvvaHYC1x4_\" -m comment --comment \"Return if profile accepted\" -m mark --mark 0x10000/0x10000 -j RETURN\n",
      "-A cali-tw-cali293b091bebc -m comment --comment \"cali:6s3UhUpRd9t7MoGn\" -m comment --comment \"Drop if no profiles matched\" -j DROP\n",
      "-A cali-tw-cali316edb2289c -m comment --comment \"cali:WWaX1GJQ7bWwnF3m\" -m conntrack --ctstate RELATED,ESTABLISHED -j ACCEPT\n",
      "-A cali-tw-cali316edb2289c -m comment --comment \"cali:EkucoC8j4jKsJLWP\" -m conntrack --ctstate INVALID -j DROP\n",
      "-A cali-tw-cali316edb2289c -m comment --comment \"cali:AT3GCc6iXzUOCZna\" -j MARK --set-xmark 0x0/0x10000\n",
      "-A cali-tw-cali316edb2289c -m comment --comment \"cali:Xvmc4E2kLsZfVi9k\" -j cali-pri-kns.kube-system\n",
      "-A cali-tw-cali316edb2289c -m comment --comment \"cali:Gb4vDdmvz3WfXcas\" -m comment --comment \"Return if profile accepted\" -m mark --mark 0x10000/0x10000 -j RETURN\n",
      "-A cali-tw-cali316edb2289c -m comment --comment \"cali:2KkK168Tb2M9e5Lw\" -j cali-pri-_PTRGc0U-L5Kz7V6ERW\n",
      "-A cali-tw-cali316edb2289c -m comment --comment \"cali:B0MJAWWtBwing7T1\" -m comment --comment \"Return if profile accepted\" -m mark --mark 0x10000/0x10000 -j RETURN\n",
      "-A cali-tw-cali316edb2289c -m comment --comment \"cali:whNpCyEB4HAccCFn\" -m comment --comment \"Drop if no profiles matched\" -j DROP\n",
      "-A cali-tw-calif4074e59853 -m comment --comment \"cali:y9S2ZV9cGT-8gnvx\" -m conntrack --ctstate RELATED,ESTABLISHED -j ACCEPT\n",
      "-A cali-tw-calif4074e59853 -m comment --comment \"cali:QaSdNIlNY6uhbho7\" -m conntrack --ctstate INVALID -j DROP\n",
      "-A cali-tw-calif4074e59853 -m comment --comment \"cali:HN8ev4voww8g00DP\" -j MARK --set-xmark 0x0/0x10000\n",
      "-A cali-tw-calif4074e59853 -m comment --comment \"cali:GIi00XwytNme-8LB\" -m comment --comment \"Start of policies\" -j MARK --set-xmark 0x0/0x20000\n",
      "-A cali-tw-calif4074e59853 -m comment --comment \"cali:YxJnnyLFBMDi9Wmk\" -m mark --mark 0x0/0x20000 -j cali-pi-_5Q_kTAczgfSis5zqfyh\n",
      "-A cali-tw-calif4074e59853 -m comment --comment \"cali:rMeR7iFG5XjKngua\" -m comment --comment \"Return if policy accepted\" -m mark --mark 0x10000/0x10000 -j RETURN\n",
      "-A cali-tw-calif4074e59853 -m comment --comment \"cali:zaEa5cxegRu0WvaD\" -m comment --comment \"Drop if no policies passed packet\" -m mark --mark 0x0/0x20000 -j DROP\n",
      "-A cali-tw-calif4074e59853 -m comment --comment \"cali:DbFkkAM5UrER2Xqq\" -j cali-pri-kns.default\n",
      "-A cali-tw-calif4074e59853 -m comment --comment \"cali:yVzA_xbQEN557eS1\" -m comment --comment \"Return if profile accepted\" -m mark --mark 0x10000/0x10000 -j RETURN\n",
      "-A cali-tw-calif4074e59853 -m comment --comment \"cali:jyXtecun3_HaN1UH\" -j cali-pri-ksa.default.default\n",
      "-A cali-tw-calif4074e59853 -m comment --comment \"cali:pwtuINU6Nyi7nPRy\" -m comment --comment \"Return if profile accepted\" -m mark --mark 0x10000/0x10000 -j RETURN\n",
      "-A cali-tw-calif4074e59853 -m comment --comment \"cali:L_vd17sAqocrtxiL\" -m comment --comment \"Drop if no profiles matched\" -j DROP\n",
      "-A cali-wl-to-host -m comment --comment \"cali:Ee9Sbo10IpVujdIY\" -j cali-from-wl-dispatch\n",
      "-A cali-wl-to-host -m comment --comment \"cali:nSZbcOoG1xPONxb8\" -m comment --comment \"Configured DefaultEndpointToHostAction\" -j ACCEPT\n",
      "COMMIT\n",
      "# Completed on Thu Dec 16 09:19:06 2021\n",
      "# Generated by iptables-save v1.8.4 on Thu Dec 16 09:19:06 2021\n",
      "*nat\n",
      ":PREROUTING ACCEPT [939:56968]\n",
      ":INPUT ACCEPT [932:56042]\n",
      ":OUTPUT ACCEPT [4150:248969]\n",
      ":POSTROUTING ACCEPT [4205:252774]\n",
      ":DOCKER - [0:0]\n",
      ":DOCKER_OUTPUT - [0:0]\n",
      ":DOCKER_POSTROUTING - [0:0]\n",
      ":KUBE-KUBELET-CANARY - [0:0]\n",
      ":KUBE-MARK-DROP - [0:0]\n",
      ":KUBE-MARK-MASQ - [0:0]\n",
      ":KUBE-NODEPORTS - [0:0]\n",
      ":KUBE-POSTROUTING - [0:0]\n",
      ":KUBE-PROXY-CANARY - [0:0]\n",
      ":KUBE-SEP-BYZXSTUL3Q5NV4WO - [0:0]\n",
      ":KUBE-SEP-GSSRX5RAVFDVUTCL - [0:0]\n",
      ":KUBE-SEP-VPILYQBSPPXYB66K - [0:0]\n",
      ":KUBE-SEP-XMDXSWZBVVME3NPF - [0:0]\n",
      ":KUBE-SERVICES - [0:0]\n",
      ":KUBE-SVC-ERIFXISQEP7F7OF4 - [0:0]\n",
      ":KUBE-SVC-JD5MR3NA4I4DYORP - [0:0]\n",
      ":KUBE-SVC-NPX46M4PTMTKRN6Y - [0:0]\n",
      ":KUBE-SVC-TCOU7JCQXEZGVUNU - [0:0]\n",
      ":cali-OUTPUT - [0:0]\n",
      ":cali-POSTROUTING - [0:0]\n",
      ":cali-PREROUTING - [0:0]\n",
      ":cali-fip-dnat - [0:0]\n",
      ":cali-fip-snat - [0:0]\n",
      ":cali-nat-outgoing - [0:0]\n",
      "-A PREROUTING -m comment --comment \"cali:6gwbT8clXdHdC1b1\" -j cali-PREROUTING\n",
      "-A PREROUTING -m comment --comment \"kubernetes service portals\" -j KUBE-SERVICES\n",
      "-A PREROUTING -d 192.168.49.1/32 -j DOCKER_OUTPUT\n",
      "-A PREROUTING -m addrtype --dst-type LOCAL -j DOCKER\n",
      "-A OUTPUT -m comment --comment \"cali:tVnHkvAo15HuiPy0\" -j cali-OUTPUT\n",
      "-A OUTPUT -m comment --comment \"kubernetes service portals\" -j KUBE-SERVICES\n",
      "-A OUTPUT -d 192.168.49.1/32 -j DOCKER_OUTPUT\n",
      "-A OUTPUT ! -d 127.0.0.0/8 -m addrtype --dst-type LOCAL -j DOCKER\n",
      "-A POSTROUTING -m comment --comment \"cali:O3lYWMrLQYEMJtB5\" -j cali-POSTROUTING\n",
      "-A POSTROUTING -m comment --comment \"kubernetes postrouting rules\" -j KUBE-POSTROUTING\n",
      "-A POSTROUTING -s 172.17.0.0/16 ! -o docker0 -j MASQUERADE\n",
      "-A POSTROUTING -d 192.168.49.1/32 -j DOCKER_POSTROUTING\n",
      "-A DOCKER -i docker0 -j RETURN\n",
      "-A DOCKER_OUTPUT -d 192.168.49.1/32 -p tcp -m tcp --dport 53 -j DNAT --to-destination 127.0.0.11:33891\n",
      "-A DOCKER_OUTPUT -d 192.168.49.1/32 -p udp -m udp --dport 53 -j DNAT --to-destination 127.0.0.11:39456\n",
      "-A DOCKER_POSTROUTING -s 127.0.0.11/32 -p tcp -m tcp --sport 33891 -j SNAT --to-source 192.168.49.1:53\n",
      "-A DOCKER_POSTROUTING -s 127.0.0.11/32 -p udp -m udp --sport 39456 -j SNAT --to-source 192.168.49.1:53\n",
      "-A KUBE-MARK-DROP -j MARK --set-xmark 0x8000/0x8000\n",
      "-A KUBE-MARK-MASQ -j MARK --set-xmark 0x4000/0x4000\n",
      "-A KUBE-POSTROUTING -m mark ! --mark 0x4000/0x4000 -j RETURN\n",
      "-A KUBE-POSTROUTING -j MARK --set-xmark 0x4000/0x0\n",
      "-A KUBE-POSTROUTING -m comment --comment \"kubernetes service traffic requiring SNAT\" -j MASQUERADE --random-fully\n",
      "-A KUBE-SEP-BYZXSTUL3Q5NV4WO -s 10.244.120.64/32 -m comment --comment \"kube-system/kube-dns:dns\" -j KUBE-MARK-MASQ\n",
      "-A KUBE-SEP-BYZXSTUL3Q5NV4WO -p udp -m comment --comment \"kube-system/kube-dns:dns\" -m udp -j DNAT --to-destination 10.244.120.64:53\n",
      "-A KUBE-SEP-GSSRX5RAVFDVUTCL -s 10.244.120.64/32 -m comment --comment \"kube-system/kube-dns:dns-tcp\" -j KUBE-MARK-MASQ\n",
      "-A KUBE-SEP-GSSRX5RAVFDVUTCL -p tcp -m comment --comment \"kube-system/kube-dns:dns-tcp\" -m tcp -j DNAT --to-destination 10.244.120.64:53\n",
      "-A KUBE-SEP-VPILYQBSPPXYB66K -s 192.168.49.2/32 -m comment --comment \"default/kubernetes:https\" -j KUBE-MARK-MASQ\n",
      "-A KUBE-SEP-VPILYQBSPPXYB66K -p tcp -m comment --comment \"default/kubernetes:https\" -m tcp -j DNAT --to-destination 192.168.49.2:8443\n",
      "-A KUBE-SEP-XMDXSWZBVVME3NPF -s 10.244.120.64/32 -m comment --comment \"kube-system/kube-dns:metrics\" -j KUBE-MARK-MASQ\n",
      "-A KUBE-SEP-XMDXSWZBVVME3NPF -p tcp -m comment --comment \"kube-system/kube-dns:metrics\" -m tcp -j DNAT --to-destination 10.244.120.64:9153\n",
      "-A KUBE-SERVICES -d 10.96.0.1/32 -p tcp -m comment --comment \"default/kubernetes:https cluster IP\" -m tcp --dport 443 -j KUBE-SVC-NPX46M4PTMTKRN6Y\n",
      "-A KUBE-SERVICES -d 10.96.0.10/32 -p udp -m comment --comment \"kube-system/kube-dns:dns cluster IP\" -m udp --dport 53 -j KUBE-SVC-TCOU7JCQXEZGVUNU\n",
      "-A KUBE-SERVICES -d 10.96.0.10/32 -p tcp -m comment --comment \"kube-system/kube-dns:dns-tcp cluster IP\" -m tcp --dport 53 -j KUBE-SVC-ERIFXISQEP7F7OF4\n",
      "-A KUBE-SERVICES -d 10.96.0.10/32 -p tcp -m comment --comment \"kube-system/kube-dns:metrics cluster IP\" -m tcp --dport 9153 -j KUBE-SVC-JD5MR3NA4I4DYORP\n",
      "-A KUBE-SERVICES -m comment --comment \"kubernetes service nodeports; NOTE: this must be the last rule in this chain\" -m addrtype --dst-type LOCAL -j KUBE-NODEPORTS\n",
      "-A KUBE-SVC-ERIFXISQEP7F7OF4 ! -s 10.244.0.0/16 -d 10.96.0.10/32 -p tcp -m comment --comment \"kube-system/kube-dns:dns-tcp cluster IP\" -m tcp --dport 53 -j KUBE-MARK-MASQ\n",
      "-A KUBE-SVC-ERIFXISQEP7F7OF4 -m comment --comment \"kube-system/kube-dns:dns-tcp\" -j KUBE-SEP-GSSRX5RAVFDVUTCL\n",
      "-A KUBE-SVC-JD5MR3NA4I4DYORP ! -s 10.244.0.0/16 -d 10.96.0.10/32 -p tcp -m comment --comment \"kube-system/kube-dns:metrics cluster IP\" -m tcp --dport 9153 -j KUBE-MARK-MASQ\n",
      "-A KUBE-SVC-JD5MR3NA4I4DYORP -m comment --comment \"kube-system/kube-dns:metrics\" -j KUBE-SEP-XMDXSWZBVVME3NPF\n",
      "-A KUBE-SVC-NPX46M4PTMTKRN6Y ! -s 10.244.0.0/16 -d 10.96.0.1/32 -p tcp -m comment --comment \"default/kubernetes:https cluster IP\" -m tcp --dport 443 -j KUBE-MARK-MASQ\n",
      "-A KUBE-SVC-NPX46M4PTMTKRN6Y -m comment --comment \"default/kubernetes:https\" -j KUBE-SEP-VPILYQBSPPXYB66K\n",
      "-A KUBE-SVC-TCOU7JCQXEZGVUNU ! -s 10.244.0.0/16 -d 10.96.0.10/32 -p udp -m comment --comment \"kube-system/kube-dns:dns cluster IP\" -m udp --dport 53 -j KUBE-MARK-MASQ\n",
      "-A KUBE-SVC-TCOU7JCQXEZGVUNU -m comment --comment \"kube-system/kube-dns:dns\" -j KUBE-SEP-BYZXSTUL3Q5NV4WO\n",
      "-A cali-OUTPUT -m comment --comment \"cali:GBTAv2p5CwevEyJm\" -j cali-fip-dnat\n",
      "-A cali-POSTROUTING -m comment --comment \"cali:Z-c7XtVd2Bq7s_hA\" -j cali-fip-snat\n",
      "-A cali-POSTROUTING -m comment --comment \"cali:nYKhEzDlr11Jccal\" -j cali-nat-outgoing\n",
      "-A cali-POSTROUTING -o tunl0 -m comment --comment \"cali:SXWvdsbh4Mw7wOln\" -m addrtype ! --src-type LOCAL --limit-iface-out -m addrtype --src-type LOCAL -j MASQUERADE --random-fully\n",
      "-A cali-PREROUTING -m comment --comment \"cali:r6XmIziWUJsdOK6Z\" -j cali-fip-dnat\n",
      "-A cali-nat-outgoing -m comment --comment \"cali:flqWnvo8yq4ULQLa\" -m set --match-set cali40masq-ipam-pools src -m set ! --match-set cali40all-ipam-pools dst -j MASQUERADE --random-fully\n",
      "COMMIT\n",
      "# Completed on Thu Dec 16 09:19:06 2021\n"
     ]
    }
   ],
   "source": [
    "iptables-save"
   ]
  },
  {
   "cell_type": "code",
   "execution_count": 28,
   "metadata": {},
   "outputs": [
    {
     "name": "stdout",
     "output_type": "stream",
     "text": [
      "default via 192.168.49.1 dev eth0 \n",
      "10.85.0.0/16 dev cni0 proto kernel scope link src 10.85.0.1 linkdown \n",
      "10.244.120.64 dev cali293b091bebc scope link \n",
      "blackhole 10.244.120.64/26 proto bird \n",
      "10.244.120.66 dev cali316edb2289c scope link \n",
      "10.244.120.67 dev calif4074e59853 scope link \n",
      "172.17.0.0/16 dev docker0 proto kernel scope link src 172.17.0.1 linkdown \n",
      "192.168.49.0/24 dev eth0 proto kernel scope link src 192.168.49.2 \n"
     ]
    }
   ],
   "source": [
    "ip route"
   ]
  },
  {
   "cell_type": "code",
   "execution_count": 29,
   "metadata": {},
   "outputs": [
    {
     "name": "stdout",
     "output_type": "stream",
     "text": [
      "{\n",
      "  \"kind\": \"Status\",\n",
      "  \"apiVersion\": \"v1\",\n",
      "  \"metadata\": {\n",
      "    \n",
      "  },\n",
      "  \"status\": \"Failure\",\n",
      "  \"message\": \"forbidden: User \\\"system:anonymous\\\" cannot get path \\\"/\\\"\",\n",
      "  \"reason\": \"Forbidden\",\n",
      "  \"details\": {\n",
      "    \n",
      "  },\n",
      "  \"code\": 403\n",
      "}"
     ]
    }
   ],
   "source": [
    "curl -m 5 -k  https://10.96.0.1:443"
   ]
  },
  {
   "cell_type": "code",
   "execution_count": null,
   "metadata": {},
   "outputs": [],
   "source": []
  }
 ],
 "metadata": {
  "kernelspec": {
   "display_name": "Bash",
   "language": "bash",
   "name": "bash"
  },
  "language_info": {
   "codemirror_mode": "shell",
   "file_extension": ".sh",
   "mimetype": "text/x-sh",
   "name": "bash"
  }
 },
 "nbformat": 4,
 "nbformat_minor": 4
}
