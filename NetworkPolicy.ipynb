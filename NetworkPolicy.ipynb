{
 "cells": [
  {
   "cell_type": "markdown",
   "metadata": {},
   "source": [
    "**This notebook covered by the following [license](License.ipynb)  This note must not be removed**"
   ]
  },
  {
   "cell_type": "markdown",
   "metadata": {},
   "source": [
    "# Activate Calico\n",
    "\n",
    "`minikube start --network-plugin=cni --cni=calico`\n"
   ]
  },
  {
   "cell_type": "markdown",
   "metadata": {},
   "source": [
    "## Alternativley Install Cilium in Minikube\n",
    "https://docs.cilium.io/en/stable/gettingstarted/minikube/\n",
    "\n",
    "**Warning** this might be highly version critical and needs testing if the minikube version is different from 1.3.1"
   ]
  },
  {
   "cell_type": "markdown",
   "metadata": {},
   "source": [
    "Activate Berkeley Packet Filters\n",
    "\n",
    "`minikube ssh -- sudo mount bpffs -t bpf /sys/fs/bpf`\n"
   ]
  },
  {
   "cell_type": "markdown",
   "metadata": {},
   "source": [
    "**This might take some 6 minutes**"
   ]
  },
  {
   "cell_type": "markdown",
   "metadata": {},
   "source": [
    "`kubectl create -f https://raw.githubusercontent.com/cilium/cilium/1.6.1/install/kubernetes/quick-install.yaml`\n"
   ]
  },
  {
   "cell_type": "code",
   "execution_count": 1,
   "metadata": {},
   "outputs": [
    {
     "name": "stdout",
     "output_type": "stream",
     "text": [
      "NAMESPACE     NAME                                       READY   STATUS    RESTARTS   AGE\n",
      "kube-system   calico-kube-controllers-55ffdb7658-6dnz6   1/1     Running   0          86s\n",
      "kube-system   calico-node-k7vz4                          1/1     Running   0          86s\n",
      "kube-system   coredns-74ff55c5b-lzz5q                    1/1     Running   0          86s\n",
      "kube-system   etcd-minikube                              1/1     Running   0          93s\n",
      "kube-system   kube-apiserver-minikube                    1/1     Running   0          93s\n",
      "kube-system   kube-controller-manager-minikube           1/1     Running   0          93s\n",
      "kube-system   kube-proxy-64jt7                           1/1     Running   0          86s\n",
      "kube-system   kube-scheduler-minikube                    1/1     Running   0          93s\n",
      "kube-system   storage-provisioner                        1/1     Running   0          96s\n"
     ]
    }
   ],
   "source": [
    "kubectl get pods -A "
   ]
  },
  {
   "cell_type": "markdown",
   "metadata": {},
   "source": [
    "## Create a test\n",
    "\n",
    "It will deploy a simple probe and echo server running with multiple replicas. The probe will only report readiness while it can successfully reach the echo server:"
   ]
  },
  {
   "cell_type": "code",
   "execution_count": 2,
   "metadata": {},
   "outputs": [
    {
     "name": "stdout",
     "output_type": "stream",
     "text": [
      "No resources found in default namespace.\n"
     ]
    }
   ],
   "source": [
    "kubectl get pods"
   ]
  },
  {
   "cell_type": "markdown",
   "metadata": {},
   "source": [
    "The Apache example follows \n",
    "https://supergiant.io/blog/understanding-network-policies-in-kubernetes/\n",
    "with the updated versions of the Cilium installation above"
   ]
  },
  {
   "cell_type": "code",
   "execution_count": 3,
   "metadata": {},
   "outputs": [
    {
     "name": "stdout",
     "output_type": "stream",
     "text": [
      "deployment.apps/sleep created\n"
     ]
    }
   ],
   "source": [
    "kubectl apply -f - <<EOF\n",
    "apiVersion: apps/v1\n",
    "kind: Deployment\n",
    "metadata:\n",
    "  name: sleep\n",
    "spec:\n",
    "  replicas: 1\n",
    "  selector:\n",
    "    matchLabels:\n",
    "      app: sleep\n",
    "  template:\n",
    "    metadata:\n",
    "      labels:\n",
    "        app: sleep\n",
    "    spec:\n",
    "      containers:\n",
    "      - name: sleep\n",
    "        image: pstauffer/curl\n",
    "        command: [\"/bin/sleep\", \"3650d\"]\n",
    "        imagePullPolicy: IfNotPresent\n",
    "EOF"
   ]
  },
  {
   "cell_type": "code",
   "execution_count": 4,
   "metadata": {},
   "outputs": [
    {
     "name": "stdout",
     "output_type": "stream",
     "text": [
      "NAME                        READY   STATUS              RESTARTS   AGE\n",
      "pod/sleep-56bc8d768-qpvwt   0/1     ContainerCreating   0          4s\n",
      "\n",
      "NAME                 TYPE        CLUSTER-IP   EXTERNAL-IP   PORT(S)   AGE\n",
      "service/kubernetes   ClusterIP   10.96.0.1    <none>        443/TCP   3m10s\n"
     ]
    }
   ],
   "source": [
    "kubectl get pods,svc"
   ]
  },
  {
   "cell_type": "code",
   "execution_count": 5,
   "metadata": {},
   "outputs": [
    {
     "name": "stdout",
     "output_type": "stream",
     "text": [
      "sleep-56bc8d768-qpvwt\n"
     ]
    }
   ],
   "source": [
    "SLEEP_POD=$(kubectl get pods | awk '/sleep-/{print $1}')\n",
    "echo $SLEEP_POD"
   ]
  },
  {
   "cell_type": "code",
   "execution_count": 6,
   "metadata": {},
   "outputs": [
    {
     "name": "stdout",
     "output_type": "stream",
     "text": [
      "<!DOCTYPE HTML PUBLIC \"-//IETF//DTD HTML 2.0//EN\">\n",
      "<html><head>\n",
      "<title>301 Moved Permanently</title>\n",
      "</head><body>\n",
      "<h1>Moved Permanently</h1>\n",
      "<p>The document has moved <a href=\"https://www.heise.de/\">here</a>.</p>\n",
      "</body></html>\n"
     ]
    }
   ],
   "source": [
    "kubectl exec $SLEEP_POD -- curl -m 5 -s heise.de"
   ]
  },
  {
   "cell_type": "code",
   "execution_count": 8,
   "metadata": {},
   "outputs": [
    {
     "name": "stdout",
     "output_type": "stream",
     "text": [
      "<HTML><HEAD><meta http-equiv=\"content-type\" content=\"text/html;charset=utf-8\">\n",
      "<TITLE>301 Moved</TITLE></HEAD><BODY>\n",
      "<H1>301 Moved</H1>\n",
      "The document has moved\n",
      "<A HREF=\"http://www.google.de/\">here</A>.\n",
      "</BODY></HTML>\n"
     ]
    }
   ],
   "source": [
    "kubectl exec $SLEEP_POD -- curl -m 5 -s google.de"
   ]
  },
  {
   "cell_type": "code",
   "execution_count": 9,
   "metadata": {},
   "outputs": [
    {
     "name": "stdout",
     "output_type": "stream",
     "text": [
      "\n",
      "; <<>> DiG 9.16.1-Ubuntu <<>> heise.de\n",
      ";; global options: +cmd\n",
      ";; Got answer:\n",
      ";; ->>HEADER<<- opcode: QUERY, status: NOERROR, id: 29627\n",
      ";; flags: qr rd ra; QUERY: 1, ANSWER: 1, AUTHORITY: 0, ADDITIONAL: 1\n",
      "\n",
      ";; OPT PSEUDOSECTION:\n",
      "; EDNS: version: 0, flags:; udp: 4096\n",
      ";; QUESTION SECTION:\n",
      ";heise.de.\t\t\tIN\tA\n",
      "\n",
      ";; ANSWER SECTION:\n",
      "heise.de.\t\t5955\tIN\tA\t193.99.144.80\n",
      "\n",
      ";; Query time: 4 msec\n",
      ";; SERVER: 192.168.49.1#53(192.168.49.1)\n",
      ";; WHEN: Wed Jan 27 15:36:12 UTC 2021\n",
      ";; MSG SIZE  rcvd: 53\n",
      "\n"
     ]
    }
   ],
   "source": [
    "dig heise.de"
   ]
  },
  {
   "cell_type": "markdown",
   "metadata": {},
   "source": [
    "## Networkpolicy\n"
   ]
  },
  {
   "cell_type": "code",
   "execution_count": 10,
   "metadata": {},
   "outputs": [
    {
     "name": "stdout",
     "output_type": "stream",
     "text": [
      "networkpolicy.networking.k8s.io/test-np created\n"
     ]
    }
   ],
   "source": [
    "kubectl apply -f - <<EOF\n",
    "apiVersion: networking.k8s.io/v1\n",
    "kind: NetworkPolicy\n",
    "metadata:\n",
    "  name: test-np\n",
    "  namespace: default\n",
    "spec:\n",
    "  podSelector:\n",
    "    matchLabels:\n",
    "      app: sleep\n",
    "  policyTypes:\n",
    "  - Ingress\n",
    "  - Egress\n",
    "  ingress:\n",
    "  - from:\n",
    "    - namespaceSelector:\n",
    "        matchLabels:\n",
    "          project: dev\n",
    "    - podSelector:\n",
    "        matchLabels:\n",
    "          role: frontend\n",
    "    ports:\n",
    "    - protocol: TCP\n",
    "      port: 80\n",
    "  egress:\n",
    "  - to:\n",
    "    - ipBlock:\n",
    "        cidr: 193.99.144.80/32\n",
    "    ports:\n",
    "    - protocol: TCP\n",
    "      port: 80\n",
    "EOF"
   ]
  },
  {
   "cell_type": "code",
   "execution_count": 21,
   "metadata": {},
   "outputs": [
    {
     "name": "stdout",
     "output_type": "stream",
     "text": [
      "<!DOCTYPE HTML PUBLIC \"-//IETF//DTD HTML 2.0//EN\">\n",
      "<html><head>\n",
      "<title>301 Moved Permanently</title>\n",
      "</head><body>\n",
      "<h1>Moved Permanently</h1>\n",
      "<p>The document has moved <a href=\"https://www.heise.de/\">here</a>.</p>\n",
      "</body></html>\n",
      "0\n"
     ]
    }
   ],
   "source": [
    "kubectl exec $SLEEP_POD -- curl -m 5 -s heise.de\n",
    "echo $?"
   ]
  },
  {
   "cell_type": "code",
   "execution_count": 22,
   "metadata": {},
   "outputs": [
    {
     "name": "stdout",
     "output_type": "stream",
     "text": [
      "command terminated with exit code 28\n",
      "28\n"
     ]
    }
   ],
   "source": [
    "kubectl exec $SLEEP_POD -- curl -m 5  -s google.de\n",
    "echo $?"
   ]
  },
  {
   "cell_type": "code",
   "execution_count": 23,
   "metadata": {},
   "outputs": [
    {
     "name": "stdout",
     "output_type": "stream",
     "text": [
      "<!DOCTYPE HTML PUBLIC \"-//IETF//DTD HTML 2.0//EN\">\n",
      "<html><head>\n",
      "<title>301 Moved Permanently</title>\n",
      "</head><body>\n",
      "<h1>Moved Permanently</h1>\n",
      "<p>The document has moved <a href=\"https://www.heise.de/\">here</a>.</p>\n",
      "</body></html>\n",
      "0\n"
     ]
    }
   ],
   "source": [
    "kubectl exec $SLEEP_POD -- curl -m 5 -s 193.99.144.80\n",
    "echo $?"
   ]
  },
  {
   "cell_type": "markdown",
   "metadata": {},
   "source": [
    "# Include DNS"
   ]
  },
  {
   "cell_type": "code",
   "execution_count": 15,
   "metadata": {},
   "outputs": [
    {
     "name": "stdout",
     "output_type": "stream",
     "text": [
      "networkpolicy.networking.k8s.io/test-np configured\n"
     ]
    }
   ],
   "source": [
    "kubectl apply -f - <<EOF\n",
    "apiVersion: networking.k8s.io/v1\n",
    "kind: NetworkPolicy\n",
    "metadata:\n",
    "  name: test-np\n",
    "  namespace: default\n",
    "spec:\n",
    "  podSelector:\n",
    "    matchLabels:\n",
    "      app: sleep\n",
    "  policyTypes:\n",
    "  - Ingress\n",
    "  - Egress\n",
    "  ingress:\n",
    "  - from:\n",
    "    - namespaceSelector:\n",
    "        matchLabels:\n",
    "          project: dev\n",
    "    - podSelector:\n",
    "        matchLabels:\n",
    "          role: frontend\n",
    "    ports:\n",
    "    - protocol: TCP\n",
    "      port: 80\n",
    "  egress:\n",
    "  - to:\n",
    "    - ipBlock:\n",
    "        cidr: 193.99.144.80/32\n",
    "    ports:\n",
    "    - protocol: TCP\n",
    "      port: 80\n",
    "  - ports:\n",
    "    - port: 53\n",
    "      protocol: UDP\n",
    "    - port: 53\n",
    "      protocol: TCP\n",
    "EOF"
   ]
  },
  {
   "cell_type": "code",
   "execution_count": 17,
   "metadata": {},
   "outputs": [
    {
     "name": "stdout",
     "output_type": "stream",
     "text": [
      "<!DOCTYPE HTML PUBLIC \"-//IETF//DTD HTML 2.0//EN\">\n",
      "<html><head>\n",
      "<title>301 Moved Permanently</title>\n",
      "</head><body>\n",
      "<h1>Moved Permanently</h1>\n",
      "<p>The document has moved <a href=\"https://www.heise.de/\">here</a>.</p>\n",
      "</body></html>\n"
     ]
    }
   ],
   "source": [
    "kubectl exec $SLEEP_POD -- curl -m 5 -s heise.de"
   ]
  },
  {
   "cell_type": "code",
   "execution_count": 20,
   "metadata": {},
   "outputs": [
    {
     "name": "stdout",
     "output_type": "stream",
     "text": [
      "* Rebuilt URL to: google.de/\n",
      "*   Trying 142.250.74.195...\n",
      "* TCP_NODELAY set\n",
      "*   Trying 2a00:1450:4001:821::2003...\n",
      "* TCP_NODELAY set\n",
      "* Immediate connect fail for 2a00:1450:4001:821::2003: Address not available\n",
      "*   Trying 2a00:1450:4001:821::2003...\n",
      "* TCP_NODELAY set\n",
      "* Immediate connect fail for 2a00:1450:4001:821::2003: Address not available\n",
      "*   Trying 2a00:1450:4001:821::2003...\n",
      "* TCP_NODELAY set\n",
      "* Immediate connect fail for 2a00:1450:4001:821::2003: Address not available\n",
      "*   Trying 2a00:1450:4001:821::2003...\n",
      "* TCP_NODELAY set\n",
      "* Immediate connect fail for 2a00:1450:4001:821::2003: Address not available\n",
      "*   Trying 2a00:1450:4001:821::2003...\n",
      "* TCP_NODELAY set\n",
      "* Immediate connect fail for 2a00:1450:4001:821::2003: Address not available\n",
      "*   Trying 2a00:1450:4001:821::2003...\n",
      "* TCP_NODELAY set\n",
      "* Immediate connect fail for 2a00:1450:4001:821::2003: Address not available\n",
      "* Connection timed out after 5000 milliseconds\n",
      "* stopped the pause stream!\n",
      "* Closing connection 0\n",
      "command terminated with exit code 28\n"
     ]
    },
    {
     "ename": "",
     "evalue": "28",
     "output_type": "error",
     "traceback": []
    }
   ],
   "source": [
    "kubectl exec $SLEEP_POD -- curl -v -m 5 -s google.de"
   ]
  },
  {
   "cell_type": "code",
   "execution_count": null,
   "metadata": {},
   "outputs": [],
   "source": [
    "kubectl get pods "
   ]
  },
  {
   "cell_type": "code",
   "execution_count": null,
   "metadata": {},
   "outputs": [],
   "source": []
  }
 ],
 "metadata": {
  "kernelspec": {
   "display_name": "Bash",
   "language": "bash",
   "name": "bash"
  },
  "language_info": {
   "codemirror_mode": "shell",
   "file_extension": ".sh",
   "mimetype": "text/x-sh",
   "name": "bash"
  }
 },
 "nbformat": 4,
 "nbformat_minor": 4
}
