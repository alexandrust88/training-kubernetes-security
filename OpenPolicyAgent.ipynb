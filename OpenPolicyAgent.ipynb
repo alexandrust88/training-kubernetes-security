{
 "cells": [
  {
   "cell_type": "markdown",
   "metadata": {},
   "source": [
    "**This notebook covered by the following [license](License.ipynb)  This note must not be removed**"
   ]
  },
  {
   "cell_type": "markdown",
   "metadata": {},
   "source": [
    "<div>\n",
    "<img src=\"https://d33wubrfki0l68.cloudfront.net/5305a470ca0260247560b4f94daf68ed62d4a514/85ceb/img/logos/opa-no-text-color.png\" width=\"20%\"/>\n",
    "</div>\n",
    "\n",
    "## Open Policy Agent\n",
    "\n",
    "requires a running ingress, run `minikube addons enable ingress` to start an ingress \n",
    "\n",
    "following the [instructions in the tutorial](https://www.openpolicyagent.org/docs/latest/kubernetes-tutorial/#1-start-kubernetes-recommended-admisson-controllers-enabled)"
   ]
  },
  {
   "cell_type": "code",
   "execution_count": 1,
   "metadata": {},
   "outputs": [
    {
     "name": "stdout",
     "output_type": "stream",
     "text": [
      "NAME                                            READY   STATUS      RESTARTS   AGE\n",
      "pod/coredns-74ff55c5b-x6qbk                     1/1     Running     0          3m8s\n",
      "pod/etcd-minikube                               1/1     Running     0          3m15s\n",
      "pod/\u001b[01;31m\u001b[Kingress\u001b[m\u001b[K-nginx-admission-create-khknw        0/1     Completed   0          3m8s\n",
      "pod/\u001b[01;31m\u001b[Kingress\u001b[m\u001b[K-nginx-admission-patch-mrpwq         0/1     Completed   0          3m8s\n",
      "pod/\u001b[01;31m\u001b[Kingress\u001b[m\u001b[K-nginx-controller-558664778f-rrl4b   1/1     Running     0          3m8s\n",
      "pod/kube-apiserver-minikube                     1/1     Running     0          3m15s\n",
      "pod/kube-controller-manager-minikube            1/1     Running     0          3m15s\n",
      "pod/kube-proxy-kbzc8                            1/1     Running     0          3m8s\n",
      "pod/kube-scheduler-minikube                     1/1     Running     0          3m15s\n",
      "pod/storage-provisioner                         1/1     Running     0          3m20s\n",
      "\n",
      "NAME                                         TYPE        CLUSTER-IP      EXTERNAL-IP   PORT(S)                  AGE\n",
      "service/\u001b[01;31m\u001b[Kingress\u001b[m\u001b[K-nginx-controller-admission   ClusterIP   10.110.31.135   <none>        443/TCP                  3m8s\n",
      "service/kube-dns                             ClusterIP   10.96.0.10      <none>        53/UDP,53/TCP,9153/TCP   3m23s\n",
      "\n",
      "NAME                        DESIRED   CURRENT   READY   UP-TO-DATE   AVAILABLE   NODE SELECTOR            AGE\n",
      "daemonset.apps/kube-proxy   1         1         1       1            1           kubernetes.io/os=linux   3m23s\n",
      "\n",
      "NAME                                       READY   UP-TO-DATE   AVAILABLE   AGE\n",
      "deployment.apps/coredns                    1/1     1            1           3m23s\n",
      "deployment.apps/\u001b[01;31m\u001b[Kingress\u001b[m\u001b[K-nginx-controller   1/1     1            1           3m9s\n",
      "\n",
      "NAME                                                  DESIRED   CURRENT   READY   AGE\n",
      "replicaset.apps/coredns-74ff55c5b                     1         1         1       3m8s\n",
      "replicaset.apps/\u001b[01;31m\u001b[Kingress\u001b[m\u001b[K-nginx-controller-558664778f   1         1         1       3m8s\n",
      "\n",
      "NAME                                       COMPLETIONS   DURATION   AGE\n",
      "job.batch/\u001b[01;31m\u001b[Kingress\u001b[m\u001b[K-nginx-admission-create   1/1           10s        3m9s\n",
      "job.batch/\u001b[01;31m\u001b[Kingress\u001b[m\u001b[K-nginx-admission-patch    1/1           15s        3m8s\n"
     ]
    }
   ],
   "source": [
    "kubectl get all -n kube-system | grep --color=always -E '$|ingress' "
   ]
  },
  {
   "cell_type": "code",
   "execution_count": 2,
   "metadata": {},
   "outputs": [
    {
     "name": "stdout",
     "output_type": "stream",
     "text": [
      "namespace/opa created\n"
     ]
    }
   ],
   "source": [
    "kubectl create namespace opa\n"
   ]
  },
  {
   "cell_type": "code",
   "execution_count": 3,
   "metadata": {},
   "outputs": [
    {
     "name": "stdout",
     "output_type": "stream",
     "text": [
      "/minikube-host/training/notebooks\n"
     ]
    }
   ],
   "source": [
    "pwd"
   ]
  },
  {
   "cell_type": "code",
   "execution_count": 4,
   "metadata": {},
   "outputs": [],
   "source": [
    "mkdir -p opa\n",
    "cd opa"
   ]
  },
  {
   "cell_type": "markdown",
   "metadata": {},
   "source": [
    "## Generate the certificate \n",
    "create a certificate authority (CA) and certificate/key pair "
   ]
  },
  {
   "cell_type": "code",
   "execution_count": 5,
   "metadata": {},
   "outputs": [
    {
     "name": "stdout",
     "output_type": "stream",
     "text": [
      "Generating RSA private key, 2048 bit long modulus (2 primes)\n",
      "...............................+++++\n",
      "...................................+++++\n",
      "e is 65537 (0x010001)\n"
     ]
    }
   ],
   "source": [
    "openssl genrsa -out ca.key 2048\n",
    "openssl req -x509 -new -nodes -key ca.key -days 100000 -out ca.crt -subj \"/CN=admission_ca\""
   ]
  },
  {
   "cell_type": "markdown",
   "metadata": {},
   "source": [
    "generate the TLS key and certificate for OPA"
   ]
  },
  {
   "cell_type": "code",
   "execution_count": 6,
   "metadata": {},
   "outputs": [],
   "source": [
    "cat >server.conf <<EOF\n",
    "[req]\n",
    "req_extensions = v3_req\n",
    "distinguished_name = req_distinguished_name\n",
    "prompt = no\n",
    "[req_distinguished_name]\n",
    "CN = opa.opa.svc\n",
    "[ v3_req ]\n",
    "basicConstraints = CA:FALSE\n",
    "keyUsage = nonRepudiation, digitalSignature, keyEncipherment\n",
    "extendedKeyUsage = clientAuth, serverAuth\n",
    "subjectAltName = @alt_names\n",
    "[alt_names]\n",
    "DNS.1 = opa.opa.svc\n",
    "EOF"
   ]
  },
  {
   "cell_type": "code",
   "execution_count": 7,
   "metadata": {},
   "outputs": [
    {
     "name": "stdout",
     "output_type": "stream",
     "text": [
      "Generating RSA private key, 2048 bit long modulus (2 primes)\n",
      ".....+++++\n",
      ".........................+++++\n",
      "e is 65537 (0x010001)\n",
      "Signature ok\n",
      "subject=CN = opa.opa.svc\n",
      "Getting CA Private Key\n"
     ]
    }
   ],
   "source": [
    "openssl genrsa -out server.key 2048\n",
    "openssl req -new -key server.key -out server.csr -subj \"/CN=opa.opa.svc\" -config server.conf\n",
    "openssl x509 -req -in server.csr -CA ca.crt -CAkey ca.key -CAcreateserial -out server.crt -days 100000 -extensions v3_req -extfile server.conf"
   ]
  },
  {
   "cell_type": "code",
   "execution_count": 8,
   "metadata": {},
   "outputs": [
    {
     "name": "stdout",
     "output_type": "stream",
     "text": [
      "secret/opa-server created\n"
     ]
    }
   ],
   "source": [
    "kubectl create secret -n opa tls opa-server --cert=server.crt --key=server.key"
   ]
  },
  {
   "cell_type": "markdown",
   "metadata": {},
   "source": [
    "# AdmissionController\n",
    "create config and deploy an admission controller"
   ]
  },
  {
   "cell_type": "code",
   "execution_count": 9,
   "metadata": {},
   "outputs": [
    {
     "name": "stdout",
     "output_type": "stream",
     "text": [
      "clusterrolebinding.rbac.authorization.k8s.io/opa-viewer created\n",
      "role.rbac.authorization.k8s.io/configmap-modifier created\n",
      "rolebinding.rbac.authorization.k8s.io/opa-configmap-modifier created\n",
      "service/opa created\n",
      "deployment.apps/opa created\n",
      "configmap/opa-default-system-main created\n"
     ]
    }
   ],
   "source": [
    "kubectl create -f - <<EOF\n",
    "# Grant OPA/kube-mgmt read-only access to resources. This lets kube-mgmt\n",
    "# replicate resources into OPA so they can be used in policies.\n",
    "kind: ClusterRoleBinding\n",
    "apiVersion: rbac.authorization.k8s.io/v1\n",
    "metadata:\n",
    "  name: opa-viewer\n",
    "roleRef:\n",
    "  kind: ClusterRole\n",
    "  name: view\n",
    "  apiGroup: rbac.authorization.k8s.io\n",
    "subjects:\n",
    "- kind: Group\n",
    "  name: system:serviceaccounts:opa\n",
    "  apiGroup: rbac.authorization.k8s.io\n",
    "---\n",
    "# Define role for OPA/kube-mgmt to update configmaps with policy status.\n",
    "kind: Role\n",
    "apiVersion: rbac.authorization.k8s.io/v1\n",
    "metadata:\n",
    "  namespace: opa\n",
    "  name: configmap-modifier\n",
    "rules:\n",
    "- apiGroups: [\"\"]\n",
    "  resources: [\"configmaps\"]\n",
    "  verbs: [\"update\", \"patch\"]\n",
    "---\n",
    "# Grant OPA/kube-mgmt role defined above.\n",
    "kind: RoleBinding\n",
    "apiVersion: rbac.authorization.k8s.io/v1\n",
    "metadata:\n",
    "  namespace: opa\n",
    "  name: opa-configmap-modifier\n",
    "roleRef:\n",
    "  kind: Role\n",
    "  name: configmap-modifier\n",
    "  apiGroup: rbac.authorization.k8s.io\n",
    "subjects:\n",
    "- kind: Group\n",
    "  name: system:serviceaccounts:opa\n",
    "  apiGroup: rbac.authorization.k8s.io\n",
    "---\n",
    "kind: Service\n",
    "apiVersion: v1\n",
    "metadata:\n",
    "  name: opa\n",
    "  namespace: opa\n",
    "spec:\n",
    "  selector:\n",
    "    app: opa\n",
    "  ports:\n",
    "  - name: https\n",
    "    protocol: TCP\n",
    "    port: 443\n",
    "    targetPort: 8443\n",
    "---\n",
    "apiVersion: apps/v1\n",
    "kind: Deployment\n",
    "metadata:\n",
    "  labels:\n",
    "    app: opa\n",
    "  namespace: opa\n",
    "  name: opa\n",
    "spec:\n",
    "  replicas: 1\n",
    "  selector:\n",
    "    matchLabels:\n",
    "      app: opa\n",
    "  template:\n",
    "    metadata:\n",
    "      labels:\n",
    "        app: opa\n",
    "      name: opa\n",
    "    spec:\n",
    "      containers:\n",
    "        # WARNING: OPA is NOT running with an authorization policy configured. This\n",
    "        # means that clients can read and write policies in OPA. If you are\n",
    "        # deploying OPA in an insecure environment, be sure to configure\n",
    "        # authentication and authorization on the daemon. See the Security page for\n",
    "        # details: https://www.openpolicyagent.org/docs/security.html.\n",
    "        - name: opa\n",
    "          image: openpolicyagent/opa:latest-rootless\n",
    "          args:\n",
    "            - \"run\"\n",
    "            - \"--server\"\n",
    "            - \"--tls-cert-file=/certs/tls.crt\"\n",
    "            - \"--tls-private-key-file=/certs/tls.key\"\n",
    "            - \"--addr=0.0.0.0:8443\"\n",
    "            - \"--addr=http://127.0.0.1:8181\"\n",
    "            - \"--log-format=json-pretty\"\n",
    "            - \"--set=decision_logs.console=true\"\n",
    "          volumeMounts:\n",
    "            - readOnly: true\n",
    "              mountPath: /certs\n",
    "              name: opa-server\n",
    "          readinessProbe:\n",
    "            httpGet:\n",
    "              path: /health?plugins&bundle\n",
    "              scheme: HTTPS\n",
    "              port: 8443\n",
    "            initialDelaySeconds: 3\n",
    "            periodSeconds: 5\n",
    "          livenessProbe:\n",
    "            httpGet:\n",
    "              path: /health\n",
    "              scheme: HTTPS\n",
    "              port: 8443\n",
    "            initialDelaySeconds: 3\n",
    "            periodSeconds: 5\n",
    "        - name: kube-mgmt\n",
    "          image: openpolicyagent/kube-mgmt:0.11\n",
    "          args:\n",
    "            - \"--replicate-cluster=v1/namespaces\"\n",
    "            - \"--replicate=extensions/v1beta1/ingresses\"\n",
    "      volumes:\n",
    "        - name: opa-server\n",
    "          secret:\n",
    "            secretName: opa-server\n",
    "---\n",
    "kind: ConfigMap\n",
    "apiVersion: v1\n",
    "metadata:\n",
    "  name: opa-default-system-main\n",
    "  namespace: opa\n",
    "data:\n",
    "  main: |\n",
    "    package system\n",
    "\n",
    "    import data.kubernetes.admission\n",
    "\n",
    "    main = {\n",
    "      \"apiVersion\": \"admission.k8s.io/v1beta1\",\n",
    "      \"kind\": \"AdmissionReview\",\n",
    "      \"response\": response,\n",
    "    }\n",
    "\n",
    "    default uid = \"\"\n",
    "\n",
    "    uid = input.request.uid\n",
    "\n",
    "    response = {\n",
    "        \"allowed\": false,\n",
    "        \"uid\": uid,\n",
    "        \"status\": {\n",
    "            \"reason\": reason,\n",
    "        },\n",
    "    } {\n",
    "        reason = concat(\", \", admission.deny)\n",
    "        reason != \"\"\n",
    "    }\n",
    "    else = {\"allowed\": true, \"uid\": uid}\n",
    "EOF"
   ]
  },
  {
   "cell_type": "markdown",
   "metadata": {},
   "source": [
    "Exclude opa and kube-system namespaces"
   ]
  },
  {
   "cell_type": "code",
   "execution_count": 10,
   "metadata": {},
   "outputs": [
    {
     "name": "stdout",
     "output_type": "stream",
     "text": [
      "namespace/kube-system labeled\n",
      "namespace/opa labeled\n"
     ]
    }
   ],
   "source": [
    "kubectl label ns kube-system openpolicyagent.org/webhook=ignore\n",
    "kubectl label ns opa openpolicyagent.org/webhook=ignore\n"
   ]
  },
  {
   "cell_type": "code",
   "execution_count": 11,
   "metadata": {},
   "outputs": [
    {
     "name": "stdout",
     "output_type": "stream",
     "text": [
      "ca.crt  ca.key  ca.srl  server.conf  server.crt  server.csr  server.key\n"
     ]
    }
   ],
   "source": [
    "ls"
   ]
  },
  {
   "cell_type": "code",
   "execution_count": 13,
   "metadata": {},
   "outputs": [
    {
     "name": "stdout",
     "output_type": "stream",
     "text": [
      "\u001b[33;1mWarning:\u001b[0m admissionregistration.k8s.io/v1beta1 ValidatingWebhookConfiguration is deprecated in v1.16+, unavailable in v1.22+; use admissionregistration.k8s.io/v1 ValidatingWebhookConfiguration\n",
      "validatingwebhookconfiguration.admissionregistration.k8s.io/opa-validating-webhook created\n"
     ]
    }
   ],
   "source": [
    "kubectl apply -f - <<EOF\n",
    "kind: ValidatingWebhookConfiguration\n",
    "apiVersion: admissionregistration.k8s.io/v1beta1\n",
    "metadata:\n",
    "  name: opa-validating-webhook\n",
    "  namespace: opa\n",
    "webhooks:\n",
    "  - name: validating-webhook.openpolicyagent.org\n",
    "    namespaceSelector:\n",
    "      matchExpressions:\n",
    "      - key: openpolicyagent.org/webhook\n",
    "        operator: NotIn\n",
    "        values:\n",
    "        - ignore\n",
    "    rules:\n",
    "      - operations: [\"CREATE\", \"UPDATE\"]\n",
    "        apiGroups: [\"*\"]\n",
    "        apiVersions: [\"*\"]\n",
    "        resources: [\"*\"]\n",
    "    clientConfig:\n",
    "      caBundle: $(cat ca.crt | base64 | tr -d '\\n')\n",
    "      service:\n",
    "        namespace: opa\n",
    "        name: opa\n",
    "EOF"
   ]
  },
  {
   "cell_type": "code",
   "execution_count": 14,
   "metadata": {},
   "outputs": [
    {
     "name": "stdout",
     "output_type": "stream",
     "text": [
      "ca.crt  ca.srl               server.conf  server.csr\n",
      "ca.key  repo-allowlist.rego  server.crt   server.key\n"
     ]
    }
   ],
   "source": [
    "cat  > repo-allowlist.rego <<EOF\n",
    "package kubernetes.admission                                                # line 1\n",
    "\n",
    "deny[msg] {                                                                 # line 2\n",
    "  input.request.kind.kind == \"Pod\"                                          # line 3\n",
    "  image := input.request.object.spec.containers[_].image                    # line 4\n",
    "  not startswith(image, \"gcr.io/\")                                       # line 5\n",
    "  msg := sprintf(\"image fails to come from trusted registry: %v\", [image])  # line 6\n",
    "}\n",
    "EOF\n",
    "ls"
   ]
  },
  {
   "cell_type": "code",
   "execution_count": 15,
   "metadata": {},
   "outputs": [
    {
     "name": "stdout",
     "output_type": "stream",
     "text": [
      "configmap/repo-allowlist created\n"
     ]
    }
   ],
   "source": [
    "kubectl create configmap -n opa repo-allowlist --from-file=repo-allowlist.rego"
   ]
  },
  {
   "cell_type": "code",
   "execution_count": 16,
   "metadata": {},
   "outputs": [
    {
     "name": "stdout",
     "output_type": "stream",
     "text": [
      "Error from server (image fails to come from trusted registry: nginx): admission webhook \"validating-webhook.openpolicyagent.org\" denied the request: image fails to come from trusted registry: nginx\n"
     ]
    },
    {
     "ename": "",
     "evalue": "1",
     "output_type": "error",
     "traceback": []
    }
   ],
   "source": [
    "kubectl run -n default blocklisted --image nginx --port=80"
   ]
  },
  {
   "cell_type": "code",
   "execution_count": 21,
   "metadata": {},
   "outputs": [
    {
     "name": "stdout",
     "output_type": "stream",
     "text": [
      "  \"level\": \"info\",\n",
      "  \"msg\": \"Sent response.\",\n",
      "  \"req_id\": 407,\n",
      "  \"req_method\": \"POST\",\n",
      "  \"req_path\": \"/\",\n",
      "  \"resp_bytes\": 139,\n",
      "  \"resp_duration\": 7.145648,\n",
      "  \"resp_status\": 200,\n",
      "  \"time\": \"2021-01-28T15:17:38Z\"\n",
      "}\n"
     ]
    }
   ],
   "source": [
    "kubectl logs -n opa -l app=opa -c opa"
   ]
  },
  {
   "cell_type": "code",
   "execution_count": 19,
   "metadata": {},
   "outputs": [
    {
     "name": "stdout",
     "output_type": "stream",
     "text": [
      "NAME          READY   STATUS              RESTARTS   AGE\n",
      "allowlisted   0/1     ContainerCreating   0          10s\n"
     ]
    }
   ],
   "source": [
    "kubectl get pods -n default"
   ]
  },
  {
   "cell_type": "code",
   "execution_count": 18,
   "metadata": {},
   "outputs": [
    {
     "name": "stdout",
     "output_type": "stream",
     "text": [
      "pod/allowlisted created\n"
     ]
    }
   ],
   "source": [
    "kubectl run -n default allowlisted  --labels=\"opa=good\" --image=gcr.io/google-samples/node-hello:1.0  --port=8080"
   ]
  },
  {
   "cell_type": "code",
   "execution_count": 27,
   "metadata": {},
   "outputs": [
    {
     "name": "stdout",
     "output_type": "stream",
     "text": [
      "Error from server (NotFound): deployments.apps \"blocklisted\" not found\n"
     ]
    },
    {
     "ename": "",
     "evalue": "1",
     "output_type": "error",
     "traceback": []
    }
   ],
   "source": [
    "kubectl delete -n default deployment blocklisted"
   ]
  },
  {
   "cell_type": "code",
   "execution_count": 28,
   "metadata": {},
   "outputs": [
    {
     "name": "stdout",
     "output_type": "stream",
     "text": [
      "Error from server (NotFound): deployments.apps \"allowlisted\" not found\n"
     ]
    },
    {
     "ename": "",
     "evalue": "1",
     "output_type": "error",
     "traceback": []
    }
   ],
   "source": [
    "kubectl delete -n default deployment allowlisted"
   ]
  },
  {
   "cell_type": "code",
   "execution_count": 29,
   "metadata": {},
   "outputs": [
    {
     "name": "stdout",
     "output_type": "stream",
     "text": [
      "error: no context exists with the name: \"minikube\"\n"
     ]
    },
    {
     "ename": "",
     "evalue": "1",
     "output_type": "error",
     "traceback": []
    }
   ],
   "source": [
    "kubectl config use-context minikube"
   ]
  },
  {
   "cell_type": "code",
   "execution_count": 30,
   "metadata": {},
   "outputs": [
    {
     "name": "stdout",
     "output_type": "stream",
     "text": [
      "NAME          READY   STATUS    RESTARTS   AGE\n",
      "allowlisted   1/1     Running   0          30s\n"
     ]
    }
   ],
   "source": [
    "kubectl get pods -n default"
   ]
  },
  {
   "cell_type": "code",
   "execution_count": 31,
   "metadata": {},
   "outputs": [
    {
     "name": "stdout",
     "output_type": "stream",
     "text": [
      "namespace \"opa\" deleted\n"
     ]
    }
   ],
   "source": [
    "kubectl delete namespace opa"
   ]
  },
  {
   "cell_type": "code",
   "execution_count": 20,
   "metadata": {},
   "outputs": [
    {
     "name": "stdout",
     "output_type": "stream",
     "text": [
      "NAMESPACE     NAME                                        READY   STATUS      RESTARTS   AGE\n",
      "default       allowlisted                                 1/1     Running     0          118s\n",
      "kube-system   coredns-74ff55c5b-x6qbk                     1/1     Running     0          17m\n",
      "kube-system   etcd-minikube                               1/1     Running     0          17m\n",
      "kube-system   ingress-nginx-admission-create-khknw        0/1     Completed   0          17m\n",
      "kube-system   ingress-nginx-admission-patch-mrpwq         0/1     Completed   0          17m\n",
      "kube-system   ingress-nginx-controller-558664778f-rrl4b   1/1     Running     0          17m\n",
      "kube-system   kube-apiserver-minikube                     1/1     Running     0          17m\n",
      "kube-system   kube-controller-manager-minikube            1/1     Running     0          17m\n",
      "kube-system   kube-proxy-kbzc8                            1/1     Running     0          17m\n",
      "kube-system   kube-scheduler-minikube                     1/1     Running     0          17m\n",
      "kube-system   storage-provisioner                         1/1     Running     0          17m\n",
      "opa           opa-c9db794f4-9lvz5                         2/2     Running     0          11m\n"
     ]
    }
   ],
   "source": [
    "kubectl get pods -A"
   ]
  },
  {
   "cell_type": "code",
   "execution_count": null,
   "metadata": {},
   "outputs": [],
   "source": []
  }
 ],
 "metadata": {
  "kernelspec": {
   "display_name": "Bash",
   "language": "bash",
   "name": "bash"
  },
  "language_info": {
   "codemirror_mode": "shell",
   "file_extension": ".sh",
   "mimetype": "text/x-sh",
   "name": "bash"
  }
 },
 "nbformat": 4,
 "nbformat_minor": 4
}
