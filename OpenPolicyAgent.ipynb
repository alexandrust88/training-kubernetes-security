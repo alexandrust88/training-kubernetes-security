{
 "cells": [
  {
   "cell_type": "markdown",
   "metadata": {
    "tags": []
   },
   "source": [
    "**This notebook covered by the following [license](License.ipynb)  This note must not be removed**"
   ]
  },
  {
   "cell_type": "markdown",
   "metadata": {},
   "source": [
    "# ⚠️⚠️⚠️⚠️⚠️⚠️⚠️⚠️⚠️⚠️⚠️⚠️⚠️⚠️⚠️⚠️⚠️⚠️⚠️⚠️⚠️⚠️⚠️⚠️⚠️⚠️⚠️⚠️⚠️\n",
    "#\n",
    "# Outdated and broken\n",
    "\n",
    "will be updated, stay tuned\n",
    "\n",
    "#\n",
    "# ⚠️⚠️⚠️⚠️⚠️⚠️⚠️⚠️⚠️⚠️⚠️⚠️⚠️⚠️⚠️⚠️⚠️⚠️⚠️⚠️⚠️⚠️⚠️⚠️⚠️⚠️⚠️⚠️⚠️"
   ]
  },
  {
   "cell_type": "markdown",
   "metadata": {},
   "source": [
    "<div>\n",
    "<img src=\"https://d33wubrfki0l68.cloudfront.net/5305a470ca0260247560b4f94daf68ed62d4a514/85ceb/img/logos/opa-no-text-color.png\" width=\"20%\"/>\n",
    "</div>\n",
    "\n",
    "## Open Policy Agent\n",
    "\n",
    "requires a running ingress, run `minikube addons enable ingress` to start an ingress \n",
    "\n",
    "following the [instructions in the tutorial](https://www.openpolicyagent.org/docs/latest/kubernetes-tutorial/#1-start-kubernetes-recommended-admisson-controllers-enabled)"
   ]
  },
  {
   "cell_type": "code",
   "execution_count": 5,
   "metadata": {},
   "outputs": [
    {
     "name": "stdout",
     "output_type": "stream",
     "text": [
      "NAMESPACE       NAME                                        READY   STATUS      RESTARTS   AGE\n",
      "default         acid-acid-mypg-clone-0                      1/1     Running     0          3h48m\n",
      "default         acid-mypg-0                                 1/1     Running     0          3h54m\n",
      "default         acid-mypg-1                                 1/1     Running     0          4h4m\n",
      "default         acid-mypg-2                                 1/1     Running     0          4h4m\n",
      "default         acid-mypg-yaml-0                            1/1     Running     0          179m\n",
      "default         acid-mypg-yaml-1                            1/1     Running     0          179m\n",
      "default         acid-mypg-yaml-2                            1/1     Running     0          179m\n",
      "default         postgres-operator-58b75c5587-k7clb          1/1     Running     0          4h22m\n",
      "default         postgres-operator-ui-58644cfcff-bx6xg       1/1     Running     0          4h21m\n",
      "default         sleep-56bc8d768-tj2hm                       1/1     Running     0          23h\n",
      "\u001b[01;31m\u001b[Kingress\u001b[m\u001b[K-nginx   \u001b[01;31m\u001b[Kingress\u001b[m\u001b[K-nginx-admission-create--1-v5t49     0/1     Completed   0          88s\n",
      "\u001b[01;31m\u001b[Kingress\u001b[m\u001b[K-nginx   \u001b[01;31m\u001b[Kingress\u001b[m\u001b[K-nginx-admission-patch--1-hwf5z      0/1     Completed   1          88s\n",
      "\u001b[01;31m\u001b[Kingress\u001b[m\u001b[K-nginx   \u001b[01;31m\u001b[Kingress\u001b[m\u001b[K-nginx-controller-69bdbc4d57-9j9c9   1/1     Running     0          88s\n",
      "kube-system     calico-kube-controllers-58497c65d5-xm6d8    1/1     Running     4          23h\n",
      "kube-system     calico-node-k6fpb                           1/1     Running     0          23h\n",
      "kube-system     coredns-78fcd69978-mvc8k                    1/1     Running     0          23h\n",
      "kube-system     etcd-minikube                               1/1     Running     0          23h\n",
      "kube-system     kube-apiserver-minikube                     1/1     Running     0          139m\n",
      "kube-system     kube-controller-manager-minikube            1/1     Running     0          23h\n",
      "kube-system     kube-proxy-q9hbz                            1/1     Running     0          23h\n",
      "kube-system     kube-scheduler-minikube                     1/1     Running     0          23h\n",
      "kube-system     storage-provisioner                         1/1     Running     6          23h\n"
     ]
    }
   ],
   "source": [
    "kubectl get pods -A | grep --color=always -E '$|ingress' "
   ]
  },
  {
   "cell_type": "code",
   "execution_count": 6,
   "metadata": {},
   "outputs": [
    {
     "name": "stdout",
     "output_type": "stream",
     "text": [
      "namespace/opa created\n"
     ]
    }
   ],
   "source": [
    "kubectl create namespace opa\n"
   ]
  },
  {
   "cell_type": "code",
   "execution_count": 7,
   "metadata": {},
   "outputs": [
    {
     "name": "stdout",
     "output_type": "stream",
     "text": [
      "/minikube-host/notebooks/training-kubernetes-security\n"
     ]
    }
   ],
   "source": [
    "pwd"
   ]
  },
  {
   "cell_type": "code",
   "execution_count": 8,
   "metadata": {},
   "outputs": [],
   "source": [
    "mkdir -p opa\n",
    "cd opa"
   ]
  },
  {
   "cell_type": "markdown",
   "metadata": {},
   "source": [
    "## Generate the certificate \n",
    "create a certificate authority (CA) and certificate/key pair "
   ]
  },
  {
   "cell_type": "code",
   "execution_count": 9,
   "metadata": {},
   "outputs": [
    {
     "name": "stdout",
     "output_type": "stream",
     "text": [
      "Generating RSA private key, 2048 bit long modulus (2 primes)\n",
      "........................................................................................................................................+++++\n",
      ".....................................................................................................................................................................+++++\n",
      "e is 65537 (0x010001)\n"
     ]
    }
   ],
   "source": [
    "openssl genrsa -out ca.key 2048\n",
    "openssl req -x509 -new -nodes -key ca.key -days 100000 -out ca.crt -subj \"/CN=admission_ca\""
   ]
  },
  {
   "cell_type": "markdown",
   "metadata": {},
   "source": [
    "generate the TLS key and certificate for OPA"
   ]
  },
  {
   "cell_type": "code",
   "execution_count": 10,
   "metadata": {},
   "outputs": [],
   "source": [
    "cat >server.conf <<EOF\n",
    "[req]\n",
    "req_extensions = v3_req\n",
    "distinguished_name = req_distinguished_name\n",
    "prompt = no\n",
    "[req_distinguished_name]\n",
    "CN = opa.opa.svc\n",
    "[ v3_req ]\n",
    "basicConstraints = CA:FALSE\n",
    "keyUsage = nonRepudiation, digitalSignature, keyEncipherment\n",
    "extendedKeyUsage = clientAuth, serverAuth\n",
    "subjectAltName = @alt_names\n",
    "[alt_names]\n",
    "DNS.1 = opa.opa.svc\n",
    "EOF"
   ]
  },
  {
   "cell_type": "code",
   "execution_count": 11,
   "metadata": {},
   "outputs": [
    {
     "name": "stdout",
     "output_type": "stream",
     "text": [
      "Generating RSA private key, 2048 bit long modulus (2 primes)\n",
      "..................+++++\n",
      "............................+++++\n",
      "e is 65537 (0x010001)\n",
      "Signature ok\n",
      "subject=CN = opa.opa.svc\n",
      "Getting CA Private Key\n"
     ]
    }
   ],
   "source": [
    "openssl genrsa -out server.key 2048\n",
    "openssl req -new -key server.key -out server.csr -subj \"/CN=opa.opa.svc\" -config server.conf\n",
    "openssl x509 -req -in server.csr -CA ca.crt -CAkey ca.key -CAcreateserial -out server.crt -days 100000 -extensions v3_req -extfile server.conf"
   ]
  },
  {
   "cell_type": "code",
   "execution_count": 45,
   "metadata": {},
   "outputs": [
    {
     "name": "stdout",
     "output_type": "stream",
     "text": [
      "error: failed to create secret secrets \"opa-server\" already exists\n"
     ]
    },
    {
     "ename": "",
     "evalue": "1",
     "output_type": "error",
     "traceback": []
    }
   ],
   "source": [
    "kubectl create secret -n opa tls opa-server --cert=server.crt --key=server.key"
   ]
  },
  {
   "cell_type": "markdown",
   "metadata": {},
   "source": [
    "# AdmissionController\n",
    "create config and deploy an admission controller"
   ]
  },
  {
   "cell_type": "code",
   "execution_count": 44,
   "metadata": {},
   "outputs": [
    {
     "name": "stdout",
     "output_type": "stream",
     "text": [
      "clusterrolebinding.rbac.authorization.k8s.io/opa-viewer unchanged\n",
      "role.rbac.authorization.k8s.io/configmap-modifier unchanged\n",
      "rolebinding.rbac.authorization.k8s.io/opa-configmap-modifier unchanged\n",
      "service/opa unchanged\n",
      "deployment.apps/opa created\n",
      "configmap/opa-default-system-main unchanged\n"
     ]
    }
   ],
   "source": [
    "kubectl apply -f - <<EOF\n",
    "# Grant OPA/kube-mgmt read-only access to resources. This lets kube-mgmt\n",
    "# replicate resources into OPA so they can be used in policies.\n",
    "kind: ClusterRoleBinding\n",
    "apiVersion: rbac.authorization.k8s.io/v1\n",
    "metadata:\n",
    "  name: opa-viewer\n",
    "roleRef:\n",
    "  kind: ClusterRole\n",
    "  name: view\n",
    "  apiGroup: rbac.authorization.k8s.io\n",
    "subjects:\n",
    "- kind: Group\n",
    "  name: system:serviceaccounts:opa\n",
    "  apiGroup: rbac.authorization.k8s.io\n",
    "---\n",
    "# Define role for OPA/kube-mgmt to update configmaps with policy status.\n",
    "kind: Role\n",
    "apiVersion: rbac.authorization.k8s.io/v1\n",
    "metadata:\n",
    "  namespace: opa\n",
    "  name: configmap-modifier\n",
    "rules:\n",
    "- apiGroups: [\"\"]\n",
    "  resources: [\"configmaps\"]\n",
    "  verbs: [\"update\", \"patch\"]\n",
    "---\n",
    "# Grant OPA/kube-mgmt role defined above.\n",
    "kind: RoleBinding\n",
    "apiVersion: rbac.authorization.k8s.io/v1\n",
    "metadata:\n",
    "  namespace: opa\n",
    "  name: opa-configmap-modifier\n",
    "roleRef:\n",
    "  kind: Role\n",
    "  name: configmap-modifier\n",
    "  apiGroup: rbac.authorization.k8s.io\n",
    "subjects:\n",
    "- kind: Group\n",
    "  name: system:serviceaccounts:opa\n",
    "  apiGroup: rbac.authorization.k8s.io\n",
    "---\n",
    "kind: Service\n",
    "apiVersion: v1\n",
    "metadata:\n",
    "  name: opa\n",
    "  namespace: opa\n",
    "spec:\n",
    "  selector:\n",
    "    app: opa\n",
    "  ports:\n",
    "  - name: https\n",
    "    protocol: TCP\n",
    "    port: 443\n",
    "    targetPort: 443\n",
    "---\n",
    "apiVersion: apps/v1\n",
    "kind: Deployment\n",
    "metadata:\n",
    "  labels:\n",
    "    app: opa\n",
    "  namespace: opa\n",
    "  name: opa\n",
    "spec:\n",
    "  replicas: 1\n",
    "  selector:\n",
    "    matchLabels:\n",
    "      app: opa\n",
    "  template:\n",
    "    metadata:\n",
    "      labels:\n",
    "        app: opa\n",
    "      name: opa\n",
    "    spec:\n",
    "      containers:\n",
    "        # WARNING: OPA is NOT running with an authorization policy configured. This\n",
    "        # means that clients can read and write policies in OPA. If you are\n",
    "        # deploying OPA in an insecure environment, be sure to configure\n",
    "        # authentication and authorization on the daemon. See the Security page for\n",
    "        # details: https://www.openpolicyagent.org/docs/security.html.\n",
    "        - name: opa\n",
    "          image: openpolicyagent/opa:0.12.2\n",
    "          args:\n",
    "            - \"run\"\n",
    "            - \"--server\"\n",
    "            - \"--tls-cert-file=/certs/tls.crt\"\n",
    "            - \"--tls-private-key-file=/certs/tls.key\"\n",
    "            - \"--addr=0.0.0.0:443\"\n",
    "            - \"--addr=http://127.0.0.1:8181\"\n",
    "          volumeMounts:\n",
    "            - readOnly: true\n",
    "              mountPath: /certs\n",
    "              name: opa-server\n",
    "        - name: kube-mgmt\n",
    "          image: openpolicyagent/kube-mgmt:0.8\n",
    "          args:\n",
    "            - \"--replicate-cluster=v1/namespaces\"\n",
    "            - \"--replicate=extensions/v1beta1/ingresses\"\n",
    "      volumes:\n",
    "        - name: opa-server\n",
    "          secret:\n",
    "            secretName: opa-server\n",
    "---\n",
    "kind: ConfigMap\n",
    "apiVersion: v1\n",
    "metadata:\n",
    "  name: opa-default-system-main\n",
    "  namespace: opa\n",
    "data:\n",
    "  main: |\n",
    "    package system\n",
    "\n",
    "    import data.kubernetes.admission\n",
    "\n",
    "    main = {\n",
    "      \"apiVersion\": \"admission.k8s.io/v1beta1\",\n",
    "      \"kind\": \"AdmissionReview\",\n",
    "      \"response\": response,\n",
    "    }\n",
    "\n",
    "    default response = {\"allowed\": true}\n",
    "\n",
    "    response = {\n",
    "        \"allowed\": false,\n",
    "        \"status\": {\n",
    "            \"reason\": reason,\n",
    "        },\n",
    "    } {\n",
    "        reason = concat(\", \", admission.deny)\n",
    "        reason != \"\"\n",
    "    }\n",
    "EOF"
   ]
  },
  {
   "cell_type": "markdown",
   "metadata": {},
   "source": [
    "Exclude opa and kube-system namespaces"
   ]
  },
  {
   "cell_type": "code",
   "execution_count": 14,
   "metadata": {},
   "outputs": [
    {
     "name": "stdout",
     "output_type": "stream",
     "text": [
      "namespace/kube-system labeled\n",
      "namespace/opa labeled\n"
     ]
    }
   ],
   "source": [
    "kubectl label ns kube-system openpolicyagent.org/webhook=ignore\n",
    "kubectl label ns opa openpolicyagent.org/webhook=ignore\n"
   ]
  },
  {
   "cell_type": "code",
   "execution_count": 15,
   "metadata": {},
   "outputs": [
    {
     "name": "stdout",
     "output_type": "stream",
     "text": [
      "ca.crt  ca.key  ca.srl  server.conf  server.crt  server.csr  server.key\n"
     ]
    }
   ],
   "source": [
    "ls"
   ]
  },
  {
   "cell_type": "code",
   "execution_count": 47,
   "metadata": {},
   "outputs": [
    {
     "name": "stdout",
     "output_type": "stream",
     "text": [
      "\u001b[33;1mWarning:\u001b[0m admissionregistration.k8s.io/v1beta1 ValidatingWebhookConfiguration is deprecated in v1.16+, unavailable in v1.22+; use admissionregistration.k8s.io/v1 ValidatingWebhookConfiguration\n",
      "validatingwebhookconfiguration.admissionregistration.k8s.io/opa-validating-webhook configured\n"
     ]
    }
   ],
   "source": [
    "kubectl apply -f - <<EOF\n",
    "kind: ValidatingWebhookConfiguration\n",
    "apiVersion: admissionregistration.k8s.io/v1beta1\n",
    "metadata:\n",
    "  name: opa-validating-webhook\n",
    "webhooks:\n",
    "  - name: validating-webhook.openpolicyagent.org\n",
    "    namespaceSelector:\n",
    "      matchExpressions:\n",
    "      - key: openpolicyagent.org/webhook\n",
    "        operator: NotIn\n",
    "        values:\n",
    "        - ignore\n",
    "    rules:\n",
    "      - operations: [\"CREATE\", \"UPDATE\"]\n",
    "        apiGroups: [\"*\"]\n",
    "        apiVersions: [\"*\"]\n",
    "        resources: [\"*\"]\n",
    "    clientConfig:\n",
    "      caBundle: $(cat ca.crt | base64 | tr -d '\\n')\n",
    "      service:\n",
    "        namespace: opa\n",
    "        name: opa\n",
    "EOF"
   ]
  },
  {
   "cell_type": "code",
   "execution_count": 21,
   "metadata": {},
   "outputs": [
    {
     "name": "stdout",
     "output_type": "stream",
     "text": [
      "ca.crt  ca.srl               server.conf  server.csr\n",
      "ca.key  repo-allowlist.rego  server.crt   server.key\n"
     ]
    }
   ],
   "source": [
    "cat  > repo-allowlist.rego <<EOF\n",
    "package kubernetes.admission                                                # line 1\n",
    "\n",
    "deny[msg] {                                                                 # line 2\n",
    "  input.request.kind.kind == \"Pod\"                                          # line 3\n",
    "  image := input.request.object.spec.containers[_].image                    # line 4\n",
    "  not startswith(image, \"gcr.io/\")                                       # line 5\n",
    "  msg := sprintf(\"image fails to come from trusted registry: %v\", [image])  # line 6\n",
    "}\n",
    "EOF\n",
    "ls"
   ]
  },
  {
   "cell_type": "code",
   "execution_count": 48,
   "metadata": {},
   "outputs": [
    {
     "name": "stdout",
     "output_type": "stream",
     "text": [
      "NAME                      DATA   AGE\n",
      "kube-root-ca.crt          1      15m\n",
      "opa-default-system-main   1      3m32s\n",
      "repo-allowlist            1      10m\n"
     ]
    }
   ],
   "source": [
    "kubectl get cm -n opa"
   ]
  },
  {
   "cell_type": "code",
   "execution_count": 22,
   "metadata": {},
   "outputs": [
    {
     "name": "stdout",
     "output_type": "stream",
     "text": [
      "configmap/repo-allowlist created\n"
     ]
    }
   ],
   "source": [
    "kubectl create configmap -n opa repo-allowlist --from-file=repo-allowlist.rego"
   ]
  },
  {
   "cell_type": "code",
   "execution_count": 54,
   "metadata": {},
   "outputs": [
    {
     "name": "stdout",
     "output_type": "stream",
     "text": [
      "pod/blocklisted created\n"
     ]
    }
   ],
   "source": [
    "kubectl run -n default blocklisted --image nginx --port=80"
   ]
  },
  {
   "cell_type": "code",
   "execution_count": 24,
   "metadata": {},
   "outputs": [
    {
     "name": "stdout",
     "output_type": "stream",
     "text": [
      "  \"level\": \"info\",\n",
      "  \"msg\": \"Sent response.\",\n",
      "  \"req_id\": 61,\n",
      "  \"req_method\": \"GET\",\n",
      "  \"req_path\": \"/health\",\n",
      "  \"resp_bytes\": 2,\n",
      "  \"resp_duration\": 1.45354,\n",
      "  \"resp_status\": 200,\n",
      "  \"time\": \"2021-12-02T13:36:59Z\"\n",
      "}\n"
     ]
    }
   ],
   "source": [
    "kubectl logs -n opa -l app=opa -c opa"
   ]
  },
  {
   "cell_type": "code",
   "execution_count": 56,
   "metadata": {
    "tags": []
   },
   "outputs": [
    {
     "name": "stdout",
     "output_type": "stream",
     "text": [
      "NAME                                    READY   STATUS    RESTARTS   AGE\n",
      "acid-acid-mypg-clone-0                  1/1     Running   0          4h4m\n",
      "acid-mypg-0                             1/1     Running   0          4h11m\n",
      "acid-mypg-1                             1/1     Running   0          4h21m\n",
      "acid-mypg-2                             1/1     Running   0          4h21m\n",
      "acid-mypg-yaml-0                        1/1     Running   0          3h16m\n",
      "acid-mypg-yaml-1                        1/1     Running   0          3h16m\n",
      "acid-mypg-yaml-2                        1/1     Running   0          3h16m\n",
      "allowlisted                             1/1     Running   0          18s\n",
      "blocklisted                             1/1     Running   0          7s\n",
      "postgres-operator-58b75c5587-k7clb      1/1     Running   0          4h38m\n",
      "postgres-operator-ui-58644cfcff-bx6xg   1/1     Running   0          4h38m\n",
      "sleep-56bc8d768-tj2hm                   1/1     Running   0          23h\n"
     ]
    }
   ],
   "source": [
    "kubectl get pods -n default"
   ]
  },
  {
   "cell_type": "code",
   "execution_count": 52,
   "metadata": {},
   "outputs": [
    {
     "name": "stdout",
     "output_type": "stream",
     "text": [
      "pod/allowlisted created\n"
     ]
    }
   ],
   "source": [
    "kubectl run -n default allowlisted  --labels=\"opa=good\" --image=gcr.io/google-samples/node-hello:1.0  --port=8080"
   ]
  },
  {
   "cell_type": "code",
   "execution_count": 53,
   "metadata": {},
   "outputs": [
    {
     "name": "stdout",
     "output_type": "stream",
     "text": [
      "Error from server (NotFound): pods \"blocklisted\" not found\n"
     ]
    },
    {
     "ename": "",
     "evalue": "1",
     "output_type": "error",
     "traceback": []
    }
   ],
   "source": [
    "kubectl delete -n default pod blocklisted"
   ]
  },
  {
   "cell_type": "code",
   "execution_count": 51,
   "metadata": {},
   "outputs": [
    {
     "name": "stdout",
     "output_type": "stream",
     "text": [
      "pod \"allowlisted\" deleted\n"
     ]
    }
   ],
   "source": [
    "kubectl delete -n default pod allowlisted"
   ]
  },
  {
   "cell_type": "code",
   "execution_count": null,
   "metadata": {},
   "outputs": [],
   "source": [
    "kubectl config use-context minikube"
   ]
  },
  {
   "cell_type": "code",
   "execution_count": null,
   "metadata": {},
   "outputs": [],
   "source": [
    "kubectl get pods -n default"
   ]
  },
  {
   "cell_type": "code",
   "execution_count": null,
   "metadata": {},
   "outputs": [],
   "source": [
    "kubectl delete namespace opa"
   ]
  },
  {
   "cell_type": "code",
   "execution_count": null,
   "metadata": {},
   "outputs": [],
   "source": [
    "kubectl get pods -A"
   ]
  },
  {
   "cell_type": "code",
   "execution_count": 30,
   "metadata": {},
   "outputs": [
    {
     "name": "stdout",
     "output_type": "stream",
     "text": [
      "  \"level\": \"info\",\n",
      "  \"msg\": \"Sent response.\",\n",
      "  \"req_id\": 95,\n",
      "  \"req_method\": \"GET\",\n",
      "  \"req_path\": \"/health\",\n",
      "  \"resp_bytes\": 2,\n",
      "  \"resp_duration\": 0.359101,\n",
      "  \"resp_status\": 200,\n",
      "  \"time\": \"2021-12-02T13:38:09Z\"\n",
      "}\n"
     ]
    }
   ],
   "source": [
    "kubectl logs -n opa -l app=opa -c opa"
   ]
  },
  {
   "cell_type": "code",
   "execution_count": 35,
   "metadata": {},
   "outputs": [
    {
     "name": "stdout",
     "output_type": "stream",
     "text": [
      "NAME                       READY   STATUS    RESTARTS   AGE\n",
      "pod/opa-79558b79f6-v5n95   2/2     Running   0          4m57s\n",
      "\n",
      "NAME          TYPE        CLUSTER-IP      EXTERNAL-IP   PORT(S)   AGE\n",
      "service/opa   ClusterIP   10.108.19.249   <none>        443/TCP   4m57s\n",
      "\n",
      "NAME                  READY   UP-TO-DATE   AVAILABLE   AGE\n",
      "deployment.apps/opa   1/1     1            1           4m57s\n",
      "\n",
      "NAME                             DESIRED   CURRENT   READY   AGE\n",
      "replicaset.apps/opa-79558b79f6   1         1         1       4m58s\n"
     ]
    }
   ],
   "source": [
    "kubectl get all -n opa"
   ]
  },
  {
   "cell_type": "code",
   "execution_count": 43,
   "metadata": {},
   "outputs": [
    {
     "name": "stdout",
     "output_type": "stream",
     "text": [
      "apiVersion: v1\n",
      "items:\n",
      "- apiVersion: apps/v1\n",
      "  kind: Deployment\n",
      "  metadata:\n",
      "    annotations:\n",
      "      deployment.kubernetes.io/revision: \"1\"\n",
      "      meta.helm.sh/release-name: postgres-operator\n",
      "      meta.helm.sh/release-namespace: default\n",
      "    creationTimestamp: \"2021-12-02T09:10:09Z\"\n",
      "    generation: 1\n",
      "    labels:\n",
      "      app.kubernetes.io/instance: postgres-operator\n",
      "      app.kubernetes.io/managed-by: Helm\n",
      "      app.kubernetes.io/name: postgres-operator\n",
      "      helm.sh/chart: postgres-operator-1.7.1\n",
      "    name: postgres-operator\n",
      "    namespace: default\n",
      "    resourceVersion: \"46491\"\n",
      "    uid: bfe9ccd0-bdb3-4b35-8c9e-235b043ec5c0\n",
      "  spec:\n",
      "    progressDeadlineSeconds: 600\n",
      "    replicas: 1\n",
      "    revisionHistoryLimit: 10\n",
      "    selector:\n",
      "      matchLabels:\n",
      "        app.kubernetes.io/instance: postgres-operator\n",
      "        app.kubernetes.io/name: postgres-operator\n",
      "    strategy:\n",
      "      rollingUpdate:\n",
      "        maxSurge: 25%\n",
      "        maxUnavailable: 25%\n",
      "      type: RollingUpdate\n",
      "    template:\n",
      "      metadata:\n",
      "        annotations:\n",
      "          checksum/config: 1201e67e77906c9ec9e403f7aa10ea5b9930a2f197381d561ef7dc5be48fda7a\n",
      "        creationTimestamp: null\n",
      "        labels:\n",
      "          app.kubernetes.io/instance: postgres-operator\n",
      "          app.kubernetes.io/name: postgres-operator\n",
      "      spec:\n",
      "        affinity: {}\n",
      "        containers:\n",
      "        - env:\n",
      "          - name: POSTGRES_OPERATOR_CONFIGURATION_OBJECT\n",
      "            value: postgres-operator\n",
      "          image: registry.opensource.zalan.do/acid/postgres-operator:v1.7.1\n",
      "          imagePullPolicy: IfNotPresent\n",
      "          name: postgres-operator\n",
      "          resources:\n",
      "            limits:\n",
      "              cpu: 500m\n",
      "              memory: 500Mi\n",
      "            requests:\n",
      "              cpu: 100m\n",
      "              memory: 250Mi\n",
      "          securityContext:\n",
      "            allowPrivilegeEscalation: false\n",
      "            readOnlyRootFilesystem: true\n",
      "            runAsNonRoot: true\n",
      "            runAsUser: 1000\n",
      "          terminationMessagePath: /dev/termination-log\n",
      "          terminationMessagePolicy: File\n",
      "        dnsPolicy: ClusterFirst\n",
      "        restartPolicy: Always\n",
      "        schedulerName: default-scheduler\n",
      "        securityContext: {}\n",
      "        serviceAccount: postgres-operator\n",
      "        serviceAccountName: postgres-operator\n",
      "        terminationGracePeriodSeconds: 30\n",
      "  status:\n",
      "    availableReplicas: 1\n",
      "    conditions:\n",
      "    - lastTransitionTime: \"2021-12-02T09:10:15Z\"\n",
      "      lastUpdateTime: \"2021-12-02T09:10:15Z\"\n",
      "      message: Deployment has minimum availability.\n",
      "      reason: MinimumReplicasAvailable\n",
      "      status: \"True\"\n",
      "      type: Available\n",
      "    - lastTransitionTime: \"2021-12-02T09:10:09Z\"\n",
      "      lastUpdateTime: \"2021-12-02T09:10:15Z\"\n",
      "      message: ReplicaSet \"postgres-operator-58b75c5587\" has successfully progressed.\n",
      "      reason: NewReplicaSetAvailable\n",
      "      status: \"True\"\n",
      "      type: Progressing\n",
      "    observedGeneration: 1\n",
      "    readyReplicas: 1\n",
      "    replicas: 1\n",
      "    updatedReplicas: 1\n",
      "- apiVersion: apps/v1\n",
      "  kind: Deployment\n",
      "  metadata:\n",
      "    annotations:\n",
      "      deployment.kubernetes.io/revision: \"1\"\n",
      "      meta.helm.sh/release-name: postgres-operator-ui\n",
      "      meta.helm.sh/release-namespace: default\n",
      "    creationTimestamp: \"2021-12-02T09:10:46Z\"\n",
      "    generation: 1\n",
      "    labels:\n",
      "      app.kubernetes.io/instance: postgres-operator-ui\n",
      "      app.kubernetes.io/managed-by: Helm\n",
      "      app.kubernetes.io/name: postgres-operator-ui\n",
      "      helm.sh/chart: postgres-operator-ui-1.7.1\n",
      "    name: postgres-operator-ui\n",
      "    namespace: default\n",
      "    resourceVersion: \"46585\"\n",
      "    uid: e9bf12e7-e6e1-4655-903b-574967fef646\n",
      "  spec:\n",
      "    progressDeadlineSeconds: 600\n",
      "    replicas: 1\n",
      "    revisionHistoryLimit: 10\n",
      "    selector:\n",
      "      matchLabels:\n",
      "        app.kubernetes.io/instance: postgres-operator-ui\n",
      "        app.kubernetes.io/name: postgres-operator-ui\n",
      "    strategy:\n",
      "      rollingUpdate:\n",
      "        maxSurge: 25%\n",
      "        maxUnavailable: 25%\n",
      "      type: RollingUpdate\n",
      "    template:\n",
      "      metadata:\n",
      "        creationTimestamp: null\n",
      "        labels:\n",
      "          app.kubernetes.io/instance: postgres-operator-ui\n",
      "          app.kubernetes.io/name: postgres-operator-ui\n",
      "      spec:\n",
      "        containers:\n",
      "        - env:\n",
      "          - name: APP_URL\n",
      "            value: http://localhost:8081\n",
      "          - name: OPERATOR_API_URL\n",
      "            value: http://postgres-operator:8080\n",
      "          - name: OPERATOR_CLUSTER_NAME_LABEL\n",
      "            value: cluster-name\n",
      "          - name: RESOURCES_VISIBLE\n",
      "            value: \"False\"\n",
      "          - name: TARGET_NAMESPACE\n",
      "            value: default\n",
      "          - name: TEAMS\n",
      "            value: |-\n",
      "              [\n",
      "                \"acid\"\n",
      "              ]\n",
      "          - name: OPERATOR_UI_CONFIG\n",
      "            value: |-\n",
      "              {\n",
      "                \"docs_link\":\"https://postgres-operator.readthedocs.io/en/latest/\",\n",
      "                \"dns_format_string\": \"{1}-{0}.{2}\",\n",
      "                \"databases_visible\": true,\n",
      "                \"master_load_balancer_visible\": true,\n",
      "                \"nat_gateways_visible\": false,\n",
      "                \"replica_load_balancer_visible\": true,\n",
      "                \"resources_visible\": true,\n",
      "                \"users_visible\": true,\n",
      "                \"postgresql_versions\": [\n",
      "                  \"14\",\n",
      "                  \"13\",\n",
      "                  \"12\",\n",
      "                  \"11\"\n",
      "                ]\n",
      "              }\n",
      "          image: registry.opensource.zalan.do/acid/postgres-operator-ui:v1.7.1\n",
      "          imagePullPolicy: IfNotPresent\n",
      "          name: service\n",
      "          ports:\n",
      "          - containerPort: 8081\n",
      "            protocol: TCP\n",
      "          readinessProbe:\n",
      "            failureThreshold: 3\n",
      "            httpGet:\n",
      "              path: /health\n",
      "              port: 8081\n",
      "              scheme: HTTP\n",
      "            initialDelaySeconds: 5\n",
      "            periodSeconds: 10\n",
      "            successThreshold: 1\n",
      "            timeoutSeconds: 1\n",
      "          resources:\n",
      "            limits:\n",
      "              cpu: 200m\n",
      "              memory: 200Mi\n",
      "            requests:\n",
      "              cpu: 100m\n",
      "              memory: 100Mi\n",
      "          terminationMessagePath: /dev/termination-log\n",
      "          terminationMessagePolicy: File\n",
      "        dnsPolicy: ClusterFirst\n",
      "        restartPolicy: Always\n",
      "        schedulerName: default-scheduler\n",
      "        securityContext: {}\n",
      "        serviceAccount: postgres-operator-ui\n",
      "        serviceAccountName: postgres-operator-ui\n",
      "        terminationGracePeriodSeconds: 30\n",
      "  status:\n",
      "    availableReplicas: 1\n",
      "    conditions:\n",
      "    - lastTransitionTime: \"2021-12-02T09:11:26Z\"\n",
      "      lastUpdateTime: \"2021-12-02T09:11:26Z\"\n",
      "      message: Deployment has minimum availability.\n",
      "      reason: MinimumReplicasAvailable\n",
      "      status: \"True\"\n",
      "      type: Available\n",
      "    - lastTransitionTime: \"2021-12-02T09:10:46Z\"\n",
      "      lastUpdateTime: \"2021-12-02T09:11:26Z\"\n",
      "      message: ReplicaSet \"postgres-operator-ui-58644cfcff\" has successfully progressed.\n",
      "      reason: NewReplicaSetAvailable\n",
      "      status: \"True\"\n",
      "      type: Progressing\n",
      "    observedGeneration: 1\n",
      "    readyReplicas: 1\n",
      "    replicas: 1\n",
      "    updatedReplicas: 1\n",
      "- apiVersion: apps/v1\n",
      "  kind: Deployment\n",
      "  metadata:\n",
      "    annotations:\n",
      "      deployment.kubernetes.io/revision: \"1\"\n",
      "      kubectl.kubernetes.io/last-applied-configuration: |\n",
      "        {\"apiVersion\":\"apps/v1\",\"kind\":\"Deployment\",\"metadata\":{\"annotations\":{},\"name\":\"sleep\",\"namespace\":\"default\"},\"spec\":{\"replicas\":1,\"selector\":{\"matchLabels\":{\"app\":\"sleep\"}},\"template\":{\"metadata\":{\"labels\":{\"app\":\"sleep\"}},\"spec\":{\"containers\":[{\"command\":[\"/bin/sleep\",\"3650d\"],\"image\":\"pstauffer/curl\",\"imagePullPolicy\":\"IfNotPresent\",\"name\":\"sleep\"}]}}}}\n",
      "    creationTimestamp: \"2021-12-01T14:03:29Z\"\n",
      "    generation: 1\n",
      "    name: sleep\n",
      "    namespace: default\n",
      "    resourceVersion: \"928\"\n",
      "    uid: 75ff25c8-a054-48aa-bcde-dac26c3e9585\n",
      "  spec:\n",
      "    progressDeadlineSeconds: 600\n",
      "    replicas: 1\n",
      "    revisionHistoryLimit: 10\n",
      "    selector:\n",
      "      matchLabels:\n",
      "        app: sleep\n",
      "    strategy:\n",
      "      rollingUpdate:\n",
      "        maxSurge: 25%\n",
      "        maxUnavailable: 25%\n",
      "      type: RollingUpdate\n",
      "    template:\n",
      "      metadata:\n",
      "        creationTimestamp: null\n",
      "        labels:\n",
      "          app: sleep\n",
      "      spec:\n",
      "        containers:\n",
      "        - command:\n",
      "          - /bin/sleep\n",
      "          - 3650d\n",
      "          image: pstauffer/curl\n",
      "          imagePullPolicy: IfNotPresent\n",
      "          name: sleep\n",
      "          resources: {}\n",
      "          terminationMessagePath: /dev/termination-log\n",
      "          terminationMessagePolicy: File\n",
      "        dnsPolicy: ClusterFirst\n",
      "        restartPolicy: Always\n",
      "        schedulerName: default-scheduler\n",
      "        securityContext: {}\n",
      "        terminationGracePeriodSeconds: 30\n",
      "  status:\n",
      "    availableReplicas: 1\n",
      "    conditions:\n",
      "    - lastTransitionTime: \"2021-12-01T14:03:34Z\"\n",
      "      lastUpdateTime: \"2021-12-01T14:03:34Z\"\n",
      "      message: Deployment has minimum availability.\n",
      "      reason: MinimumReplicasAvailable\n",
      "      status: \"True\"\n",
      "      type: Available\n",
      "    - lastTransitionTime: \"2021-12-01T14:03:29Z\"\n",
      "      lastUpdateTime: \"2021-12-01T14:03:34Z\"\n",
      "      message: ReplicaSet \"sleep-56bc8d768\" has successfully progressed.\n",
      "      reason: NewReplicaSetAvailable\n",
      "      status: \"True\"\n",
      "      type: Progressing\n",
      "    observedGeneration: 1\n",
      "    readyReplicas: 1\n",
      "    replicas: 1\n",
      "    updatedReplicas: 1\n",
      "kind: List\n",
      "metadata:\n",
      "  resourceVersion: \"\"\n",
      "  selfLink: \"\"\n"
     ]
    }
   ],
   "source": [
    "kubectl get deployment -o yaml"
   ]
  },
  {
   "cell_type": "code",
   "execution_count": null,
   "metadata": {},
   "outputs": [],
   "source": []
  }
 ],
 "metadata": {
  "kernelspec": {
   "display_name": "Bash",
   "language": "bash",
   "name": "bash"
  },
  "language_info": {
   "codemirror_mode": "shell",
   "file_extension": ".sh",
   "mimetype": "text/x-sh",
   "name": "bash"
  }
 },
 "nbformat": 4,
 "nbformat_minor": 4
}
