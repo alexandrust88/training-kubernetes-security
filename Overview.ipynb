{
 "cells": [
  {
   "cell_type": "markdown",
   "metadata": {},
   "source": [
    "**This notebook covered by the following [license](License.ipynb)  This note must not be removed**"
   ]
  },
  {
   "cell_type": "markdown",
   "metadata": {},
   "source": [
    "\n",
    "# Kubernetes Security\n",
    "\n",
    "## Day 1: Introduction\n",
    "\n",
    "- repetiton of the basics\n",
    "- what is running in my cluster?\n",
    "- the Linux heritage: Linux Namespaces, Capabilities, SecComp, Selinux and Apparmor \n",
    "- containers and virtualization\n",
    "- container runtimes: beyond Docker\n",
    "- pods, daemonsets, statefulsets and other workloads\n",
    "- architectural aspects\n",
    "- the most common errors\n",
    "- container patterns, designing containers with security in mind\n",
    "- secure architectur: does an application need privileged\n",
    "- databased in Kubernetes\n",
    "- access to the Host Filesystem\n",
    "- standards (German BSI, Nist, CIS)\n",
    "- container images\n",
    "- SecDevOps in secure environments\n",
    "- filtering\n",
    "\n",
    "## Day 2: networks\n",
    "\n",
    "- services\n",
    "- ingress as an additional network layer\n",
    "- transport layer security and secrets\n",
    "- NetworkPolicies\n",
    "- distributed firewalls\n",
    "- when do you need service meshs?\n",
    "\n",
    "## Day 3: Hardening Kubernetes\n",
    "\n",
    "- PodSecurityPolicies\n",
    "- Admission Controller, Open Policy Agent\n",
    "- Users, Roles und RBAC (Role Based Access Control)\n",
    "- Audit Logs\n",
    "- What is allowed to a Pod?\n",
    "- distributions\n",
    "- cloud vendors\n",
    "- On Premises\n",
    "- criteria for selecting vendors"
   ]
  },
  {
   "cell_type": "markdown",
   "metadata": {},
   "source": [
    "## Introduction\n",
    "\n",
    "- [Basics](KubernetesBasics.ipynb)\n",
    "- [What goes on in my Cluster?](ClusterOverview.ipynb)\n",
    "- Linux Heritage\n",
    "   - [Linux Namespaces](Linux%20Namespaces.ipynb)\n",
    "   - [SeLinux](https://platform9.com/blog/selinux-kubernetes-rbac-and-shipping-security-policies-for-on-prem-applications/)\n",
    "   - [AppArmor](https://kubernetes.io/docs/tutorials/clusters/apparmor/)\n",
    "   - [seccomp](https://kubernetes.io/docs/tutorials/clusters/seccomp/)\n",
    "     - [gvisor](https://gvisor.dev/)\n",
    "   - [Linux Capabilities](https://man7.org/linux/man-pages/man7/capabilities.7.html), [Outlook to PodSecurityPolicies](https://kubernetes.io/docs/concepts/policy/pod-security-policy/)\n",
    "- [Container Runtimes](https://kubernetes.io/docs/setup/production-environment/container-runtimes/)\n",
    "- Signatures\n",
    "   - [Signing with Skopeo](https://github.com/containers/skopeo)\n",
    "   - [Verifying](https://developers.redhat.com/blog/2019/10/29/verifying-signatures-of-red-hat-container-images/)\n",
    "- Pods, Daemonsets, StatefulSets and other [Workloads](https://kubernetes.io/docs/concepts/workloads/controllers/)\n",
    "- Secure Containers\n",
    "   - [Google best practices for building containers](https://cloud.google.com/solutions/best-practices-for-building-containers)\n",
    "   - [Minimal go container from scratch](https://github.com/endocode/minimal-go-container-from-scratch)\n",
    "   - [Google Distroless](https://github.com/GoogleContainerTools/distroless)\n",
    "   - [Unprivileged NGinx](Unprivileged.ipynb)\n",
    "- [Access to the host file system](Kube-Scan-Cloudbomb.ipynb)\n",
    "- [Secure Architecture](https://www.heise.de/hintergrund/Kubernetes-Security-Teil-3-Im-Spannungsfeld-von-Komplexitaet-und-Sicherheit-4862263.html?seite=all)\n",
    "-  Standards\n",
    "  - [BSI - Bausteine (Drafts) - Benutzerdefinierter Baustein Container unter openshift](https://www.bsi.bund.de/SharedDocs/Downloads/DE/BSI/Grundschutz/IT-Grundschutz-Modernisierung/Benutzerdefinierte_BS/openshift.pdf)\n",
    "    - [OpenShift Installation](https://docs.openshift.com/container-platform/4.6/installing/installing_bare_metal/installing-bare-metal.html)\n",
    "    - [Code Ready Containers](https://github.com/code-ready/crc)\n",
    "  - [CIS - Docker Benchmarks](https://www.cisecurity.org/benchmark/docker/) \n",
    "  - [kube-bench](kube-bench.ipynb)\n",
    "  - [NIST Application Container Security Guide](https://nvlpubs.nist.gov/nistpubs/SpecialPublications/NIST.SP.800-190.pdf) \n",
    "  - DoD US Verteidigungsministerium\n",
    "    - [DoD Container Hardening Process Guide](https://dl.dod.cyber.mil/wp-content/uploads/devsecops/pdf/Final_DevSecOps_Enterprise_Container_Hardening_Guide_1.1.pdf)\n",
    "    - [DoD Enterprise DevSecOps Reference Design](https://dodcio.defense.gov/Portals/0/Documents/DoD%20Enterprise%20DevSecOps%20Reference%20Design%20v1.0_Public%20Release.pdf) \n"
   ]
  },
  {
   "cell_type": "markdown",
   "metadata": {},
   "source": [
    "# Networks\n",
    "\n",
    "- [Ingress Recap](Ingress.ipynb)\n",
    "  - OAuth2\n",
    "  - cert-manager\n",
    "    - ACME\n",
    "- Istio\n",
    "  - Service Mesh\n",
    "  - [Distributed Firewall](https://www1.cs.columbia.edu/~smb/papers/ccs-df.pdf)\n",
    "  - [NIST Zero Trust](https://nvlpubs.nist.gov/nistpubs/SpecialPublications/NIST.SP.800-207.pdf)\n",
    "  - [Installation](Istio1.8.2.ipynb)\n",
    "  - [Traffic Management](Istio-Traffic-Mgmt.ipynb)\n",
    "  - [Hack](IstioHack.ipynb)\n",
    "  - Fix it\n",
    "    - [A Hacker’s Guide to Kubernetes Networking](https://thenewstack.io/hackers-guide-kubernetes-networking/)\n",
    "    - [Kubernetes Networking](https://kubernetes.io/docs/concepts/cluster-administration/networking/)\n",
    "    - CNI [Network Plugins](https://kubernetes.io/docs/concepts/extend-kubernetes/compute-storage-net/network-plugins/)\n",
    "    - [Istio CNI](https://istio.io/latest/docs/setup/additional-setup/cni/)\n",
    "    - [Istio Platforms](https://istio.io/latest/docs/concepts/what-is-istio/#platform-support)\n",
    "  - Other Meshes\n",
    "    - [Service Mesh](https://servicemesh.es/)\n",
    "- NetworkPolicies\n",
    "  - Calico\n",
    "  - Traffic Control\n",
    "  - Testing with Netcat\n",
    "- Misc\n",
    "  - [Maglev](https://github.com/kkdai/maglev)\n",
    "  - [Wireguard Wormhole](https://goteleport.com/blog/announcing-wormhole/)\n",
    "  - [CNCF CI/CD](https://landscape.cncf.io/card-mode?category=continuous-integration-delivery&grouping=category)\n",
    "  - [Machine Config Operator](https://github.com/openshift/machine-config-operator)"
   ]
  },
  {
   "cell_type": "markdown",
   "metadata": {},
   "source": [
    "## Kubernetes Hardening\n",
    "\n",
    "- Resilience Concepts\n",
    "  - High Availibity\n",
    "  - Highest Availibility\n",
    "  - Design for Resilience\n",
    "    - Racks, Zones, Regions\n",
    "    - Resilience Testing\n",
    "      - Chaos Engineering\n",
    "      - The Symian Army\n",
    "      - Blast Radius\n",
    "- Databases\n",
    "  - Concepts\n",
    "    - Migration vs Clustering\n",
    "    - Load considerations\n",
    "      - High Availibility\n",
    "      - Node Restore under load\n",
    "    - Level of Done\n",
    "    - Infrastructure Nodes\n",
    "  - [Postgres Operator by Zalando](Postgres%20Zalando.ipynb)\n",
    "  - [Vitesse](https://vitess.io/)\n",
    "  - [Bloomberg Solr](https://2019.berlinbuzzwords.de/19/session/running-solr-within-kubernetes-scale.html)\n",
    "- [Audit Logs](AuditLogs.ipynb)\n",
    "  - [FluentD](https://docs.fluentd.org/v/0.12/) \n",
    "- [Service Account Token](ServiceAccountToken.ipynb)\n",
    "- [Unprivileged $\\neq$ Hardened](Unprivileged.ipynb)\n",
    "- [PodSecurityPolicies](https://kubernetes.io/docs/concepts/policy/pod-security-policy/)\n",
    "  - [Basics](PodSecurityPolicyBasic.ipynb)\n",
    "  - [Permissive](PodSecurityPolicyPermissive.ipynb)\n",
    "  - [Strict](PodSecurityPolicyStrict.ipynb)\n",
    "- [Accounts and Permissions](AccountWithRBAC.ipynb)  \n",
    "- [OpenPolicyAgent](OpenPolicyAgent.ipynb)\n",
    "  - [Rego Examples](https://gist.github.com/garethr/ea41afb1b6562cdb2b1555719f51f90e)\n",
    "  \n"
   ]
  },
  {
   "cell_type": "code",
   "execution_count": null,
   "metadata": {},
   "outputs": [],
   "source": []
  },
  {
   "cell_type": "markdown",
   "metadata": {},
   "source": [
    "# Sources\n",
    "\n",
    "- [Talk ContainerConf](https://drive.google.com/file/d/15EHHoFQWa4m_GfIAYqTvYmXWU3Kg2Ig6/view)\n",
    "- [Securing a Cluster](https://kubernetes.io/docs/tasks/administer-cluster/securing-a-cluster/)\n",
    "- [Concepts Security](https://kubernetes.io/docs/concepts/security/), what?\n",
    "- [The Definitive\n",
    "Guide to Securing\n",
    "Kubernetes\n",
    "Liz Rice, Brendan Burns: The Definitive\n",
    "Guide to Securing\n",
    "Kubernetes](https://cdn2.hubspot.net/hubfs/1665891/Assets/The%20Definitive%20Guide%20to%20Securing%20Kubernetes.pdf), advertising\n",
    "- [Liz Rice & Michael Hausenblas: Kubernetes Security](https://cdn2.hubspot.net/hubfs/1665891/Assets/Kubernetes%20Security%20-%20Operating%20Kubernetes%20Clusters%20and%20Applications%20Safely.pdf) better, but still too basic"
   ]
  },
  {
   "cell_type": "markdown",
   "metadata": {},
   "source": [
    "# High Availability\n",
    "\n",
    "## Höchstsicherheitsverordnung\n",
    "\n",
    "## Resilience\n",
    "### Chaos Engineering\n",
    "### "
   ]
  },
  {
   "cell_type": "code",
   "execution_count": 22,
   "metadata": {},
   "outputs": [],
   "source": [
    "rm -f my-kubeconfig my-namespace-rbac.dot my-namespace-rbac.png minikube.dot minikube.png notebooks.tgz\n",
    "(cd .. ; tar cfz  /tmp/notebooks.tgz  --no-recursion  notebooks/*.* )"
   ]
  },
  {
   "cell_type": "code",
   "execution_count": 23,
   "metadata": {},
   "outputs": [
    {
     "name": "stdout",
     "output_type": "stream",
     "text": [
      "notebooks/AccountWithRBAC.ipynb\n",
      "notebooks/AuditLogs.ipynb\n",
      "notebooks/ClusterOverview.ipynb\n",
      "notebooks/ContainerdCloudbomb.ipynb\n",
      "notebooks/CrioBomb.ipynb\n",
      "notebooks/Helm.ipynb\n",
      "notebooks/Ingress.ipynb\n",
      "notebooks/IngressStart.ipynb\n",
      "notebooks/Istio-Traffic-Mgmt.ipynb\n",
      "notebooks/Istio1.8.2.ipynb\n",
      "notebooks/IstioHack.ipynb\n",
      "notebooks/Kube-Scan-Cloudbomb.ipynb\n",
      "notebooks/KubernetesBasics.ipynb\n",
      "notebooks/Linux Namespaces.ipynb\n",
      "notebooks/NetworkPolicy.ipynb\n",
      "notebooks/OpenPolicyAgent.ipynb\n",
      "notebooks/Overview.ipynb\n",
      "notebooks/PodSecurityPolicyBasic.ipynb\n",
      "notebooks/PodSecurityPolicyPermissive.ipynb\n",
      "notebooks/PodSecurityPolicyStrict.ipynb\n",
      "notebooks/Postgres Zalando.ipynb\n",
      "notebooks/ServiceAccountToken.ipynb\n",
      "notebooks/Unprivileged.ipynb\n",
      "notebooks/audit-policy.yaml\n",
      "notebooks/docker-hypervisor.png\n",
      "notebooks/istio-1.8.2/\n",
      "notebooks/kube-bench.ipynb\n"
     ]
    }
   ],
   "source": [
    "mv  /tmp/notebooks.tgz .\n",
    "tar tzf notebooks.tgz"
   ]
  },
  {
   "cell_type": "code",
   "execution_count": null,
   "metadata": {},
   "outputs": [],
   "source": []
  }
 ],
 "metadata": {
  "kernelspec": {
   "display_name": "Bash",
   "language": "bash",
   "name": "bash"
  },
  "language_info": {
   "codemirror_mode": "shell",
   "file_extension": ".sh",
   "mimetype": "text/x-sh",
   "name": "bash"
  }
 },
 "nbformat": 4,
 "nbformat_minor": 5
}
