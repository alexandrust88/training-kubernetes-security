{
 "cells": [
  {
   "cell_type": "markdown",
   "metadata": {},
   "source": [
    "**This notebook covered by the following [license](License.ipynb)  This note must not be removed**"
   ]
  },
  {
   "cell_type": "markdown",
   "metadata": {},
   "source": [
    "# Check the params of the kube-apiserver\n",
    "\n",
    "Add `PodSecurityPolicy` if necessary. \n",
    "The server will automatically restart on saving the file"
   ]
  },
  {
   "cell_type": "code",
   "execution_count": 1,
   "metadata": {
    "tags": []
   },
   "outputs": [
    {
     "name": "stdout",
     "output_type": "stream",
     "text": [
      "apiVersion: v1\n",
      "kind: Pod\n",
      "metadata:\n",
      "  annotations:\n",
      "    kubeadm.kubernetes.io/kube-apiserver.advertise-address.endpoint: 192.168.49.2:8443\n",
      "  creationTimestamp: null\n",
      "  labels:\n",
      "    component: kube-apiserver\n",
      "    tier: control-plane\n",
      "  name: kube-apiserver\n",
      "  namespace: kube-system\n",
      "spec:\n",
      "  containers:\n",
      "  - command:\n",
      "    - kube-apiserver\n",
      "    - --advertise-address=192.168.49.2\n",
      "    - --allow-privileged=true\n",
      "    - --authorization-mode=Node,\u001b[01;31m\u001b[KRBAC\u001b[m\u001b[K\n",
      "    - --client-ca-file=/var/lib/minikube/certs/ca.crt\n",
      "    - --enable-admission-plugins=NamespaceLifecycle,LimitRanger,ServiceAccount,DefaultStorageClass,DefaultTolerationSeconds,NodeRestriction,MutatingAdmissionWebhook,ValidatingAdmissionWebhook,ResourceQuota\n",
      "    - --enable-bootstrap-token-auth=true\n",
      "    - --etcd-cafile=/var/lib/minikube/certs/etcd/ca.crt\n",
      "    - --etcd-certfile=/var/lib/minikube/certs/apiserver-etcd-client.crt\n",
      "    - --etcd-keyfile=/var/lib/minikube/certs/apiserver-etcd-client.key\n",
      "    - --etcd-servers=https://127.0.0.1:2379\n",
      "    - --insecure-port=0\n",
      "    - --kubelet-client-certificate=/var/lib/minikube/certs/apiserver-kubelet-client.crt\n",
      "    - --kubelet-client-key=/var/lib/minikube/certs/apiserver-kubelet-client.key\n",
      "    - --kubelet-preferred-address-types=InternalIP,ExternalIP,Hostname\n",
      "    - --proxy-client-cert-file=/var/lib/minikube/certs/front-proxy-client.crt\n",
      "    - --proxy-client-key-file=/var/lib/minikube/certs/front-proxy-client.key\n",
      "    - --requestheader-allowed-names=front-proxy-client\n",
      "    - --requestheader-client-ca-file=/var/lib/minikube/certs/front-proxy-ca.crt\n",
      "    - --requestheader-extra-headers-prefix=X-Remote-Extra-\n",
      "    - --requestheader-group-headers=X-Remote-Group\n",
      "    - --requestheader-username-headers=X-Remote-User\n",
      "    - --secure-port=8443\n",
      "    - --service-account-issuer=https://kubernetes.default.svc.cluster.local\n",
      "    - --service-account-key-file=/var/lib/minikube/certs/sa.pub\n",
      "    - --service-account-signing-key-file=/var/lib/minikube/certs/sa.key\n",
      "    - --service-cluster-ip-range=10.96.0.0/12\n",
      "    - --tls-cert-file=/var/lib/minikube/certs/apiserver.crt\n",
      "    - --tls-private-key-file=/var/lib/minikube/certs/apiserver.key\n",
      "    image: k8s.gcr.io/kube-apiserver:v1.20.0\n",
      "    imagePullPolicy: IfNotPresent\n",
      "    livenessProbe:\n",
      "      failureThreshold: 8\n",
      "      httpGet:\n",
      "        host: 192.168.49.2\n",
      "        path: /livez\n",
      "        port: 8443\n",
      "        scheme: HTTPS\n",
      "      initialDelaySeconds: 10\n",
      "      periodSeconds: 10\n",
      "      timeoutSeconds: 15\n",
      "    name: kube-apiserver\n",
      "    readinessProbe:\n",
      "      failureThreshold: 3\n",
      "      httpGet:\n",
      "        host: 192.168.49.2\n",
      "        path: /readyz\n",
      "        port: 8443\n",
      "        scheme: HTTPS\n",
      "      periodSeconds: 1\n",
      "      timeoutSeconds: 15\n",
      "    resources:\n",
      "      requests:\n",
      "        cpu: 250m\n",
      "    startupProbe:\n",
      "      failureThreshold: 24\n",
      "      httpGet:\n",
      "        host: 192.168.49.2\n",
      "        path: /livez\n",
      "        port: 8443\n",
      "        scheme: HTTPS\n",
      "      initialDelaySeconds: 10\n",
      "      periodSeconds: 10\n",
      "      timeoutSeconds: 15\n",
      "    volumeMounts:\n",
      "    - mountPath: /etc/ssl/certs\n",
      "      name: ca-certs\n",
      "      readOnly: true\n",
      "    - mountPath: /etc/ca-certificates\n",
      "      name: etc-ca-certificates\n",
      "      readOnly: true\n",
      "    - mountPath: /var/lib/minikube/certs\n",
      "      name: k8s-certs\n",
      "      readOnly: true\n",
      "    - mountPath: /usr/local/share/ca-certificates\n",
      "      name: usr-local-share-ca-certificates\n",
      "      readOnly: true\n",
      "    - mountPath: /usr/share/ca-certificates\n",
      "      name: usr-share-ca-certificates\n",
      "      readOnly: true\n",
      "  hostNetwork: true\n",
      "  priorityClassName: system-node-critical\n",
      "  volumes:\n",
      "  - hostPath:\n",
      "      path: /etc/ssl/certs\n",
      "      type: DirectoryOrCreate\n",
      "    name: ca-certs\n",
      "  - hostPath:\n",
      "      path: /etc/ca-certificates\n",
      "      type: DirectoryOrCreate\n",
      "    name: etc-ca-certificates\n",
      "  - hostPath:\n",
      "      path: /var/lib/minikube/certs\n",
      "      type: DirectoryOrCreate\n",
      "    name: k8s-certs\n",
      "  - hostPath:\n",
      "      path: /usr/local/share/ca-certificates\n",
      "      type: DirectoryOrCreate\n",
      "    name: usr-local-share-ca-certificates\n",
      "  - hostPath:\n",
      "      path: /usr/share/ca-certificates\n",
      "      type: DirectoryOrCreate\n",
      "    name: usr-share-ca-certificates\n",
      "status: {}\n"
     ]
    }
   ],
   "source": [
    "grep -E '$|PodSecurityPolicy|RBAC' --color=always /etc/kubernetes/manifests/kube-apiserver.yaml"
   ]
  },
  {
   "cell_type": "markdown",
   "metadata": {},
   "source": [
    "Verify the process is running with appropriate parameters"
   ]
  },
  {
   "cell_type": "code",
   "execution_count": null,
   "metadata": {},
   "outputs": [],
   "source": [
    "kubectl apply -f https://k8s.io/examples/application/deployment.yaml"
   ]
  },
  {
   "cell_type": "code",
   "execution_count": null,
   "metadata": {},
   "outputs": [],
   "source": [
    "kubectl get all"
   ]
  },
  {
   "cell_type": "code",
   "execution_count": null,
   "metadata": {},
   "outputs": [],
   "source": []
  },
  {
   "cell_type": "markdown",
   "metadata": {},
   "source": [
    "## Everything works, we are fine\n",
    "### let's destroy the shiny, happyworld"
   ]
  },
  {
   "cell_type": "code",
   "execution_count": null,
   "metadata": {},
   "outputs": [],
   "source": [
    "kubectl delete deployment nginx-deployment"
   ]
  },
  {
   "cell_type": "code",
   "execution_count": null,
   "metadata": {},
   "outputs": [],
   "source": [
    "sed -i 's/--enable-admission-plugins=.*$/&,PodSecurityPolicy/' /etc/kubernetes/manifests/kube-apiserver.yaml"
   ]
  },
  {
   "cell_type": "code",
   "execution_count": 2,
   "metadata": {
    "tags": []
   },
   "outputs": [
    {
     "name": "stdout",
     "output_type": "stream",
     "text": [
      "apiVersion: v1\n",
      "kind: Pod\n",
      "metadata:\n",
      "  annotations:\n",
      "    kubeadm.kubernetes.io/kube-apiserver.advertise-address.endpoint: 192.168.49.2:8443\n",
      "  creationTimestamp: null\n",
      "  labels:\n",
      "    component: kube-apiserver\n",
      "    tier: control-plane\n",
      "  name: kube-apiserver\n",
      "  namespace: kube-system\n",
      "spec:\n",
      "  containers:\n",
      "  - command:\n",
      "    - kube-apiserver\n",
      "    - --advertise-address=192.168.49.2\n",
      "    - --allow-privileged=true\n",
      "    - --authorization-mode=Node,\u001b[01;31m\u001b[KRBAC\u001b[m\u001b[K\n",
      "    - --client-ca-file=/var/lib/minikube/certs/ca.crt\n",
      "    - --enable-admission-plugins=NamespaceLifecycle,LimitRanger,ServiceAccount,DefaultStorageClass,DefaultTolerationSeconds,NodeRestriction,MutatingAdmissionWebhook,ValidatingAdmissionWebhook,ResourceQuota,\u001b[01;31m\u001b[KPodSecurityPolicy\u001b[m\u001b[K\n",
      "    - --enable-bootstrap-token-auth=true\n",
      "    - --etcd-cafile=/var/lib/minikube/certs/etcd/ca.crt\n",
      "    - --etcd-certfile=/var/lib/minikube/certs/apiserver-etcd-client.crt\n",
      "    - --etcd-keyfile=/var/lib/minikube/certs/apiserver-etcd-client.key\n",
      "    - --etcd-servers=https://127.0.0.1:2379\n",
      "    - --insecure-port=0\n",
      "    - --kubelet-client-certificate=/var/lib/minikube/certs/apiserver-kubelet-client.crt\n",
      "    - --kubelet-client-key=/var/lib/minikube/certs/apiserver-kubelet-client.key\n",
      "    - --kubelet-preferred-address-types=InternalIP,ExternalIP,Hostname\n",
      "    - --proxy-client-cert-file=/var/lib/minikube/certs/front-proxy-client.crt\n",
      "    - --proxy-client-key-file=/var/lib/minikube/certs/front-proxy-client.key\n",
      "    - --requestheader-allowed-names=front-proxy-client\n",
      "    - --requestheader-client-ca-file=/var/lib/minikube/certs/front-proxy-ca.crt\n",
      "    - --requestheader-extra-headers-prefix=X-Remote-Extra-\n",
      "    - --requestheader-group-headers=X-Remote-Group\n",
      "    - --requestheader-username-headers=X-Remote-User\n",
      "    - --secure-port=8443\n",
      "    - --service-account-issuer=https://kubernetes.default.svc.cluster.local\n",
      "    - --service-account-key-file=/var/lib/minikube/certs/sa.pub\n",
      "    - --service-account-signing-key-file=/var/lib/minikube/certs/sa.key\n",
      "    - --service-cluster-ip-range=10.96.0.0/12\n",
      "    - --tls-cert-file=/var/lib/minikube/certs/apiserver.crt\n",
      "    - --tls-private-key-file=/var/lib/minikube/certs/apiserver.key\n",
      "    image: k8s.gcr.io/kube-apiserver:v1.20.0\n",
      "    imagePullPolicy: IfNotPresent\n",
      "    livenessProbe:\n",
      "      failureThreshold: 8\n",
      "      httpGet:\n",
      "        host: 192.168.49.2\n",
      "        path: /livez\n",
      "        port: 8443\n",
      "        scheme: HTTPS\n",
      "      initialDelaySeconds: 10\n",
      "      periodSeconds: 10\n",
      "      timeoutSeconds: 15\n",
      "    name: kube-apiserver\n",
      "    readinessProbe:\n",
      "      failureThreshold: 3\n",
      "      httpGet:\n",
      "        host: 192.168.49.2\n",
      "        path: /readyz\n",
      "        port: 8443\n",
      "        scheme: HTTPS\n",
      "      periodSeconds: 1\n",
      "      timeoutSeconds: 15\n",
      "    resources:\n",
      "      requests:\n",
      "        cpu: 250m\n",
      "    startupProbe:\n",
      "      failureThreshold: 24\n",
      "      httpGet:\n",
      "        host: 192.168.49.2\n",
      "        path: /livez\n",
      "        port: 8443\n",
      "        scheme: HTTPS\n",
      "      initialDelaySeconds: 10\n",
      "      periodSeconds: 10\n",
      "      timeoutSeconds: 15\n",
      "    volumeMounts:\n",
      "    - mountPath: /etc/ssl/certs\n",
      "      name: ca-certs\n",
      "      readOnly: true\n",
      "    - mountPath: /etc/ca-certificates\n",
      "      name: etc-ca-certificates\n",
      "      readOnly: true\n",
      "    - mountPath: /var/lib/minikube/certs\n",
      "      name: k8s-certs\n",
      "      readOnly: true\n",
      "    - mountPath: /usr/local/share/ca-certificates\n",
      "      name: usr-local-share-ca-certificates\n",
      "      readOnly: true\n",
      "    - mountPath: /usr/share/ca-certificates\n",
      "      name: usr-share-ca-certificates\n",
      "      readOnly: true\n",
      "  hostNetwork: true\n",
      "  priorityClassName: system-node-critical\n",
      "  volumes:\n",
      "  - hostPath:\n",
      "      path: /etc/ssl/certs\n",
      "      type: DirectoryOrCreate\n",
      "    name: ca-certs\n",
      "  - hostPath:\n",
      "      path: /etc/ca-certificates\n",
      "      type: DirectoryOrCreate\n",
      "    name: etc-ca-certificates\n",
      "  - hostPath:\n",
      "      path: /var/lib/minikube/certs\n",
      "      type: DirectoryOrCreate\n",
      "    name: k8s-certs\n",
      "  - hostPath:\n",
      "      path: /usr/local/share/ca-certificates\n",
      "      type: DirectoryOrCreate\n",
      "    name: usr-local-share-ca-certificates\n",
      "  - hostPath:\n",
      "      path: /usr/share/ca-certificates\n",
      "      type: DirectoryOrCreate\n",
      "    name: usr-share-ca-certificates\n",
      "status: {}\n"
     ]
    }
   ],
   "source": [
    "grep -E '$|PodSecurityPolicy|RBAC' --color=always /etc/kubernetes/manifests/kube-apiserver.yaml"
   ]
  },
  {
   "cell_type": "code",
   "execution_count": 3,
   "metadata": {},
   "outputs": [
    {
     "name": "stdout",
     "output_type": "stream",
     "text": [
      "root       22229 14.6  2.0 1097348 318096 ?      Ssl  11:17   0:11 \u001b[01;31m\u001b[Kkube-apiserver\u001b[m\u001b[K\n",
      "--advertise-address=192.168.49.2\n",
      "--allow-privileged=true\n",
      "--authorization-mode=Node,RBAC\n",
      "--client-ca-file=/var/lib/minikube/certs/ca.crt\n",
      "--enable-admission-plugins=NamespaceLifecycle,LimitRanger,ServiceAccount,DefaultStorageClass,DefaultTolerationSeconds,NodeRestriction,MutatingAdmissionWebhook,ValidatingAdmissionWebhook,ResourceQuota,\u001b[01;31m\u001b[KPodSecurityPolicy\u001b[m\u001b[K\n",
      "--enable-bootstrap-token-auth=true\n",
      "--etcd-cafile=/var/lib/minikube/certs/etcd/ca.crt\n",
      "--etcd-certfile=/var/lib/minikube/certs/apiserver-etcd-client.crt\n",
      "--etcd-keyfile=/var/lib/minikube/certs/apiserver-etcd-client.key\n",
      "--etcd-servers=https://127.0.0.1:2379\n",
      "--insecure-port=0\n",
      "--kubelet-client-certificate=/var/lib/minikube/certs/apiserver-kubelet-client.crt\n",
      "--kubelet-client-key=/var/lib/minikube/certs/apiserver-kubelet-client.key\n",
      "--kubelet-preferred-address-types=InternalIP,ExternalIP,Hostname\n",
      "--proxy-client-cert-file=/var/lib/minikube/certs/front-proxy-client.crt\n",
      "--proxy-client-key-file=/var/lib/minikube/certs/front-proxy-client.key\n",
      "--requestheader-allowed-names=front-proxy-client\n",
      "--requestheader-client-ca-file=/var/lib/minikube/certs/front-proxy-ca.crt\n",
      "--requestheader-extra-headers-prefix=X-Remote-Extra-\n",
      "--requestheader-group-headers=X-Remote-Group\n",
      "--requestheader-username-headers=X-Remote-User\n",
      "--secure-port=8443\n",
      "--service-account-issuer=https://kubernetes.default.svc.cluster.local\n",
      "--service-account-key-file=/var/lib/minikube/certs/sa.pub\n",
      "--service-account-signing-key-file=/var/lib/minikube/certs/sa.key\n",
      "--service-cluster-ip-range=10.96.0.0/12\n",
      "--tls-cert-file=/var/lib/minikube/certs/apiserver.crt\n",
      "--tls-private-key-file=/var/lib/minikube/certs/apiserver.key\n",
      "root       22618  0.0  0.0   3440   728 pts/6    S+   11:18   0:00 grep\n",
      "--color=auto -E \u001b[01;31m\u001b[Kkube-apiserver\u001b[m\u001b[K|\u001b[01;31m\u001b[KPodSecurityPolicy\u001b[m\u001b[K\n",
      "--color=always\n"
     ]
    }
   ],
   "source": [
    "ps auxwww | grep  -E \"kube-apiserver|PodSecurityPolicy\" --color=always |  sed  \"s/ --/\\n--/g\"  "
   ]
  },
  {
   "cell_type": "markdown",
   "metadata": {},
   "source": [
    "## Check the influence of empty PodSecurityPolicies\n",
    "\n",
    "Can we start an nginx?"
   ]
  },
  {
   "cell_type": "code",
   "execution_count": 12,
   "metadata": {},
   "outputs": [
    {
     "name": "stdout",
     "output_type": "stream",
     "text": [
      "deployment.apps/nginx-deployment created\n"
     ]
    }
   ],
   "source": [
    "kubectl apply -f - <<EOF\n",
    "apiVersion: apps/v1\n",
    "kind: Deployment\n",
    "metadata:\n",
    "  name: nginx-deployment\n",
    "  namespace: default\n",
    "  labels:\n",
    "    app: nginx\n",
    "spec:\n",
    "  replicas: 1\n",
    "  selector:\n",
    "    matchLabels:\n",
    "      app: nginx\n",
    "  template:\n",
    "    metadata:\n",
    "      labels:\n",
    "        app: nginx\n",
    "    spec:\n",
    "      containers:\n",
    "      - name: nginx\n",
    "        image: nginx\n",
    "EOF"
   ]
  },
  {
   "cell_type": "code",
   "execution_count": 15,
   "metadata": {},
   "outputs": [
    {
     "name": "stdout",
     "output_type": "stream",
     "text": [
      "NAME                                          READY   STATUS    RESTARTS   AGE\n",
      "pod/nginx-with-token-again-66868cff8b-7llg6   1/1     Running   0          35m\n",
      "\n",
      "NAME                 TYPE        CLUSTER-IP   EXTERNAL-IP   PORT(S)   AGE\n",
      "service/kubernetes   ClusterIP   10.96.0.1    <none>        443/TCP   81m\n",
      "\n",
      "NAME                                     READY   UP-TO-DATE   AVAILABLE   AGE\n",
      "deployment.apps/nginx-deployment         0/1     0            0           20s\n",
      "deployment.apps/nginx-with-token-again   1/1     1            1           36m\n",
      "\n",
      "NAME                                                DESIRED   CURRENT   READY   AGE\n",
      "replicaset.apps/nginx-deployment-6799fc88d8         1         0         0       20s\n",
      "replicaset.apps/nginx-with-token-again-66868cff8b   1         1         1       35m\n",
      "replicaset.apps/nginx-with-token-again-7d7cd958c    0         0         0       36m\n"
     ]
    }
   ],
   "source": [
    "kubectl get all"
   ]
  },
  {
   "cell_type": "code",
   "execution_count": 16,
   "metadata": {},
   "outputs": [
    {
     "name": "stdout",
     "output_type": "stream",
     "text": [
      "nginx-deployment-6799fc88d8\n"
     ]
    }
   ],
   "source": [
    "RS=$(kubectl get rs | awk '/nginx-deployment/{print $1}' | head -1)\n",
    "echo $RS"
   ]
  },
  {
   "cell_type": "code",
   "execution_count": 17,
   "metadata": {},
   "outputs": [
    {
     "name": "stdout",
     "output_type": "stream",
     "text": [
      "Name:           nginx-deployment-6799fc88d8\n",
      "Namespace:      default\n",
      "Selector:       app=nginx,pod-template-hash=6799fc88d8\n",
      "Labels:         app=nginx\n",
      "                pod-template-hash=6799fc88d8\n",
      "Annotations:    deployment.kubernetes.io/desired-replicas: 1\n",
      "                deployment.kubernetes.io/max-replicas: 2\n",
      "                deployment.kubernetes.io/revision: 1\n",
      "Controlled By:  Deployment/nginx-deployment\n",
      "Replicas:       0 current / 1 desired\n",
      "Pods Status:    0 Running / 0 Waiting / 0 Succeeded / 0 Failed\n",
      "Pod Template:\n",
      "  Labels:  app=nginx\n",
      "           pod-template-hash=6799fc88d8\n",
      "  Containers:\n",
      "   nginx:\n",
      "    Image:        nginx\n",
      "    Port:         <none>\n",
      "    Host Port:    <none>\n",
      "    Environment:  <none>\n",
      "    Mounts:       <none>\n",
      "  Volumes:        <none>\n",
      "Conditions:\n",
      "  Type             Status  Reason\n",
      "  ----             ------  ------\n",
      "  ReplicaFailure   True    \u001b[01;31m\u001b[KFailedCreate\u001b[m\u001b[K\n",
      "Events:\n",
      "  Type     Reason        Age                From                   Message\n",
      "  ----     ------        ----               ----                   -------\n",
      "  Warning  \u001b[01;31m\u001b[KFailedCreate\u001b[m\u001b[K  9s (x13 over 30s)  replicaset-controller  Error creating: pods \"nginx-deployment-6799fc88d8-\" is \u001b[01;31m\u001b[Kforbidden\u001b[m\u001b[K: PodSecurityPolicy: unable to admit pod: []\n"
     ]
    }
   ],
   "source": [
    "kubectl describe rs $RS | grep --color=always -E '$|FailedCreate|forbidden' "
   ]
  },
  {
   "cell_type": "markdown",
   "metadata": {},
   "source": [
    "Without an existing PSP nobody can start anything. \n",
    "\n",
    "Note that the *replicaset* is reporting the failure.\n",
    "\n",
    "The pod does not exist, thus there are no logs we can watch"
   ]
  },
  {
   "cell_type": "code",
   "execution_count": 18,
   "metadata": {},
   "outputs": [
    {
     "name": "stdout",
     "output_type": "stream",
     "text": [
      "NAME          PRIV    CAPS   SELINUX    RUNASUSER   FSGROUP    SUPGROUP   READONLYROOTFS   VOLUMES\n",
      "restrictive   false   *      RunAsAny   RunAsAny    RunAsAny   RunAsAny   false            configMap,downwardAPI,emptyDir,persistentVolumeClaim,secret,projected\n"
     ]
    }
   ],
   "source": [
    "kubectl get psp"
   ]
  },
  {
   "cell_type": "markdown",
   "metadata": {},
   "source": [
    "# Policies\n",
    "\n",
    "* can be applied to each account, including \n",
    " * Users\n",
    " * ServiceAccounts\n",
    "* give fine grained control over rights\n",
    "\n",
    "We start with the *restrictive* Policy from the Kubernets Documentation\n",
    "https://kubernetes.io/docs/concepts/policy/pod-security-policy\n"
   ]
  },
  {
   "cell_type": "code",
   "execution_count": 10,
   "metadata": {},
   "outputs": [
    {
     "name": "stdout",
     "output_type": "stream",
     "text": [
      "podsecuritypolicy.policy/restrictive created\n"
     ]
    }
   ],
   "source": [
    "kubectl create -f  - <<EOF\n",
    "apiVersion: policy/v1beta1\n",
    "kind: PodSecurityPolicy\n",
    "metadata:\n",
    "  name: restrictive\n",
    "spec:\n",
    "  privileged: false\n",
    "  hostNetwork: false\n",
    "  allowPrivilegeEscalation: false\n",
    "  defaultAllowPrivilegeEscalation: false\n",
    "  hostPID: false\n",
    "  hostIPC: false\n",
    "  runAsUser:\n",
    "    rule: RunAsAny\n",
    "  fsGroup:\n",
    "    rule: RunAsAny\n",
    "  seLinux:\n",
    "    rule: RunAsAny\n",
    "  supplementalGroups:\n",
    "    rule: RunAsAny\n",
    "  volumes:\n",
    "  - 'configMap'\n",
    "  - 'downwardAPI'\n",
    "  - 'emptyDir'\n",
    "  - 'persistentVolumeClaim'\n",
    "  - 'secret'\n",
    "  - 'projected'\n",
    "  allowedCapabilities:\n",
    "  - '*'\n",
    "EOF"
   ]
  },
  {
   "cell_type": "code",
   "execution_count": 11,
   "metadata": {},
   "outputs": [
    {
     "name": "stdout",
     "output_type": "stream",
     "text": [
      "deployment.apps \"nginx-deployment\" deleted\n"
     ]
    }
   ],
   "source": [
    "kubectl delete deployment nginx-deployment"
   ]
  },
  {
   "cell_type": "code",
   "execution_count": 19,
   "metadata": {},
   "outputs": [
    {
     "name": "stdout",
     "output_type": "stream",
     "text": [
      "pod/pause created\n"
     ]
    }
   ],
   "source": [
    "kubectl create -f- <<EOF\n",
    "apiVersion: v1\n",
    "kind: Pod\n",
    "metadata:\n",
    "  name: pause\n",
    "spec:\n",
    "  containers:\n",
    "    - name: pause\n",
    "      image: k8s.gcr.io/pause\n",
    "EOF"
   ]
  },
  {
   "cell_type": "code",
   "execution_count": 21,
   "metadata": {},
   "outputs": [
    {
     "name": "stdout",
     "output_type": "stream",
     "text": [
      "NAME                                      READY   STATUS    RESTARTS   AGE\n",
      "nginx-with-token-again-66868cff8b-7llg6   1/1     Running   0          37m\n",
      "pause                                     1/1     Running   0          8s\n"
     ]
    }
   ],
   "source": [
    "kubectl get pods"
   ]
  },
  {
   "cell_type": "code",
   "execution_count": null,
   "metadata": {},
   "outputs": [],
   "source": [
    "kubectl get pod $(kubectl get po | egrep -o nginx[A-Za-z0-9-]+) -o yaml | grep -i psp"
   ]
  },
  {
   "cell_type": "markdown",
   "metadata": {},
   "source": [
    "## Again\n",
    "\n",
    "\n",
    "Go back to the nginx example and start again\n",
    "Let us restart the deployment again\n",
    "\n",
    "Still not working because the psp is not bound"
   ]
  },
  {
   "cell_type": "markdown",
   "metadata": {},
   "source": [
    "## Roles \n",
    "\n",
    "We create a restrictive *ClusterRole*"
   ]
  },
  {
   "cell_type": "code",
   "execution_count": 22,
   "metadata": {},
   "outputs": [
    {
     "name": "stdout",
     "output_type": "stream",
     "text": [
      "clusterrole.rbac.authorization.k8s.io/psp-restrictive created\n"
     ]
    }
   ],
   "source": [
    "kubectl apply -f - <<EOF\n",
    "kind: ClusterRole\n",
    "apiVersion: rbac.authorization.k8s.io/v1\n",
    "metadata:\n",
    "  name: psp-restrictive\n",
    "rules:\n",
    "- apiGroups:\n",
    "  - extensions\n",
    "  resources:\n",
    "  - podsecuritypolicies\n",
    "  resourceNames:\n",
    "  - restrictive\n",
    "  verbs:\n",
    "  - use\n",
    "EOF"
   ]
  },
  {
   "cell_type": "markdown",
   "metadata": {},
   "source": [
    "## RoleBindings\n",
    "\n",
    "We need to bind the role to a user"
   ]
  },
  {
   "cell_type": "code",
   "execution_count": 23,
   "metadata": {},
   "outputs": [
    {
     "name": "stdout",
     "output_type": "stream",
     "text": [
      "\u001b[33;1mWarning:\u001b[0m rbac.authorization.k8s.io/v1beta1 RoleBinding is deprecated in v1.17+, unavailable in v1.22+; use rbac.authorization.k8s.io/v1 RoleBinding\n",
      "rolebinding.rbac.authorization.k8s.io/restrictive created\n"
     ]
    }
   ],
   "source": [
    "kubectl create -f - <<EOF\n",
    "apiVersion: rbac.authorization.k8s.io/v1\n",
    "kind: RoleBinding\n",
    "metadata:\n",
    "  name: restrictive\n",
    "  namespace: default\n",
    "roleRef:\n",
    "  apiGroup: rbac.authorization.k8s.io\n",
    "  kind: ClusterRole\n",
    "  name: psp-restrictive\n",
    "subjects:\n",
    "- kind: ServiceAccount\n",
    "  name: default\n",
    "  namespace: default\n",
    "EOF"
   ]
  },
  {
   "cell_type": "code",
   "execution_count": 28,
   "metadata": {},
   "outputs": [
    {
     "name": "stdout",
     "output_type": "stream",
     "text": [
      "deployment.apps/nginx-deployment created\n"
     ]
    }
   ],
   "source": [
    "kubectl apply -f - <<EOF\n",
    "apiVersion: apps/v1\n",
    "kind: Deployment\n",
    "metadata:\n",
    "  name: nginx-deployment\n",
    "  namespace: default\n",
    "  labels:\n",
    "    app: nginx\n",
    "spec:\n",
    "  replicas: 1\n",
    "  selector:\n",
    "    matchLabels:\n",
    "      app: nginx\n",
    "  template:\n",
    "    metadata:\n",
    "      labels:\n",
    "        app: nginx\n",
    "    spec:\n",
    "      containers:\n",
    "      - name: nginx\n",
    "        image: nginx\n",
    "EOF"
   ]
  },
  {
   "cell_type": "code",
   "execution_count": 31,
   "metadata": {},
   "outputs": [
    {
     "name": "stdout",
     "output_type": "stream",
     "text": [
      "NAME                                          READY   STATUS    RESTARTS   AGE\n",
      "pod/nginx-deployment-6799fc88d8-znnnz         1/1     Running   0          14s\n",
      "pod/nginx-with-token-again-66868cff8b-7llg6   1/1     Running   0          40m\n",
      "pod/pause                                     1/1     Running   0          3m2s\n",
      "\n",
      "NAME                 TYPE        CLUSTER-IP   EXTERNAL-IP   PORT(S)   AGE\n",
      "service/kubernetes   ClusterIP   10.96.0.1    <none>        443/TCP   87m\n",
      "\n",
      "NAME                                     READY   UP-TO-DATE   AVAILABLE   AGE\n",
      "deployment.apps/nginx-deployment         1/1     1            1           15s\n",
      "deployment.apps/nginx-with-token-again   1/1     1            1           41m\n",
      "\n",
      "NAME                                                DESIRED   CURRENT   READY   AGE\n",
      "replicaset.apps/nginx-deployment-6799fc88d8         1         1         1       15s\n",
      "replicaset.apps/nginx-with-token-again-66868cff8b   1         1         1       40m\n",
      "replicaset.apps/nginx-with-token-again-7d7cd958c    0         0         0       41m\n"
     ]
    }
   ],
   "source": [
    "kubectl get all"
   ]
  },
  {
   "cell_type": "markdown",
   "metadata": {},
   "source": [
    "## Create a Permissive Policy"
   ]
  },
  {
   "cell_type": "code",
   "execution_count": null,
   "metadata": {},
   "outputs": [],
   "source": []
  },
  {
   "cell_type": "markdown",
   "metadata": {},
   "source": [
    "## Which policy has been applied\n",
    "\n",
    "how can we detect, which policy is in use for a given pod "
   ]
  },
  {
   "cell_type": "code",
   "execution_count": null,
   "metadata": {},
   "outputs": [],
   "source": [
    "POD=$(kubectl get  pod | awk '/nginx-deployment/{print $1}' | head -1)\n",
    "echo $POD"
   ]
  },
  {
   "cell_type": "code",
   "execution_count": null,
   "metadata": {},
   "outputs": [],
   "source": [
    "kubectl get pods"
   ]
  },
  {
   "cell_type": "markdown",
   "metadata": {},
   "source": [
    "Pedestrians approach"
   ]
  },
  {
   "cell_type": "code",
   "execution_count": null,
   "metadata": {},
   "outputs": [],
   "source": [
    "kubectl get pod $(kubectl get po | egrep -o nginx[A-Za-z0-9-]+) -o yaml | grep -i psp"
   ]
  },
  {
   "cell_type": "markdown",
   "metadata": {},
   "source": [
    "Enjoy the beauty of the jsonpath template,\n",
    "\n",
    "`.metadata.annotations` is a map"
   ]
  },
  {
   "cell_type": "code",
   "execution_count": null,
   "metadata": {},
   "outputs": [],
   "source": [
    "kubectl get pod $POD -o jsonpath='{.metadata.annotations}'"
   ]
  },
  {
   "cell_type": "markdown",
   "metadata": {},
   "source": [
    "`kubernetes\\.io/psp` is a valid name\n",
    "* the `/` is a usual character in a string\n",
    "* the `.` needs to be escaped"
   ]
  },
  {
   "cell_type": "code",
   "execution_count": null,
   "metadata": {},
   "outputs": [],
   "source": [
    "kubectl get pod $POD -o jsonpath='{.metadata.annotations.kubernetes\\.io/psp}'"
   ]
  },
  {
   "cell_type": "markdown",
   "metadata": {},
   "source": [
    "and now all pods"
   ]
  },
  {
   "cell_type": "code",
   "execution_count": null,
   "metadata": {},
   "outputs": [],
   "source": [
    "kubectl get pod --all-namespaces -o jsonpath='{.items[*].metadata.annotations.kubernetes\\.io/psp}'"
   ]
  },
  {
   "cell_type": "code",
   "execution_count": null,
   "metadata": {},
   "outputs": [],
   "source": [
    "kubectl get psp"
   ]
  },
  {
   "cell_type": "code",
   "execution_count": null,
   "metadata": {},
   "outputs": [],
   "source": [
    "kubectl delete psp restrictive"
   ]
  },
  {
   "cell_type": "code",
   "execution_count": null,
   "metadata": {},
   "outputs": [],
   "source": [
    "kubectl delete deployment nginx-deployment"
   ]
  },
  {
   "cell_type": "code",
   "execution_count": null,
   "metadata": {},
   "outputs": [],
   "source": [
    "kubect "
   ]
  },
  {
   "cell_type": "code",
   "execution_count": null,
   "metadata": {},
   "outputs": [],
   "source": [
    "kubectl create -f - <<EOF\n",
    "apiVersion: apps/v1\n",
    "kind: Deployment\n",
    "metadata:\n",
    "  name: nginx-strict\n",
    "  labels:\n",
    "    app: nginx\n",
    "spec:\n",
    "  replicas: 3\n",
    "  selector:\n",
    "    matchLabels:\n",
    "      app: nginx\n",
    "  template:\n",
    "    metadata:\n",
    "      labels:\n",
    "        app: nginx\n",
    "    spec:\n",
    "      containers:\n",
    "      - name: nginx\n",
    "        image: nginxinc/nginx-unprivileged\n",
    "        ports:\n",
    "        - containerPort: 8080\n",
    "EOF\n"
   ]
  },
  {
   "cell_type": "code",
   "execution_count": null,
   "metadata": {},
   "outputs": [],
   "source": [
    "kubectl get pods"
   ]
  },
  {
   "cell_type": "code",
   "execution_count": null,
   "metadata": {},
   "outputs": [],
   "source": [
    "kubectl delete deployment nginx-strict"
   ]
  },
  {
   "cell_type": "markdown",
   "metadata": {},
   "source": [
    "## Summary \n",
    "\n",
    "* we have started one pod\n",
    "* with the restrictive PodSecurityPolicy\n",
    "* bound to the default serviceaccount\n",
    "* in the default namespace\n",
    "\n",
    "[ ![High Five](https://image.freepik.com/free-photo/blonde-african-young-women-giving-high-five-against-grey-background_23-2148178786.jpg) ](https://www.freepik.com/free-photo/blonde-african-young-women-giving-high-five-against-grey-background_4732025.htm)\n",
    "\n",
    "Attribution: [Background photo created by freepik](https://www.freepik.com/photos/background), thanks to [freepik](https://www.freepik.com)"
   ]
  },
  {
   "cell_type": "markdown",
   "metadata": {},
   "source": []
  }
 ],
 "metadata": {
  "kernelspec": {
   "display_name": "Bash",
   "language": "bash",
   "name": "bash"
  },
  "language_info": {
   "codemirror_mode": "shell",
   "file_extension": ".sh",
   "mimetype": "text/x-sh",
   "name": "bash"
  }
 },
 "nbformat": 4,
 "nbformat_minor": 4
}
