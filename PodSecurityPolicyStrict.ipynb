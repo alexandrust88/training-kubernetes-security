{
 "cells": [
  {
   "cell_type": "markdown",
   "metadata": {},
   "source": [
    "**This notebook covered by the following [license](License.ipynb)  This note must not be removed**"
   ]
  },
  {
   "cell_type": "code",
   "execution_count": null,
   "metadata": {},
   "outputs": [],
   "source": []
  },
  {
   "cell_type": "markdown",
   "metadata": {},
   "source": [
    "# Strict Policy\n",
    "\n",
    "*strict* forbids more than the *restrictive*\n",
    "\n",
    "https://kubernetes.io/docs/concepts/policy/pod-security-policy\n"
   ]
  },
  {
   "cell_type": "code",
   "execution_count": 1,
   "metadata": {},
   "outputs": [
    {
     "name": "stdout",
     "output_type": "stream",
     "text": [
      "podsecuritypolicy.policy/strict created\n"
     ]
    }
   ],
   "source": [
    "kubectl apply -f - <<EOF\n",
    "apiVersion: policy/v1beta1\n",
    "kind: PodSecurityPolicy\n",
    "metadata:\n",
    "  name: strict\n",
    "#  annotations:\n",
    "#    seccomp.security.alpha.kubernetes.io/allowedProfileNames: 'docker/default,runtime/default'\n",
    "#    apparmor.security.beta.kubernetes.io/allowedProfileNames: 'runtime/default'\n",
    "#    seccomp.security.alpha.kubernetes.io/defaultProfileName:  'runtime/default'\n",
    "#    apparmor.security.beta.kubernetes.io/defaultProfileName:  'runtime/default'\n",
    "spec:\n",
    "  privileged: false\n",
    "  # Required to prevent escalations to root.\n",
    "  allowPrivilegeEscalation: false\n",
    "  # This is redundant with non-root + disallow privilege escalation,\n",
    "  # but we can provide it for defense in depth.\n",
    "  requiredDropCapabilities:\n",
    "  - ALL\n",
    "  # Allow core volume types.\n",
    "  volumes:\n",
    "    - 'configMap'\n",
    "    - 'emptyDir'\n",
    "    - 'projected'\n",
    "    - 'secret'\n",
    "    - 'downwardAPI'\n",
    "    # Assume that persistentVolumes set up by the cluster admin are safe to use.\n",
    "    - 'persistentVolumeClaim'\n",
    "  hostNetwork: false\n",
    "  hostIPC: false\n",
    "  hostPID: false\n",
    "  runAsUser:\n",
    "    # Require the container to run without root privileges.\n",
    "    rule: 'MustRunAsNonRoot'\n",
    "  seLinux:\n",
    "    # This policy assumes the nodes are using AppArmor rather than SELinux.\n",
    "    rule: 'RunAsAny'\n",
    "  supplementalGroups:\n",
    "    rule: 'MustRunAs'\n",
    "    ranges:\n",
    "      # Forbid adding the root group.\n",
    "      - min: 1\n",
    "        max: 65535\n",
    "  fsGroup:\n",
    "    rule: 'MustRunAs'\n",
    "    ranges:\n",
    "      # Forbid adding the root group.\n",
    "      - min: 1\n",
    "        max: 65535\n",
    "  readOnlyRootFilesystem: false\n",
    "EOF"
   ]
  },
  {
   "cell_type": "code",
   "execution_count": null,
   "metadata": {},
   "outputs": [],
   "source": [
    "man capabilities"
   ]
  },
  {
   "cell_type": "code",
   "execution_count": 2,
   "metadata": {},
   "outputs": [
    {
     "name": "stdout",
     "output_type": "stream",
     "text": [
      "clusterrole.rbac.authorization.k8s.io/psp-strict created\n"
     ]
    }
   ],
   "source": [
    "kubectl apply -f - <<EOF\n",
    "kind: ClusterRole\n",
    "apiVersion: rbac.authorization.k8s.io/v1\n",
    "metadata:\n",
    "  name: psp-strict\n",
    "rules:\n",
    "- apiGroups:\n",
    "  - extensions\n",
    "  resources:\n",
    "  - podsecuritypolicies\n",
    "  resourceNames:\n",
    "  - strict\n",
    "  verbs:\n",
    "  - use\n",
    "EOF"
   ]
  },
  {
   "cell_type": "code",
   "execution_count": 3,
   "metadata": {},
   "outputs": [
    {
     "name": "stdout",
     "output_type": "stream",
     "text": [
      "\u001b[33;1mWarning:\u001b[0m rbac.authorization.k8s.io/v1beta1 RoleBinding is deprecated in v1.17+, unavailable in v1.22+; use rbac.authorization.k8s.io/v1 RoleBinding\n",
      "rolebinding.rbac.authorization.k8s.io/strict created\n"
     ]
    }
   ],
   "source": [
    "kubectl apply -f - <<EOF\n",
    "apiVersion: rbac.authorization.k8s.io/v1beta1\n",
    "kind: RoleBinding\n",
    "metadata:\n",
    "  name: strict\n",
    "  namespace: default\n",
    "roleRef:\n",
    "  apiGroup: rbac.authorization.k8s.io\n",
    "  kind: ClusterRole\n",
    "  name: psp-strict\n",
    "subjects:\n",
    "- kind: ServiceAccount\n",
    "  name: default\n",
    "  namespace: default\n",
    "EOF"
   ]
  },
  {
   "cell_type": "markdown",
   "metadata": {},
   "source": [
    "## Create an Nginx without privileges "
   ]
  },
  {
   "cell_type": "code",
   "execution_count": 4,
   "metadata": {},
   "outputs": [
    {
     "name": "stdout",
     "output_type": "stream",
     "text": [
      "deployment.apps/nginx-strict created\n"
     ]
    }
   ],
   "source": [
    "kubectl apply -f - <<EOF\n",
    "apiVersion: apps/v1\n",
    "kind: Deployment\n",
    "metadata:\n",
    "  name: nginx-strict\n",
    "  namespace: default\n",
    "  labels:\n",
    "    app: nginx\n",
    "spec:\n",
    "  replicas: 1\n",
    "  selector:\n",
    "    matchLabels:\n",
    "      app: nginx\n",
    "  template:\n",
    "    metadata:\n",
    "      labels:\n",
    "        app: nginx\n",
    "    spec:\n",
    "      containers:\n",
    "      - name: nginx\n",
    "        image: nginxinc/nginx-unprivileged\n",
    "EOF"
   ]
  },
  {
   "cell_type": "code",
   "execution_count": 6,
   "metadata": {},
   "outputs": [
    {
     "name": "stdout",
     "output_type": "stream",
     "text": [
      "NAME                                          READY   STATUS    RESTARTS   AGE\n",
      "nginx-hostnetwork-deployment-db7654df-88wgs   1/1     Running   0          16m\n",
      "nginx-other-deployment-6799fc88d8-27zdq       1/1     Running   0          5m56s\n",
      "nginx-strict-747fbd9b9b-6bc5m                 1/1     Running   0          7s\n"
     ]
    }
   ],
   "source": [
    "kubectl get pods"
   ]
  },
  {
   "cell_type": "code",
   "execution_count": null,
   "metadata": {},
   "outputs": [],
   "source": [
    "kubectl get all"
   ]
  },
  {
   "cell_type": "markdown",
   "metadata": {},
   "source": [
    "## Which policy has been applied\n",
    "\n",
    "how can we detect, which policy is in use for a given pod "
   ]
  },
  {
   "cell_type": "code",
   "execution_count": 7,
   "metadata": {},
   "outputs": [
    {
     "name": "stdout",
     "output_type": "stream",
     "text": [
      "nginx-strict-747fbd9b9b-6bc5m\n"
     ]
    }
   ],
   "source": [
    "POD=$(kubectl get  pod | awk '/nginx-strict/{print $1}' | head -1)\n",
    "echo $POD"
   ]
  },
  {
   "cell_type": "code",
   "execution_count": 8,
   "metadata": {},
   "outputs": [
    {
     "name": "stdout",
     "output_type": "stream",
     "text": [
      "NAME                                          READY   STATUS    RESTARTS   AGE\n",
      "nginx-hostnetwork-deployment-db7654df-88wgs   1/1     Running   0          16m\n",
      "nginx-other-deployment-6799fc88d8-27zdq       1/1     Running   0          6m4s\n",
      "nginx-strict-747fbd9b9b-6bc5m                 1/1     Running   0          15s\n"
     ]
    }
   ],
   "source": [
    "kubectl get pods"
   ]
  },
  {
   "cell_type": "code",
   "execution_count": 9,
   "metadata": {},
   "outputs": [
    {
     "name": "stdout",
     "output_type": "stream",
     "text": [
      "permissive"
     ]
    }
   ],
   "source": [
    "kubectl get pod $POD -o jsonpath='{.metadata.annotations.kubernetes\\.io/psp}'"
   ]
  },
  {
   "cell_type": "markdown",
   "metadata": {},
   "source": [
    "## Correct the first, time wrong after deploying a permissive policy!"
   ]
  },
  {
   "cell_type": "code",
   "execution_count": null,
   "metadata": {},
   "outputs": [],
   "source": [
    "kubectl delete deployment nginx-strict"
   ]
  },
  {
   "cell_type": "code",
   "execution_count": null,
   "metadata": {},
   "outputs": [],
   "source": [
    "kubectl get rolebinding"
   ]
  },
  {
   "cell_type": "code",
   "execution_count": null,
   "metadata": {},
   "outputs": [],
   "source": [
    "kubectl delete rolebinding restrictive permissive"
   ]
  },
  {
   "cell_type": "code",
   "execution_count": null,
   "metadata": {},
   "outputs": [],
   "source": [
    "POD=$(kubectl get  pod | awk '/nginx-strict/{print $1}' | head -1)\n",
    "echo $POD"
   ]
  },
  {
   "cell_type": "code",
   "execution_count": null,
   "metadata": {},
   "outputs": [],
   "source": [
    "kubectl get pod $POD -o jsonpath='{.metadata.annotations.kubernetes\\.io/psp}'"
   ]
  },
  {
   "cell_type": "markdown",
   "metadata": {},
   "source": [
    "## Can we still create the *normal* deployment"
   ]
  },
  {
   "cell_type": "code",
   "execution_count": 10,
   "metadata": {},
   "outputs": [
    {
     "name": "stdout",
     "output_type": "stream",
     "text": [
      "deployment.apps/nginx-deployment created\n"
     ]
    }
   ],
   "source": [
    "kubectl apply -f - <<EOF\n",
    "apiVersion: apps/v1\n",
    "kind: Deployment\n",
    "metadata:\n",
    "  name: nginx-deployment\n",
    "  namespace: default\n",
    "  labels:\n",
    "    app: nginx\n",
    "spec:\n",
    "  replicas: 1\n",
    "  selector:\n",
    "    matchLabels:\n",
    "      app: nginx\n",
    "  template:\n",
    "    metadata:\n",
    "      labels:\n",
    "        app: nginx\n",
    "    spec:\n",
    "      containers:\n",
    "      - name: nginx\n",
    "        image: nginx\n",
    "EOF"
   ]
  },
  {
   "cell_type": "code",
   "execution_count": 11,
   "metadata": {},
   "outputs": [
    {
     "name": "stdout",
     "output_type": "stream",
     "text": [
      "NAME                           READY   UP-TO-DATE   AVAILABLE   AGE\n",
      "nginx-deployment               0/1     1            0           2s\n",
      "nginx-hostnetwork-deployment   1/1     1            1           22m\n",
      "nginx-other-deployment         1/1     1            1           11m\n",
      "nginx-strict                   1/1     1            1           6m8s\n"
     ]
    }
   ],
   "source": [
    "kubectl get deployments"
   ]
  },
  {
   "cell_type": "code",
   "execution_count": 12,
   "metadata": {},
   "outputs": [
    {
     "name": "stdout",
     "output_type": "stream",
     "text": [
      "NAME                                          READY   STATUS    RESTARTS   AGE\n",
      "nginx-deployment-6799fc88d8-cthtm             1/1     Running   0          6s\n",
      "nginx-hostnetwork-deployment-db7654df-88wgs   1/1     Running   0          22m\n",
      "nginx-other-deployment-6799fc88d8-27zdq       1/1     Running   0          12m\n",
      "nginx-strict-747fbd9b9b-6bc5m                 1/1     Running   0          6m13s\n"
     ]
    }
   ],
   "source": [
    "kubectl get pods"
   ]
  },
  {
   "cell_type": "code",
   "execution_count": 14,
   "metadata": {},
   "outputs": [
    {
     "name": "stdout",
     "output_type": "stream",
     "text": [
      "Name:         nginx-deployment-6799fc88d8-cthtm\n",
      "Namespace:    default\n",
      "Priority:     0\n",
      "Node:         minikube/192.168.49.2\n",
      "Start Time:   Thu, 28 Jan 2021 13:13:59 +0000\n",
      "Labels:       app=nginx\n",
      "              pod-template-hash=6799fc88d8\n",
      "Annotations:  kubernetes.io/psp: permissive\n",
      "Status:       Running\n",
      "IP:           172.17.0.5\n",
      "IPs:\n",
      "  IP:           172.17.0.5\n",
      "Controlled By:  ReplicaSet/nginx-deployment-6799fc88d8\n",
      "Containers:\n",
      "  nginx:\n",
      "    Container ID:   docker://5778d11df9e1fdec87ee1850f0bf5c3f780b417812ce99d576a1570131f173ab\n",
      "    Image:          nginx\n",
      "    Image ID:       docker-pullable://nginx@sha256:10b8cc432d56da8b61b070f4c7d2543a9ed17c2b23010b43af434fd40e2ca4aa\n",
      "    Port:           <none>\n",
      "    Host Port:      <none>\n",
      "    State:          Running\n",
      "      Started:      Thu, 28 Jan 2021 13:14:01 +0000\n",
      "    Ready:          True\n",
      "    Restart Count:  0\n",
      "    Environment:    <none>\n",
      "    Mounts:         <none>\n",
      "Conditions:\n",
      "  Type              Status\n",
      "  Initialized       True \n",
      "  Ready             True \n",
      "  ContainersReady   True \n",
      "  PodScheduled      True \n",
      "Volumes:            <none>\n",
      "QoS Class:          BestEffort\n",
      "Node-Selectors:     <none>\n",
      "Tolerations:        node.kubernetes.io/not-ready:NoExecute op=Exists for 300s\n",
      "                    node.kubernetes.io/unreachable:NoExecute op=Exists for 300s\n",
      "Events:\n",
      "  Type    Reason     Age   From               Message\n",
      "  ----    ------     ----  ----               -------\n",
      "  Normal  Scheduled  32s   default-scheduler  Successfully assigned default/nginx-deployment-6799fc88d8-cthtm to minikube\n",
      "  Normal  Pulling    32s   kubelet            Pulling image \"nginx\"\n",
      "  Normal  Pulled     30s   kubelet            Successfully pulled image \"nginx\" in 1.744824425s\n",
      "  Normal  Created    30s   kubelet            Created container nginx\n",
      "  Normal  Started    30s   kubelet            Started container nginx\n"
     ]
    }
   ],
   "source": [
    "kubectl describe pod nginx-deployment-6799fc88d8-cthtm "
   ]
  },
  {
   "cell_type": "code",
   "execution_count": 15,
   "metadata": {},
   "outputs": [
    {
     "name": "stdout",
     "output_type": "stream",
     "text": [
      "permissive permissive permissive permissive"
     ]
    }
   ],
   "source": [
    "kubectl get pods -o jsonpath='{.items[*].metadata.annotations.kubernetes\\.io/psp}'"
   ]
  },
  {
   "cell_type": "code",
   "execution_count": null,
   "metadata": {},
   "outputs": [],
   "source": [
    "kubectl get rolebindings"
   ]
  },
  {
   "cell_type": "code",
   "execution_count": null,
   "metadata": {},
   "outputs": [],
   "source": [
    "kubectl delete clusterrole psp-restrictive"
   ]
  },
  {
   "cell_type": "markdown",
   "metadata": {},
   "source": [
    "## Try again"
   ]
  },
  {
   "cell_type": "code",
   "execution_count": null,
   "metadata": {},
   "outputs": [],
   "source": [
    "kubectl delete deployment nginx-deployment"
   ]
  },
  {
   "cell_type": "markdown",
   "metadata": {},
   "source": [
    "## Go back and redeploy the nginx deployment"
   ]
  },
  {
   "cell_type": "code",
   "execution_count": null,
   "metadata": {},
   "outputs": [],
   "source": [
    "kubectl get pods"
   ]
  },
  {
   "cell_type": "code",
   "execution_count": null,
   "metadata": {},
   "outputs": [],
   "source": [
    "POD=$(kubectl get  pod | awk '/nginx-deployment/{print $1}' | head -1)\n",
    "echo $POD"
   ]
  },
  {
   "cell_type": "code",
   "execution_count": null,
   "metadata": {},
   "outputs": [],
   "source": [
    "kubectl describe pod"
   ]
  },
  {
   "cell_type": "code",
   "execution_count": null,
   "metadata": {},
   "outputs": [],
   "source": [
    "kubectl get all"
   ]
  },
  {
   "cell_type": "markdown",
   "metadata": {},
   "source": [
    "## Rebind the role\n",
    "\n",
    "Use the PodSecurityBasic and recreat the restrictive psp and rebind the role"
   ]
  },
  {
   "cell_type": "code",
   "execution_count": null,
   "metadata": {},
   "outputs": [],
   "source": [
    "kubectl delete pod $POD"
   ]
  },
  {
   "cell_type": "markdown",
   "metadata": {},
   "source": [
    "**deleting the pod is enough**"
   ]
  },
  {
   "cell_type": "code",
   "execution_count": null,
   "metadata": {},
   "outputs": [],
   "source": [
    "kubectl get all"
   ]
  },
  {
   "cell_type": "markdown",
   "metadata": {},
   "source": [
    "## Conclusion\n",
    "\n",
    "* don't mess up the psp, clusterroles and bindings\n",
    "* better one role per account"
   ]
  },
  {
   "cell_type": "code",
   "execution_count": null,
   "metadata": {},
   "outputs": [],
   "source": []
  }
 ],
 "metadata": {
  "kernelspec": {
   "display_name": "Bash",
   "language": "bash",
   "name": "bash"
  },
  "language_info": {
   "codemirror_mode": "shell",
   "file_extension": ".sh",
   "mimetype": "text/x-sh",
   "name": "bash"
  }
 },
 "nbformat": 4,
 "nbformat_minor": 4
}
