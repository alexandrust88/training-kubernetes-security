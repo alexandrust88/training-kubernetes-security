{
 "cells": [
  {
   "cell_type": "markdown",
   "metadata": {},
   "source": [
    "**This notebook covered by the following [license](License.ipynb)  This note must not be removed**"
   ]
  },
  {
   "cell_type": "markdown",
   "metadata": {},
   "source": [
    "# The Postgres Operator by Zalando\n",
    "\n",
    "see https://github.com/zalando/postgres-operator"
   ]
  },
  {
   "cell_type": "code",
   "execution_count": 1,
   "metadata": {},
   "outputs": [
    {
     "name": "stdout",
     "output_type": "stream",
     "text": [
      "/minikube-host/training/notebooks\n"
     ]
    }
   ],
   "source": [
    "pwd"
   ]
  },
  {
   "cell_type": "code",
   "execution_count": null,
   "metadata": {},
   "outputs": [],
   "source": [
    "git clone https://github.com/zalando/postgres-operator.git\n"
   ]
  },
  {
   "cell_type": "code",
   "execution_count": 2,
   "metadata": {},
   "outputs": [
    {
     "name": "stdout",
     "output_type": "stream",
     "text": [
      "/minikube-host/training/notebooks/postgres-operator\n"
     ]
    }
   ],
   "source": [
    "cd postgres-operator\n",
    "pwd"
   ]
  },
  {
   "cell_type": "code",
   "execution_count": null,
   "metadata": {},
   "outputs": [],
   "source": [
    "kubectl delete -f manifests/configmap.yaml  # configuration\n",
    "kubectl delete -f manifests/operator-service-account-rbac.yaml  # identity and permissions\n",
    "kubectl delete -f manifests/postgres-operator.yaml  # deployment\n",
    "kubectl delete -f manifests/api-service.yaml  # operator API to be used by UI"
   ]
  },
  {
   "cell_type": "code",
   "execution_count": 3,
   "metadata": {},
   "outputs": [
    {
     "name": "stdout",
     "output_type": "stream",
     "text": [
      "manifest_sorter.go:192: info: skipping unknown hook: \"crd-install\"\n",
      "manifest_sorter.go:192: info: skipping unknown hook: \"crd-install\"\n",
      "manifest_sorter.go:192: info: skipping unknown hook: \"crd-install\"\n",
      "NAME: postgres-operator\n",
      "LAST DEPLOYED: Thu Jan 28 08:26:23 2021\n",
      "NAMESPACE: default\n",
      "STATUS: deployed\n",
      "REVISION: 1\n",
      "TEST SUITE: None\n",
      "NOTES:\n",
      "To verify that postgres-operator has started, run:\n",
      "\n",
      "  kubectl --namespace=default get pods -l \"app.kubernetes.io/name=postgres-operator\"\n"
     ]
    }
   ],
   "source": [
    "helm install postgres-operator ./charts/postgres-operator"
   ]
  },
  {
   "cell_type": "code",
   "execution_count": 4,
   "metadata": {},
   "outputs": [
    {
     "name": "stdout",
     "output_type": "stream",
     "text": [
      "NAME                                 READY   STATUS    RESTARTS   AGE\n",
      "postgres-operator-6f656b6b8b-bznhl   1/1     Running   0          15s\n"
     ]
    }
   ],
   "source": [
    "kubectl --namespace=default get pods -l \"app.kubernetes.io/name=postgres-operator\"\n"
   ]
  },
  {
   "cell_type": "code",
   "execution_count": 5,
   "metadata": {},
   "outputs": [
    {
     "name": "stdout",
     "output_type": "stream",
     "text": [
      "NAMESPACE     NAME                                       READY   STATUS    RESTARTS   AGE\n",
      "default       postgres-operator-6f656b6b8b-bznhl         1/1     Running   0          20s\n",
      "default       sleep-56bc8d768-qpvwt                      1/1     Running   0          16h\n",
      "kube-system   calico-kube-controllers-55ffdb7658-6dnz6   1/1     Running   0          16h\n",
      "kube-system   calico-node-k7vz4                          1/1     Running   0          16h\n",
      "kube-system   coredns-74ff55c5b-lzz5q                    1/1     Running   0          16h\n",
      "kube-system   etcd-minikube                              1/1     Running   0          16h\n",
      "kube-system   kube-apiserver-minikube                    1/1     Running   0          16h\n",
      "kube-system   kube-controller-manager-minikube           1/1     Running   0          16h\n",
      "kube-system   kube-proxy-64jt7                           1/1     Running   0          16h\n",
      "kube-system   kube-scheduler-minikube                    1/1     Running   0          16h\n",
      "kube-system   storage-provisioner                        1/1     Running   0          16h\n"
     ]
    }
   ],
   "source": [
    "kubectl get pods -A"
   ]
  },
  {
   "cell_type": "code",
   "execution_count": 6,
   "metadata": {},
   "outputs": [
    {
     "name": "stdout",
     "output_type": "stream",
     "text": [
      "NAME: postgres-operator-ui\n",
      "LAST DEPLOYED: Thu Jan 28 08:26:54 2021\n",
      "NAMESPACE: default\n",
      "STATUS: deployed\n",
      "REVISION: 1\n",
      "TEST SUITE: None\n",
      "NOTES:\n",
      "To verify that postgres-operator has started, run:\n",
      "\n",
      "  kubectl --namespace=default get pods -l \"app.kubernetes.io/name=postgres-operator-ui\"\n"
     ]
    }
   ],
   "source": [
    "helm install postgres-operator-ui ./charts/postgres-operator-ui"
   ]
  },
  {
   "cell_type": "code",
   "execution_count": 11,
   "metadata": {},
   "outputs": [
    {
     "name": "stdout",
     "output_type": "stream",
     "text": [
      "NAME                                   READY   STATUS    RESTARTS   AGE\n",
      "postgres-operator-ui-9d658b84c-9qnsl   1/1     Running   0          45s\n"
     ]
    }
   ],
   "source": [
    "kubectl --namespace=default get pods -l \"app.kubernetes.io/name=postgres-operator-ui\""
   ]
  },
  {
   "cell_type": "code",
   "execution_count": 12,
   "metadata": {},
   "outputs": [
    {
     "name": "stdout",
     "output_type": "stream",
     "text": [
      "Forwarding from 127.0.0.1:8081 -> 8081\n"
     ]
    }
   ],
   "source": [
    "kubectl port-forward svc/postgres-operator-ui 8081:80"
   ]
  },
  {
   "cell_type": "code",
   "execution_count": null,
   "metadata": {},
   "outputs": [],
   "source": [
    "kubectl get all"
   ]
  },
  {
   "cell_type": "code",
   "execution_count": null,
   "metadata": {},
   "outputs": [],
   "source": [
    "kubectl delete deployment nginx-deployment nginx-other-deployment nginx-strict nginx-hostnetwork-deployment"
   ]
  },
  {
   "cell_type": "markdown",
   "metadata": {},
   "source": [
    "# In a separate terminal\n",
    "\n",
    "`kubectl port-forward --address $(hostname -i) svc/postgres-operator-ui 8081:80`"
   ]
  },
  {
   "cell_type": "code",
   "execution_count": 14,
   "metadata": {},
   "outputs": [
    {
     "name": "stdout",
     "output_type": "stream",
     "text": [
      "NAME                                                      TYPE                                  DATA   AGE\n",
      "default-token-kvx2n                                       kubernetes.io/service-account-token   3      17h\n",
      "postgres-operator-token-m2fqq                             kubernetes.io/service-account-token   3      14m\n",
      "postgres-operator-ui-token-hv7wn                          kubernetes.io/service-account-token   3      14m\n",
      "postgres-pod-token-68vgp                                  kubernetes.io/service-account-token   3      97s\n",
      "postgres.acid-mypg.credentials.postgresql.acid.zalan.do   Opaque                                2      97s\n",
      "sh.helm.release.v1.postgres-operator-ui.v1                helm.sh/release.v1                    1      14m\n",
      "sh.helm.release.v1.postgres-operator.v1                   helm.sh/release.v1                    1      15m\n",
      "standby.acid-mypg.credentials.postgresql.acid.zalan.do    Opaque                                2      97s\n"
     ]
    }
   ],
   "source": [
    "kubectl get secret"
   ]
  },
  {
   "cell_type": "code",
   "execution_count": 26,
   "metadata": {},
   "outputs": [
    {
     "name": "stdout",
     "output_type": "stream",
     "text": [
      "NAME                   TYPE           CLUSTER-IP      EXTERNAL-IP     PORT(S)          AGE\n",
      "acid-mypg              LoadBalancer   10.108.191.69   10.108.191.69   5432:31792/TCP   11m\n",
      "acid-mypg-config       ClusterIP      None            <none>          <none>           10m\n",
      "acid-mypg-repl         ClusterIP      10.111.59.22    <none>          5432/TCP         11m\n",
      "kubernetes             ClusterIP      10.96.0.1       <none>          443/TCP          17h\n",
      "postgres-operator      ClusterIP      10.108.16.199   <none>          8080/TCP         25m\n",
      "postgres-operator-ui   ClusterIP      10.104.129.18   <none>          80/TCP           24m\n"
     ]
    }
   ],
   "source": [
    "kubectl get svc "
   ]
  },
  {
   "cell_type": "code",
   "execution_count": 25,
   "metadata": {
    "collapsed": true,
    "jupyter": {
     "outputs_hidden": true
    }
   },
   "outputs": [
    {
     "name": "stdout",
     "output_type": "stream",
     "text": [
      "{\n",
      "    \"apiVersion\": \"v1\",\n",
      "    \"kind\": \"Service\",\n",
      "    \"metadata\": {\n",
      "        \"creationTimestamp\": \"2021-01-28T08:39:46Z\",\n",
      "        \"labels\": {\n",
      "            \"application\": \"spilo\",\n",
      "            \"cluster-name\": \"acid-mypg\",\n",
      "            \"spilo-role\": \"replica\",\n",
      "            \"team\": \"acid\"\n",
      "        },\n",
      "        \"managedFields\": [\n",
      "            {\n",
      "                \"apiVersion\": \"v1\",\n",
      "                \"fieldsType\": \"FieldsV1\",\n",
      "                \"fieldsV1\": {\n",
      "                    \"f:metadata\": {\n",
      "                        \"f:labels\": {\n",
      "                            \".\": {},\n",
      "                            \"f:application\": {},\n",
      "                            \"f:cluster-name\": {},\n",
      "                            \"f:spilo-role\": {},\n",
      "                            \"f:team\": {}\n",
      "                        }\n",
      "                    },\n",
      "                    \"f:spec\": {\n",
      "                        \"f:ports\": {\n",
      "                            \".\": {},\n",
      "                            \"k:{\\\"port\\\":5432,\\\"protocol\\\":\\\"TCP\\\"}\": {\n",
      "                                \".\": {},\n",
      "                                \"f:name\": {},\n",
      "                                \"f:port\": {},\n",
      "                                \"f:protocol\": {},\n",
      "                                \"f:targetPort\": {}\n",
      "                            }\n",
      "                        },\n",
      "                        \"f:selector\": {\n",
      "                            \".\": {},\n",
      "                            \"f:application\": {},\n",
      "                            \"f:cluster-name\": {},\n",
      "                            \"f:spilo-role\": {}\n",
      "                        },\n",
      "                        \"f:sessionAffinity\": {},\n",
      "                        \"f:type\": {}\n",
      "                    }\n",
      "                },\n",
      "                \"manager\": \"postgres-operator\",\n",
      "                \"operation\": \"Update\",\n",
      "                \"time\": \"2021-01-28T08:39:46Z\"\n",
      "            }\n",
      "        ],\n",
      "        \"name\": \"acid-mypg-repl\",\n",
      "        \"namespace\": \"default\",\n",
      "        \"resourceVersion\": \"43737\",\n",
      "        \"uid\": \"fe4ae130-a246-49db-8ad6-980e02e0f193\"\n",
      "    },\n",
      "    \"spec\": {\n",
      "        \"clusterIP\": \"10.111.59.22\",\n",
      "        \"clusterIPs\": [\n",
      "            \"10.111.59.22\"\n",
      "        ],\n",
      "        \"ports\": [\n",
      "            {\n",
      "                \"name\": \"postgresql\",\n",
      "                \"port\": 5432,\n",
      "                \"protocol\": \"TCP\",\n",
      "                \"targetPort\": 5432\n",
      "            }\n",
      "        ],\n",
      "        \"selector\": {\n",
      "            \"application\": \"spilo\",\n",
      "            \"cluster-name\": \"acid-mypg\",\n",
      "            \"spilo-role\": \"replica\"\n",
      "        },\n",
      "        \"sessionAffinity\": \"None\",\n",
      "        \"type\": \"ClusterIP\"\n",
      "    },\n",
      "    \"status\": {\n",
      "        \"loadBalancer\": {}\n",
      "    }\n",
      "}\n"
     ]
    }
   ],
   "source": [
    "kubectl get service acid-mypg-repl -o json"
   ]
  },
  {
   "cell_type": "code",
   "execution_count": 28,
   "metadata": {},
   "outputs": [
    {
     "name": "stdout",
     "output_type": "stream",
     "text": [
      "10.111.59.22\n",
      "use\n",
      "PGPASSWORD=POO08lM2R3pph0M4bH2SzjgDkakiMuVexfju3ZrCzNJGRIlebcjIDXzJlq7U7jcN PGSSLMODE=require /usr/bin/psql -h 10.111.59.22 -U postgres\n",
      "to connect\n"
     ]
    }
   ],
   "source": [
    "export PGPASSWORD=$(kubectl get secret postgres.acid-mypg.credentials.postgresql.acid.zalan.do -o 'jsonpath={.data.password}' | base64 -d)\n",
    "export PGSSLMODE=require\n",
    "\n",
    "export PGHOST=$(kubectl get service acid-mypg-repl -o jsonpath='{.status.loadBalancer.ingress[0].ip}' )\n",
    "echo $PGHOST\n",
    "\n",
    "echo use\n",
    "PGCOMMAND=$(echo PGPASSWORD=$PGPASSWORD PGSSLMODE=$PGSSLMODE  /usr/bin/psql  -h $PGHOST -U postgres)\n",
    "echo $PGCOMMAND\n",
    "echo to connect"
   ]
  },
  {
   "cell_type": "code",
   "execution_count": 29,
   "metadata": {},
   "outputs": [
    {
     "name": "stdout",
     "output_type": "stream",
     "text": [
      "10.111.59.22"
     ]
    }
   ],
   "source": [
    "kubectl get service acid-mypg-repl -o jsonpath='{.status.loadBalancer.ingress[*].ip}'"
   ]
  },
  {
   "cell_type": "code",
   "execution_count": 30,
   "metadata": {},
   "outputs": [
    {
     "name": "stdout",
     "output_type": "stream",
     "text": [
      "NAME                                       READY   STATUS    RESTARTS   AGE\n",
      "pod/acid-mypg-0                            1/1     Running   0          13m\n",
      "pod/acid-mypg-1                            1/1     Running   0          12m\n",
      "pod/acid-mypg-2                            1/1     Running   0          12m\n",
      "pod/postgres-operator-6f656b6b8b-bznhl     1/1     Running   0          26m\n",
      "pod/postgres-operator-ui-9d658b84c-9qnsl   1/1     Running   0          26m\n",
      "pod/sleep-56bc8d768-qpvwt                  1/1     Running   0          17h\n",
      "\n",
      "NAME                           TYPE           CLUSTER-IP      EXTERNAL-IP     PORT(S)          AGE\n",
      "service/acid-mypg              LoadBalancer   10.108.191.69   10.108.191.69   5432:31792/TCP   13m\n",
      "service/acid-mypg-config       ClusterIP      None            <none>          <none>           12m\n",
      "service/acid-mypg-repl         LoadBalancer   10.111.59.22    10.111.59.22    5432:32083/TCP   13m\n",
      "service/kubernetes             ClusterIP      10.96.0.1       <none>          443/TCP          17h\n",
      "service/postgres-operator      ClusterIP      10.108.16.199   <none>          8080/TCP         26m\n",
      "service/postgres-operator-ui   ClusterIP      10.104.129.18   <none>          80/TCP           26m\n",
      "\n",
      "NAME                                   READY   UP-TO-DATE   AVAILABLE   AGE\n",
      "deployment.apps/postgres-operator      1/1     1            1           26m\n",
      "deployment.apps/postgres-operator-ui   1/1     1            1           26m\n",
      "deployment.apps/sleep                  1/1     1            1           17h\n",
      "\n",
      "NAME                                             DESIRED   CURRENT   READY   AGE\n",
      "replicaset.apps/postgres-operator-6f656b6b8b     1         1         1       26m\n",
      "replicaset.apps/postgres-operator-ui-9d658b84c   1         1         1       26m\n",
      "replicaset.apps/sleep-56bc8d768                  1         1         1       17h\n",
      "\n",
      "NAME                         READY   AGE\n",
      "statefulset.apps/acid-mypg   3/3     13m\n",
      "\n",
      "NAME                                 TEAM   VERSION   PODS   VOLUME   CPU-REQUEST   MEMORY-REQUEST   AGE   STATUS\n",
      "postgresql.acid.zalan.do/acid-mypg   acid   13        3      10Gi     100m          100Mi            13m   Running\n"
     ]
    }
   ],
   "source": [
    "kubectl get all"
   ]
  },
  {
   "cell_type": "code",
   "execution_count": 31,
   "metadata": {},
   "outputs": [
    {
     "name": "stdout",
     "output_type": "stream",
     "text": [
      "  datname  \n",
      "-----------\n",
      " postgres\n",
      " template1\n",
      " template0\n",
      "(3 rows)\n",
      "\n"
     ]
    }
   ],
   "source": [
    "kubectl exec -t  acid-mypg-0 -- /bin/bash -c \"$PGCOMMAND -c 'select datname FROM pg_database'\""
   ]
  },
  {
   "cell_type": "code",
   "execution_count": null,
   "metadata": {},
   "outputs": [],
   "source": [
    "kubectl get pods\n"
   ]
  },
  {
   "cell_type": "code",
   "execution_count": null,
   "metadata": {},
   "outputs": [],
   "source": [
    "kubectl logs acid-mypg-1 | grep  --color=always -E '$|leader'"
   ]
  },
  {
   "cell_type": "code",
   "execution_count": null,
   "metadata": {},
   "outputs": [],
   "source": [
    "kubectl delete pod acid-mypg-0"
   ]
  },
  {
   "cell_type": "code",
   "execution_count": null,
   "metadata": {},
   "outputs": [],
   "source": []
  }
 ],
 "metadata": {
  "kernelspec": {
   "display_name": "Bash",
   "language": "bash",
   "name": "bash"
  },
  "language_info": {
   "codemirror_mode": "shell",
   "file_extension": ".sh",
   "mimetype": "text/x-sh",
   "name": "bash"
  }
 },
 "nbformat": 4,
 "nbformat_minor": 5
}
