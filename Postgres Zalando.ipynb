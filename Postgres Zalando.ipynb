{
 "cells": [
  {
   "cell_type": "markdown",
   "id": "a3af0370",
   "metadata": {},
   "source": [
    "**This notebook covered by the following [license](License.ipynb)  This note must not be removed**"
   ]
  },
  {
   "cell_type": "markdown",
   "id": "10720040",
   "metadata": {},
   "source": [
    "# The Postgres Operator by Zalando\n",
    "\n",
    "see https://github.com/zalando/postgres-operator"
   ]
  },
  {
   "cell_type": "code",
   "execution_count": 1,
   "id": "75ea1143",
   "metadata": {},
   "outputs": [
    {
     "name": "stdout",
     "output_type": "stream",
     "text": [
      "/minikube-host/notebooks/training-kubernetes-security\n"
     ]
    }
   ],
   "source": [
    "pwd"
   ]
  },
  {
   "cell_type": "code",
   "execution_count": 3,
   "id": "ca427341",
   "metadata": {},
   "outputs": [
    {
     "name": "stdout",
     "output_type": "stream",
     "text": [
      "Cloning into 'postgres-operator'...\n",
      "remote: Enumerating objects: 22926, done.        \n",
      "remote: Counting objects: 100% (50/50), done.        \n",
      "remote: Compressing objects: 100% (40/40), done.        \n",
      "remote: Total 22926 (delta 16), reused 23 (delta 8), pack-reused 22876        \n",
      "Receiving objects: 100% (22926/22926), 8.58 MiB | 151.00 KiB/s, done.\n",
      "Resolving deltas: 100% (16424/16424), done.\n"
     ]
    }
   ],
   "source": [
    "git clone https://github.com/zalando/postgres-operator.git"
   ]
  },
  {
   "cell_type": "code",
   "execution_count": 4,
   "id": "d6e91001",
   "metadata": {},
   "outputs": [
    {
     "name": "stdout",
     "output_type": "stream",
     "text": [
      "/minikube-host/notebooks/training-kubernetes-security\n"
     ]
    }
   ],
   "source": [
    "pwd"
   ]
  },
  {
   "cell_type": "code",
   "execution_count": 5,
   "id": "2b40edf1-a95e-4511-bf09-513c6db395e9",
   "metadata": {},
   "outputs": [],
   "source": [
    "cd postgres-operator"
   ]
  },
  {
   "cell_type": "code",
   "execution_count": null,
   "id": "82fceedd",
   "metadata": {},
   "outputs": [
    {
     "name": "stdout",
     "output_type": "stream",
     "text": [
      "configmap/postgres-operator created\n",
      "serviceaccount/postgres-operator created\n",
      "clusterrole.rbac.authorization.k8s.io/postgres-operator created\n",
      "clusterrolebinding.rbac.authorization.k8s.io/postgres-operator created\n",
      "clusterrole.rbac.authorization.k8s.io/postgres-pod created\n",
      "deployment.apps/postgres-operator created\n",
      "service/postgres-operator created\n"
     ]
    }
   ],
   "source": [
    "kubectl apply -f manifests/configmap.yaml  # configuration\n",
    "kubectl apply -f manifests/operator-service-account-rbac.yaml  # identity and permissions\n",
    "kubectl apply -f manifests/postgres-operator.yaml  # deployment\n",
    "kubectl apply -f manifests/api-service.yaml  # operator API to be used by UI"
   ]
  },
  {
   "cell_type": "code",
   "execution_count": null,
   "id": "c114202c",
   "metadata": {},
   "outputs": [
    {
     "name": "stdout",
     "output_type": "stream",
     "text": [
      "Error: INSTALLATION FAILED: rendered manifests contain a resource that already exists. Unable to continue with install: ServiceAccount \"postgres-operator\" in namespace \"default\" exists and cannot be imported into the current release: invalid ownership metadata; label validation error: missing key \"app.kubernetes.io/managed-by\": must be set to \"Helm\"; annotation validation error: missing key \"meta.helm.sh/release-name\": must be set to \"postgres-operator\"; annotation validation error: missing key \"meta.helm.sh/release-namespace\": must be set to \"default\"\n"
     ]
    },
    {
     "ename": "",
     "evalue": "1",
     "output_type": "error",
     "traceback": []
    }
   ],
   "source": [
    "helm install postgres-operator ./charts/postgres-operator"
   ]
  },
  {
   "cell_type": "code",
   "execution_count": 11,
   "id": "e9676de2",
   "metadata": {},
   "outputs": [
    {
     "name": "stdout",
     "output_type": "stream",
     "text": [
      "No resources found in default namespace.\n"
     ]
    }
   ],
   "source": [
    "kubectl --namespace=default get pods -l \"app.kubernetes.io/name=postgres-operator\"\n"
   ]
  },
  {
   "cell_type": "code",
   "execution_count": 17,
   "id": "83e653a3",
   "metadata": {},
   "outputs": [
    {
     "name": "stdout",
     "output_type": "stream",
     "text": [
      "NAMESPACE     NAME                                       READY   STATUS    RESTARTS       AGE\n",
      "default       acid-mypg-0                                1/1     Running   0              70s\n",
      "default       acid-mypg-1                                1/1     Running   0              11s\n",
      "default       acid-mypg-2                                1/1     Running   0              6s\n",
      "default       postgres-operator-569b58b8c6-lh29h         1/1     Running   0              17m\n",
      "default       postgres-operator-ui-58644cfcff-f6bd7      1/1     Running   0              9m5s\n",
      "default       sleep-56bc8d768-w8dzz                      1/1     Running   0              151m\n",
      "kube-system   calico-kube-controllers-58497c65d5-lptb7   1/1     Running   0              156m\n",
      "kube-system   calico-node-424xg                          1/1     Running   0              156m\n",
      "kube-system   coredns-78fcd69978-cvtqr                   1/1     Running   0              156m\n",
      "kube-system   etcd-minikube                              1/1     Running   0              156m\n",
      "kube-system   kube-apiserver-minikube                    1/1     Running   0              156m\n",
      "kube-system   kube-controller-manager-minikube           1/1     Running   0              156m\n",
      "kube-system   kube-proxy-6gdfl                           1/1     Running   0              156m\n",
      "kube-system   kube-scheduler-minikube                    1/1     Running   0              156m\n",
      "kube-system   storage-provisioner                        1/1     Running   1 (156m ago)   156m\n"
     ]
    }
   ],
   "source": [
    "kubectl get pods -A"
   ]
  },
  {
   "cell_type": "code",
   "execution_count": 18,
   "id": "92599040-220e-44c8-b602-69ae331df6bb",
   "metadata": {},
   "outputs": [
    {
     "name": "stdout",
     "output_type": "stream",
     "text": [
      "NAME                                        READY   STATUS    RESTARTS   AGE\n",
      "pod/acid-mypg-0                             1/1     Running   0          98s\n",
      "pod/acid-mypg-1                             1/1     Running   0          39s\n",
      "pod/acid-mypg-2                             1/1     Running   0          34s\n",
      "pod/postgres-operator-569b58b8c6-lh29h      1/1     Running   0          18m\n",
      "pod/postgres-operator-ui-58644cfcff-f6bd7   1/1     Running   0          9m33s\n",
      "pod/sleep-56bc8d768-w8dzz                   1/1     Running   0          151m\n",
      "\n",
      "NAME                           TYPE        CLUSTER-IP      EXTERNAL-IP   PORT(S)    AGE\n",
      "service/acid-mypg              ClusterIP   10.104.67.51    <none>        5432/TCP   98s\n",
      "service/acid-mypg-config       ClusterIP   None            <none>        <none>     34s\n",
      "service/acid-mypg-repl         ClusterIP   10.109.52.123   <none>        5432/TCP   98s\n",
      "service/kubernetes             ClusterIP   10.96.0.1       <none>        443/TCP    157m\n",
      "service/postgres-operator      ClusterIP   10.96.176.129   <none>        8080/TCP   18m\n",
      "service/postgres-operator-ui   ClusterIP   10.106.192.74   <none>        80/TCP     9m33s\n",
      "\n",
      "NAME                                   READY   UP-TO-DATE   AVAILABLE   AGE\n",
      "deployment.apps/postgres-operator      1/1     1            1           18m\n",
      "deployment.apps/postgres-operator-ui   1/1     1            1           9m34s\n",
      "deployment.apps/sleep                  1/1     1            1           151m\n",
      "\n",
      "NAME                                              DESIRED   CURRENT   READY   AGE\n",
      "replicaset.apps/postgres-operator-569b58b8c6      1         1         1       18m\n",
      "replicaset.apps/postgres-operator-ui-58644cfcff   1         1         1       9m34s\n",
      "replicaset.apps/sleep-56bc8d768                   1         1         1       151m\n",
      "\n",
      "NAME                         READY   AGE\n",
      "statefulset.apps/acid-mypg   3/3     99s\n",
      "\n",
      "NAME                                 TEAM   VERSION   PODS   VOLUME   CPU-REQUEST   MEMORY-REQUEST   AGE    STATUS\n",
      "postgresql.acid.zalan.do/acid-mypg   acid   14        3      1Gi      100m          100Mi            100s   Running\n"
     ]
    }
   ],
   "source": [
    "kubectl get all"
   ]
  },
  {
   "cell_type": "code",
   "execution_count": 12,
   "id": "1de536bf",
   "metadata": {},
   "outputs": [
    {
     "name": "stdout",
     "output_type": "stream",
     "text": [
      "NAME: postgres-operator-ui\n",
      "LAST DEPLOYED: Thu Dec 16 11:07:29 2021\n",
      "NAMESPACE: default\n",
      "STATUS: deployed\n",
      "REVISION: 1\n",
      "TEST SUITE: None\n",
      "NOTES:\n",
      "To verify that postgres-operator has started, run:\n",
      "\n",
      "  kubectl --namespace=default get pods -l \"app.kubernetes.io/name=postgres-operator-ui\"\n"
     ]
    }
   ],
   "source": [
    "helm install postgres-operator-ui ./charts/postgres-operator-ui"
   ]
  },
  {
   "cell_type": "code",
   "execution_count": 13,
   "id": "a31fb434",
   "metadata": {},
   "outputs": [
    {
     "name": "stdout",
     "output_type": "stream",
     "text": [
      "NAME                                    READY   STATUS              RESTARTS   AGE\n",
      "postgres-operator-ui-58644cfcff-f6bd7   0/1     ContainerCreating   0          8s\n"
     ]
    }
   ],
   "source": [
    "kubectl --namespace=default get pods -l \"app.kubernetes.io/name=postgres-operator-ui\""
   ]
  },
  {
   "cell_type": "code",
   "execution_count": 14,
   "id": "26b9d022",
   "metadata": {},
   "outputs": [
    {
     "name": "stdout",
     "output_type": "stream",
     "text": [
      "Forwarding from 127.0.0.1:8081 -> 8081\n"
     ]
    }
   ],
   "source": [
    "kubectl port-forward svc/postgres-operator-ui 8081:80"
   ]
  },
  {
   "cell_type": "code",
   "execution_count": 16,
   "id": "4905a7e9",
   "metadata": {},
   "outputs": [
    {
     "name": "stdout",
     "output_type": "stream",
     "text": [
      "NAME                                        READY   STATUS    RESTARTS   AGE\n",
      "pod/postgres-operator-569b58b8c6-lh29h      1/1     Running   0          13m\n",
      "pod/postgres-operator-ui-58644cfcff-f6bd7   1/1     Running   0          4m28s\n",
      "pod/sleep-56bc8d768-w8dzz                   1/1     Running   0          146m\n",
      "\n",
      "NAME                           TYPE        CLUSTER-IP      EXTERNAL-IP   PORT(S)    AGE\n",
      "service/kubernetes             ClusterIP   10.96.0.1       <none>        443/TCP    152m\n",
      "service/postgres-operator      ClusterIP   10.96.176.129   <none>        8080/TCP   13m\n",
      "service/postgres-operator-ui   ClusterIP   10.106.192.74   <none>        80/TCP     4m28s\n",
      "\n",
      "NAME                                   READY   UP-TO-DATE   AVAILABLE   AGE\n",
      "deployment.apps/postgres-operator      1/1     1            1           13m\n",
      "deployment.apps/postgres-operator-ui   1/1     1            1           4m28s\n",
      "deployment.apps/sleep                  1/1     1            1           146m\n",
      "\n",
      "NAME                                              DESIRED   CURRENT   READY   AGE\n",
      "replicaset.apps/postgres-operator-569b58b8c6      1         1         1       13m\n",
      "replicaset.apps/postgres-operator-ui-58644cfcff   1         1         1       4m28s\n",
      "replicaset.apps/sleep-56bc8d768                   1         1         1       146m\n"
     ]
    }
   ],
   "source": [
    "kubectl get all"
   ]
  },
  {
   "cell_type": "markdown",
   "id": "d1058488",
   "metadata": {},
   "source": [
    "# In a separate terminal\n",
    "\n",
    "`kubectl port-forward --address $(hostname -i) svc/postgres-operator-ui 8081:80`"
   ]
  },
  {
   "cell_type": "code",
   "execution_count": 19,
   "id": "6067ccc4",
   "metadata": {},
   "outputs": [
    {
     "name": "stdout",
     "output_type": "stream",
     "text": [
      "NAME                                                      TYPE                                  DATA   AGE\n",
      "default-token-mfn9q                                       kubernetes.io/service-account-token   3      158m\n",
      "postgres-operator-token-49lwq                             kubernetes.io/service-account-token   3      20m\n",
      "postgres-operator-ui-token-bjvvq                          kubernetes.io/service-account-token   3      11m\n",
      "postgres-pod-token-mtmxw                                  kubernetes.io/service-account-token   3      3m27s\n",
      "postgres.acid-mypg.credentials.postgresql.acid.zalan.do   Opaque                                2      3m27s\n",
      "sh.helm.release.v1.postgres-operator-ui.v1                helm.sh/release.v1                    1      11m\n",
      "standby.acid-mypg.credentials.postgresql.acid.zalan.do    Opaque                                2      3m27s\n"
     ]
    }
   ],
   "source": [
    "kubectl get secret"
   ]
  },
  {
   "cell_type": "code",
   "execution_count": 20,
   "id": "6165ce6e",
   "metadata": {},
   "outputs": [
    {
     "name": "stdout",
     "output_type": "stream",
     "text": [
      "NAME                   TYPE        CLUSTER-IP      EXTERNAL-IP   PORT(S)    AGE\n",
      "acid-mypg              ClusterIP   10.104.67.51    <none>        5432/TCP   4m7s\n",
      "acid-mypg-config       ClusterIP   None            <none>        <none>     3m3s\n",
      "acid-mypg-repl         ClusterIP   10.109.52.123   <none>        5432/TCP   4m7s\n",
      "kubernetes             ClusterIP   10.96.0.1       <none>        443/TCP    159m\n",
      "postgres-operator      ClusterIP   10.96.176.129   <none>        8080/TCP   20m\n",
      "postgres-operator-ui   ClusterIP   10.106.192.74   <none>        80/TCP     12m\n"
     ]
    }
   ],
   "source": [
    "kubectl get svc "
   ]
  },
  {
   "cell_type": "code",
   "execution_count": 21,
   "id": "4f2e7698",
   "metadata": {
    "tags": []
   },
   "outputs": [
    {
     "name": "stdout",
     "output_type": "stream",
     "text": [
      "apiVersion: v1\n",
      "kind: Service\n",
      "metadata:\n",
      "  creationTimestamp: \"2021-12-16T11:15:24Z\"\n",
      "  labels:\n",
      "    application: spilo\n",
      "    cluster-name: acid-mypg\n",
      "    spilo-role: replica\n",
      "    team: acid\n",
      "  name: acid-mypg-repl\n",
      "  namespace: default\n",
      "  resourceVersion: \"7276\"\n",
      "  uid: 101c0e53-a60a-4b0e-8147-de8259574dee\n",
      "spec:\n",
      "  clusterIP: 10.109.52.123\n",
      "  clusterIPs:\n",
      "  - 10.109.52.123\n",
      "  internalTrafficPolicy: Cluster\n",
      "  ipFamilies:\n",
      "  - IPv4\n",
      "  ipFamilyPolicy: SingleStack\n",
      "  ports:\n",
      "  - name: postgresql\n",
      "    port: 5432\n",
      "    protocol: TCP\n",
      "    targetPort: 5432\n",
      "  selector:\n",
      "    application: spilo\n",
      "    cluster-name: acid-mypg\n",
      "    spilo-role: replica\n",
      "  sessionAffinity: None\n",
      "  type: ClusterIP\n",
      "status:\n",
      "  loadBalancer: {}\n"
     ]
    }
   ],
   "source": [
    "kubectl get service acid-mypg-repl -o yaml"
   ]
  },
  {
   "cell_type": "code",
   "execution_count": 22,
   "id": "45526f1f",
   "metadata": {},
   "outputs": [
    {
     "name": "stdout",
     "output_type": "stream",
     "text": [
      "acid-mypg-repl\n",
      "use\n",
      "PGPASSWORD=Pf7tcmfSercbnpddgmYU49JUOjIYyQbwoA0XwHIrC9d718tZaqYdh658dtyxq9YO PGSSLMODE=require /usr/bin/psql -h acid-mypg-repl -U postgres\n",
      "to connect\n"
     ]
    }
   ],
   "source": [
    "export PGPASSWORD=$(kubectl get secret postgres.acid-mypg.credentials.postgresql.acid.zalan.do -o 'jsonpath={.data.password}' | base64 -d)\n",
    "export PGSSLMODE=require\n",
    "\n",
    "export PGHOST=acid-mypg-repl\n",
    "#$(kubectl get service acid-mypg-repl -o jsonpath='{.status.loadBalancer.ingress[0].ip}' )\n",
    "echo $PGHOST\n",
    "\n",
    "echo use\n",
    "PGCOMMAND=$(echo PGPASSWORD=$PGPASSWORD PGSSLMODE=$PGSSLMODE  /usr/bin/psql  -h $PGHOST -U postgres)\n",
    "echo $PGCOMMAND\n",
    "echo to connect"
   ]
  },
  {
   "cell_type": "code",
   "execution_count": 24,
   "id": "e3caa19c",
   "metadata": {},
   "outputs": [],
   "source": [
    "kubectl get service acid-mypg-repl -o jsonpath='{.status.loadBalancer.ingress[*].ip}'"
   ]
  },
  {
   "cell_type": "code",
   "execution_count": 25,
   "id": "0162a4c4",
   "metadata": {},
   "outputs": [
    {
     "name": "stdout",
     "output_type": "stream",
     "text": [
      "NAME                                        READY   STATUS    RESTARTS   AGE\n",
      "pod/acid-mypg-0                             1/1     Running   0          7m2s\n",
      "pod/acid-mypg-1                             1/1     Running   0          6m3s\n",
      "pod/acid-mypg-2                             1/1     Running   0          5m58s\n",
      "pod/postgres-operator-569b58b8c6-lh29h      1/1     Running   0          23m\n",
      "pod/postgres-operator-ui-58644cfcff-f6bd7   1/1     Running   0          14m\n",
      "pod/sleep-56bc8d768-w8dzz                   1/1     Running   0          157m\n",
      "\n",
      "NAME                           TYPE        CLUSTER-IP      EXTERNAL-IP   PORT(S)    AGE\n",
      "service/acid-mypg              ClusterIP   10.104.67.51    <none>        5432/TCP   7m2s\n",
      "service/acid-mypg-config       ClusterIP   None            <none>        <none>     5m58s\n",
      "service/acid-mypg-repl         ClusterIP   10.109.52.123   <none>        5432/TCP   7m2s\n",
      "service/kubernetes             ClusterIP   10.96.0.1       <none>        443/TCP    162m\n",
      "service/postgres-operator      ClusterIP   10.96.176.129   <none>        8080/TCP   23m\n",
      "service/postgres-operator-ui   ClusterIP   10.106.192.74   <none>        80/TCP     14m\n",
      "\n",
      "NAME                                   READY   UP-TO-DATE   AVAILABLE   AGE\n",
      "deployment.apps/postgres-operator      1/1     1            1           23m\n",
      "deployment.apps/postgres-operator-ui   1/1     1            1           14m\n",
      "deployment.apps/sleep                  1/1     1            1           157m\n",
      "\n",
      "NAME                                              DESIRED   CURRENT   READY   AGE\n",
      "replicaset.apps/postgres-operator-569b58b8c6      1         1         1       23m\n",
      "replicaset.apps/postgres-operator-ui-58644cfcff   1         1         1       14m\n",
      "replicaset.apps/sleep-56bc8d768                   1         1         1       157m\n",
      "\n",
      "NAME                         READY   AGE\n",
      "statefulset.apps/acid-mypg   3/3     7m2s\n",
      "\n",
      "NAME                                 TEAM   VERSION   PODS   VOLUME   CPU-REQUEST   MEMORY-REQUEST   AGE    STATUS\n",
      "postgresql.acid.zalan.do/acid-mypg   acid   14        3      1Gi      100m          100Mi            7m4s   Running\n"
     ]
    }
   ],
   "source": [
    "kubectl get all"
   ]
  },
  {
   "cell_type": "code",
   "execution_count": null,
   "id": "c92b4cf3-fff1-4ef9-b7ad-d851e0565902",
   "metadata": {},
   "outputs": [],
   "source": [
    "kubectl get service acid-mypg-repl -o jsonpath='{.status.loadBalancer.ingress[0].ip}'"
   ]
  },
  {
   "cell_type": "code",
   "execution_count": 26,
   "id": "819ee746-7e56-4a50-b265-67ee59004189",
   "metadata": {},
   "outputs": [
    {
     "name": "stdout",
     "output_type": "stream",
     "text": [
      "apiVersion: v1\n",
      "kind: Service\n",
      "metadata:\n",
      "  creationTimestamp: \"2021-12-16T11:15:24Z\"\n",
      "  labels:\n",
      "    application: spilo\n",
      "    cluster-name: acid-mypg\n",
      "    spilo-role: replica\n",
      "    team: acid\n",
      "  name: acid-mypg-repl\n",
      "  namespace: default\n",
      "  resourceVersion: \"7276\"\n",
      "  uid: 101c0e53-a60a-4b0e-8147-de8259574dee\n",
      "spec:\n",
      "  clusterIP: 10.109.52.123\n",
      "  clusterIPs:\n",
      "  - 10.109.52.123\n",
      "  internalTrafficPolicy: Cluster\n",
      "  ipFamilies:\n",
      "  - IPv4\n",
      "  ipFamilyPolicy: SingleStack\n",
      "  ports:\n",
      "  - name: postgresql\n",
      "    port: 5432\n",
      "    protocol: TCP\n",
      "    targetPort: 5432\n",
      "  selector:\n",
      "    application: spilo\n",
      "    cluster-name: acid-mypg\n",
      "    spilo-role: replica\n",
      "  sessionAffinity: None\n",
      "  type: ClusterIP\n",
      "status:\n",
      "  loadBalancer: {}\n"
     ]
    }
   ],
   "source": [
    "kubectl get service acid-mypg-repl -o yaml"
   ]
  },
  {
   "cell_type": "code",
   "execution_count": 27,
   "id": "c3eaeec6-6eba-4477-85a0-3278d58b8aea",
   "metadata": {},
   "outputs": [
    {
     "name": "stdout",
     "output_type": "stream",
     "text": [
      "PGPASSWORD=Pf7tcmfSercbnpddgmYU49JUOjIYyQbwoA0XwHIrC9d718tZaqYdh658dtyxq9YO PGSSLMODE=require /usr/bin/psql -h acid-mypg-repl -U postgres\n"
     ]
    }
   ],
   "source": [
    "echo $PGCOMMAND"
   ]
  },
  {
   "cell_type": "code",
   "execution_count": 28,
   "id": "1796632d",
   "metadata": {},
   "outputs": [
    {
     "name": "stdout",
     "output_type": "stream",
     "text": [
      "  datname  \n",
      "-----------\n",
      " postgres\n",
      " template1\n",
      " template0\n",
      "(3 rows)\n",
      "\n"
     ]
    }
   ],
   "source": [
    "kubectl exec -t  acid-mypg-0 -- /bin/bash -c \"$PGCOMMAND -c 'select datname FROM pg_database'\""
   ]
  },
  {
   "cell_type": "code",
   "execution_count": 34,
   "id": "636f39ae",
   "metadata": {},
   "outputs": [
    {
     "name": "stdout",
     "output_type": "stream",
     "text": [
      "NAME                                    READY   STATUS    RESTARTS   AGE\n",
      "acid-mypg-0                             1/1     Running   0          5s\n",
      "acid-mypg-1                             1/1     Running   0          9m8s\n",
      "acid-mypg-2                             1/1     Running   0          9m3s\n",
      "postgres-operator-569b58b8c6-lh29h      1/1     Running   0          26m\n",
      "postgres-operator-ui-58644cfcff-f6bd7   1/1     Running   0          18m\n",
      "sleep-56bc8d768-w8dzz                   1/1     Running   0          160m\n"
     ]
    }
   ],
   "source": [
    "kubectl get pods\n"
   ]
  },
  {
   "cell_type": "code",
   "execution_count": 36,
   "id": "a867f550",
   "metadata": {},
   "outputs": [
    {
     "name": "stdout",
     "output_type": "stream",
     "text": [
      "2021-12-16 11:16:28,193 - bootstrapping - INFO - Figuring out my environment (Google? AWS? Openstack? Local?)\n",
      "2021-12-16 11:16:30,221 - bootstrapping - INFO - Could not connect to 169.254.169.254, assuming local Docker setup\n",
      "2021-12-16 11:16:30,224 - bootstrapping - INFO - No meta-data available for this provider\n",
      "2021-12-16 11:16:30,225 - bootstrapping - INFO - Looks like your running local\n",
      "2021-12-16 11:16:30,375 - bootstrapping - INFO - Configuring crontab\n",
      "2021-12-16 11:16:30,376 - bootstrapping - INFO - Skipping creation of renice cron job due to lack of SYS_NICE capability\n",
      "2021-12-16 11:16:30,376 - bootstrapping - INFO - Configuring pgqd\n",
      "2021-12-16 11:16:30,377 - bootstrapping - INFO - Configuring wal-e\n",
      "2021-12-16 11:16:30,377 - bootstrapping - INFO - Configuring bootstrap\n",
      "2021-12-16 11:16:30,377 - bootstrapping - INFO - Configuring log\n",
      "2021-12-16 11:16:30,377 - bootstrapping - INFO - Configuring standby-cluster\n",
      "2021-12-16 11:16:30,377 - bootstrapping - INFO - Configuring pam-oauth2\n",
      "2021-12-16 11:16:30,378 - bootstrapping - INFO - Writing to file /etc/pam.d/postgresql\n",
      "2021-12-16 11:16:30,378 - bootstrapping - INFO - Configuring pgbouncer\n",
      "2021-12-16 11:16:30,378 - bootstrapping - INFO - No PGBOUNCER_CONFIGURATION was specified, skipping\n",
      "2021-12-16 11:16:30,378 - bootstrapping - INFO - Configuring patroni\n",
      "2021-12-16 11:16:30,409 - bootstrapping - INFO - Writing to file /run/postgres.yml\n",
      "2021-12-16 11:16:30,412 - bootstrapping - INFO - Configuring certificate\n",
      "2021-12-16 11:16:30,412 - bootstrapping - INFO - Generating ssl self-signed certificate\n",
      "2021-12-16 11:16:32,604 INFO: Selected new K8s API server endpoint https://192.168.49.2:8443\n",
      "2021-12-16 11:16:32,695 INFO: No PostgreSQL configuration items changed, nothing to reload.\n",
      "2021-12-16 11:16:32,724 INFO: Lock owner: None; I am acid-mypg-1\n",
      "2021-12-16 11:16:32,781 INFO: waiting for \u001b[01;31m\u001b[Kleader\u001b[m\u001b[K to bootstrap\n",
      "2021-12-16 11:16:35,481 INFO: Lock owner: acid-mypg-0; I am acid-mypg-1\n",
      "2021-12-16 11:16:35,482 INFO: trying to bootstrap from \u001b[01;31m\u001b[Kleader\u001b[m\u001b[K 'acid-mypg-0'\n",
      "2021-12-16 11:16:35,616 INFO: Lock owner: acid-mypg-0; I am acid-mypg-1\n",
      "2021-12-16 11:16:35,721 INFO: bootstrap from \u001b[01;31m\u001b[Kleader\u001b[m\u001b[K 'acid-mypg-0' in progress\n",
      "2021-12-16 11:16:36,020 INFO: Lock owner: acid-mypg-0; I am acid-mypg-1\n",
      "2021-12-16 11:16:36,021 INFO: bootstrap from \u001b[01;31m\u001b[Kleader\u001b[m\u001b[K 'acid-mypg-0' in progress\n",
      "1024+0 records in\n",
      "1024+0 records out\n",
      "16777216 bytes (17 MB, 16 MiB) copied, 0.0758395 s, 221 MB/s\n",
      "NOTICE:  all required WAL segments have been archived\n",
      "2021-12-16 11:16:37,871 INFO: replica has been created using basebackup_fast_xlog\n",
      "2021-12-16 11:16:37,875 INFO: bootstrapped from \u001b[01;31m\u001b[Kleader\u001b[m\u001b[K 'acid-mypg-0'\n",
      "2021-12-16 11:16:38 UTC [81]: [1-1] 61bb2016.51 0     LOG:  Auto detecting pg_stat_kcache.linux_hz parameter...\n",
      "2021-12-16 11:16:38 UTC [81]: [2-1] 61bb2016.51 0     LOG:  pg_stat_kcache.linux_hz is set to 500000\n",
      "2021-12-16 11:16:38,854 INFO: postmaster pid=81\n",
      "2021-12-16 11:16:38 UTC [81]: [3-1] 61bb2016.51 0     LOG:  redirecting log output to logging collector process\n",
      "2021-12-16 11:16:38 UTC [81]: [4-1] 61bb2016.51 0     HINT:  Future log output will appear in directory \"../pg_log\".\n",
      "/var/run/postgresql:5432 - no response\n",
      "/var/run/postgresql:5432 - accepting connections\n",
      "/var/run/postgresql:5432 - accepting connections\n",
      "2021-12-16 11:16:39,984 INFO: Lock owner: acid-mypg-0; I am acid-mypg-1\n",
      "2021-12-16 11:16:39,985 INFO: establishing a new patroni connection to the postgres cluster\n",
      "2021-12-16 11:16:40,090 INFO: no action. I am a secondary (acid-mypg-1) and following a \u001b[01;31m\u001b[Kleader\u001b[m\u001b[K (acid-mypg-0)\n",
      "2021-12-16 11:16:46,764 INFO: no action. I am a secondary (acid-mypg-1) and following a \u001b[01;31m\u001b[Kleader\u001b[m\u001b[K (acid-mypg-0)\n",
      "2021-12-16 11:16:56,691 INFO: no action. I am a secondary (acid-mypg-1) and following a \u001b[01;31m\u001b[Kleader\u001b[m\u001b[K (acid-mypg-0)\n",
      "2021-12-16 11:17:06,632 INFO: no action. I am a secondary (acid-mypg-1) and following a \u001b[01;31m\u001b[Kleader\u001b[m\u001b[K (acid-mypg-0)\n",
      "2021-12-16 11:17:16,564 INFO: no action. I am a secondary (acid-mypg-1) and following a \u001b[01;31m\u001b[Kleader\u001b[m\u001b[K (acid-mypg-0)\n",
      "2021-12-16 11:17:26,533 INFO: no action. I am a secondary (acid-mypg-1) and following a \u001b[01;31m\u001b[Kleader\u001b[m\u001b[K (acid-mypg-0)\n",
      "2021-12-16 11:17:36,621 INFO: no action. I am a secondary (acid-mypg-1) and following a \u001b[01;31m\u001b[Kleader\u001b[m\u001b[K (acid-mypg-0)\n",
      "2021-12-16 11:17:46,670 INFO: no action. I am a secondary (acid-mypg-1) and following a \u001b[01;31m\u001b[Kleader\u001b[m\u001b[K (acid-mypg-0)\n",
      "2021-12-16 11:17:56,551 INFO: no action. I am a secondary (acid-mypg-1) and following a \u001b[01;31m\u001b[Kleader\u001b[m\u001b[K (acid-mypg-0)\n",
      "2021-12-16 11:18:06,667 INFO: no action. I am a secondary (acid-mypg-1) and following a \u001b[01;31m\u001b[Kleader\u001b[m\u001b[K (acid-mypg-0)\n",
      "2021-12-16 11:18:16,577 INFO: no action. I am a secondary (acid-mypg-1) and following a \u001b[01;31m\u001b[Kleader\u001b[m\u001b[K (acid-mypg-0)\n",
      "2021-12-16 11:18:26,538 INFO: no action. I am a secondary (acid-mypg-1) and following a \u001b[01;31m\u001b[Kleader\u001b[m\u001b[K (acid-mypg-0)\n",
      "2021-12-16 11:18:36,653 INFO: no action. I am a secondary (acid-mypg-1) and following a \u001b[01;31m\u001b[Kleader\u001b[m\u001b[K (acid-mypg-0)\n",
      "2021-12-16 11:18:46,606 INFO: no action. I am a secondary (acid-mypg-1) and following a \u001b[01;31m\u001b[Kleader\u001b[m\u001b[K (acid-mypg-0)\n",
      "2021-12-16 11:18:56,650 INFO: no action. I am a secondary (acid-mypg-1) and following a \u001b[01;31m\u001b[Kleader\u001b[m\u001b[K (acid-mypg-0)\n",
      "2021-12-16 11:19:06,548 INFO: no action. I am a secondary (acid-mypg-1) and following a \u001b[01;31m\u001b[Kleader\u001b[m\u001b[K (acid-mypg-0)\n",
      "2021-12-16 11:19:16,579 INFO: no action. I am a secondary (acid-mypg-1) and following a \u001b[01;31m\u001b[Kleader\u001b[m\u001b[K (acid-mypg-0)\n",
      "2021-12-16 11:19:26,556 INFO: no action. I am a secondary (acid-mypg-1) and following a \u001b[01;31m\u001b[Kleader\u001b[m\u001b[K (acid-mypg-0)\n",
      "2021-12-16 11:19:36,580 INFO: no action. I am a secondary (acid-mypg-1) and following a \u001b[01;31m\u001b[Kleader\u001b[m\u001b[K (acid-mypg-0)\n",
      "2021-12-16 11:19:46,542 INFO: no action. I am a secondary (acid-mypg-1) and following a \u001b[01;31m\u001b[Kleader\u001b[m\u001b[K (acid-mypg-0)\n",
      "2021-12-16 11:19:56,588 INFO: no action. I am a secondary (acid-mypg-1) and following a \u001b[01;31m\u001b[Kleader\u001b[m\u001b[K (acid-mypg-0)\n",
      "2021-12-16 11:20:06,531 INFO: no action. I am a secondary (acid-mypg-1) and following a \u001b[01;31m\u001b[Kleader\u001b[m\u001b[K (acid-mypg-0)\n",
      "2021-12-16 11:20:16,570 INFO: no action. I am a secondary (acid-mypg-1) and following a \u001b[01;31m\u001b[Kleader\u001b[m\u001b[K (acid-mypg-0)\n",
      "2021-12-16 11:20:26,530 INFO: no action. I am a secondary (acid-mypg-1) and following a \u001b[01;31m\u001b[Kleader\u001b[m\u001b[K (acid-mypg-0)\n",
      "2021-12-16 11:20:36,578 INFO: no action. I am a secondary (acid-mypg-1) and following a \u001b[01;31m\u001b[Kleader\u001b[m\u001b[K (acid-mypg-0)\n",
      "2021-12-16 11:20:46,542 INFO: no action. I am a secondary (acid-mypg-1) and following a \u001b[01;31m\u001b[Kleader\u001b[m\u001b[K (acid-mypg-0)\n",
      "2021-12-16 11:20:56,570 INFO: no action. I am a secondary (acid-mypg-1) and following a \u001b[01;31m\u001b[Kleader\u001b[m\u001b[K (acid-mypg-0)\n",
      "2021-12-16 11:21:06,547 INFO: no action. I am a secondary (acid-mypg-1) and following a \u001b[01;31m\u001b[Kleader\u001b[m\u001b[K (acid-mypg-0)\n",
      "2021-12-16 11:21:16,569 INFO: no action. I am a secondary (acid-mypg-1) and following a \u001b[01;31m\u001b[Kleader\u001b[m\u001b[K (acid-mypg-0)\n",
      "2021-12-16 11:21:26,552 INFO: no action. I am a secondary (acid-mypg-1) and following a \u001b[01;31m\u001b[Kleader\u001b[m\u001b[K (acid-mypg-0)\n",
      "2021-12-16 11:21:36,571 INFO: no action. I am a secondary (acid-mypg-1) and following a \u001b[01;31m\u001b[Kleader\u001b[m\u001b[K (acid-mypg-0)\n",
      "2021-12-16 11:21:46,704 INFO: no action. I am a secondary (acid-mypg-1) and following a \u001b[01;31m\u001b[Kleader\u001b[m\u001b[K (acid-mypg-0)\n",
      "2021-12-16 11:21:56,578 INFO: no action. I am a secondary (acid-mypg-1) and following a \u001b[01;31m\u001b[Kleader\u001b[m\u001b[K (acid-mypg-0)\n",
      "2021-12-16 11:22:06,546 INFO: no action. I am a secondary (acid-mypg-1) and following a \u001b[01;31m\u001b[Kleader\u001b[m\u001b[K (acid-mypg-0)\n",
      "2021-12-16 11:22:16,580 INFO: no action. I am a secondary (acid-mypg-1) and following a \u001b[01;31m\u001b[Kleader\u001b[m\u001b[K (acid-mypg-0)\n",
      "2021-12-16 11:22:26,541 INFO: no action. I am a secondary (acid-mypg-1) and following a \u001b[01;31m\u001b[Kleader\u001b[m\u001b[K (acid-mypg-0)\n",
      "2021-12-16 11:22:36,572 INFO: no action. I am a secondary (acid-mypg-1) and following a \u001b[01;31m\u001b[Kleader\u001b[m\u001b[K (acid-mypg-0)\n",
      "2021-12-16 11:22:46,563 INFO: no action. I am a secondary (acid-mypg-1) and following a \u001b[01;31m\u001b[Kleader\u001b[m\u001b[K (acid-mypg-0)\n",
      "2021-12-16 11:22:56,588 INFO: no action. I am a secondary (acid-mypg-1) and following a \u001b[01;31m\u001b[Kleader\u001b[m\u001b[K (acid-mypg-0)\n",
      "2021-12-16 11:23:06,541 INFO: no action. I am a secondary (acid-mypg-1) and following a \u001b[01;31m\u001b[Kleader\u001b[m\u001b[K (acid-mypg-0)\n",
      "2021-12-16 11:23:16,580 INFO: no action. I am a secondary (acid-mypg-1) and following a \u001b[01;31m\u001b[Kleader\u001b[m\u001b[K (acid-mypg-0)\n",
      "2021-12-16 11:23:26,541 INFO: no action. I am a secondary (acid-mypg-1) and following a \u001b[01;31m\u001b[Kleader\u001b[m\u001b[K (acid-mypg-0)\n",
      "2021-12-16 11:23:36,586 INFO: no action. I am a secondary (acid-mypg-1) and following a \u001b[01;31m\u001b[Kleader\u001b[m\u001b[K (acid-mypg-0)\n",
      "2021-12-16 11:23:46,550 INFO: no action. I am a secondary (acid-mypg-1) and following a \u001b[01;31m\u001b[Kleader\u001b[m\u001b[K (acid-mypg-0)\n",
      "2021-12-16 11:23:56,577 INFO: no action. I am a secondary (acid-mypg-1) and following a \u001b[01;31m\u001b[Kleader\u001b[m\u001b[K (acid-mypg-0)\n",
      "2021-12-16 11:24:06,544 INFO: no action. I am a secondary (acid-mypg-1) and following a \u001b[01;31m\u001b[Kleader\u001b[m\u001b[K (acid-mypg-0)\n",
      "2021-12-16 11:24:16,582 INFO: no action. I am a secondary (acid-mypg-1) and following a \u001b[01;31m\u001b[Kleader\u001b[m\u001b[K (acid-mypg-0)\n",
      "2021-12-16 11:24:26,565 INFO: no action. I am a secondary (acid-mypg-1) and following a \u001b[01;31m\u001b[Kleader\u001b[m\u001b[K (acid-mypg-0)\n",
      "2021-12-16 11:24:36,584 INFO: no action. I am a secondary (acid-mypg-1) and following a \u001b[01;31m\u001b[Kleader\u001b[m\u001b[K (acid-mypg-0)\n",
      "2021-12-16 11:24:46,535 INFO: no action. I am a secondary (acid-mypg-1) and following a \u001b[01;31m\u001b[Kleader\u001b[m\u001b[K (acid-mypg-0)\n",
      "2021-12-16 11:24:56,592 INFO: no action. I am a secondary (acid-mypg-1) and following a \u001b[01;31m\u001b[Kleader\u001b[m\u001b[K (acid-mypg-0)\n",
      "2021-12-16 11:25:06,558 INFO: no action. I am a secondary (acid-mypg-1) and following a \u001b[01;31m\u001b[Kleader\u001b[m\u001b[K (acid-mypg-0)\n",
      "2021-12-16 11:25:16,434 WARNING: Request failed to acid-mypg-0: GET http://10.244.120.70:8008/patroni (HTTPConnectionPool(host='10.244.120.70', port=8008): Max retries exceeded with url: /patroni (Caused by ProtocolError('Connection aborted.', ConnectionResetError(104, 'Connection reset by peer'))))\n",
      "2021-12-16 11:25:16,468 INFO: Got response from acid-mypg-2 http://10.244.120.72:8008/patroni: {\"state\": \"running\", \"postmaster_start_time\": \"2021-12-16 11:16:40.706215+00:00\", \"role\": \"replica\", \"server_version\": 140000, \"cluster_unlocked\": true, \"xlog\": {\"received_location\": 83886240, \"replayed_location\": 83886240, \"replayed_timestamp\": \"2021-12-16 11:17:34.563393+00:00\", \"paused\": false}, \"timeline\": 1, \"database_system_identifier\": \"7042257681448841285\", \"patroni\": {\"version\": \"2.1.1\", \"scope\": \"acid-mypg\"}}\n",
      "2021-12-16 11:25:16,552 INFO: Could not take out TTL lock\n",
      "server signaled\n",
      "2021-12-16 11:25:16,694 INFO: following new \u001b[01;31m\u001b[Kleader\u001b[m\u001b[K after trying and failing to obtain lock\n",
      "2021-12-16 11:25:16,696 INFO: Lock owner: acid-mypg-2; I am acid-mypg-1\n",
      "2021-12-16 11:25:16,710 INFO: Local timeline=1 lsn=0/50000A0\n",
      "2021-12-16 11:25:16,741 INFO: no action. I am a secondary (acid-mypg-1) and following a \u001b[01;31m\u001b[Kleader\u001b[m\u001b[K (acid-mypg-2)\n",
      "2021-12-16 11:25:17,776 INFO: Lock owner: acid-mypg-2; I am acid-mypg-1\n",
      "2021-12-16 11:25:17,806 INFO: Local timeline=1 lsn=0/50000A0\n",
      "2021-12-16 11:25:17,861 INFO: master_timeline=2\n",
      "2021-12-16 11:25:17,862 INFO: master: history=1\t0/50000A0\tno recovery target specified\n",
      "2021-12-16 11:25:17,864 INFO: no action. I am a secondary (acid-mypg-1) and following a \u001b[01;31m\u001b[Kleader\u001b[m\u001b[K (acid-mypg-2)\n",
      "2021-12-16 11:25:18,805 INFO: no action. I am a secondary (acid-mypg-1) and following a \u001b[01;31m\u001b[Kleader\u001b[m\u001b[K (acid-mypg-2)\n",
      "2021-12-16 11:25:29,319 INFO: no action. I am a secondary (acid-mypg-1) and following a \u001b[01;31m\u001b[Kleader\u001b[m\u001b[K (acid-mypg-2)\n",
      "2021-12-16 11:25:39,394 INFO: no action. I am a secondary (acid-mypg-1) and following a \u001b[01;31m\u001b[Kleader\u001b[m\u001b[K (acid-mypg-2)\n",
      "2021-12-16 11:25:49,403 INFO: no action. I am a secondary (acid-mypg-1) and following a \u001b[01;31m\u001b[Kleader\u001b[m\u001b[K (acid-mypg-2)\n",
      "2021-12-16 11:25:59,275 INFO: no action. I am a secondary (acid-mypg-1) and following a \u001b[01;31m\u001b[Kleader\u001b[m\u001b[K (acid-mypg-2)\n",
      "2021-12-16 11:26:09,242 INFO: no action. I am a secondary (acid-mypg-1) and following a \u001b[01;31m\u001b[Kleader\u001b[m\u001b[K (acid-mypg-2)\n",
      "2021-12-16 11:26:19,396 INFO: no action. I am a secondary (acid-mypg-1) and following a \u001b[01;31m\u001b[Kleader\u001b[m\u001b[K (acid-mypg-2)\n",
      "2021-12-16 11:26:29,300 INFO: no action. I am a secondary (acid-mypg-1) and following a \u001b[01;31m\u001b[Kleader\u001b[m\u001b[K (acid-mypg-2)\n"
     ]
    }
   ],
   "source": [
    "kubectl logs acid-mypg-1 | grep  --color=always -E '$|leader'"
   ]
  },
  {
   "cell_type": "code",
   "execution_count": 32,
   "id": "0a0edc64",
   "metadata": {},
   "outputs": [
    {
     "name": "stdout",
     "output_type": "stream",
     "text": [
      "pod \"acid-mypg-0\" deleted\n"
     ]
    }
   ],
   "source": [
    "kubectl delete pod acid-mypg-0"
   ]
  },
  {
   "cell_type": "code",
   "execution_count": 37,
   "id": "90d1ba7a",
   "metadata": {},
   "outputs": [
    {
     "name": "stdout",
     "output_type": "stream",
     "text": [
      "NAME                   SECRETS   AGE\n",
      "default                1         167m\n",
      "postgres-operator      1         28m\n",
      "postgres-operator-ui   1         20m\n",
      "postgres-pod           1         12m\n"
     ]
    }
   ],
   "source": [
    "kubectl get serviceaccount"
   ]
  },
  {
   "cell_type": "code",
   "execution_count": null,
   "id": "d3e70bd7-bb7d-4afb-bfb4-e4fcc86232e2",
   "metadata": {},
   "outputs": [],
   "source": [
    "kubectl get rolebinding"
   ]
  },
  {
   "cell_type": "code",
   "execution_count": 38,
   "id": "59b3d620-6e95-4f72-aa33-d8ef5b4d5bb6",
   "metadata": {},
   "outputs": [
    {
     "name": "stdout",
     "output_type": "stream",
     "text": [
      "apiVersion: rbac.authorization.k8s.io/v1\n",
      "kind: RoleBinding\n",
      "metadata:\n",
      "  creationTimestamp: \"2021-12-16T11:15:24Z\"\n",
      "  name: postgres-pod\n",
      "  namespace: default\n",
      "  resourceVersion: \"7267\"\n",
      "  uid: e766009f-9723-4fb6-bf1b-e471f3c7be42\n",
      "roleRef:\n",
      "  apiGroup: rbac.authorization.k8s.io\n",
      "  kind: ClusterRole\n",
      "  name: postgres-pod\n",
      "subjects:\n",
      "- kind: ServiceAccount\n",
      "  name: postgres-pod\n"
     ]
    }
   ],
   "source": [
    "kubectl get rolebinding postgres-pod -o yaml"
   ]
  },
  {
   "cell_type": "code",
   "execution_count": 39,
   "id": "e29cdf2d-11c0-46e9-9889-c6d6df16466e",
   "metadata": {},
   "outputs": [
    {
     "name": "stdout",
     "output_type": "stream",
     "text": [
      "apiVersion: rbac.authorization.k8s.io/v1\n",
      "kind: ClusterRole\n",
      "metadata:\n",
      "  annotations:\n",
      "    kubectl.kubernetes.io/last-applied-configuration: |\n",
      "      {\"apiVersion\":\"rbac.authorization.k8s.io/v1\",\"kind\":\"ClusterRole\",\"metadata\":{\"annotations\":{},\"name\":\"postgres-pod\"},\"rules\":[{\"apiGroups\":[\"\"],\"resources\":[\"endpoints\"],\"verbs\":[\"create\",\"delete\",\"deletecollection\",\"get\",\"list\",\"patch\",\"update\",\"watch\"]},{\"apiGroups\":[\"\"],\"resources\":[\"pods\"],\"verbs\":[\"get\",\"list\",\"patch\",\"update\",\"watch\"]},{\"apiGroups\":[\"\"],\"resources\":[\"services\"],\"verbs\":[\"create\"]}]}\n",
      "  creationTimestamp: \"2021-12-16T10:58:36Z\"\n",
      "  name: postgres-pod\n",
      "  resourceVersion: \"6476\"\n",
      "  uid: 6375e3eb-ef43-4ae3-be74-3e7a40bc3366\n",
      "rules:\n",
      "- apiGroups:\n",
      "  - \"\"\n",
      "  resources:\n",
      "  - endpoints\n",
      "  verbs:\n",
      "  - create\n",
      "  - delete\n",
      "  - deletecollection\n",
      "  - get\n",
      "  - list\n",
      "  - patch\n",
      "  - update\n",
      "  - watch\n",
      "- apiGroups:\n",
      "  - \"\"\n",
      "  resources:\n",
      "  - pods\n",
      "  verbs:\n",
      "  - get\n",
      "  - list\n",
      "  - patch\n",
      "  - update\n",
      "  - watch\n",
      "- apiGroups:\n",
      "  - \"\"\n",
      "  resources:\n",
      "  - services\n",
      "  verbs:\n",
      "  - create\n"
     ]
    }
   ],
   "source": [
    "kubectl get clusterrole postgres-pod -o yaml"
   ]
  },
  {
   "cell_type": "code",
   "execution_count": null,
   "id": "437afb0d-6379-45b7-89cc-4e171b1c3e65",
   "metadata": {},
   "outputs": [],
   "source": [
    "kubectl delete clusterrole postgres-pod"
   ]
  },
  {
   "cell_type": "code",
   "execution_count": null,
   "id": "378be2ad-2e87-4e4e-8c3e-df6e331b1ee2",
   "metadata": {},
   "outputs": [],
   "source": [
    "kubectl create -f - <<EOF\n",
    "apiVersion: rbac.authorization.k8s.io/v1\n",
    "kind: RoleBinding\n",
    "metadata:\n",
    "  creationTimestamp: \"2021-12-02T09:27:08Z\"\n",
    "  name: postgres-pod\n",
    "  namespace: default\n",
    "  resourceVersion: \"47244\"\n",
    "  uid: 411eb7be-b67a-48d3-8df7-c30a6dc603ec\n",
    "roleRef:\n",
    "  apiGroup: rbac.authorization.k8s.io\n",
    "  kind: Role\n",
    "  name: postgres-pod\n",
    "subjects:\n",
    "- kind: ServiceAccount\n",
    "  name: postgres-pod\n",
    "EOF"
   ]
  },
  {
   "cell_type": "code",
   "execution_count": null,
   "id": "391a9a0b-afb9-48b3-8187-6f8b19b467fc",
   "metadata": {},
   "outputs": [],
   "source": [
    "kubectl create -f - <<EOF\n",
    "apiVersion: rbac.authorization.k8s.io/v1\n",
    "kind: Role\n",
    "metadata:\n",
    "  name: postgres-pod\n",
    "rules:\n",
    "- apiGroups:\n",
    "  - \"\"\n",
    "  resources:\n",
    "  - endpoints\n",
    "  verbs:\n",
    "  - create\n",
    "  - delete\n",
    "  - deletecollection\n",
    "  - get\n",
    "  - list\n",
    "  - patch\n",
    "  - update\n",
    "  - watch\n",
    "- apiGroups:\n",
    "  - \"\"\n",
    "  resources:\n",
    "  - pods\n",
    "  verbs:\n",
    "  - get\n",
    "  - list\n",
    "  - patch\n",
    "  - update\n",
    "  - watch\n",
    "- apiGroups:\n",
    "  - \"\"\n",
    "  resources:\n",
    "  - services\n",
    "  verbs:\n",
    "  - create\n",
    "EOF"
   ]
  },
  {
   "cell_type": "code",
   "execution_count": null,
   "id": "895cbe37-a0fc-4d90-83be-4f5ffdae9518",
   "metadata": {},
   "outputs": [],
   "source": [
    "kubectl get role postgres-pod -o yaml"
   ]
  },
  {
   "cell_type": "code",
   "execution_count": 40,
   "id": "bb9386c9-459a-4ea3-baf2-165e868a816e",
   "metadata": {},
   "outputs": [
    {
     "name": "stdout",
     "output_type": "stream",
     "text": [
      "no\n"
     ]
    },
    {
     "ename": "",
     "evalue": "1",
     "output_type": "error",
     "traceback": []
    }
   ],
   "source": [
    "kubectl auth can-i --as default:postgres-pod create pods"
   ]
  },
  {
   "cell_type": "code",
   "execution_count": null,
   "id": "81916a91-77b4-4cea-b48c-fb7ffb2a4e9d",
   "metadata": {},
   "outputs": [],
   "source": [
    "kubectl get clusterrole postgres-operator-ui -o yaml"
   ]
  },
  {
   "cell_type": "code",
   "execution_count": 41,
   "id": "565098ea-a969-4a69-8ebe-45dcf373b071",
   "metadata": {},
   "outputs": [
    {
     "name": "stdout",
     "output_type": "stream",
     "text": [
      "NAME                                                  CREATED AT\n",
      "bgpconfigurations.crd.projectcalico.org               2021-12-16T08:39:42Z\n",
      "bgppeers.crd.projectcalico.org                        2021-12-16T08:39:42Z\n",
      "blockaffinities.crd.projectcalico.org                 2021-12-16T08:39:42Z\n",
      "clusterinformations.crd.projectcalico.org             2021-12-16T08:39:43Z\n",
      "felixconfigurations.crd.projectcalico.org             2021-12-16T08:39:43Z\n",
      "globalnetworkpolicies.crd.projectcalico.org           2021-12-16T08:39:43Z\n",
      "globalnetworksets.crd.projectcalico.org               2021-12-16T08:39:43Z\n",
      "hostendpoints.crd.projectcalico.org                   2021-12-16T08:39:43Z\n",
      "ipamblocks.crd.projectcalico.org                      2021-12-16T08:39:43Z\n",
      "ipamconfigs.crd.projectcalico.org                     2021-12-16T08:39:43Z\n",
      "ipamhandles.crd.projectcalico.org                     2021-12-16T08:39:43Z\n",
      "ippools.crd.projectcalico.org                         2021-12-16T08:39:43Z\n",
      "kubecontrollersconfigurations.crd.projectcalico.org   2021-12-16T08:39:43Z\n",
      "networkpolicies.crd.projectcalico.org                 2021-12-16T08:39:43Z\n",
      "networksets.crd.projectcalico.org                     2021-12-16T08:39:43Z\n",
      "operatorconfigurations.acid.zalan.do                  2021-12-16T10:58:56Z\n",
      "postgresqls.acid.zalan.do                             2021-12-16T10:58:46Z\n",
      "postgresteams.acid.zalan.do                           2021-12-16T10:58:56Z\n"
     ]
    }
   ],
   "source": [
    "kubectl get crd"
   ]
  },
  {
   "cell_type": "code",
   "execution_count": 42,
   "id": "e02b3f54-9c3e-46fc-957b-2ab997bb3c90",
   "metadata": {
    "collapsed": true,
    "jupyter": {
     "outputs_hidden": true
    },
    "tags": []
   },
   "outputs": [
    {
     "name": "stdout",
     "output_type": "stream",
     "text": [
      "apiVersion: apiextensions.k8s.io/v1\n",
      "kind: CustomResourceDefinition\n",
      "metadata:\n",
      "  creationTimestamp: \"2021-12-16T10:58:46Z\"\n",
      "  generation: 1\n",
      "  name: postgresqls.acid.zalan.do\n",
      "  resourceVersion: \"6511\"\n",
      "  uid: 928a2035-3a29-4fb5-a97c-3885b5faa545\n",
      "spec:\n",
      "  conversion:\n",
      "    strategy: None\n",
      "  group: acid.zalan.do\n",
      "  names:\n",
      "    categories:\n",
      "    - all\n",
      "    kind: postgresql\n",
      "    listKind: postgresqlList\n",
      "    plural: postgresqls\n",
      "    shortNames:\n",
      "    - pg\n",
      "    singular: postgresql\n",
      "  scope: Namespaced\n",
      "  versions:\n",
      "  - additionalPrinterColumns:\n",
      "    - description: Team responsible for Postgres cluster\n",
      "      jsonPath: .spec.teamId\n",
      "      name: Team\n",
      "      type: string\n",
      "    - description: PostgreSQL version\n",
      "      jsonPath: .spec.postgresql.version\n",
      "      name: Version\n",
      "      type: string\n",
      "    - description: Number of Pods per Postgres cluster\n",
      "      jsonPath: .spec.numberOfInstances\n",
      "      name: Pods\n",
      "      type: integer\n",
      "    - description: Size of the bound volume\n",
      "      jsonPath: .spec.volume.size\n",
      "      name: Volume\n",
      "      type: string\n",
      "    - description: Requested CPU for Postgres containers\n",
      "      jsonPath: .spec.resources.requests.cpu\n",
      "      name: CPU-Request\n",
      "      type: string\n",
      "    - description: Requested memory for Postgres containers\n",
      "      jsonPath: .spec.resources.requests.memory\n",
      "      name: Memory-Request\n",
      "      type: string\n",
      "    - jsonPath: .metadata.creationTimestamp\n",
      "      name: Age\n",
      "      type: date\n",
      "    - description: Current sync status of postgresql resource\n",
      "      jsonPath: .status.PostgresClusterStatus\n",
      "      name: Status\n",
      "      type: string\n",
      "    name: v1\n",
      "    schema:\n",
      "      openAPIV3Schema:\n",
      "        properties:\n",
      "          apiVersion:\n",
      "            enum:\n",
      "            - acid.zalan.do/v1\n",
      "            type: string\n",
      "          kind:\n",
      "            enum:\n",
      "            - postgresql\n",
      "            type: string\n",
      "          spec:\n",
      "            properties:\n",
      "              additionalVolumes:\n",
      "                items:\n",
      "                  properties:\n",
      "                    mountPath:\n",
      "                      type: string\n",
      "                    name:\n",
      "                      type: string\n",
      "                    subPath:\n",
      "                      type: string\n",
      "                    targetContainers:\n",
      "                      items:\n",
      "                        type: string\n",
      "                      type: array\n",
      "                    volumeSource:\n",
      "                      type: object\n",
      "                      x-kubernetes-preserve-unknown-fields: true\n",
      "                  required:\n",
      "                  - name\n",
      "                  - mountPath\n",
      "                  - volumeSource\n",
      "                  type: object\n",
      "                type: array\n",
      "              allowedSourceRanges:\n",
      "                items:\n",
      "                  pattern: ^(\\d|[1-9]\\d|1\\d\\d|2[0-4]\\d|25[0-5])\\.(\\d|[1-9]\\d|1\\d\\d|2[0-4]\\d|25[0-5])\\.(\\d|[1-9]\\d|1\\d\\d|2[0-4]\\d|25[0-5])\\.(\\d|[1-9]\\d|1\\d\\d|2[0-4]\\d|25[0-5])\\/(\\d|[1-2]\\d|3[0-2])$\n",
      "                  type: string\n",
      "                nullable: true\n",
      "                type: array\n",
      "              clone:\n",
      "                properties:\n",
      "                  cluster:\n",
      "                    type: string\n",
      "                  s3_access_key_id:\n",
      "                    type: string\n",
      "                  s3_endpoint:\n",
      "                    type: string\n",
      "                  s3_force_path_style:\n",
      "                    type: boolean\n",
      "                  s3_secret_access_key:\n",
      "                    type: string\n",
      "                  s3_wal_path:\n",
      "                    type: string\n",
      "                  timestamp:\n",
      "                    description: Date-time format that specifies a timezone as an\n",
      "                      offset relative to UTC e.g. 1996-12-19T16:39:57-08:00\n",
      "                    pattern: ^([0-9]+)-(0[1-9]|1[012])-(0[1-9]|[12][0-9]|3[01])[Tt]([01][0-9]|2[0-3]):([0-5][0-9]):([0-5][0-9]|60)(\\.[0-9]+)?(([+-]([01][0-9]|2[0-3]):[0-5][0-9]))$\n",
      "                    type: string\n",
      "                  uid:\n",
      "                    format: uuid\n",
      "                    type: string\n",
      "                required:\n",
      "                - cluster\n",
      "                type: object\n",
      "              connectionPooler:\n",
      "                properties:\n",
      "                  dockerImage:\n",
      "                    type: string\n",
      "                  maxDBConnections:\n",
      "                    type: integer\n",
      "                  mode:\n",
      "                    enum:\n",
      "                    - session\n",
      "                    - transaction\n",
      "                    type: string\n",
      "                  numberOfInstances:\n",
      "                    minimum: 1\n",
      "                    type: integer\n",
      "                  resources:\n",
      "                    properties:\n",
      "                      limits:\n",
      "                        properties:\n",
      "                          cpu:\n",
      "                            description: Decimal natural followed by m, or decimal\n",
      "                              natural followed by dot followed by up to three decimal\n",
      "                              digits (precision used by Kubernetes). Must be greater\n",
      "                              than 0\n",
      "                            pattern: ^(\\d+m|\\d+(\\.\\d{1,3})?)$\n",
      "                            type: string\n",
      "                          memory:\n",
      "                            description: 'Plain integer or fixed-point integer using\n",
      "                              one of these suffixes: E, P, T, G, M, k (with or without\n",
      "                              a tailing i). Must be greater than 0'\n",
      "                            pattern: ^(\\d+(e\\d+)?|\\d+(\\.\\d+)?(e\\d+)?[EPTGMK]i?)$\n",
      "                            type: string\n",
      "                        required:\n",
      "                        - cpu\n",
      "                        - memory\n",
      "                        type: object\n",
      "                      requests:\n",
      "                        properties:\n",
      "                          cpu:\n",
      "                            description: Decimal natural followed by m, or decimal\n",
      "                              natural followed by dot followed by up to three decimal\n",
      "                              digits (precision used by Kubernetes). Must be greater\n",
      "                              than 0\n",
      "                            pattern: ^(\\d+m|\\d+(\\.\\d{1,3})?)$\n",
      "                            type: string\n",
      "                          memory:\n",
      "                            description: 'Plain integer or fixed-point integer using\n",
      "                              one of these suffixes: E, P, T, G, M, k (with or without\n",
      "                              a tailing i). Must be greater than 0'\n",
      "                            pattern: ^(\\d+(e\\d+)?|\\d+(\\.\\d+)?(e\\d+)?[EPTGMK]i?)$\n",
      "                            type: string\n",
      "                        required:\n",
      "                        - cpu\n",
      "                        - memory\n",
      "                        type: object\n",
      "                    required:\n",
      "                    - requests\n",
      "                    - limits\n",
      "                    type: object\n",
      "                  schema:\n",
      "                    type: string\n",
      "                  user:\n",
      "                    type: string\n",
      "                type: object\n",
      "              databases:\n",
      "                additionalProperties:\n",
      "                  description: User names specified here as database owners must be\n",
      "                    declared in the users key of the spec key\n",
      "                  type: string\n",
      "                type: object\n",
      "              dockerImage:\n",
      "                type: string\n",
      "              enableConnectionPooler:\n",
      "                type: boolean\n",
      "              enableLogicalBackup:\n",
      "                type: boolean\n",
      "              enableMasterLoadBalancer:\n",
      "                type: boolean\n",
      "              enableReplicaConnectionPooler:\n",
      "                type: boolean\n",
      "              enableReplicaLoadBalancer:\n",
      "                type: boolean\n",
      "              enableShmVolume:\n",
      "                type: boolean\n",
      "              init_containers:\n",
      "                description: Deprecated\n",
      "                items:\n",
      "                  type: object\n",
      "                  x-kubernetes-preserve-unknown-fields: true\n",
      "                type: array\n",
      "              initContainers:\n",
      "                items:\n",
      "                  type: object\n",
      "                  x-kubernetes-preserve-unknown-fields: true\n",
      "                type: array\n",
      "              logicalBackupSchedule:\n",
      "                pattern: ^(\\d+|\\*)(/\\d+)?(\\s+(\\d+|\\*)(/\\d+)?){4}$\n",
      "                type: string\n",
      "              maintenanceWindows:\n",
      "                items:\n",
      "                  pattern: ^\\ *((Mon|Tue|Wed|Thu|Fri|Sat|Sun):(2[0-3]|[01]?\\d):([0-5]?\\d)|(2[0-3]|[01]?\\d):([0-5]?\\d))-((Mon|Tue|Wed|Thu|Fri|Sat|Sun):(2[0-3]|[01]?\\d):([0-5]?\\d)|(2[0-3]|[01]?\\d):([0-5]?\\d))\\\n",
      "                    *$\n",
      "                  type: string\n",
      "                type: array\n",
      "              nodeAffinity:\n",
      "                properties:\n",
      "                  preferredDuringSchedulingIgnoredDuringExecution:\n",
      "                    items:\n",
      "                      properties:\n",
      "                        preference:\n",
      "                          properties:\n",
      "                            matchExpressions:\n",
      "                              items:\n",
      "                                additionalProperties: true\n",
      "                                type: object\n",
      "                              type: array\n",
      "                            matchFields:\n",
      "                              items:\n",
      "                                additionalProperties: true\n",
      "                                type: object\n",
      "                              type: array\n",
      "                          type: object\n",
      "                        weight:\n",
      "                          format: int32\n",
      "                          type: integer\n",
      "                      required:\n",
      "                      - preference\n",
      "                      - weight\n",
      "                      type: object\n",
      "                    type: array\n",
      "                  requiredDuringSchedulingIgnoredDuringExecution:\n",
      "                    properties:\n",
      "                      nodeSelectorTerms:\n",
      "                        items:\n",
      "                          properties:\n",
      "                            matchExpressions:\n",
      "                              items:\n",
      "                                additionalProperties: true\n",
      "                                type: object\n",
      "                              type: array\n",
      "                            matchFields:\n",
      "                              items:\n",
      "                                additionalProperties: true\n",
      "                                type: object\n",
      "                              type: array\n",
      "                          type: object\n",
      "                        type: array\n",
      "                    required:\n",
      "                    - nodeSelectorTerms\n",
      "                    type: object\n",
      "                type: object\n",
      "              numberOfInstances:\n",
      "                minimum: 0\n",
      "                type: integer\n",
      "              patroni:\n",
      "                properties:\n",
      "                  initdb:\n",
      "                    additionalProperties:\n",
      "                      type: string\n",
      "                    type: object\n",
      "                  loop_wait:\n",
      "                    type: integer\n",
      "                  maximum_lag_on_failover:\n",
      "                    type: integer\n",
      "                  pg_hba:\n",
      "                    items:\n",
      "                      type: string\n",
      "                    type: array\n",
      "                  retry_timeout:\n",
      "                    type: integer\n",
      "                  slots:\n",
      "                    additionalProperties:\n",
      "                      additionalProperties:\n",
      "                        type: string\n",
      "                      type: object\n",
      "                    type: object\n",
      "                  synchronous_mode:\n",
      "                    type: boolean\n",
      "                  synchronous_mode_strict:\n",
      "                    type: boolean\n",
      "                  ttl:\n",
      "                    type: integer\n",
      "                type: object\n",
      "              pod_priority_class_name:\n",
      "                description: Deprecated\n",
      "                type: string\n",
      "              podAnnotations:\n",
      "                additionalProperties:\n",
      "                  type: string\n",
      "                type: object\n",
      "              podPriorityClassName:\n",
      "                type: string\n",
      "              postgresql:\n",
      "                properties:\n",
      "                  parameters:\n",
      "                    additionalProperties:\n",
      "                      type: string\n",
      "                    type: object\n",
      "                  version:\n",
      "                    enum:\n",
      "                    - \"9.5\"\n",
      "                    - \"9.6\"\n",
      "                    - \"10\"\n",
      "                    - \"11\"\n",
      "                    - \"12\"\n",
      "                    - \"13\"\n",
      "                    - \"14\"\n",
      "                    type: string\n",
      "                required:\n",
      "                - version\n",
      "                type: object\n",
      "              preparedDatabases:\n",
      "                additionalProperties:\n",
      "                  properties:\n",
      "                    defaultUsers:\n",
      "                      type: boolean\n",
      "                    extensions:\n",
      "                      additionalProperties:\n",
      "                        type: string\n",
      "                      type: object\n",
      "                    schemas:\n",
      "                      additionalProperties:\n",
      "                        properties:\n",
      "                          defaultRoles:\n",
      "                            type: boolean\n",
      "                          defaultUsers:\n",
      "                            type: boolean\n",
      "                        type: object\n",
      "                      type: object\n",
      "                    secretNamespace:\n",
      "                      type: string\n",
      "                  type: object\n",
      "                type: object\n",
      "              replicaLoadBalancer:\n",
      "                description: Deprecated\n",
      "                type: boolean\n",
      "              resources:\n",
      "                properties:\n",
      "                  limits:\n",
      "                    properties:\n",
      "                      cpu:\n",
      "                        description: Decimal natural followed by m, or decimal natural\n",
      "                          followed by dot followed by up to three decimal digits (precision\n",
      "                          used by Kubernetes). Must be greater than 0\n",
      "                        pattern: ^(\\d+m|\\d+(\\.\\d{1,3})?)$\n",
      "                        type: string\n",
      "                      memory:\n",
      "                        description: 'Plain integer or fixed-point integer using one\n",
      "                          of these suffixes: E, P, T, G, M, k (with or without a tailing\n",
      "                          i). Must be greater than 0'\n",
      "                        pattern: ^(\\d+(e\\d+)?|\\d+(\\.\\d+)?(e\\d+)?[EPTGMK]i?)$\n",
      "                        type: string\n",
      "                    required:\n",
      "                    - cpu\n",
      "                    - memory\n",
      "                    type: object\n",
      "                  requests:\n",
      "                    properties:\n",
      "                      cpu:\n",
      "                        description: Decimal natural followed by m, or decimal natural\n",
      "                          followed by dot followed by up to three decimal digits (precision\n",
      "                          used by Kubernetes). Must be greater than 0\n",
      "                        pattern: ^(\\d+m|\\d+(\\.\\d{1,3})?)$\n",
      "                        type: string\n",
      "                      memory:\n",
      "                        description: 'Plain integer or fixed-point integer using one\n",
      "                          of these suffixes: E, P, T, G, M, k (with or without a tailing\n",
      "                          i). Must be greater than 0'\n",
      "                        pattern: ^(\\d+(e\\d+)?|\\d+(\\.\\d+)?(e\\d+)?[EPTGMK]i?)$\n",
      "                        type: string\n",
      "                    required:\n",
      "                    - cpu\n",
      "                    - memory\n",
      "                    type: object\n",
      "                required:\n",
      "                - requests\n",
      "                - limits\n",
      "                type: object\n",
      "              schedulerName:\n",
      "                type: string\n",
      "              serviceAnnotations:\n",
      "                additionalProperties:\n",
      "                  type: string\n",
      "                type: object\n",
      "              sidecars:\n",
      "                items:\n",
      "                  type: object\n",
      "                  x-kubernetes-preserve-unknown-fields: true\n",
      "                type: array\n",
      "              spiloFSGroup:\n",
      "                type: integer\n",
      "              spiloRunAsGroup:\n",
      "                type: integer\n",
      "              spiloRunAsUser:\n",
      "                type: integer\n",
      "              standby:\n",
      "                properties:\n",
      "                  s3_wal_path:\n",
      "                    type: string\n",
      "                required:\n",
      "                - s3_wal_path\n",
      "                type: object\n",
      "              teamId:\n",
      "                type: string\n",
      "              tls:\n",
      "                properties:\n",
      "                  caFile:\n",
      "                    type: string\n",
      "                  caSecretName:\n",
      "                    type: string\n",
      "                  certificateFile:\n",
      "                    type: string\n",
      "                  privateKeyFile:\n",
      "                    type: string\n",
      "                  secretName:\n",
      "                    type: string\n",
      "                required:\n",
      "                - secretName\n",
      "                type: object\n",
      "              tolerations:\n",
      "                items:\n",
      "                  properties:\n",
      "                    effect:\n",
      "                      enum:\n",
      "                      - NoExecute\n",
      "                      - NoSchedule\n",
      "                      - PreferNoSchedule\n",
      "                      type: string\n",
      "                    key:\n",
      "                      type: string\n",
      "                    operator:\n",
      "                      enum:\n",
      "                      - Equal\n",
      "                      - Exists\n",
      "                      type: string\n",
      "                    tolerationSeconds:\n",
      "                      type: integer\n",
      "                    value:\n",
      "                      type: string\n",
      "                  required:\n",
      "                  - key\n",
      "                  - operator\n",
      "                  - effect\n",
      "                  type: object\n",
      "                type: array\n",
      "              useLoadBalancer:\n",
      "                description: Deprecated\n",
      "                type: boolean\n",
      "              users:\n",
      "                additionalProperties:\n",
      "                  description: Role flags specified here must not contradict each\n",
      "                    other\n",
      "                  items:\n",
      "                    enum:\n",
      "                    - bypassrls\n",
      "                    - BYPASSRLS\n",
      "                    - nobypassrls\n",
      "                    - NOBYPASSRLS\n",
      "                    - createdb\n",
      "                    - CREATEDB\n",
      "                    - nocreatedb\n",
      "                    - NOCREATEDB\n",
      "                    - createrole\n",
      "                    - CREATEROLE\n",
      "                    - nocreaterole\n",
      "                    - NOCREATEROLE\n",
      "                    - inherit\n",
      "                    - INHERIT\n",
      "                    - noinherit\n",
      "                    - NOINHERIT\n",
      "                    - login\n",
      "                    - LOGIN\n",
      "                    - nologin\n",
      "                    - NOLOGIN\n",
      "                    - replication\n",
      "                    - REPLICATION\n",
      "                    - noreplication\n",
      "                    - NOREPLICATION\n",
      "                    - superuser\n",
      "                    - SUPERUSER\n",
      "                    - nosuperuser\n",
      "                    - NOSUPERUSER\n",
      "                    type: string\n",
      "                  nullable: true\n",
      "                  type: array\n",
      "                type: object\n",
      "              volume:\n",
      "                properties:\n",
      "                  iops:\n",
      "                    type: integer\n",
      "                  selector:\n",
      "                    properties:\n",
      "                      matchExpressions:\n",
      "                        items:\n",
      "                          properties:\n",
      "                            key:\n",
      "                              type: string\n",
      "                            operator:\n",
      "                              enum:\n",
      "                              - In\n",
      "                              - NotIn\n",
      "                              - Exists\n",
      "                              - DoesNotExist\n",
      "                              type: string\n",
      "                            values:\n",
      "                              items:\n",
      "                                type: string\n",
      "                              type: array\n",
      "                          required:\n",
      "                          - key\n",
      "                          - operator\n",
      "                          - values\n",
      "                          type: object\n",
      "                        type: array\n",
      "                      matchLabels:\n",
      "                        type: object\n",
      "                        x-kubernetes-preserve-unknown-fields: true\n",
      "                    type: object\n",
      "                  size:\n",
      "                    description: Value must not be zero\n",
      "                    pattern: ^(\\d+(e\\d+)?|\\d+(\\.\\d+)?(e\\d+)?[EPTGMK]i?)$\n",
      "                    type: string\n",
      "                  storageClass:\n",
      "                    type: string\n",
      "                  subPath:\n",
      "                    type: string\n",
      "                  throughput:\n",
      "                    type: integer\n",
      "                required:\n",
      "                - size\n",
      "                type: object\n",
      "            required:\n",
      "            - numberOfInstances\n",
      "            - teamId\n",
      "            - postgresql\n",
      "            - volume\n",
      "            type: object\n",
      "          status:\n",
      "            additionalProperties:\n",
      "              type: string\n",
      "            type: object\n",
      "        required:\n",
      "        - kind\n",
      "        - apiVersion\n",
      "        - spec\n",
      "        type: object\n",
      "    served: true\n",
      "    storage: true\n",
      "    subresources:\n",
      "      status: {}\n",
      "status:\n",
      "  acceptedNames:\n",
      "    categories:\n",
      "    - all\n",
      "    kind: postgresql\n",
      "    listKind: postgresqlList\n",
      "    plural: postgresqls\n",
      "    shortNames:\n",
      "    - pg\n",
      "    singular: postgresql\n",
      "  conditions:\n",
      "  - lastTransitionTime: \"2021-12-16T10:58:46Z\"\n",
      "    message: no conflicts found\n",
      "    reason: NoConflicts\n",
      "    status: \"True\"\n",
      "    type: NamesAccepted\n",
      "  - lastTransitionTime: \"2021-12-16T10:58:46Z\"\n",
      "    message: the initial names have been accepted\n",
      "    reason: InitialNamesAccepted\n",
      "    status: \"True\"\n",
      "    type: Established\n",
      "  storedVersions:\n",
      "  - v1\n"
     ]
    }
   ],
   "source": [
    "kubectl get crd postgresqls.acid.zalan.do -o yaml"
   ]
  },
  {
   "cell_type": "code",
   "execution_count": null,
   "id": "88accdea-7875-4d7a-9e0e-64d3039c47f7",
   "metadata": {},
   "outputs": [],
   "source": [
    "kubectl get postgresqls.acid.zalan.do "
   ]
  },
  {
   "cell_type": "code",
   "execution_count": null,
   "id": "2213bc32-3043-4f98-babb-17435713e1dd",
   "metadata": {},
   "outputs": [],
   "source": [
    "kubectl get postgresqls.acid.zalan.do acid-mypg -o yaml"
   ]
  },
  {
   "cell_type": "code",
   "execution_count": null,
   "id": "397d6288-f6ad-4d8e-93a8-77b7268d6067",
   "metadata": {},
   "outputs": [],
   "source": [
    "kubectl create -f - <<EOF\n",
    "apiVersion: acid.zalan.do/v1\n",
    "kind: postgresql\n",
    "metadata:\n",
    "  name: acid-mypg-yaml\n",
    "  namespace: default\n",
    "spec:\n",
    "  allowedSourceRanges: null\n",
    "  numberOfInstances: 3\n",
    "  postgresql:\n",
    "    version: \"14\"\n",
    "  resources:\n",
    "    limits:\n",
    "      cpu: 500m\n",
    "      memory: 500Mi\n",
    "    requests:\n",
    "      cpu: 100m\n",
    "      memory: 100Mi\n",
    "  teamId: acid\n",
    "  volume:\n",
    "    size: 10Gi\n",
    "EOF"
   ]
  },
  {
   "cell_type": "code",
   "execution_count": null,
   "id": "6fcd1747-43d2-4504-bbcf-613fd45193fe",
   "metadata": {},
   "outputs": [],
   "source": [
    "kubectl get all"
   ]
  },
  {
   "cell_type": "code",
   "execution_count": null,
   "id": "50fab798-89d1-4189-973e-9674ec1602e6",
   "metadata": {},
   "outputs": [],
   "source": []
  }
 ],
 "metadata": {
  "kernelspec": {
   "display_name": "Bash",
   "language": "bash",
   "name": "bash"
  },
  "language_info": {
   "codemirror_mode": "shell",
   "file_extension": ".sh",
   "mimetype": "text/x-sh",
   "name": "bash"
  }
 },
 "nbformat": 4,
 "nbformat_minor": 5
}
