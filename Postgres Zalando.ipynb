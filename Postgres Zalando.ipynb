{
 "cells": [
  {
   "cell_type": "markdown",
   "id": "a3af0370",
   "metadata": {},
   "source": [
    "**This notebook covered by the following [license](License.ipynb)  This note must not be removed**"
   ]
  },
  {
   "cell_type": "markdown",
   "id": "10720040",
   "metadata": {},
   "source": [
    "# The Postgres Operator by Zalando\n",
    "\n",
    "see https://github.com/zalando/postgres-operator"
   ]
  },
  {
   "cell_type": "code",
   "execution_count": 2,
   "id": "75ea1143",
   "metadata": {},
   "outputs": [
    {
     "name": "stdout",
     "output_type": "stream",
     "text": [
      "/minikube-host/notebooks/training-kubernetes-security\n"
     ]
    }
   ],
   "source": [
    "pwd"
   ]
  },
  {
   "cell_type": "code",
   "execution_count": 3,
   "id": "ca427341",
   "metadata": {},
   "outputs": [
    {
     "name": "stdout",
     "output_type": "stream",
     "text": [
      "Cloning into 'postgres-operator'...\n",
      "remote: Enumerating objects: 20416, done.        \n",
      "remote: Counting objects: 100% (312/312), done.        \n",
      "remote: Compressing objects: 100% (186/186), done.        \n",
      "remote: Total 20416 (delta 176), reused 209 (delta 119), pack-reused 20104        \n",
      "Receiving objects: 100% (20416/20416), 7.97 MiB | 21.99 MiB/s, done.\n",
      "Resolving deltas: 100% (14475/14475), done.\n"
     ]
    }
   ],
   "source": [
    "git clone https://github.com/zalando/postgres-operator.git\n"
   ]
  },
  {
   "cell_type": "code",
   "execution_count": 6,
   "id": "d6e91001",
   "metadata": {},
   "outputs": [
    {
     "name": "stdout",
     "output_type": "stream",
     "text": [
      "/minikube-host/notebooks/training-kubernetes-security\n"
     ]
    }
   ],
   "source": [
    "pwd"
   ]
  },
  {
   "cell_type": "code",
   "execution_count": 7,
   "id": "2b40edf1-a95e-4511-bf09-513c6db395e9",
   "metadata": {},
   "outputs": [],
   "source": [
    "cd postgres-operator"
   ]
  },
  {
   "cell_type": "code",
   "execution_count": null,
   "id": "82fceedd",
   "metadata": {},
   "outputs": [],
   "source": [
    "kubectl delete -f manifests/configmap.yaml  # configuration\n",
    "kubectl delete -f manifests/operator-service-account-rbac.yaml  # identity and permissions\n",
    "kubectl delete -f manifests/postgres-operator.yaml  # deployment\n",
    "kubectl delete -f manifests/api-service.yaml  # operator API to be used by UI"
   ]
  },
  {
   "cell_type": "code",
   "execution_count": 8,
   "id": "c114202c",
   "metadata": {},
   "outputs": [
    {
     "name": "stdout",
     "output_type": "stream",
     "text": [
      "manifest_sorter.go:192: info: skipping unknown hook: \"crd-install\"\n",
      "manifest_sorter.go:192: info: skipping unknown hook: \"crd-install\"\n",
      "manifest_sorter.go:192: info: skipping unknown hook: \"crd-install\"\n",
      "NAME: postgres-operator\n",
      "LAST DEPLOYED: Fri Apr 30 12:13:45 2021\n",
      "NAMESPACE: default\n",
      "STATUS: deployed\n",
      "REVISION: 1\n",
      "TEST SUITE: None\n",
      "NOTES:\n",
      "To verify that postgres-operator has started, run:\n",
      "\n",
      "  kubectl --namespace=default get pods -l \"app.kubernetes.io/name=postgres-operator\"\n"
     ]
    }
   ],
   "source": [
    "helm install postgres-operator ./charts/postgres-operator"
   ]
  },
  {
   "cell_type": "code",
   "execution_count": 9,
   "id": "e9676de2",
   "metadata": {},
   "outputs": [
    {
     "name": "stdout",
     "output_type": "stream",
     "text": [
      "NAME                                READY   STATUS    RESTARTS   AGE\n",
      "postgres-operator-99fb4d44d-78j6j   1/1     Running   0          11s\n"
     ]
    }
   ],
   "source": [
    "kubectl --namespace=default get pods -l \"app.kubernetes.io/name=postgres-operator\"\n"
   ]
  },
  {
   "cell_type": "code",
   "execution_count": 10,
   "id": "83e653a3",
   "metadata": {},
   "outputs": [
    {
     "name": "stdout",
     "output_type": "stream",
     "text": [
      "NAMESPACE              NAME                                        READY   STATUS    RESTARTS   AGE\n",
      "default                cloudbomb                                   1/1     Running   0          46h\n",
      "default                nginx-strict-5cdc48cf55-27r9c               1/1     Running   0          46h\n",
      "default                nginx-strict-5cdc48cf55-k65vn               1/1     Running   0          46h\n",
      "default                nginx-strict-5cdc48cf55-rwkt5               1/1     Running   0          46h\n",
      "default                nginx-with-token-again-66868cff8b-dncj2     1/1     Running   0          46h\n",
      "default                postgres-operator-99fb4d44d-78j6j           1/1     Running   0          23s\n",
      "kube-scan              kube-scan-db6ffdfd5-jvjg6                   2/2     Running   0          46h\n",
      "kube-system            coredns-74ff55c5b-hq2hm                     1/1     Running   1          2d21h\n",
      "kube-system            etcd-minikube                               1/1     Running   1          2d21h\n",
      "kube-system            kube-apiserver-minikube                     1/1     Running   1          2d21h\n",
      "kube-system            kube-controller-manager-minikube            1/1     Running   1          2d21h\n",
      "kube-system            kube-proxy-lv5cn                            1/1     Running   1          2d21h\n",
      "kube-system            kube-scheduler-minikube                     1/1     Running   1          2d21h\n",
      "kube-system            storage-provisioner                         1/1     Running   3          2d21h\n",
      "kubernetes-dashboard   dashboard-metrics-scraper-f6647bd8c-cst2g   1/1     Running   0          2d2h\n",
      "kubernetes-dashboard   kubernetes-dashboard-968bcb79-zzwcl         1/1     Running   0          2d2h\n"
     ]
    }
   ],
   "source": [
    "kubectl get pods -A"
   ]
  },
  {
   "cell_type": "code",
   "execution_count": 11,
   "id": "1de536bf",
   "metadata": {},
   "outputs": [
    {
     "name": "stdout",
     "output_type": "stream",
     "text": [
      "NAME: postgres-operator-ui\n",
      "LAST DEPLOYED: Fri Apr 30 12:14:20 2021\n",
      "NAMESPACE: default\n",
      "STATUS: deployed\n",
      "REVISION: 1\n",
      "TEST SUITE: None\n",
      "NOTES:\n",
      "To verify that postgres-operator has started, run:\n",
      "\n",
      "  kubectl --namespace=default get pods -l \"app.kubernetes.io/name=postgres-operator-ui\"\n"
     ]
    }
   ],
   "source": [
    "helm install postgres-operator-ui ./charts/postgres-operator-ui"
   ]
  },
  {
   "cell_type": "code",
   "execution_count": 16,
   "id": "a31fb434",
   "metadata": {},
   "outputs": [
    {
     "name": "stdout",
     "output_type": "stream",
     "text": [
      "NAME                                    READY   STATUS    RESTARTS   AGE\n",
      "postgres-operator-ui-6bcb7fd597-4hqcw   1/1     Running   0          29s\n"
     ]
    }
   ],
   "source": [
    "kubectl --namespace=default get pods -l \"app.kubernetes.io/name=postgres-operator-ui\""
   ]
  },
  {
   "cell_type": "code",
   "execution_count": 12,
   "id": "26b9d022",
   "metadata": {},
   "outputs": [
    {
     "name": "stdout",
     "output_type": "stream",
     "text": [
      "Forwarding from 127.0.0.1:8081 -> 8081\n"
     ]
    }
   ],
   "source": [
    "kubectl port-forward svc/postgres-operator-ui 8081:80"
   ]
  },
  {
   "cell_type": "code",
   "execution_count": null,
   "id": "4905a7e9",
   "metadata": {},
   "outputs": [],
   "source": [
    "kubectl get all"
   ]
  },
  {
   "cell_type": "code",
   "execution_count": null,
   "id": "e4fa5196",
   "metadata": {},
   "outputs": [],
   "source": [
    "kubectl delete deployment nginx-deployment nginx-other-deployment nginx-strict nginx-hostnetwork-deployment"
   ]
  },
  {
   "cell_type": "markdown",
   "id": "d1058488",
   "metadata": {},
   "source": [
    "# In a separate terminal\n",
    "\n",
    "`kubectl port-forward --address $(hostname -i) svc/postgres-operator-ui 8081:80`"
   ]
  },
  {
   "cell_type": "code",
   "execution_count": 14,
   "id": "6067ccc4",
   "metadata": {},
   "outputs": [
    {
     "name": "stdout",
     "output_type": "stream",
     "text": [
      "NAME                                                      TYPE                                  DATA   AGE\n",
      "default-token-kvx2n                                       kubernetes.io/service-account-token   3      17h\n",
      "postgres-operator-token-m2fqq                             kubernetes.io/service-account-token   3      14m\n",
      "postgres-operator-ui-token-hv7wn                          kubernetes.io/service-account-token   3      14m\n",
      "postgres-pod-token-68vgp                                  kubernetes.io/service-account-token   3      97s\n",
      "postgres.acid-mypg.credentials.postgresql.acid.zalan.do   Opaque                                2      97s\n",
      "sh.helm.release.v1.postgres-operator-ui.v1                helm.sh/release.v1                    1      14m\n",
      "sh.helm.release.v1.postgres-operator.v1                   helm.sh/release.v1                    1      15m\n",
      "standby.acid-mypg.credentials.postgresql.acid.zalan.do    Opaque                                2      97s\n"
     ]
    }
   ],
   "source": [
    "kubectl get secret"
   ]
  },
  {
   "cell_type": "code",
   "execution_count": 18,
   "id": "6165ce6e",
   "metadata": {},
   "outputs": [
    {
     "name": "stdout",
     "output_type": "stream",
     "text": [
      "NAME                   TYPE        CLUSTER-IP       EXTERNAL-IP   PORT(S)    AGE\n",
      "acid-mypg              ClusterIP   10.97.82.151     <none>        5432/TCP   101s\n",
      "acid-mypg-config       ClusterIP   None             <none>        <none>     63s\n",
      "acid-mypg-repl         ClusterIP   10.99.187.3      <none>        5432/TCP   101s\n",
      "kubernetes             ClusterIP   10.96.0.1        <none>        443/TCP    2d21h\n",
      "nginx-strict           ClusterIP   10.111.247.228   <none>        80/TCP     47h\n",
      "postgres-operator      ClusterIP   10.101.37.55     <none>        8080/TCP   5m1s\n",
      "postgres-operator-ui   ClusterIP   10.108.70.152    <none>        80/TCP     4m26s\n"
     ]
    }
   ],
   "source": [
    "kubectl get svc "
   ]
  },
  {
   "cell_type": "code",
   "execution_count": 19,
   "id": "4f2e7698",
   "metadata": {
    "tags": []
   },
   "outputs": [
    {
     "name": "stdout",
     "output_type": "stream",
     "text": [
      "{\n",
      "    \"apiVersion\": \"v1\",\n",
      "    \"kind\": \"Service\",\n",
      "    \"metadata\": {\n",
      "        \"creationTimestamp\": \"2021-04-30T12:17:05Z\",\n",
      "        \"labels\": {\n",
      "            \"application\": \"spilo\",\n",
      "            \"cluster-name\": \"acid-mypg\",\n",
      "            \"spilo-role\": \"replica\",\n",
      "            \"team\": \"acid\"\n",
      "        },\n",
      "        \"name\": \"acid-mypg-repl\",\n",
      "        \"namespace\": \"default\",\n",
      "        \"resourceVersion\": \"147762\",\n",
      "        \"uid\": \"2e9e9234-325c-4e51-97d8-c60b41b47663\"\n",
      "    },\n",
      "    \"spec\": {\n",
      "        \"clusterIP\": \"10.99.187.3\",\n",
      "        \"clusterIPs\": [\n",
      "            \"10.99.187.3\"\n",
      "        ],\n",
      "        \"ports\": [\n",
      "            {\n",
      "                \"name\": \"postgresql\",\n",
      "                \"port\": 5432,\n",
      "                \"protocol\": \"TCP\",\n",
      "                \"targetPort\": 5432\n",
      "            }\n",
      "        ],\n",
      "        \"selector\": {\n",
      "            \"application\": \"spilo\",\n",
      "            \"cluster-name\": \"acid-mypg\",\n",
      "            \"spilo-role\": \"replica\"\n",
      "        },\n",
      "        \"sessionAffinity\": \"None\",\n",
      "        \"type\": \"ClusterIP\"\n",
      "    },\n",
      "    \"status\": {\n",
      "        \"loadBalancer\": {}\n",
      "    }\n",
      "}\n"
     ]
    }
   ],
   "source": [
    "kubectl get service acid-mypg-repl -o json"
   ]
  },
  {
   "cell_type": "code",
   "execution_count": 24,
   "id": "45526f1f",
   "metadata": {},
   "outputs": [
    {
     "name": "stdout",
     "output_type": "stream",
     "text": [
      "\n",
      "use\n",
      "PGPASSWORD=yY1WYEOj4Cb7403AeyCKeA0U98yBEFIXU2xRwiVh6Mwc7EOHQMUeyXiCf0K3Q2DP PGSSLMODE=require /usr/bin/psql -h -U postgres\n",
      "to connect\n"
     ]
    }
   ],
   "source": [
    "export PGPASSWORD=$(kubectl get secret postgres.acid-mypg.credentials.postgresql.acid.zalan.do -o 'jsonpath={.data.password}' | base64 -d)\n",
    "export PGSSLMODE=require\n",
    "\n",
    "export PGHOST=$(kubectl get service acid-mypg-repl -o jsonpath='{.status.loadBalancer.ingress[0].ip}' )\n",
    "echo $PGHOST\n",
    "\n",
    "echo use\n",
    "PGCOMMAND=$(echo PGPASSWORD=$PGPASSWORD PGSSLMODE=$PGSSLMODE  /usr/bin/psql  -h $PGHOST -U postgres)\n",
    "echo $PGCOMMAND\n",
    "echo to connect"
   ]
  },
  {
   "cell_type": "code",
   "execution_count": 21,
   "id": "e3caa19c",
   "metadata": {},
   "outputs": [],
   "source": [
    "kubectl get service acid-mypg-repl -o jsonpath='{.status.loadBalancer.ingress[*].ip}'"
   ]
  },
  {
   "cell_type": "code",
   "execution_count": 22,
   "id": "0162a4c4",
   "metadata": {},
   "outputs": [
    {
     "name": "stdout",
     "output_type": "stream",
     "text": [
      "NAME                                          READY   STATUS    RESTARTS   AGE\n",
      "pod/acid-mypg-0                               1/1     Running   0          2m8s\n",
      "pod/acid-mypg-1                               1/1     Running   0          94s\n",
      "pod/acid-mypg-2                               1/1     Running   0          90s\n",
      "pod/cloudbomb                                 1/1     Running   0          46h\n",
      "pod/nginx-strict-5cdc48cf55-27r9c             1/1     Running   0          46h\n",
      "pod/nginx-strict-5cdc48cf55-k65vn             1/1     Running   0          46h\n",
      "pod/nginx-strict-5cdc48cf55-rwkt5             1/1     Running   0          46h\n",
      "pod/nginx-with-token-again-66868cff8b-dncj2   1/1     Running   0          46h\n",
      "pod/postgres-operator-99fb4d44d-78j6j         1/1     Running   0          5m29s\n",
      "pod/postgres-operator-ui-6bcb7fd597-4hqcw     1/1     Running   0          4m54s\n",
      "\n",
      "NAME                           TYPE        CLUSTER-IP       EXTERNAL-IP   PORT(S)    AGE\n",
      "service/acid-mypg              ClusterIP   10.97.82.151     <none>        5432/TCP   2m9s\n",
      "service/acid-mypg-config       ClusterIP   None             <none>        <none>     91s\n",
      "service/acid-mypg-repl         ClusterIP   10.99.187.3      <none>        5432/TCP   2m9s\n",
      "service/kubernetes             ClusterIP   10.96.0.1        <none>        443/TCP    2d21h\n",
      "service/nginx-strict           ClusterIP   10.111.247.228   <none>        80/TCP     47h\n",
      "service/postgres-operator      ClusterIP   10.101.37.55     <none>        8080/TCP   5m29s\n",
      "service/postgres-operator-ui   ClusterIP   10.108.70.152    <none>        80/TCP     4m54s\n",
      "\n",
      "NAME                                     READY   UP-TO-DATE   AVAILABLE   AGE\n",
      "deployment.apps/nginx-strict             3/3     3            3           46h\n",
      "deployment.apps/nginx-with-token-again   1/1     1            1           46h\n",
      "deployment.apps/postgres-operator        1/1     1            1           5m29s\n",
      "deployment.apps/postgres-operator-ui     1/1     1            1           4m54s\n",
      "\n",
      "NAME                                                DESIRED   CURRENT   READY   AGE\n",
      "replicaset.apps/nginx-strict-5cdc48cf55             3         3         3       46h\n",
      "replicaset.apps/nginx-with-token-again-66868cff8b   1         1         1       46h\n",
      "replicaset.apps/postgres-operator-99fb4d44d         1         1         1       5m29s\n",
      "replicaset.apps/postgres-operator-ui-6bcb7fd597     1         1         1       4m54s\n",
      "\n",
      "NAME                         READY   AGE\n",
      "statefulset.apps/acid-mypg   3/3     2m8s\n",
      "\n",
      "NAME                                 TEAM   VERSION   PODS   VOLUME   CPU-REQUEST   MEMORY-REQUEST   AGE    STATUS\n",
      "postgresql.acid.zalan.do/acid-mypg   acid   13        3      2Gi      100m          100Mi            2m9s   Running\n"
     ]
    }
   ],
   "source": [
    "kubectl get all"
   ]
  },
  {
   "cell_type": "code",
   "execution_count": 23,
   "id": "1796632d",
   "metadata": {},
   "outputs": [
    {
     "name": "stdout",
     "output_type": "stream",
     "text": [
      "psql: error: could not translate host name \"-U\" to address: Name or service not known\n",
      "command terminated with exit code 2\n"
     ]
    },
    {
     "ename": "",
     "evalue": "2",
     "output_type": "error",
     "traceback": []
    }
   ],
   "source": [
    "kubectl exec -t  acid-mypg-0 -- /bin/bash -c \"$PGCOMMAND -c 'select datname FROM pg_database'\""
   ]
  },
  {
   "cell_type": "code",
   "execution_count": null,
   "id": "636f39ae",
   "metadata": {},
   "outputs": [],
   "source": [
    "kubectl get pods\n"
   ]
  },
  {
   "cell_type": "code",
   "execution_count": null,
   "id": "a867f550",
   "metadata": {},
   "outputs": [],
   "source": [
    "kubectl logs acid-mypg-1 | grep  --color=always -E '$|leader'"
   ]
  },
  {
   "cell_type": "code",
   "execution_count": null,
   "id": "0a0edc64",
   "metadata": {},
   "outputs": [],
   "source": [
    "kubectl delete pod acid-mypg-0"
   ]
  },
  {
   "cell_type": "code",
   "execution_count": null,
   "id": "90d1ba7a",
   "metadata": {},
   "outputs": [],
   "source": []
  }
 ],
 "metadata": {
  "kernelspec": {
   "display_name": "Bash",
   "language": "bash",
   "name": "bash"
  },
  "language_info": {
   "codemirror_mode": "shell",
   "file_extension": ".sh",
   "mimetype": "text/x-sh",
   "name": "bash"
  }
 },
 "nbformat": 4,
 "nbformat_minor": 5
}
