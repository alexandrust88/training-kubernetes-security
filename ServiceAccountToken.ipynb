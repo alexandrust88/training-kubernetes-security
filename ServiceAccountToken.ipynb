{
 "cells": [
  {
   "cell_type": "markdown",
   "id": "26487dbb",
   "metadata": {},
   "source": [
    "**This notebook covered by the following [license](License.ipynb)  This note must not be removed**"
   ]
  },
  {
   "cell_type": "markdown",
   "id": "6f38f783",
   "metadata": {},
   "source": [
    "See [Configure Service Account](https://kubernetes.io/docs/tasks/configure-pod-container/configure-service-account/)"
   ]
  },
  {
   "cell_type": "code",
   "execution_count": 1,
   "id": "bcfffff3",
   "metadata": {},
   "outputs": [
    {
     "name": "stdout",
     "output_type": "stream",
     "text": [
      "apiVersion: v1\n",
      "kind: ServiceAccount\n",
      "metadata:\n",
      "  creationTimestamp: \"2021-11-30T09:04:57Z\"\n",
      "  name: default\n",
      "  namespace: default\n",
      "  resourceVersion: \"428\"\n",
      "  uid: 8fee6829-8d24-4dd1-8596-b807318e6ebe\n",
      "secrets:\n",
      "- name: default-token-4wm25\n"
     ]
    }
   ],
   "source": [
    "kubectl get serviceaccount default -o yaml"
   ]
  },
  {
   "cell_type": "code",
   "execution_count": 2,
   "id": "827da161",
   "metadata": {},
   "outputs": [
    {
     "name": "stdout",
     "output_type": "stream",
     "text": [
      "serviceaccount/default patched\n"
     ]
    }
   ],
   "source": [
    "kubectl patch serviceaccount default  --patch \"automountServiceAccountToken: false\""
   ]
  },
  {
   "cell_type": "code",
   "execution_count": 3,
   "id": "e3b006de",
   "metadata": {},
   "outputs": [
    {
     "name": "stdout",
     "output_type": "stream",
     "text": [
      "apiVersion: v1\n",
      "automountServiceAccountToken: false\n",
      "kind: ServiceAccount\n",
      "metadata:\n",
      "  creationTimestamp: \"2021-11-30T09:04:57Z\"\n",
      "  name: default\n",
      "  namespace: default\n",
      "  resourceVersion: \"13482\"\n",
      "  uid: 8fee6829-8d24-4dd1-8596-b807318e6ebe\n",
      "secrets:\n",
      "- name: default-token-4wm25\n"
     ]
    }
   ],
   "source": [
    "kubectl get serviceaccount default -o yaml | grep -E '(^|automountServiceAccountToken.*)'"
   ]
  },
  {
   "cell_type": "markdown",
   "id": "2eeba43a",
   "metadata": {},
   "source": [
    "# ☠️ **this can be overwritten** ☠️\n",
    "\n"
   ]
  },
  {
   "cell_type": "code",
   "execution_count": 4,
   "id": "68516630",
   "metadata": {},
   "outputs": [
    {
     "name": "stdout",
     "output_type": "stream",
     "text": [
      "deployment.apps/nginx-with-token-again configured\n"
     ]
    }
   ],
   "source": [
    "kubectl apply -f - <<EOF\n",
    "apiVersion: apps/v1\n",
    "kind: Deployment\n",
    "metadata:\n",
    "  name: nginx-with-token-again\n",
    "  labels:\n",
    "    app: nginx-with-token-again\n",
    "spec:\n",
    "  replicas: 1\n",
    "  selector:\n",
    "    matchLabels:\n",
    "      app: nginx-with-token-again\n",
    "  template:\n",
    "    metadata:\n",
    "      labels:\n",
    "        app: nginx-with-token-again\n",
    "    spec:\n",
    "      automountServiceAccountToken: true\n",
    "      containers:\n",
    "      - name: nginx\n",
    "        image: nginxinc/nginx-unprivileged\n",
    "        ports:\n",
    "        - containerPort: 8080\n",
    "EOF"
   ]
  },
  {
   "cell_type": "code",
   "execution_count": 12,
   "id": "b381d8dd",
   "metadata": {},
   "outputs": [
    {
     "name": "stdout",
     "output_type": "stream",
     "text": [
      "NAME                                     READY   STATUS    RESTARTS   AGE\n",
      "nginx-strict-5cdc48cf55-5ckph            1/1     Running   0          24m\n",
      "nginx-strict-5cdc48cf55-mnwbq            1/1     Running   0          24m\n",
      "nginx-strict-5cdc48cf55-s645d            1/1     Running   0          24m\n",
      "nginx-with-token-again-7d7cd958c-7fjxd   1/1     Running   0          20s\n",
      "nginx-strict-5cdc48cf55-5ckph\n"
     ]
    }
   ],
   "source": [
    "kubectl get pods\n",
    "POD=$(kubectl get pods -o jsonpath='{.items[0].metadata.name}' )\n",
    "echo $POD"
   ]
  },
  {
   "cell_type": "code",
   "execution_count": 13,
   "id": "825f32d1",
   "metadata": {},
   "outputs": [
    {
     "name": "stdout",
     "output_type": "stream",
     "text": [
      "Filesystem                    1K-blocks     Used Available Use% Mounted on\n",
      "overlay                        61796348 12550976  46083260  22% /\n",
      "tmpfs                             65536        0     65536   0% /dev\n",
      "tmpfs                           7888556        0   7888556   0% /sys/fs/cgroup\n",
      "/dev/mapper/sirius--vg-docker  61796348 12550976  46083260  22% /etc/hosts\n",
      "shm                               65536        0     65536   0% /dev/shm\n",
      "tmpfs                           7888556        0   7888556   0% /proc/acpi\n",
      "tmpfs                           7888556        0   7888556   0% /proc/scsi\n",
      "tmpfs                           7888556        0   7888556   0% /sys/firmware\n"
     ]
    }
   ],
   "source": [
    "kubectl exec  nginx-with-token-again-7d7cd958c-7fjxd -- df"
   ]
  },
  {
   "cell_type": "code",
   "execution_count": 9,
   "id": "bb5fc157",
   "metadata": {},
   "outputs": [
    {
     "name": "stdout",
     "output_type": "stream",
     "text": [
      "        - serviceAccountToken:\n",
      "            path: token\n",
      "        - serviceAccountToken:\n",
      "            path: token\n",
      "        - serviceAccountToken:\n",
      "            path: token\n",
      "    generateName: nginx-with-token-again-66868cff8b-\n",
      "      app: nginx-with-token-again\n",
      "    name: nginx-with-token-again-66868cff8b-pzttq\n",
      "      name: nginx-with-token-again-66868cff8b\n",
      "    automountServiceAccountToken: true\n",
      "        - serviceAccountToken:\n",
      "            path: token\n"
     ]
    }
   ],
   "source": [
    "kubectl get pods  -o yaml | grep -i token"
   ]
  },
  {
   "cell_type": "code",
   "execution_count": 10,
   "id": "73b9f0d0",
   "metadata": {},
   "outputs": [
    {
     "name": "stdout",
     "output_type": "stream",
     "text": [
      "true"
     ]
    }
   ],
   "source": [
    "kubectl get pods -A -o jsonpath='{.items[*].spec.automountServiceAccountToken}'"
   ]
  },
  {
   "cell_type": "code",
   "execution_count": null,
   "id": "d7edcf60",
   "metadata": {},
   "outputs": [],
   "source": []
  }
 ],
 "metadata": {
  "kernelspec": {
   "display_name": "Bash",
   "language": "bash",
   "name": "bash"
  },
  "language_info": {
   "codemirror_mode": "shell",
   "file_extension": ".sh",
   "mimetype": "text/x-sh",
   "name": "bash"
  }
 },
 "nbformat": 4,
 "nbformat_minor": 5
}
