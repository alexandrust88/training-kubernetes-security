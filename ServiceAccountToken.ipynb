{
 "cells": [
  {
   "cell_type": "markdown",
   "metadata": {},
   "source": [
    "**This notebook covered by the following [license](License.ipynb)  This note must not be removed**"
   ]
  },
  {
   "cell_type": "markdown",
   "metadata": {},
   "source": [
    "See [Configure Service Account](https://kubernetes.io/docs/tasks/configure-pod-container/configure-service-account/)"
   ]
  },
  {
   "cell_type": "code",
   "execution_count": 1,
   "metadata": {},
   "outputs": [
    {
     "name": "stdout",
     "output_type": "stream",
     "text": [
      "apiVersion: v1\n",
      "kind: ServiceAccount\n",
      "metadata:\n",
      "  creationTimestamp: \"2021-01-28T10:00:50Z\"\n",
      "  name: default\n",
      "  namespace: default\n",
      "  resourceVersion: \"416\"\n",
      "  uid: ebd40c5d-e9e4-4e76-a52f-eb9e0a1c9d42\n",
      "secrets:\n",
      "- name: default-token-jt7hx\n"
     ]
    }
   ],
   "source": [
    "kubectl get serviceaccount default -o yaml"
   ]
  },
  {
   "cell_type": "code",
   "execution_count": 2,
   "metadata": {},
   "outputs": [
    {
     "name": "stdout",
     "output_type": "stream",
     "text": [
      "serviceaccount/default patched\n"
     ]
    }
   ],
   "source": [
    "kubectl patch serviceaccount default  --patch \"automountServiceAccountToken: false\""
   ]
  },
  {
   "cell_type": "code",
   "execution_count": 3,
   "metadata": {},
   "outputs": [
    {
     "name": "stdout",
     "output_type": "stream",
     "text": [
      "apiVersion: v1\n",
      "automountServiceAccountToken: false\n",
      "kind: ServiceAccount\n",
      "metadata:\n",
      "  creationTimestamp: \"2021-01-28T10:00:50Z\"\n",
      "  name: default\n",
      "  namespace: default\n",
      "  resourceVersion: \"2300\"\n",
      "  uid: ebd40c5d-e9e4-4e76-a52f-eb9e0a1c9d42\n",
      "secrets:\n",
      "- name: default-token-jt7hx\n"
     ]
    }
   ],
   "source": [
    "kubectl get serviceaccount default -o yaml"
   ]
  },
  {
   "cell_type": "markdown",
   "metadata": {},
   "source": [
    "# ☠️ **this can be overwritten** ☠️\n",
    "\n"
   ]
  },
  {
   "cell_type": "code",
   "execution_count": 13,
   "metadata": {},
   "outputs": [
    {
     "name": "stdout",
     "output_type": "stream",
     "text": [
      "deployment.apps/nginx-with-token-again configured\n"
     ]
    }
   ],
   "source": [
    "kubectl apply -f - <<EOF\n",
    "apiVersion: apps/v1\n",
    "kind: Deployment\n",
    "metadata:\n",
    "  name: nginx-with-token-again\n",
    "  labels:\n",
    "    app: nginx-with-token-again\n",
    "spec:\n",
    "  replicas: 1\n",
    "  selector:\n",
    "    matchLabels:\n",
    "      app: nginx-with-token-again\n",
    "  template:\n",
    "    metadata:\n",
    "      labels:\n",
    "        app: nginx-with-token-again\n",
    "    spec:\n",
    "      automountServiceAccountToken: true\n",
    "      containers:\n",
    "      - name: nginx\n",
    "        image: nginxinc/nginx-unprivileged\n",
    "        ports:\n",
    "        - containerPort: 8080\n",
    "EOF"
   ]
  },
  {
   "cell_type": "code",
   "execution_count": 15,
   "metadata": {},
   "outputs": [
    {
     "name": "stdout",
     "output_type": "stream",
     "text": [
      "nginx-with-token-again-66868cff8b-7llg6\n"
     ]
    }
   ],
   "source": [
    "POD=$(kubectl get pods -o jsonpath='{.items[0].metadata.name}' )\n",
    "echo $POD"
   ]
  },
  {
   "cell_type": "code",
   "execution_count": 16,
   "metadata": {},
   "outputs": [
    {
     "name": "stdout",
     "output_type": "stream",
     "text": [
      "Filesystem                    1K-blocks     Used Available Use% Mounted on\n",
      "overlay                        61796348 42447416  16186820  73% /\n",
      "tmpfs                             65536        0     65536   0% /dev\n",
      "tmpfs                           7893344        0   7893344   0% /sys/fs/cgroup\n",
      "/dev/mapper/sirius--vg-docker  61796348 42447416  16186820  73% /etc/hosts\n",
      "shm                               65536        0     65536   0% /dev/shm\n",
      "tmpfs                           7893344       12   7893332   1% /run/secrets/kubernetes.io/serviceaccount\n",
      "tmpfs                           7893344        0   7893344   0% /proc/acpi\n",
      "tmpfs                           7893344        0   7893344   0% /proc/scsi\n",
      "tmpfs                           7893344        0   7893344   0% /sys/firmware\n"
     ]
    }
   ],
   "source": [
    "kubectl exec  $POD -- df"
   ]
  },
  {
   "cell_type": "code",
   "execution_count": 19,
   "metadata": {},
   "outputs": [
    {
     "name": "stdout",
     "output_type": "stream",
     "text": [
      "    generateName: nginx-with-token-again-66868cff8b-\n",
      "      app: nginx-with-token-again\n",
      "          f:automountServiceAccountToken: {}\n",
      "    name: nginx-with-token-again-66868cff8b-7llg6\n",
      "      name: nginx-with-token-again-66868cff8b\n",
      "    automountServiceAccountToken: true\n",
      "        name: default-token-jt7hx\n",
      "    - name: default-token-jt7hx\n",
      "        secretName: default-token-jt7hx\n"
     ]
    }
   ],
   "source": [
    "kubectl get pods  -o yaml | grep -i token"
   ]
  },
  {
   "cell_type": "code",
   "execution_count": 24,
   "metadata": {},
   "outputs": [
    {
     "name": "stdout",
     "output_type": "stream",
     "text": [
      "true"
     ]
    }
   ],
   "source": [
    "kubectl get pods -A -o jsonpath='{.items[*].spec.automountServiceAccountToken}'"
   ]
  },
  {
   "cell_type": "code",
   "execution_count": null,
   "metadata": {},
   "outputs": [],
   "source": []
  }
 ],
 "metadata": {
  "kernelspec": {
   "display_name": "Bash",
   "language": "bash",
   "name": "bash"
  },
  "language_info": {
   "codemirror_mode": "shell",
   "file_extension": ".sh",
   "mimetype": "text/x-sh",
   "name": "bash"
  }
 },
 "nbformat": 4,
 "nbformat_minor": 5
}
