{
 "cells": [
  {
   "cell_type": "markdown",
   "id": "e77d247f",
   "metadata": {},
   "source": [
    "**This notebook covered by the following [license](License.ipynb)  This note must not be removed**"
   ]
  },
  {
   "cell_type": "markdown",
   "id": "4918bb26",
   "metadata": {},
   "source": [
    "# NGinx unprivileged\n",
    "\n",
    "We are using the [vendors original recipe](https://hub.docker.com/r/nginxinc/nginx-unprivileged), should be save ☠️\n",
    "\n"
   ]
  },
  {
   "cell_type": "code",
   "execution_count": 1,
   "id": "c0003111",
   "metadata": {},
   "outputs": [
    {
     "name": "stdout",
     "output_type": "stream",
     "text": [
      "deployment.apps \"nginx-strict\" deleted\n"
     ]
    }
   ],
   "source": [
    "kubectl apply -f - <<EOF\n",
    "apiVersion: apps/v1\n",
    "kind: Deployment\n",
    "metadata:\n",
    "  name: nginx-strict\n",
    "  labels:\n",
    "    app: nginx-strict\n",
    "spec:\n",
    "  replicas: 3\n",
    "  selector:\n",
    "    matchLabels:\n",
    "      app: nginx-strict\n",
    "  template:\n",
    "    metadata:\n",
    "      labels:\n",
    "        app: nginx-strict\n",
    "    spec:\n",
    "      containers:\n",
    "      - name: nginx\n",
    "        image: nginxinc/nginx-unprivileged\n",
    "        ports:\n",
    "        - containerPort: 8080\n",
    "EOF"
   ]
  },
  {
   "cell_type": "code",
   "execution_count": 2,
   "id": "6d2525cd",
   "metadata": {},
   "outputs": [
    {
     "name": "stdout",
     "output_type": "stream",
     "text": [
      "NAME                                      READY   STATUS              RESTARTS   AGE\n",
      "nginx-strict-5cdc48cf55-22svs             0/1     ContainerCreating   0          3s\n",
      "nginx-strict-5cdc48cf55-nn2kk             0/1     ContainerCreating   0          3s\n",
      "nginx-strict-5cdc48cf55-tfhv4             0/1     ContainerCreating   0          3s\n",
      "nginx-with-token-again-66868cff8b-24zjt   1/1     Running             0          41m\n"
     ]
    }
   ],
   "source": [
    "kubectl get pods"
   ]
  },
  {
   "cell_type": "code",
   "execution_count": 9,
   "id": "1fb507fa",
   "metadata": {},
   "outputs": [
    {
     "name": "stdout",
     "output_type": "stream",
     "text": [
      "service \"nginx-strict\" deleted\n"
     ]
    }
   ],
   "source": [
    "kubectl apply -f - <<EOF\n",
    "apiVersion: v1\n",
    "kind: Service\n",
    "metadata:\n",
    "  name: nginx-strict\n",
    "  namespace: default\n",
    "spec:\n",
    "  ports:\n",
    "  - port: 80\n",
    "    protocol: TCP\n",
    "    targetPort: 8080\n",
    "  selector:\n",
    "    app: nginx-strict\n",
    "  sessionAffinity: None\n",
    "  type: LoadBalancer\n",
    "EOF"
   ]
  },
  {
   "cell_type": "code",
   "execution_count": 5,
   "id": "761358bc",
   "metadata": {},
   "outputs": [
    {
     "name": "stdout",
     "output_type": "stream",
     "text": [
      "NAME           TYPE           CLUSTER-IP      EXTERNAL-IP     PORT(S)        AGE\n",
      "kubernetes     ClusterIP      10.96.0.1       <none>          443/TCP        43m\n",
      "nginx-strict   LoadBalancer   10.106.48.229   10.106.48.229   80:31767/TCP   27s\n"
     ]
    }
   ],
   "source": [
    "kubectl get svc"
   ]
  },
  {
   "cell_type": "code",
   "execution_count": null,
   "id": "7358795a-0c4e-4486-965e-a8dfcf5bdc9d",
   "metadata": {},
   "outputs": [],
   "source": [
    "kubectl get svc nginx-strict  "
   ]
  },
  {
   "cell_type": "code",
   "execution_count": 6,
   "id": "11d968a9",
   "metadata": {},
   "outputs": [
    {
     "name": "stdout",
     "output_type": "stream",
     "text": [
      "<!DOCTYPE html>\n",
      "<html>\n",
      "<head>\n",
      "<title>Welcome to nginx!</title>\n",
      "<style>\n",
      "html { color-scheme: light dark; }\n",
      "body { width: 35em; margin: 0 auto;\n",
      "font-family: Tahoma, Verdana, Arial, sans-serif; }\n",
      "</style>\n",
      "</head>\n",
      "<body>\n",
      "<h1>Welcome to nginx!</h1>\n",
      "<p>If you see this page, the nginx web server is successfully installed and\n",
      "working. Further configuration is required.</p>\n",
      "\n",
      "<p>For online documentation and support please refer to\n",
      "<a href=\"http://nginx.org/\">nginx.org</a>.<br/>\n",
      "Commercial support is available at\n",
      "<a href=\"http://nginx.com/\">nginx.com</a>.</p>\n",
      "\n",
      "<p><em>Thank you for using nginx.</em></p>\n",
      "</body>\n",
      "</html>\n"
     ]
    }
   ],
   "source": [
    "curl 10.106.48.229"
   ]
  },
  {
   "cell_type": "code",
   "execution_count": null,
   "id": "aa19135a-a8a4-4f99-b62a-28d5a3436e7d",
   "metadata": {},
   "outputs": [],
   "source": [
    "kubectl get svc nginx-strict -o yaml"
   ]
  },
  {
   "cell_type": "code",
   "execution_count": 7,
   "id": "7792fb73",
   "metadata": {},
   "outputs": [
    {
     "name": "stdout",
     "output_type": "stream",
     "text": [
      "Error from server (NotFound): deployments.apps \"my-nginx\" not found\n"
     ]
    },
    {
     "ename": "",
     "evalue": "1",
     "output_type": "error",
     "traceback": []
    }
   ],
   "source": [
    "kubectl delete deployment my-nginx"
   ]
  },
  {
   "cell_type": "code",
   "execution_count": null,
   "id": "26a1b17c",
   "metadata": {},
   "outputs": [],
   "source": [
    "kubectl delete service my-nginx"
   ]
  },
  {
   "cell_type": "code",
   "execution_count": null,
   "id": "0f78974e",
   "metadata": {},
   "outputs": [],
   "source": [
    "kubectl get pods -o jsonpath='{.items[0].metadata.name}' "
   ]
  },
  {
   "cell_type": "code",
   "execution_count": null,
   "id": "b9be6e67",
   "metadata": {},
   "outputs": [],
   "source": [
    "POD=$(kubectl get pods -o jsonpath='{.items[0].metadata.name}' | grep nginx-strict)\n",
    "echo $POD"
   ]
  },
  {
   "cell_type": "code",
   "execution_count": null,
   "id": "db35b2df",
   "metadata": {},
   "outputs": [],
   "source": [
    "kubectl exec $POD --  curl -L -o /tmp/kubectl https://dl.k8s.io/release/v1.20.0/bin/linux/amd64/kubectl"
   ]
  },
  {
   "cell_type": "code",
   "execution_count": null,
   "id": "6d036ec0",
   "metadata": {},
   "outputs": [],
   "source": [
    "kubectl exec $POD -- ls /tmp"
   ]
  },
  {
   "cell_type": "code",
   "execution_count": null,
   "id": "3fb6dd6f",
   "metadata": {},
   "outputs": [],
   "source": [
    "kubectl exec $POD -- chmod +x /tmp/kubectl"
   ]
  },
  {
   "cell_type": "code",
   "execution_count": null,
   "id": "e3509fc7",
   "metadata": {},
   "outputs": [],
   "source": [
    "kubectl exec $POD -- /tmp/kubectl"
   ]
  },
  {
   "cell_type": "code",
   "execution_count": null,
   "id": "be532896",
   "metadata": {},
   "outputs": [],
   "source": [
    "kubectl exec $POD -- /tmp/kubectl get pods "
   ]
  },
  {
   "cell_type": "code",
   "execution_count": null,
   "id": "1af8e962",
   "metadata": {},
   "outputs": [],
   "source": [
    "kubectl exec $POD  -- df"
   ]
  },
  {
   "cell_type": "code",
   "execution_count": null,
   "id": "cbd185b3",
   "metadata": {},
   "outputs": [],
   "source": [
    "kubectl get serviceaccounts -A"
   ]
  },
  {
   "cell_type": "markdown",
   "id": "4acd5a11",
   "metadata": {},
   "source": [
    "#  💀 💀 💀 💀 💀 💀 💀 💀 💀\n",
    "# 💀 💀 **Never Ever** 💀 💀 💀 \n",
    "#  💀 💀 💀 💀 💀 💀 💀 💀 💀\n"
   ]
  },
  {
   "cell_type": "code",
   "execution_count": null,
   "id": "0b587bd1",
   "metadata": {},
   "outputs": [],
   "source": [
    "kubectl create clusterrolebinding cluster-admin-binding --clusterrole cluster-admin --serviceaccount default:default"
   ]
  },
  {
   "cell_type": "code",
   "execution_count": null,
   "id": "14299867",
   "metadata": {},
   "outputs": [],
   "source": [
    "kubectl exec $POD -- /tmp/kubectl get pods -A"
   ]
  },
  {
   "cell_type": "code",
   "execution_count": null,
   "id": "0fa16a76",
   "metadata": {},
   "outputs": [],
   "source": [
    "kubectl exec $POD -- /tmp/kubectl run malicious --image=nginx"
   ]
  },
  {
   "cell_type": "code",
   "execution_count": null,
   "id": "89da4542",
   "metadata": {},
   "outputs": [],
   "source": [
    "kubectl get pod"
   ]
  },
  {
   "cell_type": "code",
   "execution_count": null,
   "id": "19a2f31f",
   "metadata": {},
   "outputs": [],
   "source": [
    "kubectl exec $POD -- /tmp/kubectl delete pod malicious "
   ]
  },
  {
   "cell_type": "code",
   "execution_count": null,
   "id": "fc2affdb",
   "metadata": {},
   "outputs": [],
   "source": [
    "kubectl get clusterroles"
   ]
  },
  {
   "cell_type": "code",
   "execution_count": null,
   "id": "83cab6a5",
   "metadata": {},
   "outputs": [],
   "source": [
    "kubectl get clusterrolebindings"
   ]
  },
  {
   "cell_type": "code",
   "execution_count": null,
   "id": "027654ad",
   "metadata": {},
   "outputs": [],
   "source": [
    "kubectl get clusterrolebindings cluster-admin-binding  -o yaml"
   ]
  },
  {
   "cell_type": "code",
   "execution_count": null,
   "id": "e4e15054",
   "metadata": {},
   "outputs": [],
   "source": [
    "kubectl get clusterrolebindings -o jsonpath='{.items[*].subjects[*].name}' | grep --color=always default"
   ]
  },
  {
   "cell_type": "code",
   "execution_count": null,
   "id": "4d8ea12c",
   "metadata": {},
   "outputs": [],
   "source": [
    "kubectl get clusterrolebindings -o jsonpath='{range .items[*]}{.metadata.name}{\":\\t\"}{.roleRef.name}{\" --> \"}{ range.subjects[*]}{.namespace}{\":\"}{.name}{end}{\"\\n\"}{end}' | grep --color=always -E '$|default|cluster-admin'"
   ]
  },
  {
   "cell_type": "code",
   "execution_count": null,
   "id": "01873716",
   "metadata": {},
   "outputs": [],
   "source": [
    "kubectl get rolebindings -A -o jsonpath='{range .items[*]}{.metadata.namespace}{\":\"}{.metadata.name}{\":\\t\"}{.roleRef.name}{\" --> \"}{ range.subjects[*]}{.namespace}{\":\"}{.name}{end}{\"\\n\"}{end}' | grep --color=always -E '$|default|cluster-admin'"
   ]
  },
  {
   "cell_type": "markdown",
   "id": "d12bb105",
   "metadata": {
    "tags": []
   },
   "source": [
    "[removing the serviceaccount token from the container](ServiceAccountToken.ipynb)\n",
    "\n",
    "[Endless Discussion](https://github.com/kubernetes/kubernetes/issues/57601#issuecomment-353824159)"
   ]
  },
  {
   "cell_type": "markdown",
   "id": "903034b6-2648-448a-943c-25c1879b82fc",
   "metadata": {},
   "source": [
    "# Cleanup"
   ]
  },
  {
   "cell_type": "code",
   "execution_count": null,
   "id": "af5df104",
   "metadata": {},
   "outputs": [],
   "source": [
    "kubectl delete clusterrolebinding cluster-admin-binding"
   ]
  },
  {
   "cell_type": "code",
   "execution_count": null,
   "id": "22bc8dfb-04db-4892-9594-1c0d770bd89e",
   "metadata": {},
   "outputs": [],
   "source": []
  }
 ],
 "metadata": {
  "kernelspec": {
   "display_name": "Bash",
   "language": "bash",
   "name": "bash"
  },
  "language_info": {
   "codemirror_mode": "shell",
   "file_extension": ".sh",
   "mimetype": "text/x-sh",
   "name": "bash"
  }
 },
 "nbformat": 4,
 "nbformat_minor": 5
}
